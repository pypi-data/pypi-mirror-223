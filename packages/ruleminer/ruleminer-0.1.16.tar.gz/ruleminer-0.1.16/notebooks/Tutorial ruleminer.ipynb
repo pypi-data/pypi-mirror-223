{
 "cells": [
  {
   "cell_type": "code",
   "execution_count": 1,
   "metadata": {
    "scrolled": true
   },
   "outputs": [],
   "source": [
    "import ruleminer\n",
    "import logging\n",
    "import sys\n",
    "import pandas as pd\n",
    "import numpy as np\n",
    "from datetime import datetime"
   ]
  },
  {
   "cell_type": "code",
   "execution_count": 2,
   "metadata": {},
   "outputs": [],
   "source": [
    "logging.basicConfig(stream=sys.stdout, \n",
    "                    format='%(asctime)s %(message)s',\n",
    "                    level=logging.INFO)"
   ]
  },
  {
   "cell_type": "code",
   "execution_count": 22,
   "metadata": {},
   "outputs": [],
   "source": [
    "df = pd.DataFrame(\n",
    "    columns=[\n",
    "        \"Name\",\n",
    "        \"Type\",\n",
    "        \"Assets\",\n",
    "        \"TV-life\",\n",
    "        \"TV-nonlife\",\n",
    "        \"Own funds\",\n",
    "        \"Excess\",\n",
    "    ],\n",
    "    data=[\n",
    "        [\"Insurer1\", \"life insurer\", 1000, 800, 0, 200, 200],\n",
    "        [\"Insurer2\", \"non-life insurer\", 4000, 0, 3200, 800, 800],\n",
    "        [\"Insurer3\", \"non-life insurer\", 800, 0, 700, 100, 100],\n",
    "        [\"Insurer4\", \"life insurer\", 2500, 1800, 0, 700, 700],\n",
    "        [\"Insurer5\", \"non-life insurer\", 2100, 0, 2200, 200, 200],\n",
    "        [\"Insurer6\", \"life insurer\", 9000, 8800, 0, 200, 200],\n",
    "        [\"Insurer7\", \"life insurer\", 9000, 8800, 0, 200, 200],\n",
    "        [\"Insurer8\", \"life insurer\", 9000, 8800, 0, 200, 200],\n",
    "        [\"Insurer9\", \"non-life insurer\", 9000, 8800, 0, 200, 200],\n",
    "        [\"Insurer10\", \"non-life insurer\", 9000, 0, 8800, 200, 199.99],\n",
    "    ],\n",
    ")\n",
    "# for i in range(0, 15):\n",
    "#     df = df.append(df, ignore_index=True)"
   ]
  },
  {
   "cell_type": "code",
   "execution_count": 23,
   "metadata": {
    "scrolled": false
   },
   "outputs": [
    {
     "data": {
      "text/html": [
       "<div>\n",
       "<style scoped>\n",
       "    .dataframe tbody tr th:only-of-type {\n",
       "        vertical-align: middle;\n",
       "    }\n",
       "\n",
       "    .dataframe tbody tr th {\n",
       "        vertical-align: top;\n",
       "    }\n",
       "\n",
       "    .dataframe thead th {\n",
       "        text-align: right;\n",
       "    }\n",
       "</style>\n",
       "<table border=\"1\" class=\"dataframe\">\n",
       "  <thead>\n",
       "    <tr style=\"text-align: right;\">\n",
       "      <th></th>\n",
       "      <th>Name</th>\n",
       "      <th>Type</th>\n",
       "      <th>Assets</th>\n",
       "      <th>TV-life</th>\n",
       "      <th>TV-nonlife</th>\n",
       "      <th>Own funds</th>\n",
       "      <th>Excess</th>\n",
       "    </tr>\n",
       "  </thead>\n",
       "  <tbody>\n",
       "    <tr>\n",
       "      <th>0</th>\n",
       "      <td>Insurer1</td>\n",
       "      <td>life insurer</td>\n",
       "      <td>1000</td>\n",
       "      <td>800</td>\n",
       "      <td>0</td>\n",
       "      <td>200</td>\n",
       "      <td>200.00</td>\n",
       "    </tr>\n",
       "    <tr>\n",
       "      <th>1</th>\n",
       "      <td>Insurer2</td>\n",
       "      <td>non-life insurer</td>\n",
       "      <td>4000</td>\n",
       "      <td>0</td>\n",
       "      <td>3200</td>\n",
       "      <td>800</td>\n",
       "      <td>800.00</td>\n",
       "    </tr>\n",
       "    <tr>\n",
       "      <th>2</th>\n",
       "      <td>Insurer3</td>\n",
       "      <td>non-life insurer</td>\n",
       "      <td>800</td>\n",
       "      <td>0</td>\n",
       "      <td>700</td>\n",
       "      <td>100</td>\n",
       "      <td>100.00</td>\n",
       "    </tr>\n",
       "    <tr>\n",
       "      <th>3</th>\n",
       "      <td>Insurer4</td>\n",
       "      <td>life insurer</td>\n",
       "      <td>2500</td>\n",
       "      <td>1800</td>\n",
       "      <td>0</td>\n",
       "      <td>700</td>\n",
       "      <td>700.00</td>\n",
       "    </tr>\n",
       "    <tr>\n",
       "      <th>4</th>\n",
       "      <td>Insurer5</td>\n",
       "      <td>non-life insurer</td>\n",
       "      <td>2100</td>\n",
       "      <td>0</td>\n",
       "      <td>2200</td>\n",
       "      <td>200</td>\n",
       "      <td>200.00</td>\n",
       "    </tr>\n",
       "    <tr>\n",
       "      <th>5</th>\n",
       "      <td>Insurer6</td>\n",
       "      <td>life insurer</td>\n",
       "      <td>9000</td>\n",
       "      <td>8800</td>\n",
       "      <td>0</td>\n",
       "      <td>200</td>\n",
       "      <td>200.00</td>\n",
       "    </tr>\n",
       "    <tr>\n",
       "      <th>6</th>\n",
       "      <td>Insurer7</td>\n",
       "      <td>life insurer</td>\n",
       "      <td>9000</td>\n",
       "      <td>8800</td>\n",
       "      <td>0</td>\n",
       "      <td>200</td>\n",
       "      <td>200.00</td>\n",
       "    </tr>\n",
       "    <tr>\n",
       "      <th>7</th>\n",
       "      <td>Insurer8</td>\n",
       "      <td>life insurer</td>\n",
       "      <td>9000</td>\n",
       "      <td>8800</td>\n",
       "      <td>0</td>\n",
       "      <td>200</td>\n",
       "      <td>200.00</td>\n",
       "    </tr>\n",
       "    <tr>\n",
       "      <th>8</th>\n",
       "      <td>Insurer9</td>\n",
       "      <td>non-life insurer</td>\n",
       "      <td>9000</td>\n",
       "      <td>8800</td>\n",
       "      <td>0</td>\n",
       "      <td>200</td>\n",
       "      <td>200.00</td>\n",
       "    </tr>\n",
       "    <tr>\n",
       "      <th>9</th>\n",
       "      <td>Insurer10</td>\n",
       "      <td>non-life insurer</td>\n",
       "      <td>9000</td>\n",
       "      <td>0</td>\n",
       "      <td>8800</td>\n",
       "      <td>200</td>\n",
       "      <td>199.99</td>\n",
       "    </tr>\n",
       "  </tbody>\n",
       "</table>\n",
       "</div>"
      ],
      "text/plain": [
       "        Name              Type  Assets  TV-life  TV-nonlife  Own funds  Excess\n",
       "0   Insurer1      life insurer    1000      800           0        200  200.00\n",
       "1   Insurer2  non-life insurer    4000        0        3200        800  800.00\n",
       "2   Insurer3  non-life insurer     800        0         700        100  100.00\n",
       "3   Insurer4      life insurer    2500     1800           0        700  700.00\n",
       "4   Insurer5  non-life insurer    2100        0        2200        200  200.00\n",
       "5   Insurer6      life insurer    9000     8800           0        200  200.00\n",
       "6   Insurer7      life insurer    9000     8800           0        200  200.00\n",
       "7   Insurer8      life insurer    9000     8800           0        200  200.00\n",
       "8   Insurer9  non-life insurer    9000     8800           0        200  200.00\n",
       "9  Insurer10  non-life insurer    9000        0        8800        200  199.99"
      ]
     },
     "execution_count": 23,
     "metadata": {},
     "output_type": "execute_result"
    }
   ],
   "source": [
    "df"
   ]
  },
  {
   "cell_type": "code",
   "execution_count": 24,
   "metadata": {},
   "outputs": [],
   "source": [
    "# templates = [{'expression': 'if (((?P<col>[{\".*\"}]) == \".*\") or ((?P=col)==\".*\")) then ({\".*\"} == 0)'}]\n",
    "# r = ruleminer.RuleMiner(templates=templates, data=df)"
   ]
  },
  {
   "cell_type": "code",
   "execution_count": 25,
   "metadata": {},
   "outputs": [],
   "source": [
    "# import re\n",
    "# a = re.search('.*?P<([a-z]+)>.*', 'if (((?P<col>{\".*\"}) == \".*\") or ((?P=col)==\".*\")) then ({\".*\"} == 0)')\n",
    "# print(a.group(1))"
   ]
  },
  {
   "cell_type": "code",
   "execution_count": 52,
   "metadata": {
    "scrolled": true
   },
   "outputs": [
    {
     "name": "stdout",
     "output_type": "stream",
     "text": [
      "2023-08-03 09:43:33,852 Expression for if-part ([['{\".*\"}', '==', '\".*\"']]) generated\n",
      "2023-08-03 09:43:33,904 Finished\n"
     ]
    },
    {
     "data": {
      "text/html": [
       "<div>\n",
       "<style scoped>\n",
       "    .dataframe tbody tr th:only-of-type {\n",
       "        vertical-align: middle;\n",
       "    }\n",
       "\n",
       "    .dataframe tbody tr th {\n",
       "        vertical-align: top;\n",
       "    }\n",
       "\n",
       "    .dataframe thead th {\n",
       "        text-align: right;\n",
       "    }\n",
       "</style>\n",
       "<table border=\"1\" class=\"dataframe\">\n",
       "  <thead>\n",
       "    <tr style=\"text-align: right;\">\n",
       "      <th></th>\n",
       "      <th>rule_id</th>\n",
       "      <th>rule_group</th>\n",
       "      <th>rule_definition</th>\n",
       "      <th>rule_status</th>\n",
       "      <th>abs support</th>\n",
       "      <th>abs exceptions</th>\n",
       "      <th>confidence</th>\n",
       "      <th>encodings</th>\n",
       "    </tr>\n",
       "  </thead>\n",
       "  <tbody>\n",
       "    <tr>\n",
       "      <th>0</th>\n",
       "      <td>0</td>\n",
       "      <td>0</td>\n",
       "      <td>if({\"Name\"}==\"Insurer1\")then({\"None\"}==0)</td>\n",
       "      <td></td>\n",
       "      <td>1</td>\n",
       "      <td>0</td>\n",
       "      <td>1.0</td>\n",
       "      <td>{}</td>\n",
       "    </tr>\n",
       "    <tr>\n",
       "      <th>1</th>\n",
       "      <td>1</td>\n",
       "      <td>0</td>\n",
       "      <td>if({\"Name\"}==\"Insurer2\")then({\"None\"}==0)</td>\n",
       "      <td></td>\n",
       "      <td>0</td>\n",
       "      <td>1</td>\n",
       "      <td>0.0</td>\n",
       "      <td>{}</td>\n",
       "    </tr>\n",
       "    <tr>\n",
       "      <th>2</th>\n",
       "      <td>2</td>\n",
       "      <td>0</td>\n",
       "      <td>if({\"Name\"}==\"Insurer3\")then({\"None\"}==0)</td>\n",
       "      <td></td>\n",
       "      <td>0</td>\n",
       "      <td>1</td>\n",
       "      <td>0.0</td>\n",
       "      <td>{}</td>\n",
       "    </tr>\n",
       "    <tr>\n",
       "      <th>3</th>\n",
       "      <td>3</td>\n",
       "      <td>0</td>\n",
       "      <td>if({\"Name\"}==\"Insurer4\")then({\"None\"}==0)</td>\n",
       "      <td></td>\n",
       "      <td>0</td>\n",
       "      <td>1</td>\n",
       "      <td>0.0</td>\n",
       "      <td>{}</td>\n",
       "    </tr>\n",
       "    <tr>\n",
       "      <th>4</th>\n",
       "      <td>4</td>\n",
       "      <td>0</td>\n",
       "      <td>if({\"Name\"}==\"Insurer5\")then({\"None\"}==0)</td>\n",
       "      <td></td>\n",
       "      <td>0</td>\n",
       "      <td>1</td>\n",
       "      <td>0.0</td>\n",
       "      <td>{}</td>\n",
       "    </tr>\n",
       "    <tr>\n",
       "      <th>5</th>\n",
       "      <td>5</td>\n",
       "      <td>0</td>\n",
       "      <td>if({\"Name\"}==\"Insurer6\")then({\"None\"}==0)</td>\n",
       "      <td></td>\n",
       "      <td>0</td>\n",
       "      <td>1</td>\n",
       "      <td>0.0</td>\n",
       "      <td>{}</td>\n",
       "    </tr>\n",
       "    <tr>\n",
       "      <th>6</th>\n",
       "      <td>6</td>\n",
       "      <td>0</td>\n",
       "      <td>if({\"Name\"}==\"Insurer7\")then({\"None\"}==0)</td>\n",
       "      <td></td>\n",
       "      <td>0</td>\n",
       "      <td>1</td>\n",
       "      <td>0.0</td>\n",
       "      <td>{}</td>\n",
       "    </tr>\n",
       "    <tr>\n",
       "      <th>7</th>\n",
       "      <td>7</td>\n",
       "      <td>0</td>\n",
       "      <td>if({\"Name\"}==\"Insurer8\")then({\"None\"}==0)</td>\n",
       "      <td></td>\n",
       "      <td>0</td>\n",
       "      <td>1</td>\n",
       "      <td>0.0</td>\n",
       "      <td>{}</td>\n",
       "    </tr>\n",
       "    <tr>\n",
       "      <th>8</th>\n",
       "      <td>8</td>\n",
       "      <td>0</td>\n",
       "      <td>if({\"Name\"}==\"Insurer9\")then({\"None\"}==0)</td>\n",
       "      <td></td>\n",
       "      <td>0</td>\n",
       "      <td>1</td>\n",
       "      <td>0.0</td>\n",
       "      <td>{}</td>\n",
       "    </tr>\n",
       "    <tr>\n",
       "      <th>9</th>\n",
       "      <td>9</td>\n",
       "      <td>0</td>\n",
       "      <td>if({\"Name\"}==\"Insurer10\")then({\"None\"}==0)</td>\n",
       "      <td></td>\n",
       "      <td>0</td>\n",
       "      <td>1</td>\n",
       "      <td>0.0</td>\n",
       "      <td>{}</td>\n",
       "    </tr>\n",
       "    <tr>\n",
       "      <th>10</th>\n",
       "      <td>10</td>\n",
       "      <td>0</td>\n",
       "      <td>if({\"Type\"}==\"life insurer\")then({\"None\"}==0)</td>\n",
       "      <td></td>\n",
       "      <td>1</td>\n",
       "      <td>4</td>\n",
       "      <td>0.2</td>\n",
       "      <td>{}</td>\n",
       "    </tr>\n",
       "    <tr>\n",
       "      <th>11</th>\n",
       "      <td>11</td>\n",
       "      <td>0</td>\n",
       "      <td>if({\"Type\"}==\"non-life insurer\")then({\"None\"}==0)</td>\n",
       "      <td></td>\n",
       "      <td>0</td>\n",
       "      <td>5</td>\n",
       "      <td>0.0</td>\n",
       "      <td>{}</td>\n",
       "    </tr>\n",
       "  </tbody>\n",
       "</table>\n",
       "</div>"
      ],
      "text/plain": [
       "   rule_id rule_group                                    rule_definition  \\\n",
       "0        0          0          if({\"Name\"}==\"Insurer1\")then({\"None\"}==0)   \n",
       "1        1          0          if({\"Name\"}==\"Insurer2\")then({\"None\"}==0)   \n",
       "2        2          0          if({\"Name\"}==\"Insurer3\")then({\"None\"}==0)   \n",
       "3        3          0          if({\"Name\"}==\"Insurer4\")then({\"None\"}==0)   \n",
       "4        4          0          if({\"Name\"}==\"Insurer5\")then({\"None\"}==0)   \n",
       "5        5          0          if({\"Name\"}==\"Insurer6\")then({\"None\"}==0)   \n",
       "6        6          0          if({\"Name\"}==\"Insurer7\")then({\"None\"}==0)   \n",
       "7        7          0          if({\"Name\"}==\"Insurer8\")then({\"None\"}==0)   \n",
       "8        8          0          if({\"Name\"}==\"Insurer9\")then({\"None\"}==0)   \n",
       "9        9          0         if({\"Name\"}==\"Insurer10\")then({\"None\"}==0)   \n",
       "10      10          0      if({\"Type\"}==\"life insurer\")then({\"None\"}==0)   \n",
       "11      11          0  if({\"Type\"}==\"non-life insurer\")then({\"None\"}==0)   \n",
       "\n",
       "   rule_status abs support abs exceptions  confidence encodings  \n",
       "0                        1              0         1.0        {}  \n",
       "1                        0              1         0.0        {}  \n",
       "2                        0              1         0.0        {}  \n",
       "3                        0              1         0.0        {}  \n",
       "4                        0              1         0.0        {}  \n",
       "5                        0              1         0.0        {}  \n",
       "6                        0              1         0.0        {}  \n",
       "7                        0              1         0.0        {}  \n",
       "8                        0              1         0.0        {}  \n",
       "9                        0              1         0.0        {}  \n",
       "10                       1              4         0.2        {}  \n",
       "11                       0              5         0.0        {}  "
      ]
     },
     "execution_count": 52,
     "metadata": {},
     "output_type": "execute_result"
    }
   ],
   "source": [
    "params = {'filter': {'abs support': 0, 'confidence': 0}}\n",
    "templates = [{'expression': 'if ({\".*\"} == \".*\") then ({\".*\"} == 0)'}]\n",
    "r = ruleminer.RuleMiner(templates=templates, data=df, params=params)\n",
    "r.rules"
   ]
  },
  {
   "cell_type": "code",
   "execution_count": 53,
   "metadata": {},
   "outputs": [],
   "source": [
    "# templates = [{'expression': 'if ({\".*\"} in [\".*\"]) then ({\".*\"} == 0)'}]\n",
    "# r = ruleminer.RuleMiner(templates=templates, data=df)\n",
    "# r.rules"
   ]
  },
  {
   "cell_type": "code",
   "execution_count": 28,
   "metadata": {},
   "outputs": [
    {
     "data": {
      "text/html": [
       "<div>\n",
       "<style scoped>\n",
       "    .dataframe tbody tr th:only-of-type {\n",
       "        vertical-align: middle;\n",
       "    }\n",
       "\n",
       "    .dataframe tbody tr th {\n",
       "        vertical-align: top;\n",
       "    }\n",
       "\n",
       "    .dataframe thead th {\n",
       "        text-align: right;\n",
       "    }\n",
       "</style>\n",
       "<table border=\"1\" class=\"dataframe\">\n",
       "  <thead>\n",
       "    <tr style=\"text-align: right;\">\n",
       "      <th></th>\n",
       "      <th>Name</th>\n",
       "      <th>Type</th>\n",
       "      <th>Assets</th>\n",
       "      <th>TV-life</th>\n",
       "      <th>TV-nonlife</th>\n",
       "      <th>Own funds</th>\n",
       "      <th>Excess</th>\n",
       "    </tr>\n",
       "  </thead>\n",
       "  <tbody>\n",
       "    <tr>\n",
       "      <th>0</th>\n",
       "      <td>Insurer1</td>\n",
       "      <td>life insurer</td>\n",
       "      <td>1000</td>\n",
       "      <td>800</td>\n",
       "      <td>0</td>\n",
       "      <td>200</td>\n",
       "      <td>200.00</td>\n",
       "    </tr>\n",
       "    <tr>\n",
       "      <th>1</th>\n",
       "      <td>Insurer2</td>\n",
       "      <td>non-life insurer</td>\n",
       "      <td>4000</td>\n",
       "      <td>0</td>\n",
       "      <td>3200</td>\n",
       "      <td>800</td>\n",
       "      <td>800.00</td>\n",
       "    </tr>\n",
       "    <tr>\n",
       "      <th>2</th>\n",
       "      <td>Insurer3</td>\n",
       "      <td>non-life insurer</td>\n",
       "      <td>800</td>\n",
       "      <td>0</td>\n",
       "      <td>700</td>\n",
       "      <td>100</td>\n",
       "      <td>100.00</td>\n",
       "    </tr>\n",
       "    <tr>\n",
       "      <th>3</th>\n",
       "      <td>Insurer4</td>\n",
       "      <td>life insurer</td>\n",
       "      <td>2500</td>\n",
       "      <td>1800</td>\n",
       "      <td>0</td>\n",
       "      <td>700</td>\n",
       "      <td>700.00</td>\n",
       "    </tr>\n",
       "    <tr>\n",
       "      <th>4</th>\n",
       "      <td>Insurer5</td>\n",
       "      <td>non-life insurer</td>\n",
       "      <td>2100</td>\n",
       "      <td>0</td>\n",
       "      <td>2200</td>\n",
       "      <td>200</td>\n",
       "      <td>200.00</td>\n",
       "    </tr>\n",
       "    <tr>\n",
       "      <th>5</th>\n",
       "      <td>Insurer6</td>\n",
       "      <td>life insurer</td>\n",
       "      <td>9000</td>\n",
       "      <td>8800</td>\n",
       "      <td>0</td>\n",
       "      <td>200</td>\n",
       "      <td>200.00</td>\n",
       "    </tr>\n",
       "    <tr>\n",
       "      <th>6</th>\n",
       "      <td>Insurer7</td>\n",
       "      <td>life insurer</td>\n",
       "      <td>9000</td>\n",
       "      <td>8800</td>\n",
       "      <td>0</td>\n",
       "      <td>200</td>\n",
       "      <td>200.00</td>\n",
       "    </tr>\n",
       "    <tr>\n",
       "      <th>7</th>\n",
       "      <td>Insurer8</td>\n",
       "      <td>life insurer</td>\n",
       "      <td>9000</td>\n",
       "      <td>8800</td>\n",
       "      <td>0</td>\n",
       "      <td>200</td>\n",
       "      <td>200.00</td>\n",
       "    </tr>\n",
       "    <tr>\n",
       "      <th>8</th>\n",
       "      <td>Insurer9</td>\n",
       "      <td>non-life insurer</td>\n",
       "      <td>9000</td>\n",
       "      <td>8800</td>\n",
       "      <td>0</td>\n",
       "      <td>200</td>\n",
       "      <td>200.00</td>\n",
       "    </tr>\n",
       "    <tr>\n",
       "      <th>9</th>\n",
       "      <td>Insurer10</td>\n",
       "      <td>non-life insurer</td>\n",
       "      <td>9000</td>\n",
       "      <td>0</td>\n",
       "      <td>8800</td>\n",
       "      <td>200</td>\n",
       "      <td>199.99</td>\n",
       "    </tr>\n",
       "  </tbody>\n",
       "</table>\n",
       "</div>"
      ],
      "text/plain": [
       "        Name              Type  Assets  TV-life  TV-nonlife  Own funds  Excess\n",
       "0   Insurer1      life insurer    1000      800           0        200  200.00\n",
       "1   Insurer2  non-life insurer    4000        0        3200        800  800.00\n",
       "2   Insurer3  non-life insurer     800        0         700        100  100.00\n",
       "3   Insurer4      life insurer    2500     1800           0        700  700.00\n",
       "4   Insurer5  non-life insurer    2100        0        2200        200  200.00\n",
       "5   Insurer6      life insurer    9000     8800           0        200  200.00\n",
       "6   Insurer7      life insurer    9000     8800           0        200  200.00\n",
       "7   Insurer8      life insurer    9000     8800           0        200  200.00\n",
       "8   Insurer9  non-life insurer    9000     8800           0        200  200.00\n",
       "9  Insurer10  non-life insurer    9000        0        8800        200  199.99"
      ]
     },
     "execution_count": 28,
     "metadata": {},
     "output_type": "execute_result"
    }
   ],
   "source": [
    "df"
   ]
  },
  {
   "cell_type": "code",
   "execution_count": 29,
   "metadata": {},
   "outputs": [
    {
     "name": "stdout",
     "output_type": "stream",
     "text": [
      "2023-08-03 09:39:26,828 Expression for if-part () generated\n",
      "2023-08-03 09:39:26,833 Finished\n"
     ]
    },
    {
     "data": {
      "text/html": [
       "<div>\n",
       "<style scoped>\n",
       "    .dataframe tbody tr th:only-of-type {\n",
       "        vertical-align: middle;\n",
       "    }\n",
       "\n",
       "    .dataframe tbody tr th {\n",
       "        vertical-align: top;\n",
       "    }\n",
       "\n",
       "    .dataframe thead th {\n",
       "        text-align: right;\n",
       "    }\n",
       "</style>\n",
       "<table border=\"1\" class=\"dataframe\">\n",
       "  <thead>\n",
       "    <tr style=\"text-align: right;\">\n",
       "      <th></th>\n",
       "      <th>rule_id</th>\n",
       "      <th>rule_group</th>\n",
       "      <th>rule_definition</th>\n",
       "      <th>rule_status</th>\n",
       "      <th>abs support</th>\n",
       "      <th>abs exceptions</th>\n",
       "      <th>confidence</th>\n",
       "      <th>encodings</th>\n",
       "    </tr>\n",
       "  </thead>\n",
       "  <tbody>\n",
       "    <tr>\n",
       "      <th>0</th>\n",
       "      <td>0</td>\n",
       "      <td>0</td>\n",
       "      <td>if () then ({\"Own funds\"}&lt;=quantile({\"Own fund...</td>\n",
       "      <td></td>\n",
       "      <td>9</td>\n",
       "      <td>1</td>\n",
       "      <td>0.9</td>\n",
       "      <td>{}</td>\n",
       "    </tr>\n",
       "  </tbody>\n",
       "</table>\n",
       "</div>"
      ],
      "text/plain": [
       "  rule_id rule_group                                    rule_definition  \\\n",
       "0       0          0  if () then ({\"Own funds\"}<=quantile({\"Own fund...   \n",
       "\n",
       "  rule_status abs support abs exceptions  confidence encodings  \n",
       "0                       9              1         0.9        {}  "
      ]
     },
     "execution_count": 29,
     "metadata": {},
     "output_type": "execute_result"
    }
   ],
   "source": [
    "templates = [{'expression': '({\"Own funds\"} <= quantile({\"Own funds\"}, 0.95))'}]\n",
    "r = ruleminer.RuleMiner(templates=templates, data=df)\n",
    "r.rules"
   ]
  },
  {
   "cell_type": "code",
   "execution_count": 30,
   "metadata": {},
   "outputs": [
    {
     "name": "stdout",
     "output_type": "stream",
     "text": [
      "2023-08-03 09:39:27,168 Expression for if-part () generated\n",
      "2023-08-03 09:39:27,173 Finished\n"
     ]
    },
    {
     "data": {
      "text/html": [
       "<div>\n",
       "<style scoped>\n",
       "    .dataframe tbody tr th:only-of-type {\n",
       "        vertical-align: middle;\n",
       "    }\n",
       "\n",
       "    .dataframe tbody tr th {\n",
       "        vertical-align: top;\n",
       "    }\n",
       "\n",
       "    .dataframe thead th {\n",
       "        text-align: right;\n",
       "    }\n",
       "</style>\n",
       "<table border=\"1\" class=\"dataframe\">\n",
       "  <thead>\n",
       "    <tr style=\"text-align: right;\">\n",
       "      <th></th>\n",
       "      <th>rule_id</th>\n",
       "      <th>rule_group</th>\n",
       "      <th>rule_definition</th>\n",
       "      <th>rule_status</th>\n",
       "      <th>abs support</th>\n",
       "      <th>abs exceptions</th>\n",
       "      <th>confidence</th>\n",
       "      <th>encodings</th>\n",
       "    </tr>\n",
       "  </thead>\n",
       "  <tbody>\n",
       "    <tr>\n",
       "      <th>0</th>\n",
       "      <td>0</td>\n",
       "      <td>0</td>\n",
       "      <td>if () then ({\"Own funds\"}&lt;=755.0)</td>\n",
       "      <td></td>\n",
       "      <td>9</td>\n",
       "      <td>1</td>\n",
       "      <td>0.9</td>\n",
       "      <td>{}</td>\n",
       "    </tr>\n",
       "  </tbody>\n",
       "</table>\n",
       "</div>"
      ],
      "text/plain": [
       "  rule_id rule_group                    rule_definition rule_status  \\\n",
       "0       0          0  if () then ({\"Own funds\"}<=755.0)               \n",
       "\n",
       "  abs support abs exceptions  confidence encodings  \n",
       "0           9              1         0.9        {}  "
      ]
     },
     "execution_count": 30,
     "metadata": {},
     "output_type": "execute_result"
    }
   ],
   "source": [
    "templates = [{'expression': '({\"Own funds\"} <= quantile({\"Own funds\"}, 0.95))'}]\n",
    "r = ruleminer.RuleMiner(templates=templates, data=df,  \n",
    "             params= {'evaluate_quantile': True})\n",
    "r.rules"
   ]
  },
  {
   "cell_type": "code",
   "execution_count": 31,
   "metadata": {
    "scrolled": true
   },
   "outputs": [
    {
     "name": "stdout",
     "output_type": "stream",
     "text": [
      "2023-08-03 09:39:27,957 Expression for if-part () generated\n",
      "2023-08-03 09:39:27,976 Finished\n"
     ]
    }
   ],
   "source": [
    "templates = [{'expression': '(max({\".*\"}, {\".*\"})=={\".*\"})'}]\n",
    "r = ruleminer.RuleMiner(templates=templates, data=df)"
   ]
  },
  {
   "cell_type": "code",
   "execution_count": 32,
   "metadata": {},
   "outputs": [
    {
     "data": {
      "text/html": [
       "<div>\n",
       "<style scoped>\n",
       "    .dataframe tbody tr th:only-of-type {\n",
       "        vertical-align: middle;\n",
       "    }\n",
       "\n",
       "    .dataframe tbody tr th {\n",
       "        vertical-align: top;\n",
       "    }\n",
       "\n",
       "    .dataframe thead th {\n",
       "        text-align: right;\n",
       "    }\n",
       "</style>\n",
       "<table border=\"1\" class=\"dataframe\">\n",
       "  <thead>\n",
       "    <tr style=\"text-align: right;\">\n",
       "      <th></th>\n",
       "      <th>rule_id</th>\n",
       "      <th>rule_group</th>\n",
       "      <th>rule_definition</th>\n",
       "      <th>rule_status</th>\n",
       "      <th>abs support</th>\n",
       "      <th>abs exceptions</th>\n",
       "      <th>confidence</th>\n",
       "      <th>encodings</th>\n",
       "    </tr>\n",
       "  </thead>\n",
       "  <tbody>\n",
       "    <tr>\n",
       "      <th>0</th>\n",
       "      <td>0</td>\n",
       "      <td>0</td>\n",
       "      <td>if () then (max({\"None\"},{\"None\"})=={\"None\"})</td>\n",
       "      <td></td>\n",
       "      <td>10</td>\n",
       "      <td>0</td>\n",
       "      <td>1.0</td>\n",
       "      <td>{}</td>\n",
       "    </tr>\n",
       "  </tbody>\n",
       "</table>\n",
       "</div>"
      ],
      "text/plain": [
       "  rule_id rule_group                                rule_definition  \\\n",
       "0       0          0  if () then (max({\"None\"},{\"None\"})=={\"None\"})   \n",
       "\n",
       "  rule_status abs support abs exceptions  confidence encodings  \n",
       "0                      10              0         1.0        {}  "
      ]
     },
     "execution_count": 32,
     "metadata": {},
     "output_type": "execute_result"
    }
   ],
   "source": [
    "r.rules"
   ]
  },
  {
   "cell_type": "code",
   "execution_count": 33,
   "metadata": {
    "scrolled": true
   },
   "outputs": [
    {
     "name": "stdout",
     "output_type": "stream",
     "text": [
      "2023-08-03 09:39:30,848 Expression for if-part ([['{\".*\"}', '==', '\".*\"']]) generated\n",
      "2023-08-03 09:39:30,887 Finished\n"
     ]
    }
   ],
   "source": [
    "params = {'metrics': ['rule power factor', 'added value', 'abs support', 'abs exceptions', 'confidence']}\n",
    "templates = [{'expression': 'if ({\".*\"} == \".*\") then ({\"TV.*\"} > 0)'}]\n",
    "r = ruleminer.RuleMiner(templates=templates, data=df, params=params)"
   ]
  },
  {
   "cell_type": "code",
   "execution_count": 34,
   "metadata": {},
   "outputs": [
    {
     "data": {
      "text/html": [
       "<div>\n",
       "<style scoped>\n",
       "    .dataframe tbody tr th:only-of-type {\n",
       "        vertical-align: middle;\n",
       "    }\n",
       "\n",
       "    .dataframe tbody tr th {\n",
       "        vertical-align: top;\n",
       "    }\n",
       "\n",
       "    .dataframe thead th {\n",
       "        text-align: right;\n",
       "    }\n",
       "</style>\n",
       "<table border=\"1\" class=\"dataframe\">\n",
       "  <thead>\n",
       "    <tr style=\"text-align: right;\">\n",
       "      <th></th>\n",
       "      <th>rule_id</th>\n",
       "      <th>rule_group</th>\n",
       "      <th>rule_definition</th>\n",
       "      <th>rule_status</th>\n",
       "      <th>rule power factor</th>\n",
       "      <th>added value</th>\n",
       "      <th>abs support</th>\n",
       "      <th>abs exceptions</th>\n",
       "      <th>confidence</th>\n",
       "      <th>encodings</th>\n",
       "    </tr>\n",
       "  </thead>\n",
       "  <tbody>\n",
       "    <tr>\n",
       "      <th>0</th>\n",
       "      <td>0</td>\n",
       "      <td>0</td>\n",
       "      <td>if({\"Type\"}==\"non-life insurer\")then({\"TV-nonl...</td>\n",
       "      <td></td>\n",
       "      <td>0.32</td>\n",
       "      <td>0.4</td>\n",
       "      <td>4</td>\n",
       "      <td>1</td>\n",
       "      <td>0.8</td>\n",
       "      <td>{}</td>\n",
       "    </tr>\n",
       "  </tbody>\n",
       "</table>\n",
       "</div>"
      ],
      "text/plain": [
       "  rule_id rule_group                                    rule_definition  \\\n",
       "0       0          0  if({\"Type\"}==\"non-life insurer\")then({\"TV-nonl...   \n",
       "\n",
       "  rule_status  rule power factor  added value abs support abs exceptions  \\\n",
       "0                           0.32          0.4           4              1   \n",
       "\n",
       "   confidence encodings  \n",
       "0         0.8        {}  "
      ]
     },
     "execution_count": 34,
     "metadata": {},
     "output_type": "execute_result"
    }
   ],
   "source": [
    "r.rules"
   ]
  },
  {
   "cell_type": "code",
   "execution_count": 35,
   "metadata": {},
   "outputs": [
    {
     "name": "stdout",
     "output_type": "stream",
     "text": [
      "[Int64Index([1, 2, 4, 9], dtype='int64'), Int64Index([1, 2, 4, 8, 9], dtype='int64'), Int64Index([8], dtype='int64')]\n"
     ]
    },
    {
     "data": {
      "text/html": [
       "<div>\n",
       "<style scoped>\n",
       "    .dataframe tbody tr th:only-of-type {\n",
       "        vertical-align: middle;\n",
       "    }\n",
       "\n",
       "    .dataframe tbody tr th {\n",
       "        vertical-align: top;\n",
       "    }\n",
       "\n",
       "    .dataframe thead th {\n",
       "        text-align: right;\n",
       "    }\n",
       "</style>\n",
       "<table border=\"1\" class=\"dataframe\">\n",
       "  <thead>\n",
       "    <tr style=\"text-align: right;\">\n",
       "      <th></th>\n",
       "      <th>rule_id</th>\n",
       "      <th>rule_group</th>\n",
       "      <th>rule_definition</th>\n",
       "      <th>rule_status</th>\n",
       "      <th>abs support</th>\n",
       "      <th>abs exceptions</th>\n",
       "      <th>confidence</th>\n",
       "      <th>result</th>\n",
       "      <th>indices</th>\n",
       "    </tr>\n",
       "  </thead>\n",
       "  <tbody>\n",
       "    <tr>\n",
       "      <th>0</th>\n",
       "      <td>0</td>\n",
       "      <td>0</td>\n",
       "      <td>if({\"Type\"}==\"non-life insurer\")then({\"TV-nonl...</td>\n",
       "      <td></td>\n",
       "      <td>4</td>\n",
       "      <td>1</td>\n",
       "      <td>0.8</td>\n",
       "      <td>True</td>\n",
       "      <td>1</td>\n",
       "    </tr>\n",
       "    <tr>\n",
       "      <th>1</th>\n",
       "      <td>0</td>\n",
       "      <td>0</td>\n",
       "      <td>if({\"Type\"}==\"non-life insurer\")then({\"TV-nonl...</td>\n",
       "      <td></td>\n",
       "      <td>4</td>\n",
       "      <td>1</td>\n",
       "      <td>0.8</td>\n",
       "      <td>True</td>\n",
       "      <td>2</td>\n",
       "    </tr>\n",
       "    <tr>\n",
       "      <th>2</th>\n",
       "      <td>0</td>\n",
       "      <td>0</td>\n",
       "      <td>if({\"Type\"}==\"non-life insurer\")then({\"TV-nonl...</td>\n",
       "      <td></td>\n",
       "      <td>4</td>\n",
       "      <td>1</td>\n",
       "      <td>0.8</td>\n",
       "      <td>True</td>\n",
       "      <td>4</td>\n",
       "    </tr>\n",
       "    <tr>\n",
       "      <th>3</th>\n",
       "      <td>0</td>\n",
       "      <td>0</td>\n",
       "      <td>if({\"Type\"}==\"non-life insurer\")then({\"TV-nonl...</td>\n",
       "      <td></td>\n",
       "      <td>4</td>\n",
       "      <td>1</td>\n",
       "      <td>0.8</td>\n",
       "      <td>True</td>\n",
       "      <td>9</td>\n",
       "    </tr>\n",
       "    <tr>\n",
       "      <th>4</th>\n",
       "      <td>0</td>\n",
       "      <td>0</td>\n",
       "      <td>if({\"Type\"}==\"non-life insurer\")then({\"TV-nonl...</td>\n",
       "      <td></td>\n",
       "      <td>4</td>\n",
       "      <td>1</td>\n",
       "      <td>0.8</td>\n",
       "      <td>False</td>\n",
       "      <td>8</td>\n",
       "    </tr>\n",
       "  </tbody>\n",
       "</table>\n",
       "</div>"
      ],
      "text/plain": [
       "  rule_id rule_group                                    rule_definition  \\\n",
       "0       0          0  if({\"Type\"}==\"non-life insurer\")then({\"TV-nonl...   \n",
       "1       0          0  if({\"Type\"}==\"non-life insurer\")then({\"TV-nonl...   \n",
       "2       0          0  if({\"Type\"}==\"non-life insurer\")then({\"TV-nonl...   \n",
       "3       0          0  if({\"Type\"}==\"non-life insurer\")then({\"TV-nonl...   \n",
       "4       0          0  if({\"Type\"}==\"non-life insurer\")then({\"TV-nonl...   \n",
       "\n",
       "  rule_status abs support abs exceptions  confidence  result indices  \n",
       "0                       4              1         0.8    True       1  \n",
       "1                       4              1         0.8    True       2  \n",
       "2                       4              1         0.8    True       4  \n",
       "3                       4              1         0.8    True       9  \n",
       "4                       4              1         0.8   False       8  "
      ]
     },
     "execution_count": 35,
     "metadata": {},
     "output_type": "execute_result"
    }
   ],
   "source": [
    "r.evaluate()"
   ]
  },
  {
   "cell_type": "code",
   "execution_count": 36,
   "metadata": {
    "scrolled": true
   },
   "outputs": [
    {
     "name": "stdout",
     "output_type": "stream",
     "text": [
      "2023-08-03 09:39:45,712 Expression for if-part () generated\n",
      "2023-08-03 09:39:45,717 Finished\n"
     ]
    },
    {
     "data": {
      "text/html": [
       "<div>\n",
       "<style scoped>\n",
       "    .dataframe tbody tr th:only-of-type {\n",
       "        vertical-align: middle;\n",
       "    }\n",
       "\n",
       "    .dataframe tbody tr th {\n",
       "        vertical-align: top;\n",
       "    }\n",
       "\n",
       "    .dataframe thead th {\n",
       "        text-align: right;\n",
       "    }\n",
       "</style>\n",
       "<table border=\"1\" class=\"dataframe\">\n",
       "  <thead>\n",
       "    <tr style=\"text-align: right;\">\n",
       "      <th></th>\n",
       "      <th>rule_id</th>\n",
       "      <th>rule_group</th>\n",
       "      <th>rule_definition</th>\n",
       "      <th>rule_status</th>\n",
       "      <th>abs support</th>\n",
       "      <th>abs exceptions</th>\n",
       "      <th>confidence</th>\n",
       "      <th>encodings</th>\n",
       "    </tr>\n",
       "  </thead>\n",
       "  <tbody>\n",
       "    <tr>\n",
       "      <th>0</th>\n",
       "      <td>0</td>\n",
       "      <td>simple</td>\n",
       "      <td>if () then ({\"None\"}&gt;=0)</td>\n",
       "      <td></td>\n",
       "      <td>10</td>\n",
       "      <td>0</td>\n",
       "      <td>1.0</td>\n",
       "      <td>{}</td>\n",
       "    </tr>\n",
       "  </tbody>\n",
       "</table>\n",
       "</div>"
      ],
      "text/plain": [
       "  rule_id rule_group           rule_definition rule_status abs support  \\\n",
       "0       0     simple  if () then ({\"None\"}>=0)                      10   \n",
       "\n",
       "  abs exceptions  confidence encodings  \n",
       "0              0         1.0        {}  "
      ]
     },
     "execution_count": 36,
     "metadata": {},
     "output_type": "execute_result"
    }
   ],
   "source": [
    "templates = [{'group': 'simple', 'expression': '({\".*\"} >= 0)'}]\n",
    "r = ruleminer.RuleMiner(templates=templates, data=df)\n",
    "r.rules"
   ]
  },
  {
   "cell_type": "code",
   "execution_count": 37,
   "metadata": {
    "scrolled": true
   },
   "outputs": [
    {
     "name": "stdout",
     "output_type": "stream",
     "text": [
      "2023-08-03 09:39:46,622 Expression for if-part () generated\n",
      "2023-08-03 09:39:46,628 Finished\n"
     ]
    },
    {
     "data": {
      "text/html": [
       "<div>\n",
       "<style scoped>\n",
       "    .dataframe tbody tr th:only-of-type {\n",
       "        vertical-align: middle;\n",
       "    }\n",
       "\n",
       "    .dataframe tbody tr th {\n",
       "        vertical-align: top;\n",
       "    }\n",
       "\n",
       "    .dataframe thead th {\n",
       "        text-align: right;\n",
       "    }\n",
       "</style>\n",
       "<table border=\"1\" class=\"dataframe\">\n",
       "  <thead>\n",
       "    <tr style=\"text-align: right;\">\n",
       "      <th></th>\n",
       "      <th>rule_id</th>\n",
       "      <th>rule_group</th>\n",
       "      <th>rule_definition</th>\n",
       "      <th>rule_status</th>\n",
       "      <th>abs support</th>\n",
       "      <th>abs exceptions</th>\n",
       "      <th>confidence</th>\n",
       "      <th>encodings</th>\n",
       "    </tr>\n",
       "  </thead>\n",
       "  <tbody>\n",
       "    <tr>\n",
       "      <th>0</th>\n",
       "      <td>0</td>\n",
       "      <td>simple</td>\n",
       "      <td>if () then (abs(({\"None\"})-({\"None\"})) &lt;= 0.0015)</td>\n",
       "      <td></td>\n",
       "      <td>10</td>\n",
       "      <td>0</td>\n",
       "      <td>1.0</td>\n",
       "      <td>{}</td>\n",
       "    </tr>\n",
       "  </tbody>\n",
       "</table>\n",
       "</div>"
      ],
      "text/plain": [
       "  rule_id rule_group                                    rule_definition  \\\n",
       "0       0     simple  if () then (abs(({\"None\"})-({\"None\"})) <= 0.0015)   \n",
       "\n",
       "  rule_status abs support abs exceptions  confidence encodings  \n",
       "0                      10              0         1.0        {}  "
      ]
     },
     "execution_count": 37,
     "metadata": {},
     "output_type": "execute_result"
    }
   ],
   "source": [
    "templates = [{'group': 'simple', 'expression': '({\".*\"} == {\".*\"})'}]\n",
    "r = ruleminer.RuleMiner(templates=templates, data=df, params={'decimal': 3})\n",
    "r.rules"
   ]
  },
  {
   "cell_type": "code",
   "execution_count": 38,
   "metadata": {
    "scrolled": true
   },
   "outputs": [
    {
     "name": "stdout",
     "output_type": "stream",
     "text": [
      "2023-08-03 09:39:47,336 Expression for if-part () generated\n",
      "2023-08-03 09:39:47,437 Finished\n"
     ]
    },
    {
     "data": {
      "text/html": [
       "<div>\n",
       "<style scoped>\n",
       "    .dataframe tbody tr th:only-of-type {\n",
       "        vertical-align: middle;\n",
       "    }\n",
       "\n",
       "    .dataframe tbody tr th {\n",
       "        vertical-align: top;\n",
       "    }\n",
       "\n",
       "    .dataframe thead th {\n",
       "        text-align: right;\n",
       "    }\n",
       "</style>\n",
       "<table border=\"1\" class=\"dataframe\">\n",
       "  <thead>\n",
       "    <tr style=\"text-align: right;\">\n",
       "      <th></th>\n",
       "      <th>rule_id</th>\n",
       "      <th>rule_group</th>\n",
       "      <th>rule_definition</th>\n",
       "      <th>rule_status</th>\n",
       "      <th>abs support</th>\n",
       "      <th>abs exceptions</th>\n",
       "      <th>confidence</th>\n",
       "      <th>encodings</th>\n",
       "    </tr>\n",
       "  </thead>\n",
       "  <tbody>\n",
       "  </tbody>\n",
       "</table>\n",
       "</div>"
      ],
      "text/plain": [
       "Empty DataFrame\n",
       "Columns: [rule_id, rule_group, rule_definition, rule_status, abs support, abs exceptions, confidence, encodings]\n",
       "Index: []"
      ]
     },
     "execution_count": 38,
     "metadata": {},
     "output_type": "execute_result"
    }
   ],
   "source": [
    "templates = [{'group': 'simple', 'expression': '(({\".*\"} + {\".*\"} * {\".*\"})=={\".*\"})'}]\n",
    "r = ruleminer.RuleMiner(templates=templates, data=df)\n",
    "r.rules"
   ]
  },
  {
   "cell_type": "code",
   "execution_count": 39,
   "metadata": {},
   "outputs": [
    {
     "name": "stdout",
     "output_type": "stream",
     "text": [
      "2023-08-03 09:39:47,926 Expression for if-part ([['{\"Type\"}', '==', '\".*\"']]) generated\n",
      "2023-08-03 09:39:47,983 Expression for if-part ([['{\".*\"}', '==', '\".*\"']]) generated\n",
      "2023-08-03 09:39:48,016 Finished\n"
     ]
    },
    {
     "data": {
      "text/html": [
       "<div>\n",
       "<style scoped>\n",
       "    .dataframe tbody tr th:only-of-type {\n",
       "        vertical-align: middle;\n",
       "    }\n",
       "\n",
       "    .dataframe tbody tr th {\n",
       "        vertical-align: top;\n",
       "    }\n",
       "\n",
       "    .dataframe thead th {\n",
       "        text-align: right;\n",
       "    }\n",
       "</style>\n",
       "<table border=\"1\" class=\"dataframe\">\n",
       "  <thead>\n",
       "    <tr style=\"text-align: right;\">\n",
       "      <th></th>\n",
       "      <th>rule_id</th>\n",
       "      <th>rule_group</th>\n",
       "      <th>rule_definition</th>\n",
       "      <th>rule_status</th>\n",
       "      <th>abs support</th>\n",
       "      <th>abs exceptions</th>\n",
       "      <th>confidence</th>\n",
       "      <th>encodings</th>\n",
       "    </tr>\n",
       "  </thead>\n",
       "  <tbody>\n",
       "  </tbody>\n",
       "</table>\n",
       "</div>"
      ],
      "text/plain": [
       "Empty DataFrame\n",
       "Columns: [rule_id, rule_group, rule_definition, rule_status, abs support, abs exceptions, confidence, encodings]\n",
       "Index: []"
      ]
     },
     "execution_count": 39,
     "metadata": {},
     "output_type": "execute_result"
    }
   ],
   "source": [
    "templates = [{'group': 'simple', 'expression': 'if ({\"Type\"} == \".*\") then ({\".*\"} == 0)'},\n",
    "             {'group': 'complex', 'expression': 'if ({\".*\"} == \".*\") then ({\".*\"} == 0)'}]\n",
    "r = ruleminer.RuleMiner(templates=templates, data=df)\n",
    "r.rules"
   ]
  },
  {
   "cell_type": "code",
   "execution_count": 41,
   "metadata": {},
   "outputs": [
    {
     "name": "stdout",
     "output_type": "stream",
     "text": [
      "2023-08-03 09:39:55,182 Expression for if-part ([[['{\"T.*\"}', '==', '\".*\"'], '&', ['{\"T.*\"}', '==', '0'], '&', ['{\"T.*\"}', '==', '0'], '&', ['{\"T.*\"}', '==', '0']]]) generated\n",
      "2023-08-03 09:39:55,372 Finished\n"
     ]
    }
   ],
   "source": [
    "templates = [{'expression': 'if (({\"T.*\"} == \".*\") & ({\"T.*\"} == 0) & ({\"T.*\"} == 0) & ({\"T.*\"} == 0)) then ({\"TV.*\"} > 0)'}]\n",
    "r = ruleminer.RuleMiner(templates=templates, data=df, params = {'metrics': ['casual confidence', 'abs support', 'abs exceptions', 'confidence']})"
   ]
  },
  {
   "cell_type": "code",
   "execution_count": 42,
   "metadata": {},
   "outputs": [
    {
     "data": {
      "text/html": [
       "<div>\n",
       "<style scoped>\n",
       "    .dataframe tbody tr th:only-of-type {\n",
       "        vertical-align: middle;\n",
       "    }\n",
       "\n",
       "    .dataframe tbody tr th {\n",
       "        vertical-align: top;\n",
       "    }\n",
       "\n",
       "    .dataframe thead th {\n",
       "        text-align: right;\n",
       "    }\n",
       "</style>\n",
       "<table border=\"1\" class=\"dataframe\">\n",
       "  <thead>\n",
       "    <tr style=\"text-align: right;\">\n",
       "      <th></th>\n",
       "      <th>rule_id</th>\n",
       "      <th>rule_group</th>\n",
       "      <th>rule_definition</th>\n",
       "      <th>rule_status</th>\n",
       "      <th>casual confidence</th>\n",
       "      <th>abs support</th>\n",
       "      <th>abs exceptions</th>\n",
       "      <th>confidence</th>\n",
       "      <th>encodings</th>\n",
       "    </tr>\n",
       "  </thead>\n",
       "  <tbody>\n",
       "    <tr>\n",
       "      <th>0</th>\n",
       "      <td>0</td>\n",
       "      <td>0</td>\n",
       "      <td>if(({\"Type\"}==\"non-life insurer\")&amp;({\"TV-life\"}...</td>\n",
       "      <td></td>\n",
       "      <td>1.0</td>\n",
       "      <td>4</td>\n",
       "      <td>0</td>\n",
       "      <td>1.0</td>\n",
       "      <td>{}</td>\n",
       "    </tr>\n",
       "  </tbody>\n",
       "</table>\n",
       "</div>"
      ],
      "text/plain": [
       "  rule_id rule_group                                    rule_definition  \\\n",
       "0       0          0  if(({\"Type\"}==\"non-life insurer\")&({\"TV-life\"}...   \n",
       "\n",
       "  rule_status  casual confidence abs support abs exceptions  confidence  \\\n",
       "0                            1.0           4              0         1.0   \n",
       "\n",
       "  encodings  \n",
       "0        {}  "
      ]
     },
     "execution_count": 42,
     "metadata": {},
     "output_type": "execute_result"
    }
   ],
   "source": [
    "r.rules"
   ]
  },
  {
   "cell_type": "code",
   "execution_count": 43,
   "metadata": {},
   "outputs": [
    {
     "name": "stdout",
     "output_type": "stream",
     "text": [
      "2023-08-03 09:39:58,110 Expression for if-part () generated\n",
      "2023-08-03 09:39:58,114 Finished\n",
      "2023-08-03 09:39:58,153 Expression for if-part () generated\n"
     ]
    }
   ],
   "source": [
    "templates = [{'expression': '({\".*\"} > {\".*\"})'}]\n",
    "r = ruleminer.RuleMiner(templates=templates, data=df, params = {'metrics': ['support', 'abs support', 'confidence']})\n",
    "r.generate()"
   ]
  },
  {
   "cell_type": "code",
   "execution_count": 44,
   "metadata": {},
   "outputs": [
    {
     "data": {
      "text/html": [
       "<div>\n",
       "<style scoped>\n",
       "    .dataframe tbody tr th:only-of-type {\n",
       "        vertical-align: middle;\n",
       "    }\n",
       "\n",
       "    .dataframe tbody tr th {\n",
       "        vertical-align: top;\n",
       "    }\n",
       "\n",
       "    .dataframe thead th {\n",
       "        text-align: right;\n",
       "    }\n",
       "</style>\n",
       "<table border=\"1\" class=\"dataframe\">\n",
       "  <thead>\n",
       "    <tr style=\"text-align: right;\">\n",
       "      <th></th>\n",
       "      <th>rule_id</th>\n",
       "      <th>rule_group</th>\n",
       "      <th>rule_definition</th>\n",
       "      <th>rule_status</th>\n",
       "      <th>support</th>\n",
       "      <th>abs support</th>\n",
       "      <th>confidence</th>\n",
       "      <th>encodings</th>\n",
       "    </tr>\n",
       "  </thead>\n",
       "  <tbody>\n",
       "  </tbody>\n",
       "</table>\n",
       "</div>"
      ],
      "text/plain": [
       "Empty DataFrame\n",
       "Columns: [rule_id, rule_group, rule_definition, rule_status, support, abs support, confidence, encodings]\n",
       "Index: []"
      ]
     },
     "execution_count": 44,
     "metadata": {},
     "output_type": "execute_result"
    }
   ],
   "source": [
    "r.rules"
   ]
  },
  {
   "cell_type": "code",
   "execution_count": 45,
   "metadata": {
    "scrolled": true
   },
   "outputs": [
    {
     "name": "stdout",
     "output_type": "stream",
     "text": [
      "2023-08-03 09:39:59,504 Expression for if-part () generated\n",
      "2023-08-03 09:39:59,517 Finished\n"
     ]
    }
   ],
   "source": [
    "templates = [{'expression': '(({\".*\"}+{\".*\"}) == {\".*\"})'}]\n",
    "r = ruleminer.RuleMiner(templates=templates, data=df)"
   ]
  },
  {
   "cell_type": "code",
   "execution_count": 46,
   "metadata": {},
   "outputs": [
    {
     "data": {
      "text/html": [
       "<div>\n",
       "<style scoped>\n",
       "    .dataframe tbody tr th:only-of-type {\n",
       "        vertical-align: middle;\n",
       "    }\n",
       "\n",
       "    .dataframe tbody tr th {\n",
       "        vertical-align: top;\n",
       "    }\n",
       "\n",
       "    .dataframe thead th {\n",
       "        text-align: right;\n",
       "    }\n",
       "</style>\n",
       "<table border=\"1\" class=\"dataframe\">\n",
       "  <thead>\n",
       "    <tr style=\"text-align: right;\">\n",
       "      <th></th>\n",
       "      <th>rule_id</th>\n",
       "      <th>rule_group</th>\n",
       "      <th>rule_definition</th>\n",
       "      <th>rule_status</th>\n",
       "      <th>abs support</th>\n",
       "      <th>abs exceptions</th>\n",
       "      <th>confidence</th>\n",
       "      <th>encodings</th>\n",
       "    </tr>\n",
       "  </thead>\n",
       "  <tbody>\n",
       "  </tbody>\n",
       "</table>\n",
       "</div>"
      ],
      "text/plain": [
       "Empty DataFrame\n",
       "Columns: [rule_id, rule_group, rule_definition, rule_status, abs support, abs exceptions, confidence, encodings]\n",
       "Index: []"
      ]
     },
     "execution_count": 46,
     "metadata": {},
     "output_type": "execute_result"
    }
   ],
   "source": [
    "r.rules"
   ]
  },
  {
   "cell_type": "code",
   "execution_count": 47,
   "metadata": {},
   "outputs": [
    {
     "name": "stdout",
     "output_type": "stream",
     "text": [
      "2023-08-03 09:40:00,961 Expression for if-part ([['{\"Type\"}', '==', '\".*\"']]) generated\n",
      "2023-08-03 09:40:01,122 Expression for if-part ([['{\".*\"}', '==', '\".*\"']]) generated\n",
      "2023-08-03 09:40:01,137 Finished\n"
     ]
    }
   ],
   "source": [
    "templates = [{'group': 'simple', 'expression': 'if ({\"Type\"} == \".*\") then ({\".*\"} == 0)'},\n",
    "             {'group': 'complex', 'expression': 'if ({\".*\"} == \".*\") then ({\".*\"} == 0)'}]\n",
    "r = ruleminer.RuleMiner(templates=templates, data=df, params={\"result_expressions\": True})\n",
    "r.evaluate()\n",
    "assert r is not None"
   ]
  },
  {
   "cell_type": "code",
   "execution_count": 48,
   "metadata": {
    "scrolled": true
   },
   "outputs": [
    {
     "data": {
      "text/html": [
       "<div>\n",
       "<style scoped>\n",
       "    .dataframe tbody tr th:only-of-type {\n",
       "        vertical-align: middle;\n",
       "    }\n",
       "\n",
       "    .dataframe tbody tr th {\n",
       "        vertical-align: top;\n",
       "    }\n",
       "\n",
       "    .dataframe thead th {\n",
       "        text-align: right;\n",
       "    }\n",
       "</style>\n",
       "<table border=\"1\" class=\"dataframe\">\n",
       "  <thead>\n",
       "    <tr style=\"text-align: right;\">\n",
       "      <th></th>\n",
       "      <th>rule_id</th>\n",
       "      <th>rule_group</th>\n",
       "      <th>rule_definition</th>\n",
       "      <th>rule_status</th>\n",
       "      <th>abs support</th>\n",
       "      <th>abs exceptions</th>\n",
       "      <th>confidence</th>\n",
       "      <th>encodings</th>\n",
       "    </tr>\n",
       "  </thead>\n",
       "  <tbody>\n",
       "  </tbody>\n",
       "</table>\n",
       "</div>"
      ],
      "text/plain": [
       "Empty DataFrame\n",
       "Columns: [rule_id, rule_group, rule_definition, rule_status, abs support, abs exceptions, confidence, encodings]\n",
       "Index: []"
      ]
     },
     "execution_count": 48,
     "metadata": {},
     "output_type": "execute_result"
    }
   ],
   "source": [
    "r.rules"
   ]
  },
  {
   "cell_type": "code",
   "execution_count": null,
   "metadata": {},
   "outputs": [],
   "source": [
    "templates = [{'group': 'simple', 'expression': 'if ({\"Name\"} == \"Insurer2\") then ({\"Type\"} == \".*\")'}]\n",
    "r = ruleminer.RuleMiner(templates=templates, data=df, params={\"result_expressions\": True})\n",
    "r.evaluate()\n",
    "assert r is not None"
   ]
  },
  {
   "cell_type": "code",
   "execution_count": null,
   "metadata": {},
   "outputs": [],
   "source": [
    "r.rules"
   ]
  },
  {
   "cell_type": "code",
   "execution_count": null,
   "metadata": {},
   "outputs": [],
   "source": []
  },
  {
   "cell_type": "code",
   "execution_count": null,
   "metadata": {},
   "outputs": [],
   "source": []
  }
 ],
 "metadata": {
  "kernelspec": {
   "display_name": "Python 3 (ipykernel)",
   "language": "python",
   "name": "python3"
  },
  "language_info": {
   "codemirror_mode": {
    "name": "ipython",
    "version": 3
   },
   "file_extension": ".py",
   "mimetype": "text/x-python",
   "name": "python",
   "nbconvert_exporter": "python",
   "pygments_lexer": "ipython3",
   "version": "3.9.13"
  }
 },
 "nbformat": 4,
 "nbformat_minor": 2
}
