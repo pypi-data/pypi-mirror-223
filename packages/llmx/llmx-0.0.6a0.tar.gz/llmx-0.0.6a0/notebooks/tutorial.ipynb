{
 "cells": [
  {
   "cell_type": "code",
   "execution_count": 2,
   "metadata": {},
   "outputs": [],
   "source": [
    "from llmx import  text_generator as generator\n",
    "from llmx.datamodel import TextGenerationConfig"
   ]
  },
  {
   "cell_type": "code",
   "execution_count": 3,
   "metadata": {},
   "outputs": [],
   "source": [
    "config = TextGenerationConfig( \n",
    "    n=1,\n",
    "    temperature=0.8,\n",
    "    max_tokens=100,\n",
    "    top_p=1.0,\n",
    "    top_k=50,\n",
    "    frequency_penalty=0.0,\n",
    "    presence_penalty=0.0,\n",
    ")\n",
    "messages =  messages = [\n",
    "    {\"role\": \"system\", \"content\": \"You are a helpful assistant that can explain concepts clearly to a 6 year old child.\"},\n",
    "    {\"role\": \"user\", \"content\": \"What is  gravity?\"}\n",
    "]"
   ]
  },
  {
   "attachments": {},
   "cell_type": "markdown",
   "metadata": {},
   "source": [
    "## Multiple Providers - OpenAI, PaLM etc"
   ]
  },
  {
   "cell_type": "code",
   "execution_count": 4,
   "metadata": {},
   "outputs": [
    {
     "name": "stdout",
     "output_type": "stream",
     "text": [
      "Gravity is like a special invisible force that pulls things towards each other. It's what keeps us on the ground instead of floating off into space! It's also what makes things fall when you drop them. Imagine if you're holding a toy and you let it go, it falls down, right? That's gravity pulling it towards the ground.\n"
     ]
    }
   ],
   "source": [
    "openai_gen = generator(provider=\"openai\")\n",
    "openai_config = TextGenerationConfig(model=\"gpt-4\", use_cache=True)\n",
    "openai_response = openai_gen.generate(messages, config=openai_config)\n",
    "print(openai_response.text[0].content)"
   ]
  },
  {
   "cell_type": "code",
   "execution_count": 5,
   "metadata": {},
   "outputs": [
    {
     "name": "stdout",
     "output_type": "stream",
     "text": [
      "Gravity is a force that pulls things down to Earth. It's what makes things fall down when you drop them, and it's what keeps the moon in orbit around the Earth. Gravity is a very strong force, but it's also\n"
     ]
    }
   ],
   "source": [
    "palm_gen = generator(provider=\"palm\")\n",
    "palm_config = TextGenerationConfig(model=\"codechat-bison\", temperature=0, max_tokens=50, use_cache=False)\n",
    "palm_response = palm_gen.generate(messages, config=palm_config)\n",
    "print(palm_response.text[0].content)"
   ]
  },
  {
   "cell_type": "code",
   "execution_count": 6,
   "metadata": {},
   "outputs": [
    {
     "name": "stdout",
     "output_type": "stream",
     "text": [
      "Gravity is a force that pulls things together. It's what makes things fall to the ground and what holds us on the earth. It's also what makes the moon orbit the earth and the planets orbit the sun. Gravity is a fundamental force of nature\n"
     ]
    }
   ],
   "source": [
    "cohere_gen = generator(provider=\"cohere\")\n",
    "cohere_config = TextGenerationConfig(model=\"command\", max_tokens=50, use_cache=True)\n",
    "cohere_response = cohere_gen.generate(messages, config=cohere_config)\n",
    "print(cohere_response.text[0].content)"
   ]
  }
 ],
 "metadata": {
  "kernelspec": {
   "display_name": "base",
   "language": "python",
   "name": "python3"
  },
  "language_info": {
   "codemirror_mode": {
    "name": "ipython",
    "version": 3
   },
   "file_extension": ".py",
   "mimetype": "text/x-python",
   "name": "python",
   "nbconvert_exporter": "python",
   "pygments_lexer": "ipython3",
   "version": "3.11.4"
  },
  "orig_nbformat": 4
 },
 "nbformat": 4,
 "nbformat_minor": 2
}
