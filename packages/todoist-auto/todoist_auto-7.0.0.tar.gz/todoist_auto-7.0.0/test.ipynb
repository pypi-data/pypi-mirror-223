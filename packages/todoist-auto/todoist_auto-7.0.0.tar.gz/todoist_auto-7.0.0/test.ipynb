{
 "cells": [
  {
   "cell_type": "code",
   "execution_count": 1,
   "id": "initial_id",
   "metadata": {
    "collapsed": true,
    "ExecuteTime": {
     "end_time": "2023-08-08T06:46:47.810510Z",
     "start_time": "2023-08-08T06:46:31.773166Z"
    }
   },
   "outputs": [
    {
     "name": "stdout",
     "output_type": "stream",
     "text": [
      "Requirement already satisfied: pip in /Users/mahdi/.pyenv/versions/3.11.4/envs/g/lib/python3.11/site-packages (23.2.1)\r\n",
      "Collecting todoist_auto\r\n",
      "  Obtaining dependency information for todoist_auto from https://files.pythonhosted.org/packages/61/62/d9b4d81e2c466eca683b09959eb908f514709312ec46fdcec4f80cc78601/todoist_auto-6.0.3-py2.py3-none-any.whl.metadata\r\n",
      "  Downloading todoist_auto-6.0.3-py2.py3-none-any.whl.metadata (1.6 kB)\r\n",
      "Requirement already satisfied: mtok==1.1.1 in /Users/mahdi/.pyenv/versions/3.11.4/envs/g/lib/python3.11/site-packages (from todoist_auto) (1.1.1)\r\n",
      "Requirement already satisfied: pandas in /Users/mahdi/.pyenv/versions/3.11.4/envs/g/lib/python3.11/site-packages (from todoist_auto) (2.0.3)\r\n",
      "Requirement already satisfied: pytz in /Users/mahdi/.pyenv/versions/3.11.4/envs/g/lib/python3.11/site-packages (from todoist_auto) (2023.3)\r\n",
      "Requirement already satisfied: requests in /Users/mahdi/.pyenv/versions/3.11.4/envs/g/lib/python3.11/site-packages (from todoist_auto) (2.31.0)\r\n",
      "Requirement already satisfied: todoist-api-python in /Users/mahdi/.pyenv/versions/3.11.4/envs/g/lib/python3.11/site-packages (from todoist_auto) (2.0.2)\r\n",
      "Requirement already satisfied: python-dateutil>=2.8.2 in /Users/mahdi/.pyenv/versions/3.11.4/envs/g/lib/python3.11/site-packages (from pandas->todoist_auto) (2.8.2)\r\n",
      "Requirement already satisfied: tzdata>=2022.1 in /Users/mahdi/.pyenv/versions/3.11.4/envs/g/lib/python3.11/site-packages (from pandas->todoist_auto) (2023.3)\r\n",
      "Requirement already satisfied: numpy>=1.21.0 in /Users/mahdi/.pyenv/versions/3.11.4/envs/g/lib/python3.11/site-packages (from pandas->todoist_auto) (1.25.0)\r\n",
      "Requirement already satisfied: charset-normalizer<4,>=2 in /Users/mahdi/.pyenv/versions/3.11.4/envs/g/lib/python3.11/site-packages (from requests->todoist_auto) (3.1.0)\r\n",
      "Requirement already satisfied: idna<4,>=2.5 in /Users/mahdi/.pyenv/versions/3.11.4/envs/g/lib/python3.11/site-packages (from requests->todoist_auto) (3.4)\r\n",
      "Requirement already satisfied: urllib3<3,>=1.21.1 in /Users/mahdi/.pyenv/versions/3.11.4/envs/g/lib/python3.11/site-packages (from requests->todoist_auto) (1.26.16)\r\n",
      "Requirement already satisfied: certifi>=2017.4.17 in /Users/mahdi/.pyenv/versions/3.11.4/envs/g/lib/python3.11/site-packages (from requests->todoist_auto) (2023.5.7)\r\n",
      "Requirement already satisfied: attrs<23.0.0,>=22.0.0 in /Users/mahdi/.pyenv/versions/3.11.4/envs/g/lib/python3.11/site-packages (from todoist-api-python->todoist_auto) (22.2.0)\r\n",
      "Requirement already satisfied: six>=1.5 in /Users/mahdi/.pyenv/versions/3.11.4/envs/g/lib/python3.11/site-packages (from python-dateutil>=2.8.2->pandas->todoist_auto) (1.16.0)\r\n",
      "Downloading todoist_auto-6.0.3-py2.py3-none-any.whl (8.4 kB)\r\n",
      "Installing collected packages: todoist_auto\r\n",
      "Successfully installed todoist_auto-6.0.3\r\n"
     ]
    }
   ],
   "source": [
    "!pip install --upgrade pip todoist_auto"
   ]
  },
  {
   "cell_type": "code",
   "execution_count": 2,
   "outputs": [
    {
     "name": "stdout",
     "output_type": "stream",
     "text": [
      "All sections created.\r\n",
      "routine.py Done!\r\n"
     ]
    }
   ],
   "source": [
    "!python3 -m todoist_auto.routine"
   ],
   "metadata": {
    "collapsed": false,
    "ExecuteTime": {
     "end_time": "2023-08-08T06:48:39.208590Z",
     "start_time": "2023-08-08T06:46:54.467228Z"
    }
   },
   "id": "dd98c606280ba14f"
  },
  {
   "cell_type": "code",
   "execution_count": 3,
   "outputs": [
    {
     "name": "stdout",
     "output_type": "stream",
     "text": [
      "Requirement already satisfied: todoist-api-python==2.0.2 in /Users/mahdi/.pyenv/versions/3.11.4/envs/g/lib/python3.11/site-packages (2.0.2)\r\n",
      "Requirement already satisfied: attrs<23.0.0,>=22.0.0 in /Users/mahdi/.pyenv/versions/3.11.4/envs/g/lib/python3.11/site-packages (from todoist-api-python==2.0.2) (22.2.0)\r\n",
      "Requirement already satisfied: requests<3.0.0,>=2.26.0 in /Users/mahdi/.pyenv/versions/3.11.4/envs/g/lib/python3.11/site-packages (from todoist-api-python==2.0.2) (2.31.0)\r\n",
      "Requirement already satisfied: charset-normalizer<4,>=2 in /Users/mahdi/.pyenv/versions/3.11.4/envs/g/lib/python3.11/site-packages (from requests<3.0.0,>=2.26.0->todoist-api-python==2.0.2) (3.1.0)\r\n",
      "Requirement already satisfied: idna<4,>=2.5 in /Users/mahdi/.pyenv/versions/3.11.4/envs/g/lib/python3.11/site-packages (from requests<3.0.0,>=2.26.0->todoist-api-python==2.0.2) (3.4)\r\n",
      "Requirement already satisfied: urllib3<3,>=1.21.1 in /Users/mahdi/.pyenv/versions/3.11.4/envs/g/lib/python3.11/site-packages (from requests<3.0.0,>=2.26.0->todoist-api-python==2.0.2) (1.26.16)\r\n",
      "Requirement already satisfied: certifi>=2017.4.17 in /Users/mahdi/.pyenv/versions/3.11.4/envs/g/lib/python3.11/site-packages (from requests<3.0.0,>=2.26.0->todoist-api-python==2.0.2) (2023.5.7)\r\n"
     ]
    }
   ],
   "source": [
    "!pip install todoist-api-python==2.0.2"
   ],
   "metadata": {
    "collapsed": false,
    "ExecuteTime": {
     "end_time": "2023-08-08T06:55:37.082529Z",
     "start_time": "2023-08-08T06:55:35.723226Z"
    }
   },
   "id": "b3fd924db84e6785"
  },
  {
   "cell_type": "code",
   "execution_count": null,
   "outputs": [],
   "source": [],
   "metadata": {
    "collapsed": false
   },
   "id": "1455ee7f00a25f3d"
  }
 ],
 "metadata": {
  "kernelspec": {
   "display_name": "Python 3",
   "language": "python",
   "name": "python3"
  },
  "language_info": {
   "codemirror_mode": {
    "name": "ipython",
    "version": 2
   },
   "file_extension": ".py",
   "mimetype": "text/x-python",
   "name": "python",
   "nbconvert_exporter": "python",
   "pygments_lexer": "ipython2",
   "version": "2.7.6"
  }
 },
 "nbformat": 4,
 "nbformat_minor": 5
}
