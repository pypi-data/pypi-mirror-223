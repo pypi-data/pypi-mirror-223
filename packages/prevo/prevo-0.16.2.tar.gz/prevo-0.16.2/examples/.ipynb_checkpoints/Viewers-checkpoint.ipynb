{
 "cells": [
  {
   "cell_type": "code",
   "execution_count": 1,
   "metadata": {},
   "outputs": [
    {
     "name": "stdout",
     "output_type": "stream",
     "text": [
      "Using matplotlib backend: <object object at 0x10796b4a0>\n"
     ]
    }
   ],
   "source": [
    "from prevo.viewers import CvSingleViewer, TkSingleViewer, MplSingleViewer\n",
    "from prevo.viewers import CvStreamViewer, TkStreamViewer, MplStreamViewer\n",
    "from prevo.viewers import CvMultipleViewer, TkMultipleViewer, MplMultipleViewer\n",
    "from prevo.viewers import SingleStreamViewer\n",
    "from prevo.misc import DummyLapseCamera, PeriodicSensor\n",
    "import numpy as np\n",
    "%matplotlib"
   ]
  },
  {
   "cell_type": "markdown",
   "metadata": {},
   "source": [
    "# Dummy camera sensors"
   ]
  },
  {
   "cell_type": "markdown",
   "metadata": {},
   "source": [
    "The section below is just to define dummy sensors that mimicks a camera sending images on a queue."
   ]
  },
  {
   "cell_type": "code",
   "execution_count": 2,
   "metadata": {},
   "outputs": [],
   "source": [
    "camera1 = DummyLapseCamera(interval=0.2)\n",
    "camera1.start()\n",
    "\n",
    "camera2 = DummyLapseCamera(interval=1)\n",
    "camera2.start()"
   ]
  },
  {
   "cell_type": "markdown",
   "metadata": {},
   "source": [
    "# Viewers to display images sent by camera"
   ]
  },
  {
   "cell_type": "markdown",
   "metadata": {},
   "source": [
    "All viewers accept queues (`queue.Queue` objects or equivalent) as input. By default, it is assumed that the objects in the queue are dictionaries with a key `'image'` containing the image (`numpy` array or equivalent). If necessary, this behavior can be changed by subclassing the `_measurement_to_image` method of the viewer (see example further below in **Subclassing**)."
   ]
  },
  {
   "cell_type": "markdown",
   "metadata": {},
   "source": [
    "### Viewer based on OpenCV"
   ]
  },
  {
   "cell_type": "code",
   "execution_count": 3,
   "metadata": {},
   "outputs": [
    {
     "name": "stdout",
     "output_type": "stream",
     "text": [
      "--- !!! Error in Viewer !!! ---\n"
     ]
    },
    {
     "name": "stderr",
     "output_type": "stream",
     "text": [
      "Traceback (most recent call last):\n",
      "  File \"/Users/olivier.vincent/Python-OV/prevo/prevo/viewers.py\", line 74, in start\n",
      "    self._init_window()\n",
      "  File \"/Users/olivier.vincent/Python-OV/prevo/prevo/viewers.py\", line 353, in _init_window\n",
      "    cv2.namedWindow(self.name, cv2.WINDOW_NORMAL)\n",
      "NameError: name 'cv2' is not defined\n"
     ]
    }
   ],
   "source": [
    "CvSingleViewer(camera1.queue).start()"
   ]
  },
  {
   "cell_type": "markdown",
   "metadata": {},
   "source": [
    "### Viewer based on Tkinter"
   ]
  },
  {
   "cell_type": "code",
   "execution_count": 4,
   "metadata": {},
   "outputs": [],
   "source": [
    "TkSingleViewer(camera1.queue).start()"
   ]
  },
  {
   "cell_type": "markdown",
   "metadata": {},
   "source": [
    "### Viewer based on Matplotlib"
   ]
  },
  {
   "cell_type": "markdown",
   "metadata": {},
   "source": [
    "(for some reason the Matplotlib FuncAnimation does not stop even when closed in a Jupyter environment, so the kernel has to be restarted at the end)"
   ]
  },
  {
   "cell_type": "markdown",
   "metadata": {},
   "source": [
    "**Attention**: the line below will probably requires re-starting of the kernel to stop (see above)."
   ]
  },
  {
   "cell_type": "code",
   "execution_count": 5,
   "metadata": {},
   "outputs": [
    {
     "name": "stderr",
     "output_type": "stream",
     "text": [
      "findfont: Font family 'Garamond' not found.\n",
      "findfont: Font family 'Garamond' not found.\n",
      "findfont: Font family 'Garamond' not found.\n",
      "findfont: Font family 'Garamond' not found.\n",
      "findfont: Font family 'Garamond' not found.\n",
      "findfont: Font family 'Garamond' not found.\n",
      "findfont: Font family 'Garamond' not found.\n",
      "findfont: Font family 'Garamond' not found.\n"
     ]
    }
   ],
   "source": [
    "MplSingleViewer(camera2.queue).start()"
   ]
  },
  {
   "cell_type": "markdown",
   "metadata": {},
   "source": [
    "### Live display of viewer fps"
   ]
  },
  {
   "cell_type": "markdown",
   "metadata": {},
   "source": [
    "Each one of the Viewer classes above has a child class that adds a live calculation of the display fps (not the internal frame rate of the camera, but the frame rate achieved by the viewer).\n",
    "\n",
    "(Note: in all viewer classes, any image not displayed is ignored and removed from the queue to be able to keep up with real-time display)"
   ]
  },
  {
   "cell_type": "code",
   "execution_count": 6,
   "metadata": {},
   "outputs": [
    {
     "name": "stdout",
     "output_type": "stream",
     "text": [
      "Average display frame rate [Camera]: 5.121 fps\n"
     ]
    }
   ],
   "source": [
    "TkStreamViewer(camera1.queue).start()"
   ]
  },
  {
   "cell_type": "markdown",
   "metadata": {},
   "source": [
    "### View multiple cameras at the same time"
   ]
  },
  {
   "cell_type": "markdown",
   "metadata": {},
   "source": [
    "Each viewer also has possibilities to display several image sources at the same time, for example with Tkinter:"
   ]
  },
  {
   "cell_type": "code",
   "execution_count": 7,
   "metadata": {},
   "outputs": [],
   "source": [
    "camera_queues = {'Camera 1': camera1.queue, 'Camera 2': camera2.queue}"
   ]
  },
  {
   "cell_type": "code",
   "execution_count": 8,
   "metadata": {},
   "outputs": [],
   "source": [
    "TkMultipleViewer(camera_queues).start()"
   ]
  },
  {
   "cell_type": "markdown",
   "metadata": {},
   "source": [
    "The OpenCV-based multiple viewer opens one window per camera:"
   ]
  },
  {
   "cell_type": "code",
   "execution_count": 9,
   "metadata": {},
   "outputs": [],
   "source": [
    "CvMultipleViewer(camera_queues).start()"
   ]
  },
  {
   "cell_type": "markdown",
   "metadata": {},
   "source": [
    "To use another version of the single viewer in the multiple viewer, e.g. the \"stream\" version that displays live fps (see above), the Viewer option can be sepcified:"
   ]
  },
  {
   "cell_type": "code",
   "execution_count": 10,
   "metadata": {},
   "outputs": [],
   "source": [
    "TkMultipleViewer(camera_queues, Viewer=TkStreamViewer).start()"
   ]
  },
  {
   "cell_type": "markdown",
   "metadata": {},
   "source": [
    "**Attention**: the line below will probably requires re-starting of the kernel to stop (see above)."
   ]
  },
  {
   "cell_type": "code",
   "execution_count": null,
   "metadata": {},
   "outputs": [],
   "source": [
    "MplMultipleViewer(camera_queues, Viewer=MplStreamViewer).start()"
   ]
  },
  {
   "cell_type": "markdown",
   "metadata": {},
   "source": [
    "# Subclassing"
   ]
  },
  {
   "cell_type": "markdown",
   "metadata": {},
   "source": [
    "The most obvious case for subclassing is when the format of measurements stored in the queues is not that by default (dict with key `image`). Below is an example of subclassing the Tkinter class in the case where the elements in the queue are the images themselves directly."
   ]
  },
  {
   "cell_type": "markdown",
   "metadata": {},
   "source": [
    "### Dummy sensor for tests"
   ]
  },
  {
   "cell_type": "code",
   "execution_count": 11,
   "metadata": {},
   "outputs": [],
   "source": [
    "class ModifiedLapseCamera(PeriodicSensor):\n",
    "    \"\"\"Mock camera sensor that returns images directly instead of dicts.\"\"\"\n",
    "    def _read(self):\n",
    "        img = np.random.randint(256, size=(480, 640), dtype='uint8')\n",
    "        return img"
   ]
  },
  {
   "cell_type": "code",
   "execution_count": 12,
   "metadata": {},
   "outputs": [],
   "source": [
    "camera3 = ModifiedLapseCamera(interval=0.1)\n",
    "camera3.start()\n",
    "\n",
    "camera4 = ModifiedLapseCamera(interval=0.5)\n",
    "camera4.start()"
   ]
  },
  {
   "cell_type": "markdown",
   "metadata": {},
   "source": [
    "### Actual subclassing"
   ]
  },
  {
   "cell_type": "markdown",
   "metadata": {},
   "source": [
    "Subclass a single viewer:"
   ]
  },
  {
   "cell_type": "code",
   "execution_count": 13,
   "metadata": {},
   "outputs": [],
   "source": [
    "class SingleViewer(TkSingleViewer):\n",
    "    def _measurement_to_image(self, measurement):\n",
    "        return measurement"
   ]
  },
  {
   "cell_type": "code",
   "execution_count": 14,
   "metadata": {},
   "outputs": [],
   "source": [
    "SingleViewer(camera3.queue).start()"
   ]
  },
  {
   "cell_type": "markdown",
   "metadata": {},
   "source": [
    "Use the \"stream\" viewer add-on features (live display of fps):"
   ]
  },
  {
   "cell_type": "code",
   "execution_count": 18,
   "metadata": {},
   "outputs": [],
   "source": [
    "class StreamViewer(SingleStreamViewer, SingleViewer):\n",
    "    pass"
   ]
  },
  {
   "cell_type": "code",
   "execution_count": 23,
   "metadata": {},
   "outputs": [
    {
     "name": "stdout",
     "output_type": "stream",
     "text": [
      "Average display frame rate [Camera]: 2.007 fps\n"
     ]
    }
   ],
   "source": [
    "StreamViewer(camera4.queue).start()"
   ]
  },
  {
   "cell_type": "markdown",
   "metadata": {},
   "source": [
    "Use the subclassed single viewers in a multiple viewer:"
   ]
  },
  {
   "cell_type": "code",
   "execution_count": 19,
   "metadata": {},
   "outputs": [],
   "source": [
    "camera_queues = {'Camera 3': camera3.queue, 'Camera 4': camera4.queue}"
   ]
  },
  {
   "cell_type": "code",
   "execution_count": 21,
   "metadata": {},
   "outputs": [],
   "source": [
    "TkMultipleViewer(camera_queues, Viewer=SingleViewer).start()"
   ]
  },
  {
   "cell_type": "code",
   "execution_count": 22,
   "metadata": {},
   "outputs": [],
   "source": [
    "TkMultipleViewer(camera_queues, Viewer=StreamViewer).start()"
   ]
  },
  {
   "cell_type": "code",
   "execution_count": null,
   "metadata": {},
   "outputs": [],
   "source": []
  }
 ],
 "metadata": {
  "kernelspec": {
   "display_name": "Python 3 (ipykernel)",
   "language": "python",
   "name": "python3"
  },
  "language_info": {
   "codemirror_mode": {
    "name": "ipython",
    "version": 3
   },
   "file_extension": ".py",
   "mimetype": "text/x-python",
   "name": "python",
   "nbconvert_exporter": "python",
   "pygments_lexer": "ipython3",
   "version": "3.10.9"
  }
 },
 "nbformat": 4,
 "nbformat_minor": 4
}
