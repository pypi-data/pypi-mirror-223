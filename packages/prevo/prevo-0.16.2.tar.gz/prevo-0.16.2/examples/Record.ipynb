{
 "cells": [
  {
   "cell_type": "code",
   "execution_count": 1,
   "metadata": {},
   "outputs": [],
   "source": [
    "from prevo.record import SensorBase, ControlledProperty\n",
    "from prevo.record.numerical import NumericalRecording, NumericalRecord\n",
    "from prevo.record.images import ImageRecording, ImageRecord\n",
    "from prevo.misc import DummyPressureSensor, DummyTemperatureSensor, DummyLapseCamera\n",
    "\n",
    "import pandas as pd\n",
    "import matplotlib.pyplot as plt"
   ]
  },
  {
   "cell_type": "markdown",
   "metadata": {},
   "source": [
    "In this notebook we will see how to use `prevo.record` classes to record periodically:\n",
    "- sensors providing numerical data (e.g. temperature sensors, etc.)\n",
    "- sensors providing images (e.g. cameras)"
   ]
  },
  {
   "cell_type": "markdown",
   "metadata": {},
   "source": [
    "# Record numerical sensors\n",
    "(e.g. pressure, temperature, etc.)"
   ]
  },
  {
   "cell_type": "markdown",
   "metadata": {},
   "source": [
    "## Define sensors"
   ]
  },
  {
   "cell_type": "markdown",
   "metadata": {},
   "source": [
    "We assume that the user already has sensors and a way to interact with it in Python. Here, We use dummy sensors as examples:"
   ]
  },
  {
   "cell_type": "code",
   "execution_count": 2,
   "metadata": {},
   "outputs": [
    {
     "data": {
      "text/plain": [
       "{'T1 (°C)': 25.227289369776667, 'T2 (°C)': 22.44610916606254}"
      ]
     },
     "execution_count": 2,
     "metadata": {},
     "output_type": "execute_result"
    }
   ],
   "source": [
    "psensor = DummyPressureSensor()\n",
    "tsensor = DummyTemperatureSensor()\n",
    "tsensor.read(avg=10)  # avg=10 averages over 10 successive measurements"
   ]
  },
  {
   "cell_type": "markdown",
   "metadata": {},
   "source": [
    "Now we subclass `SensorBase` to put the reading of these sensors in a framework that is usable by `prevo.record` classes and functions."
   ]
  },
  {
   "cell_type": "code",
   "execution_count": 3,
   "metadata": {},
   "outputs": [],
   "source": [
    "class Sensor(SensorBase):\n",
    "    \"\"\"Provide methods common to all sensors.\n",
    "    \n",
    "    NOTE: the __init__() of SensorBase provides error management by \n",
    "    catching any Exception. If redefining __init__, be careful to\n",
    "    call SensorBase.__init__() or to redefine self.exceptions.\n",
    "    \"\"\"\n",
    "    \n",
    "    def  _get_data(self):\n",
    "        \"\"\"Automatically add time and time uncertainty in data dict.\n",
    "        \n",
    "        If one does not want to add time info to measurements, or if one\n",
    "        wants to use time info from the sensors themselves, the method\n",
    "        _read() must be subclassed instead of _get_data().\n",
    "        \"\"\"\n",
    "        measurement = self.device.read(avg=self.avg)\n",
    "        return tuple(measurement.values())\n",
    "    \n",
    "\n",
    "# We want do control the averaging of the data in real time from the CLI\n",
    "# To do so, we'll defined a ControlledProperty object. It can then be\n",
    "# indicated either in Sensor or Recording classes in self.controlled_properties\n",
    "# to indicate that one wants to control averaging of that particular sensor.\n",
    "# Here we will provide real-time averaging options only for pressure.\n",
    "# NOTE: any sensor/recording property (attribute) can be controlled by CLI.\n",
    "\n",
    "averaging = ControlledProperty(attribute='avg',                # Sensor attribute to control\n",
    "                               readable='Averaging',           # Human-readable info of ppty\n",
    "                               commands=('avg', 'averaging'))  # how to access ppty in CLI\n",
    "                           \n",
    "\n",
    "                               \n",
    "class PressureSensor(Sensor):\n",
    "    \n",
    "    name = 'P'\n",
    "    \n",
    "    # This will be the names of columns in the CSV file\n",
    "    # (as can be seen below, time columns are also added automatically)\n",
    "    column_names = 'P1', 'P2', 'P3'\n",
    "    \n",
    "    # data_types is useful only when using live graphs\n",
    "    data_types = 'P (Pa)', 'P (Pa)', 'P (mbar)'\n",
    "    \n",
    "    # Name of csv/tsv file into which data will be saved for this sensor\n",
    "    filename = 'Pressure.tsv'\n",
    "                               \n",
    "    controlled_properties = (averaging,)\n",
    "    \n",
    "    def __init__(self):\n",
    "        super().__init__()  # see comment in Sensor docstring above\n",
    "        self.device = DummyPressureSensor()\n",
    "        self.avg = 10  # by default, averaging is\n",
    "\n",
    "\n",
    "class TemperatureSensor(Sensor):\n",
    "    \n",
    "    name = 'T'\n",
    "    column_names = 'T1', 'T2'\n",
    "    data_types = 'T (°C)', 'T (°C)'\n",
    "    filename = 'Temperature.csv'\n",
    "    \n",
    "    def __init__(self):\n",
    "        super().__init__()\n",
    "        self.device = DummyTemperatureSensor()\n",
    "        self.avg = 1  # this will stay fixed"
   ]
  },
  {
   "cell_type": "code",
   "execution_count": 4,
   "metadata": {},
   "outputs": [
    {
     "data": {
      "text/plain": [
       "{'values': (3170.32874778971, 2339.0092131947013, 17.28003070692998),\n",
       " 'time (unix)': 1690972864.129899,\n",
       " 'dt (s)': 0.00010143747203983366}"
      ]
     },
     "execution_count": 4,
     "metadata": {},
     "output_type": "execute_result"
    }
   ],
   "source": [
    "# Sensor automatically adds a context manager that can be tuned.\n",
    "with PressureSensor() as sensor:\n",
    "    data = sensor.read()\n",
    "data"
   ]
  },
  {
   "cell_type": "markdown",
   "metadata": {},
   "source": [
    "## Define recordings / record objects"
   ]
  },
  {
   "cell_type": "markdown",
   "metadata": {},
   "source": [
    "Here we're going to subclass `NumericalRecording` and `NumericalRecord` classes for easier use, in particular to define automatically the properties of the recordings depending on the input sensors."
   ]
  },
  {
   "cell_type": "code",
   "execution_count": 5,
   "metadata": {},
   "outputs": [],
   "source": [
    "class Recording(NumericalRecording):\n",
    "    \n",
    "    def __init__(self, Sensor, **kwargs):\n",
    "        \"\"\"kwargs will be useful later to include options such as programs (see below)\"\"\"\n",
    "        \n",
    "        # time and uncertainty on time are automatically added when reading the sensor\n",
    "        # so one must also adds them to the column names.\n",
    "        column_names = ('time (unix)', 'time uncertainty (s)') + Sensor.column_names\n",
    "        \n",
    "        super().__init__(Sensor=Sensor,\n",
    "                         filename=Sensor.filename,\n",
    "                         column_names=column_names,\n",
    "                         path='data',\n",
    "                         **kwargs)\n",
    "        \n",
    "# If one wants real-time graphing options with NumericalReord, one must supply a dict of\n",
    "# the data types of each channel of each sensor. On the graph, there will be as many\n",
    "# windows (frames) as different data types, and all values will the same data type will\n",
    "# be in the same window/frame.\n",
    "# This dict can contain more keys than the name of the sensors in a given record.\n",
    "sensors = PressureSensor, TemperatureSensor\n",
    "data_types = {Sensor.name: Sensor.data_types for Sensor in sensors}\n",
    "\n",
    "\n",
    "class Record(NumericalRecord):\n",
    "    \n",
    "    def __init__(self, recordings):\n",
    "        \"\"\"If data_types not supplied, graphing options are not available\"\"\"\n",
    "        super().__init__(recordings,\n",
    "                         data_types=data_types,\n",
    "                         path='data')"
   ]
  },
  {
   "cell_type": "markdown",
   "metadata": {},
   "source": [
    "## Start recording"
   ]
  },
  {
   "cell_type": "markdown",
   "metadata": {},
   "source": [
    "**IMPORTANT NOTE**: Below, by default recordings are OFF (`on=False`) option. After starting the recording, turn them on by typing `on True` in the CLI"
   ]
  },
  {
   "cell_type": "markdown",
   "metadata": {},
   "source": [
    "**Other important NOTE**: Real-time numerical graphs can be triggered from the CLI with the command `g`. In some situations, making any input in the CLI when the graph is active makes the program crash. If this hapens, close the graph window first, make the desired input in the CLI, and open the graph again."
   ]
  },
  {
   "cell_type": "code",
   "execution_count": 6,
   "metadata": {},
   "outputs": [
    {
     "name": "stdout",
     "output_type": "stream",
     "text": [
      "\n",
      "Warning: These modules have dirty git repositories: prevo\n",
      "\n",
      "Recording started in folder /Users/olivier.vincent/Python-OV/prevo/examples/data\n"
     ]
    },
    {
     "name": "stdin",
     "output_type": "stream",
     "text": [
      "Type command (help: ?):  on True\n"
     ]
    },
    {
     "name": "stdout",
     "output_type": "stream",
     "text": [
      "New Rec. ON for P: True\n",
      "New Rec. ON for T: True\n"
     ]
    },
    {
     "name": "stdin",
     "output_type": "stream",
     "text": [
      "Type command (help: ?):  q\n"
     ]
    },
    {
     "name": "stdout",
     "output_type": "stream",
     "text": [
      "CLI stopped\n",
      "Recording Stopped\n"
     ]
    }
   ],
   "source": [
    "recordings = Recording(PressureSensor), Recording(TemperatureSensor)\n",
    "record = Record(recordings)\n",
    "record.start(dt=3, dt_P=0.5, on=False)"
   ]
  },
  {
   "cell_type": "code",
   "execution_count": 7,
   "metadata": {},
   "outputs": [
    {
     "data": {
      "text/html": [
       "<div>\n",
       "<style scoped>\n",
       "    .dataframe tbody tr th:only-of-type {\n",
       "        vertical-align: middle;\n",
       "    }\n",
       "\n",
       "    .dataframe tbody tr th {\n",
       "        vertical-align: top;\n",
       "    }\n",
       "\n",
       "    .dataframe thead th {\n",
       "        text-align: right;\n",
       "    }\n",
       "</style>\n",
       "<table border=\"1\" class=\"dataframe\">\n",
       "  <thead>\n",
       "    <tr style=\"text-align: right;\">\n",
       "      <th></th>\n",
       "      <th>time (unix)</th>\n",
       "      <th>time uncertainty (s)</th>\n",
       "      <th>P1</th>\n",
       "      <th>P2</th>\n",
       "      <th>P3</th>\n",
       "    </tr>\n",
       "  </thead>\n",
       "  <tbody>\n",
       "    <tr>\n",
       "      <th>0</th>\n",
       "      <td>1.690973e+09</td>\n",
       "      <td>0.000249</td>\n",
       "      <td>3170.622582</td>\n",
       "      <td>2339.590368</td>\n",
       "      <td>17.321436</td>\n",
       "    </tr>\n",
       "    <tr>\n",
       "      <th>1</th>\n",
       "      <td>1.690973e+09</td>\n",
       "      <td>0.000152</td>\n",
       "      <td>3170.502831</td>\n",
       "      <td>2339.103557</td>\n",
       "      <td>17.231795</td>\n",
       "    </tr>\n",
       "    <tr>\n",
       "      <th>2</th>\n",
       "      <td>1.690973e+09</td>\n",
       "      <td>0.000155</td>\n",
       "      <td>3170.614607</td>\n",
       "      <td>2338.923803</td>\n",
       "      <td>17.278305</td>\n",
       "    </tr>\n",
       "    <tr>\n",
       "      <th>3</th>\n",
       "      <td>1.690973e+09</td>\n",
       "      <td>0.000114</td>\n",
       "      <td>3170.305818</td>\n",
       "      <td>2339.074648</td>\n",
       "      <td>17.315095</td>\n",
       "    </tr>\n",
       "    <tr>\n",
       "      <th>4</th>\n",
       "      <td>1.690973e+09</td>\n",
       "      <td>0.000176</td>\n",
       "      <td>3170.291133</td>\n",
       "      <td>2339.079034</td>\n",
       "      <td>17.305934</td>\n",
       "    </tr>\n",
       "  </tbody>\n",
       "</table>\n",
       "</div>"
      ],
      "text/plain": [
       "    time (unix)  time uncertainty (s)           P1           P2         P3\n",
       "0  1.690973e+09              0.000249  3170.622582  2339.590368  17.321436\n",
       "1  1.690973e+09              0.000152  3170.502831  2339.103557  17.231795\n",
       "2  1.690973e+09              0.000155  3170.614607  2338.923803  17.278305\n",
       "3  1.690973e+09              0.000114  3170.305818  2339.074648  17.315095\n",
       "4  1.690973e+09              0.000176  3170.291133  2339.079034  17.305934"
      ]
     },
     "execution_count": 7,
     "metadata": {},
     "output_type": "execute_result"
    }
   ],
   "source": [
    "pressure_data = pd.read_csv('data/Pressure.tsv', sep='\\t')\n",
    "pressure_data.head()"
   ]
  },
  {
   "cell_type": "code",
   "execution_count": 8,
   "metadata": {},
   "outputs": [
    {
     "data": {
      "text/plain": [
       "<Axes: xlabel='time (unix)'>"
      ]
     },
     "execution_count": 8,
     "metadata": {},
     "output_type": "execute_result"
    },
    {
     "data": {
      "image/png": "[encoded data removed]",
      "text/plain": [
       "<Figure size 640x480 with 1 Axes>"
      ]
     },
     "metadata": {},
     "output_type": "display_data"
    }
   ],
   "source": [
    "# Note: time is unix time\n",
    "pressure_data.plot(x='time (unix)', y=['P1', 'P3'], style='o', grid=True)"
   ]
  },
  {
   "cell_type": "markdown",
   "metadata": {},
   "source": [
    "## Programmable recording"
   ]
  },
  {
   "cell_type": "markdown",
   "metadata": {},
   "source": [
    "It is possible to program recording properties, for example to change automatically the time interval between data points after some time, or to start / stop recording certain sensors at given times."
   ]
  },
  {
   "cell_type": "code",
   "execution_count": 10,
   "metadata": {},
   "outputs": [
    {
     "data": {
      "image/png": "[encoded data removed]",
      "text/plain": [
       "<Figure size 640x480 with 1 Axes>"
      ]
     },
     "metadata": {},
     "output_type": "display_data"
    },
    {
     "data": {
      "image/png": "[encoded data removed]",
      "text/plain": [
       "<Figure size 640x480 with 1 Axes>"
      ]
     },
     "metadata": {},
     "output_type": "display_data"
    }
   ],
   "source": [
    "from prevo.control import Program, Stairs\n",
    "\n",
    "prog_dt = Stairs(duration='::5', dt=[0.2, 0.5])\n",
    "prog_on = Program(durations=('::', '::17', '::'), on=[False, True, True])\n",
    "\n",
    "prog_dt.plot(time_unit='s')\n",
    "prog_on.plot(time_unit='s')"
   ]
  },
  {
   "cell_type": "markdown",
   "metadata": {},
   "source": [
    "**NOTE** When using programs that modify the sampling time interval (`dt`), it can be desirable to use the `immediate=False` option, which prevents changes in the timer to be taken into account immediately. Using this option can prevent to have arbitrary time intervals in the data (which occur because changes in time interval occur at random points during a waiting phase). However, one must then also take care to set the initial `dt` of each sensor impacted by the program to the initial `dt` of the program, in order to prevent varying time intervals at the beginning of recording.\n",
    "\n",
    "**NOTE** The precision of time interval between data points can be improved with the `precise=True` option."
   ]
  },
  {
   "cell_type": "code",
   "execution_count": 14,
   "metadata": {},
   "outputs": [
    {
     "name": "stdout",
     "output_type": "stream",
     "text": [
      "\n",
      "Warning: These modules have dirty git repositories: prevo\n",
      "\n",
      "Recording started in folder /Users/olivier.vincent/Python-OV/prevo/examples/data\n",
      "[2023-08-02 12:44:18] ------ PROGRAM (on)--- NEW CYCLE 1 / 1\n",
      "\n",
      "[2023-08-02 12:44:18] ------ PROGRAM (dt)--- NEW CYCLE 1 / 1\n",
      "\n",
      "[2023-08-02 12:44:18] ------ PROGRAM (on)--- NEW CYCLE 1 / 1\n",
      "\n",
      "[2023-08-02 12:44:30] ------ PROGRAM (dt)--- FINISHED\n",
      "\n",
      "[2023-08-02 12:44:37] ------ PROGRAM (on)--- FINISHED\n",
      "[2023-08-02 12:44:37] ------ PROGRAM (on)--- FINISHED\n",
      "\n",
      "\n"
     ]
    },
    {
     "name": "stdin",
     "output_type": "stream",
     "text": [
      "Type command (help: ?):  q\n"
     ]
    },
    {
     "name": "stdout",
     "output_type": "stream",
     "text": [
      "CLI stopped\n",
      "Recording Stopped\n"
     ]
    }
   ],
   "source": [
    "# With these options, the time interval of the pressure recording will oscillate\n",
    "# between 0.2 and 0.5 seconds every 5 seconds, and both recordings will stop\n",
    "# after 17 seconds.\n",
    "\n",
    "recordings = (\n",
    "    Recording(PressureSensor, programs=(prog_on, prog_dt), immediate=False, precise=True),\n",
    "    Recording(TemperatureSensor, programs=(prog_on,)),\n",
    ")\n",
    "Record(recordings).start(dt_P=0.2)"
   ]
  },
  {
   "cell_type": "code",
   "execution_count": 15,
   "metadata": {},
   "outputs": [
    {
     "data": {
      "text/plain": [
       "<Axes: xlabel='time (unix)'>"
      ]
     },
     "execution_count": 15,
     "metadata": {},
     "output_type": "execute_result"
    },
    {
     "data": {
      "image/png": "[encoded data removed]",
      "text/plain": [
       "<Figure size 640x480 with 1 Axes>"
      ]
     },
     "metadata": {},
     "output_type": "display_data"
    }
   ],
   "source": [
    "pressure_data = pd.read_csv('data/Pressure.tsv', sep='\\t')\n",
    "pressure_data['dt'] = pressure_data['time (unix)'].diff()\n",
    "pressure_data.plot(x='time (unix)', y='dt', style='ok', grid=True)"
   ]
  },
  {
   "cell_type": "markdown",
   "metadata": {},
   "source": [
    "# Record images (cameras)"
   ]
  },
  {
   "cell_type": "markdown",
   "metadata": {},
   "source": [
    "We assume that the user already has a source of image (e.g. a camera) and is able to interact with it in Python to get images. Here we use a dummy camera sensor that returns random images and an associate timestamp (unix time)"
   ]
  },
  {
   "cell_type": "code",
   "execution_count": 2,
   "metadata": {},
   "outputs": [
    {
     "data": {
      "text/plain": [
       "{'image': array([[  8,   6, 150, ...,   1,  43, 181],\n",
       "        [238, 159, 111, ..., 153, 187,  24],\n",
       "        [154,  74,   8, ..., 129, 120,  56],\n",
       "        ...,\n",
       "        [125, 132, 206, ...,  81,  73,  95],\n",
       "        [ 17, 215,  84, ...,  88, 108, 202],\n",
       "        [149,  66,  21, ...,  58,  73, 126]], dtype=uint8),\n",
       " 'timestamp': 1690973895.587291}"
      ]
     },
     "execution_count": 2,
     "metadata": {},
     "output_type": "execute_result"
    }
   ],
   "source": [
    "cam = DummyLapseCamera()\n",
    "cam.read()"
   ]
  },
  {
   "cell_type": "markdown",
   "metadata": {},
   "source": [
    "Similarly as above, we can subclass `SensorBase`, `ImageRecording` and `ImageRecord`. We will define two camera sensors and record them at the same time."
   ]
  },
  {
   "cell_type": "code",
   "execution_count": 3,
   "metadata": {},
   "outputs": [
    {
     "data": {
      "text/plain": [
       "1690973896.7466705"
      ]
     },
     "execution_count": 3,
     "metadata": {},
     "output_type": "execute_result"
    }
   ],
   "source": [
    "class CameraSensor(SensorBase):\n",
    "    \"\"\"Provide methods common to all camera sensors\"\"\"\n",
    "    \n",
    "    def __init__(self):\n",
    "        super().__init__()\n",
    "        self.camera = DummyLapseCamera()\n",
    "        \n",
    "    def  _read(self):\n",
    "        \"\"\"Here we don't want to use _get_data() but _read(), since the \n",
    "        sensor provides its own timestamps.\"\"\"\n",
    "        \n",
    "        # Note: here, the camera returns immediately a dict with 'image'\n",
    "        # as key. If it's not the case, one should make sure here to add\n",
    "        # a line to return a dict with the image array at the key 'image'\n",
    "        return self.camera.read()\n",
    "    \n",
    "\n",
    "class Cam1(CameraSensor):\n",
    "    name = 'Cam1'\n",
    "\n",
    "\n",
    "class Cam2(CameraSensor):\n",
    "    name = 'Cam2'\n",
    "    \n",
    "    \n",
    "# Again, the SensorBase class provides a context manager that can be tuned if necessary\n",
    "with Cam2() as camera:\n",
    "    data = camera.read()\n",
    "data['timestamp']"
   ]
  },
  {
   "cell_type": "code",
   "execution_count": 4,
   "metadata": {},
   "outputs": [],
   "source": [
    "class CamRecording(ImageRecording):\n",
    "    \n",
    "    def __init__(self, Sensor, **kwargs):\n",
    "        \"\"\"kwargs can include programs, precision options etc. (see above)\"\"\"\n",
    "        super().__init__(Sensor,\n",
    "                         timestamp_filename=f'{Sensor.name}_timestamps.tsv',\n",
    "                         # Below: include 'filename' if you want the name of the image in the\n",
    "                         # timestamp file. Any other column name must be generated as a key \n",
    "                         # in the dict returned by CameraSensor._read().\n",
    "                         column_names=('filename', 'timestamp',),\n",
    "                         path='data',\n",
    "                         **kwargs)\n",
    "        self.name = Sensor.name\n",
    "        \n",
    "\n",
    "class CamRecord(ImageRecord):\n",
    "    \n",
    "    def __init__(self, recordings, viewer='tk'):\n",
    "        \"\"\"Here we do not include programs, but it's possible to pass them as well\n",
    "        (e.g. to create temporal variations of fps or interval between images, etc.\"\"\"\n",
    "        super().__init__(recordings, path='data', viewer=viewer)"
   ]
  },
  {
   "cell_type": "markdown",
   "metadata": {},
   "source": [
    "**NOTE**: Here, pressing `g` in the CLI will trigger a live view of the images. Three viewers are available for now (Tkinter, Matplotlib, OpenCV). They can be changed in the `viewer=` option (with `'tk'`, `'mpl'` or `'cv'` respectively). Some might not work on certain machines and/or with certain backends. It is also possible to use your own viewer by redefining `ImageRecord.data_plot()`"
   ]
  },
  {
   "cell_type": "code",
   "execution_count": 5,
   "metadata": {},
   "outputs": [
    {
     "name": "stdout",
     "output_type": "stream",
     "text": [
      "\n",
      "Warning: These modules have dirty git repositories: prevo\n",
      "\n",
      "Recording started in folder /Users/olivier.vincent/Python-OV/prevo/examples/data\n"
     ]
    },
    {
     "name": "stdin",
     "output_type": "stream",
     "text": [
      "Type command (help: ?):  q\n"
     ]
    },
    {
     "name": "stdout",
     "output_type": "stream",
     "text": [
      "CLI stopped\n",
      "Recording Stopped\n"
     ]
    }
   ],
   "source": [
    "# The precise=True option can improve precision of time intervals significantly (~ms instead of ~10ms)\n",
    "\n",
    "recordings = (\n",
    "    CamRecording(Cam1, precise=True),\n",
    "    CamRecording(Cam2),\n",
    ")\n",
    "\n",
    "# Here, we specify two different time intervals to read images for each camera\n",
    "CamRecord(recordings, viewer='tk').start(dt_Cam1=0.33, dt_Cam2=0.3)"
   ]
  },
  {
   "cell_type": "code",
   "execution_count": 6,
   "metadata": {},
   "outputs": [
    {
     "data": {
      "text/plain": [
       "Text(0, 0.5, '$\\\\Delta t$ (s)')"
      ]
     },
     "execution_count": 6,
     "metadata": {},
     "output_type": "execute_result"
    },
    {
     "data": {
      "image/png": "[encoded data removed]",
      "text/plain": [
       "<Figure size 640x480 with 1 Axes>"
      ]
     },
     "metadata": {},
     "output_type": "display_data"
    }
   ],
   "source": [
    "cam1_data = pd.read_csv('data/Cam1_timestamps.tsv', sep='\\t')\n",
    "cam2_data = pd.read_csv('data/Cam2_timestamps.tsv', sep='\\t')\n",
    "\n",
    "fig, ax = plt.subplots()\n",
    "labels = 'Cam1 (precise=True)', 'Cam2 (default)'\n",
    "all_data = cam1_data, cam2_data\n",
    "\n",
    "for data, label in zip(all_data, labels): \n",
    "    data['dt'] = data['timestamp'].diff()\n",
    "    ax.plot(data['timestamp'], data['dt'], 'o', label=label)\n",
    "    \n",
    "ax.grid()\n",
    "ax.legend()\n",
    "ax.set_xlabel('timestamp (s)')\n",
    "ax.set_ylabel(r'$\\Delta t$ (s)')"
   ]
  },
  {
   "cell_type": "markdown",
   "metadata": {},
   "source": [
    "# Final remarks\n",
    "\n",
    "Everything is customizable, e.g. more specific error management, usage of personal data viewing tools (graphs, image viewers, etc.),programmable recordings, sensor properties controlled by the CLI, etc. For more information, read the docstrings in `prevo.record`, `prevo.record.numerical` and `prevo.record.images`"
   ]
  },
  {
   "cell_type": "code",
   "execution_count": null,
   "metadata": {},
   "outputs": [],
   "source": []
  }
 ],
 "metadata": {
  "kernelspec": {
   "display_name": "Python 3 (ipykernel)",
   "language": "python",
   "name": "python3"
  },
  "language_info": {
   "codemirror_mode": {
    "name": "ipython",
    "version": 3
   },
   "file_extension": ".py",
   "mimetype": "text/x-python",
   "name": "python",
   "nbconvert_exporter": "python",
   "pygments_lexer": "ipython3",
   "version": "3.10.9"
  }
 },
 "nbformat": 4,
 "nbformat_minor": 4
}
