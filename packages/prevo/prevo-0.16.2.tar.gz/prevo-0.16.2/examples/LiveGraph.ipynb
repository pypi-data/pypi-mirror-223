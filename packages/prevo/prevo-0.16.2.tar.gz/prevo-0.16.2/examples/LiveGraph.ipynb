{
 "cells": [
  {
   "cell_type": "code",
   "execution_count": 1,
   "metadata": {},
   "outputs": [],
   "source": [
    "from prevo.misc import PeriodicSensor, PeriodicTimedSensor\n",
    "from prevo.misc import DummyPressureSensor, DummyTemperatureSensor, DummyElectricalSensor\n",
    "from prevo.plot import OscilloGraph, NumericalGraph\n",
    "%matplotlib qt5"
   ]
  },
  {
   "cell_type": "markdown",
   "metadata": {},
   "source": [
    "# Dummy sensors"
   ]
  },
  {
   "cell_type": "markdown",
   "metadata": {},
   "source": [
    "### Raw sensors"
   ]
  },
  {
   "cell_type": "code",
   "execution_count": 2,
   "metadata": {},
   "outputs": [],
   "source": [
    "pressure_sensor = DummyPressureSensor()\n",
    "temperature_sensor = DummyTemperatureSensor()\n",
    "electrical_sensor = DummyElectricalSensor(interval=0.1, npts=20)"
   ]
  },
  {
   "cell_type": "code",
   "execution_count": 3,
   "metadata": {},
   "outputs": [
    {
     "data": {
      "text/plain": [
       "{'P1 (Pa)': 3170.2966687331323,\n",
       " 'P2 (Pa)': 2338.0505427459507,\n",
       " 'P3 (mbar)': 17.239571568724408}"
      ]
     },
     "execution_count": 3,
     "metadata": {},
     "output_type": "execute_result"
    }
   ],
   "source": [
    "pressure_sensor.read()"
   ]
  },
  {
   "cell_type": "markdown",
   "metadata": {},
   "source": [
    "### Periodic reading of sensors"
   ]
  },
  {
   "cell_type": "code",
   "execution_count": 4,
   "metadata": {},
   "outputs": [],
   "source": [
    "class PressureReading(PeriodicTimedSensor):\n",
    "    \"\"\"Returns individual readings of pressure at each time step\"\"\"\n",
    "    \n",
    "    name = 'P'\n",
    "    data_types = 'P (Pa)', 'P (Pa)', 'P (mbar)'\n",
    "    \n",
    "    def _read_sensor(self):\n",
    "        return tuple(pressure_sensor.read().values())\n",
    "    \n",
    "\n",
    "class TemperatureReading(PeriodicTimedSensor):\n",
    "    \"\"\"Returns individual readings of temperature at each time step\"\"\"\n",
    "    \n",
    "    name = 'T'\n",
    "    data_types = 'T (°C)', 'T (°C)'\n",
    "    \n",
    "    def _read_sensor(self):\n",
    "        return tuple(temperature_sensor.read().values())\n",
    "   \n",
    "\n",
    "class ElectricalReading(PeriodicSensor):\n",
    "    \"\"\"Returns arrays of readings corresponding to different times\"\"\"\n",
    "    \n",
    "    name = 'V'\n",
    "    data_types = 'voltage (V)', 'voltage (V)'\n",
    "    \n",
    "    def _read(self):\n",
    "        data = electrical_sensor.read()\n",
    "        return {'time (unix)': data[0],\n",
    "                'values': data[1:],\n",
    "                'name': self.name}\n",
    "    \n",
    "pressure_reading = PressureReading(interval=0.02)\n",
    "temperature_reading = TemperatureReading(interval=0.7)\n",
    "electrical_reading = ElectricalReading(interval=0.1)\n",
    "\n",
    "readings = pressure_reading, temperature_reading, electrical_reading"
   ]
  },
  {
   "cell_type": "markdown",
   "metadata": {},
   "source": [
    "### Misc. sensor config"
   ]
  },
  {
   "cell_type": "code",
   "execution_count": 5,
   "metadata": {},
   "outputs": [],
   "source": [
    "data_types = {reading.name: reading.data_types for reading in readings}\n",
    "\n",
    "data_ranges = {'P (Pa)': (1000, 4000),\n",
    "               'P (mbar)': (10, 40),\n",
    "               'T (°C)': (20, 30),\n",
    "               'voltage (V)': (-0.5, 1.5)}"
   ]
  },
  {
   "cell_type": "markdown",
   "metadata": {},
   "source": [
    "### Start periodic sensor reading"
   ]
  },
  {
   "cell_type": "code",
   "execution_count": 6,
   "metadata": {},
   "outputs": [],
   "source": [
    "for reading in readings:\n",
    "    reading.start()"
   ]
  },
  {
   "cell_type": "code",
   "execution_count": 7,
   "metadata": {},
   "outputs": [
    {
     "data": {
      "text/plain": [
       "{'time (unix)': 1691332478.7759724,\n",
       " 'dt (s)': 9.835450327955186e-05,\n",
       " 'values': (3170.4339690406914, 2339.7271651706196, 17.282923468674618),\n",
       " 'name': 'P'}"
      ]
     },
     "execution_count": 7,
     "metadata": {},
     "output_type": "execute_result"
    }
   ],
   "source": [
    "pressure_reading.queue.get()"
   ]
  },
  {
   "cell_type": "markdown",
   "metadata": {},
   "source": [
    "# Live Graphs of sensors"
   ]
  },
  {
   "cell_type": "code",
   "execution_count": 8,
   "metadata": {},
   "outputs": [],
   "source": [
    "colors = {'fig': 'lightgrey',   # set color of figure background around axes\n",
    "          'T': ('k', 'b')}      # set color of curves of the two channels of sensor T\n",
    "\n",
    "legends = {'P': ('Inlet', 'Outlet', 'Chamber')}\n",
    "\n",
    "linestyles = {'T': ('-', '--')}"
   ]
  },
  {
   "cell_type": "markdown",
   "metadata": {},
   "source": [
    "## Regular numerical plot"
   ]
  },
  {
   "cell_type": "markdown",
   "metadata": {},
   "source": [
    "**ATTENTION**: one may need to restart the kernel after running one of the examples below, in order to run another example"
   ]
  },
  {
   "cell_type": "markdown",
   "metadata": {},
   "source": [
    "### Data as single time values"
   ]
  },
  {
   "cell_type": "code",
   "execution_count": null,
   "metadata": {},
   "outputs": [
    {
     "name": "stderr",
     "output_type": "stream",
     "text": [
      "No artists with labels found to put in legend.  Note that artists whose label start with an underscore are ignored when legend() is called with no argument.\n"
     ]
    }
   ],
   "source": [
    "numplot = NumericalGraph(names=('P', 'T'),\n",
    "                         data_types=data_types,\n",
    "                         legends=legends,\n",
    "                         linestyles=linestyles,\n",
    "                         linestyle='.-',\n",
    "                         colors=colors)\n",
    "\n",
    "numplot.run(q_plot={'P': pressure_reading.queue,\n",
    "                    'T': temperature_reading.queue},\n",
    "            dt_graph=0.2)"
   ]
  },
  {
   "cell_type": "markdown",
   "metadata": {},
   "source": [
    "### Data as arrays"
   ]
  },
  {
   "cell_type": "code",
   "execution_count": 8,
   "metadata": {},
   "outputs": [],
   "source": [
    "numplot = NumericalGraph(names=('V',),\n",
    "                         data_types=data_types,\n",
    "                         data_as_array=True)\n",
    "\n",
    "numplot.run(q_plot={'V': electrical_reading.queue}, dt_graph=0.2)"
   ]
  },
  {
   "cell_type": "markdown",
   "metadata": {},
   "source": [
    "### Mix of single times and arrays"
   ]
  },
  {
   "cell_type": "code",
   "execution_count": null,
   "metadata": {},
   "outputs": [],
   "source": [
    "numplot = NumericalGraph(names=('P', 'V'),\n",
    "                         data_types=data_types,\n",
    "                         data_as_array={'P': False, 'V': True},\n",
    "                         time_conversion='pandas')\n",
    "\n",
    "numplot.run(q_plot={'P': pressure_reading.queue,\n",
    "                    'V': electrical_reading.queue},\n",
    "            dt_graph=0.2)"
   ]
  },
  {
   "cell_type": "markdown",
   "metadata": {},
   "source": [
    "## Oscilloscope-like graph"
   ]
  },
  {
   "cell_type": "markdown",
   "metadata": {},
   "source": [
    "### Data as single time values"
   ]
  },
  {
   "cell_type": "code",
   "execution_count": 10,
   "metadata": {},
   "outputs": [
    {
     "name": "stderr",
     "output_type": "stream",
     "text": [
      "No artists with labels found to put in legend.  Note that artists whose label start with an underscore are ignored when legend() is called with no argument.\n"
     ]
    }
   ],
   "source": [
    "oscillo = OscilloGraph(names=('P', 'T'),\n",
    "                       data_types=data_types,\n",
    "                       data_ranges=data_ranges,\n",
    "                       window_width=10,\n",
    "                       colors=colors,\n",
    "                       legends=legends,\n",
    "                       linestyles=linestyles)\n",
    "\n",
    "oscillo.run(q_plot={'P': pressure_reading.queue,\n",
    "                    'T': temperature_reading.queue},\n",
    "            dt_graph=0.02)"
   ]
  },
  {
   "cell_type": "markdown",
   "metadata": {},
   "source": [
    "### Data as arrays"
   ]
  },
  {
   "cell_type": "code",
   "execution_count": null,
   "metadata": {},
   "outputs": [],
   "source": [
    "oscillo = OscilloGraph(names=('V',),\n",
    "                       data_types=data_types,\n",
    "                       data_ranges=data_ranges,\n",
    "                       window_width=5.7,\n",
    "                       data_as_array=True)\n",
    "\n",
    "oscillo.run(q_plot={'V': electrical_reading.queue}, dt_graph=0.02)"
   ]
  },
  {
   "cell_type": "markdown",
   "metadata": {},
   "source": [
    "### Mix of single times and arrays"
   ]
  },
  {
   "cell_type": "code",
   "execution_count": null,
   "metadata": {},
   "outputs": [],
   "source": [
    "oscillo = OscilloGraph(names=('P', 'T', 'V'),\n",
    "                       data_types=data_types,\n",
    "                       data_ranges=data_ranges,\n",
    "                       window_width=5.7,\n",
    "                       colors=colors,\n",
    "                       data_as_array={'P': False, 'T': False, 'V': True})\n",
    "\n",
    "oscillo.run(q_plot={'P': pressure_reading.queue,\n",
    "                    'T': temperature_reading.queue,\n",
    "                    'V': electrical_reading.queue},\n",
    "            dt_graph=0.02)"
   ]
  },
  {
   "cell_type": "markdown",
   "metadata": {},
   "source": [
    "# Stop dummy sensors"
   ]
  },
  {
   "cell_type": "code",
   "execution_count": 8,
   "metadata": {},
   "outputs": [
    {
     "name": "stdout",
     "output_type": "stream",
     "text": [
      "Non-blocking run of P stopped.\n",
      "Non-blocking run of T stopped.\n",
      "Non-blocking run of V stopped.\n"
     ]
    }
   ],
   "source": [
    "for reading in readings:\n",
    "    reading.stop()"
   ]
  },
  {
   "cell_type": "code",
   "execution_count": null,
   "metadata": {},
   "outputs": [],
   "source": []
  }
 ],
 "metadata": {
  "kernelspec": {
   "display_name": "Python 3 (ipykernel)",
   "language": "python",
   "name": "python3"
  },
  "language_info": {
   "codemirror_mode": {
    "name": "ipython",
    "version": 3
   },
   "file_extension": ".py",
   "mimetype": "text/x-python",
   "name": "python",
   "nbconvert_exporter": "python",
   "pygments_lexer": "ipython3",
   "version": "3.10.9"
  }
 },
 "nbformat": 4,
 "nbformat_minor": 4
}
