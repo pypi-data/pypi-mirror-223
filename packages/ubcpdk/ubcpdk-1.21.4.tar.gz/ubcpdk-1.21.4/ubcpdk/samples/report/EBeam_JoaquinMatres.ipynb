{
 "cells": [
  {
   "cell_type": "markdown",
   "metadata": {},
   "source": [
    "---\n",
    "title: Process control monitors\n",
    "author: \"Joaquin Matres\"\n",
    "numbersections: true\n",
    "autoEqnLabels: true\n",
    "geometry:\n",
    "- top=30mm\n",
    "- left=20mm\n",
    "- right=20mm\n",
    "- bottom=30mm\n",
    "bibliography: library.bib\n",
    "header-includes:\n",
    "    - \\usepackage{float}\n",
    "\n",
    "---\n",
    "\n",
    "# Report\n",
    "\n",
    "## Motivation\n",
    "\n",
    "As we build more complex photonic systems we need to understand how the\n",
    "variability of each component affects the performance of the overall system. In\n",
    "this paper we add process control monitor the width and height control for the\n",
    "Ebeam process.\n",
    "\n",
    "Here is a list of components included in the mask\n",
    "\n",
    "- low and high order MZI to extract group index and effective index\n",
    "- different length spirals to extract propagation loss (dB/cm) versus wavelength\n",
    "- ring resonators to extract group and effective index variations\n",
    "\n",
    "\n",
    "All the code used, included this report can be found in [this github\n",
    "repo](https://github.com/gdsfactory/ubc), which contains:\n",
    "\n",
    "- GDS layout and circuit models for the components\n",
    "- mask code to build GDS, together with JSON metadata\n",
    "\n",
    "Links:\n",
    "\n",
    "- [gdsfactory documentation](https://gdsfactory.readthedocs.io/en/latest/)\n",
    "[@gdsfactory]\n",
    "- [simphony](https://simphonyphotonics.readthedocs.io/en/latest/) for circuit\n",
    "simulation.[@simphony]\n",
    "- [SiPANN](https://sipann.readthedocs.io/en/latest/) which uses a neural network\n",
    "to fit the component models. [@sipann]\n",
    "- [modes](https://modes.readthedocs.io/en/latest/index.html)\n",
    "\n",
    "\n",
    "## MZI interferometers\n",
    "\n",
    "We follow the method described in [@Xing2018] to extract the group index and\n",
    "effective index, where we use a low (m=15) and high order (m=150) MZI to extract\n",
    "the group and effective index of the waveguide, from which we can extract the\n",
    "waveguide width and height.\n",
    "\n",
    "\n",
    "$$m \\lambda_{res} = n_{eff} \\Delta L$$\n",
    "\n",
    "$$\\Delta L = m \\lambda_{res} / n_{eff}$$\n",
    "\n",
    "\n",
    "According to the ANT [website](https://www.appliednt.com/), waveguides have a\n",
    "sidewall angle of 82°. The fabricated 500x220 nm waveguides neff is 2.495 and\n",
    "group index 4.12"
   ]
  },
  {
   "cell_type": "code",
   "execution_count": null,
   "metadata": {},
   "outputs": [],
   "source": [
    "import modes\n",
    "import gdsfactory as gf\n",
    "import ubcpdk.simulation.circuits_simphony as cm\n",
    "import gdsfactory.simulation.simphony as gs\n",
    "import ubcpdk"
   ]
  },
  {
   "cell_type": "code",
   "execution_count": null,
   "metadata": {},
   "outputs": [],
   "source": [
    "s = modes.mode_solver_full(angle=82,\n",
    "                           width=500e-3,\n",
    "                           thickness=220e-3,\n",
    "                           plot=True,\n",
    "                           fields_to_write=('Ex',),\n",
    "                           n_modes=1)"
   ]
  },
  {
   "cell_type": "code",
   "execution_count": null,
   "metadata": {},
   "outputs": [],
   "source": [
    "ng = modes.group_index(thickness=220e-3, width=470e-3, angle=82)\n",
    "print(f'group index ng = {ng[0]:.2f}')"
   ]
  },
  {
   "cell_type": "code",
   "execution_count": null,
   "metadata": {},
   "outputs": [],
   "source": [
    "neff =  2.495\n",
    "delta_length_short = 15 * 1.55 / neff\n",
    "delta_length_long = 150 * 1.55 / neff\n",
    "print(f'MZI short = {delta_length_short:.2f} MZI long = {delta_length_long:.2f}')"
   ]
  },
  {
   "cell_type": "markdown",
   "metadata": {},
   "source": [
    "We can now layout and simulate the MZI responses together with grating couplers."
   ]
  },
  {
   "cell_type": "code",
   "execution_count": null,
   "metadata": {},
   "outputs": [],
   "source": [
    "ubcpdk.components.mzi(delta_length=delta_length_long)"
   ]
  },
  {
   "cell_type": "code",
   "execution_count": null,
   "metadata": {},
   "outputs": [],
   "source": [
    "ubcpdk.components.mzi(delta_length=delta_length_short)"
   ]
  },
  {
   "cell_type": "code",
   "execution_count": null,
   "metadata": {
    "attributes": {
     "classes": [],
     "id": "",
     "n": "1"
    }
   },
   "outputs": [],
   "source": [
    "\n",
    "mzi_circuit_short = cm.mzi(delta_length=delta_length_short)\n",
    "gs.plot_circuit(mzi_circuit_short)"
   ]
  },
  {
   "cell_type": "code",
   "execution_count": null,
   "metadata": {},
   "outputs": [],
   "source": [
    "mzi_circuit_long = cm.mzi(delta_length=delta_length_long)\n",
    "gs.plot_circuit(mzi_circuit_long)"
   ]
  },
  {
   "cell_type": "markdown",
   "metadata": {},
   "source": [
    "## Ring resonators\n",
    "\n",
    "We add another method to extract group and effective index using Ring resonators\n",
    "as described in [@Lu2017].\n",
    "\n",
    "The ring resonators from the paper had 500 x 220nm waveguides, 4.5um coupler\n",
    "length, 200nm gap and 12um bend radius."
   ]
  },
  {
   "cell_type": "code",
   "execution_count": null,
   "metadata": {},
   "outputs": [],
   "source": [
    "ubcpdk.components.ring_single(length_x=4.5, gap=0.2, radius=12)"
   ]
  },
  {
   "cell_type": "code",
   "execution_count": null,
   "metadata": {},
   "outputs": [],
   "source": [
    "import ubcpdk.simulation.circuits_simphony as siepic\n",
    "import matplotlib.pyplot as plt\n",
    "\n",
    "c = siepic.ebeam_dc_halfring_straight(\n",
    "    gap=200e-9,\n",
    "    radius=12e-6,\n",
    "    width=500e-9,\n",
    "    thickness=220e-9,\n",
    "    couple_length=4e-6\n",
    ")\n",
    "gs.plot_model(c, pin_in='o1', pins=('o2', 'o3', 'o4'))"
   ]
  },
  {
   "cell_type": "markdown",
   "metadata": {},
   "source": [
    "We use [simphony](https://simphonyphotonics.readthedocs.io/en/latest/) for\n",
    "circuit simulation. As simphony misses Sparameters for some coupler designs, we\n",
    "use [SiPANN](https://sipann.readthedocs.io/en/latest/) which uses a neural\n",
    "network to interpolate missing Sparameter values."
   ]
  },
  {
   "cell_type": "code",
   "execution_count": null,
   "metadata": {},
   "outputs": [],
   "source": [
    "import numpy as np\n",
    "from SiPANN import nn\n",
    "\n",
    "\n",
    "def f(radius,\n",
    "      couplerLength,\n",
    "      gap,\n",
    "      width,\n",
    "      thickness,\n",
    "      sw_angle,\n",
    "      couplerWidth,\n",
    "      wavelength=np.squeeze(np.linspace(1.5,1.6,5000))):\n",
    "    \"\"\" units in um\n",
    "    \"\"\"    \n",
    "    E, alpha, t, alpha_s, _ = nn.racetrack_AP_RR_TF(wavelength,\n",
    "                                                    widthCoupler=couplerWidth,\n",
    "                                                    radius=radius,\n",
    "                                                    sw_angle=sw_angle,\n",
    "                                                    couplerLength=couplerLength,\n",
    "                                                    gap=gap,\n",
    "                                                    width=width,\n",
    "                                                    thickness=thickness)\n",
    "   \n",
    "    input       = np.squeeze([1,0])\n",
    "    throughPort = 10*np.log10(np.abs(np.squeeze(E)) ** 2)\n",
    "    #throughPort = np.unwrap(np.angle(np.squeeze(E)))\n",
    "\n",
    "    plt.figure()\n",
    "    plt.plot(wavelength, (throughPort), label='Through Port')\n",
    "    plt.xlabel('Wavelength ($\\mu$m)')\n",
    "    plt.ylabel('Power (a.u.)')\n",
    "    plt.grid(True)\n",
    "    plt.title(f'couplerLength = {couplerLength}')\n",
    "    plt.legend()\n",
    "    #plt.ylim(-30, 0.1)\n",
    "    #plt.xlim(1.55,1.56)\n",
    "    plt.tight_layout()\n",
    "    plt.show()"
   ]
  },
  {
   "cell_type": "code",
   "execution_count": null,
   "metadata": {},
   "outputs": [],
   "source": [
    "f(radius=12, couplerLength=4.5, gap=0.2, width=0.5, thickness=.22, sw_angle=82, couplerWidth=.5)"
   ]
  },
  {
   "cell_type": "code",
   "execution_count": null,
   "metadata": {},
   "outputs": [],
   "source": [
    "f(radius=12, couplerLength=6, gap=0.2, width=0.5, thickness=.22, sw_angle=82, couplerWidth=.5)"
   ]
  },
  {
   "cell_type": "code",
   "execution_count": null,
   "metadata": {},
   "outputs": [],
   "source": [
    "f(radius=12, couplerLength=2.5, gap=0.2, width=0.5, thickness=.22, sw_angle=82, couplerWidth=.5)"
   ]
  },
  {
   "cell_type": "markdown",
   "metadata": {},
   "source": [
    "As we can see it's hard to distinguish undercoupled from overcoupled regimes, so\n",
    "we plot both amplitude and phase."
   ]
  },
  {
   "cell_type": "code",
   "execution_count": null,
   "metadata": {},
   "outputs": [],
   "source": [
    "import numpy as np\n",
    "from SiPANN import nn\n",
    "\n",
    "wavelength = np.squeeze(np.linspace(1.5,1.6,5000))\n",
    "\n",
    "def f(radius,couplerLength,gap,width,thickness,sw_angle,couplerWidth):\n",
    "    \"\"\" units in um\n",
    "    \"\"\"\n",
    "    E, alpha, t, alpha_s, _ = nn.racetrack_AP_RR_TF(wavelength,\n",
    "                                                    widthCoupler=couplerWidth,\n",
    "                                                    radius=radius,\n",
    "                                                    sw_angle=sw_angle,\n",
    "                                                    couplerLength=couplerLength,\n",
    "                                                    gap=gap,\n",
    "                                                    width=width,\n",
    "                                                    thickness=thickness)\n",
    "\n",
    "\n",
    "    f, (ax1, ax2) = plt.subplots(2, 1, sharex=True)\n",
    "    # Evaluate response\n",
    "    input       = np.squeeze([1,0])\n",
    "    throughPort = 10*np.log10(np.abs(np.squeeze(E)) ** 2)\n",
    "    throughPort_angle = np.unwrap(np.angle(np.squeeze(E)))\n",
    "\n",
    "    ax1.plot(wavelength, (throughPort), label='Through Port')\n",
    "    ax1.set_ylabel('Power (dB)')\n",
    "    ax1.grid()\n",
    "    \n",
    "    ax2.plot(wavelength, (throughPort_angle), label='Through Port')\n",
    "    \n",
    "    plt.xlabel('Wavelength ($\\mu$m)')\n",
    "    plt.ylabel('Angle (rad)')\n",
    "    plt.grid(True)\n",
    "    #plt.legend()\n",
    "    ax1.set_ylim(-30, 0.1)\n",
    "    #plt.xlim(1.55,1.56)\n",
    "    plt.tight_layout()\n",
    "    ax1.set_title(f'couplerLength = {couplerLength}')\n",
    "\n",
    "    plt.show()"
   ]
  },
  {
   "cell_type": "code",
   "execution_count": null,
   "metadata": {},
   "outputs": [],
   "source": [
    "f(radius=12, couplerLength=4.5, gap=0.2, width=0.5, thickness=.22, sw_angle=82, couplerWidth=.5)"
   ]
  },
  {
   "cell_type": "code",
   "execution_count": null,
   "metadata": {},
   "outputs": [],
   "source": [
    "f(radius=12, couplerLength=2.5, gap=0.2, width=0.5, thickness=.22, sw_angle=82, couplerWidth=.5)"
   ]
  },
  {
   "cell_type": "code",
   "execution_count": null,
   "metadata": {},
   "outputs": [],
   "source": [
    "f(radius=12, couplerLength=6.5, gap=0.2, width=0.5, thickness=.22, sw_angle=82, couplerWidth=.5)"
   ]
  },
  {
   "cell_type": "markdown",
   "metadata": {},
   "source": [
    "## Spirals for waveguide loss\n",
    "\n",
    "For measuring waveguide loss for different wavelengths we added 3 spirals with\n",
    "different length"
   ]
  },
  {
   "cell_type": "code",
   "execution_count": null,
   "metadata": {},
   "outputs": [],
   "source": [
    "N = 15\n",
    "radius = 15\n",
    "\n",
    "s1 = gf.components.spiral_external_io(\n",
    "    N=N,\n",
    "    radius=radius,\n",
    "    y_straight_inner_top=0,\n",
    "    x_inner_length_cutback=0,\n",
    ")\n",
    "\n",
    "s2 = gf.components.spiral_external_io(\n",
    "    N=N,\n",
    "    radius=radius,\n",
    "    y_straight_inner_top=30,\n",
    "    x_inner_length_cutback=85,\n",
    ")\n",
    "\n",
    "print(f\"spiral 1 length = {s1.info['length']/1e4:.2f} cm\")\n",
    "s1"
   ]
  },
  {
   "cell_type": "code",
   "execution_count": null,
   "metadata": {},
   "outputs": [],
   "source": [
    "print(f\"spiral 2 length = {s2.info['length']/1e4:.2f} cm\")\n",
    "s2"
   ]
  },
  {
   "cell_type": "markdown",
   "metadata": {},
   "source": [
    "## References\n",
    "\n",
    "- [1] “Gdsfactory — gdsfactory documentation.” [Online]. Available:\n",
    "https://gdsfactory.readthedocs.io/en/latest/.\n",
    "- [2] “Simphony Documentation — Simphony Manual.” [Online]. Available:\n",
    "https://simphonyphotonics.readthedocs/io/en/latest/.\n",
    "- [3] “SiPANN documentation.” [Online]. Available:\n",
    "https://sipann.readthedocs.io/en/latest/.\n",
    "- [4] Y. Xing, J. Dong, S. Dwivedi, U. Khan, and W. Bogaerts, “Accurate\n",
    "extraction of fabricated geometry using optical measurement,” Photonics\n",
    "Research, vol. 6, no. 11, p. 1008, 2018, doi: 10.1364/prj.6.001008.\n",
    "- [5] Z. Lu et al., “Performance prediction for silicon photonics integrated\n",
    "circuits with layout-dependent correlated manufacturing variability,” Optics\n",
    "Express, vol. 25, no. 9, p. 9712, 2017, doi: 10.1364/oe.25.009712.\n",
    "- [6] [Modes documentation](https://modes.readthedocs.io/en/latest/index.html)"
   ]
  }
 ],
 "metadata": {
  "kernelspec": {
   "display_name": "Python 3 (ipykernel)",
   "language": "python",
   "name": "python3"
  },
  "language_info": {
   "codemirror_mode": {
    "name": "ipython",
    "version": 3
   },
   "file_extension": ".py",
   "mimetype": "text/x-python",
   "name": "python",
   "nbconvert_exporter": "python",
   "pygments_lexer": "ipython3",
   "version": "3.10.5"
  }
 },
 "nbformat": 4,
 "nbformat_minor": 4
}
