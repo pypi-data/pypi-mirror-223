{
 "cells": [
  {
   "cell_type": "code",
   "execution_count": null,
   "metadata": {},
   "outputs": [],
   "source": [
    "from dgl_client.api_cli import APIClient\n",
    "\n",
    "# Set endpoint\n",
    "DGL_API_ENDPOINT = \"https://www.diglife.eu/inference\"\n",
    "\n",
    "# Connect to the endpoint\n",
    "client = APIClient(DGL_API_ENDPOINT)    \n",
    "\n",
    "# Ask some general information (no auth required)\n",
    "available_models = client.get_available_models()\n",
    "available_wkf = client.get_available_workflows()\n",
    "\n",
    "# Active models \n",
    "print(available_models)\n",
    "# Active workflow\n",
    "print(available_wkf)\n",
    "\n",
    "# From now on, we need to be authenticated!\n",
    "\n",
    "# Login\n",
    "ACCESS_KEY=\"PUT YOUR TOKEN HERE\"\n",
    "client.login(ACCESS_KEY)\n",
    "\n",
    "# Create a new chat\n",
    "chat_id = client.create_chat()\n",
    "\n",
    "# Or continue the previous one\n",
    "# chat_id = client.continue_chat(args.chat_id)\n",
    "\n",
    "# Select a model from the available ones\n",
    "model_name = available_models[0]\n",
    "\n",
    "# Send a message\n",
    "events = client.send_message(\n",
    "    \"Hello my dear assistant. How are you feeling today?\", \n",
    "    model_name\n",
    "    )\n",
    "\n",
    "# The message is streamed token by token\n",
    "for event in events:\n",
    "    print(event, end=\"\", flush=True)"
   ]
  }
 ],
 "metadata": {
  "interpreter": {
   "hash": "d201d8befdbd85dcb3ae82090bb60edf1634bef8be4393cb7e578f5bee6a998b"
  },
  "kernelspec": {
   "display_name": "Python 3.10.10 ('diglife')",
   "language": "python",
   "name": "python3"
  },
  "language_info": {
   "codemirror_mode": {
    "name": "ipython",
    "version": 3
   },
   "file_extension": ".py",
   "mimetype": "text/x-python",
   "name": "python",
   "nbconvert_exporter": "python",
   "pygments_lexer": "ipython3",
   "version": "3.10.10"
  },
  "orig_nbformat": 4
 },
 "nbformat": 4,
 "nbformat_minor": 2
}
