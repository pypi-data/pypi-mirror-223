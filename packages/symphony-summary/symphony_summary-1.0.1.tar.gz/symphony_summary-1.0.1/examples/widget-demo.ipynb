{
 "cells": [
  {
   "cell_type": "markdown",
   "id": "74b813ce",
   "metadata": {},
   "source": [
    "# Summary Demo \n",
    "\n",
    "Run this noteboook to test your widget, and create the initial directory to be able to run `yarn dev`."
   ]
  },
  {
   "cell_type": "code",
   "execution_count": null,
   "id": "13391e4a",
   "metadata": {},
   "outputs": [],
   "source": [
    "%load_ext autoreload\n",
    "%autoreload 2"
   ]
  },
  {
   "cell_type": "code",
   "execution_count": null,
   "id": "29360797",
   "metadata": {},
   "outputs": [],
   "source": [
    "import random\n",
    "import pandas as pd\n",
    "\n",
    "import symphony_ui\n",
    "from symphony_summary import SymphonySummary"
   ]
  },
  {
   "cell_type": "markdown",
   "id": "88b54f82",
   "metadata": {},
   "source": [
    "### Create/Import Data \n",
    "\n",
    "Create a Pandas DataFrame with your data or the metadata for a dataset."
   ]
  },
  {
   "cell_type": "code",
   "execution_count": null,
   "id": "7c022a41",
   "metadata": {},
   "outputs": [],
   "source": [
    "a = [random.choice(['a', 'b']) for i in range(100)]\n",
    "b = [random.randint(50, 200) for i in range(100)]\n",
    "c = [random.randint(0, 1) for i in range(100)]\n",
    "\n",
    "df = pd.DataFrame(zip(a, b, c), columns=['a', 'b', 'c'])"
   ]
  },
  {
   "cell_type": "code",
   "execution_count": null,
   "id": "a834e1ca",
   "metadata": {},
   "outputs": [],
   "source": [
    "df.head()"
   ]
  },
  {
   "cell_type": "markdown",
   "id": "2b11b045",
   "metadata": {},
   "source": [
    "### Create Symphony Widgets\n",
    "\n",
    "We can now explore the individual widgets!"
   ]
  },
  {
   "cell_type": "code",
   "execution_count": null,
   "id": "3f966664",
   "metadata": {},
   "outputs": [],
   "source": [
    "symph = symphony_ui.Symphony(df, id_column='a', notebook=True)"
   ]
  },
  {
   "cell_type": "code",
   "execution_count": null,
   "id": "ba933d33",
   "metadata": {},
   "outputs": [],
   "source": [
    "symph.widget(SymphonySummary)"
   ]
  },
  {
   "cell_type": "code",
   "execution_count": null,
   "id": "2463aaee",
   "metadata": {},
   "outputs": [],
   "source": [
    "symph.export('../symphony_summary/standalone', name=\"Widget Demo\")"
   ]
  },
  {
   "cell_type": "code",
   "execution_count": null,
   "id": "62aa9925",
   "metadata": {},
   "outputs": [],
   "source": []
  }
 ],
 "metadata": {
  "finalized": {
   "timestamp": 1623266852462,
   "trusted": false
  },
  "kernelspec": {
   "display_name": "Python 3 (ipykernel)",
   "language": "python",
   "name": "python3"
  },
  "language_info": {
   "codemirror_mode": {
    "name": "ipython",
    "version": 3
   },
   "file_extension": ".py",
   "mimetype": "text/x-python",
   "name": "python",
   "nbconvert_exporter": "python",
   "pygments_lexer": "ipython3",
   "version": "3.11.4"
  },
  "metadata": {
   "interpreter": {
    "hash": "61676ae764c2630d6a4b513ad0617d91546daad86abd1efe70032d363af5955a"
   }
  },
  "widgets": {
   "application/vnd.jupyter.widget-state+json": {
    "state": {},
    "version_major": 2,
    "version_minor": 0
   }
  }
 },
 "nbformat": 4,
 "nbformat_minor": 5
}
