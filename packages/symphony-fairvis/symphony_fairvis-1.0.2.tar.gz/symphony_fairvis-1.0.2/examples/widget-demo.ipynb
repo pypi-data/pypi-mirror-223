{
 "cells": [
  {
   "cell_type": "markdown",
   "id": "83f98ed8",
   "metadata": {},
   "source": [
    "# FairVis Demo \n",
    "\n",
    "Run this noteboook to test your widget, and create the initial directory to be able to run `yarn dev`."
   ]
  },
  {
   "cell_type": "code",
   "execution_count": null,
   "id": "5326d132",
   "metadata": {},
   "outputs": [],
   "source": [
    "%load_ext autoreload\n",
    "%autoreload 2"
   ]
  },
  {
   "cell_type": "code",
   "execution_count": null,
   "id": "66bbe11d",
   "metadata": {},
   "outputs": [],
   "source": [
    "import random\n",
    "import pandas as pd\n",
    "\n",
    "import symphony_ui\n",
    "from symphony_fairvis import SymphonyFairVis"
   ]
  },
  {
   "cell_type": "markdown",
   "id": "c6beda34",
   "metadata": {},
   "source": [
    "### Create/Import Data \n",
    "\n",
    "Create a Pandas DataFrame with your data or the metadata for a dataset."
   ]
  },
  {
   "cell_type": "code",
   "execution_count": null,
   "id": "e97af1d5",
   "metadata": {},
   "outputs": [],
   "source": [
    "# https://parasite.id/blog/2018-12-13-model-evaluation/\n",
    "label = (['Hymnenolopsis nana'] * 5) + (['Trichuris trichuria'] * 11) + (['Hookworm'] * 27) + (['Ascaris'] * 48) + (['Shistosoma'] * 58) + (['Shistosoma japonicum'] * 57) + (['Shistosoma haematobium'] * 42) + (['Fasciola'] * 58) + (['Taenia'] * 74) + (['Negative'] * 500)\n",
    "prediction = (['Hymnenolopsis nana'] * 5) + (['Trichuris trichuria'] * 9) + ['Fasciola', 'Shistosoma haematobium'] + (['Hookworm'] * 25) + ['Ascaris', 'Hymnenolopsis nana'] + (['Ascaris'] * 47) + ['Negative'] + (['Shistosoma'] * 52) + ['Shistosoma haematobium'] * 3 + ['Negative', 'Hookworm', 'Fasciola'] + (['Shistosoma japonicum'] * 53) + ['Shistosoma haematobium', 'Hookworm', 'Hookworm', 'Negative'] + (['Shistosoma haematobium'] * 33) + ['Hookworm', 'Shistosoma japonicum', 'Shistosoma japonicum', 'Shistosoma', 'Shistosoma', 'Trichuris trichuria', 'Trichuris trichuria', 'Negative', 'Negative'] + (['Fasciola'] * 58) + (['Taenia'] * 71) + ['Ascaris', 'Ascaris', 'Shistosoma japonicum'] + (['Negative'] * 498) + ['Shistosoma haematobium', 'Ascaris']\n",
    "group = [random.choice(['group_1', 'group_2', 'group_3']) for i in range(880)]\n",
    "\n",
    "df = pd.DataFrame(zip(label, prediction, group), columns=['label', 'prediction', 'group'])"
   ]
  },
  {
   "cell_type": "code",
   "execution_count": null,
   "id": "5a371d08",
   "metadata": {},
   "outputs": [],
   "source": [
    "df.head()"
   ]
  },
  {
   "cell_type": "markdown",
   "id": "313f3194",
   "metadata": {},
   "source": [
    "### Create Symphony Widgets\n",
    "\n",
    "We can now explore the individual widgets!"
   ]
  },
  {
   "cell_type": "code",
   "execution_count": null,
   "id": "91a120fc",
   "metadata": {},
   "outputs": [],
   "source": [
    "symph = symphony_ui.Symphony(df, notebook=True)"
   ]
  },
  {
   "cell_type": "code",
   "execution_count": null,
   "id": "09410ab9",
   "metadata": {},
   "outputs": [],
   "source": [
    "symph.widget(SymphonyFairVis, label_column=\"label\", prediction_column=\"prediction\")"
   ]
  },
  {
   "cell_type": "code",
   "execution_count": null,
   "id": "ecdcace5",
   "metadata": {},
   "outputs": [],
   "source": [
    "symph.export('../symphony_fairvis/standalone', name=\"Widget Demo\")"
   ]
  },
  {
   "cell_type": "code",
   "execution_count": null,
   "id": "10e154e4",
   "metadata": {},
   "outputs": [],
   "source": []
  }
 ],
 "metadata": {
  "finalized": {
   "timestamp": 1623266852462,
   "trusted": false
  },
  "kernelspec": {
   "display_name": "Python 3 (ipykernel)",
   "language": "python",
   "name": "python3"
  },
  "language_info": {
   "codemirror_mode": {
    "name": "ipython",
    "version": 3
   },
   "file_extension": ".py",
   "mimetype": "text/x-python",
   "name": "python",
   "nbconvert_exporter": "python",
   "pygments_lexer": "ipython3",
   "version": "3.11.4"
  },
  "metadata": {
   "interpreter": {
    "hash": "61676ae764c2630d6a4b513ad0617d91546daad86abd1efe70032d363af5955a"
   }
  }
 },
 "nbformat": 4,
 "nbformat_minor": 5
}
