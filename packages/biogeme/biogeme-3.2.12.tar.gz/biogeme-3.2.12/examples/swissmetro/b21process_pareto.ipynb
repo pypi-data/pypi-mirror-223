{
  "cells": [
    {
      "cell_type": "code",
      "metadata": {},
      "source": [
        "#%%\n",
        "\"\"\"File b21process_pareto.py\n",
        "\n",
        ":author: Michel Bierlaire, EPFL\n",
        ":date: Wed Apr 12 17:46:14 2023\n",
        "\n",
        "The assisted specification algorithm generates a file containg the\n",
        "pareto optimal specification. This script is designed to re-estimate\n",
        "the Pareto optimal models\n",
        "\n",
        "\"\"\"\n",
        "import biogeme.logging as blog\n",
        "try: \n",
        "    import matplotlib.pyplot as plt\n",
        "    can_plot = True\n",
        "except ModuleNotFoundError:\n",
        "    can_plot = False\n",
        "from biogeme_optimization.exceptions import OptimizationError\n",
        "from biogeme.assisted import ParetoPostProcessing\n",
        "from biogeme.results import compileEstimationResults\n",
        "from b21multiple_models_spec import the_biogeme, PARETO_FILE_NAME\n",
        "\n",
        "logger = blog.get_screen_logger(blog.INFO)\n",
        "logger.info('Example b21process_pareto.py')\n",
        "\n",
        "CSV_FILE = 'b21process_pareto.csv'\n",
        "SEP_CSV = ','\n",
        "\n",
        "the_pareto_post = ParetoPostProcessing(\n",
        "    biogeme_object=the_biogeme,\n",
        "    pareto_file_name=PARETO_FILE_NAME,\n",
        ")\n",
        "\n",
        "the_pareto_post.log_statistics()\n",
        "\n",
        "all_results = the_pareto_post.reestimate(recycle=True)\n",
        "\n",
        "summary, description = compileEstimationResults(all_results, use_short_names=True)\n",
        "print(summary)\n",
        "print(f'Summary table available in {CSV_FILE}')\n",
        "summary.to_csv(CSV_FILE, sep=SEP_CSV)\n",
        "with open(CSV_FILE, 'a', encoding='utf-8') as f:\n",
        "    print('\\n\\n', file=f)\n",
        "    for k, v in description.items():\n",
        "        if k != v:\n",
        "            print(f'{k}: {v}')\n",
        "            print(f'{k}{SEP_CSV}{v}', file=f)\n",
        "\n",
        "if can_plot:\n",
        "    try:\n",
        "        _ = the_pareto_post.plot()\n",
        "        plt.show()\n",
        "    except OptimizationError as e:\n",
        "        print(f'No plot available: {e}')\n"
      ],
      "outputs": [],
      "execution_count": null
    }
  ],
  "metadata": {
    "anaconda-cloud": {},
    "kernelspec": {
      "display_name": "Python 3",
      "language": "python",
      "name": "python3"
    },
    "language_info": {
      "codemirror_mode": {
        "name": "ipython",
        "version": 3
      },
      "file_extension": ".py",
      "mimetype": "text/x-python",
      "name": "python",
      "nbconvert_exporter": "python",
      "pygments_lexer": "ipython3",
      "version": "3.6.1"
    }
  },
  "nbformat": 4,
  "nbformat_minor": 4
}