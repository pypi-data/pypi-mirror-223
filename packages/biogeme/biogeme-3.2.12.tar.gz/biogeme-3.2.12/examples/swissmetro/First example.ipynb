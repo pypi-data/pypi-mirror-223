{
 "cells": [
  {
   "cell_type": "code",
   "execution_count": 2,
   "id": "c27e608b",
   "metadata": {},
   "outputs": [],
   "source": [
    "import biogeme.biogeme as bio"
   ]
  },
  {
   "cell_type": "code",
   "execution_count": 3,
   "id": "b763a0a9",
   "metadata": {},
   "outputs": [],
   "source": [
    "from biogeme import models"
   ]
  },
  {
   "cell_type": "code",
   "execution_count": 4,
   "id": "ec6501ec",
   "metadata": {},
   "outputs": [],
   "source": [
    "from biogeme.expressions import Beta"
   ]
  },
  {
   "cell_type": "code",
   "execution_count": 6,
   "id": "8d7e6e5f",
   "metadata": {},
   "outputs": [],
   "source": [
    "from swissmetro_data import (\n",
    "    database,\n",
    "    CHOICE,\n",
    "    SM_AV,\n",
    "    CAR_AV_SP,\n",
    "    TRAIN_AV_SP,\n",
    "    TRAIN_TT_SCALED,\n",
    "    TRAIN_COST_SCALED,\n",
    "    SM_TT_SCALED,\n",
    "    SM_COST_SCALED,\n",
    "    CAR_TT_SCALED,\n",
    "    CAR_CO_SCALED\n",
    ")"
   ]
  },
  {
   "cell_type": "markdown",
   "id": "0161e58a",
   "metadata": {},
   "source": [
    "Parameters to be estimated"
   ]
  },
  {
   "cell_type": "code",
   "execution_count": 7,
   "id": "a369e94d",
   "metadata": {},
   "outputs": [],
   "source": [
    "ASC_CAR = Beta('ASC_CAR', 0, None, None, 0)\n",
    "ASC_TRAIN = Beta('ASC_TRAIN', 0, None, None, 0)\n",
    "ASC_SM = Beta('ASC_SM', 0, None, None, 1)"
   ]
  },
  {
   "cell_type": "code",
   "execution_count": 8,
   "id": "16dfa6b6",
   "metadata": {},
   "outputs": [],
   "source": [
    "B_TIME = Beta('B_TIME', 0, None, 0, 0)\n",
    "B_COST = Beta('B_COST', 0, None, 0, 0)"
   ]
  },
  {
   "cell_type": "markdown",
   "id": "904c2999",
   "metadata": {},
   "source": [
    "Utility functions"
   ]
  },
  {
   "cell_type": "code",
   "execution_count": 9,
   "id": "6eea5f82",
   "metadata": {},
   "outputs": [],
   "source": [
    "V_TRAIN = (\n",
    "    ASC_TRAIN +\n",
    "    B_TIME * TRAIN_TT_SCALED +\n",
    "    B_COST * TRAIN_COST_SCALED\n",
    ")"
   ]
  },
  {
   "cell_type": "code",
   "execution_count": 10,
   "id": "7b29d8d8",
   "metadata": {},
   "outputs": [],
   "source": [
    "V_SM = (\n",
    "    ASC_SM +\n",
    "    B_TIME * SM_TT_SCALED +\n",
    "    B_COST * SM_COST_SCALED\n",
    ")"
   ]
  },
  {
   "cell_type": "code",
   "execution_count": 11,
   "id": "126544db",
   "metadata": {},
   "outputs": [],
   "source": [
    "V_CAR = (\n",
    "    ASC_CAR +\n",
    "    B_TIME * CAR_TT_SCALED +\n",
    "    B_COST * CAR_CO_SCALED\n",
    ")"
   ]
  },
  {
   "cell_type": "code",
   "execution_count": 12,
   "id": "85a50a2b",
   "metadata": {},
   "outputs": [],
   "source": [
    "V = {1: V_TRAIN, 2: V_SM, 3: V_CAR}"
   ]
  },
  {
   "cell_type": "code",
   "execution_count": 13,
   "id": "52fcb5a0",
   "metadata": {},
   "outputs": [],
   "source": [
    "av = {1: TRAIN_AV_SP, 2: SM_AV, 3: CAR_AV_SP}"
   ]
  },
  {
   "cell_type": "code",
   "execution_count": 16,
   "id": "9acdb116",
   "metadata": {},
   "outputs": [],
   "source": [
    "logprob = models.loglogit(V, av, CHOICE)"
   ]
  },
  {
   "cell_type": "code",
   "execution_count": 17,
   "id": "06fcdae8",
   "metadata": {},
   "outputs": [],
   "source": [
    "the_biogeme = bio.BIOGEME(database, logprob)\n",
    "the_biogeme.modelName = 'my_example'"
   ]
  },
  {
   "cell_type": "code",
   "execution_count": 18,
   "id": "926e7ba2",
   "metadata": {},
   "outputs": [
    {
     "data": {
      "text/plain": [
       "-6964.662979191462"
      ]
     },
     "execution_count": 18,
     "metadata": {},
     "output_type": "execute_result"
    }
   ],
   "source": [
    "the_biogeme.calculateNullLoglikelihood(av)"
   ]
  },
  {
   "cell_type": "code",
   "execution_count": 19,
   "id": "d6a56e9e",
   "metadata": {},
   "outputs": [],
   "source": [
    "results = the_biogeme.estimate()"
   ]
  },
  {
   "cell_type": "code",
   "execution_count": 21,
   "id": "e4e715a8",
   "metadata": {},
   "outputs": [
    {
     "name": "stdout",
     "output_type": "stream",
     "text": [
      "Results for model my_example\n",
      "Nbr of parameters:\t\t4\n",
      "Sample size:\t\t\t6768\n",
      "Excluded data:\t\t\t3960\n",
      "Null log likelihood:\t\t-6964.663\n",
      "Final log likelihood:\t\t-5331.252\n",
      "Likelihood ratio test (null):\t\t3266.822\n",
      "Rho square (null):\t\t\t0.235\n",
      "Rho bar square (null):\t\t\t0.234\n",
      "Akaike Information Criterion:\t10670.5\n",
      "Bayesian Information Criterion:\t10697.78\n",
      "\n"
     ]
    }
   ],
   "source": [
    "print(results.shortSummary())"
   ]
  },
  {
   "cell_type": "code",
   "execution_count": 22,
   "id": "07e188f8",
   "metadata": {},
   "outputs": [
    {
     "data": {
      "text/html": [
       "<div>\n",
       "<style scoped>\n",
       "    .dataframe tbody tr th:only-of-type {\n",
       "        vertical-align: middle;\n",
       "    }\n",
       "\n",
       "    .dataframe tbody tr th {\n",
       "        vertical-align: top;\n",
       "    }\n",
       "\n",
       "    .dataframe thead th {\n",
       "        text-align: right;\n",
       "    }\n",
       "</style>\n",
       "<table border=\"1\" class=\"dataframe\">\n",
       "  <thead>\n",
       "    <tr style=\"text-align: right;\">\n",
       "      <th></th>\n",
       "      <th>Value</th>\n",
       "      <th>Rob. Std err</th>\n",
       "      <th>Rob. t-test</th>\n",
       "      <th>Rob. p-value</th>\n",
       "    </tr>\n",
       "  </thead>\n",
       "  <tbody>\n",
       "    <tr>\n",
       "      <th>ASC_CAR</th>\n",
       "      <td>-0.154633</td>\n",
       "      <td>0.058163</td>\n",
       "      <td>-2.658590</td>\n",
       "      <td>0.007847</td>\n",
       "    </tr>\n",
       "    <tr>\n",
       "      <th>ASC_TRAIN</th>\n",
       "      <td>-0.701187</td>\n",
       "      <td>0.082562</td>\n",
       "      <td>-8.492857</td>\n",
       "      <td>0.000000</td>\n",
       "    </tr>\n",
       "    <tr>\n",
       "      <th>B_COST</th>\n",
       "      <td>-1.083790</td>\n",
       "      <td>0.068225</td>\n",
       "      <td>-15.885521</td>\n",
       "      <td>0.000000</td>\n",
       "    </tr>\n",
       "    <tr>\n",
       "      <th>B_TIME</th>\n",
       "      <td>-1.277859</td>\n",
       "      <td>0.104254</td>\n",
       "      <td>-12.257120</td>\n",
       "      <td>0.000000</td>\n",
       "    </tr>\n",
       "  </tbody>\n",
       "</table>\n",
       "</div>"
      ],
      "text/plain": [
       "              Value  Rob. Std err  Rob. t-test  Rob. p-value\n",
       "ASC_CAR   -0.154633      0.058163    -2.658590      0.007847\n",
       "ASC_TRAIN -0.701187      0.082562    -8.492857      0.000000\n",
       "B_COST    -1.083790      0.068225   -15.885521      0.000000\n",
       "B_TIME    -1.277859      0.104254   -12.257120      0.000000"
      ]
     },
     "execution_count": 22,
     "metadata": {},
     "output_type": "execute_result"
    }
   ],
   "source": [
    "results.getEstimatedParameters()"
   ]
  },
  {
   "cell_type": "code",
   "execution_count": null,
   "id": "c9d4c6cd",
   "metadata": {},
   "outputs": [],
   "source": []
  }
 ],
 "metadata": {
  "kernelspec": {
   "display_name": "Python 3 (ipykernel)",
   "language": "python",
   "name": "python3"
  },
  "language_info": {
   "codemirror_mode": {
    "name": "ipython",
    "version": 3
   },
   "file_extension": ".py",
   "mimetype": "text/x-python",
   "name": "python",
   "nbconvert_exporter": "python",
   "pygments_lexer": "ipython3",
   "version": "3.11.3"
  }
 },
 "nbformat": 4,
 "nbformat_minor": 5
}
