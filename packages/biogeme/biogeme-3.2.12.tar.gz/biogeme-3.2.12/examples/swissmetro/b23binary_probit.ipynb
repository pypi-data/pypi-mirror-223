{
  "cells": [
    {
      "cell_type": "code",
      "metadata": {},
      "source": [
        "#%%\n",
        "\"\"\"File b23binary_probit.py\n",
        "\n",
        ":author: Michel Bierlaire, EPFL\n",
        ":date: Wed Apr 12 17:58:18 2023\n",
        "\n",
        " Example of a binary probit model.\n",
        " Two alternatives: Train and Car\n",
        "\"\"\"\n",
        "\n",
        "import biogeme.biogeme as bio\n",
        "from biogeme.expressions import Beta, bioNormalCdf, Elem, log\n",
        "from swissmetro_binary import (\n",
        "    database,\n",
        "    CHOICE,\n",
        "    TRAIN_AV_SP,\n",
        "    CAR_AV_SP,\n",
        "    TRAIN_TT_SCALED,\n",
        "    TRAIN_COST_SCALED,\n",
        "    CAR_TT_SCALED,\n",
        "    CAR_CO_SCALED,\n",
        ")\n",
        "\n",
        "# Parameters to be estimated\n",
        "ASC_CAR = Beta('ASC_CAR', 0, None, None, 0)\n",
        "B_TIME_CAR = Beta('B_TIME_CAR', 0, None, None, 0)\n",
        "B_TIME_TRAIN = Beta('B_TIME_TRAIN', 0, None, None, 0)\n",
        "B_COST_CAR = Beta('B_COST_CAR', 0, None, None, 0)\n",
        "B_COST_TRAIN = Beta('B_COST_TRAIN', 0, None, None, 0)\n",
        "\n",
        "# Definition of the utility functions\n",
        "# We estimate a binary probit model. There are only two alternatives.\n",
        "V1 = B_TIME_TRAIN * TRAIN_TT_SCALED + B_COST_TRAIN * TRAIN_COST_SCALED\n",
        "V3 = ASC_CAR + B_TIME_CAR * CAR_TT_SCALED + B_COST_CAR * CAR_CO_SCALED\n",
        "\n",
        "# Associate choice probability with the numbering of alternatives\n",
        "# If one alternative is not available, the choice probability of the other one is 1.\n",
        "logP = {\n",
        "    1: TRAIN_AV_SP * (CAR_AV_SP * log(bioNormalCdf(V1 - V3) + 1 - CAR_AV_SP)),\n",
        "    3: CAR_AV_SP * (TRAIN_AV_SP * log(bioNormalCdf(V3 - V1) + 1 - TRAIN_AV_SP)),\n",
        "}\n",
        "\n",
        "# Definition of the model. This is the contribution of each\n",
        "# observation to the log likelihood function.\n",
        "logprob = Elem(logP, CHOICE)\n",
        "\n",
        "# Create the Biogeme object\n",
        "the_biogeme = bio.BIOGEME(database, logprob)\n",
        "the_biogeme.modelName = 'b23probit'\n",
        "\n",
        "# Estimate the parameters\n",
        "results = the_biogeme.estimate()\n",
        "print(results.short_summary())\n",
        "pandas_results = results.getEstimatedParameters()\n",
        "print(pandas_results)\n"
      ],
      "outputs": [],
      "execution_count": null
    }
  ],
  "metadata": {
    "anaconda-cloud": {},
    "kernelspec": {
      "display_name": "Python 3",
      "language": "python",
      "name": "python3"
    },
    "language_info": {
      "codemirror_mode": {
        "name": "ipython",
        "version": 3
      },
      "file_extension": ".py",
      "mimetype": "text/x-python",
      "name": "python",
      "nbconvert_exporter": "python",
      "pygments_lexer": "ipython3",
      "version": "3.6.1"
    }
  },
  "nbformat": 4,
  "nbformat_minor": 4
}