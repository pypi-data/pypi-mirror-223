{
  "cells": [
    {
      "cell_type": "code",
      "metadata": {},
      "source": [
        "#%%\n",
        "\"\"\"File b21multiple_models.py\n",
        "\n",
        ":author: Michel Bierlaire, EPFL\n",
        ":date: Wed Apr 12 16:58:49 2023\n",
        "\n",
        " Example of the estimation of several versions of the model using\n",
        " assisted specification algorithm Three alternatives: Train, Car and\n",
        "\n",
        "\"\"\"\n",
        "import biogeme.logging as blog\n",
        "from biogeme.results import compile_estimation_results\n",
        "from biogeme.multiobjectives import loglikelihood_dimension\n",
        "from biogeme.assisted import AssistedSpecification\n",
        "from b21multiple_models_spec import the_biogeme, PARETO_FILE_NAME\n",
        "\n",
        "logger = blog.get_screen_logger(blog.INFO)\n",
        "logger.info('Example b21multipleModels')\n",
        "\n",
        "assisted_specification = AssistedSpecification(\n",
        "    biogeme_object=the_biogeme,\n",
        "    multi_objectives=loglikelihood_dimension,\n",
        "    pareto_file_name=PARETO_FILE_NAME,\n",
        ")\n",
        "\n",
        "non_dominated_models = assisted_specification.run()\n",
        "\n",
        "summary, description = compile_estimation_results(\n",
        "    non_dominated_models, use_short_names=True\n",
        ")\n",
        "print(summary)\n",
        "for k, v in description.items():\n",
        "    if k != v:\n",
        "        print(f'{k}: {v} AIC={summary.at[\"Akaike Information Criterion\", k]}')\n"
      ],
      "outputs": [],
      "execution_count": null
    }
  ],
  "metadata": {
    "anaconda-cloud": {},
    "kernelspec": {
      "display_name": "Python 3",
      "language": "python",
      "name": "python3"
    },
    "language_info": {
      "codemirror_mode": {
        "name": "ipython",
        "version": 3
      },
      "file_extension": ".py",
      "mimetype": "text/x-python",
      "name": "python",
      "nbconvert_exporter": "python",
      "pygments_lexer": "ipython3",
      "version": "3.6.1"
    }
  },
  "nbformat": 4,
  "nbformat_minor": 4
}