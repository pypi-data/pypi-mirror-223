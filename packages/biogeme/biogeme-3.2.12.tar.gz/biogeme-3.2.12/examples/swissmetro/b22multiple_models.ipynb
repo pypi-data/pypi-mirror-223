{
  "cells": [
    {
      "cell_type": "code",
      "metadata": {},
      "source": [
        "#%%\n",
        "\"\"\"File b22multiple_models.py\n",
        "\n",
        ":author: Michel Bierlaire, EPFL\n",
        ":date: Wed Apr 12 17:05:40 2023\n",
        "\n",
        " Example of the estimation of several versions of the model. In this\n",
        "case, the number fo specifications exceed the maximum limit, so a heuristic is applied.\n",
        "It may actually end up enumerating all possiblities.\n",
        "\"\"\"\n",
        "\n",
        "import biogeme.logging as blog\n",
        "from biogeme.results import compile_estimation_results\n",
        "from biogeme.multiobjectives import AIC_BIC_dimension\n",
        "from biogeme.assisted import AssistedSpecification\n",
        "from b22multiple_models_spec import the_biogeme, PARETO_FILE_NAME\n",
        "\n",
        "\n",
        "logger = blog.get_screen_logger(blog.INFO)\n",
        "logger.info('Example b22multiple_models')\n",
        "\n",
        "\n",
        "nbr = the_biogeme.loglike.number_of_multiple_expressions()\n",
        "if nbr is None:\n",
        "    print('There are too many possible specifications to be enumerated')\n",
        "else:\n",
        "    print(f'There are {nbr} possible specifications')\n",
        "assisted_specification = AssistedSpecification(\n",
        "    biogeme_object=the_biogeme,\n",
        "    multi_objectives=AIC_BIC_dimension,\n",
        "    pareto_file_name=PARETO_FILE_NAME,\n",
        ")\n",
        "\n",
        "non_dominated_models = assisted_specification.run()\n",
        "\n",
        "summary, description = compile_estimation_results(\n",
        "    non_dominated_models, use_short_names=True\n",
        ")\n",
        "print(summary)\n",
        "for k, v in description.items():\n",
        "    if k != v:\n",
        "        print(f'{k}: {v}')\n"
      ],
      "outputs": [],
      "execution_count": null
    }
  ],
  "metadata": {
    "anaconda-cloud": {},
    "kernelspec": {
      "display_name": "Python 3",
      "language": "python",
      "name": "python3"
    },
    "language_info": {
      "codemirror_mode": {
        "name": "ipython",
        "version": 3
      },
      "file_extension": ".py",
      "mimetype": "text/x-python",
      "name": "python",
      "nbconvert_exporter": "python",
      "pygments_lexer": "ipython3",
      "version": "3.6.1"
    }
  },
  "nbformat": 4,
  "nbformat_minor": 4
}