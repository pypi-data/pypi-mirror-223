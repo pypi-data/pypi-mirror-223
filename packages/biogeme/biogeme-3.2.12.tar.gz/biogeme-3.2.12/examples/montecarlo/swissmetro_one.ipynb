{
  "cells": [
    {
      "cell_type": "code",
      "metadata": {},
      "source": [
        "#%%\n",
        "\"\"\" File: swissmetro_one.py\n",
        "\n",
        "Data preparation for Swissmetro. Use only the first observation for simulation.\n",
        "\n",
        " Author: Michel Bierlaire, EPFL\n",
        " Date: Thu Apr 13 20:51:58 2023\n",
        "\"\"\"\n",
        "import pandas as pd\n",
        "import biogeme.database as db\n",
        "from biogeme.expressions import Variable\n",
        "\n",
        "df = pd.read_csv('swissmetro.dat', sep='\\t')\n",
        "# Use only the first observation (index 0)\n",
        "df = df.drop(df[df.index != 0].index)\n",
        "database = db.Database('swissmetro', df)\n",
        "\n",
        "SM_CO = Variable('SM_CO')\n",
        "TRAIN_CO = Variable('TRAIN_CO')\n",
        "CAR_CO = Variable('CAR_CO')\n",
        "TRAIN_TT = Variable('TRAIN_TT')\n",
        "SM_TT = Variable('SM_TT')\n",
        "CAR_TT = Variable('CAR_TT')\n",
        "GA = Variable('GA')\n",
        "CAR_AV = Variable('CAR_AV')\n",
        "TRAIN_AV = Variable('TRAIN_AV')\n",
        "SM_AV = Variable('SM_AV')\n",
        "SP = Variable('SP')\n",
        "CHOICE = Variable('CHOICE')\n",
        "\n",
        "\n",
        "# Definition of new variables\n",
        "SM_COST = SM_CO * (GA == 0)\n",
        "TRAIN_COST = TRAIN_CO * (GA == 0)\n",
        "CAR_AV_SP = CAR_AV * (SP != 0)\n",
        "TRAIN_AV_SP = TRAIN_AV * (SP != 0)\n",
        "TRAIN_TT_SCALED = TRAIN_TT / 100.0\n",
        "TRAIN_COST_SCALED = TRAIN_COST / 100\n",
        "SM_TT_SCALED = SM_TT / 100.0\n",
        "SM_COST_SCALED = SM_COST / 100\n",
        "CAR_TT_SCALED = CAR_TT / 100\n",
        "CAR_CO_SCALED = CAR_CO / 100\n"
      ],
      "outputs": [],
      "execution_count": null
    }
  ],
  "metadata": {
    "anaconda-cloud": {},
    "kernelspec": {
      "display_name": "Python 3",
      "language": "python",
      "name": "python3"
    },
    "language_info": {
      "codemirror_mode": {
        "name": "ipython",
        "version": 3
      },
      "file_extension": ".py",
      "mimetype": "text/x-python",
      "name": "python",
      "nbconvert_exporter": "python",
      "pygments_lexer": "ipython3",
      "version": "3.6.1"
    }
  },
  "nbformat": 4,
  "nbformat_minor": 4
}