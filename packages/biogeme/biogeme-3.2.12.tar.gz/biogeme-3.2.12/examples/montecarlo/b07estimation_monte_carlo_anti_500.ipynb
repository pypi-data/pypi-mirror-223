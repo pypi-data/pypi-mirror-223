{
  "cells": [
    {
      "cell_type": "code",
      "metadata": {},
      "source": [
        "#%%\n",
        "\"\"\" File: b07estimation_monte_carlo_anti_500.py\n",
        "\n",
        " Author: Michel Bierlaire, EPFL\n",
        " Date: Thu Apr 13 22:43:46 2023\n",
        "\n",
        "Estimation of a mixtures of logit models where the integral is\n",
        "approximated using MonteCarlo integration.\n",
        "\n",
        "\"\"\"\n",
        "\n",
        "import biogeme.logging as blog\n",
        "from biogeme.expressions import bioDraws\n",
        "from b07estimation_specification import get_biogeme\n",
        "\n",
        "logger = blog.get_screen_logger(level=blog.INFO)\n",
        "logger.info('Example b07estimation_monte_carlo_anti_500.py')\n",
        "\n",
        "R = 500\n",
        "the_draws = bioDraws('B_TIME_RND', 'NORMAL_ANTI')\n",
        "the_biogeme = get_biogeme(the_draws)\n",
        "the_biogeme.number_of_draws = R\n",
        "the_biogeme.modelName = 'b07estimation_monte_carlo_anti_500'\n",
        "results = the_biogeme.estimate()\n",
        "\n",
        "# Get the results in a pandas table\n",
        "print(results.shortSummary())\n",
        "pandas_results = results.getEstimatedParameters()\n",
        "print(pandas_results)\n"
      ],
      "outputs": [],
      "execution_count": null
    }
  ],
  "metadata": {
    "anaconda-cloud": {},
    "kernelspec": {
      "display_name": "Python 3",
      "language": "python",
      "name": "python3"
    },
    "language_info": {
      "codemirror_mode": {
        "name": "ipython",
        "version": 3
      },
      "file_extension": ".py",
      "mimetype": "text/x-python",
      "name": "python",
      "nbconvert_exporter": "python",
      "pygments_lexer": "ipython3",
      "version": "3.6.1"
    }
  },
  "nbformat": 4,
  "nbformat_minor": 4
}