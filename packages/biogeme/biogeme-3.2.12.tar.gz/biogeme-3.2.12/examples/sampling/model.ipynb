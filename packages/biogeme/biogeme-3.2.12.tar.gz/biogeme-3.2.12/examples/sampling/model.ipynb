{
  "cells": [
    {
      "cell_type": "code",
      "metadata": {},
      "source": [
        "#%%\n",
        "\"\"\" Model specification for the choice of restaurants\n",
        "\n",
        ":author: Michel Bierlaire\n",
        ":date: Sat Apr 15 16:48:40 2023\n",
        "\"\"\"\n",
        "\n",
        "from biogeme.expressions import Beta, Variable\n",
        "from sample import SAMPLE_SIZE as N_ALT\n",
        "\n",
        "# Parameters to estimate\n",
        "beta_rating = Beta('beta_rating', 0, None, None, 0)\n",
        "beta_price = Beta('beta_price', 0, None, None, 0)\n",
        "beta_chinese = Beta('beta_chinese', 0, None, None, 0)\n",
        "beta_japanese = Beta('beta_japanese', 0, None, None, 0)\n",
        "beta_korean = Beta('beta_korean', 0, None, None, 0)\n",
        "beta_indian = Beta('beta_indian', 0, None, None, 0)\n",
        "beta_french = Beta('beta_french', 0, None, None, 0)\n",
        "beta_mexican = Beta('beta_mexican', 0, None, None, 0)\n",
        "beta_lebanese = Beta('beta_lebanese', 0, None, None, 0)\n",
        "beta_ethiopian = Beta('beta_ethiopian', 0, None, None, 0)\n",
        "beta_log_dist = Beta('beta_log_dist', 0, None, None, 0)\n",
        "\n",
        "# Correction for sampling of alternatives\n",
        "log_probability = {i: Variable(f'_log_proba_{i}') for i in range(N_ALT)}\n",
        "\n",
        "# Utility functions. Not that the correction temr is not included in\n",
        "# the utility functions themselves. It will be included in the call to\n",
        "# the function loglogit_sampling.\n",
        "\n",
        "V = {\n",
        "    i: (\n",
        "        beta_rating * Variable(f'rating_{i}')\n",
        "        + beta_price * Variable(f'price_{i}')\n",
        "        + beta_chinese * Variable(f'category_Chinese_{i}')\n",
        "        + beta_japanese * Variable(f'category_Japanese_{i}')\n",
        "        + beta_korean * Variable(f'category_Korean_{i}')\n",
        "        + beta_indian * Variable(f'category_Indian_{i}')\n",
        "        + beta_french * Variable(f'category_French_{i}')\n",
        "        + beta_mexican * Variable(f'category_Mexican_{i}')\n",
        "        + beta_lebanese * Variable(f'category_Lebanese_{i}')\n",
        "        + beta_ethiopian * Variable(f'category_Ethiopian_{i}')\n",
        "        + beta_log_dist * Variable(f'log_dist_{i}')\n",
        "    )\n",
        "    for i in range(N_ALT)\n",
        "}\n"
      ],
      "outputs": [],
      "execution_count": null
    }
  ],
  "metadata": {
    "anaconda-cloud": {},
    "kernelspec": {
      "display_name": "Python 3",
      "language": "python",
      "name": "python3"
    },
    "language_info": {
      "codemirror_mode": {
        "name": "ipython",
        "version": 3
      },
      "file_extension": ".py",
      "mimetype": "text/x-python",
      "name": "python",
      "nbconvert_exporter": "python",
      "pygments_lexer": "ipython3",
      "version": "3.6.1"
    }
  },
  "nbformat": 4,
  "nbformat_minor": 4
}