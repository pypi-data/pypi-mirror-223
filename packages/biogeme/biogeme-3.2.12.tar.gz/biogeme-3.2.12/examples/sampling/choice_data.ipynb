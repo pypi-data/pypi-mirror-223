{
  "cells": [
    {
      "cell_type": "code",
      "metadata": {},
      "source": [
        "#%%\n",
        "\"\"\"Processing of the choice data with sampling of alternatives\n",
        "\n",
        ":author: Michel Bierlaire\n",
        ":date: Sat Apr 15 16:46:42 2023\n",
        "\n",
        "\"\"\"\n",
        "import pandas as pd\n",
        "import biogeme.database as db\n",
        "from biogeme.expressions import Variable, log\n",
        "\n",
        "from sample import (\n",
        "    FILE_NAME,\n",
        "    SAMPLE_SIZE as N_ALT,\n",
        ")\n",
        "\n",
        "df = pd.read_csv(FILE_NAME)\n",
        "database = db.Database('choice_data', df)\n",
        "\n",
        "# We need to calculate the distances between each individual and each\n",
        "# restaurant in the sampled choice set.\n",
        "\n",
        "for i in range(N_ALT):\n",
        "    database.DefineVariable(\n",
        "        f'log_dist_{i}',\n",
        "        log(\n",
        "            (\n",
        "                (Variable('user_lat') - Variable(f'rest_lat_{i}')) ** 2\n",
        "                + (Variable('user_lon') - Variable(f'rest_lon_{i}')) ** 2\n",
        "            )\n",
        "            ** 0.5\n",
        "        ),\n",
        "    )\n"
      ],
      "outputs": [],
      "execution_count": null
    }
  ],
  "metadata": {
    "anaconda-cloud": {},
    "kernelspec": {
      "display_name": "Python 3",
      "language": "python",
      "name": "python3"
    },
    "language_info": {
      "codemirror_mode": {
        "name": "ipython",
        "version": 3
      },
      "file_extension": ".py",
      "mimetype": "text/x-python",
      "name": "python",
      "nbconvert_exporter": "python",
      "pygments_lexer": "ipython3",
      "version": "3.6.1"
    }
  },
  "nbformat": 4,
  "nbformat_minor": 4
}