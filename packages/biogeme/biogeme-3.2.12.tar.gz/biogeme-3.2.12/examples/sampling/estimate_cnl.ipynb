{
  "cells": [
    {
      "cell_type": "code",
      "metadata": {},
      "source": [
        "#%%\n",
        "\"\"\" Estimate the parameters of the cross-nested logit models with the generated samples\n",
        "\n",
        ":author: Michel Bierlaire\n",
        ":date: Sat Apr 15 16:59:43 2023\n",
        "\"\"\"\n",
        "\n",
        "import biogeme.biogeme as bio\n",
        "from biogeme import models\n",
        "from biogeme.expressions import Beta\n",
        "from biogeme.sampling import mev_cnl_sampling\n",
        "\n",
        "from sample import SAMPLE_SIZE as N_ALT\n",
        "from choice_data import database\n",
        "\n",
        "from model import V, log_probability\n",
        "\n",
        "mu_asian = Beta('mu_asian', 1, 1, None, 0)\n",
        "mu_downtown = Beta('mu_downtown', 1, 1, None, 0)\n",
        "\n",
        "# The nests definition is done through the variables in the file. For\n",
        "# each nest m and each alternative i, there must be a variable m_i\n",
        "# that is the level of membership of alternative i to nest m (usually\n",
        "# called the \"alpha\" membership parameters).\n",
        "\n",
        "# In this example, we define two nests, one for Asian restaurants, and\n",
        "# one for restaurants in Downtown. Note that their overlap, so that we\n",
        "# indeed have a cross-nested logit model.\n",
        "nests = {'Asian': mu_asian, 'downtown': mu_downtown}\n",
        "\n",
        "log_gi = mev_cnl_sampling(V, None, log_probability, nests)\n",
        "logprob = models.logmev(V, log_gi, None, 0)\n",
        "\n",
        "# Create the Biogeme object\n",
        "the_biogeme = bio.BIOGEME(database, logprob)\n",
        "the_biogeme.modelName = 'cnl'\n",
        "\n",
        "# Calculate the null log likelihood for reporting.\n",
        "the_biogeme.calculateNullLoglikelihood({i: 1 for i in range(N_ALT)})\n",
        "\n",
        "# Estimate the parameters\n",
        "results = the_biogeme.estimate(recycle=True)\n",
        "print(results.shortSummary())\n"
      ],
      "outputs": [],
      "execution_count": null
    }
  ],
  "metadata": {
    "anaconda-cloud": {},
    "kernelspec": {
      "display_name": "Python 3",
      "language": "python",
      "name": "python3"
    },
    "language_info": {
      "codemirror_mode": {
        "name": "ipython",
        "version": 3
      },
      "file_extension": ".py",
      "mimetype": "text/x-python",
      "name": "python",
      "nbconvert_exporter": "python",
      "pygments_lexer": "ipython3",
      "version": "3.6.1"
    }
  },
  "nbformat": 4,
  "nbformat_minor": 4
}