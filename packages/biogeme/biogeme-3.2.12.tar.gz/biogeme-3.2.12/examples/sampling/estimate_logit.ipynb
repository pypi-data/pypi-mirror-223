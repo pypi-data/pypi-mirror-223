{
  "cells": [
    {
      "cell_type": "code",
      "metadata": {},
      "source": [
        "#%%\n",
        "\"\"\" Estimate the parameters of the logit models with the generated sample\n",
        "\n",
        ":author: Michel Bierlaire\n",
        ":date: Sat Apr 15 16:32:36 2023\n",
        "\"\"\"\n",
        "\n",
        "import biogeme.biogeme as bio\n",
        "from biogeme import models\n",
        "\n",
        "from sample import SAMPLE_SIZE as N_ALT\n",
        "from choice_data import database\n",
        "\n",
        "from model import V, log_probability\n",
        "\n",
        "# Logit model, with correction for importance sampling of alternatives\n",
        "logprob = models.loglogit_sampling(V, None, log_probability, 0)\n",
        "\n",
        "# Create the Biogeme object\n",
        "the_biogeme = bio.BIOGEME(database, logprob)\n",
        "the_biogeme.modelName = 'logit'\n",
        "\n",
        "# Calculate the null log likelihood for reporting.\n",
        "the_biogeme.calculateNullLoglikelihood({i: 1 for i in range(N_ALT)})\n",
        "\n",
        "# Estimate the parameters\n",
        "results = the_biogeme.estimate(recycle=True)\n",
        "print(results.shortSummary())\n"
      ],
      "outputs": [],
      "execution_count": null
    }
  ],
  "metadata": {
    "anaconda-cloud": {},
    "kernelspec": {
      "display_name": "Python 3",
      "language": "python",
      "name": "python3"
    },
    "language_info": {
      "codemirror_mode": {
        "name": "ipython",
        "version": 3
      },
      "file_extension": ".py",
      "mimetype": "text/x-python",
      "name": "python",
      "nbconvert_exporter": "python",
      "pygments_lexer": "ipython3",
      "version": "3.6.1"
    }
  },
  "nbformat": 4,
  "nbformat_minor": 4
}