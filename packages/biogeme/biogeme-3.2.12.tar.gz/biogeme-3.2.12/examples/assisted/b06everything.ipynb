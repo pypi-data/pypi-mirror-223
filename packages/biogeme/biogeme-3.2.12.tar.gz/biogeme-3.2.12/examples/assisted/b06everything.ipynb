{
  "cells": [
    {
      "cell_type": "code",
      "metadata": {},
      "source": [
        "#%%\n",
        "\"\"\"File b06everything.py\n",
        "\n",
        ":author: Michel Bierlaire, EPFL\n",
        ":date: Fri Jul 14 09:55:33 2023\n",
        "\n",
        "Investigate various specifications:\n",
        "- 3 models\n",
        "    - logit\n",
        "    - nested logit with two nests: public and private transportation\n",
        "    - nested logit with two nests existing and future modes\n",
        "- 3 functional form for the travel time variables\n",
        "    - linear specification,\n",
        "    - Box-Cox transform,\n",
        "    - power series,\n",
        "- 2 specification for the cost coefficients:\n",
        "    - generic\n",
        "    - alternative specific\n",
        "- 2 specification for the travel time coefficients:\n",
        "    - generic\n",
        "    - alternative specific\n",
        "- 4 segmentations for the constants:\n",
        "    - not segmented\n",
        "    - segmented by GA (yearly subscription to public transport)\n",
        "    - segmented by luggage\n",
        "    - segmented both by GA and luggage\n",
        "-  3 segmentations for the time coefficients:\n",
        "    - not segmented\n",
        "    - segmented with first class\n",
        "    - segmented with trip purpose\n",
        "\n",
        "This leads to a total of 432 specifications.\n",
        "When the total number of specifications exceeds 100, Biogeme raises an\n",
        "ValueOutOfRange exception when the estimate_catalog is called.\n",
        "\n",
        "\"\"\"\n",
        "import biogeme.biogeme as bio\n",
        "from biogeme.exceptions import BiogemeError\n",
        "from everything_spec import model_catalog, database\n",
        "\n",
        "# Create the Biogeme object\n",
        "the_biogeme = bio.BIOGEME(database, model_catalog)\n",
        "the_biogeme.modelName = 'b06everything'\n",
        "the_biogeme.generate_html = False\n",
        "the_biogeme.generate_pickle = False\n",
        "\n",
        "# Estimate the parameters.\n",
        "# It won't work as there are two many specifications\n",
        "try:\n",
        "    dict_of_results = the_biogeme.estimate_catalog()\n",
        "except BiogemeError as e:\n",
        "    print(e)\n"
      ],
      "outputs": [],
      "execution_count": null
    }
  ],
  "metadata": {
    "anaconda-cloud": {},
    "kernelspec": {
      "display_name": "Python 3",
      "language": "python",
      "name": "python3"
    },
    "language_info": {
      "codemirror_mode": {
        "name": "ipython",
        "version": 3
      },
      "file_extension": ".py",
      "mimetype": "text/x-python",
      "name": "python",
      "nbconvert_exporter": "python",
      "pygments_lexer": "ipython3",
      "version": "3.6.1"
    }
  },
  "nbformat": 4,
  "nbformat_minor": 4
}