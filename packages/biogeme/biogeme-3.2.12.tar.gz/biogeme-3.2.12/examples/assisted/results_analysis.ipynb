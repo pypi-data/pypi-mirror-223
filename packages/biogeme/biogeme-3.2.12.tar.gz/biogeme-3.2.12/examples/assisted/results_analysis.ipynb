{
  "cells": [
    {
      "cell_type": "code",
      "metadata": {},
      "source": [
        "#%%\n",
        "\"\"\"File results_analysis\n",
        "\n",
        ":author: Michel Bierlaire, EPFL\n",
        ":date: Thu Jul 13 16:32:45 2023\n",
        "\n",
        "Reports the results of the catalog estimation\n",
        "\"\"\"\n",
        "\n",
        "\n",
        "from biogeme.results import compile_estimation_results, pareto_optimal\n",
        "\n",
        "\n",
        "def report(dict_of_results):\n",
        "    \"\"\"Reports the results of the estimared catalogs\"\"\"\n",
        "    print(f'A total of {len(dict_of_results)} models have been estimated')\n",
        "    print('== Estimation results ==')\n",
        "\n",
        "    compiled_results, specs = compile_estimation_results(\n",
        "        dict_of_results, use_short_names=True\n",
        "    )\n",
        "    print(compiled_results)\n",
        "    for short_name, spec in specs.items():\n",
        "        print(f'{short_name}\\t{spec}')\n",
        "\n",
        "    pareto_results = pareto_optimal(dict_of_results)\n",
        "    compiled_pareto_results, pareto_specs = compile_estimation_results(\n",
        "        pareto_results, use_short_names=True\n",
        "    )\n",
        "    print(compiled_pareto_results)\n",
        "    for short_name, spec in pareto_specs.items():\n",
        "        print(f'{short_name}\\t{spec}')\n"
      ],
      "outputs": [],
      "execution_count": null
    }
  ],
  "metadata": {
    "anaconda-cloud": {},
    "kernelspec": {
      "display_name": "Python 3",
      "language": "python",
      "name": "python3"
    },
    "language_info": {
      "codemirror_mode": {
        "name": "ipython",
        "version": 3
      },
      "file_extension": ".py",
      "mimetype": "text/x-python",
      "name": "python",
      "nbconvert_exporter": "python",
      "pygments_lexer": "ipython3",
      "version": "3.6.1"
    }
  },
  "nbformat": 4,
  "nbformat_minor": 4
}