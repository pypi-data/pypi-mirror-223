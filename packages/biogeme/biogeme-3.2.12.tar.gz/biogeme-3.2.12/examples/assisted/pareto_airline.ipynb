{
 "cells": [
  {
   "cell_type": "code",
   "execution_count": 1,
   "metadata": {},
   "outputs": [],
   "source": [
    "import matplotlib.pyplot as plt\n",
    "import biogeme.logging as blog\n",
    "from biogeme.assisted import AssistedSpecification\n",
    "from biogeme.results import compileEstimationResults, loglikelihood_dimension\n",
    "from airline_spec import the_biogeme"
   ]
  },
  {
   "cell_type": "code",
   "execution_count": 2,
   "metadata": {},
   "outputs": [],
   "source": [
    "PARETO_FILE_NAME = 'airline.pareto'"
   ]
  },
  {
   "cell_type": "code",
   "execution_count": 3,
   "metadata": {},
   "outputs": [],
   "source": [
    "assisted_specification = AssistedSpecification(\n",
    "    biogeme_object=the_biogeme,\n",
    "    multi_objectives=loglikelihood_dimension,\n",
    "    pareto_file_name=PARETO_FILE_NAME,\n",
    "    max_neighborhood=20,\n",
    ")\n"
   ]
  },
  {
   "cell_type": "code",
   "execution_count": 4,
   "metadata": {},
   "outputs": [
    {
     "data": {
      "text/plain": [
       "('Initial Pareto: 6 ',\n",
       " 'Initial considered: 47 ',\n",
       " 'Final Pareto: 6 ',\n",
       " 'Condidered: 47 ',\n",
       " 'Removed: 4')"
      ]
     },
     "execution_count": 4,
     "metadata": {},
     "output_type": "execute_result"
    }
   ],
   "source": [
    "assisted_specification.statistics()"
   ]
  },
  {
   "cell_type": "code",
   "execution_count": 5,
   "metadata": {},
   "outputs": [
    {
     "name": "stderr",
     "output_type": "stream",
     "text": [
      "Recycling was requested, but no pickle file was found\n",
      "Recycling was requested, but no pickle file was found\n",
      "Recycling was requested, but no pickle file was found\n",
      "Recycling was requested, but no pickle file was found\n",
      "Recycling was requested, but no pickle file was found\n",
      "Recycling was requested, but no pickle file was found\n"
     ]
    }
   ],
   "source": [
    "all_results = assisted_specification.reestimate(recycle=True)"
   ]
  },
  {
   "cell_type": "code",
   "execution_count": 6,
   "metadata": {},
   "outputs": [],
   "source": [
    "summary, description = compileEstimationResults(all_results, use_short_names=True)\n"
   ]
  },
  {
   "cell_type": "code",
   "execution_count": 7,
   "metadata": {},
   "outputs": [
    {
     "data": {
      "text/html": [
       "<div>\n",
       "<style scoped>\n",
       "    .dataframe tbody tr th:only-of-type {\n",
       "        vertical-align: middle;\n",
       "    }\n",
       "\n",
       "    .dataframe tbody tr th {\n",
       "        vertical-align: top;\n",
       "    }\n",
       "\n",
       "    .dataframe thead th {\n",
       "        text-align: right;\n",
       "    }\n",
       "</style>\n",
       "<table border=\"1\" class=\"dataframe\">\n",
       "  <thead>\n",
       "    <tr style=\"text-align: right;\">\n",
       "      <th></th>\n",
       "      <th>Model_000000</th>\n",
       "      <th>Model_000001</th>\n",
       "      <th>Model_000002</th>\n",
       "      <th>Model_000003</th>\n",
       "      <th>Model_000004</th>\n",
       "      <th>Model_000005</th>\n",
       "    </tr>\n",
       "  </thead>\n",
       "  <tbody>\n",
       "    <tr>\n",
       "      <th>Number of estimated parameters</th>\n",
       "      <td>86</td>\n",
       "      <td>7</td>\n",
       "      <td>61</td>\n",
       "      <td>34</td>\n",
       "      <td>19</td>\n",
       "      <td>12</td>\n",
       "    </tr>\n",
       "    <tr>\n",
       "      <th>Sample size</th>\n",
       "      <td>3609</td>\n",
       "      <td>3609</td>\n",
       "      <td>3609</td>\n",
       "      <td>3609</td>\n",
       "      <td>3609</td>\n",
       "      <td>3609</td>\n",
       "    </tr>\n",
       "    <tr>\n",
       "      <th>Final log likelihood</th>\n",
       "      <td>-2220.189013</td>\n",
       "      <td>-2331.193799</td>\n",
       "      <td>-2222.102487</td>\n",
       "      <td>-2230.955815</td>\n",
       "      <td>-2301.839103</td>\n",
       "      <td>-2305.428707</td>\n",
       "    </tr>\n",
       "    <tr>\n",
       "      <th>Akaike Information Criterion</th>\n",
       "      <td>4612.378027</td>\n",
       "      <td>4676.387599</td>\n",
       "      <td>4566.204973</td>\n",
       "      <td>4529.91163</td>\n",
       "      <td>4641.678206</td>\n",
       "      <td>4634.857414</td>\n",
       "    </tr>\n",
       "    <tr>\n",
       "      <th>Bayesian Information Criterion</th>\n",
       "      <td>5144.820023</td>\n",
       "      <td>4719.725901</td>\n",
       "      <td>4943.86732</td>\n",
       "      <td>4740.411954</td>\n",
       "      <td>4759.31074</td>\n",
       "      <td>4709.151646</td>\n",
       "    </tr>\n",
       "    <tr>\n",
       "      <th>...</th>\n",
       "      <td>...</td>\n",
       "      <td>...</td>\n",
       "      <td>...</td>\n",
       "      <td>...</td>\n",
       "      <td>...</td>\n",
       "      <td>...</td>\n",
       "    </tr>\n",
       "    <tr>\n",
       "      <th>cte_same_not important (t-test)</th>\n",
       "      <td></td>\n",
       "      <td></td>\n",
       "      <td></td>\n",
       "      <td>0  (1.8e+308)</td>\n",
       "      <td></td>\n",
       "      <td></td>\n",
       "    </tr>\n",
       "    <tr>\n",
       "      <th>mu_onestop (t-test)</th>\n",
       "      <td></td>\n",
       "      <td></td>\n",
       "      <td></td>\n",
       "      <td>1.57  (12.4)</td>\n",
       "      <td></td>\n",
       "      <td></td>\n",
       "    </tr>\n",
       "    <tr>\n",
       "      <th>beta_late_attending conf. (t-test)</th>\n",
       "      <td></td>\n",
       "      <td></td>\n",
       "      <td></td>\n",
       "      <td></td>\n",
       "      <td>-0.0543  (-0.704)</td>\n",
       "      <td></td>\n",
       "    </tr>\n",
       "    <tr>\n",
       "      <th>beta_late_business &amp; leisure (t-test)</th>\n",
       "      <td></td>\n",
       "      <td></td>\n",
       "      <td></td>\n",
       "      <td></td>\n",
       "      <td>-0.0696  (-1.01)</td>\n",
       "      <td></td>\n",
       "    </tr>\n",
       "    <tr>\n",
       "      <th>beta_late_leisure (t-test)</th>\n",
       "      <td></td>\n",
       "      <td></td>\n",
       "      <td></td>\n",
       "      <td></td>\n",
       "      <td>-0.03  (-0.503)</td>\n",
       "      <td></td>\n",
       "    </tr>\n",
       "  </tbody>\n",
       "</table>\n",
       "<p>111 rows × 6 columns</p>\n",
       "</div>"
      ],
      "text/plain": [
       "                                      Model_000000 Model_000001 Model_000002  \\\n",
       "Number of estimated parameters                  86            7           61   \n",
       "Sample size                                   3609         3609         3609   \n",
       "Final log likelihood                  -2220.189013 -2331.193799 -2222.102487   \n",
       "Akaike Information Criterion           4612.378027  4676.387599  4566.204973   \n",
       "Bayesian Information Criterion         5144.820023  4719.725901   4943.86732   \n",
       "...                                            ...          ...          ...   \n",
       "cte_same_not important (t-test)                                                \n",
       "mu_onestop (t-test)                                                            \n",
       "beta_late_attending conf. (t-test)                                             \n",
       "beta_late_business & leisure (t-test)                                          \n",
       "beta_late_leisure (t-test)                                                     \n",
       "\n",
       "                                        Model_000003       Model_000004  \\\n",
       "Number of estimated parameters                    34                 19   \n",
       "Sample size                                     3609               3609   \n",
       "Final log likelihood                    -2230.955815       -2301.839103   \n",
       "Akaike Information Criterion              4529.91163        4641.678206   \n",
       "Bayesian Information Criterion           4740.411954         4759.31074   \n",
       "...                                              ...                ...   \n",
       "cte_same_not important (t-test)        0  (1.8e+308)                      \n",
       "mu_onestop (t-test)                     1.57  (12.4)                      \n",
       "beta_late_attending conf. (t-test)                    -0.0543  (-0.704)   \n",
       "beta_late_business & leisure (t-test)                  -0.0696  (-1.01)   \n",
       "beta_late_leisure (t-test)                              -0.03  (-0.503)   \n",
       "\n",
       "                                      Model_000005  \n",
       "Number of estimated parameters                  12  \n",
       "Sample size                                   3609  \n",
       "Final log likelihood                  -2305.428707  \n",
       "Akaike Information Criterion           4634.857414  \n",
       "Bayesian Information Criterion         4709.151646  \n",
       "...                                            ...  \n",
       "cte_same_not important (t-test)                     \n",
       "mu_onestop (t-test)                                 \n",
       "beta_late_attending conf. (t-test)                  \n",
       "beta_late_business & leisure (t-test)               \n",
       "beta_late_leisure (t-test)                          \n",
       "\n",
       "[111 rows x 6 columns]"
      ]
     },
     "execution_count": 7,
     "metadata": {},
     "output_type": "execute_result"
    }
   ],
   "source": [
    "summary"
   ]
  },
  {
   "cell_type": "code",
   "execution_count": 8,
   "metadata": {},
   "outputs": [
    {
     "name": "stdout",
     "output_type": "stream",
     "text": [
      "Model_000000: early_direct_catalog:sqrt;fare_direct_catalog:sqrt;late_direct_catalog:linear;legroom_direct_catalog:sqrt;model:logit;segmented_beta_early:q17_Gender-q20_Education-q11_DepartureOrArrivalIsImportant;segmented_beta_fare:q11_DepartureOrArrivalIsImportant-q03_WhoPays;segmented_beta_late:q17_Gender-q20_Education-q11_DepartureOrArrivalIsImportant;segmented_beta_legroom:q17_Gender-q20_Education-q11_DepartureOrArrivalIsImportant;segmented_beta_time:q17_Gender-q20_Education-q03_WhoPays;segmented_cte_same:q02_TripPurpose-q17_Gender-q20_Education;term_time:generic\n",
      "Model_000001: early_direct_catalog:linear;fare_direct_catalog:linear;late_direct_catalog:linear;legroom_direct_catalog:linear;model:logit;segmented_beta_early:beta_early (no seg.);segmented_beta_fare:beta_fare (no seg.);segmented_beta_late:beta_late (no seg.);segmented_beta_legroom:beta_legroom (no seg.);segmented_beta_time:beta_time (no seg.);segmented_cte_same:cte_same (no seg.);term_time:generic\n",
      "Model_000002: early_direct_catalog:sqrt;fare_direct_catalog:sqrt;late_direct_catalog:sqrt;legroom_direct_catalog:sqrt;model:nested_same;segmented_beta_early:q17_Gender-q20_Education-q11_DepartureOrArrivalIsImportant;segmented_beta_fare:q02_TripPurpose-q17_Gender-q03_WhoPays;segmented_beta_late:q17_Gender-q11_DepartureOrArrivalIsImportant-q03_WhoPays;segmented_beta_legroom:q17_Gender-q20_Education-q11_DepartureOrArrivalIsImportant;segmented_beta_time:q17_Gender-q20_Education-q03_WhoPays;segmented_cte_same:q17_Gender;term_time:generic\n",
      "Model_000003: early_direct_catalog:sqrt;fare_direct_catalog:sqrt;late_direct_catalog:linear;legroom_direct_catalog:sqrt;model:nested_onestop;segmented_beta_early:beta_early (no seg.);segmented_beta_fare:q02_TripPurpose-q17_Gender-q03_WhoPays;segmented_beta_late:beta_late (no seg.);segmented_beta_legroom:q02_TripPurpose-q17_Gender-q03_WhoPays;segmented_beta_time:beta_time (no seg.);segmented_cte_same:q02_TripPurpose-q11_DepartureOrArrivalIsImportant;term_time:generic\n",
      "Model_000004: early_direct_catalog:linear;fare_direct_catalog:linear;late_direct_catalog:linear;legroom_direct_catalog:linear;model:logit;segmented_beta_early:beta_early (no seg.);segmented_beta_fare:q11_DepartureOrArrivalIsImportant-q03_WhoPays;segmented_beta_late:q02_TripPurpose-q17_Gender-q03_WhoPays;segmented_beta_legroom:beta_legroom (no seg.);segmented_beta_time:beta_time (no seg.);segmented_cte_same:cte_same (no seg.);term_time:generic\n",
      "Model_000005: early_direct_catalog:linear;fare_direct_catalog:linear;late_direct_catalog:linear;legroom_direct_catalog:linear;model:logit;segmented_beta_early:beta_early (no seg.);segmented_beta_fare:q11_DepartureOrArrivalIsImportant-q03_WhoPays;segmented_beta_late:beta_late (no seg.);segmented_beta_legroom:beta_legroom (no seg.);segmented_beta_time:beta_time (no seg.);segmented_cte_same:cte_same (no seg.);term_time:generic\n"
     ]
    }
   ],
   "source": [
    "for k, v in description.items():\n",
    "    if k != v:\n",
    "        print(f'{k}: {v}')\n"
   ]
  },
  {
   "cell_type": "code",
   "execution_count": null,
   "metadata": {},
   "outputs": [],
   "source": []
  }
 ],
 "metadata": {
  "anaconda-cloud": {},
  "kernelspec": {
   "display_name": "Python 3 (ipykernel)",
   "language": "python",
   "name": "python3"
  },
  "language_info": {
   "codemirror_mode": {
    "name": "ipython",
    "version": 3
   },
   "file_extension": ".py",
   "mimetype": "text/x-python",
   "name": "python",
   "nbconvert_exporter": "python",
   "pygments_lexer": "ipython3",
   "version": "3.11.2"
  }
 },
 "nbformat": 4,
 "nbformat_minor": 4
}
