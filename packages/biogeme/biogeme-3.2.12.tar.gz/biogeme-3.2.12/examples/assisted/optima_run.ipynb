{
  "cells": [
    {
      "cell_type": "code",
      "metadata": {},
      "source": [
        "#%%\n",
        "\"\"\"File optima_run.py\n",
        "\n",
        ":author: Michel Bierlaire, EPFL\n",
        ":date: Mon Jul 10 17:43:56 2023\n",
        "\n",
        "Assisted specification for the Optima case study\n",
        "\"\"\"\n",
        "\n",
        "import biogeme.logging as blog\n",
        "from biogeme.assisted import AssistedSpecification\n",
        "from biogeme.results import compile_estimation_results\n",
        "from biogeme.multiobjectives import loglikelihood_dimension\n",
        "from optima_spec import the_biogeme\n",
        "\n",
        "PARETO_FILE_NAME = 'optima.pareto'\n",
        "\n",
        "screen_logger = blog.get_screen_logger(blog.INFO)\n",
        "screen_logger.info('optima example: assisted specification')\n",
        "\n",
        "nbr = the_biogeme.loglike.number_of_multiple_expressions()\n",
        "if nbr is None:\n",
        "    print('The number of possible specifications is too large to be calculated')\n",
        "\n",
        "screen_logger.info('Prepare assisted specification')\n",
        "\n",
        "assisted_specification = AssistedSpecification(\n",
        "    biogeme_object=the_biogeme,\n",
        "    multi_objectives=loglikelihood_dimension,\n",
        "    pareto_file_name=PARETO_FILE_NAME,\n",
        ")\n",
        "\n",
        "non_dominated_models = assisted_specification.run()\n",
        "\n",
        "summary, description = compile_estimation_results(\n",
        "    non_dominated_models, use_short_names=True\n",
        ")\n",
        "print(summary)\n",
        "for k, v in description.items():\n",
        "    if k != v:\n",
        "        print(f'{k}: {v}')\n"
      ],
      "outputs": [],
      "execution_count": null
    }
  ],
  "metadata": {
    "anaconda-cloud": {},
    "kernelspec": {
      "display_name": "Python 3",
      "language": "python",
      "name": "python3"
    },
    "language_info": {
      "codemirror_mode": {
        "name": "ipython",
        "version": 3
      },
      "file_extension": ".py",
      "mimetype": "text/x-python",
      "name": "python",
      "nbconvert_exporter": "python",
      "pygments_lexer": "ipython3",
      "version": "3.6.1"
    }
  },
  "nbformat": 4,
  "nbformat_minor": 4
}