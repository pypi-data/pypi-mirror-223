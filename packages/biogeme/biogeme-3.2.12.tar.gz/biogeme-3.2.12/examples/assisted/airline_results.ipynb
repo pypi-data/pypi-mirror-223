{
  "cells": [
    {
      "cell_type": "code",
      "metadata": {},
      "source": [
        "#%%\n",
        "\"\"\"File airline_results.py\n",
        "\n",
        ":author: Michel Bierlaire, EPFL\n",
        ":date: Sun Apr  9 16:26:35 2023\n",
        "\n",
        "Assisted specification for the airline case study. Generate results\n",
        "from the pareto file.\n",
        "\n",
        "\"\"\"\n",
        "try: \n",
        "    import matplotlib.pyplot as plt\n",
        "    can_plot = True\n",
        "except ModuleNotFoundError:\n",
        "    can_plot = False\n",
        "\n",
        "import biogeme.logging as blog\n",
        "from biogeme.assisted import AssistedSpecification, ParetoPostProcessing\n",
        "from biogeme.results import compile_estimation_results\n",
        "from biogeme.multiobjectives import loglikelihood_dimension\n",
        "\n",
        "from airline_spec import the_biogeme\n",
        "\n",
        "screen_logger = blog.get_screen_logger(blog.INFO)\n",
        "screen_logger.info('airline example: assisted specification')\n",
        "\n",
        "PARETO_FILE_NAME = 'airline.pareto'\n",
        "\n",
        "assisted_specification = AssistedSpecification(\n",
        "    biogeme_object=the_biogeme,\n",
        "    multi_objectives=loglikelihood_dimension,\n",
        "    pareto_file_name=PARETO_FILE_NAME,\n",
        ")\n",
        "\n",
        "post_processing = ParetoPostProcessing(\n",
        "    biogeme_object=the_biogeme,\n",
        "    pareto_file_name=PARETO_FILE_NAME,\n",
        ")\n",
        "post_processing.log_statistics()\n",
        "\n",
        "all_results = post_processing.reestimate(recycle=True)\n",
        "\n",
        "summary, description = compile_estimation_results(all_results, use_short_names=True)\n",
        "print(summary)\n",
        "for k, v in description.items():\n",
        "    if k != v:\n",
        "        print(f'{k}: {v}')\n",
        "\n",
        "if can_plot:\n",
        "    ax = post_processing.plot()\n",
        "    plt.show()\n"
      ],
      "outputs": [],
      "execution_count": null
    }
  ],
  "metadata": {
    "anaconda-cloud": {},
    "kernelspec": {
      "display_name": "Python 3",
      "language": "python",
      "name": "python3"
    },
    "language_info": {
      "codemirror_mode": {
        "name": "ipython",
        "version": 3
      },
      "file_extension": ".py",
      "mimetype": "text/x-python",
      "name": "python",
      "nbconvert_exporter": "python",
      "pygments_lexer": "ipython3",
      "version": "3.6.1"
    }
  },
  "nbformat": 4,
  "nbformat_minor": 4
}