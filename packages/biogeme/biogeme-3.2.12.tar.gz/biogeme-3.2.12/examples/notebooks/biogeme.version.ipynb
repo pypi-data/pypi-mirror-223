{
 "cells": [
  {
   "cell_type": "markdown",
   "metadata": {},
   "source": [
    "# Module biogeme.version"
   ]
  },
  {
   "cell_type": "markdown",
   "metadata": {},
   "source": [
    "## Examples of use of each function"
   ]
  },
  {
   "cell_type": "markdown",
   "metadata": {},
   "source": [
    "This webpage is for programmers who need examples of use of the functions of the class. The examples are designed to illustrate the syntax. They do not correspond to any meaningful model. For examples of models, visit  [biogeme.epfl.ch](http://biogeme.epfl.ch)."
   ]
  },
  {
   "cell_type": "code",
   "execution_count": 1,
   "metadata": {
    "execution": {
     "iopub.execute_input": "2023-08-04T16:40:40.179812Z",
     "iopub.status.busy": "2023-08-04T16:40:40.179587Z",
     "iopub.status.idle": "2023-08-04T16:40:40.186419Z",
     "shell.execute_reply": "2023-08-04T16:40:40.185937Z"
    }
   },
   "outputs": [
    {
     "name": "stdout",
     "output_type": "stream",
     "text": [
      "2023-08-04 18:40:40.184545\n"
     ]
    }
   ],
   "source": [
    "import datetime\n",
    "print(datetime.datetime.now())"
   ]
  },
  {
   "cell_type": "code",
   "execution_count": 2,
   "metadata": {
    "execution": {
     "iopub.execute_input": "2023-08-04T16:40:40.188526Z",
     "iopub.status.busy": "2023-08-04T16:40:40.188363Z",
     "iopub.status.idle": "2023-08-04T16:40:40.191727Z",
     "shell.execute_reply": "2023-08-04T16:40:40.191346Z"
    }
   },
   "outputs": [
    {
     "name": "stdout",
     "output_type": "stream",
     "text": [
      "biogeme 3.2.12 [2023-08-04]\n",
      "Home page: http://biogeme.epfl.ch\n",
      "Submit questions to https://groups.google.com/d/forum/biogeme\n",
      "Michel Bierlaire, Transport and Mobility Laboratory, Ecole Polytechnique Fédérale de Lausanne (EPFL)\n",
      "\n"
     ]
    }
   ],
   "source": [
    "import biogeme.version as ver\n",
    "print(ver.getText())"
   ]
  },
  {
   "cell_type": "markdown",
   "metadata": {},
   "source": [
    "Obtain the version number"
   ]
  },
  {
   "cell_type": "code",
   "execution_count": 3,
   "metadata": {
    "execution": {
     "iopub.execute_input": "2023-08-04T16:40:40.193529Z",
     "iopub.status.busy": "2023-08-04T16:40:40.193374Z",
     "iopub.status.idle": "2023-08-04T16:40:40.197595Z",
     "shell.execute_reply": "2023-08-04T16:40:40.197302Z"
    }
   },
   "outputs": [
    {
     "data": {
      "text/plain": [
       "'3.2.12'"
      ]
     },
     "execution_count": 3,
     "metadata": {},
     "output_type": "execute_result"
    }
   ],
   "source": [
    "ver.getVersion()"
   ]
  },
  {
   "cell_type": "markdown",
   "metadata": {},
   "source": [
    "Package information in text format."
   ]
  },
  {
   "cell_type": "code",
   "execution_count": 4,
   "metadata": {
    "execution": {
     "iopub.execute_input": "2023-08-04T16:40:40.199200Z",
     "iopub.status.busy": "2023-08-04T16:40:40.198988Z",
     "iopub.status.idle": "2023-08-04T16:40:40.201053Z",
     "shell.execute_reply": "2023-08-04T16:40:40.200761Z"
    }
   },
   "outputs": [
    {
     "name": "stdout",
     "output_type": "stream",
     "text": [
      "biogeme 3.2.12 [2023-08-04]\n",
      "Home page: http://biogeme.epfl.ch\n",
      "Submit questions to https://groups.google.com/d/forum/biogeme\n",
      "Michel Bierlaire, Transport and Mobility Laboratory, Ecole Polytechnique Fédérale de Lausanne (EPFL)\n",
      "\n"
     ]
    }
   ],
   "source": [
    "print(ver.getText())"
   ]
  },
  {
   "cell_type": "markdown",
   "metadata": {},
   "source": [
    "Package information in HTML format"
   ]
  },
  {
   "cell_type": "code",
   "execution_count": 5,
   "metadata": {
    "execution": {
     "iopub.execute_input": "2023-08-04T16:40:40.202437Z",
     "iopub.status.busy": "2023-08-04T16:40:40.202298Z",
     "iopub.status.idle": "2023-08-04T16:40:40.204394Z",
     "shell.execute_reply": "2023-08-04T16:40:40.204037Z"
    }
   },
   "outputs": [
    {
     "name": "stdout",
     "output_type": "stream",
     "text": [
      "<p>biogeme 3.2.12 [2023-08-04]</p>\n",
      "<p><a href=\"https://www.python.org/\" target=\"_blank\">Python</a> package</p>\n",
      "<p>Home page: <a href=\"http://biogeme.epfl.ch\" target=\"_blank\">http://biogeme.epfl.ch</a></p>\n",
      "<p>Submit questions to <a href=\"https://groups.google.com/d/forum/biogeme\" target=\"_blank\">https://groups.google.com/d/forum/biogeme</a></p>\n",
      "<p><a href=\"http://people.epfl.ch/michel.bierlaire\">Michel Bierlaire</a>, <a href=\"http://transp-or.epfl.ch\">Transport and Mobility Laboratory</a>, <a href=\"http://www.epfl.ch\">Ecole Polytechnique F&#233;d&#233;rale de Lausanne (EPFL)</a></p>\n",
      "\n"
     ]
    }
   ],
   "source": [
    "print(ver.getHtml())"
   ]
  },
  {
   "cell_type": "markdown",
   "metadata": {},
   "source": [
    "Package information in LaTeX format"
   ]
  },
  {
   "cell_type": "code",
   "execution_count": 6,
   "metadata": {
    "execution": {
     "iopub.execute_input": "2023-08-04T16:40:40.205719Z",
     "iopub.status.busy": "2023-08-04T16:40:40.205603Z",
     "iopub.status.idle": "2023-08-04T16:40:40.207599Z",
     "shell.execute_reply": "2023-08-04T16:40:40.207306Z"
    }
   },
   "outputs": [
    {
     "name": "stdout",
     "output_type": "stream",
     "text": [
      "%% biogeme 3.2.12 [2023-08-04]\n",
      "%% Version entirely written in Python\n",
      "%% Home page: http://biogeme.epfl.ch\n",
      "%% Submit questions to https://groups.google.com/d/forum/biogeme\n",
      "%% Michel Bierlaire, Transport and Mobility Laboratory, Ecole Polytechnique Fédérale de Lausanne (EPFL)\n",
      "\n"
     ]
    }
   ],
   "source": [
    "print(ver.getLaTeX())"
   ]
  },
  {
   "cell_type": "markdown",
   "metadata": {},
   "source": [
    "Defines the `__version__` variable."
   ]
  },
  {
   "cell_type": "code",
   "execution_count": 7,
   "metadata": {
    "execution": {
     "iopub.execute_input": "2023-08-04T16:40:40.209010Z",
     "iopub.status.busy": "2023-08-04T16:40:40.208901Z",
     "iopub.status.idle": "2023-08-04T16:40:40.210693Z",
     "shell.execute_reply": "2023-08-04T16:40:40.210437Z"
    }
   },
   "outputs": [
    {
     "name": "stdout",
     "output_type": "stream",
     "text": [
      "3.2.12\n"
     ]
    }
   ],
   "source": [
    "print(ver.__version__)"
   ]
  }
 ],
 "metadata": {
  "kernelspec": {
   "display_name": "Python 3 (ipykernel)",
   "language": "python",
   "name": "python3"
  },
  "language_info": {
   "codemirror_mode": {
    "name": "ipython",
    "version": 3
   },
   "file_extension": ".py",
   "mimetype": "text/x-python",
   "name": "python",
   "nbconvert_exporter": "python",
   "pygments_lexer": "ipython3",
   "version": "3.11.3"
  }
 },
 "nbformat": 4,
 "nbformat_minor": 4
}
