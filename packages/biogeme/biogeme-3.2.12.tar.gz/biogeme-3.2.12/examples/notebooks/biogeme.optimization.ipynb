{
 "cells": [
  {
   "cell_type": "markdown",
   "metadata": {},
   "source": [
    "# Module biogeme.optimization "
   ]
  },
  {
   "cell_type": "markdown",
   "metadata": {},
   "source": [
    "## Examples of use of each function"
   ]
  },
  {
   "cell_type": "markdown",
   "metadata": {},
   "source": [
    "This webpage is for programmers who need examples of use of the functions of the class. The examples are designed to illustrate the syntax. They do not correspond to any meaningful model. For examples of models, visit  [biogeme.epfl.ch](http://biogeme.epfl.ch)."
   ]
  },
  {
   "cell_type": "code",
   "execution_count": 1,
   "metadata": {
    "execution": {
     "iopub.execute_input": "2023-08-04T16:41:55.487690Z",
     "iopub.status.busy": "2023-08-04T16:41:55.487492Z",
     "iopub.status.idle": "2023-08-04T16:41:55.494602Z",
     "shell.execute_reply": "2023-08-04T16:41:55.494163Z"
    }
   },
   "outputs": [
    {
     "name": "stdout",
     "output_type": "stream",
     "text": [
      "2023-08-04 18:41:55.492585\n"
     ]
    }
   ],
   "source": [
    "import datetime\n",
    "print(datetime.datetime.now())"
   ]
  },
  {
   "cell_type": "code",
   "execution_count": 2,
   "metadata": {
    "execution": {
     "iopub.execute_input": "2023-08-04T16:41:55.496689Z",
     "iopub.status.busy": "2023-08-04T16:41:55.496493Z",
     "iopub.status.idle": "2023-08-04T16:41:55.500718Z",
     "shell.execute_reply": "2023-08-04T16:41:55.500208Z"
    }
   },
   "outputs": [
    {
     "name": "stdout",
     "output_type": "stream",
     "text": [
      "biogeme 3.2.12 [2023-08-04]\n",
      "Home page: http://biogeme.epfl.ch\n",
      "Submit questions to https://groups.google.com/d/forum/biogeme\n",
      "Michel Bierlaire, Transport and Mobility Laboratory, Ecole Polytechnique Fédérale de Lausanne (EPFL)\n",
      "\n"
     ]
    }
   ],
   "source": [
    "import biogeme.version as ver\n",
    "print(ver.getText())"
   ]
  },
  {
   "cell_type": "code",
   "execution_count": 3,
   "metadata": {
    "execution": {
     "iopub.execute_input": "2023-08-04T16:41:55.502941Z",
     "iopub.status.busy": "2023-08-04T16:41:55.502707Z",
     "iopub.status.idle": "2023-08-04T16:41:55.703932Z",
     "shell.execute_reply": "2023-08-04T16:41:55.703306Z"
    }
   },
   "outputs": [],
   "source": [
    "import numpy as np\n",
    "import pandas as pd"
   ]
  },
  {
   "cell_type": "code",
   "execution_count": 4,
   "metadata": {
    "execution": {
     "iopub.execute_input": "2023-08-04T16:41:55.707372Z",
     "iopub.status.busy": "2023-08-04T16:41:55.707132Z",
     "iopub.status.idle": "2023-08-04T16:41:55.887678Z",
     "shell.execute_reply": "2023-08-04T16:41:55.887418Z"
    }
   },
   "outputs": [],
   "source": [
    "%matplotlib inline\n",
    "import matplotlib\n",
    "import matplotlib.pyplot as plt"
   ]
  },
  {
   "cell_type": "code",
   "execution_count": 5,
   "metadata": {
    "execution": {
     "iopub.execute_input": "2023-08-04T16:41:55.888998Z",
     "iopub.status.busy": "2023-08-04T16:41:55.888903Z",
     "iopub.status.idle": "2023-08-04T16:41:56.125279Z",
     "shell.execute_reply": "2023-08-04T16:41:56.124959Z"
    }
   },
   "outputs": [],
   "source": [
    "import biogeme.optimization as opt\n",
    "import biogeme.biogeme as bio\n",
    "import biogeme.database as db\n",
    "import biogeme.models as models\n",
    "from biogeme.expressions import Beta, Variable\n",
    "import biogeme.logging as blog\n"
   ]
  },
  {
   "cell_type": "code",
   "execution_count": 6,
   "metadata": {
    "execution": {
     "iopub.execute_input": "2023-08-04T16:41:56.126693Z",
     "iopub.status.busy": "2023-08-04T16:41:56.126613Z",
     "iopub.status.idle": "2023-08-04T16:41:56.128444Z",
     "shell.execute_reply": "2023-08-04T16:41:56.128196Z"
    }
   },
   "outputs": [],
   "source": [
    "logger = blog.get_screen_logger(blog.INFO)"
   ]
  },
  {
   "cell_type": "markdown",
   "metadata": {},
   "source": [
    "# Biogeme example"
   ]
  },
  {
   "cell_type": "code",
   "execution_count": 7,
   "metadata": {
    "execution": {
     "iopub.execute_input": "2023-08-04T16:41:56.129536Z",
     "iopub.status.busy": "2023-08-04T16:41:56.129473Z",
     "iopub.status.idle": "2023-08-04T16:41:56.139595Z",
     "shell.execute_reply": "2023-08-04T16:41:56.139349Z"
    }
   },
   "outputs": [
    {
     "name": "stderr",
     "output_type": "stream",
     "text": [
      "File biogeme.toml has been parsed. \n"
     ]
    },
    {
     "name": "stdout",
     "output_type": "stream",
     "text": [
      "simpleExample: database [test]{'loglike': _bioLogLogitFullChoiceSet[choice=Choice]U=(1:(beta1(init=0) * Variable1), 2:(beta2(init=0) * Variable2), 3:`0.0`)av=(1:`1.0`, 2:`1.0`, 3:`1.0`)}\n"
     ]
    }
   ],
   "source": [
    "df = pd.DataFrame({'Person': [1, 1, 1, 2, 2],\n",
    "                   'Exclude': [0, 0, 1, 0, 1],\n",
    "                   'Variable1': [1, 2, 3, 4, 5],\n",
    "                   'Variable2': [10, 20, 30,40, 50],\n",
    "                   'Choice': [1, 2, 3, 1, 2],\n",
    "                   'Av1': [0, 1, 1, 1, 1],\n",
    "                   'Av2': [1, 1, 1, 1, 1],\n",
    "                   'Av3': [0, 1, 1, 1, 1]})\n",
    "myData = db.Database('test', df)\n",
    "\n",
    "Choice = Variable('Choice')\n",
    "Variable1 = Variable('Variable1')\n",
    "Variable2 = Variable('Variable2')\n",
    "beta1 = Beta('beta1', 0, None, None, 0)\n",
    "beta2 = Beta('beta2', 0, None, None, 0)\n",
    "V1 = beta1 * Variable1\n",
    "V2 = beta2 * Variable2\n",
    "V3 = 0\n",
    "V ={1: V1,2: V2,3: V3}\n",
    "\n",
    "likelihood = models.loglogit(V, av=None, i=Choice)\n",
    "myBiogeme = bio.BIOGEME(myData, likelihood)\n",
    "myBiogeme.modelName = 'simpleExample'\n",
    "myBiogeme.saveIterations = False\n",
    "myBiogeme.generate_html = False\n",
    "myBiogeme.generate_pickle = False\n",
    "print(myBiogeme)"
   ]
  },
  {
   "cell_type": "code",
   "execution_count": 8,
   "metadata": {
    "execution": {
     "iopub.execute_input": "2023-08-04T16:41:56.140671Z",
     "iopub.status.busy": "2023-08-04T16:41:56.140587Z",
     "iopub.status.idle": "2023-08-04T16:41:56.144688Z",
     "shell.execute_reply": "2023-08-04T16:41:56.144481Z"
    }
   },
   "outputs": [
    {
     "name": "stderr",
     "output_type": "stream",
     "text": [
      "x\t\tGradient\tFinDiff\t\tDifference \n"
     ]
    },
    {
     "name": "stderr",
     "output_type": "stream",
     "text": [
      "beta1          \t+2.220446E-16\t-6.039613E-07\t+6.039613E-07 \n"
     ]
    },
    {
     "name": "stderr",
     "output_type": "stream",
     "text": [
      "beta2          \t+2.000000E+01\t+1.999994E+01\t+6.110388E-05 \n"
     ]
    },
    {
     "name": "stderr",
     "output_type": "stream",
     "text": [
      "Row\t\tCol\t\tHessian\tFinDiff\t\tDifference \n"
     ]
    },
    {
     "name": "stderr",
     "output_type": "stream",
     "text": [
      "beta1          \tbeta1          \t-1.222222E+01\t-1.222222E+01\t+8.314151E-07 \n"
     ]
    },
    {
     "name": "stderr",
     "output_type": "stream",
     "text": [
      "beta1          \tbeta2          \t+6.111111E+01\t+6.111115E+01\t-4.166707E-05 \n"
     ]
    },
    {
     "name": "stderr",
     "output_type": "stream",
     "text": [
      "beta2          \tbeta1          \t+6.111111E+01\t+6.111112E+01\t-4.274759E-06 \n"
     ]
    },
    {
     "name": "stderr",
     "output_type": "stream",
     "text": [
      "beta2          \tbeta2          \t-1.222222E+03\t-1.222223E+03\t+8.332704E-04 \n"
     ]
    }
   ],
   "source": [
    "f, g, h, gdiff, hdiff = myBiogeme.checkDerivatives(beta=myBiogeme.beta_values_dict_to_list(), verbose=True)"
   ]
  },
  {
   "cell_type": "code",
   "execution_count": 9,
   "metadata": {
    "execution": {
     "iopub.execute_input": "2023-08-04T16:41:56.145827Z",
     "iopub.status.busy": "2023-08-04T16:41:56.145755Z",
     "iopub.status.idle": "2023-08-04T16:41:56.148017Z",
     "shell.execute_reply": "2023-08-04T16:41:56.147808Z"
    }
   },
   "outputs": [
    {
     "data": {
      "text/plain": [
       "array([6.03961326e-07, 6.11038797e-05])"
      ]
     },
     "execution_count": 9,
     "metadata": {},
     "output_type": "execute_result"
    }
   ],
   "source": [
    "gdiff"
   ]
  },
  {
   "cell_type": "code",
   "execution_count": 10,
   "metadata": {
    "execution": {
     "iopub.execute_input": "2023-08-04T16:41:56.148995Z",
     "iopub.status.busy": "2023-08-04T16:41:56.148895Z",
     "iopub.status.idle": "2023-08-04T16:41:56.150738Z",
     "shell.execute_reply": "2023-08-04T16:41:56.150519Z"
    }
   },
   "outputs": [
    {
     "data": {
      "text/plain": [
       "array([[ 8.31415072e-07, -4.16670705e-05],\n",
       "       [-4.27475899e-06,  8.33270355e-04]])"
      ]
     },
     "execution_count": 10,
     "metadata": {},
     "output_type": "execute_result"
    }
   ],
   "source": [
    "hdiff"
   ]
  },
  {
   "cell_type": "markdown",
   "metadata": {},
   "source": [
    "## scipy"
   ]
  },
  {
   "cell_type": "markdown",
   "metadata": {},
   "source": [
    "This is the optimization algorithm from scipy. "
   ]
  },
  {
   "cell_type": "code",
   "execution_count": 11,
   "metadata": {
    "execution": {
     "iopub.execute_input": "2023-08-04T16:41:56.151717Z",
     "iopub.status.busy": "2023-08-04T16:41:56.151652Z",
     "iopub.status.idle": "2023-08-04T16:41:56.161856Z",
     "shell.execute_reply": "2023-08-04T16:41:56.161632Z"
    }
   },
   "outputs": [
    {
     "name": "stderr",
     "output_type": "stream",
     "text": [
      "Optimization algorithm: scipy \n"
     ]
    },
    {
     "name": "stderr",
     "output_type": "stream",
     "text": [
      "Minimize with tol 1e-07 \n"
     ]
    },
    {
     "data": {
      "text/html": [
       "<div>\n",
       "<style scoped>\n",
       "    .dataframe tbody tr th:only-of-type {\n",
       "        vertical-align: middle;\n",
       "    }\n",
       "\n",
       "    .dataframe tbody tr th {\n",
       "        vertical-align: top;\n",
       "    }\n",
       "\n",
       "    .dataframe thead th {\n",
       "        text-align: right;\n",
       "    }\n",
       "</style>\n",
       "<table border=\"1\" class=\"dataframe\">\n",
       "  <thead>\n",
       "    <tr style=\"text-align: right;\">\n",
       "      <th></th>\n",
       "      <th>Value</th>\n",
       "      <th>Rob. Std err</th>\n",
       "      <th>Rob. t-test</th>\n",
       "      <th>Rob. p-value</th>\n",
       "    </tr>\n",
       "  </thead>\n",
       "  <tbody>\n",
       "    <tr>\n",
       "      <th>beta1</th>\n",
       "      <td>0.144546</td>\n",
       "      <td>0.366198</td>\n",
       "      <td>0.394720</td>\n",
       "      <td>0.693049</td>\n",
       "    </tr>\n",
       "    <tr>\n",
       "      <th>beta2</th>\n",
       "      <td>0.023502</td>\n",
       "      <td>0.034280</td>\n",
       "      <td>0.685574</td>\n",
       "      <td>0.492982</td>\n",
       "    </tr>\n",
       "  </tbody>\n",
       "</table>\n",
       "</div>"
      ],
      "text/plain": [
       "          Value  Rob. Std err  Rob. t-test  Rob. p-value\n",
       "beta1  0.144546      0.366198     0.394720      0.693049\n",
       "beta2  0.023502      0.034280     0.685574      0.492982"
      ]
     },
     "execution_count": 11,
     "metadata": {},
     "output_type": "execute_result"
    }
   ],
   "source": [
    "myBiogeme.algorithm_name = 'scipy'\n",
    "results = myBiogeme.estimate()\n",
    "results.getEstimatedParameters()"
   ]
  },
  {
   "cell_type": "code",
   "execution_count": 12,
   "metadata": {
    "execution": {
     "iopub.execute_input": "2023-08-04T16:41:56.162758Z",
     "iopub.status.busy": "2023-08-04T16:41:56.162691Z",
     "iopub.status.idle": "2023-08-04T16:41:56.164436Z",
     "shell.execute_reply": "2023-08-04T16:41:56.164207Z"
    }
   },
   "outputs": [
    {
     "name": "stdout",
     "output_type": "stream",
     "text": [
      "Algorithm:\tscipy.optimize\n",
      "Cause of termination:\tCONVERGENCE: NORM_OF_PROJECTED_GRADIENT_<=_PGTOL\n",
      "Number of iterations:\t13\n",
      "Number of function evaluations:\t16\n",
      "Optimization time:\t0:00:00.003558\n"
     ]
    }
   ],
   "source": [
    "for k, v in results.data.optimizationMessages.items():\n",
    "    print(f'{k}:\\t{v}')"
   ]
  },
  {
   "cell_type": "markdown",
   "metadata": {},
   "source": [
    "## Newton with linesearch"
   ]
  },
  {
   "cell_type": "code",
   "execution_count": 13,
   "metadata": {
    "execution": {
     "iopub.execute_input": "2023-08-04T16:41:56.165492Z",
     "iopub.status.busy": "2023-08-04T16:41:56.165424Z",
     "iopub.status.idle": "2023-08-04T16:41:56.171705Z",
     "shell.execute_reply": "2023-08-04T16:41:56.171476Z"
    }
   },
   "outputs": [
    {
     "name": "stderr",
     "output_type": "stream",
     "text": [
      "Optimization algorithm: Newton with line search [LS-newton] \n"
     ]
    },
    {
     "name": "stderr",
     "output_type": "stream",
     "text": [
      "** Optimization: Newton with linesearch \n"
     ]
    },
    {
     "data": {
      "text/html": [
       "<div>\n",
       "<style scoped>\n",
       "    .dataframe tbody tr th:only-of-type {\n",
       "        vertical-align: middle;\n",
       "    }\n",
       "\n",
       "    .dataframe tbody tr th {\n",
       "        vertical-align: top;\n",
       "    }\n",
       "\n",
       "    .dataframe thead th {\n",
       "        text-align: right;\n",
       "    }\n",
       "</style>\n",
       "<table border=\"1\" class=\"dataframe\">\n",
       "  <thead>\n",
       "    <tr style=\"text-align: right;\">\n",
       "      <th></th>\n",
       "      <th>Value</th>\n",
       "      <th>Rob. Std err</th>\n",
       "      <th>Rob. t-test</th>\n",
       "      <th>Rob. p-value</th>\n",
       "    </tr>\n",
       "  </thead>\n",
       "  <tbody>\n",
       "    <tr>\n",
       "      <th>beta1</th>\n",
       "      <td>0.144545</td>\n",
       "      <td>0.366198</td>\n",
       "      <td>0.394720</td>\n",
       "      <td>0.693050</td>\n",
       "    </tr>\n",
       "    <tr>\n",
       "      <th>beta2</th>\n",
       "      <td>0.023502</td>\n",
       "      <td>0.034280</td>\n",
       "      <td>0.685573</td>\n",
       "      <td>0.492982</td>\n",
       "    </tr>\n",
       "  </tbody>\n",
       "</table>\n",
       "</div>"
      ],
      "text/plain": [
       "          Value  Rob. Std err  Rob. t-test  Rob. p-value\n",
       "beta1  0.144545      0.366198     0.394720      0.693050\n",
       "beta2  0.023502      0.034280     0.685573      0.492982"
      ]
     },
     "execution_count": 13,
     "metadata": {},
     "output_type": "execute_result"
    }
   ],
   "source": [
    "myBiogeme.algorithm_name = 'LS-newton'\n",
    "results = myBiogeme.estimate()\n",
    "results.getEstimatedParameters()"
   ]
  },
  {
   "cell_type": "code",
   "execution_count": 14,
   "metadata": {
    "execution": {
     "iopub.execute_input": "2023-08-04T16:41:56.172736Z",
     "iopub.status.busy": "2023-08-04T16:41:56.172662Z",
     "iopub.status.idle": "2023-08-04T16:41:56.174360Z",
     "shell.execute_reply": "2023-08-04T16:41:56.174161Z"
    }
   },
   "outputs": [
    {
     "name": "stdout",
     "output_type": "stream",
     "text": [
      "Algorithm:\tUnconstrained Newton with line search\n",
      "Relative gradient:\t3.289367616755922e-07\n",
      "Cause of termination:\tRelative gradient = 3.3e-07 <= 6.1e-06\n",
      "Number of function evaluations:\t4\n",
      "Number of gradient evaluations:\t4\n",
      "Number of hessian evaluations:\t4\n",
      "Number of iterations:\t3\n",
      "Optimization time:\t0:00:00.001818\n"
     ]
    }
   ],
   "source": [
    "for k, v in results.data.optimizationMessages.items():\n",
    "    print(f'{k}:\\t{v}')"
   ]
  },
  {
   "cell_type": "markdown",
   "metadata": {},
   "source": [
    "Changing the requested precision\n"
   ]
  },
  {
   "cell_type": "code",
   "execution_count": 15,
   "metadata": {
    "execution": {
     "iopub.execute_input": "2023-08-04T16:41:56.175244Z",
     "iopub.status.busy": "2023-08-04T16:41:56.175184Z",
     "iopub.status.idle": "2023-08-04T16:41:56.181010Z",
     "shell.execute_reply": "2023-08-04T16:41:56.180755Z"
    }
   },
   "outputs": [
    {
     "name": "stderr",
     "output_type": "stream",
     "text": [
      "Optimization algorithm: Newton with line search [LS-newton] \n"
     ]
    },
    {
     "name": "stderr",
     "output_type": "stream",
     "text": [
      "** Optimization: Newton with linesearch \n"
     ]
    },
    {
     "data": {
      "text/html": [
       "<div>\n",
       "<style scoped>\n",
       "    .dataframe tbody tr th:only-of-type {\n",
       "        vertical-align: middle;\n",
       "    }\n",
       "\n",
       "    .dataframe tbody tr th {\n",
       "        vertical-align: top;\n",
       "    }\n",
       "\n",
       "    .dataframe thead th {\n",
       "        text-align: right;\n",
       "    }\n",
       "</style>\n",
       "<table border=\"1\" class=\"dataframe\">\n",
       "  <thead>\n",
       "    <tr style=\"text-align: right;\">\n",
       "      <th></th>\n",
       "      <th>Value</th>\n",
       "      <th>Rob. Std err</th>\n",
       "      <th>Rob. t-test</th>\n",
       "      <th>Rob. p-value</th>\n",
       "    </tr>\n",
       "  </thead>\n",
       "  <tbody>\n",
       "    <tr>\n",
       "      <th>beta1</th>\n",
       "      <td>0.144545</td>\n",
       "      <td>0.366198</td>\n",
       "      <td>0.394720</td>\n",
       "      <td>0.693050</td>\n",
       "    </tr>\n",
       "    <tr>\n",
       "      <th>beta2</th>\n",
       "      <td>0.023502</td>\n",
       "      <td>0.034280</td>\n",
       "      <td>0.685573</td>\n",
       "      <td>0.492982</td>\n",
       "    </tr>\n",
       "  </tbody>\n",
       "</table>\n",
       "</div>"
      ],
      "text/plain": [
       "          Value  Rob. Std err  Rob. t-test  Rob. p-value\n",
       "beta1  0.144545      0.366198     0.394720      0.693050\n",
       "beta2  0.023502      0.034280     0.685573      0.492982"
      ]
     },
     "execution_count": 15,
     "metadata": {},
     "output_type": "execute_result"
    }
   ],
   "source": [
    "myBiogeme.tolerance = 0.1\n",
    "results = myBiogeme.estimate()\n",
    "results.getEstimatedParameters()"
   ]
  },
  {
   "cell_type": "code",
   "execution_count": 16,
   "metadata": {
    "execution": {
     "iopub.execute_input": "2023-08-04T16:41:56.181988Z",
     "iopub.status.busy": "2023-08-04T16:41:56.181895Z",
     "iopub.status.idle": "2023-08-04T16:41:56.183559Z",
     "shell.execute_reply": "2023-08-04T16:41:56.183339Z"
    }
   },
   "outputs": [
    {
     "name": "stdout",
     "output_type": "stream",
     "text": [
      "Algorithm:\tUnconstrained Newton with line search\n",
      "Relative gradient:\t3.289367616755922e-07\n",
      "Cause of termination:\tRelative gradient = 3.3e-07 <= 6.1e-06\n",
      "Number of function evaluations:\t4\n",
      "Number of gradient evaluations:\t4\n",
      "Number of hessian evaluations:\t4\n",
      "Number of iterations:\t3\n",
      "Optimization time:\t0:00:00.001512\n"
     ]
    }
   ],
   "source": [
    "for k, v in results.data.optimizationMessages.items():\n",
    "    print(f'{k}:\\t{v}')"
   ]
  },
  {
   "cell_type": "markdown",
   "metadata": {},
   "source": [
    "## Newton with trust region"
   ]
  },
  {
   "cell_type": "code",
   "execution_count": 17,
   "metadata": {
    "execution": {
     "iopub.execute_input": "2023-08-04T16:41:56.184489Z",
     "iopub.status.busy": "2023-08-04T16:41:56.184427Z",
     "iopub.status.idle": "2023-08-04T16:41:56.190401Z",
     "shell.execute_reply": "2023-08-04T16:41:56.190195Z"
    }
   },
   "outputs": [
    {
     "name": "stderr",
     "output_type": "stream",
     "text": [
      "Optimization algorithm: Newton with trust region [TR-newton] \n"
     ]
    },
    {
     "name": "stderr",
     "output_type": "stream",
     "text": [
      "** Optimization: Newton with trust region \n"
     ]
    },
    {
     "data": {
      "text/html": [
       "<div>\n",
       "<style scoped>\n",
       "    .dataframe tbody tr th:only-of-type {\n",
       "        vertical-align: middle;\n",
       "    }\n",
       "\n",
       "    .dataframe tbody tr th {\n",
       "        vertical-align: top;\n",
       "    }\n",
       "\n",
       "    .dataframe thead th {\n",
       "        text-align: right;\n",
       "    }\n",
       "</style>\n",
       "<table border=\"1\" class=\"dataframe\">\n",
       "  <thead>\n",
       "    <tr style=\"text-align: right;\">\n",
       "      <th></th>\n",
       "      <th>Value</th>\n",
       "      <th>Rob. Std err</th>\n",
       "      <th>Rob. t-test</th>\n",
       "      <th>Rob. p-value</th>\n",
       "    </tr>\n",
       "  </thead>\n",
       "  <tbody>\n",
       "    <tr>\n",
       "      <th>beta1</th>\n",
       "      <td>0.144545</td>\n",
       "      <td>0.366198</td>\n",
       "      <td>0.394720</td>\n",
       "      <td>0.693050</td>\n",
       "    </tr>\n",
       "    <tr>\n",
       "      <th>beta2</th>\n",
       "      <td>0.023502</td>\n",
       "      <td>0.034280</td>\n",
       "      <td>0.685573</td>\n",
       "      <td>0.492982</td>\n",
       "    </tr>\n",
       "  </tbody>\n",
       "</table>\n",
       "</div>"
      ],
      "text/plain": [
       "          Value  Rob. Std err  Rob. t-test  Rob. p-value\n",
       "beta1  0.144545      0.366198     0.394720      0.693050\n",
       "beta2  0.023502      0.034280     0.685573      0.492982"
      ]
     },
     "execution_count": 17,
     "metadata": {},
     "output_type": "execute_result"
    }
   ],
   "source": [
    "myBiogeme.algorithm_name = 'TR-newton'\n",
    "results = myBiogeme.estimate()\n",
    "results.getEstimatedParameters()"
   ]
  },
  {
   "cell_type": "code",
   "execution_count": 18,
   "metadata": {
    "execution": {
     "iopub.execute_input": "2023-08-04T16:41:56.191289Z",
     "iopub.status.busy": "2023-08-04T16:41:56.191228Z",
     "iopub.status.idle": "2023-08-04T16:41:56.192873Z",
     "shell.execute_reply": "2023-08-04T16:41:56.192626Z"
    }
   },
   "outputs": [
    {
     "name": "stdout",
     "output_type": "stream",
     "text": [
      "Relative gradient:\t3.289367616755922e-07\n",
      "Cause of termination:\tRelative gradient = 3.3e-07 <= 6.1e-06\n",
      "Number of function evaluations:\t4\n",
      "Number of gradient evaluations:\t4\n",
      "Number of hessian evaluations:\t4\n",
      "Number of iterations:\t3\n",
      "Optimization time:\t0:00:00.001631\n"
     ]
    }
   ],
   "source": [
    "for k, v in results.data.optimizationMessages.items():\n",
    "    print(f'{k}:\\t{v}')"
   ]
  },
  {
   "cell_type": "markdown",
   "metadata": {},
   "source": [
    "We illustrate the parameters. We use the truncated conjugate gradient instead of dogleg for the trust region subproblem, starting with a small trust region of radius 0.001, and a maximum of 3 iterations."
   ]
  },
  {
   "cell_type": "code",
   "execution_count": 19,
   "metadata": {
    "execution": {
     "iopub.execute_input": "2023-08-04T16:41:56.193848Z",
     "iopub.status.busy": "2023-08-04T16:41:56.193786Z",
     "iopub.status.idle": "2023-08-04T16:41:56.199608Z",
     "shell.execute_reply": "2023-08-04T16:41:56.199372Z"
    }
   },
   "outputs": [
    {
     "name": "stderr",
     "output_type": "stream",
     "text": [
      "Optimization algorithm: Newton with trust region [TR-newton] \n"
     ]
    },
    {
     "name": "stderr",
     "output_type": "stream",
     "text": [
      "** Optimization: Newton with trust region \n"
     ]
    },
    {
     "data": {
      "text/html": [
       "<div>\n",
       "<style scoped>\n",
       "    .dataframe tbody tr th:only-of-type {\n",
       "        vertical-align: middle;\n",
       "    }\n",
       "\n",
       "    .dataframe tbody tr th {\n",
       "        vertical-align: top;\n",
       "    }\n",
       "\n",
       "    .dataframe thead th {\n",
       "        text-align: right;\n",
       "    }\n",
       "</style>\n",
       "<table border=\"1\" class=\"dataframe\">\n",
       "  <thead>\n",
       "    <tr style=\"text-align: right;\">\n",
       "      <th></th>\n",
       "      <th>Value</th>\n",
       "      <th>Rob. Std err</th>\n",
       "      <th>Rob. t-test</th>\n",
       "      <th>Rob. p-value</th>\n",
       "    </tr>\n",
       "  </thead>\n",
       "  <tbody>\n",
       "    <tr>\n",
       "      <th>beta1</th>\n",
       "      <td>0.000053</td>\n",
       "      <td>0.308910</td>\n",
       "      <td>0.000170</td>\n",
       "      <td>0.999864</td>\n",
       "    </tr>\n",
       "    <tr>\n",
       "      <th>beta2</th>\n",
       "      <td>0.007000</td>\n",
       "      <td>0.030019</td>\n",
       "      <td>0.233173</td>\n",
       "      <td>0.815627</td>\n",
       "    </tr>\n",
       "  </tbody>\n",
       "</table>\n",
       "</div>"
      ],
      "text/plain": [
       "          Value  Rob. Std err  Rob. t-test  Rob. p-value\n",
       "beta1  0.000053      0.308910     0.000170      0.999864\n",
       "beta2  0.007000      0.030019     0.233173      0.815627"
      ]
     },
     "execution_count": 19,
     "metadata": {},
     "output_type": "execute_result"
    }
   ],
   "source": [
    "myBiogeme.dogleg = False\n",
    "myBiogeme.initial_radius=0.001\n",
    "myBiogeme.maxiter = 3\n",
    "results = myBiogeme.estimate()\n",
    "results.getEstimatedParameters()"
   ]
  },
  {
   "cell_type": "code",
   "execution_count": 20,
   "metadata": {
    "execution": {
     "iopub.execute_input": "2023-08-04T16:41:56.200590Z",
     "iopub.status.busy": "2023-08-04T16:41:56.200528Z",
     "iopub.status.idle": "2023-08-04T16:41:56.202166Z",
     "shell.execute_reply": "2023-08-04T16:41:56.201871Z"
    }
   },
   "outputs": [
    {
     "name": "stdout",
     "output_type": "stream",
     "text": [
      "Cause of termination:\tMaximum number of iterations reached: 3\n",
      "Optimization time:\t0:00:00.001342\n"
     ]
    }
   ],
   "source": [
    "for k, v in results.data.optimizationMessages.items():\n",
    "    print(f'{k}:\\t{v}')"
   ]
  },
  {
   "cell_type": "markdown",
   "metadata": {},
   "source": [
    "Changing the requested precision\n"
   ]
  },
  {
   "cell_type": "code",
   "execution_count": 21,
   "metadata": {
    "execution": {
     "iopub.execute_input": "2023-08-04T16:41:56.203170Z",
     "iopub.status.busy": "2023-08-04T16:41:56.203110Z",
     "iopub.status.idle": "2023-08-04T16:41:56.209689Z",
     "shell.execute_reply": "2023-08-04T16:41:56.209490Z"
    }
   },
   "outputs": [
    {
     "name": "stderr",
     "output_type": "stream",
     "text": [
      "Optimization algorithm: Newton with trust region [TR-newton] \n"
     ]
    },
    {
     "name": "stderr",
     "output_type": "stream",
     "text": [
      "** Optimization: Newton with trust region \n"
     ]
    },
    {
     "data": {
      "text/html": [
       "<div>\n",
       "<style scoped>\n",
       "    .dataframe tbody tr th:only-of-type {\n",
       "        vertical-align: middle;\n",
       "    }\n",
       "\n",
       "    .dataframe tbody tr th {\n",
       "        vertical-align: top;\n",
       "    }\n",
       "\n",
       "    .dataframe thead th {\n",
       "        text-align: right;\n",
       "    }\n",
       "</style>\n",
       "<table border=\"1\" class=\"dataframe\">\n",
       "  <thead>\n",
       "    <tr style=\"text-align: right;\">\n",
       "      <th></th>\n",
       "      <th>Value</th>\n",
       "      <th>Rob. Std err</th>\n",
       "      <th>Rob. t-test</th>\n",
       "      <th>Rob. p-value</th>\n",
       "    </tr>\n",
       "  </thead>\n",
       "  <tbody>\n",
       "    <tr>\n",
       "      <th>beta1</th>\n",
       "      <td>0.144545</td>\n",
       "      <td>0.366198</td>\n",
       "      <td>0.394719</td>\n",
       "      <td>0.693050</td>\n",
       "    </tr>\n",
       "    <tr>\n",
       "      <th>beta2</th>\n",
       "      <td>0.023502</td>\n",
       "      <td>0.034280</td>\n",
       "      <td>0.685573</td>\n",
       "      <td>0.492982</td>\n",
       "    </tr>\n",
       "  </tbody>\n",
       "</table>\n",
       "</div>"
      ],
      "text/plain": [
       "          Value  Rob. Std err  Rob. t-test  Rob. p-value\n",
       "beta1  0.144545      0.366198     0.394719      0.693050\n",
       "beta2  0.023502      0.034280     0.685573      0.492982"
      ]
     },
     "execution_count": 21,
     "metadata": {},
     "output_type": "execute_result"
    }
   ],
   "source": [
    "myBiogeme.tolerance=0.1\n",
    "myBiogeme.maxiter = 1000\n",
    "results = myBiogeme.estimate()\n",
    "results.getEstimatedParameters()"
   ]
  },
  {
   "cell_type": "code",
   "execution_count": 22,
   "metadata": {
    "execution": {
     "iopub.execute_input": "2023-08-04T16:41:56.210626Z",
     "iopub.status.busy": "2023-08-04T16:41:56.210562Z",
     "iopub.status.idle": "2023-08-04T16:41:56.212219Z",
     "shell.execute_reply": "2023-08-04T16:41:56.211953Z"
    }
   },
   "outputs": [
    {
     "name": "stdout",
     "output_type": "stream",
     "text": [
      "Relative gradient:\t1.7084842942938946e-06\n",
      "Cause of termination:\tRelative gradient = 1.7e-06 <= 6.1e-06\n",
      "Number of function evaluations:\t10\n",
      "Number of gradient evaluations:\t10\n",
      "Number of hessian evaluations:\t10\n",
      "Number of iterations:\t9\n",
      "Optimization time:\t0:00:00.002397\n"
     ]
    }
   ],
   "source": [
    "for k, v in results.data.optimizationMessages.items():\n",
    "    print(f'{k}:\\t{v}')"
   ]
  },
  {
   "cell_type": "markdown",
   "metadata": {},
   "source": [
    "## BFGS with line search"
   ]
  },
  {
   "cell_type": "code",
   "execution_count": 23,
   "metadata": {
    "execution": {
     "iopub.execute_input": "2023-08-04T16:41:56.213108Z",
     "iopub.status.busy": "2023-08-04T16:41:56.213047Z",
     "iopub.status.idle": "2023-08-04T16:41:56.219443Z",
     "shell.execute_reply": "2023-08-04T16:41:56.219226Z"
    }
   },
   "outputs": [
    {
     "name": "stderr",
     "output_type": "stream",
     "text": [
      "Optimization algorithm: BFGS with line search [LS-BFGS] \n"
     ]
    },
    {
     "name": "stderr",
     "output_type": "stream",
     "text": [
      "** Optimization: BFGS with line search \n"
     ]
    },
    {
     "data": {
      "text/html": [
       "<div>\n",
       "<style scoped>\n",
       "    .dataframe tbody tr th:only-of-type {\n",
       "        vertical-align: middle;\n",
       "    }\n",
       "\n",
       "    .dataframe tbody tr th {\n",
       "        vertical-align: top;\n",
       "    }\n",
       "\n",
       "    .dataframe thead th {\n",
       "        text-align: right;\n",
       "    }\n",
       "</style>\n",
       "<table border=\"1\" class=\"dataframe\">\n",
       "  <thead>\n",
       "    <tr style=\"text-align: right;\">\n",
       "      <th></th>\n",
       "      <th>Value</th>\n",
       "      <th>Rob. Std err</th>\n",
       "      <th>Rob. t-test</th>\n",
       "      <th>Rob. p-value</th>\n",
       "    </tr>\n",
       "  </thead>\n",
       "  <tbody>\n",
       "    <tr>\n",
       "      <th>beta1</th>\n",
       "      <td>0.144546</td>\n",
       "      <td>0.366198</td>\n",
       "      <td>0.394720</td>\n",
       "      <td>0.693049</td>\n",
       "    </tr>\n",
       "    <tr>\n",
       "      <th>beta2</th>\n",
       "      <td>0.023502</td>\n",
       "      <td>0.034280</td>\n",
       "      <td>0.685574</td>\n",
       "      <td>0.492982</td>\n",
       "    </tr>\n",
       "  </tbody>\n",
       "</table>\n",
       "</div>"
      ],
      "text/plain": [
       "          Value  Rob. Std err  Rob. t-test  Rob. p-value\n",
       "beta1  0.144546      0.366198     0.394720      0.693049\n",
       "beta2  0.023502      0.034280     0.685574      0.492982"
      ]
     },
     "execution_count": 23,
     "metadata": {},
     "output_type": "execute_result"
    }
   ],
   "source": [
    "myBiogeme.algorithm_name = 'LS-BFGS'\n",
    "myBiogeme.tolerance=1.0e-6\n",
    "myBiogeme.maxiter = 1000\n",
    "results = myBiogeme.estimate()\n",
    "results.getEstimatedParameters()"
   ]
  },
  {
   "cell_type": "code",
   "execution_count": 24,
   "metadata": {
    "execution": {
     "iopub.execute_input": "2023-08-04T16:41:56.220354Z",
     "iopub.status.busy": "2023-08-04T16:41:56.220293Z",
     "iopub.status.idle": "2023-08-04T16:41:56.221866Z",
     "shell.execute_reply": "2023-08-04T16:41:56.221641Z"
    }
   },
   "outputs": [
    {
     "name": "stdout",
     "output_type": "stream",
     "text": [
      "Algorithm:\tInverse BFGS with line search\n",
      "Relative gradient:\t5.5446416666399e-07\n",
      "Cause of termination:\tRelative gradient = 5.5e-07 <= 6.1e-06\n",
      "Number of function evaluations:\t19\n",
      "Number of gradient evaluations:\t19\n",
      "Number of hessian evaluations:\t0\n",
      "Number of iterations:\t6\n",
      "Optimization time:\t0:00:00.002187\n"
     ]
    }
   ],
   "source": [
    "for k, v in results.data.optimizationMessages.items():\n",
    "    print(f'{k}:\\t{v}')"
   ]
  },
  {
   "cell_type": "markdown",
   "metadata": {},
   "source": [
    "## BFGS with trust region"
   ]
  },
  {
   "cell_type": "code",
   "execution_count": 25,
   "metadata": {
    "execution": {
     "iopub.execute_input": "2023-08-04T16:41:56.222867Z",
     "iopub.status.busy": "2023-08-04T16:41:56.222805Z",
     "iopub.status.idle": "2023-08-04T16:41:56.230211Z",
     "shell.execute_reply": "2023-08-04T16:41:56.229999Z"
    }
   },
   "outputs": [
    {
     "name": "stderr",
     "output_type": "stream",
     "text": [
      "Optimization algorithm: BFGS with trust region [TR-BFGS] \n"
     ]
    },
    {
     "name": "stderr",
     "output_type": "stream",
     "text": [
      "** Optimization: BFGS with trust region \n"
     ]
    },
    {
     "data": {
      "text/html": [
       "<div>\n",
       "<style scoped>\n",
       "    .dataframe tbody tr th:only-of-type {\n",
       "        vertical-align: middle;\n",
       "    }\n",
       "\n",
       "    .dataframe tbody tr th {\n",
       "        vertical-align: top;\n",
       "    }\n",
       "\n",
       "    .dataframe thead th {\n",
       "        text-align: right;\n",
       "    }\n",
       "</style>\n",
       "<table border=\"1\" class=\"dataframe\">\n",
       "  <thead>\n",
       "    <tr style=\"text-align: right;\">\n",
       "      <th></th>\n",
       "      <th>Value</th>\n",
       "      <th>Rob. Std err</th>\n",
       "      <th>Rob. t-test</th>\n",
       "      <th>Rob. p-value</th>\n",
       "    </tr>\n",
       "  </thead>\n",
       "  <tbody>\n",
       "    <tr>\n",
       "      <th>beta1</th>\n",
       "      <td>0.144546</td>\n",
       "      <td>0.366198</td>\n",
       "      <td>0.394720</td>\n",
       "      <td>0.693049</td>\n",
       "    </tr>\n",
       "    <tr>\n",
       "      <th>beta2</th>\n",
       "      <td>0.023502</td>\n",
       "      <td>0.034280</td>\n",
       "      <td>0.685573</td>\n",
       "      <td>0.492982</td>\n",
       "    </tr>\n",
       "  </tbody>\n",
       "</table>\n",
       "</div>"
      ],
      "text/plain": [
       "          Value  Rob. Std err  Rob. t-test  Rob. p-value\n",
       "beta1  0.144546      0.366198     0.394720      0.693049\n",
       "beta2  0.023502      0.034280     0.685573      0.492982"
      ]
     },
     "execution_count": 25,
     "metadata": {},
     "output_type": "execute_result"
    }
   ],
   "source": [
    "myBiogeme.algorithm_name = 'TR-BFGS'\n",
    "results = myBiogeme.estimate()\n",
    "results.getEstimatedParameters()"
   ]
  },
  {
   "cell_type": "code",
   "execution_count": 26,
   "metadata": {
    "execution": {
     "iopub.execute_input": "2023-08-04T16:41:56.231097Z",
     "iopub.status.busy": "2023-08-04T16:41:56.231009Z",
     "iopub.status.idle": "2023-08-04T16:41:56.232599Z",
     "shell.execute_reply": "2023-08-04T16:41:56.232384Z"
    }
   },
   "outputs": [
    {
     "name": "stdout",
     "output_type": "stream",
     "text": [
      "Relative gradient:\t2.2734284758965613e-06\n",
      "Cause of termination:\tRelative gradient = 2.3e-06 <= 6.1e-06\n",
      "Number of function evaluations:\t12\n",
      "Number of gradient evaluations:\t12\n",
      "Number of hessian evaluations:\t0\n",
      "Number of iterations:\t11\n",
      "Optimization time:\t0:00:00.003004\n"
     ]
    }
   ],
   "source": [
    "for k, v in results.data.optimizationMessages.items():\n",
    "    print(f'{k}:\\t{v}')"
   ]
  },
  {
   "cell_type": "markdown",
   "metadata": {},
   "source": [
    "## Newton/BFGS with trust region for simple bounds"
   ]
  },
  {
   "cell_type": "markdown",
   "metadata": {},
   "source": [
    "This is the default algorithm used by Biogeme. It is the implementation of the algorithm proposed by [Conn et al. (1988)](https://www.ams.org/journals/mcom/1988-50-182/S0025-5718-1988-0929544-3/S0025-5718-1988-0929544-3.pdf)."
   ]
  },
  {
   "cell_type": "code",
   "execution_count": 27,
   "metadata": {
    "execution": {
     "iopub.execute_input": "2023-08-04T16:41:56.233708Z",
     "iopub.status.busy": "2023-08-04T16:41:56.233648Z",
     "iopub.status.idle": "2023-08-04T16:41:56.242774Z",
     "shell.execute_reply": "2023-08-04T16:41:56.242561Z"
    }
   },
   "outputs": [
    {
     "name": "stderr",
     "output_type": "stream",
     "text": [
      "Optimization algorithm: hybrid Newton/BFGS with simple bounds [simple_bounds] \n"
     ]
    },
    {
     "name": "stderr",
     "output_type": "stream",
     "text": [
      "** Optimization: Newton with trust region for simple bounds \n"
     ]
    },
    {
     "name": "stderr",
     "output_type": "stream",
     "text": [
      "Iter.           beta1           beta2     Function    Relgrad   Radius      Rho      \n"
     ]
    },
    {
     "name": "stderr",
     "output_type": "stream",
     "text": [
      "    0               0           0.001          5.5        3.4     0.01        1   ++ \n"
     ]
    },
    {
     "name": "stderr",
     "output_type": "stream",
     "text": [
      "    1            0.01           0.011          5.3        1.2      0.1     0.99   ++ \n"
     ]
    },
    {
     "name": "stderr",
     "output_type": "stream",
     "text": [
      "    2            0.11           0.021          5.3       0.11        1        1   ++ \n"
     ]
    },
    {
     "name": "stderr",
     "output_type": "stream",
     "text": [
      "    3            0.14           0.023          5.3      0.013       10        1   ++ \n"
     ]
    },
    {
     "name": "stderr",
     "output_type": "stream",
     "text": [
      "    4            0.14           0.024          5.3    8.4e-06    1e+02        1   ++ \n"
     ]
    },
    {
     "name": "stderr",
     "output_type": "stream",
     "text": [
      "    5            0.14           0.024          5.3      2e-11    1e+02        1   ++ \n"
     ]
    },
    {
     "data": {
      "text/html": [
       "<div>\n",
       "<style scoped>\n",
       "    .dataframe tbody tr th:only-of-type {\n",
       "        vertical-align: middle;\n",
       "    }\n",
       "\n",
       "    .dataframe tbody tr th {\n",
       "        vertical-align: top;\n",
       "    }\n",
       "\n",
       "    .dataframe thead th {\n",
       "        text-align: right;\n",
       "    }\n",
       "</style>\n",
       "<table border=\"1\" class=\"dataframe\">\n",
       "  <thead>\n",
       "    <tr style=\"text-align: right;\">\n",
       "      <th></th>\n",
       "      <th>Value</th>\n",
       "      <th>Rob. Std err</th>\n",
       "      <th>Rob. t-test</th>\n",
       "      <th>Rob. p-value</th>\n",
       "    </tr>\n",
       "  </thead>\n",
       "  <tbody>\n",
       "    <tr>\n",
       "      <th>beta1</th>\n",
       "      <td>0.144546</td>\n",
       "      <td>0.366198</td>\n",
       "      <td>0.394720</td>\n",
       "      <td>0.693049</td>\n",
       "    </tr>\n",
       "    <tr>\n",
       "      <th>beta2</th>\n",
       "      <td>0.023502</td>\n",
       "      <td>0.034280</td>\n",
       "      <td>0.685574</td>\n",
       "      <td>0.492982</td>\n",
       "    </tr>\n",
       "  </tbody>\n",
       "</table>\n",
       "</div>"
      ],
      "text/plain": [
       "          Value  Rob. Std err  Rob. t-test  Rob. p-value\n",
       "beta1  0.144546      0.366198     0.394720      0.693049\n",
       "beta2  0.023502      0.034280     0.685574      0.492982"
      ]
     },
     "execution_count": 27,
     "metadata": {},
     "output_type": "execute_result"
    }
   ],
   "source": [
    "myBiogeme.algorithm_name = 'simple_bounds'\n",
    "results = myBiogeme.estimate()\n",
    "results.getEstimatedParameters()"
   ]
  },
  {
   "cell_type": "code",
   "execution_count": 28,
   "metadata": {
    "execution": {
     "iopub.execute_input": "2023-08-04T16:41:56.243826Z",
     "iopub.status.busy": "2023-08-04T16:41:56.243764Z",
     "iopub.status.idle": "2023-08-04T16:41:56.245414Z",
     "shell.execute_reply": "2023-08-04T16:41:56.245200Z"
    }
   },
   "outputs": [
    {
     "name": "stdout",
     "output_type": "stream",
     "text": [
      "Relative gradient:\t2.0479777952529902e-11\n",
      "Cause of termination:\tRelative gradient = 2e-11 <= 6.1e-06\n",
      "Number of function evaluations:\t7\n",
      "Number of gradient evaluations:\t7\n",
      "Number of hessian evaluations:\t6\n",
      "Algorithm:\tNewton with trust region for simple bound constraints\n",
      "Number of iterations:\t6\n",
      "Proportion of Hessian calculation:\t6/6 = 100.0%\n",
      "Optimization time:\t0:00:00.004971\n"
     ]
    }
   ],
   "source": [
    "for k, v in results.data.optimizationMessages.items():\n",
    "    print(f'{k}:\\t{v}')"
   ]
  },
  {
   "cell_type": "markdown",
   "metadata": {},
   "source": [
    "When the second derivatives are too computationally expensive to calculate, it is possible to avoid calculating them at each successful iteration. The parameter `second_derivatives` allows to control that."
   ]
  },
  {
   "cell_type": "code",
   "execution_count": 29,
   "metadata": {
    "execution": {
     "iopub.execute_input": "2023-08-04T16:41:56.246345Z",
     "iopub.status.busy": "2023-08-04T16:41:56.246275Z",
     "iopub.status.idle": "2023-08-04T16:41:56.254549Z",
     "shell.execute_reply": "2023-08-04T16:41:56.254353Z"
    }
   },
   "outputs": [
    {
     "name": "stderr",
     "output_type": "stream",
     "text": [
      "Optimization algorithm: hybrid Newton/BFGS with simple bounds [simple_bounds] \n"
     ]
    },
    {
     "name": "stderr",
     "output_type": "stream",
     "text": [
      "** Optimization: Hybrid Newton 50.0%/BFGS with trust region for simple bounds \n"
     ]
    },
    {
     "name": "stderr",
     "output_type": "stream",
     "text": [
      "Iter.           beta1           beta2     Function    Relgrad   Radius      Rho      \n"
     ]
    },
    {
     "name": "stderr",
     "output_type": "stream",
     "text": [
      "    0               0           0.001          5.5        3.4     0.01        1   ++ \n"
     ]
    },
    {
     "name": "stderr",
     "output_type": "stream",
     "text": [
      "    1            0.01           0.011          5.3        1.2      0.1     0.98   ++ \n"
     ]
    },
    {
     "name": "stderr",
     "output_type": "stream",
     "text": [
      "    2            0.11           0.021          5.3       0.11        1        1   ++ \n"
     ]
    },
    {
     "name": "stderr",
     "output_type": "stream",
     "text": [
      "    3            0.14           0.023          5.3      0.058       10      1.1   ++ \n"
     ]
    },
    {
     "name": "stderr",
     "output_type": "stream",
     "text": [
      "    4            0.14           0.023          5.3    0.00012    1e+02        1   ++ \n"
     ]
    },
    {
     "name": "stderr",
     "output_type": "stream",
     "text": [
      "    5            0.14           0.023          5.3    8.4e-07    1e+02        1   ++ \n"
     ]
    },
    {
     "data": {
      "text/html": [
       "<div>\n",
       "<style scoped>\n",
       "    .dataframe tbody tr th:only-of-type {\n",
       "        vertical-align: middle;\n",
       "    }\n",
       "\n",
       "    .dataframe tbody tr th {\n",
       "        vertical-align: top;\n",
       "    }\n",
       "\n",
       "    .dataframe thead th {\n",
       "        text-align: right;\n",
       "    }\n",
       "</style>\n",
       "<table border=\"1\" class=\"dataframe\">\n",
       "  <thead>\n",
       "    <tr style=\"text-align: right;\">\n",
       "      <th></th>\n",
       "      <th>Value</th>\n",
       "      <th>Rob. Std err</th>\n",
       "      <th>Rob. t-test</th>\n",
       "      <th>Rob. p-value</th>\n",
       "    </tr>\n",
       "  </thead>\n",
       "  <tbody>\n",
       "    <tr>\n",
       "      <th>beta1</th>\n",
       "      <td>0.144546</td>\n",
       "      <td>0.366198</td>\n",
       "      <td>0.394720</td>\n",
       "      <td>0.693049</td>\n",
       "    </tr>\n",
       "    <tr>\n",
       "      <th>beta2</th>\n",
       "      <td>0.023502</td>\n",
       "      <td>0.034280</td>\n",
       "      <td>0.685573</td>\n",
       "      <td>0.492982</td>\n",
       "    </tr>\n",
       "  </tbody>\n",
       "</table>\n",
       "</div>"
      ],
      "text/plain": [
       "          Value  Rob. Std err  Rob. t-test  Rob. p-value\n",
       "beta1  0.144546      0.366198     0.394720      0.693049\n",
       "beta2  0.023502      0.034280     0.685573      0.492982"
      ]
     },
     "execution_count": 29,
     "metadata": {},
     "output_type": "execute_result"
    }
   ],
   "source": [
    "myBiogeme.second_derivatives = 0.5\n",
    "results = myBiogeme.estimate()\n",
    "results.getEstimatedParameters()"
   ]
  },
  {
   "cell_type": "code",
   "execution_count": 30,
   "metadata": {
    "execution": {
     "iopub.execute_input": "2023-08-04T16:41:56.255606Z",
     "iopub.status.busy": "2023-08-04T16:41:56.255537Z",
     "iopub.status.idle": "2023-08-04T16:41:56.257274Z",
     "shell.execute_reply": "2023-08-04T16:41:56.256998Z"
    }
   },
   "outputs": [
    {
     "name": "stdout",
     "output_type": "stream",
     "text": [
      "Relative gradient:\t8.430721282926752e-07\n",
      "Cause of termination:\tRelative gradient = 8.4e-07 <= 6.1e-06\n",
      "Number of function evaluations:\t7\n",
      "Number of gradient evaluations:\t7\n",
      "Number of hessian evaluations:\t3\n",
      "Algorithm:\tHybrid Newton [50.0%] with trust region for simple bound constraints\n",
      "Number of iterations:\t6\n",
      "Proportion of Hessian calculation:\t3/6 = 50.0%\n",
      "Optimization time:\t0:00:00.004311\n"
     ]
    }
   ],
   "source": [
    "for k, v in results.data.optimizationMessages.items():\n",
    "    print(f'{k}:\\t{v}')"
   ]
  },
  {
   "cell_type": "markdown",
   "metadata": {},
   "source": [
    "If the parameter is set to zero, the second derivatives are not used at all, and the algorithm relies only on the BFGS update."
   ]
  },
  {
   "cell_type": "code",
   "execution_count": 31,
   "metadata": {
    "execution": {
     "iopub.execute_input": "2023-08-04T16:41:56.258237Z",
     "iopub.status.busy": "2023-08-04T16:41:56.258169Z",
     "iopub.status.idle": "2023-08-04T16:41:56.267812Z",
     "shell.execute_reply": "2023-08-04T16:41:56.267620Z"
    }
   },
   "outputs": [
    {
     "name": "stderr",
     "output_type": "stream",
     "text": [
      "Optimization algorithm: hybrid Newton/BFGS with simple bounds [simple_bounds] \n"
     ]
    },
    {
     "name": "stderr",
     "output_type": "stream",
     "text": [
      "** Optimization: BFGS with trust region for simple bounds \n"
     ]
    },
    {
     "name": "stderr",
     "output_type": "stream",
     "text": [
      "Iter.           beta1           beta2     Function    Relgrad   Radius      Rho      \n"
     ]
    },
    {
     "name": "stderr",
     "output_type": "stream",
     "text": [
      "    0               0           0.001          5.5        3.4     0.01     0.97   ++ \n"
     ]
    },
    {
     "name": "stderr",
     "output_type": "stream",
     "text": [
      "    1            0.01           0.011          5.3        1.2      0.1     0.98   ++ \n"
     ]
    },
    {
     "name": "stderr",
     "output_type": "stream",
     "text": [
      "    2            0.11            0.02          5.3       0.21      0.1     0.73    + \n"
     ]
    },
    {
     "name": "stderr",
     "output_type": "stream",
     "text": [
      "    3            0.14           0.023          5.3       0.21        1     0.98   ++ \n"
     ]
    },
    {
     "name": "stderr",
     "output_type": "stream",
     "text": [
      "    4            0.14           0.023          5.3       0.21   0.0013     -1.2    - \n"
     ]
    },
    {
     "name": "stderr",
     "output_type": "stream",
     "text": [
      "    5            0.14           0.024          5.3       0.14   0.0013     0.23    + \n"
     ]
    },
    {
     "name": "stderr",
     "output_type": "stream",
     "text": [
      "    6            0.14           0.023          5.3    5.8e-05    0.013        1   ++ \n"
     ]
    },
    {
     "name": "stderr",
     "output_type": "stream",
     "text": [
      "    7            0.14           0.023          5.3    2.2e-06    0.013        1   ++ \n"
     ]
    },
    {
     "data": {
      "text/html": [
       "<div>\n",
       "<style scoped>\n",
       "    .dataframe tbody tr th:only-of-type {\n",
       "        vertical-align: middle;\n",
       "    }\n",
       "\n",
       "    .dataframe tbody tr th {\n",
       "        vertical-align: top;\n",
       "    }\n",
       "\n",
       "    .dataframe thead th {\n",
       "        text-align: right;\n",
       "    }\n",
       "</style>\n",
       "<table border=\"1\" class=\"dataframe\">\n",
       "  <thead>\n",
       "    <tr style=\"text-align: right;\">\n",
       "      <th></th>\n",
       "      <th>Value</th>\n",
       "      <th>Rob. Std err</th>\n",
       "      <th>Rob. t-test</th>\n",
       "      <th>Rob. p-value</th>\n",
       "    </tr>\n",
       "  </thead>\n",
       "  <tbody>\n",
       "    <tr>\n",
       "      <th>beta1</th>\n",
       "      <td>0.144545</td>\n",
       "      <td>0.366197</td>\n",
       "      <td>0.394719</td>\n",
       "      <td>0.693050</td>\n",
       "    </tr>\n",
       "    <tr>\n",
       "      <th>beta2</th>\n",
       "      <td>0.023501</td>\n",
       "      <td>0.034280</td>\n",
       "      <td>0.685573</td>\n",
       "      <td>0.492982</td>\n",
       "    </tr>\n",
       "  </tbody>\n",
       "</table>\n",
       "</div>"
      ],
      "text/plain": [
       "          Value  Rob. Std err  Rob. t-test  Rob. p-value\n",
       "beta1  0.144545      0.366197     0.394719      0.693050\n",
       "beta2  0.023501      0.034280     0.685573      0.492982"
      ]
     },
     "execution_count": 31,
     "metadata": {},
     "output_type": "execute_result"
    }
   ],
   "source": [
    "myBiogeme.second_derivatives = 0.0\n",
    "results = myBiogeme.estimate()\n",
    "results.getEstimatedParameters()"
   ]
  },
  {
   "cell_type": "code",
   "execution_count": 32,
   "metadata": {
    "execution": {
     "iopub.execute_input": "2023-08-04T16:41:56.268862Z",
     "iopub.status.busy": "2023-08-04T16:41:56.268796Z",
     "iopub.status.idle": "2023-08-04T16:41:56.270490Z",
     "shell.execute_reply": "2023-08-04T16:41:56.270250Z"
    }
   },
   "outputs": [
    {
     "name": "stdout",
     "output_type": "stream",
     "text": [
      "Relative gradient:\t2.1858189654567887e-06\n",
      "Cause of termination:\tRelative gradient = 2.2e-06 <= 6.1e-06\n",
      "Number of function evaluations:\t9\n",
      "Number of gradient evaluations:\t8\n",
      "Number of hessian evaluations:\t0\n",
      "Algorithm:\tBFGS with trust region for simple bound constraints\n",
      "Number of iterations:\t8\n",
      "Proportion of Hessian calculation:\t0/7 = 0.0%\n",
      "Optimization time:\t0:00:00.005290\n"
     ]
    }
   ],
   "source": [
    "for k, v in results.data.optimizationMessages.items():\n",
    "    print(f'{k}:\\t{v}')"
   ]
  },
  {
   "cell_type": "markdown",
   "metadata": {},
   "source": [
    "There are shortcuts to call the BFGS and the Newton versions"
   ]
  },
  {
   "cell_type": "code",
   "execution_count": 33,
   "metadata": {
    "execution": {
     "iopub.execute_input": "2023-08-04T16:41:56.271463Z",
     "iopub.status.busy": "2023-08-04T16:41:56.271386Z",
     "iopub.status.idle": "2023-08-04T16:41:56.280397Z",
     "shell.execute_reply": "2023-08-04T16:41:56.280199Z"
    }
   },
   "outputs": [
    {
     "name": "stderr",
     "output_type": "stream",
     "text": [
      "Optimization algorithm: Newton with simple bounds [simple_bounds_newton]. \n"
     ]
    },
    {
     "name": "stderr",
     "output_type": "stream",
     "text": [
      "Optimization algorithm: hybrid Newton/BFGS with simple bounds [simple_bounds] \n"
     ]
    },
    {
     "name": "stderr",
     "output_type": "stream",
     "text": [
      "** Optimization: Newton with trust region for simple bounds \n"
     ]
    },
    {
     "name": "stderr",
     "output_type": "stream",
     "text": [
      "Iter.           beta1           beta2     Function    Relgrad   Radius      Rho      \n"
     ]
    },
    {
     "name": "stderr",
     "output_type": "stream",
     "text": [
      "    0               0           0.001          5.5        3.4     0.01        1   ++ \n"
     ]
    },
    {
     "name": "stderr",
     "output_type": "stream",
     "text": [
      "    1            0.01           0.011          5.3        1.2      0.1     0.99   ++ \n"
     ]
    },
    {
     "name": "stderr",
     "output_type": "stream",
     "text": [
      "    2            0.11           0.021          5.3       0.11        1        1   ++ \n"
     ]
    },
    {
     "name": "stderr",
     "output_type": "stream",
     "text": [
      "    3            0.14           0.023          5.3      0.013       10        1   ++ \n"
     ]
    },
    {
     "name": "stderr",
     "output_type": "stream",
     "text": [
      "    4            0.14           0.024          5.3    8.4e-06    1e+02        1   ++ \n"
     ]
    },
    {
     "name": "stderr",
     "output_type": "stream",
     "text": [
      "    5            0.14           0.024          5.3      2e-11    1e+02        1   ++ \n"
     ]
    },
    {
     "data": {
      "text/html": [
       "<div>\n",
       "<style scoped>\n",
       "    .dataframe tbody tr th:only-of-type {\n",
       "        vertical-align: middle;\n",
       "    }\n",
       "\n",
       "    .dataframe tbody tr th {\n",
       "        vertical-align: top;\n",
       "    }\n",
       "\n",
       "    .dataframe thead th {\n",
       "        text-align: right;\n",
       "    }\n",
       "</style>\n",
       "<table border=\"1\" class=\"dataframe\">\n",
       "  <thead>\n",
       "    <tr style=\"text-align: right;\">\n",
       "      <th></th>\n",
       "      <th>Value</th>\n",
       "      <th>Rob. Std err</th>\n",
       "      <th>Rob. t-test</th>\n",
       "      <th>Rob. p-value</th>\n",
       "    </tr>\n",
       "  </thead>\n",
       "  <tbody>\n",
       "    <tr>\n",
       "      <th>beta1</th>\n",
       "      <td>0.144546</td>\n",
       "      <td>0.366198</td>\n",
       "      <td>0.394720</td>\n",
       "      <td>0.693049</td>\n",
       "    </tr>\n",
       "    <tr>\n",
       "      <th>beta2</th>\n",
       "      <td>0.023502</td>\n",
       "      <td>0.034280</td>\n",
       "      <td>0.685574</td>\n",
       "      <td>0.492982</td>\n",
       "    </tr>\n",
       "  </tbody>\n",
       "</table>\n",
       "</div>"
      ],
      "text/plain": [
       "          Value  Rob. Std err  Rob. t-test  Rob. p-value\n",
       "beta1  0.144546      0.366198     0.394720      0.693049\n",
       "beta2  0.023502      0.034280     0.685574      0.492982"
      ]
     },
     "execution_count": 33,
     "metadata": {},
     "output_type": "execute_result"
    }
   ],
   "source": [
    "myBiogeme.algorithm_name = 'simple_bounds_newton'\n",
    "results = myBiogeme.estimate()\n",
    "results.getEstimatedParameters()"
   ]
  },
  {
   "cell_type": "code",
   "execution_count": 34,
   "metadata": {
    "execution": {
     "iopub.execute_input": "2023-08-04T16:41:56.281460Z",
     "iopub.status.busy": "2023-08-04T16:41:56.281403Z",
     "iopub.status.idle": "2023-08-04T16:41:56.283119Z",
     "shell.execute_reply": "2023-08-04T16:41:56.282829Z"
    }
   },
   "outputs": [
    {
     "name": "stdout",
     "output_type": "stream",
     "text": [
      "Relative gradient:\t2.0479777952529902e-11\n",
      "Cause of termination:\tRelative gradient = 2e-11 <= 6.1e-06\n",
      "Number of function evaluations:\t7\n",
      "Number of gradient evaluations:\t7\n",
      "Number of hessian evaluations:\t6\n",
      "Algorithm:\tNewton with trust region for simple bound constraints\n",
      "Number of iterations:\t6\n",
      "Proportion of Hessian calculation:\t6/6 = 100.0%\n",
      "Optimization time:\t0:00:00.004616\n"
     ]
    }
   ],
   "source": [
    "for k, v in results.data.optimizationMessages.items():\n",
    "    print(f'{k}:\\t{v}')"
   ]
  },
  {
   "cell_type": "code",
   "execution_count": 35,
   "metadata": {
    "execution": {
     "iopub.execute_input": "2023-08-04T16:41:56.284014Z",
     "iopub.status.busy": "2023-08-04T16:41:56.283919Z",
     "iopub.status.idle": "2023-08-04T16:41:56.293495Z",
     "shell.execute_reply": "2023-08-04T16:41:56.293277Z"
    }
   },
   "outputs": [
    {
     "name": "stderr",
     "output_type": "stream",
     "text": [
      "Optimization algorithm: BFGS with simple bounds [simple_bounds_BFGS]. \n"
     ]
    },
    {
     "name": "stderr",
     "output_type": "stream",
     "text": [
      "Optimization algorithm: hybrid Newton/BFGS with simple bounds [simple_bounds] \n"
     ]
    },
    {
     "name": "stderr",
     "output_type": "stream",
     "text": [
      "** Optimization: BFGS with trust region for simple bounds \n"
     ]
    },
    {
     "name": "stderr",
     "output_type": "stream",
     "text": [
      "Iter.           beta1           beta2     Function    Relgrad   Radius      Rho      \n"
     ]
    },
    {
     "name": "stderr",
     "output_type": "stream",
     "text": [
      "    0               0           0.001          5.5        3.4     0.01     0.97   ++ \n"
     ]
    },
    {
     "name": "stderr",
     "output_type": "stream",
     "text": [
      "    1            0.01           0.011          5.3        1.2      0.1     0.98   ++ \n"
     ]
    },
    {
     "name": "stderr",
     "output_type": "stream",
     "text": [
      "    2            0.11            0.02          5.3       0.21      0.1     0.73    + \n"
     ]
    },
    {
     "name": "stderr",
     "output_type": "stream",
     "text": [
      "    3            0.14           0.023          5.3       0.21        1     0.98   ++ \n"
     ]
    },
    {
     "name": "stderr",
     "output_type": "stream",
     "text": [
      "    4            0.14           0.023          5.3       0.21   0.0013     -1.2    - \n"
     ]
    },
    {
     "name": "stderr",
     "output_type": "stream",
     "text": [
      "    5            0.14           0.024          5.3       0.14   0.0013     0.23    + \n"
     ]
    },
    {
     "name": "stderr",
     "output_type": "stream",
     "text": [
      "    6            0.14           0.023          5.3    5.8e-05    0.013        1   ++ \n"
     ]
    },
    {
     "name": "stderr",
     "output_type": "stream",
     "text": [
      "    7            0.14           0.023          5.3    2.2e-06    0.013        1   ++ \n"
     ]
    },
    {
     "data": {
      "text/html": [
       "<div>\n",
       "<style scoped>\n",
       "    .dataframe tbody tr th:only-of-type {\n",
       "        vertical-align: middle;\n",
       "    }\n",
       "\n",
       "    .dataframe tbody tr th {\n",
       "        vertical-align: top;\n",
       "    }\n",
       "\n",
       "    .dataframe thead th {\n",
       "        text-align: right;\n",
       "    }\n",
       "</style>\n",
       "<table border=\"1\" class=\"dataframe\">\n",
       "  <thead>\n",
       "    <tr style=\"text-align: right;\">\n",
       "      <th></th>\n",
       "      <th>Value</th>\n",
       "      <th>Rob. Std err</th>\n",
       "      <th>Rob. t-test</th>\n",
       "      <th>Rob. p-value</th>\n",
       "    </tr>\n",
       "  </thead>\n",
       "  <tbody>\n",
       "    <tr>\n",
       "      <th>beta1</th>\n",
       "      <td>0.144545</td>\n",
       "      <td>0.366197</td>\n",
       "      <td>0.394719</td>\n",
       "      <td>0.693050</td>\n",
       "    </tr>\n",
       "    <tr>\n",
       "      <th>beta2</th>\n",
       "      <td>0.023501</td>\n",
       "      <td>0.034280</td>\n",
       "      <td>0.685573</td>\n",
       "      <td>0.492982</td>\n",
       "    </tr>\n",
       "  </tbody>\n",
       "</table>\n",
       "</div>"
      ],
      "text/plain": [
       "          Value  Rob. Std err  Rob. t-test  Rob. p-value\n",
       "beta1  0.144545      0.366197     0.394719      0.693050\n",
       "beta2  0.023501      0.034280     0.685573      0.492982"
      ]
     },
     "execution_count": 35,
     "metadata": {},
     "output_type": "execute_result"
    }
   ],
   "source": [
    "myBiogeme.algorithm_name = 'simple_bounds_BFGS'\n",
    "results = myBiogeme.estimate()\n",
    "results.getEstimatedParameters()"
   ]
  },
  {
   "cell_type": "code",
   "execution_count": 36,
   "metadata": {
    "execution": {
     "iopub.execute_input": "2023-08-04T16:41:56.294582Z",
     "iopub.status.busy": "2023-08-04T16:41:56.294510Z",
     "iopub.status.idle": "2023-08-04T16:41:56.296226Z",
     "shell.execute_reply": "2023-08-04T16:41:56.295916Z"
    }
   },
   "outputs": [
    {
     "name": "stdout",
     "output_type": "stream",
     "text": [
      "Relative gradient:\t2.1858189654567887e-06\n",
      "Cause of termination:\tRelative gradient = 2.2e-06 <= 6.1e-06\n",
      "Number of function evaluations:\t9\n",
      "Number of gradient evaluations:\t8\n",
      "Number of hessian evaluations:\t0\n",
      "Algorithm:\tBFGS with trust region for simple bound constraints\n",
      "Number of iterations:\t8\n",
      "Proportion of Hessian calculation:\t0/7 = 0.0%\n",
      "Optimization time:\t0:00:00.005230\n"
     ]
    }
   ],
   "source": [
    "for k, v in results.data.optimizationMessages.items():\n",
    "    print(f'{k}:\\t{v}')"
   ]
  },
  {
   "cell_type": "code",
   "execution_count": null,
   "metadata": {},
   "outputs": [],
   "source": []
  }
 ],
 "metadata": {
  "kernelspec": {
   "display_name": "Python 3 (ipykernel)",
   "language": "python",
   "name": "python3"
  },
  "language_info": {
   "codemirror_mode": {
    "name": "ipython",
    "version": 3
   },
   "file_extension": ".py",
   "mimetype": "text/x-python",
   "name": "python",
   "nbconvert_exporter": "python",
   "pygments_lexer": "ipython3",
   "version": "3.11.3"
  }
 },
 "nbformat": 4,
 "nbformat_minor": 4
}
