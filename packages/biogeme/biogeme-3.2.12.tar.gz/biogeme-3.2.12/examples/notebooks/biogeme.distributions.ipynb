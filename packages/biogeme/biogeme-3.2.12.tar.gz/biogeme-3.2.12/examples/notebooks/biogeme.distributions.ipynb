{
 "cells": [
  {
   "cell_type": "markdown",
   "metadata": {},
   "source": [
    "# Module biogeme.distributions"
   ]
  },
  {
   "cell_type": "markdown",
   "metadata": {},
   "source": [
    "## Examples of use of each function"
   ]
  },
  {
   "cell_type": "markdown",
   "metadata": {},
   "source": [
    "This webpage is for programmers who need examples of use of the functions of the class. The examples are designed to illustrate the syntax. They do not correspond to any meaningful model. For examples of models, visit  [biogeme.epfl.ch](http://biogeme.epfl.ch)."
   ]
  },
  {
   "cell_type": "code",
   "execution_count": 1,
   "metadata": {
    "execution": {
     "iopub.execute_input": "2023-08-04T16:42:00.697863Z",
     "iopub.status.busy": "2023-08-04T16:42:00.697598Z",
     "iopub.status.idle": "2023-08-04T16:42:00.706789Z",
     "shell.execute_reply": "2023-08-04T16:42:00.706285Z"
    }
   },
   "outputs": [
    {
     "name": "stdout",
     "output_type": "stream",
     "text": [
      "2023-08-04 18:42:00.704278\n"
     ]
    }
   ],
   "source": [
    "import datetime\n",
    "print(datetime.datetime.now())"
   ]
  },
  {
   "cell_type": "code",
   "execution_count": 2,
   "metadata": {
    "execution": {
     "iopub.execute_input": "2023-08-04T16:42:00.709015Z",
     "iopub.status.busy": "2023-08-04T16:42:00.708827Z",
     "iopub.status.idle": "2023-08-04T16:42:00.714161Z",
     "shell.execute_reply": "2023-08-04T16:42:00.713598Z"
    }
   },
   "outputs": [
    {
     "name": "stdout",
     "output_type": "stream",
     "text": [
      "biogeme 3.2.12 [2023-08-04]\n",
      "Home page: http://biogeme.epfl.ch\n",
      "Submit questions to https://groups.google.com/d/forum/biogeme\n",
      "Michel Bierlaire, Transport and Mobility Laboratory, Ecole Polytechnique Fédérale de Lausanne (EPFL)\n",
      "\n"
     ]
    }
   ],
   "source": [
    "import biogeme.version as ver\n",
    "print(ver.getText())"
   ]
  },
  {
   "cell_type": "code",
   "execution_count": 3,
   "metadata": {
    "execution": {
     "iopub.execute_input": "2023-08-04T16:42:00.716748Z",
     "iopub.status.busy": "2023-08-04T16:42:00.716337Z",
     "iopub.status.idle": "2023-08-04T16:42:00.891737Z",
     "shell.execute_reply": "2023-08-04T16:42:00.891342Z"
    }
   },
   "outputs": [],
   "source": [
    "import biogeme.distributions as dist\n",
    "from biogeme.expressions import Beta"
   ]
  },
  {
   "cell_type": "markdown",
   "metadata": {},
   "source": [
    "## pdf of the normal distribution"
   ]
  },
  {
   "cell_type": "markdown",
   "metadata": {},
   "source": [
    "Returns the biogeme expression of the probability density function of the normal distribution\n",
    "\\\\[ f(x;\\mu, \\sigma) =\n",
    "        \\frac{1}{\\sigma \\sqrt{2\\pi}} \\exp{-\\frac{(x-\\mu)^2}{2\\sigma^2}}\\\\]\n"
   ]
  },
  {
   "cell_type": "markdown",
   "metadata": {},
   "source": [
    "Calculated for a numeric value"
   ]
  },
  {
   "cell_type": "code",
   "execution_count": 4,
   "metadata": {
    "execution": {
     "iopub.execute_input": "2023-08-04T16:42:00.893271Z",
     "iopub.status.busy": "2023-08-04T16:42:00.893152Z",
     "iopub.status.idle": "2023-08-04T16:42:00.895124Z",
     "shell.execute_reply": "2023-08-04T16:42:00.894915Z"
    }
   },
   "outputs": [
    {
     "name": "stdout",
     "output_type": "stream",
     "text": [
      "(exp((((-(`0.0` - `0.0`)) * (`0.0` - `0.0`)) / ((`2.0` * `1.0`) * `1.0`))) / (`1.0` * `2.506628275`))\n"
     ]
    }
   ],
   "source": [
    "print(dist.normalpdf(0))"
   ]
  },
  {
   "cell_type": "markdown",
   "metadata": {},
   "source": [
    "Calculated for an expression"
   ]
  },
  {
   "cell_type": "code",
   "execution_count": 5,
   "metadata": {
    "execution": {
     "iopub.execute_input": "2023-08-04T16:42:00.896276Z",
     "iopub.status.busy": "2023-08-04T16:42:00.896200Z",
     "iopub.status.idle": "2023-08-04T16:42:00.898073Z",
     "shell.execute_reply": "2023-08-04T16:42:00.897863Z"
    }
   },
   "outputs": [],
   "source": [
    "aParameter = Beta('aParameter', 0, None, None, 0)\n",
    "mu = Beta('mu', 0, None, None, 0)\n",
    "sigma = Beta('sigma', 0, None, None, 0)"
   ]
  },
  {
   "cell_type": "code",
   "execution_count": 6,
   "metadata": {
    "execution": {
     "iopub.execute_input": "2023-08-04T16:42:00.898975Z",
     "iopub.status.busy": "2023-08-04T16:42:00.898888Z",
     "iopub.status.idle": "2023-08-04T16:42:00.900616Z",
     "shell.execute_reply": "2023-08-04T16:42:00.900344Z"
    },
    "scrolled": true
   },
   "outputs": [
    {
     "name": "stdout",
     "output_type": "stream",
     "text": [
      "(exp((((-(aParameter(init=0) - mu(init=0))) * (aParameter(init=0) - mu(init=0))) / ((`2.0` * sigma(init=0)) * sigma(init=0)))) / (sigma(init=0) * `2.506628275`))\n"
     ]
    }
   ],
   "source": [
    "print(dist.normalpdf(aParameter, mu=mu, s=sigma))"
   ]
  },
  {
   "cell_type": "markdown",
   "metadata": {},
   "source": [
    "## pdf of the lognormal distribution"
   ]
  },
  {
   "cell_type": "markdown",
   "metadata": {},
   "source": [
    "Returns the biogeme expression of the probability density function of the lognormal distribution\n",
    "\\\\[f(x;\\mu, \\sigma) =\n",
    "              \\frac{1}{x\\sigma \\sqrt{2\\pi}}\n",
    "              \\exp{-\\frac{(\\ln x-\\mu)^2}{2\\sigma^2}} \\\\]\n"
   ]
  },
  {
   "cell_type": "markdown",
   "metadata": {},
   "source": [
    "Calculated for a numeric value"
   ]
  },
  {
   "cell_type": "code",
   "execution_count": 7,
   "metadata": {
    "execution": {
     "iopub.execute_input": "2023-08-04T16:42:00.901702Z",
     "iopub.status.busy": "2023-08-04T16:42:00.901632Z",
     "iopub.status.idle": "2023-08-04T16:42:00.903215Z",
     "shell.execute_reply": "2023-08-04T16:42:00.903016Z"
    }
   },
   "outputs": [
    {
     "name": "stdout",
     "output_type": "stream",
     "text": [
      "((`0.0` * exp((((-(log(`0.0`) - `0.0`)) * (log(`0.0`) - `0.0`)) / `2.0`))) / `0.0`)\n"
     ]
    }
   ],
   "source": [
    "print(dist.lognormalpdf(0))"
   ]
  },
  {
   "cell_type": "markdown",
   "metadata": {},
   "source": [
    "Calculated for an expression"
   ]
  },
  {
   "cell_type": "code",
   "execution_count": 8,
   "metadata": {
    "execution": {
     "iopub.execute_input": "2023-08-04T16:42:00.904224Z",
     "iopub.status.busy": "2023-08-04T16:42:00.904140Z",
     "iopub.status.idle": "2023-08-04T16:42:00.905823Z",
     "shell.execute_reply": "2023-08-04T16:42:00.905615Z"
    }
   },
   "outputs": [],
   "source": [
    "aParameter = Beta('aParameter', 0, None, None, 0)\n",
    "mu = Beta('mu', 0, None, None, 0)\n",
    "sigma = Beta('sigma', 0, None, None, 0)"
   ]
  },
  {
   "cell_type": "code",
   "execution_count": 9,
   "metadata": {
    "execution": {
     "iopub.execute_input": "2023-08-04T16:42:00.906742Z",
     "iopub.status.busy": "2023-08-04T16:42:00.906683Z",
     "iopub.status.idle": "2023-08-04T16:42:00.908364Z",
     "shell.execute_reply": "2023-08-04T16:42:00.908158Z"
    }
   },
   "outputs": [
    {
     "name": "stdout",
     "output_type": "stream",
     "text": [
      "(((aParameter(init=0) > `0.0`) * exp((((-(log(aParameter(init=0)) - mu(init=0))) * (log(aParameter(init=0)) - mu(init=0))) / ((`2.0` * sigma(init=0)) * sigma(init=0))))) / ((aParameter(init=0) * sigma(init=0)) * `2.506628275`))\n"
     ]
    }
   ],
   "source": [
    "print(dist.lognormalpdf(aParameter, mu=mu, s=sigma))"
   ]
  },
  {
   "cell_type": "markdown",
   "metadata": {},
   "source": [
    "## pdf of the uniform distribution"
   ]
  },
  {
   "cell_type": "markdown",
   "metadata": {},
   "source": [
    "Returns the biogeme expression of the probability density function of the uniform distribution\n",
    "\n",
    "\\\\[f(x; a, b) = \\left\\{ \\begin{array}{ll}\n",
    "              \\frac{1}{b-a} & \\mbox{for } x \\in [a, b] \\\\\n",
    "              0 & \\mbox{otherwise}\\end{array} \\right. \\\\]\n"
   ]
  },
  {
   "cell_type": "markdown",
   "metadata": {},
   "source": [
    "Calculated for a numeric value"
   ]
  },
  {
   "cell_type": "code",
   "execution_count": 10,
   "metadata": {
    "execution": {
     "iopub.execute_input": "2023-08-04T16:42:00.909401Z",
     "iopub.status.busy": "2023-08-04T16:42:00.909341Z",
     "iopub.status.idle": "2023-08-04T16:42:00.910913Z",
     "shell.execute_reply": "2023-08-04T16:42:00.910689Z"
    }
   },
   "outputs": [
    {
     "name": "stdout",
     "output_type": "stream",
     "text": [
      "0.5\n"
     ]
    }
   ],
   "source": [
    "print(dist.uniformpdf(0))"
   ]
  },
  {
   "cell_type": "markdown",
   "metadata": {},
   "source": [
    "Calculated for an expression"
   ]
  },
  {
   "cell_type": "code",
   "execution_count": 11,
   "metadata": {
    "execution": {
     "iopub.execute_input": "2023-08-04T16:42:00.911875Z",
     "iopub.status.busy": "2023-08-04T16:42:00.911815Z",
     "iopub.status.idle": "2023-08-04T16:42:00.913349Z",
     "shell.execute_reply": "2023-08-04T16:42:00.913154Z"
    }
   },
   "outputs": [],
   "source": [
    "aParameter = Beta('aParameter', 0, None, None, 0)\n",
    "a = Beta('a', 0, None, None, 0)\n",
    "b = Beta('b', 0, None, None, 0)"
   ]
  },
  {
   "cell_type": "code",
   "execution_count": 12,
   "metadata": {
    "execution": {
     "iopub.execute_input": "2023-08-04T16:42:00.914248Z",
     "iopub.status.busy": "2023-08-04T16:42:00.914164Z",
     "iopub.status.idle": "2023-08-04T16:42:00.915774Z",
     "shell.execute_reply": "2023-08-04T16:42:00.915580Z"
    }
   },
   "outputs": [
    {
     "name": "stdout",
     "output_type": "stream",
     "text": [
      "((((aParameter(init=0) < a(init=0)) * `0.0`) + ((aParameter(init=0) >= b(init=0)) * `0.0`)) + (((aParameter(init=0) >= a(init=0)) * (aParameter(init=0) < b(init=0))) / (b(init=0) - a(init=0))))\n"
     ]
    }
   ],
   "source": [
    "print(dist.uniformpdf(aParameter, a=a, b=b))"
   ]
  },
  {
   "cell_type": "markdown",
   "metadata": {},
   "source": [
    "## pdf of the triangular distribution"
   ]
  },
  {
   "cell_type": "markdown",
   "metadata": {},
   "source": [
    "Returns the biogeme expression of the probability density function of the triangular distribution\n",
    "\n",
    "\\\\[f(x;a, b, c) = \\left\\{ \\begin{array}{ll} 0 &\n",
    "             \\text{if } x < a \\\\\\frac{2(x-a)}{(b-a)(c-a)} &\n",
    "             \\text{if } a \\leq x < c \\\\\\frac{2(b-x)}{(b-a)(b-c)} &\n",
    "             \\text{if } c \\leq x < b \\\\0 & \\text{if } x \\geq b.\n",
    "             \\end{array} \\right. \\\\]\n",
    "\n",
    "It is assumed that $a < c < b$. It is not verified.\n"
   ]
  },
  {
   "cell_type": "markdown",
   "metadata": {},
   "source": [
    "Calculated for a numeric value"
   ]
  },
  {
   "cell_type": "code",
   "execution_count": 13,
   "metadata": {
    "execution": {
     "iopub.execute_input": "2023-08-04T16:42:00.916675Z",
     "iopub.status.busy": "2023-08-04T16:42:00.916611Z",
     "iopub.status.idle": "2023-08-04T16:42:00.918189Z",
     "shell.execute_reply": "2023-08-04T16:42:00.917972Z"
    }
   },
   "outputs": [
    {
     "name": "stdout",
     "output_type": "stream",
     "text": [
      "0.0\n"
     ]
    }
   ],
   "source": [
    "print(dist.triangularpdf(0))"
   ]
  },
  {
   "cell_type": "markdown",
   "metadata": {},
   "source": [
    "Calculated for an expression"
   ]
  },
  {
   "cell_type": "code",
   "execution_count": 14,
   "metadata": {
    "execution": {
     "iopub.execute_input": "2023-08-04T16:42:00.919157Z",
     "iopub.status.busy": "2023-08-04T16:42:00.919094Z",
     "iopub.status.idle": "2023-08-04T16:42:00.920765Z",
     "shell.execute_reply": "2023-08-04T16:42:00.920548Z"
    }
   },
   "outputs": [],
   "source": [
    "aParameter = Beta('aParameter', 0, None, None, 0)\n",
    "a = Beta('a', 0, None, None, 0)\n",
    "b = Beta('b', 0, None, None, 0)\n",
    "c = Beta('c', 0, None, None, 0)"
   ]
  },
  {
   "cell_type": "code",
   "execution_count": 15,
   "metadata": {
    "execution": {
     "iopub.execute_input": "2023-08-04T16:42:00.921615Z",
     "iopub.status.busy": "2023-08-04T16:42:00.921536Z",
     "iopub.status.idle": "2023-08-04T16:42:00.923150Z",
     "shell.execute_reply": "2023-08-04T16:42:00.922945Z"
    }
   },
   "outputs": [
    {
     "name": "stdout",
     "output_type": "stream",
     "text": [
      "((((aParameter(init=0) < a(init=0)) * `0.0`) + ((aParameter(init=0) >= b(init=0)) * `0.0`)) + (((((((((aParameter(init=0) >= a(init=0)) * (aParameter(init=0) < c(init=0))) * `2.0`) * ((aParameter(init=0) - a(init=0)) / ((b(init=0) - a(init=0)) * (c(init=0) - a(init=0))))) * (aParameter(init=0) >= c(init=0))) * (aParameter(init=0) < b(init=0))) * `2.0`) * (b(init=0) - aParameter(init=0))) / ((b(init=0) - a(init=0)) * (b(init=0) - c(init=0)))))\n"
     ]
    }
   ],
   "source": [
    "print(dist.triangularpdf(aParameter, a=a, b=b, c=c))"
   ]
  },
  {
   "cell_type": "markdown",
   "metadata": {},
   "source": [
    "## CDF of the logistic distribution"
   ]
  },
  {
   "cell_type": "markdown",
   "metadata": {},
   "source": [
    "Returns the biogeme expression of the cumulative distribution function of the logistic distribution\n",
    "\n",
    "\\\\[ f(x;\\mu, \\sigma) = \\frac{1}{1+\\exp\\left(-\\frac{x-\\mu}{\\sigma} \\right)}\\\\]\n",
    "\n",
    "\n"
   ]
  },
  {
   "cell_type": "markdown",
   "metadata": {},
   "source": [
    "Calculated for a numeric value"
   ]
  },
  {
   "cell_type": "code",
   "execution_count": 16,
   "metadata": {
    "execution": {
     "iopub.execute_input": "2023-08-04T16:42:00.924062Z",
     "iopub.status.busy": "2023-08-04T16:42:00.924007Z",
     "iopub.status.idle": "2023-08-04T16:42:00.925486Z",
     "shell.execute_reply": "2023-08-04T16:42:00.925279Z"
    }
   },
   "outputs": [
    {
     "name": "stdout",
     "output_type": "stream",
     "text": [
      "(`1.0` / (`1.0` + exp(((-(`0.0` - `0.0`)) / `1.0`))))\n"
     ]
    }
   ],
   "source": [
    "print(dist.logisticcdf(0))"
   ]
  },
  {
   "cell_type": "markdown",
   "metadata": {},
   "source": [
    "Calculated for an expression"
   ]
  },
  {
   "cell_type": "code",
   "execution_count": 17,
   "metadata": {
    "execution": {
     "iopub.execute_input": "2023-08-04T16:42:00.926383Z",
     "iopub.status.busy": "2023-08-04T16:42:00.926326Z",
     "iopub.status.idle": "2023-08-04T16:42:00.927817Z",
     "shell.execute_reply": "2023-08-04T16:42:00.927622Z"
    }
   },
   "outputs": [],
   "source": [
    "aParameter = Beta('aParameter', 0, None, None, 0)\n",
    "mu = Beta('mu', 0, None, None, 0)\n",
    "sigma = Beta('sigma', 0, None, None, 0)"
   ]
  },
  {
   "cell_type": "code",
   "execution_count": 18,
   "metadata": {
    "execution": {
     "iopub.execute_input": "2023-08-04T16:42:00.928659Z",
     "iopub.status.busy": "2023-08-04T16:42:00.928584Z",
     "iopub.status.idle": "2023-08-04T16:42:00.930110Z",
     "shell.execute_reply": "2023-08-04T16:42:00.929899Z"
    }
   },
   "outputs": [
    {
     "name": "stdout",
     "output_type": "stream",
     "text": [
      "(`1.0` / (`1.0` + exp(((-(aParameter(init=0) - mu(init=0))) / sigma(init=0)))))\n"
     ]
    }
   ],
   "source": [
    "print(dist.logisticcdf(aParameter, mu=mu, s=sigma))"
   ]
  }
 ],
 "metadata": {
  "kernelspec": {
   "display_name": "Python 3 (ipykernel)",
   "language": "python",
   "name": "python3"
  },
  "language_info": {
   "codemirror_mode": {
    "name": "ipython",
    "version": 3
   },
   "file_extension": ".py",
   "mimetype": "text/x-python",
   "name": "python",
   "nbconvert_exporter": "python",
   "pygments_lexer": "ipython3",
   "version": "3.11.3"
  }
 },
 "nbformat": 4,
 "nbformat_minor": 4
}
