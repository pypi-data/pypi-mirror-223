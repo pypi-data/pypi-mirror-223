{
 "cells": [
  {
   "cell_type": "markdown",
   "metadata": {},
   "source": [
    "# Module biogeme.filenames"
   ]
  },
  {
   "cell_type": "markdown",
   "metadata": {},
   "source": [
    "## Examples of use of each function"
   ]
  },
  {
   "cell_type": "markdown",
   "metadata": {},
   "source": [
    "This webpage is for programmers who need examples of use of the functions of the module. The examples are designed to illustrate the syntax. They do not correspond to any meaningful model. For examples of models, visit  [biogeme.epfl.ch](http://biogeme.epfl.ch)."
   ]
  },
  {
   "cell_type": "code",
   "execution_count": 1,
   "metadata": {
    "execution": {
     "iopub.execute_input": "2023-08-04T16:41:59.596091Z",
     "iopub.status.busy": "2023-08-04T16:41:59.595721Z",
     "iopub.status.idle": "2023-08-04T16:41:59.606048Z",
     "shell.execute_reply": "2023-08-04T16:41:59.605534Z"
    }
   },
   "outputs": [
    {
     "name": "stdout",
     "output_type": "stream",
     "text": [
      "2023-08-04 18:41:59.603722\n"
     ]
    }
   ],
   "source": [
    "import datetime\n",
    "print(datetime.datetime.now())"
   ]
  },
  {
   "cell_type": "code",
   "execution_count": 2,
   "metadata": {
    "execution": {
     "iopub.execute_input": "2023-08-04T16:41:59.608486Z",
     "iopub.status.busy": "2023-08-04T16:41:59.608230Z",
     "iopub.status.idle": "2023-08-04T16:41:59.612728Z",
     "shell.execute_reply": "2023-08-04T16:41:59.612037Z"
    }
   },
   "outputs": [
    {
     "name": "stdout",
     "output_type": "stream",
     "text": [
      "biogeme 3.2.12 [2023-08-04]\n",
      "Home page: http://biogeme.epfl.ch\n",
      "Submit questions to https://groups.google.com/d/forum/biogeme\n",
      "Michel Bierlaire, Transport and Mobility Laboratory, Ecole Polytechnique Fédérale de Lausanne (EPFL)\n",
      "\n"
     ]
    }
   ],
   "source": [
    "import biogeme.version as ver\n",
    "print(ver.getText())"
   ]
  },
  {
   "cell_type": "code",
   "execution_count": 3,
   "metadata": {
    "execution": {
     "iopub.execute_input": "2023-08-04T16:41:59.615081Z",
     "iopub.status.busy": "2023-08-04T16:41:59.614880Z",
     "iopub.status.idle": "2023-08-04T16:41:59.618493Z",
     "shell.execute_reply": "2023-08-04T16:41:59.617959Z"
    }
   },
   "outputs": [],
   "source": [
    "import biogeme.filenames as fl"
   ]
  },
  {
   "cell_type": "markdown",
   "metadata": {},
   "source": [
    "The role of this function is to obtain the name of a file that does not exist."
   ]
  },
  {
   "cell_type": "code",
   "execution_count": 4,
   "metadata": {
    "execution": {
     "iopub.execute_input": "2023-08-04T16:41:59.620532Z",
     "iopub.status.busy": "2023-08-04T16:41:59.620338Z",
     "iopub.status.idle": "2023-08-04T16:41:59.625721Z",
     "shell.execute_reply": "2023-08-04T16:41:59.625294Z"
    }
   },
   "outputs": [
    {
     "data": {
      "text/plain": [
       "'test.dat'"
      ]
     },
     "execution_count": 4,
     "metadata": {},
     "output_type": "execute_result"
    }
   ],
   "source": [
    "theName = fl.getNewFileName('test', 'dat')\n",
    "theName"
   ]
  },
  {
   "cell_type": "markdown",
   "metadata": {},
   "source": [
    "Now, let's create that file, and call the function again. A suffix with a number is appended to the name of the file, before its extension."
   ]
  },
  {
   "cell_type": "code",
   "execution_count": 5,
   "metadata": {
    "execution": {
     "iopub.execute_input": "2023-08-04T16:41:59.627627Z",
     "iopub.status.busy": "2023-08-04T16:41:59.627467Z",
     "iopub.status.idle": "2023-08-04T16:41:59.630005Z",
     "shell.execute_reply": "2023-08-04T16:41:59.629550Z"
    }
   },
   "outputs": [],
   "source": [
    "open(theName, 'a').close()"
   ]
  },
  {
   "cell_type": "code",
   "execution_count": 6,
   "metadata": {
    "execution": {
     "iopub.execute_input": "2023-08-04T16:41:59.631838Z",
     "iopub.status.busy": "2023-08-04T16:41:59.631679Z",
     "iopub.status.idle": "2023-08-04T16:41:59.634953Z",
     "shell.execute_reply": "2023-08-04T16:41:59.634596Z"
    }
   },
   "outputs": [
    {
     "data": {
      "text/plain": [
       "'test~00.dat'"
      ]
     },
     "execution_count": 6,
     "metadata": {},
     "output_type": "execute_result"
    }
   ],
   "source": [
    "theName = fl.getNewFileName('test', 'dat')\n",
    "theName"
   ]
  },
  {
   "cell_type": "markdown",
   "metadata": {},
   "source": [
    "If we do it again, the number is incremented. "
   ]
  },
  {
   "cell_type": "code",
   "execution_count": 7,
   "metadata": {
    "execution": {
     "iopub.execute_input": "2023-08-04T16:41:59.636634Z",
     "iopub.status.busy": "2023-08-04T16:41:59.636512Z",
     "iopub.status.idle": "2023-08-04T16:41:59.639125Z",
     "shell.execute_reply": "2023-08-04T16:41:59.638760Z"
    }
   },
   "outputs": [],
   "source": [
    "open(theName, 'a').close()"
   ]
  },
  {
   "cell_type": "code",
   "execution_count": 8,
   "metadata": {
    "execution": {
     "iopub.execute_input": "2023-08-04T16:41:59.640873Z",
     "iopub.status.busy": "2023-08-04T16:41:59.640737Z",
     "iopub.status.idle": "2023-08-04T16:41:59.643971Z",
     "shell.execute_reply": "2023-08-04T16:41:59.643620Z"
    }
   },
   "outputs": [
    {
     "data": {
      "text/plain": [
       "'test~01.dat'"
      ]
     },
     "execution_count": 8,
     "metadata": {},
     "output_type": "execute_result"
    }
   ],
   "source": [
    "theName = fl.getNewFileName('test', 'dat')\n",
    "theName"
   ]
  },
  {
   "cell_type": "code",
   "execution_count": null,
   "metadata": {},
   "outputs": [],
   "source": []
  }
 ],
 "metadata": {
  "kernelspec": {
   "display_name": "Python 3 (ipykernel)",
   "language": "python",
   "name": "python3"
  },
  "language_info": {
   "codemirror_mode": {
    "name": "ipython",
    "version": 3
   },
   "file_extension": ".py",
   "mimetype": "text/x-python",
   "name": "python",
   "nbconvert_exporter": "python",
   "pygments_lexer": "ipython3",
   "version": "3.11.3"
  }
 },
 "nbformat": 4,
 "nbformat_minor": 4
}
