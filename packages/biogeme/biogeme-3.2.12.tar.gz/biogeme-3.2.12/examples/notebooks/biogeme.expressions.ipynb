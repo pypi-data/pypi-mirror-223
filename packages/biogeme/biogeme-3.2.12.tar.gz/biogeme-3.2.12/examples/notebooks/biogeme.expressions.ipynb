{
 "cells": [
  {
   "cell_type": "markdown",
   "metadata": {},
   "source": [
    "# Module biogeme.expressions "
   ]
  },
  {
   "cell_type": "markdown",
   "metadata": {},
   "source": [
    "## Examples of use of each function"
   ]
  },
  {
   "cell_type": "markdown",
   "metadata": {},
   "source": [
    "This webpage is for programmers who need examples of use of the functions of the module. The examples are designed to illustrate the syntax. They do not correspond to any meaningful model. For examples of models, visit  [biogeme.epfl.ch](http://biogeme.epfl.ch)."
   ]
  },
  {
   "cell_type": "code",
   "execution_count": 1,
   "metadata": {
    "execution": {
     "iopub.execute_input": "2023-08-04T16:41:57.285527Z",
     "iopub.status.busy": "2023-08-04T16:41:57.284377Z",
     "iopub.status.idle": "2023-08-04T16:41:57.296624Z",
     "shell.execute_reply": "2023-08-04T16:41:57.296093Z"
    }
   },
   "outputs": [
    {
     "name": "stdout",
     "output_type": "stream",
     "text": [
      "2023-08-04 18:41:57.294362\n"
     ]
    }
   ],
   "source": [
    "import datetime\n",
    "print(datetime.datetime.now())"
   ]
  },
  {
   "cell_type": "code",
   "execution_count": 2,
   "metadata": {
    "execution": {
     "iopub.execute_input": "2023-08-04T16:41:57.298959Z",
     "iopub.status.busy": "2023-08-04T16:41:57.298745Z",
     "iopub.status.idle": "2023-08-04T16:41:57.303025Z",
     "shell.execute_reply": "2023-08-04T16:41:57.302476Z"
    }
   },
   "outputs": [
    {
     "name": "stdout",
     "output_type": "stream",
     "text": [
      "biogeme 3.2.12 [2023-08-04]\n",
      "Home page: http://biogeme.epfl.ch\n",
      "Submit questions to https://groups.google.com/d/forum/biogeme\n",
      "Michel Bierlaire, Transport and Mobility Laboratory, Ecole Polytechnique Fédérale de Lausanne (EPFL)\n",
      "\n"
     ]
    }
   ],
   "source": [
    "import biogeme.version as ver\n",
    "print(ver.getText())"
   ]
  },
  {
   "cell_type": "code",
   "execution_count": 3,
   "metadata": {
    "execution": {
     "iopub.execute_input": "2023-08-04T16:41:57.305924Z",
     "iopub.status.busy": "2023-08-04T16:41:57.305640Z",
     "iopub.status.idle": "2023-08-04T16:41:57.520156Z",
     "shell.execute_reply": "2023-08-04T16:41:57.519334Z"
    }
   },
   "outputs": [],
   "source": [
    "import numpy as np\n",
    "import pandas as pd"
   ]
  },
  {
   "cell_type": "code",
   "execution_count": 4,
   "metadata": {
    "execution": {
     "iopub.execute_input": "2023-08-04T16:41:57.525020Z",
     "iopub.status.busy": "2023-08-04T16:41:57.524589Z",
     "iopub.status.idle": "2023-08-04T16:41:57.785680Z",
     "shell.execute_reply": "2023-08-04T16:41:57.785354Z"
    }
   },
   "outputs": [],
   "source": [
    "import biogeme.expressions as ex\n",
    "import biogeme.database as db\n",
    "import biogeme.exceptions as excep\n",
    "import biogeme.models as models\n",
    "from biogeme import tools\n",
    "from biogeme.idmanager import IdManager\n",
    "import biogeme.logging as blog\n",
    "from biogeme.elementary_expressions import TypeOfElementaryExpression\n"
   ]
  },
  {
   "cell_type": "code",
   "execution_count": 5,
   "metadata": {
    "execution": {
     "iopub.execute_input": "2023-08-04T16:41:57.786975Z",
     "iopub.status.busy": "2023-08-04T16:41:57.786895Z",
     "iopub.status.idle": "2023-08-04T16:41:57.788572Z",
     "shell.execute_reply": "2023-08-04T16:41:57.788360Z"
    }
   },
   "outputs": [],
   "source": [
    "logger = blog.get_screen_logger(level=blog.INFO)"
   ]
  },
  {
   "cell_type": "markdown",
   "metadata": {},
   "source": [
    "We set the number of draws for Monte-Carlo integration. It should be a large number. For the sake of computational efficiency, as this notebook is designed to illustrate the various function, we use a  low value. "
   ]
  },
  {
   "cell_type": "code",
   "execution_count": 6,
   "metadata": {
    "execution": {
     "iopub.execute_input": "2023-08-04T16:41:57.789583Z",
     "iopub.status.busy": "2023-08-04T16:41:57.789520Z",
     "iopub.status.idle": "2023-08-04T16:41:57.791023Z",
     "shell.execute_reply": "2023-08-04T16:41:57.790765Z"
    }
   },
   "outputs": [],
   "source": [
    "number_of_draws = 100"
   ]
  },
  {
   "cell_type": "markdown",
   "metadata": {},
   "source": [
    "We first create a small database"
   ]
  },
  {
   "cell_type": "code",
   "execution_count": 7,
   "metadata": {
    "execution": {
     "iopub.execute_input": "2023-08-04T16:41:57.791986Z",
     "iopub.status.busy": "2023-08-04T16:41:57.791921Z",
     "iopub.status.idle": "2023-08-04T16:41:57.797204Z",
     "shell.execute_reply": "2023-08-04T16:41:57.796981Z"
    }
   },
   "outputs": [
    {
     "data": {
      "text/html": [
       "<div>\n",
       "<style scoped>\n",
       "    .dataframe tbody tr th:only-of-type {\n",
       "        vertical-align: middle;\n",
       "    }\n",
       "\n",
       "    .dataframe tbody tr th {\n",
       "        vertical-align: top;\n",
       "    }\n",
       "\n",
       "    .dataframe thead th {\n",
       "        text-align: right;\n",
       "    }\n",
       "</style>\n",
       "<table border=\"1\" class=\"dataframe\">\n",
       "  <thead>\n",
       "    <tr style=\"text-align: right;\">\n",
       "      <th></th>\n",
       "      <th>Person</th>\n",
       "      <th>Exclude</th>\n",
       "      <th>Variable1</th>\n",
       "      <th>Variable2</th>\n",
       "      <th>Choice</th>\n",
       "      <th>Av1</th>\n",
       "      <th>Av2</th>\n",
       "      <th>Av3</th>\n",
       "    </tr>\n",
       "  </thead>\n",
       "  <tbody>\n",
       "    <tr>\n",
       "      <th>0</th>\n",
       "      <td>1</td>\n",
       "      <td>0</td>\n",
       "      <td>10</td>\n",
       "      <td>100</td>\n",
       "      <td>2</td>\n",
       "      <td>0</td>\n",
       "      <td>1</td>\n",
       "      <td>0</td>\n",
       "    </tr>\n",
       "    <tr>\n",
       "      <th>1</th>\n",
       "      <td>1</td>\n",
       "      <td>0</td>\n",
       "      <td>20</td>\n",
       "      <td>200</td>\n",
       "      <td>2</td>\n",
       "      <td>1</td>\n",
       "      <td>1</td>\n",
       "      <td>1</td>\n",
       "    </tr>\n",
       "    <tr>\n",
       "      <th>2</th>\n",
       "      <td>1</td>\n",
       "      <td>1</td>\n",
       "      <td>30</td>\n",
       "      <td>300</td>\n",
       "      <td>3</td>\n",
       "      <td>1</td>\n",
       "      <td>1</td>\n",
       "      <td>1</td>\n",
       "    </tr>\n",
       "    <tr>\n",
       "      <th>3</th>\n",
       "      <td>2</td>\n",
       "      <td>0</td>\n",
       "      <td>40</td>\n",
       "      <td>400</td>\n",
       "      <td>1</td>\n",
       "      <td>1</td>\n",
       "      <td>1</td>\n",
       "      <td>1</td>\n",
       "    </tr>\n",
       "    <tr>\n",
       "      <th>4</th>\n",
       "      <td>2</td>\n",
       "      <td>1</td>\n",
       "      <td>50</td>\n",
       "      <td>500</td>\n",
       "      <td>2</td>\n",
       "      <td>1</td>\n",
       "      <td>1</td>\n",
       "      <td>1</td>\n",
       "    </tr>\n",
       "  </tbody>\n",
       "</table>\n",
       "</div>"
      ],
      "text/plain": [
       "   Person  Exclude  Variable1  Variable2  Choice  Av1  Av2  Av3\n",
       "0       1        0         10        100       2    0    1    0\n",
       "1       1        0         20        200       2    1    1    1\n",
       "2       1        1         30        300       3    1    1    1\n",
       "3       2        0         40        400       1    1    1    1\n",
       "4       2        1         50        500       2    1    1    1"
      ]
     },
     "execution_count": 7,
     "metadata": {},
     "output_type": "execute_result"
    }
   ],
   "source": [
    "df = pd.DataFrame({'Person': [1, 1, 1, 2, 2],\n",
    "                   'Exclude': [0, 0, 1, 0, 1],\n",
    "                   'Variable1': [10, 20, 30, 40, 50],\n",
    "                   'Variable2': [100, 200, 300, 400, 500],\n",
    "                   'Choice': [2, 2, 3, 1, 2],\n",
    "                   'Av1': [0, 1, 1, 1, 1],\n",
    "                   'Av2': [1, 1, 1, 1, 1],\n",
    "                   'Av3': [0, 1, 1, 1, 1]})\n",
    "df"
   ]
  },
  {
   "cell_type": "code",
   "execution_count": 8,
   "metadata": {
    "execution": {
     "iopub.execute_input": "2023-08-04T16:41:57.798139Z",
     "iopub.status.busy": "2023-08-04T16:41:57.798049Z",
     "iopub.status.idle": "2023-08-04T16:41:57.799770Z",
     "shell.execute_reply": "2023-08-04T16:41:57.799554Z"
    }
   },
   "outputs": [],
   "source": [
    "myData = db.Database('test', df)"
   ]
  },
  {
   "cell_type": "markdown",
   "metadata": {},
   "source": [
    "The following type of expression is a literal called Variable that corresponds to an entry in the database."
   ]
  },
  {
   "cell_type": "code",
   "execution_count": 9,
   "metadata": {
    "execution": {
     "iopub.execute_input": "2023-08-04T16:41:57.800651Z",
     "iopub.status.busy": "2023-08-04T16:41:57.800590Z",
     "iopub.status.idle": "2023-08-04T16:41:57.802270Z",
     "shell.execute_reply": "2023-08-04T16:41:57.802030Z"
    }
   },
   "outputs": [],
   "source": [
    "Person = ex.Variable('Person')\n",
    "Variable1 = ex.Variable('Variable1')\n",
    "Variable2 = ex.Variable('Variable2')\n",
    "Choice = ex.Variable('Choice')\n",
    "Av1 = ex.Variable('Av1')\n",
    "Av2 = ex.Variable('Av2')\n",
    "Av3 = ex.Variable('Av3')"
   ]
  },
  {
   "cell_type": "markdown",
   "metadata": {},
   "source": [
    "It is possible to add a new column to the database, that creates a new variable that can be used in expressions."
   ]
  },
  {
   "cell_type": "code",
   "execution_count": 10,
   "metadata": {
    "execution": {
     "iopub.execute_input": "2023-08-04T16:41:57.803234Z",
     "iopub.status.busy": "2023-08-04T16:41:57.803146Z",
     "iopub.status.idle": "2023-08-04T16:41:57.805828Z",
     "shell.execute_reply": "2023-08-04T16:41:57.805609Z"
    }
   },
   "outputs": [
    {
     "name": "stdout",
     "output_type": "stream",
     "text": [
      "biogeme database test:\n",
      "   Person  Exclude  Variable1  Variable2  Choice  Av1  Av2  Av3  newvar_b\n",
      "0       1        0         10        100       2    0    1    0     110.0\n",
      "1       1        0         20        200       2    1    1    1     220.0\n",
      "2       1        1         30        300       3    1    1    1     330.0\n",
      "3       2        0         40        400       1    1    1    1     440.0\n",
      "4       2        1         50        500       2    1    1    1     550.0\n"
     ]
    }
   ],
   "source": [
    "newvar_b = myData.DefineVariable('newvar_b',\n",
    "                           Variable1 + Variable2)\n",
    "print(myData)"
   ]
  },
  {
   "cell_type": "markdown",
   "metadata": {},
   "source": [
    "It is equivalent to the following Pandas statement"
   ]
  },
  {
   "cell_type": "code",
   "execution_count": 11,
   "metadata": {
    "execution": {
     "iopub.execute_input": "2023-08-04T16:41:57.806761Z",
     "iopub.status.busy": "2023-08-04T16:41:57.806683Z",
     "iopub.status.idle": "2023-08-04T16:41:57.809957Z",
     "shell.execute_reply": "2023-08-04T16:41:57.809739Z"
    }
   },
   "outputs": [
    {
     "data": {
      "text/html": [
       "<div>\n",
       "<style scoped>\n",
       "    .dataframe tbody tr th:only-of-type {\n",
       "        vertical-align: middle;\n",
       "    }\n",
       "\n",
       "    .dataframe tbody tr th {\n",
       "        vertical-align: top;\n",
       "    }\n",
       "\n",
       "    .dataframe thead th {\n",
       "        text-align: right;\n",
       "    }\n",
       "</style>\n",
       "<table border=\"1\" class=\"dataframe\">\n",
       "  <thead>\n",
       "    <tr style=\"text-align: right;\">\n",
       "      <th></th>\n",
       "      <th>Person</th>\n",
       "      <th>Exclude</th>\n",
       "      <th>Variable1</th>\n",
       "      <th>Variable2</th>\n",
       "      <th>Choice</th>\n",
       "      <th>Av1</th>\n",
       "      <th>Av2</th>\n",
       "      <th>Av3</th>\n",
       "      <th>newvar_b</th>\n",
       "      <th>newvar_p</th>\n",
       "    </tr>\n",
       "  </thead>\n",
       "  <tbody>\n",
       "    <tr>\n",
       "      <th>0</th>\n",
       "      <td>1</td>\n",
       "      <td>0</td>\n",
       "      <td>10</td>\n",
       "      <td>100</td>\n",
       "      <td>2</td>\n",
       "      <td>0</td>\n",
       "      <td>1</td>\n",
       "      <td>0</td>\n",
       "      <td>110.0</td>\n",
       "      <td>110</td>\n",
       "    </tr>\n",
       "    <tr>\n",
       "      <th>1</th>\n",
       "      <td>1</td>\n",
       "      <td>0</td>\n",
       "      <td>20</td>\n",
       "      <td>200</td>\n",
       "      <td>2</td>\n",
       "      <td>1</td>\n",
       "      <td>1</td>\n",
       "      <td>1</td>\n",
       "      <td>220.0</td>\n",
       "      <td>220</td>\n",
       "    </tr>\n",
       "    <tr>\n",
       "      <th>2</th>\n",
       "      <td>1</td>\n",
       "      <td>1</td>\n",
       "      <td>30</td>\n",
       "      <td>300</td>\n",
       "      <td>3</td>\n",
       "      <td>1</td>\n",
       "      <td>1</td>\n",
       "      <td>1</td>\n",
       "      <td>330.0</td>\n",
       "      <td>330</td>\n",
       "    </tr>\n",
       "    <tr>\n",
       "      <th>3</th>\n",
       "      <td>2</td>\n",
       "      <td>0</td>\n",
       "      <td>40</td>\n",
       "      <td>400</td>\n",
       "      <td>1</td>\n",
       "      <td>1</td>\n",
       "      <td>1</td>\n",
       "      <td>1</td>\n",
       "      <td>440.0</td>\n",
       "      <td>440</td>\n",
       "    </tr>\n",
       "    <tr>\n",
       "      <th>4</th>\n",
       "      <td>2</td>\n",
       "      <td>1</td>\n",
       "      <td>50</td>\n",
       "      <td>500</td>\n",
       "      <td>2</td>\n",
       "      <td>1</td>\n",
       "      <td>1</td>\n",
       "      <td>1</td>\n",
       "      <td>550.0</td>\n",
       "      <td>550</td>\n",
       "    </tr>\n",
       "  </tbody>\n",
       "</table>\n",
       "</div>"
      ],
      "text/plain": [
       "   Person  Exclude  Variable1  Variable2  Choice  Av1  Av2  Av3  newvar_b  \\\n",
       "0       1        0         10        100       2    0    1    0     110.0   \n",
       "1       1        0         20        200       2    1    1    1     220.0   \n",
       "2       1        1         30        300       3    1    1    1     330.0   \n",
       "3       2        0         40        400       1    1    1    1     440.0   \n",
       "4       2        1         50        500       2    1    1    1     550.0   \n",
       "\n",
       "   newvar_p  \n",
       "0       110  \n",
       "1       220  \n",
       "2       330  \n",
       "3       440  \n",
       "4       550  "
      ]
     },
     "execution_count": 11,
     "metadata": {},
     "output_type": "execute_result"
    }
   ],
   "source": [
    "myData.data['newvar_p'] = myData.data['Variable1'] + myData.data['Variable2']\n",
    "myData.data"
   ]
  },
  {
   "cell_type": "markdown",
   "metadata": {},
   "source": [
    "**Do not use chaining comparison expressions with Biogeme. Not only it does not provide the expected expression, but it does not trigger a warning or an exception.**"
   ]
  },
  {
   "cell_type": "code",
   "execution_count": 12,
   "metadata": {
    "execution": {
     "iopub.execute_input": "2023-08-04T16:41:57.810879Z",
     "iopub.status.busy": "2023-08-04T16:41:57.810821Z",
     "iopub.status.idle": "2023-08-04T16:41:57.812367Z",
     "shell.execute_reply": "2023-08-04T16:41:57.812161Z"
    }
   },
   "outputs": [
    {
     "name": "stdout",
     "output_type": "stream",
     "text": [
      "(Variable2 <= `400.0`)\n"
     ]
    }
   ],
   "source": [
    "my_expression = (200 <= Variable2 <= 400)\n",
    "print(my_expression)"
   ]
  },
  {
   "cell_type": "markdown",
   "metadata": {},
   "source": [
    "The reason is that Python executes `200 <= Variable2 <= 400` as `(200 <= Variable2) and (Variable2 <= 400)`. The `and` operator cannot be overloaded in Python. Therefore, it does not return a Biogeme expression. Note that Pandas does not allow chaining either, and has implemented a `between` function instead. "
   ]
  },
  {
   "cell_type": "code",
   "execution_count": 13,
   "metadata": {
    "execution": {
     "iopub.execute_input": "2023-08-04T16:41:57.813326Z",
     "iopub.status.busy": "2023-08-04T16:41:57.813249Z",
     "iopub.status.idle": "2023-08-04T16:41:57.815039Z",
     "shell.execute_reply": "2023-08-04T16:41:57.814842Z"
    }
   },
   "outputs": [],
   "source": [
    "myData.data['chaining_p'] = myData.data['Variable2'].between(200, 400)"
   ]
  },
  {
   "cell_type": "code",
   "execution_count": 14,
   "metadata": {
    "execution": {
     "iopub.execute_input": "2023-08-04T16:41:57.815926Z",
     "iopub.status.busy": "2023-08-04T16:41:57.815864Z",
     "iopub.status.idle": "2023-08-04T16:41:57.819090Z",
     "shell.execute_reply": "2023-08-04T16:41:57.818883Z"
    }
   },
   "outputs": [
    {
     "data": {
      "text/html": [
       "<div>\n",
       "<style scoped>\n",
       "    .dataframe tbody tr th:only-of-type {\n",
       "        vertical-align: middle;\n",
       "    }\n",
       "\n",
       "    .dataframe tbody tr th {\n",
       "        vertical-align: top;\n",
       "    }\n",
       "\n",
       "    .dataframe thead th {\n",
       "        text-align: right;\n",
       "    }\n",
       "</style>\n",
       "<table border=\"1\" class=\"dataframe\">\n",
       "  <thead>\n",
       "    <tr style=\"text-align: right;\">\n",
       "      <th></th>\n",
       "      <th>Person</th>\n",
       "      <th>Exclude</th>\n",
       "      <th>Variable1</th>\n",
       "      <th>Variable2</th>\n",
       "      <th>Choice</th>\n",
       "      <th>Av1</th>\n",
       "      <th>Av2</th>\n",
       "      <th>Av3</th>\n",
       "      <th>newvar_b</th>\n",
       "      <th>newvar_p</th>\n",
       "      <th>chaining_p</th>\n",
       "    </tr>\n",
       "  </thead>\n",
       "  <tbody>\n",
       "    <tr>\n",
       "      <th>0</th>\n",
       "      <td>1</td>\n",
       "      <td>0</td>\n",
       "      <td>10</td>\n",
       "      <td>100</td>\n",
       "      <td>2</td>\n",
       "      <td>0</td>\n",
       "      <td>1</td>\n",
       "      <td>0</td>\n",
       "      <td>110.0</td>\n",
       "      <td>110</td>\n",
       "      <td>False</td>\n",
       "    </tr>\n",
       "    <tr>\n",
       "      <th>1</th>\n",
       "      <td>1</td>\n",
       "      <td>0</td>\n",
       "      <td>20</td>\n",
       "      <td>200</td>\n",
       "      <td>2</td>\n",
       "      <td>1</td>\n",
       "      <td>1</td>\n",
       "      <td>1</td>\n",
       "      <td>220.0</td>\n",
       "      <td>220</td>\n",
       "      <td>True</td>\n",
       "    </tr>\n",
       "    <tr>\n",
       "      <th>2</th>\n",
       "      <td>1</td>\n",
       "      <td>1</td>\n",
       "      <td>30</td>\n",
       "      <td>300</td>\n",
       "      <td>3</td>\n",
       "      <td>1</td>\n",
       "      <td>1</td>\n",
       "      <td>1</td>\n",
       "      <td>330.0</td>\n",
       "      <td>330</td>\n",
       "      <td>True</td>\n",
       "    </tr>\n",
       "    <tr>\n",
       "      <th>3</th>\n",
       "      <td>2</td>\n",
       "      <td>0</td>\n",
       "      <td>40</td>\n",
       "      <td>400</td>\n",
       "      <td>1</td>\n",
       "      <td>1</td>\n",
       "      <td>1</td>\n",
       "      <td>1</td>\n",
       "      <td>440.0</td>\n",
       "      <td>440</td>\n",
       "      <td>True</td>\n",
       "    </tr>\n",
       "    <tr>\n",
       "      <th>4</th>\n",
       "      <td>2</td>\n",
       "      <td>1</td>\n",
       "      <td>50</td>\n",
       "      <td>500</td>\n",
       "      <td>2</td>\n",
       "      <td>1</td>\n",
       "      <td>1</td>\n",
       "      <td>1</td>\n",
       "      <td>550.0</td>\n",
       "      <td>550</td>\n",
       "      <td>False</td>\n",
       "    </tr>\n",
       "  </tbody>\n",
       "</table>\n",
       "</div>"
      ],
      "text/plain": [
       "   Person  Exclude  Variable1  Variable2  Choice  Av1  Av2  Av3  newvar_b  \\\n",
       "0       1        0         10        100       2    0    1    0     110.0   \n",
       "1       1        0         20        200       2    1    1    1     220.0   \n",
       "2       1        1         30        300       3    1    1    1     330.0   \n",
       "3       2        0         40        400       1    1    1    1     440.0   \n",
       "4       2        1         50        500       2    1    1    1     550.0   \n",
       "\n",
       "   newvar_p  chaining_p  \n",
       "0       110       False  \n",
       "1       220        True  \n",
       "2       330        True  \n",
       "3       440        True  \n",
       "4       550       False  "
      ]
     },
     "execution_count": 14,
     "metadata": {},
     "output_type": "execute_result"
    }
   ],
   "source": [
    "myData.data"
   ]
  },
  {
   "cell_type": "markdown",
   "metadata": {},
   "source": [
    "The following type of expression is another literal, corresponding to an unknown parameter. "
   ]
  },
  {
   "cell_type": "code",
   "execution_count": 15,
   "metadata": {
    "execution": {
     "iopub.execute_input": "2023-08-04T16:41:57.820080Z",
     "iopub.status.busy": "2023-08-04T16:41:57.820021Z",
     "iopub.status.idle": "2023-08-04T16:41:57.821686Z",
     "shell.execute_reply": "2023-08-04T16:41:57.821460Z"
    }
   },
   "outputs": [],
   "source": [
    "beta1 = ex.Beta('beta1', 0.2, None, None, 0)\n",
    "beta2 = ex.Beta('beta2', 0.4, None, None, 0)\n",
    "beta3 = ex.Beta('beta3', 1, None, None, 1)\n",
    "beta4 = ex.Beta('beta4', 0, None, None, 1)"
   ]
  },
  {
   "cell_type": "markdown",
   "metadata": {},
   "source": [
    "Arithmetic operators are overloaded to allow standard manipulations of expressions. The first expression is $$e_1 = 2  \\beta_1 - \\frac{\\exp(-\\beta_2)}{\\beta_2 (\\beta_3 \\geq \\beta_4) + \\beta_1 (\\beta_3 < \\beta_4)},$$\n",
    "where $(\\beta_2 \\geq \\beta_1)$ equals 1 if $\\beta_2 \\geq \\beta_1$ and 0 otherwise."
   ]
  },
  {
   "cell_type": "code",
   "execution_count": 16,
   "metadata": {
    "execution": {
     "iopub.execute_input": "2023-08-04T16:41:57.822689Z",
     "iopub.status.busy": "2023-08-04T16:41:57.822627Z",
     "iopub.status.idle": "2023-08-04T16:41:57.824290Z",
     "shell.execute_reply": "2023-08-04T16:41:57.824061Z"
    }
   },
   "outputs": [
    {
     "name": "stdout",
     "output_type": "stream",
     "text": [
      "((`2.0` * beta1(init=0.2)) - (exp((-beta2(init=0.4))) / ((beta2(init=0.4) * (beta3(fixed=1) >= beta4(fixed=0))) + (beta1(init=0.2) * (beta3(fixed=1) < beta4(fixed=0))))))\n"
     ]
    }
   ],
   "source": [
    "expr1 = 2 * beta1 - ex.exp(-beta2) / (beta2 * (beta3 >= beta4) + beta1 * (beta3 < beta4))\n",
    "print(expr1)"
   ]
  },
  {
   "cell_type": "markdown",
   "metadata": {},
   "source": [
    "The evaluation of expressions can be done in two ways. For simple expressions, the fonction getValue(), implemented in Python, returns the value of the expression.  "
   ]
  },
  {
   "cell_type": "code",
   "execution_count": 17,
   "metadata": {
    "execution": {
     "iopub.execute_input": "2023-08-04T16:41:57.825184Z",
     "iopub.status.busy": "2023-08-04T16:41:57.825123Z",
     "iopub.status.idle": "2023-08-04T16:41:57.826843Z",
     "shell.execute_reply": "2023-08-04T16:41:57.826639Z"
    }
   },
   "outputs": [
    {
     "data": {
      "text/plain": [
       "-1.275800115089098"
      ]
     },
     "execution_count": 17,
     "metadata": {},
     "output_type": "execute_result"
    }
   ],
   "source": [
    "expr1.getValue()"
   ]
  },
  {
   "cell_type": "markdown",
   "metadata": {},
   "source": [
    "It is possible to modify the values of the parameters"
   ]
  },
  {
   "cell_type": "code",
   "execution_count": 18,
   "metadata": {
    "execution": {
     "iopub.execute_input": "2023-08-04T16:41:57.827759Z",
     "iopub.status.busy": "2023-08-04T16:41:57.827686Z",
     "iopub.status.idle": "2023-08-04T16:41:57.829542Z",
     "shell.execute_reply": "2023-08-04T16:41:57.829347Z"
    }
   },
   "outputs": [
    {
     "data": {
      "text/plain": [
       "1.9323323583816936"
      ]
     },
     "execution_count": 18,
     "metadata": {},
     "output_type": "execute_result"
    }
   ],
   "source": [
    "newvalues = {'beta1': 1, 'beta2': 2, 'beta3': 3, 'beta4': 2}\n",
    "expr1.change_init_values(newvalues)\n",
    "expr1.getValue()"
   ]
  },
  {
   "cell_type": "markdown",
   "metadata": {},
   "source": [
    "The function getValue_c() is implemented in C++, and works for any expression. When use outside a specific context, the IDs must be explicitly prepared. "
   ]
  },
  {
   "cell_type": "code",
   "execution_count": 19,
   "metadata": {
    "execution": {
     "iopub.execute_input": "2023-08-04T16:41:57.830482Z",
     "iopub.status.busy": "2023-08-04T16:41:57.830420Z",
     "iopub.status.idle": "2023-08-04T16:41:57.832413Z",
     "shell.execute_reply": "2023-08-04T16:41:57.832209Z"
    }
   },
   "outputs": [
    {
     "data": {
      "text/plain": [
       "1.9323323583816936"
      ]
     },
     "execution_count": 19,
     "metadata": {},
     "output_type": "execute_result"
    }
   ],
   "source": [
    "expr1.getValue_c(prepareIds=True)"
   ]
  },
  {
   "cell_type": "markdown",
   "metadata": {},
   "source": [
    "It actually calls the function getValueAndDerivates(), and returns its first output (without calculating the derivatives)."
   ]
  },
  {
   "cell_type": "code",
   "execution_count": 20,
   "metadata": {
    "execution": {
     "iopub.execute_input": "2023-08-04T16:41:57.833300Z",
     "iopub.status.busy": "2023-08-04T16:41:57.833242Z",
     "iopub.status.idle": "2023-08-04T16:41:57.834803Z",
     "shell.execute_reply": "2023-08-04T16:41:57.834594Z"
    }
   },
   "outputs": [],
   "source": [
    "f, g, h, bhhh = expr1.getValueAndDerivatives(prepareIds=True)"
   ]
  },
  {
   "cell_type": "code",
   "execution_count": 21,
   "metadata": {
    "execution": {
     "iopub.execute_input": "2023-08-04T16:41:57.835713Z",
     "iopub.status.busy": "2023-08-04T16:41:57.835656Z",
     "iopub.status.idle": "2023-08-04T16:41:57.837345Z",
     "shell.execute_reply": "2023-08-04T16:41:57.837130Z"
    }
   },
   "outputs": [
    {
     "data": {
      "text/plain": [
       "1.9323323583816936"
      ]
     },
     "execution_count": 21,
     "metadata": {},
     "output_type": "execute_result"
    }
   ],
   "source": [
    "f"
   ]
  },
  {
   "cell_type": "code",
   "execution_count": 22,
   "metadata": {
    "execution": {
     "iopub.execute_input": "2023-08-04T16:41:57.838217Z",
     "iopub.status.busy": "2023-08-04T16:41:57.838147Z",
     "iopub.status.idle": "2023-08-04T16:41:57.839925Z",
     "shell.execute_reply": "2023-08-04T16:41:57.839722Z"
    }
   },
   "outputs": [
    {
     "data": {
      "text/plain": [
       "array([2.        , 0.10150146])"
      ]
     },
     "execution_count": 22,
     "metadata": {},
     "output_type": "execute_result"
    }
   ],
   "source": [
    "g"
   ]
  },
  {
   "cell_type": "code",
   "execution_count": 23,
   "metadata": {
    "execution": {
     "iopub.execute_input": "2023-08-04T16:41:57.840802Z",
     "iopub.status.busy": "2023-08-04T16:41:57.840741Z",
     "iopub.status.idle": "2023-08-04T16:41:57.842507Z",
     "shell.execute_reply": "2023-08-04T16:41:57.842302Z"
    }
   },
   "outputs": [
    {
     "data": {
      "text/plain": [
       "array([[ 0.       ,  0.       ],\n",
       "       [ 0.       , -0.1691691]])"
      ]
     },
     "execution_count": 23,
     "metadata": {},
     "output_type": "execute_result"
    }
   ],
   "source": [
    "h"
   ]
  },
  {
   "cell_type": "code",
   "execution_count": 24,
   "metadata": {
    "execution": {
     "iopub.execute_input": "2023-08-04T16:41:57.843378Z",
     "iopub.status.busy": "2023-08-04T16:41:57.843318Z",
     "iopub.status.idle": "2023-08-04T16:41:57.845124Z",
     "shell.execute_reply": "2023-08-04T16:41:57.844927Z"
    }
   },
   "outputs": [
    {
     "data": {
      "text/plain": [
       "array([[4.        , 0.20300292],\n",
       "       [0.20300292, 0.01030255]])"
      ]
     },
     "execution_count": 24,
     "metadata": {},
     "output_type": "execute_result"
    }
   ],
   "source": [
    "bhhh"
   ]
  },
  {
   "cell_type": "markdown",
   "metadata": {},
   "source": [
    "Note that the BHHH matrix is the outer product of the gradient with itself."
   ]
  },
  {
   "cell_type": "code",
   "execution_count": 25,
   "metadata": {
    "execution": {
     "iopub.execute_input": "2023-08-04T16:41:57.846048Z",
     "iopub.status.busy": "2023-08-04T16:41:57.845989Z",
     "iopub.status.idle": "2023-08-04T16:41:57.847908Z",
     "shell.execute_reply": "2023-08-04T16:41:57.847685Z"
    }
   },
   "outputs": [
    {
     "data": {
      "text/plain": [
       "array([[4.        , 0.20300292],\n",
       "       [0.20300292, 0.01030255]])"
      ]
     },
     "execution_count": 25,
     "metadata": {},
     "output_type": "execute_result"
    }
   ],
   "source": [
    "np.outer(g, g)"
   ]
  },
  {
   "cell_type": "markdown",
   "metadata": {},
   "source": [
    "If the derivatives are not needed, their calculation can be skipped. Here, we calculate the gradient, but not the hessian."
   ]
  },
  {
   "cell_type": "code",
   "execution_count": 26,
   "metadata": {
    "execution": {
     "iopub.execute_input": "2023-08-04T16:41:57.848761Z",
     "iopub.status.busy": "2023-08-04T16:41:57.848705Z",
     "iopub.status.idle": "2023-08-04T16:41:57.851152Z",
     "shell.execute_reply": "2023-08-04T16:41:57.850943Z"
    }
   },
   "outputs": [
    {
     "data": {
      "text/plain": [
       "(1.9323323583816936, array([2.        , 0.10150146]), None, None)"
      ]
     },
     "execution_count": 26,
     "metadata": {},
     "output_type": "execute_result"
    }
   ],
   "source": [
    "expr1.getValueAndDerivatives(gradient=True, hessian=False, bhhh=False, prepareIds=True)"
   ]
  },
  {
   "cell_type": "markdown",
   "metadata": {},
   "source": [
    "It can also generate a function that takes the value of the parameters as argument, and provides a tuple with the value of the expression and its derivatives. By default, it returns the value of the function, its gradient and its hessian."
   ]
  },
  {
   "cell_type": "code",
   "execution_count": 27,
   "metadata": {
    "execution": {
     "iopub.execute_input": "2023-08-04T16:41:57.852091Z",
     "iopub.status.busy": "2023-08-04T16:41:57.852028Z",
     "iopub.status.idle": "2023-08-04T16:41:57.853535Z",
     "shell.execute_reply": "2023-08-04T16:41:57.853340Z"
    }
   },
   "outputs": [],
   "source": [
    "the_function = expr1.createFunction()"
   ]
  },
  {
   "cell_type": "markdown",
   "metadata": {},
   "source": [
    "We evaluate it at one point..."
   ]
  },
  {
   "cell_type": "code",
   "execution_count": 28,
   "metadata": {
    "execution": {
     "iopub.execute_input": "2023-08-04T16:41:57.854488Z",
     "iopub.status.busy": "2023-08-04T16:41:57.854413Z",
     "iopub.status.idle": "2023-08-04T16:41:57.856533Z",
     "shell.execute_reply": "2023-08-04T16:41:57.856300Z"
    }
   },
   "outputs": [
    {
     "data": {
      "text/plain": [
       "(1.9323323583816936,\n",
       " array([2.        , 0.10150146]),\n",
       " array([[ 0.       ,  0.       ],\n",
       "        [ 0.       , -0.1691691]]))"
      ]
     },
     "execution_count": 28,
     "metadata": {},
     "output_type": "execute_result"
    }
   ],
   "source": [
    "the_function([1, 2])"
   ]
  },
  {
   "cell_type": "markdown",
   "metadata": {},
   "source": [
    "... and at another point."
   ]
  },
  {
   "cell_type": "code",
   "execution_count": 29,
   "metadata": {
    "execution": {
     "iopub.execute_input": "2023-08-04T16:41:57.857503Z",
     "iopub.status.busy": "2023-08-04T16:41:57.857427Z",
     "iopub.status.idle": "2023-08-04T16:41:57.859426Z",
     "shell.execute_reply": "2023-08-04T16:41:57.859227Z"
    }
   },
   "outputs": [
    {
     "data": {
      "text/plain": [
       "(23.694528049465326,\n",
       " array([ 2.        , -1.84726402]),\n",
       " array([[0.        , 0.        ],\n",
       "        [0.        , 1.84726402]]))"
      ]
     },
     "execution_count": 29,
     "metadata": {},
     "output_type": "execute_result"
    }
   ],
   "source": [
    "the_function([10, -2])"
   ]
  },
  {
   "cell_type": "markdown",
   "metadata": {},
   "source": [
    "We can use it to check the derivatives"
   ]
  },
  {
   "cell_type": "code",
   "execution_count": 30,
   "metadata": {
    "execution": {
     "iopub.execute_input": "2023-08-04T16:41:57.860394Z",
     "iopub.status.busy": "2023-08-04T16:41:57.860329Z",
     "iopub.status.idle": "2023-08-04T16:41:57.863980Z",
     "shell.execute_reply": "2023-08-04T16:41:57.863787Z"
    }
   },
   "outputs": [
    {
     "name": "stderr",
     "output_type": "stream",
     "text": [
      "x\t\tGradient\tFinDiff\t\tDifference \n"
     ]
    },
    {
     "name": "stderr",
     "output_type": "stream",
     "text": [
      "x[0]           \t+2.000000E+00\t+2.000000E+00\t-1.167734E-09 \n"
     ]
    },
    {
     "name": "stderr",
     "output_type": "stream",
     "text": [
      "x[1]           \t+1.015015E-01\t+1.015014E-01\t+1.629049E-08 \n"
     ]
    },
    {
     "name": "stderr",
     "output_type": "stream",
     "text": [
      "Row\t\tCol\t\tHessian\tFinDiff\t\tDifference \n"
     ]
    },
    {
     "name": "stderr",
     "output_type": "stream",
     "text": [
      "x[0]           \tx[0]           \t+0.000000E+00\t+0.000000E+00\t+0.000000E+00 \n"
     ]
    },
    {
     "name": "stderr",
     "output_type": "stream",
     "text": [
      "x[0]           \tx[1]           \t+0.000000E+00\t+0.000000E+00\t+0.000000E+00 \n"
     ]
    },
    {
     "name": "stderr",
     "output_type": "stream",
     "text": [
      "x[1]           \tx[0]           \t+0.000000E+00\t+0.000000E+00\t+0.000000E+00 \n"
     ]
    },
    {
     "name": "stderr",
     "output_type": "stream",
     "text": [
      "x[1]           \tx[1]           \t-1.691691E-01\t-1.691691E-01\t-3.203118E-08 \n"
     ]
    },
    {
     "data": {
      "text/plain": [
       "(1.9323323583816936,\n",
       " array([2.        , 0.10150146]),\n",
       " array([[ 0.       ,  0.       ],\n",
       "        [ 0.       , -0.1691691]]),\n",
       " array([-1.16773435e-09,  1.62904950e-08]),\n",
       " array([[ 0.00000000e+00,  0.00000000e+00],\n",
       "        [ 0.00000000e+00, -3.20311803e-08]]))"
      ]
     },
     "execution_count": 30,
     "metadata": {},
     "output_type": "execute_result"
    }
   ],
   "source": [
    "tools.checkDerivatives(the_function, [1, 2], logg=True)"
   ]
  },
  {
   "cell_type": "markdown",
   "metadata": {},
   "source": [
    "But it is possible to also obtain the BHHH matrix."
   ]
  },
  {
   "cell_type": "code",
   "execution_count": 31,
   "metadata": {
    "execution": {
     "iopub.execute_input": "2023-08-04T16:41:57.864960Z",
     "iopub.status.busy": "2023-08-04T16:41:57.864900Z",
     "iopub.status.idle": "2023-08-04T16:41:57.866926Z",
     "shell.execute_reply": "2023-08-04T16:41:57.866725Z"
    }
   },
   "outputs": [
    {
     "data": {
      "text/plain": [
       "(1.9323323583816936,\n",
       " array([2.        , 0.10150146]),\n",
       " array([[ 0.       ,  0.       ],\n",
       "        [ 0.       , -0.1691691]]),\n",
       " array([[4.        , 0.20300292],\n",
       "        [0.20300292, 0.01030255]]))"
      ]
     },
     "execution_count": 31,
     "metadata": {},
     "output_type": "execute_result"
    }
   ],
   "source": [
    "the_function = expr1.createFunction(bhhh=True)\n",
    "the_function([1, 2])"
   ]
  },
  {
   "cell_type": "markdown",
   "metadata": {},
   "source": [
    "It can take a database as input, and evaluate the expression  and its derivatives for each entry in the database.\n",
    "In the following example, as no variable of the database is involved in the expression, the output of the expression is the same for each entry."
   ]
  },
  {
   "cell_type": "code",
   "execution_count": 32,
   "metadata": {
    "execution": {
     "iopub.execute_input": "2023-08-04T16:41:57.867872Z",
     "iopub.status.busy": "2023-08-04T16:41:57.867795Z",
     "iopub.status.idle": "2023-08-04T16:41:57.870200Z",
     "shell.execute_reply": "2023-08-04T16:41:57.869998Z"
    }
   },
   "outputs": [
    {
     "data": {
      "text/plain": [
       "(array([1.93233236, 1.93233236, 1.93233236, 1.93233236, 1.93233236]),\n",
       " array([[2.        , 0.10150146],\n",
       "        [2.        , 0.10150146],\n",
       "        [2.        , 0.10150146],\n",
       "        [2.        , 0.10150146],\n",
       "        [2.        , 0.10150146]]),\n",
       " array([[[ 0.       ,  0.       ],\n",
       "         [ 0.       , -0.1691691]],\n",
       " \n",
       "        [[ 0.       ,  0.       ],\n",
       "         [ 0.       , -0.1691691]],\n",
       " \n",
       "        [[ 0.       ,  0.       ],\n",
       "         [ 0.       , -0.1691691]],\n",
       " \n",
       "        [[ 0.       ,  0.       ],\n",
       "         [ 0.       , -0.1691691]],\n",
       " \n",
       "        [[ 0.       ,  0.       ],\n",
       "         [ 0.       , -0.1691691]]]),\n",
       " array([[[4.        , 0.20300292],\n",
       "         [0.20300292, 0.01030255]],\n",
       " \n",
       "        [[4.        , 0.20300292],\n",
       "         [0.20300292, 0.01030255]],\n",
       " \n",
       "        [[4.        , 0.20300292],\n",
       "         [0.20300292, 0.01030255]],\n",
       " \n",
       "        [[4.        , 0.20300292],\n",
       "         [0.20300292, 0.01030255]],\n",
       " \n",
       "        [[4.        , 0.20300292],\n",
       "         [0.20300292, 0.01030255]]]))"
      ]
     },
     "execution_count": 32,
     "metadata": {},
     "output_type": "execute_result"
    }
   ],
   "source": [
    "expr1.getValueAndDerivatives(database=myData, aggregation=False)"
   ]
  },
  {
   "cell_type": "markdown",
   "metadata": {},
   "source": [
    "If `aggregation`is set to `True`, the results are accumulated as a sum."
   ]
  },
  {
   "cell_type": "code",
   "execution_count": 33,
   "metadata": {
    "execution": {
     "iopub.execute_input": "2023-08-04T16:41:57.871115Z",
     "iopub.status.busy": "2023-08-04T16:41:57.871029Z",
     "iopub.status.idle": "2023-08-04T16:41:57.873059Z",
     "shell.execute_reply": "2023-08-04T16:41:57.872861Z"
    }
   },
   "outputs": [
    {
     "data": {
      "text/plain": [
       "(9.661661791908468,\n",
       " array([10.        ,  0.50750731]),\n",
       " array([[ 0.        ,  0.        ],\n",
       "        [ 0.        , -0.84584552]]),\n",
       " array([[20.        ,  1.01501462],\n",
       "        [ 1.01501462,  0.05151273]]))"
      ]
     },
     "execution_count": 33,
     "metadata": {},
     "output_type": "execute_result"
    }
   ],
   "source": [
    "expr1.getValueAndDerivatives(database=myData, aggregation=True)"
   ]
  },
  {
   "cell_type": "markdown",
   "metadata": {},
   "source": [
    "The following function scans the expression and extracts a dict with all free parameters."
   ]
  },
  {
   "cell_type": "code",
   "execution_count": 34,
   "metadata": {
    "execution": {
     "iopub.execute_input": "2023-08-04T16:41:57.873997Z",
     "iopub.status.busy": "2023-08-04T16:41:57.873935Z",
     "iopub.status.idle": "2023-08-04T16:41:57.875830Z",
     "shell.execute_reply": "2023-08-04T16:41:57.875625Z"
    }
   },
   "outputs": [
    {
     "data": {
      "text/plain": [
       "{'beta1', 'beta2'}"
      ]
     },
     "execution_count": 34,
     "metadata": {},
     "output_type": "execute_result"
    }
   ],
   "source": [
    "expr1.set_of_elementary_expression(TypeOfElementaryExpression.FREE_BETA)"
   ]
  },
  {
   "cell_type": "markdown",
   "metadata": {},
   "source": [
    "Options can be set to extract free parameters, fixed parameters, or both. "
   ]
  },
  {
   "cell_type": "code",
   "execution_count": 35,
   "metadata": {
    "execution": {
     "iopub.execute_input": "2023-08-04T16:41:57.876766Z",
     "iopub.status.busy": "2023-08-04T16:41:57.876706Z",
     "iopub.status.idle": "2023-08-04T16:41:57.878514Z",
     "shell.execute_reply": "2023-08-04T16:41:57.878320Z"
    }
   },
   "outputs": [
    {
     "data": {
      "text/plain": [
       "{'beta3', 'beta4'}"
      ]
     },
     "execution_count": 35,
     "metadata": {},
     "output_type": "execute_result"
    }
   ],
   "source": [
    "expr1.set_of_elementary_expression(TypeOfElementaryExpression.FIXED_BETA)"
   ]
  },
  {
   "cell_type": "code",
   "execution_count": 36,
   "metadata": {
    "execution": {
     "iopub.execute_input": "2023-08-04T16:41:57.879393Z",
     "iopub.status.busy": "2023-08-04T16:41:57.879328Z",
     "iopub.status.idle": "2023-08-04T16:41:57.881096Z",
     "shell.execute_reply": "2023-08-04T16:41:57.880859Z"
    }
   },
   "outputs": [
    {
     "data": {
      "text/plain": [
       "{'beta1', 'beta2', 'beta3', 'beta4'}"
      ]
     },
     "execution_count": 36,
     "metadata": {},
     "output_type": "execute_result"
    }
   ],
   "source": [
    "expr1.set_of_elementary_expression(TypeOfElementaryExpression.BETA)"
   ]
  },
  {
   "cell_type": "markdown",
   "metadata": {},
   "source": [
    "It is possible also to extract an elementary expression from its name."
   ]
  },
  {
   "cell_type": "code",
   "execution_count": 37,
   "metadata": {
    "execution": {
     "iopub.execute_input": "2023-08-04T16:41:57.882008Z",
     "iopub.status.busy": "2023-08-04T16:41:57.881939Z",
     "iopub.status.idle": "2023-08-04T16:41:57.883712Z",
     "shell.execute_reply": "2023-08-04T16:41:57.883513Z"
    }
   },
   "outputs": [
    {
     "data": {
      "text/plain": [
       "beta2(init=2)"
      ]
     },
     "execution_count": 37,
     "metadata": {},
     "output_type": "execute_result"
    }
   ],
   "source": [
    "expr1.getElementaryExpression('beta2')"
   ]
  },
  {
   "cell_type": "markdown",
   "metadata": {},
   "source": [
    "Let's consider an expression involving two variables $V_1$ and $V_2$: $$e_2 = 2  \\beta_1 V_1 - \\frac{\\exp(-\\beta_2 V_2)}{\\beta_2 (\\beta_3 \\geq \\beta_4) + \\beta_1 (\\beta_3 < \\beta_4)},$$\n",
    "where $(\\beta_2 \\geq \\beta_1)$ equals 1 if $\\beta_2 \\geq \\beta_1$ and 0 otherwise. Note that, in our example, the second term is numerically negligible with respect to the first one."
   ]
  },
  {
   "cell_type": "code",
   "execution_count": 38,
   "metadata": {
    "execution": {
     "iopub.execute_input": "2023-08-04T16:41:57.884732Z",
     "iopub.status.busy": "2023-08-04T16:41:57.884661Z",
     "iopub.status.idle": "2023-08-04T16:41:57.886309Z",
     "shell.execute_reply": "2023-08-04T16:41:57.886101Z"
    }
   },
   "outputs": [
    {
     "name": "stdout",
     "output_type": "stream",
     "text": [
      "(((`2.0` * beta1(init=1)) * Variable1) - (exp(((-beta2(init=2)) * Variable2)) / ((beta2(init=2) * (beta3(fixed=3) >= beta4(fixed=2))) + (beta1(init=1) * (beta3(fixed=3) < beta4(fixed=2))))))\n"
     ]
    }
   ],
   "source": [
    "expr2 = 2 * beta1 * Variable1 - ex.exp(-beta2 * Variable2) / (beta2 * (beta3 >= beta4) + beta1 * (beta3 < beta4))\n",
    "print(expr2)"
   ]
  },
  {
   "cell_type": "markdown",
   "metadata": {},
   "source": [
    "It is not a simple expression anymore, and only the function `getValue_c` can be invoked. If we try the `getValue`function, it raises an exception."
   ]
  },
  {
   "cell_type": "code",
   "execution_count": 39,
   "metadata": {
    "execution": {
     "iopub.execute_input": "2023-08-04T16:41:57.887209Z",
     "iopub.status.busy": "2023-08-04T16:41:57.887150Z",
     "iopub.status.idle": "2023-08-04T16:41:57.888748Z",
     "shell.execute_reply": "2023-08-04T16:41:57.888539Z"
    }
   },
   "outputs": [
    {
     "name": "stdout",
     "output_type": "stream",
     "text": [
      "Exception raised: Evaluating Variable Variable1 requires a database. Use the function getValue_c instead.\n"
     ]
    }
   ],
   "source": [
    "try:\n",
    "    expr2.getValue()\n",
    "except excep.BiogemeError as e:\n",
    "    print(f'Exception raised: {e}')"
   ]
  },
  {
   "cell_type": "markdown",
   "metadata": {},
   "source": [
    "As the expression is called out of a specific context, it should be ibnstructed to prepare its IDs. Note that if no database is provided, an exception is raised when the formula contains variables. Indeed, the values of these variables cannot be found anywhere. "
   ]
  },
  {
   "cell_type": "code",
   "execution_count": 40,
   "metadata": {
    "execution": {
     "iopub.execute_input": "2023-08-04T16:41:57.889631Z",
     "iopub.status.busy": "2023-08-04T16:41:57.889569Z",
     "iopub.status.idle": "2023-08-04T16:41:57.891231Z",
     "shell.execute_reply": "2023-08-04T16:41:57.891006Z"
    }
   },
   "outputs": [
    {
     "name": "stdout",
     "output_type": "stream",
     "text": [
      "Exception raised: No database is provided and an expression contains variables: {'Variable2', 'Variable1'}\n"
     ]
    }
   ],
   "source": [
    "try:\n",
    "    expr2.getValue_c(prepareIds=True)\n",
    "except excep.BiogemeError as e:\n",
    "    print(f'Exception raised: {e}')"
   ]
  },
  {
   "cell_type": "code",
   "execution_count": 41,
   "metadata": {
    "execution": {
     "iopub.execute_input": "2023-08-04T16:41:57.892075Z",
     "iopub.status.busy": "2023-08-04T16:41:57.892012Z",
     "iopub.status.idle": "2023-08-04T16:41:57.894398Z",
     "shell.execute_reply": "2023-08-04T16:41:57.894156Z"
    }
   },
   "outputs": [
    {
     "data": {
      "text/plain": [
       "array([ 20.,  40.,  60.,  80., 100.])"
      ]
     },
     "execution_count": 41,
     "metadata": {},
     "output_type": "execute_result"
    }
   ],
   "source": [
    "expr2.getValue_c(database=myData, aggregation=False, prepareIds=True)"
   ]
  },
  {
   "cell_type": "markdown",
   "metadata": {},
   "source": [
    "The following function extracts the names of the parameters apprearing in the expression"
   ]
  },
  {
   "cell_type": "code",
   "execution_count": 42,
   "metadata": {
    "execution": {
     "iopub.execute_input": "2023-08-04T16:41:57.895377Z",
     "iopub.status.busy": "2023-08-04T16:41:57.895312Z",
     "iopub.status.idle": "2023-08-04T16:41:57.897139Z",
     "shell.execute_reply": "2023-08-04T16:41:57.896908Z"
    }
   },
   "outputs": [
    {
     "data": {
      "text/plain": [
       "{'beta1', 'beta2', 'beta3', 'beta4'}"
      ]
     },
     "execution_count": 42,
     "metadata": {},
     "output_type": "execute_result"
    }
   ],
   "source": [
    "expr2.set_of_elementary_expression(TypeOfElementaryExpression.BETA)"
   ]
  },
  {
   "cell_type": "markdown",
   "metadata": {},
   "source": [
    "The list of parameters can also be obtained in the form of a dictionary."
   ]
  },
  {
   "cell_type": "code",
   "execution_count": 43,
   "metadata": {
    "execution": {
     "iopub.execute_input": "2023-08-04T16:41:57.898129Z",
     "iopub.status.busy": "2023-08-04T16:41:57.898017Z",
     "iopub.status.idle": "2023-08-04T16:41:57.899875Z",
     "shell.execute_reply": "2023-08-04T16:41:57.899657Z"
    }
   },
   "outputs": [
    {
     "data": {
      "text/plain": [
       "{'beta1': beta1(init=1),\n",
       " 'beta2': beta2(init=2),\n",
       " 'beta3': beta3(fixed=3),\n",
       " 'beta4': beta4(fixed=2)}"
      ]
     },
     "execution_count": 43,
     "metadata": {},
     "output_type": "execute_result"
    }
   ],
   "source": [
    "expr2.dict_of_elementary_expression(TypeOfElementaryExpression.BETA)"
   ]
  },
  {
   "cell_type": "markdown",
   "metadata": {},
   "source": [
    "The list of variables can also be obtained in the form of a dictionary"
   ]
  },
  {
   "cell_type": "code",
   "execution_count": 44,
   "metadata": {
    "execution": {
     "iopub.execute_input": "2023-08-04T16:41:57.900796Z",
     "iopub.status.busy": "2023-08-04T16:41:57.900739Z",
     "iopub.status.idle": "2023-08-04T16:41:57.902668Z",
     "shell.execute_reply": "2023-08-04T16:41:57.902468Z"
    }
   },
   "outputs": [
    {
     "data": {
      "text/plain": [
       "{'Variable1': Variable1, 'Variable2': Variable2}"
      ]
     },
     "execution_count": 44,
     "metadata": {},
     "output_type": "execute_result"
    }
   ],
   "source": [
    "expr2.dict_of_elementary_expression(TypeOfElementaryExpression.VARIABLE)"
   ]
  },
  {
   "cell_type": "markdown",
   "metadata": {},
   "source": [
    "or a set..."
   ]
  },
  {
   "cell_type": "code",
   "execution_count": 45,
   "metadata": {
    "execution": {
     "iopub.execute_input": "2023-08-04T16:41:57.903531Z",
     "iopub.status.busy": "2023-08-04T16:41:57.903472Z",
     "iopub.status.idle": "2023-08-04T16:41:57.905315Z",
     "shell.execute_reply": "2023-08-04T16:41:57.905113Z"
    }
   },
   "outputs": [
    {
     "data": {
      "text/plain": [
       "{'Variable1', 'Variable2'}"
      ]
     },
     "execution_count": 45,
     "metadata": {},
     "output_type": "execute_result"
    }
   ],
   "source": [
    "expr2.set_of_elementary_expression(TypeOfElementaryExpression.VARIABLE)"
   ]
  },
  {
   "cell_type": "markdown",
   "metadata": {},
   "source": [
    "Expressions are defined recursively, using a tree representation. The following function describes the type of the upper most node of the tree."
   ]
  },
  {
   "cell_type": "code",
   "execution_count": 46,
   "metadata": {
    "execution": {
     "iopub.execute_input": "2023-08-04T16:41:57.906186Z",
     "iopub.status.busy": "2023-08-04T16:41:57.906129Z",
     "iopub.status.idle": "2023-08-04T16:41:57.907747Z",
     "shell.execute_reply": "2023-08-04T16:41:57.907541Z"
    }
   },
   "outputs": [
    {
     "data": {
      "text/plain": [
       "'Minus'"
      ]
     },
     "execution_count": 46,
     "metadata": {},
     "output_type": "execute_result"
    }
   ],
   "source": [
    "expr2.getClassName()"
   ]
  },
  {
   "cell_type": "markdown",
   "metadata": {},
   "source": [
    "The signature is a formal representation of the expression, assigning identifiers to each node of the tree, and representing them starting from the leaves. It is easy to parse, and is passed to the C++ implementation. "
   ]
  },
  {
   "cell_type": "markdown",
   "metadata": {},
   "source": [
    "As the expression is used out of a specific context, it must be prepared before using it."
   ]
  },
  {
   "cell_type": "code",
   "execution_count": 47,
   "metadata": {
    "execution": {
     "iopub.execute_input": "2023-08-04T16:41:57.908696Z",
     "iopub.status.busy": "2023-08-04T16:41:57.908643Z",
     "iopub.status.idle": "2023-08-04T16:41:57.910095Z",
     "shell.execute_reply": "2023-08-04T16:41:57.909900Z"
    }
   },
   "outputs": [],
   "source": [
    "expr2.prepare(database=myData, numberOfDraws=0)"
   ]
  },
  {
   "cell_type": "code",
   "execution_count": 48,
   "metadata": {
    "execution": {
     "iopub.execute_input": "2023-08-04T16:41:57.910944Z",
     "iopub.status.busy": "2023-08-04T16:41:57.910871Z",
     "iopub.status.idle": "2023-08-04T16:41:57.912581Z",
     "shell.execute_reply": "2023-08-04T16:41:57.912386Z"
    }
   },
   "outputs": [
    {
     "data": {
      "text/plain": [
       "({'Variable1', 'Variable2', 'beta1', 'beta2', 'beta3', 'beta4'}, set())"
      ]
     },
     "execution_count": 48,
     "metadata": {},
     "output_type": "execute_result"
    }
   ],
   "source": [
    "expr2.getStatusIdManager()"
   ]
  },
  {
   "cell_type": "code",
   "execution_count": 49,
   "metadata": {
    "execution": {
     "iopub.execute_input": "2023-08-04T16:41:57.913433Z",
     "iopub.status.busy": "2023-08-04T16:41:57.913374Z",
     "iopub.status.idle": "2023-08-04T16:41:57.914796Z",
     "shell.execute_reply": "2023-08-04T16:41:57.914586Z"
    }
   },
   "outputs": [
    {
     "name": "stdout",
     "output_type": "stream",
     "text": [
      "(((`2.0` * beta1(init=1)) * Variable1) - (exp(((-beta2(init=2)) * Variable2)) / ((beta2(init=2) * (beta3(fixed=3) >= beta4(fixed=2))) + (beta1(init=1) * (beta3(fixed=3) < beta4(fixed=2))))))\n"
     ]
    }
   ],
   "source": [
    "print(expr2)"
   ]
  },
  {
   "cell_type": "code",
   "execution_count": 50,
   "metadata": {
    "execution": {
     "iopub.execute_input": "2023-08-04T16:41:57.915587Z",
     "iopub.status.busy": "2023-08-04T16:41:57.915533Z",
     "iopub.status.idle": "2023-08-04T16:41:57.917261Z",
     "shell.execute_reply": "2023-08-04T16:41:57.917061Z"
    }
   },
   "outputs": [
    {
     "data": {
      "text/plain": [
       "[b'<Numeric>{4962799504},2.0',\n",
       " b'<Beta>{4962783440}\"beta1\"[0],0,0',\n",
       " b'<Times>{4962872336}(2),4962799504,4962783440',\n",
       " b'<Variable>{4962714128}\"Variable1\",6,2',\n",
       " b'<Times>{4962862928}(2),4962872336,4962714128',\n",
       " b'<Beta>{4962790864}\"beta2\"[0],1,1',\n",
       " b'<UnaryMinus>{4962716176}(1),4962790864',\n",
       " b'<Variable>{4962722320}\"Variable2\",7,3',\n",
       " b'<Times>{4962810896}(2),4962716176,4962722320',\n",
       " b'<exp>{4962872080}(1),4962810896',\n",
       " b'<Beta>{4962790864}\"beta2\"[0],1,1',\n",
       " b'<Beta>{4962788112}\"beta3\"[1],2,0',\n",
       " b'<Beta>{4962786832}\"beta4\"[1],3,1',\n",
       " b'<GreaterOrEqual>{4962872464}(2),4962788112,4962786832',\n",
       " b'<Times>{4908252112}(2),4962790864,4962872464',\n",
       " b'<Beta>{4962783440}\"beta1\"[0],0,0',\n",
       " b'<Beta>{4962788112}\"beta3\"[1],2,0',\n",
       " b'<Beta>{4962786832}\"beta4\"[1],3,1',\n",
       " b'<Less>{4962666704}(2),4962788112,4962786832',\n",
       " b'<Times>{4962787408}(2),4962783440,4962666704',\n",
       " b'<Plus>{4962866128}(2),4908252112,4962787408',\n",
       " b'<Divide>{4962869136}(2),4962872080,4962866128',\n",
       " b'<Minus>{4962805968}(2),4962862928,4962869136']"
      ]
     },
     "execution_count": 50,
     "metadata": {},
     "output_type": "execute_result"
    }
   ],
   "source": [
    "expr2.getSignature()"
   ]
  },
  {
   "cell_type": "markdown",
   "metadata": {},
   "source": [
    "The elementary expressions are\n",
    "- free parameters,\n",
    "- fixed parameters,\n",
    "- random variables (for numerical integration),\n",
    "- draws (for Monte-Carlo integration), and\n",
    "- variables from the database.\n",
    "\n",
    "The following function extracts all elementary expressions from a list of formulas, give them a unique numbering, and return them organized by group, as defined above (with the exception of the variables, that are directly available in the database)."
   ]
  },
  {
   "cell_type": "code",
   "execution_count": 51,
   "metadata": {
    "execution": {
     "iopub.execute_input": "2023-08-04T16:41:57.918124Z",
     "iopub.status.busy": "2023-08-04T16:41:57.918054Z",
     "iopub.status.idle": "2023-08-04T16:41:57.919595Z",
     "shell.execute_reply": "2023-08-04T16:41:57.919388Z"
    }
   },
   "outputs": [],
   "source": [
    "collectionOfFormulas = [expr1, expr2]\n",
    "formulas = IdManager(collectionOfFormulas, myData, None)\n"
   ]
  },
  {
   "cell_type": "markdown",
   "metadata": {},
   "source": [
    "Unique numbering for all elementary expressions"
   ]
  },
  {
   "cell_type": "code",
   "execution_count": 52,
   "metadata": {
    "execution": {
     "iopub.execute_input": "2023-08-04T16:41:57.920450Z",
     "iopub.status.busy": "2023-08-04T16:41:57.920393Z",
     "iopub.status.idle": "2023-08-04T16:41:57.922250Z",
     "shell.execute_reply": "2023-08-04T16:41:57.922033Z"
    }
   },
   "outputs": [
    {
     "data": {
      "text/plain": [
       "{'beta1': 0,\n",
       " 'beta2': 1,\n",
       " 'beta3': 2,\n",
       " 'beta4': 3,\n",
       " 'Person': 4,\n",
       " 'Exclude': 5,\n",
       " 'Variable1': 6,\n",
       " 'Variable2': 7,\n",
       " 'Choice': 8,\n",
       " 'Av1': 9,\n",
       " 'Av2': 10,\n",
       " 'Av3': 11,\n",
       " 'newvar_b': 12,\n",
       " 'newvar_p': 13,\n",
       " 'chaining_p': 14}"
      ]
     },
     "execution_count": 52,
     "metadata": {},
     "output_type": "execute_result"
    }
   ],
   "source": [
    "formulas.elementary_expressions.indices"
   ]
  },
  {
   "cell_type": "code",
   "execution_count": 53,
   "metadata": {
    "execution": {
     "iopub.execute_input": "2023-08-04T16:41:57.923109Z",
     "iopub.status.busy": "2023-08-04T16:41:57.923053Z",
     "iopub.status.idle": "2023-08-04T16:41:57.924740Z",
     "shell.execute_reply": "2023-08-04T16:41:57.924533Z"
    }
   },
   "outputs": [
    {
     "data": {
      "text/plain": [
       "ElementsTuple(expressions={'beta1': beta1(init=1), 'beta2': beta2(init=2)}, indices={'beta1': 0, 'beta2': 1}, names=['beta1', 'beta2'])"
      ]
     },
     "execution_count": 53,
     "metadata": {},
     "output_type": "execute_result"
    }
   ],
   "source": [
    "formulas.free_betas"
   ]
  },
  {
   "cell_type": "markdown",
   "metadata": {},
   "source": [
    "Each elementary expression has two ids. One unique index across all elementary expressions, and one unique within each specific group"
   ]
  },
  {
   "cell_type": "code",
   "execution_count": 54,
   "metadata": {
    "execution": {
     "iopub.execute_input": "2023-08-04T16:41:57.925619Z",
     "iopub.status.busy": "2023-08-04T16:41:57.925558Z",
     "iopub.status.idle": "2023-08-04T16:41:57.927361Z",
     "shell.execute_reply": "2023-08-04T16:41:57.927174Z"
    }
   },
   "outputs": [
    {
     "data": {
      "text/plain": [
       "[(0, 0), (1, 1)]"
      ]
     },
     "execution_count": 54,
     "metadata": {},
     "output_type": "execute_result"
    }
   ],
   "source": [
    "[(i.elementaryIndex, i.betaId) for k, i in formulas.free_betas.expressions.items()]"
   ]
  },
  {
   "cell_type": "code",
   "execution_count": 55,
   "metadata": {
    "execution": {
     "iopub.execute_input": "2023-08-04T16:41:57.928309Z",
     "iopub.status.busy": "2023-08-04T16:41:57.928230Z",
     "iopub.status.idle": "2023-08-04T16:41:57.929894Z",
     "shell.execute_reply": "2023-08-04T16:41:57.929700Z"
    }
   },
   "outputs": [
    {
     "data": {
      "text/plain": [
       "['beta1', 'beta2']"
      ]
     },
     "execution_count": 55,
     "metadata": {},
     "output_type": "execute_result"
    }
   ],
   "source": [
    "formulas.free_betas.names"
   ]
  },
  {
   "cell_type": "code",
   "execution_count": 56,
   "metadata": {
    "execution": {
     "iopub.execute_input": "2023-08-04T16:41:57.930756Z",
     "iopub.status.busy": "2023-08-04T16:41:57.930697Z",
     "iopub.status.idle": "2023-08-04T16:41:57.932357Z",
     "shell.execute_reply": "2023-08-04T16:41:57.932157Z"
    }
   },
   "outputs": [
    {
     "data": {
      "text/plain": [
       "ElementsTuple(expressions={'beta3': beta3(fixed=3), 'beta4': beta4(fixed=2)}, indices={'beta3': 0, 'beta4': 1}, names=['beta3', 'beta4'])"
      ]
     },
     "execution_count": 56,
     "metadata": {},
     "output_type": "execute_result"
    }
   ],
   "source": [
    "formulas.fixed_betas"
   ]
  },
  {
   "cell_type": "code",
   "execution_count": 57,
   "metadata": {
    "execution": {
     "iopub.execute_input": "2023-08-04T16:41:57.933200Z",
     "iopub.status.busy": "2023-08-04T16:41:57.933144Z",
     "iopub.status.idle": "2023-08-04T16:41:57.935123Z",
     "shell.execute_reply": "2023-08-04T16:41:57.934826Z"
    }
   },
   "outputs": [
    {
     "data": {
      "text/plain": [
       "[(2, 0), (3, 1)]"
      ]
     },
     "execution_count": 57,
     "metadata": {},
     "output_type": "execute_result"
    }
   ],
   "source": [
    "[(i.elementaryIndex, i.betaId) for k, i in formulas.fixed_betas.expressions.items()]"
   ]
  },
  {
   "cell_type": "code",
   "execution_count": 58,
   "metadata": {
    "execution": {
     "iopub.execute_input": "2023-08-04T16:41:57.936149Z",
     "iopub.status.busy": "2023-08-04T16:41:57.936077Z",
     "iopub.status.idle": "2023-08-04T16:41:57.938002Z",
     "shell.execute_reply": "2023-08-04T16:41:57.937739Z"
    }
   },
   "outputs": [
    {
     "data": {
      "text/plain": [
       "['beta3', 'beta4']"
      ]
     },
     "execution_count": 58,
     "metadata": {},
     "output_type": "execute_result"
    }
   ],
   "source": [
    "formulas.fixed_betas.names"
   ]
  },
  {
   "cell_type": "code",
   "execution_count": 59,
   "metadata": {
    "execution": {
     "iopub.execute_input": "2023-08-04T16:41:57.938982Z",
     "iopub.status.busy": "2023-08-04T16:41:57.938915Z",
     "iopub.status.idle": "2023-08-04T16:41:57.940860Z",
     "shell.execute_reply": "2023-08-04T16:41:57.940654Z"
    }
   },
   "outputs": [
    {
     "data": {
      "text/plain": [
       "ElementsTuple(expressions={}, indices={}, names=[])"
      ]
     },
     "execution_count": 59,
     "metadata": {},
     "output_type": "execute_result"
    }
   ],
   "source": [
    "formulas.random_variables"
   ]
  },
  {
   "cell_type": "markdown",
   "metadata": {},
   "source": [
    "Monte Carlo integration is based on draws. "
   ]
  },
  {
   "cell_type": "code",
   "execution_count": 60,
   "metadata": {
    "execution": {
     "iopub.execute_input": "2023-08-04T16:41:57.941867Z",
     "iopub.status.busy": "2023-08-04T16:41:57.941781Z",
     "iopub.status.idle": "2023-08-04T16:41:57.943365Z",
     "shell.execute_reply": "2023-08-04T16:41:57.943127Z"
    }
   },
   "outputs": [],
   "source": [
    "myDraws = ex.bioDraws('myDraws', 'UNIFORM')\n",
    "expr3 = ex.MonteCarlo(myDraws * myDraws)"
   ]
  },
  {
   "cell_type": "code",
   "execution_count": 61,
   "metadata": {
    "execution": {
     "iopub.execute_input": "2023-08-04T16:41:57.944351Z",
     "iopub.status.busy": "2023-08-04T16:41:57.944290Z",
     "iopub.status.idle": "2023-08-04T16:41:57.945767Z",
     "shell.execute_reply": "2023-08-04T16:41:57.945539Z"
    }
   },
   "outputs": [
    {
     "name": "stdout",
     "output_type": "stream",
     "text": [
      "MonteCarlo((bioDraws(\"myDraws\", \"UNIFORM\") * bioDraws(\"myDraws\", \"UNIFORM\")))\n"
     ]
    }
   ],
   "source": [
    "print(expr3)"
   ]
  },
  {
   "cell_type": "markdown",
   "metadata": {},
   "source": [
    "Note that draws are not random variables, used for numerical integration."
   ]
  },
  {
   "cell_type": "code",
   "execution_count": 62,
   "metadata": {
    "execution": {
     "iopub.execute_input": "2023-08-04T16:41:57.946777Z",
     "iopub.status.busy": "2023-08-04T16:41:57.946707Z",
     "iopub.status.idle": "2023-08-04T16:41:57.948431Z",
     "shell.execute_reply": "2023-08-04T16:41:57.948229Z"
    }
   },
   "outputs": [
    {
     "data": {
      "text/plain": [
       "set()"
      ]
     },
     "execution_count": 62,
     "metadata": {},
     "output_type": "execute_result"
    }
   ],
   "source": [
    "expr3.set_of_elementary_expression(TypeOfElementaryExpression.RANDOM_VARIABLE)"
   ]
  },
  {
   "cell_type": "markdown",
   "metadata": {},
   "source": [
    "The following function reports the draws involved in an expression."
   ]
  },
  {
   "cell_type": "code",
   "execution_count": 63,
   "metadata": {
    "execution": {
     "iopub.execute_input": "2023-08-04T16:41:57.949323Z",
     "iopub.status.busy": "2023-08-04T16:41:57.949243Z",
     "iopub.status.idle": "2023-08-04T16:41:57.950989Z",
     "shell.execute_reply": "2023-08-04T16:41:57.950787Z"
    }
   },
   "outputs": [
    {
     "data": {
      "text/plain": [
       "{'myDraws'}"
      ]
     },
     "execution_count": 63,
     "metadata": {},
     "output_type": "execute_result"
    }
   ],
   "source": [
    "expr3.set_of_elementary_expression(TypeOfElementaryExpression.DRAWS)"
   ]
  },
  {
   "cell_type": "markdown",
   "metadata": {},
   "source": [
    "The following function checks if draws are defined outside MonteCarlo, and return their names."
   ]
  },
  {
   "cell_type": "code",
   "execution_count": 64,
   "metadata": {
    "execution": {
     "iopub.execute_input": "2023-08-04T16:41:57.952058Z",
     "iopub.status.busy": "2023-08-04T16:41:57.951999Z",
     "iopub.status.idle": "2023-08-04T16:41:57.953989Z",
     "shell.execute_reply": "2023-08-04T16:41:57.953775Z"
    }
   },
   "outputs": [
    {
     "data": {
      "text/plain": [
       "{'myDraws'}"
      ]
     },
     "execution_count": 64,
     "metadata": {},
     "output_type": "execute_result"
    }
   ],
   "source": [
    "wrong_expression = myDraws + ex.MonteCarlo(myDraws * myDraws)\n",
    "wrong_expression.check_draws()"
   ]
  },
  {
   "cell_type": "markdown",
   "metadata": {},
   "source": [
    "Checking the correct expression returns an empty set"
   ]
  },
  {
   "cell_type": "code",
   "execution_count": 65,
   "metadata": {
    "execution": {
     "iopub.execute_input": "2023-08-04T16:41:57.954922Z",
     "iopub.status.busy": "2023-08-04T16:41:57.954857Z",
     "iopub.status.idle": "2023-08-04T16:41:57.956705Z",
     "shell.execute_reply": "2023-08-04T16:41:57.956503Z"
    }
   },
   "outputs": [
    {
     "data": {
      "text/plain": [
       "set()"
      ]
     },
     "execution_count": 65,
     "metadata": {},
     "output_type": "execute_result"
    }
   ],
   "source": [
    "expr3.check_draws()"
   ]
  },
  {
   "cell_type": "markdown",
   "metadata": {},
   "source": [
    "The expression is a Monte-Carlo integration."
   ]
  },
  {
   "cell_type": "code",
   "execution_count": 66,
   "metadata": {
    "execution": {
     "iopub.execute_input": "2023-08-04T16:41:57.957656Z",
     "iopub.status.busy": "2023-08-04T16:41:57.957595Z",
     "iopub.status.idle": "2023-08-04T16:41:57.959361Z",
     "shell.execute_reply": "2023-08-04T16:41:57.959153Z"
    }
   },
   "outputs": [
    {
     "data": {
      "text/plain": [
       "'MonteCarlo'"
      ]
     },
     "execution_count": 66,
     "metadata": {},
     "output_type": "execute_result"
    }
   ],
   "source": [
    "expr3.getClassName()"
   ]
  },
  {
   "cell_type": "markdown",
   "metadata": {},
   "source": [
    "Note that the draws are associated with a database. Therefore, the evaluation of expressions involving Monte Carlo integration can only be done on a database. If none is provided, an exception is raised."
   ]
  },
  {
   "cell_type": "code",
   "execution_count": 67,
   "metadata": {
    "execution": {
     "iopub.execute_input": "2023-08-04T16:41:57.960317Z",
     "iopub.status.busy": "2023-08-04T16:41:57.960258Z",
     "iopub.status.idle": "2023-08-04T16:41:57.961894Z",
     "shell.execute_reply": "2023-08-04T16:41:57.961700Z"
    }
   },
   "outputs": [
    {
     "name": "stdout",
     "output_type": "stream",
     "text": [
      "Exception raised: An expression involving MonteCarlo integration must be associated with a database.\n"
     ]
    }
   ],
   "source": [
    "try:\n",
    "    expr3.getValue_c(numberOfDraws=number_of_draws)\n",
    "except excep.BiogemeError as e:\n",
    "    print(f'Exception raised: {e}')"
   ]
  },
  {
   "cell_type": "markdown",
   "metadata": {},
   "source": [
    "Here is its value. It is an approximation of $\\int_0^1 x^2 dx=\\frac{1}{3}$."
   ]
  },
  {
   "cell_type": "code",
   "execution_count": 68,
   "metadata": {
    "execution": {
     "iopub.execute_input": "2023-08-04T16:41:57.962860Z",
     "iopub.status.busy": "2023-08-04T16:41:57.962786Z",
     "iopub.status.idle": "2023-08-04T16:41:57.965184Z",
     "shell.execute_reply": "2023-08-04T16:41:57.964939Z"
    }
   },
   "outputs": [
    {
     "data": {
      "text/plain": [
       "array([0.36153315, 0.33315283, 0.33343184, 0.35781893, 0.40362015])"
      ]
     },
     "execution_count": 68,
     "metadata": {},
     "output_type": "execute_result"
    }
   ],
   "source": [
    "expr3.getValue_c(database=myData, numberOfDraws=number_of_draws, prepareIds=True)"
   ]
  },
  {
   "cell_type": "markdown",
   "metadata": {},
   "source": [
    "Here is its signature."
   ]
  },
  {
   "cell_type": "code",
   "execution_count": 69,
   "metadata": {
    "execution": {
     "iopub.execute_input": "2023-08-04T16:41:57.966149Z",
     "iopub.status.busy": "2023-08-04T16:41:57.966063Z",
     "iopub.status.idle": "2023-08-04T16:41:57.968028Z",
     "shell.execute_reply": "2023-08-04T16:41:57.967824Z"
    }
   },
   "outputs": [
    {
     "data": {
      "text/plain": [
       "[b'<bioDraws>{4962918416}\"myDraws\",0,0',\n",
       " b'<bioDraws>{4962918416}\"myDraws\",0,0',\n",
       " b'<Times>{4962867152}(2),4962918416,4962918416',\n",
       " b'<MonteCarlo>{4411267664}(1),4962867152']"
      ]
     },
     "execution_count": 69,
     "metadata": {},
     "output_type": "execute_result"
    }
   ],
   "source": [
    "expr3.prepare(database=myData, numberOfDraws=number_of_draws)\n",
    "expr3.getSignature()"
   ]
  },
  {
   "cell_type": "markdown",
   "metadata": {},
   "source": [
    "The same integral can be calculated using numerical integration, declaring a random variable. "
   ]
  },
  {
   "cell_type": "code",
   "execution_count": 70,
   "metadata": {
    "execution": {
     "iopub.execute_input": "2023-08-04T16:41:57.968948Z",
     "iopub.status.busy": "2023-08-04T16:41:57.968890Z",
     "iopub.status.idle": "2023-08-04T16:41:57.970373Z",
     "shell.execute_reply": "2023-08-04T16:41:57.970155Z"
    }
   },
   "outputs": [],
   "source": [
    "omega = ex.RandomVariable('omega')"
   ]
  },
  {
   "cell_type": "markdown",
   "metadata": {},
   "source": [
    "Numerical integration calculates integrals between $-\\infty$ and $+\\infty$. Here, the interval being $[0,1]$, a change of variables is required."
   ]
  },
  {
   "cell_type": "code",
   "execution_count": 71,
   "metadata": {
    "execution": {
     "iopub.execute_input": "2023-08-04T16:41:57.971323Z",
     "iopub.status.busy": "2023-08-04T16:41:57.971266Z",
     "iopub.status.idle": "2023-08-04T16:41:57.973027Z",
     "shell.execute_reply": "2023-08-04T16:41:57.972812Z"
    }
   },
   "outputs": [],
   "source": [
    "a = 0\n",
    "b = 1\n",
    "x = a + (b - a) / ( 1 + ex.exp(-omega))\n",
    "dx = (b - a) * ex.exp(-omega) * (1 + ex.exp(-omega))**(-2) \n",
    "integrand = x * x\n",
    "expr4 = ex.Integrate(integrand * dx /(b - a), 'omega')"
   ]
  },
  {
   "cell_type": "markdown",
   "metadata": {},
   "source": [
    "In this case, omega is a random variable."
   ]
  },
  {
   "cell_type": "code",
   "execution_count": 72,
   "metadata": {
    "execution": {
     "iopub.execute_input": "2023-08-04T16:41:57.974002Z",
     "iopub.status.busy": "2023-08-04T16:41:57.973945Z",
     "iopub.status.idle": "2023-08-04T16:41:57.975797Z",
     "shell.execute_reply": "2023-08-04T16:41:57.975594Z"
    }
   },
   "outputs": [
    {
     "data": {
      "text/plain": [
       "{'omega': omega}"
      ]
     },
     "execution_count": 72,
     "metadata": {},
     "output_type": "execute_result"
    }
   ],
   "source": [
    "expr4.dict_of_elementary_expression(TypeOfElementaryExpression.RANDOM_VARIABLE)"
   ]
  },
  {
   "cell_type": "code",
   "execution_count": 73,
   "metadata": {
    "execution": {
     "iopub.execute_input": "2023-08-04T16:41:57.976723Z",
     "iopub.status.busy": "2023-08-04T16:41:57.976635Z",
     "iopub.status.idle": "2023-08-04T16:41:57.978119Z",
     "shell.execute_reply": "2023-08-04T16:41:57.977910Z"
    }
   },
   "outputs": [
    {
     "name": "stdout",
     "output_type": "stream",
     "text": [
      "Integrate(((((`0.0` + (`1.0` / (`1.0` + exp((-omega))))) * (`0.0` + (`1.0` / (`1.0` + exp((-omega)))))) * ((`1.0` * exp((-omega))) * ((`1.0` + exp((-omega))) ** `-2.0`))) / `1.0`), \"omega\")\n"
     ]
    }
   ],
   "source": [
    "print(expr4)"
   ]
  },
  {
   "cell_type": "markdown",
   "metadata": {},
   "source": [
    "The folllowing function checks if random variables are defined outside an Integrate statement."
   ]
  },
  {
   "cell_type": "code",
   "execution_count": 74,
   "metadata": {
    "execution": {
     "iopub.execute_input": "2023-08-04T16:41:57.978990Z",
     "iopub.status.busy": "2023-08-04T16:41:57.978932Z",
     "iopub.status.idle": "2023-08-04T16:41:57.980813Z",
     "shell.execute_reply": "2023-08-04T16:41:57.980583Z"
    }
   },
   "outputs": [
    {
     "data": {
      "text/plain": [
       "{'omega'}"
      ]
     },
     "execution_count": 74,
     "metadata": {},
     "output_type": "execute_result"
    }
   ],
   "source": [
    "wrong_expression =  x * x\n",
    "wrong_expression.check_rv()"
   ]
  },
  {
   "cell_type": "markdown",
   "metadata": {},
   "source": [
    "The same function called from the correct expression returns an empty set."
   ]
  },
  {
   "cell_type": "code",
   "execution_count": 75,
   "metadata": {
    "execution": {
     "iopub.execute_input": "2023-08-04T16:41:57.981785Z",
     "iopub.status.busy": "2023-08-04T16:41:57.981723Z",
     "iopub.status.idle": "2023-08-04T16:41:57.983488Z",
     "shell.execute_reply": "2023-08-04T16:41:57.983258Z"
    }
   },
   "outputs": [
    {
     "data": {
      "text/plain": [
       "set()"
      ]
     },
     "execution_count": 75,
     "metadata": {},
     "output_type": "execute_result"
    }
   ],
   "source": [
    "expr4.check_rv()"
   ]
  },
  {
   "cell_type": "markdown",
   "metadata": {},
   "source": [
    "Calculating its value requires the C++ implementation."
   ]
  },
  {
   "cell_type": "code",
   "execution_count": 76,
   "metadata": {
    "execution": {
     "iopub.execute_input": "2023-08-04T16:41:57.984335Z",
     "iopub.status.busy": "2023-08-04T16:41:57.984276Z",
     "iopub.status.idle": "2023-08-04T16:41:57.986562Z",
     "shell.execute_reply": "2023-08-04T16:41:57.986334Z"
    }
   },
   "outputs": [
    {
     "data": {
      "text/plain": [
       "array([0.33333231, 0.33333231, 0.33333231, 0.33333231, 0.33333231])"
      ]
     },
     "execution_count": 76,
     "metadata": {},
     "output_type": "execute_result"
    }
   ],
   "source": [
    "expr4.getValue_c(myData, prepareIds=True)"
   ]
  },
  {
   "cell_type": "markdown",
   "metadata": {},
   "source": [
    "We illustrate now the Elem function. It takes two arguments: a dictionary, and a formula for the key. For each entry in the database, the formula is evaluated, and its result identifies which formula in the dictionary should be evaluated.\n",
    "Here is 'Person' is 1, the expression is $$e_1=2  \\beta_1 - \\frac{\\exp(-\\beta_2)}{\\beta_3 (\\beta_2 \\geq \\beta_1)},$$ and if 'Person' is 2, the expression is $$e_2=2 \\beta_1  V_1 - \\frac{\\exp(-\\beta_2 V_2) }{ \\beta_3  (\\beta_2 \\geq \\beta_1)}.$$ As it is a regular expression, it can be included in any formula. Here, we illustrate it by dividing the result by 10."
   ]
  },
  {
   "cell_type": "code",
   "execution_count": 77,
   "metadata": {
    "execution": {
     "iopub.execute_input": "2023-08-04T16:41:57.987481Z",
     "iopub.status.busy": "2023-08-04T16:41:57.987420Z",
     "iopub.status.idle": "2023-08-04T16:41:57.989033Z",
     "shell.execute_reply": "2023-08-04T16:41:57.988832Z"
    }
   },
   "outputs": [
    {
     "name": "stdout",
     "output_type": "stream",
     "text": [
      "({{1:((`2.0` * beta1(init=1)) - (exp((-beta2(init=2))) / ((beta2(init=2) * (beta3(fixed=3) >= beta4(fixed=2))) + (beta1(init=1) * (beta3(fixed=3) < beta4(fixed=2)))))), 2:(((`2.0` * beta1(init=1)) * Variable1) - (exp(((-beta2(init=2)) * Variable2)) / ((beta2(init=2) * (beta3(fixed=3) >= beta4(fixed=2))) + (beta1(init=1) * (beta3(fixed=3) < beta4(fixed=2))))))}[Person] / `10.0`)\n"
     ]
    }
   ],
   "source": [
    "elemExpr = ex.Elem({1: expr1, 2: expr2}, Person) \n",
    "expr5 =  elemExpr / 10\n",
    "print(expr5)"
   ]
  },
  {
   "cell_type": "code",
   "execution_count": 78,
   "metadata": {
    "execution": {
     "iopub.execute_input": "2023-08-04T16:41:57.989906Z",
     "iopub.status.busy": "2023-08-04T16:41:57.989824Z",
     "iopub.status.idle": "2023-08-04T16:41:57.991686Z",
     "shell.execute_reply": "2023-08-04T16:41:57.991492Z"
    }
   },
   "outputs": [
    {
     "data": {
      "text/plain": [
       "{'Person': Person, 'Variable1': Variable1, 'Variable2': Variable2}"
      ]
     },
     "execution_count": 78,
     "metadata": {},
     "output_type": "execute_result"
    }
   ],
   "source": [
    "expr5.dict_of_elementary_expression(TypeOfElementaryExpression.VARIABLE)"
   ]
  },
  {
   "cell_type": "markdown",
   "metadata": {},
   "source": [
    "Note that ` Variable1` and `Variable2`have previously been involved in another formula. Therefore, they have been numbered according to this formula, and this numbering is invalid for the new expression `expr5`. An error is triggered"
   ]
  },
  {
   "cell_type": "code",
   "execution_count": 79,
   "metadata": {
    "execution": {
     "iopub.execute_input": "2023-08-04T16:41:57.992688Z",
     "iopub.status.busy": "2023-08-04T16:41:57.992627Z",
     "iopub.status.idle": "2023-08-04T16:41:57.994375Z",
     "shell.execute_reply": "2023-08-04T16:41:57.994124Z"
    }
   },
   "outputs": [
    {
     "name": "stdout",
     "output_type": "stream",
     "text": [
      "Expression evaluated out of context. Set prepareIds to True.\n"
     ]
    }
   ],
   "source": [
    "try:\n",
    "    expr5.getValue_c(database=myData)\n",
    "except excep.BiogemeError as e:\n",
    "    print(e)"
   ]
  },
  {
   "cell_type": "code",
   "execution_count": 80,
   "metadata": {
    "execution": {
     "iopub.execute_input": "2023-08-04T16:41:57.995222Z",
     "iopub.status.busy": "2023-08-04T16:41:57.995166Z",
     "iopub.status.idle": "2023-08-04T16:41:57.997681Z",
     "shell.execute_reply": "2023-08-04T16:41:57.997485Z"
    }
   },
   "outputs": [
    {
     "data": {
      "text/plain": [
       "array([ 0.19323324,  0.19323324,  0.19323324,  8.        , 10.        ])"
      ]
     },
     "execution_count": 80,
     "metadata": {},
     "output_type": "execute_result"
    }
   ],
   "source": [
    "expr5.getValue_c(database=myData, prepareIds=True)"
   ]
  },
  {
   "cell_type": "code",
   "execution_count": 81,
   "metadata": {
    "execution": {
     "iopub.execute_input": "2023-08-04T16:41:57.998647Z",
     "iopub.status.busy": "2023-08-04T16:41:57.998584Z",
     "iopub.status.idle": "2023-08-04T16:41:58.000055Z",
     "shell.execute_reply": "2023-08-04T16:41:57.999846Z"
    }
   },
   "outputs": [],
   "source": [
    "testElem = ex.MonteCarlo(ex.Elem({1: myDraws * myDraws}, 1))"
   ]
  },
  {
   "cell_type": "code",
   "execution_count": 82,
   "metadata": {
    "execution": {
     "iopub.execute_input": "2023-08-04T16:41:58.000937Z",
     "iopub.status.busy": "2023-08-04T16:41:58.000875Z",
     "iopub.status.idle": "2023-08-04T16:41:58.002665Z",
     "shell.execute_reply": "2023-08-04T16:41:58.002459Z"
    }
   },
   "outputs": [
    {
     "data": {
      "text/plain": [
       "([], [])"
      ]
     },
     "execution_count": 82,
     "metadata": {},
     "output_type": "execute_result"
    }
   ],
   "source": [
    "testElem.audit()"
   ]
  },
  {
   "cell_type": "markdown",
   "metadata": {},
   "source": [
    "The next expression is simply the sum of multiple expressions. The argument is a list of expressions. "
   ]
  },
  {
   "cell_type": "code",
   "execution_count": 83,
   "metadata": {
    "execution": {
     "iopub.execute_input": "2023-08-04T16:41:58.003587Z",
     "iopub.status.busy": "2023-08-04T16:41:58.003506Z",
     "iopub.status.idle": "2023-08-04T16:41:58.004925Z",
     "shell.execute_reply": "2023-08-04T16:41:58.004715Z"
    }
   },
   "outputs": [],
   "source": [
    "expr6 = ex.bioMultSum([expr1, expr2, expr4])"
   ]
  },
  {
   "cell_type": "code",
   "execution_count": 84,
   "metadata": {
    "execution": {
     "iopub.execute_input": "2023-08-04T16:41:58.005890Z",
     "iopub.status.busy": "2023-08-04T16:41:58.005825Z",
     "iopub.status.idle": "2023-08-04T16:41:58.007339Z",
     "shell.execute_reply": "2023-08-04T16:41:58.007119Z"
    }
   },
   "outputs": [
    {
     "name": "stdout",
     "output_type": "stream",
     "text": [
      "bioMultSum(((`2.0` * beta1(init=1)) - (exp((-beta2(init=2))) / ((beta2(init=2) * (beta3(fixed=3) >= beta4(fixed=2))) + (beta1(init=1) * (beta3(fixed=3) < beta4(fixed=2)))))), (((`2.0` * beta1(init=1)) * Variable1) - (exp(((-beta2(init=2)) * Variable2)) / ((beta2(init=2) * (beta3(fixed=3) >= beta4(fixed=2))) + (beta1(init=1) * (beta3(fixed=3) < beta4(fixed=2)))))), Integrate(((((`0.0` + (`1.0` / (`1.0` + exp((-omega))))) * (`0.0` + (`1.0` / (`1.0` + exp((-omega)))))) * ((`1.0` * exp((-omega))) * ((`1.0` + exp((-omega))) ** `-2.0`))) / `1.0`), \"omega\"))\n"
     ]
    }
   ],
   "source": [
    "print(expr6)"
   ]
  },
  {
   "cell_type": "code",
   "execution_count": 85,
   "metadata": {
    "execution": {
     "iopub.execute_input": "2023-08-04T16:41:58.008275Z",
     "iopub.status.busy": "2023-08-04T16:41:58.008176Z",
     "iopub.status.idle": "2023-08-04T16:41:58.011058Z",
     "shell.execute_reply": "2023-08-04T16:41:58.010820Z"
    }
   },
   "outputs": [
    {
     "data": {
      "text/plain": [
       "array([ 22.26566467,  42.26566467,  62.26566467,  82.26566467,\n",
       "       102.26566467])"
      ]
     },
     "execution_count": 85,
     "metadata": {},
     "output_type": "execute_result"
    }
   ],
   "source": [
    "expr6.getValue_c(database=myData, numberOfDraws=number_of_draws, prepareIds=True)"
   ]
  },
  {
   "cell_type": "markdown",
   "metadata": {},
   "source": [
    "We now illustrate how to calculate a logit model, that is $$ \\frac{y_1 e^{V_1}}{y_0 e^{V_0}+y_1 e^{V_1}+y_2 e^{V_2}}$$ where $V_0=-\\beta_1$, $V_1=-\\beta_2$ and $V_2=-\\beta_1$, and $y_i = 1$, $i=1,2,3$."
   ]
  },
  {
   "cell_type": "code",
   "execution_count": 86,
   "metadata": {
    "execution": {
     "iopub.execute_input": "2023-08-04T16:41:58.011971Z",
     "iopub.status.busy": "2023-08-04T16:41:58.011896Z",
     "iopub.status.idle": "2023-08-04T16:41:58.013580Z",
     "shell.execute_reply": "2023-08-04T16:41:58.013339Z"
    }
   },
   "outputs": [],
   "source": [
    "V = {0: -beta1, 1: -beta2, 2: -beta1}\n",
    "av = {0: 1, 1: 1, 2: 1}\n",
    "expr7 = ex._bioLogLogit(V, av, 1)"
   ]
  },
  {
   "cell_type": "code",
   "execution_count": 87,
   "metadata": {
    "execution": {
     "iopub.execute_input": "2023-08-04T16:41:58.014476Z",
     "iopub.status.busy": "2023-08-04T16:41:58.014401Z",
     "iopub.status.idle": "2023-08-04T16:41:58.016097Z",
     "shell.execute_reply": "2023-08-04T16:41:58.015891Z"
    }
   },
   "outputs": [
    {
     "data": {
      "text/plain": [
       "-1.861994804058251"
      ]
     },
     "execution_count": 87,
     "metadata": {},
     "output_type": "execute_result"
    }
   ],
   "source": [
    "expr7.getValue()"
   ]
  },
  {
   "cell_type": "markdown",
   "metadata": {},
   "source": [
    "If the alternative is not in the choice set, an exception is raised."
   ]
  },
  {
   "cell_type": "code",
   "execution_count": 88,
   "metadata": {
    "execution": {
     "iopub.execute_input": "2023-08-04T16:41:58.017029Z",
     "iopub.status.busy": "2023-08-04T16:41:58.016971Z",
     "iopub.status.idle": "2023-08-04T16:41:58.018709Z",
     "shell.execute_reply": "2023-08-04T16:41:58.018489Z"
    }
   },
   "outputs": [
    {
     "name": "stdout",
     "output_type": "stream",
     "text": [
      "Exception: Alternative 3 does not appear in the list of utility functions: dict_keys([0, 1, 2])\n"
     ]
    }
   ],
   "source": [
    "expr7_wrong = ex.LogLogit(V, av, 3)\n",
    "try:\n",
    "    expr7_wrong.getValue()\n",
    "except excep.BiogemeError as e:\n",
    "    print(f'Exception: {e}')"
   ]
  },
  {
   "cell_type": "markdown",
   "metadata": {},
   "source": [
    "It is actually better to use the C++ implementation, available in the module models"
   ]
  },
  {
   "cell_type": "code",
   "execution_count": 89,
   "metadata": {
    "execution": {
     "iopub.execute_input": "2023-08-04T16:41:58.019590Z",
     "iopub.status.busy": "2023-08-04T16:41:58.019531Z",
     "iopub.status.idle": "2023-08-04T16:41:58.020990Z",
     "shell.execute_reply": "2023-08-04T16:41:58.020754Z"
    }
   },
   "outputs": [],
   "source": [
    "expr8 = models.loglogit(V, av, 1)"
   ]
  },
  {
   "cell_type": "code",
   "execution_count": 90,
   "metadata": {
    "execution": {
     "iopub.execute_input": "2023-08-04T16:41:58.021851Z",
     "iopub.status.busy": "2023-08-04T16:41:58.021796Z",
     "iopub.status.idle": "2023-08-04T16:41:58.024545Z",
     "shell.execute_reply": "2023-08-04T16:41:58.024301Z"
    }
   },
   "outputs": [
    {
     "data": {
      "text/plain": [
       "array([-1.8619948, -1.8619948, -1.8619948, -1.8619948, -1.8619948])"
      ]
     },
     "execution_count": 90,
     "metadata": {},
     "output_type": "execute_result"
    }
   ],
   "source": [
    "expr8.getValue_c(database=myData, prepareIds=True)"
   ]
  },
  {
   "cell_type": "markdown",
   "metadata": {},
   "source": [
    "As the result is a numpy array, it can be used for any calculation. Here, we show how to calculate the logsum"
   ]
  },
  {
   "cell_type": "code",
   "execution_count": 91,
   "metadata": {
    "execution": {
     "iopub.execute_input": "2023-08-04T16:41:58.025409Z",
     "iopub.status.busy": "2023-08-04T16:41:58.025345Z",
     "iopub.status.idle": "2023-08-04T16:41:58.027516Z",
     "shell.execute_reply": "2023-08-04T16:41:58.027251Z"
    }
   },
   "outputs": [
    {
     "name": "stdout",
     "output_type": "stream",
     "text": [
      "[-1. -1. -1. -1. -1.]\n",
      "[-2. -2. -2. -2. -2.]\n",
      "[-1. -1. -1. -1. -1.]\n"
     ]
    }
   ],
   "source": [
    "for v in V.values():\n",
    "    print(v.getValue_c(database=myData, prepareIds=True))"
   ]
  },
  {
   "cell_type": "code",
   "execution_count": 92,
   "metadata": {
    "execution": {
     "iopub.execute_input": "2023-08-04T16:41:58.028334Z",
     "iopub.status.busy": "2023-08-04T16:41:58.028275Z",
     "iopub.status.idle": "2023-08-04T16:41:58.030717Z",
     "shell.execute_reply": "2023-08-04T16:41:58.030500Z"
    }
   },
   "outputs": [
    {
     "data": {
      "text/plain": [
       "array([ 0.60943791, -0.39056209,  0.60943791])"
      ]
     },
     "execution_count": 92,
     "metadata": {},
     "output_type": "execute_result"
    }
   ],
   "source": [
    "logsum = np.log(np.sum([np.exp(v.getValue_c(database=myData, prepareIds=True)) \n",
    "                        for v in V.values()], axis=1))\n",
    "logsum"
   ]
  },
  {
   "cell_type": "markdown",
   "metadata": {},
   "source": [
    "It is possible to calculate the derivative of a formula with respect to a literal: $$e_9=\\frac{\\partial e_8}{\\partial \\beta_2}.$$"
   ]
  },
  {
   "cell_type": "code",
   "execution_count": 93,
   "metadata": {
    "execution": {
     "iopub.execute_input": "2023-08-04T16:41:58.031654Z",
     "iopub.status.busy": "2023-08-04T16:41:58.031594Z",
     "iopub.status.idle": "2023-08-04T16:41:58.033002Z",
     "shell.execute_reply": "2023-08-04T16:41:58.032806Z"
    }
   },
   "outputs": [],
   "source": [
    "expr9 = ex.Derive(expr8, 'beta2')"
   ]
  },
  {
   "cell_type": "code",
   "execution_count": 94,
   "metadata": {
    "execution": {
     "iopub.execute_input": "2023-08-04T16:41:58.033979Z",
     "iopub.status.busy": "2023-08-04T16:41:58.033901Z",
     "iopub.status.idle": "2023-08-04T16:41:58.036421Z",
     "shell.execute_reply": "2023-08-04T16:41:58.036201Z"
    }
   },
   "outputs": [
    {
     "data": {
      "text/plain": [
       "array([-0.8446376, -0.8446376, -0.8446376, -0.8446376, -0.8446376])"
      ]
     },
     "execution_count": 94,
     "metadata": {},
     "output_type": "execute_result"
    }
   ],
   "source": [
    "expr9.getValue_c(database=myData, prepareIds=True)"
   ]
  },
  {
   "cell_type": "code",
   "execution_count": 95,
   "metadata": {
    "execution": {
     "iopub.execute_input": "2023-08-04T16:41:58.037418Z",
     "iopub.status.busy": "2023-08-04T16:41:58.037341Z",
     "iopub.status.idle": "2023-08-04T16:41:58.039174Z",
     "shell.execute_reply": "2023-08-04T16:41:58.038925Z"
    }
   },
   "outputs": [
    {
     "data": {
      "text/plain": [
       "'beta2'"
      ]
     },
     "execution_count": 95,
     "metadata": {},
     "output_type": "execute_result"
    }
   ],
   "source": [
    "expr9.elementaryName"
   ]
  },
  {
   "cell_type": "markdown",
   "metadata": {},
   "source": [
    "Biogeme also provides an approximation of the CDF of the normal distribution: $$e_{10}= \\frac{1}{{\\sigma \\sqrt {2\\pi } }}\\int_{-\\infty}^t e^{{{ - \\left( {x - \\mu } \\right)^2 } \\mathord{\\left/ {\\vphantom {{ - \\left( {x - \\mu } \\right)^2 } {2\\sigma ^2 }}} \\right. } {2\\sigma ^2 }}}dx$$"
   ]
  },
  {
   "cell_type": "code",
   "execution_count": 96,
   "metadata": {
    "execution": {
     "iopub.execute_input": "2023-08-04T16:41:58.040056Z",
     "iopub.status.busy": "2023-08-04T16:41:58.040002Z",
     "iopub.status.idle": "2023-08-04T16:41:58.041597Z",
     "shell.execute_reply": "2023-08-04T16:41:58.041374Z"
    }
   },
   "outputs": [],
   "source": [
    "expr10 = ex.bioNormalCdf(Variable1 / 10 - 1)"
   ]
  },
  {
   "cell_type": "code",
   "execution_count": 97,
   "metadata": {
    "execution": {
     "iopub.execute_input": "2023-08-04T16:41:58.042407Z",
     "iopub.status.busy": "2023-08-04T16:41:58.042352Z",
     "iopub.status.idle": "2023-08-04T16:41:58.044273Z",
     "shell.execute_reply": "2023-08-04T16:41:58.044049Z"
    }
   },
   "outputs": [
    {
     "data": {
      "text/plain": [
       "array([0.5       , 0.84134475, 0.97724987, 0.9986501 , 0.99996833])"
      ]
     },
     "execution_count": 97,
     "metadata": {},
     "output_type": "execute_result"
    }
   ],
   "source": [
    "expr10.getValue_c(database=myData, prepareIds=True)"
   ]
  },
  {
   "cell_type": "markdown",
   "metadata": {},
   "source": [
    "Min and max operators are also available. To avoid any ambiguity with the Python operator, they are called bioMin and bioMax. "
   ]
  },
  {
   "cell_type": "code",
   "execution_count": 98,
   "metadata": {
    "execution": {
     "iopub.execute_input": "2023-08-04T16:41:58.045210Z",
     "iopub.status.busy": "2023-08-04T16:41:58.045149Z",
     "iopub.status.idle": "2023-08-04T16:41:58.047650Z",
     "shell.execute_reply": "2023-08-04T16:41:58.047420Z"
    }
   },
   "outputs": [
    {
     "data": {
      "text/plain": [
       "array([0.19323324, 0.19323324, 0.19323324, 0.9986501 , 0.99996833])"
      ]
     },
     "execution_count": 98,
     "metadata": {},
     "output_type": "execute_result"
    }
   ],
   "source": [
    "expr11 = ex.bioMin(expr5, expr10)\n",
    "expr11.getValue_c(database=myData, prepareIds=True)"
   ]
  },
  {
   "cell_type": "code",
   "execution_count": 99,
   "metadata": {
    "execution": {
     "iopub.execute_input": "2023-08-04T16:41:58.048521Z",
     "iopub.status.busy": "2023-08-04T16:41:58.048459Z",
     "iopub.status.idle": "2023-08-04T16:41:58.050945Z",
     "shell.execute_reply": "2023-08-04T16:41:58.050715Z"
    }
   },
   "outputs": [
    {
     "data": {
      "text/plain": [
       "array([ 0.5       ,  0.84134475,  0.97724987,  8.        , 10.        ])"
      ]
     },
     "execution_count": 99,
     "metadata": {},
     "output_type": "execute_result"
    }
   ],
   "source": [
    "expr12 = ex.bioMax(expr5, expr10)\n",
    "expr12.getValue_c(database=myData, prepareIds=True)"
   ]
  },
  {
   "cell_type": "markdown",
   "metadata": {},
   "source": [
    "For the sake of efficiency, it is possible to specify explicitly a linear function, where each term is the product of a parameter and a variable."
   ]
  },
  {
   "cell_type": "code",
   "execution_count": 100,
   "metadata": {
    "execution": {
     "iopub.execute_input": "2023-08-04T16:41:58.051874Z",
     "iopub.status.busy": "2023-08-04T16:41:58.051814Z",
     "iopub.status.idle": "2023-08-04T16:41:58.053354Z",
     "shell.execute_reply": "2023-08-04T16:41:58.053143Z"
    }
   },
   "outputs": [],
   "source": [
    "terms = [(beta1, ex.Variable('Variable1')),\n",
    "         (beta2, ex.Variable('Variable2')),\n",
    "         (beta3, ex.Variable('newvar_b'))]"
   ]
  },
  {
   "cell_type": "code",
   "execution_count": 101,
   "metadata": {
    "execution": {
     "iopub.execute_input": "2023-08-04T16:41:58.054202Z",
     "iopub.status.busy": "2023-08-04T16:41:58.054130Z",
     "iopub.status.idle": "2023-08-04T16:41:58.055499Z",
     "shell.execute_reply": "2023-08-04T16:41:58.055288Z"
    }
   },
   "outputs": [],
   "source": [
    "expr13 = ex.bioLinearUtility(terms)"
   ]
  },
  {
   "cell_type": "code",
   "execution_count": 102,
   "metadata": {
    "execution": {
     "iopub.execute_input": "2023-08-04T16:41:58.056373Z",
     "iopub.status.busy": "2023-08-04T16:41:58.056310Z",
     "iopub.status.idle": "2023-08-04T16:41:58.058357Z",
     "shell.execute_reply": "2023-08-04T16:41:58.058122Z"
    }
   },
   "outputs": [
    {
     "data": {
      "text/plain": [
       "array([ 540., 1080., 1620., 2160., 2700.])"
      ]
     },
     "execution_count": 102,
     "metadata": {},
     "output_type": "execute_result"
    }
   ],
   "source": [
    "expr13.getValue_c(database=myData, prepareIds=True)"
   ]
  },
  {
   "cell_type": "markdown",
   "metadata": {},
   "source": [
    "In terms of specification, it is equivalent to the expression below. But the calculation of the derivatives is more efficient, as the linear structure of the specification is exploited."
   ]
  },
  {
   "cell_type": "code",
   "execution_count": 103,
   "metadata": {
    "execution": {
     "iopub.execute_input": "2023-08-04T16:41:58.059311Z",
     "iopub.status.busy": "2023-08-04T16:41:58.059221Z",
     "iopub.status.idle": "2023-08-04T16:41:58.060701Z",
     "shell.execute_reply": "2023-08-04T16:41:58.060459Z"
    }
   },
   "outputs": [],
   "source": [
    "expr13bis = beta1 * Variable1 + beta2 * Variable2 + beta3 * newvar_b"
   ]
  },
  {
   "cell_type": "code",
   "execution_count": 104,
   "metadata": {
    "execution": {
     "iopub.execute_input": "2023-08-04T16:41:58.061630Z",
     "iopub.status.busy": "2023-08-04T16:41:58.061569Z",
     "iopub.status.idle": "2023-08-04T16:41:58.063751Z",
     "shell.execute_reply": "2023-08-04T16:41:58.063511Z"
    }
   },
   "outputs": [
    {
     "data": {
      "text/plain": [
       "array([ 540., 1080., 1620., 2160., 2700.])"
      ]
     },
     "execution_count": 104,
     "metadata": {},
     "output_type": "execute_result"
    }
   ],
   "source": [
    "expr13bis.getValue_c(database=myData, prepareIds=True)"
   ]
  },
  {
   "cell_type": "markdown",
   "metadata": {},
   "source": [
    "A Pythonic way to write a linear utility function"
   ]
  },
  {
   "cell_type": "code",
   "execution_count": 105,
   "metadata": {
    "execution": {
     "iopub.execute_input": "2023-08-04T16:41:58.064631Z",
     "iopub.status.busy": "2023-08-04T16:41:58.064572Z",
     "iopub.status.idle": "2023-08-04T16:41:58.066518Z",
     "shell.execute_reply": "2023-08-04T16:41:58.066291Z"
    }
   },
   "outputs": [
    {
     "name": "stdout",
     "output_type": "stream",
     "text": [
      "((((((`0.0` + (beta_v1(init=0) * v1)) + (beta_v2(init=0) * v2)) + (beta_v3(init=0) * v3)) + (beta_cost(init=0) * cost)) + (beta_time(init=0) * time)) + (beta_headway(init=0) * headway))\n"
     ]
    }
   ],
   "source": [
    "variables = ['v1', 'v2', 'v3', 'cost', 'time', 'headway']\n",
    "coefficients = {f'{v}': ex.Beta(f'beta_{v}', 0, None, None, 0) \n",
    "                for v in variables}\n",
    "terms = [coefficients[v] * ex.Variable(v) for v in variables]\n",
    "util = sum(terms)\n",
    "print(util)"
   ]
  },
  {
   "cell_type": "markdown",
   "metadata": {},
   "source": [
    "If the data is organized a panel data, it means that several rows correspond to the same individual. The expression `PanelLikelihoodTrajectory` calculates the product of the expression evaluated for each row. If Monte Carlo integration is involved, the same draws are used for each them."
   ]
  },
  {
   "cell_type": "markdown",
   "metadata": {},
   "source": [
    "Our database contains 5 observations."
   ]
  },
  {
   "cell_type": "code",
   "execution_count": 106,
   "metadata": {
    "execution": {
     "iopub.execute_input": "2023-08-04T16:41:58.067479Z",
     "iopub.status.busy": "2023-08-04T16:41:58.067407Z",
     "iopub.status.idle": "2023-08-04T16:41:58.069164Z",
     "shell.execute_reply": "2023-08-04T16:41:58.068951Z"
    }
   },
   "outputs": [
    {
     "data": {
      "text/plain": [
       "5"
      ]
     },
     "execution_count": 106,
     "metadata": {},
     "output_type": "execute_result"
    }
   ],
   "source": [
    "myData.getSampleSize()"
   ]
  },
  {
   "cell_type": "code",
   "execution_count": 107,
   "metadata": {
    "execution": {
     "iopub.execute_input": "2023-08-04T16:41:58.070013Z",
     "iopub.status.busy": "2023-08-04T16:41:58.069957Z",
     "iopub.status.idle": "2023-08-04T16:41:58.073290Z",
     "shell.execute_reply": "2023-08-04T16:41:58.073060Z"
    }
   },
   "outputs": [],
   "source": [
    "myData.panel('Person')"
   ]
  },
  {
   "cell_type": "markdown",
   "metadata": {},
   "source": [
    "Once the data has been labeled as \"panel\", it is considered that there are only two series of observations, corresponding to each person. Each of these observations is associated with several rows of observations."
   ]
  },
  {
   "cell_type": "code",
   "execution_count": 108,
   "metadata": {
    "execution": {
     "iopub.execute_input": "2023-08-04T16:41:58.074179Z",
     "iopub.status.busy": "2023-08-04T16:41:58.074123Z",
     "iopub.status.idle": "2023-08-04T16:41:58.075825Z",
     "shell.execute_reply": "2023-08-04T16:41:58.075618Z"
    }
   },
   "outputs": [
    {
     "data": {
      "text/plain": [
       "2"
      ]
     },
     "execution_count": 108,
     "metadata": {},
     "output_type": "execute_result"
    }
   ],
   "source": [
    "myData.getSampleSize()"
   ]
  },
  {
   "cell_type": "markdown",
   "metadata": {},
   "source": [
    "If we try to evaluate again the integral $\\int_0^1 x^2 dx=\\frac{1}{3}$, an exception is raised."
   ]
  },
  {
   "cell_type": "code",
   "execution_count": 109,
   "metadata": {
    "execution": {
     "iopub.execute_input": "2023-08-04T16:41:58.076661Z",
     "iopub.status.busy": "2023-08-04T16:41:58.076601Z",
     "iopub.status.idle": "2023-08-04T16:41:58.078318Z",
     "shell.execute_reply": "2023-08-04T16:41:58.078125Z"
    }
   },
   "outputs": [
    {
     "name": "stderr",
     "output_type": "stream",
     "text": [
      "As the database is panel, the argument of MonteCarlo must contain a PanelLikelihoodTrajectory: MonteCarlo((bioDraws(\"myDraws\", \"UNIFORM\") * bioDraws(\"myDraws\", \"UNIFORM\"))) \n"
     ]
    },
    {
     "name": "stdout",
     "output_type": "stream",
     "text": [
      "Exception: As the database is panel, the argument of MonteCarlo must contain a PanelLikelihoodTrajectory: MonteCarlo((bioDraws(\"myDraws\", \"UNIFORM\") * bioDraws(\"myDraws\", \"UNIFORM\")))\n"
     ]
    }
   ],
   "source": [
    "try:\n",
    "    expr3.getValue_c(database=myData)\n",
    "except excep.BiogemeError as e:\n",
    "    print(f'Exception: {e}')"
   ]
  },
  {
   "cell_type": "markdown",
   "metadata": {},
   "source": [
    "This is detected by the `audit` function, called before the expression is evaluated."
   ]
  },
  {
   "cell_type": "code",
   "execution_count": 110,
   "metadata": {
    "execution": {
     "iopub.execute_input": "2023-08-04T16:41:58.079187Z",
     "iopub.status.busy": "2023-08-04T16:41:58.079110Z",
     "iopub.status.idle": "2023-08-04T16:41:58.080827Z",
     "shell.execute_reply": "2023-08-04T16:41:58.080628Z"
    }
   },
   "outputs": [
    {
     "data": {
      "text/plain": [
       "(['As the database is panel, the argument of MonteCarlo must contain a PanelLikelihoodTrajectory: MonteCarlo((bioDraws(\"myDraws\", \"UNIFORM\") * bioDraws(\"myDraws\", \"UNIFORM\")))'],\n",
       " [])"
      ]
     },
     "execution_count": 110,
     "metadata": {},
     "output_type": "execute_result"
    }
   ],
   "source": [
    "expr3.audit(database=myData)"
   ]
  },
  {
   "cell_type": "markdown",
   "metadata": {},
   "source": [
    "We now evaluate an expression for panel data."
   ]
  },
  {
   "cell_type": "code",
   "execution_count": 111,
   "metadata": {
    "execution": {
     "iopub.execute_input": "2023-08-04T16:41:58.081673Z",
     "iopub.status.busy": "2023-08-04T16:41:58.081616Z",
     "iopub.status.idle": "2023-08-04T16:41:58.083616Z",
     "shell.execute_reply": "2023-08-04T16:41:58.083431Z"
    }
   },
   "outputs": [],
   "source": [
    "c1 = ex.bioDraws('draws1', 'NORMAL_HALTON2')\n",
    "c2 = ex.bioDraws('draws2', 'NORMAL_HALTON2')\n",
    "U1 = ex.Beta('beta1', 0, None, None, 0) * Variable1 + 10 * c1\n",
    "U2 = ex.Beta('beta2', 0, None, None, 0) * Variable2 + 10 * c2\n",
    "U3 = 0\n",
    "U = {1: U1, 2: U2, 3: U3}\n",
    "av = {1: Av1, 2: Av2, 3: Av3}\n",
    "expr14 = ex.log(ex.MonteCarlo(ex.PanelLikelihoodTrajectory(models.logit(U, av, Choice))))"
   ]
  },
  {
   "cell_type": "code",
   "execution_count": 112,
   "metadata": {
    "execution": {
     "iopub.execute_input": "2023-08-04T16:41:58.084530Z",
     "iopub.status.busy": "2023-08-04T16:41:58.084457Z",
     "iopub.status.idle": "2023-08-04T16:41:58.086645Z",
     "shell.execute_reply": "2023-08-04T16:41:58.086437Z"
    }
   },
   "outputs": [
    {
     "data": {
      "text/plain": [
       "log(MonteCarlo(PanelLikelihoodTrajectory(exp(_bioLogLogit[choice=Choice]U=(1:((beta1(init=0) * Variable1) + (`10.0` * bioDraws(\"draws1\", \"NORMAL_HALTON2\"))), 2:((beta2(init=0) * Variable2) + (`10.0` * bioDraws(\"draws2\", \"NORMAL_HALTON2\"))), 3:`0.0`)av=(1:Av1, 2:Av2, 3:Av3)))))"
      ]
     },
     "execution_count": 112,
     "metadata": {},
     "output_type": "execute_result"
    }
   ],
   "source": [
    "expr14.prepare(database=myData, numberOfDraws=number_of_draws)\n",
    "expr14"
   ]
  },
  {
   "cell_type": "code",
   "execution_count": 113,
   "metadata": {
    "execution": {
     "iopub.execute_input": "2023-08-04T16:41:58.087537Z",
     "iopub.status.busy": "2023-08-04T16:41:58.087477Z",
     "iopub.status.idle": "2023-08-04T16:41:58.091614Z",
     "shell.execute_reply": "2023-08-04T16:41:58.091404Z"
    }
   },
   "outputs": [
    {
     "data": {
      "text/plain": [
       "array([-3.91914292, -2.11209896])"
      ]
     },
     "execution_count": 113,
     "metadata": {},
     "output_type": "execute_result"
    }
   ],
   "source": [
    "expr14.getValue_c(database=myData, numberOfDraws=number_of_draws, prepareIds=True)"
   ]
  },
  {
   "cell_type": "code",
   "execution_count": 114,
   "metadata": {
    "execution": {
     "iopub.execute_input": "2023-08-04T16:41:58.092542Z",
     "iopub.status.busy": "2023-08-04T16:41:58.092475Z",
     "iopub.status.idle": "2023-08-04T16:41:58.096575Z",
     "shell.execute_reply": "2023-08-04T16:41:58.096361Z"
    }
   },
   "outputs": [
    {
     "data": {
      "text/plain": [
       "(array([-3.91914292, -2.11209896]),\n",
       " array([[-12.31921998,  76.80780015],\n",
       "        [ -3.14130423,  68.58695767]]),\n",
       " array([[[  -165.65755306,   1546.42166536],\n",
       "         [  1546.42166536, -16565.75530623]],\n",
       " \n",
       "        [[  -987.62129533,   9777.04786414],\n",
       "         [  9777.04786414, -98762.12953279]]]),\n",
       " array([[[ 151.76318103, -946.21218663],\n",
       "         [-946.21218663, 5899.4381646 ]],\n",
       " \n",
       "        [[   9.86779229, -215.45250047],\n",
       "         [-215.45250047, 4704.17076195]]]))"
      ]
     },
     "execution_count": 114,
     "metadata": {},
     "output_type": "execute_result"
    }
   ],
   "source": [
    "expr14.getValueAndDerivatives(database=myData, numberOfDraws=number_of_draws, gradient=True, hessian=True, aggregation=False)"
   ]
  },
  {
   "cell_type": "code",
   "execution_count": 115,
   "metadata": {
    "execution": {
     "iopub.execute_input": "2023-08-04T16:41:58.097497Z",
     "iopub.status.busy": "2023-08-04T16:41:58.097434Z",
     "iopub.status.idle": "2023-08-04T16:41:58.101316Z",
     "shell.execute_reply": "2023-08-04T16:41:58.101065Z"
    }
   },
   "outputs": [
    {
     "data": {
      "text/plain": [
       "(-6.0312418791725335,\n",
       " array([-15.46052422, 145.39475782]),\n",
       " array([[  -1153.27884839,   11323.46952949],\n",
       "        [  11323.46952949, -115327.88483902]]),\n",
       " array([[  161.63097331, -1161.6646871 ],\n",
       "        [-1161.6646871 , 10603.60892655]]))"
      ]
     },
     "execution_count": 115,
     "metadata": {},
     "output_type": "execute_result"
    }
   ],
   "source": [
    "expr14.getValueAndDerivatives(database=myData, numberOfDraws=number_of_draws, gradient=True, hessian=True, aggregation=True)"
   ]
  },
  {
   "cell_type": "markdown",
   "metadata": {},
   "source": [
    "A Python function can also be obtained for this expression. Note that it is available only for the aggregated version, summing over the database."
   ]
  },
  {
   "cell_type": "code",
   "execution_count": 116,
   "metadata": {
    "execution": {
     "iopub.execute_input": "2023-08-04T16:41:58.102315Z",
     "iopub.status.busy": "2023-08-04T16:41:58.102214Z",
     "iopub.status.idle": "2023-08-04T16:41:58.103733Z",
     "shell.execute_reply": "2023-08-04T16:41:58.103502Z"
    }
   },
   "outputs": [],
   "source": [
    "the_function = expr14.createFunction(database=myData, numberOfDraws=number_of_draws, gradient=True, hessian=True)"
   ]
  },
  {
   "cell_type": "code",
   "execution_count": 117,
   "metadata": {
    "execution": {
     "iopub.execute_input": "2023-08-04T16:41:58.104632Z",
     "iopub.status.busy": "2023-08-04T16:41:58.104575Z",
     "iopub.status.idle": "2023-08-04T16:41:58.108009Z",
     "shell.execute_reply": "2023-08-04T16:41:58.107810Z"
    }
   },
   "outputs": [
    {
     "data": {
      "text/plain": [
       "(-6.0312418791725335,\n",
       " array([-15.46052422, 145.39475782]),\n",
       " array([[  -1153.27884839,   11323.46952949],\n",
       "        [  11323.46952949, -115327.88483902]]))"
      ]
     },
     "execution_count": 117,
     "metadata": {},
     "output_type": "execute_result"
    }
   ],
   "source": [
    "the_function([0, 0])"
   ]
  },
  {
   "cell_type": "code",
   "execution_count": 118,
   "metadata": {
    "execution": {
     "iopub.execute_input": "2023-08-04T16:41:58.108900Z",
     "iopub.status.busy": "2023-08-04T16:41:58.108832Z",
     "iopub.status.idle": "2023-08-04T16:41:58.112482Z",
     "shell.execute_reply": "2023-08-04T16:41:58.112265Z"
    }
   },
   "outputs": [
    {
     "data": {
      "text/plain": [
       "(-49.645666583910895,\n",
       " array([  39.99999992, -553.04056325]),\n",
       " array([[-1.62802916e-06,  1.46098013e-05],\n",
       "        [ 1.46098013e-05, -1.18518603e+03]]))"
      ]
     },
     "execution_count": 118,
     "metadata": {},
     "output_type": "execute_result"
    }
   ],
   "source": [
    "the_function([0.1, 0.1])"
   ]
  },
  {
   "cell_type": "markdown",
   "metadata": {},
   "source": [
    "It is possible to fix the value of some (or all) beta parameters"
   ]
  },
  {
   "cell_type": "code",
   "execution_count": 119,
   "metadata": {
    "execution": {
     "iopub.execute_input": "2023-08-04T16:41:58.113429Z",
     "iopub.status.busy": "2023-08-04T16:41:58.113366Z",
     "iopub.status.idle": "2023-08-04T16:41:58.114871Z",
     "shell.execute_reply": "2023-08-04T16:41:58.114644Z"
    }
   },
   "outputs": [
    {
     "name": "stdout",
     "output_type": "stream",
     "text": [
      "log(MonteCarlo(PanelLikelihoodTrajectory(exp(_bioLogLogit[choice=Choice]U=(1:((beta1(init=0) * Variable1) + (`10.0` * bioDraws(\"draws1\", \"NORMAL_HALTON2\"))), 2:((beta2(init=0) * Variable2) + (`10.0` * bioDraws(\"draws2\", \"NORMAL_HALTON2\"))), 3:`0.0`)av=(1:Av1, 2:Av2, 3:Av3)))))\n"
     ]
    }
   ],
   "source": [
    "print(expr14)"
   ]
  },
  {
   "cell_type": "code",
   "execution_count": 120,
   "metadata": {
    "execution": {
     "iopub.execute_input": "2023-08-04T16:41:58.115882Z",
     "iopub.status.busy": "2023-08-04T16:41:58.115793Z",
     "iopub.status.idle": "2023-08-04T16:41:58.117287Z",
     "shell.execute_reply": "2023-08-04T16:41:58.117087Z"
    }
   },
   "outputs": [],
   "source": [
    "expr14.fix_betas({'beta2': 0.123})"
   ]
  },
  {
   "cell_type": "code",
   "execution_count": 121,
   "metadata": {
    "execution": {
     "iopub.execute_input": "2023-08-04T16:41:58.118136Z",
     "iopub.status.busy": "2023-08-04T16:41:58.118060Z",
     "iopub.status.idle": "2023-08-04T16:41:58.119468Z",
     "shell.execute_reply": "2023-08-04T16:41:58.119272Z"
    }
   },
   "outputs": [
    {
     "name": "stdout",
     "output_type": "stream",
     "text": [
      "log(MonteCarlo(PanelLikelihoodTrajectory(exp(_bioLogLogit[choice=Choice]U=(1:((beta1(init=0) * Variable1) + (`10.0` * bioDraws(\"draws1\", \"NORMAL_HALTON2\"))), 2:((beta2(fixed=0.123) * Variable2) + (`10.0` * bioDraws(\"draws2\", \"NORMAL_HALTON2\"))), 3:`0.0`)av=(1:Av1, 2:Av2, 3:Av3)))))\n"
     ]
    }
   ],
   "source": [
    "print(expr14)"
   ]
  },
  {
   "cell_type": "markdown",
   "metadata": {},
   "source": [
    "The name of the parameter can also be changed while fixing its value."
   ]
  },
  {
   "cell_type": "code",
   "execution_count": 122,
   "metadata": {
    "execution": {
     "iopub.execute_input": "2023-08-04T16:41:58.120370Z",
     "iopub.status.busy": "2023-08-04T16:41:58.120306Z",
     "iopub.status.idle": "2023-08-04T16:41:58.121775Z",
     "shell.execute_reply": "2023-08-04T16:41:58.121558Z"
    }
   },
   "outputs": [],
   "source": [
    "expr14.fix_betas({'beta2': 123}, prefix='prefix_', suffix='_suffix')"
   ]
  },
  {
   "cell_type": "code",
   "execution_count": 123,
   "metadata": {
    "execution": {
     "iopub.execute_input": "2023-08-04T16:41:58.122691Z",
     "iopub.status.busy": "2023-08-04T16:41:58.122630Z",
     "iopub.status.idle": "2023-08-04T16:41:58.124102Z",
     "shell.execute_reply": "2023-08-04T16:41:58.123878Z"
    }
   },
   "outputs": [
    {
     "name": "stdout",
     "output_type": "stream",
     "text": [
      "log(MonteCarlo(PanelLikelihoodTrajectory(exp(_bioLogLogit[choice=Choice]U=(1:((beta1(init=0) * Variable1) + (`10.0` * bioDraws(\"draws1\", \"NORMAL_HALTON2\"))), 2:((prefix_beta2_suffix(fixed=123) * Variable2) + (`10.0` * bioDraws(\"draws2\", \"NORMAL_HALTON2\"))), 3:`0.0`)av=(1:Av1, 2:Av2, 3:Av3)))))\n"
     ]
    }
   ],
   "source": [
    "print(expr14)"
   ]
  },
  {
   "cell_type": "markdown",
   "metadata": {},
   "source": [
    "It can also be renamed using the following function."
   ]
  },
  {
   "cell_type": "code",
   "execution_count": 124,
   "metadata": {
    "execution": {
     "iopub.execute_input": "2023-08-04T16:41:58.125023Z",
     "iopub.status.busy": "2023-08-04T16:41:58.124938Z",
     "iopub.status.idle": "2023-08-04T16:41:58.126469Z",
     "shell.execute_reply": "2023-08-04T16:41:58.126262Z"
    }
   },
   "outputs": [],
   "source": [
    "expr14.rename_elementary(['prefix_beta2_suffix'], prefix='PREFIX_', suffix='_SUFFIX')"
   ]
  },
  {
   "cell_type": "code",
   "execution_count": 125,
   "metadata": {
    "execution": {
     "iopub.execute_input": "2023-08-04T16:41:58.127352Z",
     "iopub.status.busy": "2023-08-04T16:41:58.127284Z",
     "iopub.status.idle": "2023-08-04T16:41:58.128753Z",
     "shell.execute_reply": "2023-08-04T16:41:58.128520Z"
    }
   },
   "outputs": [
    {
     "name": "stdout",
     "output_type": "stream",
     "text": [
      "log(MonteCarlo(PanelLikelihoodTrajectory(exp(_bioLogLogit[choice=Choice]U=(1:((beta1(init=0) * Variable1) + (`10.0` * bioDraws(\"draws1\", \"NORMAL_HALTON2\"))), 2:((PREFIX_prefix_beta2_suffix_SUFFIX(fixed=123) * Variable2) + (`10.0` * bioDraws(\"draws2\", \"NORMAL_HALTON2\"))), 3:`0.0`)av=(1:Av1, 2:Av2, 3:Av3)))))\n"
     ]
    }
   ],
   "source": [
    "print(expr14)"
   ]
  },
  {
   "cell_type": "markdown",
   "metadata": {},
   "source": [
    "# Signatures"
   ]
  },
  {
   "cell_type": "markdown",
   "metadata": {},
   "source": [
    "The Python library communicates the expressions to the C++ library using a syntax called a \"signature\". We describe and illustrate now the signature for each expression. Each expression is identified by an identifier provided by Python using the function 'id'. "
   ]
  },
  {
   "cell_type": "code",
   "execution_count": 126,
   "metadata": {
    "execution": {
     "iopub.execute_input": "2023-08-04T16:41:58.129674Z",
     "iopub.status.busy": "2023-08-04T16:41:58.129615Z",
     "iopub.status.idle": "2023-08-04T16:41:58.131328Z",
     "shell.execute_reply": "2023-08-04T16:41:58.131130Z"
    }
   },
   "outputs": [
    {
     "data": {
      "text/plain": [
       "4962624016"
      ]
     },
     "execution_count": 126,
     "metadata": {},
     "output_type": "execute_result"
    }
   ],
   "source": [
    "id(expr1)"
   ]
  },
  {
   "cell_type": "markdown",
   "metadata": {},
   "source": [
    "## Numerical expression"
   ]
  },
  {
   "cell_type": "markdown",
   "metadata": {},
   "source": [
    "&lt;Numeric&gt;{identifier},value"
   ]
  },
  {
   "cell_type": "code",
   "execution_count": 127,
   "metadata": {
    "execution": {
     "iopub.execute_input": "2023-08-04T16:41:58.132296Z",
     "iopub.status.busy": "2023-08-04T16:41:58.132218Z",
     "iopub.status.idle": "2023-08-04T16:41:58.133917Z",
     "shell.execute_reply": "2023-08-04T16:41:58.133715Z"
    }
   },
   "outputs": [
    {
     "data": {
      "text/plain": [
       "[b'<Numeric>{5268280400},0.0']"
      ]
     },
     "execution_count": 127,
     "metadata": {},
     "output_type": "execute_result"
    }
   ],
   "source": [
    "ex.Numeric(0).getSignature()"
   ]
  },
  {
   "cell_type": "markdown",
   "metadata": {},
   "source": [
    "## Beta parameters"
   ]
  },
  {
   "cell_type": "markdown",
   "metadata": {},
   "source": [
    "&lt;Beta&gt;{identifier}\"name\"[status],uniqueId,betaId'\n",
    "where \n",
    "- status is 0 for free parameters, and non zero for fixed parameters,\n",
    "- uniqueId is a unique index given by Biogeme to all elementary expressions,\n",
    "- betaId is a unique index given by Biogeme to all free parameters, and to all fixed parameters."
   ]
  },
  {
   "cell_type": "markdown",
   "metadata": {},
   "source": [
    "As the signature requires an Id, we need to prepare the expression first. "
   ]
  },
  {
   "cell_type": "code",
   "execution_count": 128,
   "metadata": {
    "execution": {
     "iopub.execute_input": "2023-08-04T16:41:58.134851Z",
     "iopub.status.busy": "2023-08-04T16:41:58.134793Z",
     "iopub.status.idle": "2023-08-04T16:41:58.136762Z",
     "shell.execute_reply": "2023-08-04T16:41:58.136556Z"
    }
   },
   "outputs": [
    {
     "data": {
      "text/plain": [
       "[b'<Beta>{4962783440}\"beta1\"[0],0,0']"
      ]
     },
     "execution_count": 128,
     "metadata": {},
     "output_type": "execute_result"
    }
   ],
   "source": [
    "beta1.prepare(database=myData, numberOfDraws=0)\n",
    "beta1.getSignature()"
   ]
  },
  {
   "cell_type": "code",
   "execution_count": 129,
   "metadata": {
    "execution": {
     "iopub.execute_input": "2023-08-04T16:41:58.137570Z",
     "iopub.status.busy": "2023-08-04T16:41:58.137515Z",
     "iopub.status.idle": "2023-08-04T16:41:58.139340Z",
     "shell.execute_reply": "2023-08-04T16:41:58.139147Z"
    }
   },
   "outputs": [
    {
     "data": {
      "text/plain": [
       "[b'<Beta>{4962788112}\"beta3\"[1],0,0']"
      ]
     },
     "execution_count": 129,
     "metadata": {},
     "output_type": "execute_result"
    }
   ],
   "source": [
    "beta3.prepare(database=myData, numberOfDraws=0)\n",
    "beta3.getSignature()"
   ]
  },
  {
   "cell_type": "markdown",
   "metadata": {},
   "source": [
    "## Variables"
   ]
  },
  {
   "cell_type": "markdown",
   "metadata": {},
   "source": [
    "&lt;Variable&gt;{identifier}\"name\",uniqueId,variableId \n",
    "where\n",
    "- uniqueId is a unique index given by Biogeme to all elementary expressions,\n",
    "- variableId is a unique index given by Biogeme to all variables.\n"
   ]
  },
  {
   "cell_type": "code",
   "execution_count": 130,
   "metadata": {
    "execution": {
     "iopub.execute_input": "2023-08-04T16:41:58.140325Z",
     "iopub.status.busy": "2023-08-04T16:41:58.140266Z",
     "iopub.status.idle": "2023-08-04T16:41:58.142024Z",
     "shell.execute_reply": "2023-08-04T16:41:58.141800Z"
    }
   },
   "outputs": [
    {
     "data": {
      "text/plain": [
       "[b'<Variable>{4962714128}\"Variable1\",6,2']"
      ]
     },
     "execution_count": 130,
     "metadata": {},
     "output_type": "execute_result"
    }
   ],
   "source": [
    "Variable1.getSignature()"
   ]
  },
  {
   "cell_type": "markdown",
   "metadata": {},
   "source": [
    "## Random variables"
   ]
  },
  {
   "cell_type": "markdown",
   "metadata": {},
   "source": [
    "&lt;RandomVariable&gt;{identifier}\"name\",uniqueId,randomVariableId\n",
    "where\n",
    "- uniqueId is a unique index given by Biogeme to all elementary expressions,\n",
    "- randomVariableId is a unique index given by Biogeme to all random variables."
   ]
  },
  {
   "cell_type": "code",
   "execution_count": 131,
   "metadata": {
    "execution": {
     "iopub.execute_input": "2023-08-04T16:41:58.142991Z",
     "iopub.status.busy": "2023-08-04T16:41:58.142931Z",
     "iopub.status.idle": "2023-08-04T16:41:58.144760Z",
     "shell.execute_reply": "2023-08-04T16:41:58.144564Z"
    }
   },
   "outputs": [
    {
     "data": {
      "text/plain": [
       "[b'<RandomVariable>{4962616656}\"omega\",0,0']"
      ]
     },
     "execution_count": 131,
     "metadata": {},
     "output_type": "execute_result"
    }
   ],
   "source": [
    "omega.prepare(database=myData, numberOfDraws=0)\n",
    "omega.getSignature()"
   ]
  },
  {
   "cell_type": "markdown",
   "metadata": {},
   "source": [
    "## Draws"
   ]
  },
  {
   "cell_type": "markdown",
   "metadata": {},
   "source": [
    "&lt;bioDraws&gt;{identifier}\"name\",uniqueId,drawId\n",
    "where\n",
    "- uniqueId is a unique index given by Biogeme to all elementary expressions,\n",
    "- drawId is a unique index given by Biogeme to all draws.\n"
   ]
  },
  {
   "cell_type": "code",
   "execution_count": 132,
   "metadata": {
    "execution": {
     "iopub.execute_input": "2023-08-04T16:41:58.145631Z",
     "iopub.status.busy": "2023-08-04T16:41:58.145559Z",
     "iopub.status.idle": "2023-08-04T16:41:58.147403Z",
     "shell.execute_reply": "2023-08-04T16:41:58.147203Z"
    }
   },
   "outputs": [
    {
     "data": {
      "text/plain": [
       "[b'<bioDraws>{4962918416}\"myDraws\",0,0']"
      ]
     },
     "execution_count": 132,
     "metadata": {},
     "output_type": "execute_result"
    }
   ],
   "source": [
    "myDraws.prepare(database=myData, numberOfDraws=number_of_draws)\n",
    "myDraws.getSignature()"
   ]
  },
  {
   "cell_type": "markdown",
   "metadata": {},
   "source": [
    "## General expression"
   ]
  },
  {
   "cell_type": "markdown",
   "metadata": {},
   "source": [
    "<code>&lt;operator&gt;{identifier}(numberOfChildren),idFirstChild,idSecondChild,idThirdChild,</code> etc...\n",
    "where the number of identifiers given after the comma matches the reported number of children. \n",
    "\n",
    "Specific examples are reported below."
   ]
  },
  {
   "cell_type": "markdown",
   "metadata": {},
   "source": [
    "### Binary operator"
   ]
  },
  {
   "cell_type": "markdown",
   "metadata": {},
   "source": [
    "<code>&lt;operator&gt;{identifier}(2),idFirstChild,idSecondChild </code>\n",
    "where operator is one of: \n",
    "    - 'Plus'\n",
    "    - 'Minus'\n",
    "    - 'Times'\n",
    "    - 'Divide'\n",
    "    - 'Power'\n",
    "    - 'bioMin'\n",
    "    - 'bioMax'\n",
    "    - 'And'\n",
    "    - 'Or'\n",
    "    - 'Equal'\n",
    "    - 'NotEqual'\n",
    "    - 'LessOrEqual'\n",
    "    - 'GreaterOrEqual'\n",
    "    - 'Less'\n",
    "    - 'Greater'\n"
   ]
  },
  {
   "cell_type": "code",
   "execution_count": 133,
   "metadata": {
    "execution": {
     "iopub.execute_input": "2023-08-04T16:41:58.148428Z",
     "iopub.status.busy": "2023-08-04T16:41:58.148368Z",
     "iopub.status.idle": "2023-08-04T16:41:58.149788Z",
     "shell.execute_reply": "2023-08-04T16:41:58.149568Z"
    }
   },
   "outputs": [],
   "source": [
    "sum = beta1 + Variable1"
   ]
  },
  {
   "cell_type": "code",
   "execution_count": 134,
   "metadata": {
    "execution": {
     "iopub.execute_input": "2023-08-04T16:41:58.150653Z",
     "iopub.status.busy": "2023-08-04T16:41:58.150593Z",
     "iopub.status.idle": "2023-08-04T16:41:58.152292Z",
     "shell.execute_reply": "2023-08-04T16:41:58.152073Z"
    }
   },
   "outputs": [
    {
     "data": {
      "text/plain": [
       "[b'<Beta>{4962783440}\"beta1\"[0],0,0',\n",
       " b'<Variable>{4962714128}\"Variable1\",6,2',\n",
       " b'<Plus>{4962958352}(2),4962783440,4962714128']"
      ]
     },
     "execution_count": 134,
     "metadata": {},
     "output_type": "execute_result"
    }
   ],
   "source": [
    "sum.getSignature()"
   ]
  },
  {
   "cell_type": "markdown",
   "metadata": {},
   "source": [
    "### Unary operator"
   ]
  },
  {
   "cell_type": "markdown",
   "metadata": {},
   "source": [
    "&lt;operator&gt;{identifier}(1),idChild, \n",
    "where operator is one of: \n",
    "    - 'UnaryMinus'\n",
    "    - 'MonteCarlo'\n",
    "    - 'bioNormalCdf'\n",
    "    - 'PanelLikelihoodTrajectory'\n",
    "    - 'exp'\n",
    "    - 'log'"
   ]
  },
  {
   "cell_type": "code",
   "execution_count": 135,
   "metadata": {
    "execution": {
     "iopub.execute_input": "2023-08-04T16:41:58.153227Z",
     "iopub.status.busy": "2023-08-04T16:41:58.153170Z",
     "iopub.status.idle": "2023-08-04T16:41:58.154519Z",
     "shell.execute_reply": "2023-08-04T16:41:58.154309Z"
    }
   },
   "outputs": [],
   "source": [
    "m = -beta1"
   ]
  },
  {
   "cell_type": "code",
   "execution_count": 136,
   "metadata": {
    "execution": {
     "iopub.execute_input": "2023-08-04T16:41:58.155429Z",
     "iopub.status.busy": "2023-08-04T16:41:58.155354Z",
     "iopub.status.idle": "2023-08-04T16:41:58.157094Z",
     "shell.execute_reply": "2023-08-04T16:41:58.156891Z"
    }
   },
   "outputs": [
    {
     "data": {
      "text/plain": [
       "[b'<Beta>{4962783440}\"beta1\"[0],0,0',\n",
       " b'<UnaryMinus>{5268291024}(1),4962783440']"
      ]
     },
     "execution_count": 136,
     "metadata": {},
     "output_type": "execute_result"
    }
   ],
   "source": [
    "m.getSignature()"
   ]
  },
  {
   "cell_type": "markdown",
   "metadata": {},
   "source": [
    "## LogLogit"
   ]
  },
  {
   "cell_type": "markdown",
   "metadata": {},
   "source": [
    "&lt;LogLogit&gt;{identifier}(nbrOfAlternatives),chosenAlt,altNumber,utility,availability,altNumber,utility,availability, etc."
   ]
  },
  {
   "cell_type": "code",
   "execution_count": 137,
   "metadata": {
    "execution": {
     "iopub.execute_input": "2023-08-04T16:41:58.157956Z",
     "iopub.status.busy": "2023-08-04T16:41:58.157901Z",
     "iopub.status.idle": "2023-08-04T16:41:58.159823Z",
     "shell.execute_reply": "2023-08-04T16:41:58.159625Z"
    }
   },
   "outputs": [
    {
     "data": {
      "text/plain": [
       "[b'<Numeric>{4962955856},1.0',\n",
       " b'<Beta>{4962783440}\"beta1\"[0],0,0',\n",
       " b'<UnaryMinus>{4962922448}(1),4962783440',\n",
       " b'<Beta>{4962790864}\"beta2\"[0],1,1',\n",
       " b'<UnaryMinus>{5268051728}(1),4962790864',\n",
       " b'<Beta>{4962783440}\"beta1\"[0],0,0',\n",
       " b'<UnaryMinus>{4962953488}(1),4962783440',\n",
       " b'<Numeric>{4962949328},1.0',\n",
       " b'<Numeric>{4962953296},1.0',\n",
       " b'<Numeric>{4962954128},1.0',\n",
       " b'<_bioLogLogit>{4962948816}(3),4962955856,0,4962922448,4962949328,1,5268051728,4962953296,2,4962953488,4962954128']"
      ]
     },
     "execution_count": 137,
     "metadata": {},
     "output_type": "execute_result"
    }
   ],
   "source": [
    "expr7.prepare(database=myData, numberOfDraws=number_of_draws)\n",
    "expr7.getSignature()"
   ]
  },
  {
   "cell_type": "markdown",
   "metadata": {},
   "source": [
    "## Derive"
   ]
  },
  {
   "cell_type": "markdown",
   "metadata": {},
   "source": [
    "&lt;Derive&gt;{identifier},id of expression to derive,unique index of elementary expression"
   ]
  },
  {
   "cell_type": "code",
   "execution_count": 138,
   "metadata": {
    "execution": {
     "iopub.execute_input": "2023-08-04T16:41:58.160678Z",
     "iopub.status.busy": "2023-08-04T16:41:58.160621Z",
     "iopub.status.idle": "2023-08-04T16:41:58.162585Z",
     "shell.execute_reply": "2023-08-04T16:41:58.162370Z"
    }
   },
   "outputs": [
    {
     "data": {
      "text/plain": [
       "[b'<Numeric>{5268092880},1.0',\n",
       " b'<Beta>{4962783440}\"beta1\"[0],0,0',\n",
       " b'<UnaryMinus>{4962922448}(1),4962783440',\n",
       " b'<Beta>{4962790864}\"beta2\"[0],1,1',\n",
       " b'<UnaryMinus>{5268051728}(1),4962790864',\n",
       " b'<Beta>{4962783440}\"beta1\"[0],0,0',\n",
       " b'<UnaryMinus>{4962953488}(1),4962783440',\n",
       " b'<Numeric>{5268079312},1.0',\n",
       " b'<Numeric>{5268079056},1.0',\n",
       " b'<Numeric>{5268091600},1.0',\n",
       " b'<_bioLogLogit>{4958770704}(3),5268092880,0,4962922448,5268079312,1,5268051728,5268079056,2,4962953488,5268091600',\n",
       " b'<Derive>{4962943632},4958770704,1']"
      ]
     },
     "execution_count": 138,
     "metadata": {},
     "output_type": "execute_result"
    }
   ],
   "source": [
    "expr9.prepare(database=myData, numberOfDraws=number_of_draws)\n",
    "expr9.getSignature()"
   ]
  },
  {
   "cell_type": "markdown",
   "metadata": {},
   "source": [
    "## Integrate"
   ]
  },
  {
   "cell_type": "markdown",
   "metadata": {},
   "source": [
    "&lt;Integrate&gt;{identifier},id of expression to derive,index of random variable"
   ]
  },
  {
   "cell_type": "code",
   "execution_count": 139,
   "metadata": {
    "execution": {
     "iopub.execute_input": "2023-08-04T16:41:58.163494Z",
     "iopub.status.busy": "2023-08-04T16:41:58.163436Z",
     "iopub.status.idle": "2023-08-04T16:41:58.165660Z",
     "shell.execute_reply": "2023-08-04T16:41:58.165439Z"
    }
   },
   "outputs": [
    {
     "data": {
      "text/plain": [
       "[b'<Numeric>{4962925072},0.0',\n",
       " b'<Numeric>{4962918736},1.0',\n",
       " b'<Numeric>{4962920336},1.0',\n",
       " b'<RandomVariable>{4962616656}\"omega\",0,0',\n",
       " b'<UnaryMinus>{4962946128}(1),4962616656',\n",
       " b'<exp>{4962950736}(1),4962946128',\n",
       " b'<Plus>{4962830288}(2),4962920336,4962950736',\n",
       " b'<Divide>{4962865616}(2),4962918736,4962830288',\n",
       " b'<Plus>{4962898896}(2),4962925072,4962865616',\n",
       " b'<Numeric>{4962925072},0.0',\n",
       " b'<Numeric>{4962918736},1.0',\n",
       " b'<Numeric>{4962920336},1.0',\n",
       " b'<RandomVariable>{4962616656}\"omega\",0,0',\n",
       " b'<UnaryMinus>{4962946128}(1),4962616656',\n",
       " b'<exp>{4962950736}(1),4962946128',\n",
       " b'<Plus>{4962830288}(2),4962920336,4962950736',\n",
       " b'<Divide>{4962865616}(2),4962918736,4962830288',\n",
       " b'<Plus>{4962898896}(2),4962925072,4962865616',\n",
       " b'<Times>{4962951312}(2),4962898896,4962898896',\n",
       " b'<Numeric>{4962946512},1.0',\n",
       " b'<RandomVariable>{4962616656}\"omega\",0,0',\n",
       " b'<UnaryMinus>{4962950800}(1),4962616656',\n",
       " b'<exp>{4962950672}(1),4962950800',\n",
       " b'<Times>{4917414544}(2),4962946512,4962950672',\n",
       " b'<Numeric>{4962951056},1.0',\n",
       " b'<RandomVariable>{4962616656}\"omega\",0,0',\n",
       " b'<UnaryMinus>{4962950608}(1),4962616656',\n",
       " b'<exp>{4962950928}(1),4962950608',\n",
       " b'<Plus>{4962950864}(2),4962951056,4962950928',\n",
       " b'<Numeric>{4958768272},-2.0',\n",
       " b'<Power>{4962950992}(2),4962950864,4958768272',\n",
       " b'<Times>{4962951120}(2),4917414544,4962950992',\n",
       " b'<Times>{4385408080}(2),4962951312,4962951120',\n",
       " b'<Numeric>{4962951184},1.0',\n",
       " b'<Divide>{4962951248}(2),4385408080,4962951184',\n",
       " b'<Integrate>{4962951376},4962951248,0']"
      ]
     },
     "execution_count": 139,
     "metadata": {},
     "output_type": "execute_result"
    }
   ],
   "source": [
    "expr4.prepare(database=myData, numberOfDraws=number_of_draws)\n",
    "expr4.getSignature()"
   ]
  },
  {
   "cell_type": "markdown",
   "metadata": {},
   "source": [
    "## Elem"
   ]
  },
  {
   "cell_type": "markdown",
   "metadata": {},
   "source": [
    "&lt;Elem&gt;{identifier}(numberOfExpressions),keyId,value1,expression1,value2,expression2, etc...\n",
    "\n",
    "where\n",
    "- keyId is the identifier of the expression calculating the key,\n",
    "- the number of pairs valuex,expressionx must correspond to the value of numberOfExpressions"
   ]
  },
  {
   "cell_type": "code",
   "execution_count": 140,
   "metadata": {
    "execution": {
     "iopub.execute_input": "2023-08-04T16:41:58.166571Z",
     "iopub.status.busy": "2023-08-04T16:41:58.166513Z",
     "iopub.status.idle": "2023-08-04T16:41:58.168716Z",
     "shell.execute_reply": "2023-08-04T16:41:58.168517Z"
    }
   },
   "outputs": [
    {
     "data": {
      "text/plain": [
       "[b'<Variable>{4962722832}\"Person\",4,0',\n",
       " b'<Numeric>{4962790544},2.0',\n",
       " b'<Beta>{4962783440}\"beta1\"[0],0,0',\n",
       " b'<Times>{4962790800}(2),4962790544,4962783440',\n",
       " b'<Beta>{4962790864}\"beta2\"[0],1,1',\n",
       " b'<UnaryMinus>{4962728464}(1),4962790864',\n",
       " b'<exp>{4903627856}(1),4962728464',\n",
       " b'<Beta>{4962790864}\"beta2\"[0],1,1',\n",
       " b'<Beta>{4962788112}\"beta3\"[1],2,0',\n",
       " b'<Beta>{4962786832}\"beta4\"[1],3,1',\n",
       " b'<GreaterOrEqual>{4962723728}(2),4962788112,4962786832',\n",
       " b'<Times>{4953807312}(2),4962790864,4962723728',\n",
       " b'<Beta>{4962783440}\"beta1\"[0],0,0',\n",
       " b'<Beta>{4962788112}\"beta3\"[1],2,0',\n",
       " b'<Beta>{4962786832}\"beta4\"[1],3,1',\n",
       " b'<Less>{4962717200}(2),4962788112,4962786832',\n",
       " b'<Times>{4958370576}(2),4962783440,4962717200',\n",
       " b'<Plus>{4962787792}(2),4953807312,4958370576',\n",
       " b'<Divide>{4859453648}(2),4903627856,4962787792',\n",
       " b'<Minus>{4962624016}(2),4962790800,4859453648',\n",
       " b'<Numeric>{4962799504},2.0',\n",
       " b'<Beta>{4962783440}\"beta1\"[0],0,0',\n",
       " b'<Times>{4962872336}(2),4962799504,4962783440',\n",
       " b'<Variable>{4962714128}\"Variable1\",6,2',\n",
       " b'<Times>{4962862928}(2),4962872336,4962714128',\n",
       " b'<Beta>{4962790864}\"beta2\"[0],1,1',\n",
       " b'<UnaryMinus>{4962716176}(1),4962790864',\n",
       " b'<Variable>{4962722320}\"Variable2\",7,3',\n",
       " b'<Times>{4962810896}(2),4962716176,4962722320',\n",
       " b'<exp>{4962872080}(1),4962810896',\n",
       " b'<Beta>{4962790864}\"beta2\"[0],1,1',\n",
       " b'<Beta>{4962788112}\"beta3\"[1],2,0',\n",
       " b'<Beta>{4962786832}\"beta4\"[1],3,1',\n",
       " b'<GreaterOrEqual>{4962872464}(2),4962788112,4962786832',\n",
       " b'<Times>{4908252112}(2),4962790864,4962872464',\n",
       " b'<Beta>{4962783440}\"beta1\"[0],0,0',\n",
       " b'<Beta>{4962788112}\"beta3\"[1],2,0',\n",
       " b'<Beta>{4962786832}\"beta4\"[1],3,1',\n",
       " b'<Less>{4962666704}(2),4962788112,4962786832',\n",
       " b'<Times>{4962787408}(2),4962783440,4962666704',\n",
       " b'<Plus>{4962866128}(2),4908252112,4962787408',\n",
       " b'<Divide>{4962869136}(2),4962872080,4962866128',\n",
       " b'<Minus>{4962805968}(2),4962862928,4962869136',\n",
       " b'<Elem>{4962956240}(2),4962722832,1,4962624016,2,4962805968']"
      ]
     },
     "execution_count": 140,
     "metadata": {},
     "output_type": "execute_result"
    }
   ],
   "source": [
    "elemExpr.prepare(database=myData, numberOfDraws=number_of_draws)\n",
    "elemExpr.getSignature()"
   ]
  },
  {
   "cell_type": "markdown",
   "metadata": {},
   "source": [
    "## bioLinearUtility"
   ]
  },
  {
   "cell_type": "markdown",
   "metadata": {},
   "source": [
    "&lt;bioLinearUtility&gt;{identifier}(numberOfTerms), beta1_exprId, beta1_uniqueId, beta1_name, variable1_exprId, variable1_uniqueId, variable1_name, etc...\n",
    "\n",
    "where 6 entries are provided for each term:\n",
    "    - beta1_exprId is the expression id of the beta parameter\n",
    "    - beta1_uniqueId is the unique id of the beta parameter\n",
    "    - beta1_name is the name of the parameter\n",
    "    - variable1_exprId is the expression id of the variable\n",
    "    - variable1_uniqueId is the unique id of the variable\n",
    "    - variable1_name is the name of the variable\n"
   ]
  },
  {
   "cell_type": "code",
   "execution_count": 141,
   "metadata": {
    "execution": {
     "iopub.execute_input": "2023-08-04T16:41:58.169647Z",
     "iopub.status.busy": "2023-08-04T16:41:58.169589Z",
     "iopub.status.idle": "2023-08-04T16:41:58.171395Z",
     "shell.execute_reply": "2023-08-04T16:41:58.171182Z"
    }
   },
   "outputs": [
    {
     "data": {
      "text/plain": [
       "[b'<Beta>{4962783440}\"beta1\"[0],0,0',\n",
       " b'<Beta>{4962790864}\"beta2\"[0],1,1',\n",
       " b'<Beta>{4962788112}\"beta3\"[1],2,0',\n",
       " b'<Variable>{5268093328}\"Variable1\",5,2',\n",
       " b'<Variable>{5268117136}\"Variable2\",6,3',\n",
       " b'<Variable>{5268117328}\"newvar_b\",11,8',\n",
       " b'<bioLinearUtility>{5268114384}(3),4962783440,0,beta1,5268093328,5,Variable1,4962790864,1,beta2,5268117136,6,Variable2,4962788112,2,beta3,5268117328,11,newvar_b']"
      ]
     },
     "execution_count": 141,
     "metadata": {},
     "output_type": "execute_result"
    }
   ],
   "source": [
    "expr13.prepare(database=myData, numberOfDraws=number_of_draws)\n",
    "expr13.getSignature()"
   ]
  }
 ],
 "metadata": {
  "kernelspec": {
   "display_name": "Python 3 (ipykernel)",
   "language": "python",
   "name": "python3"
  },
  "language_info": {
   "codemirror_mode": {
    "name": "ipython",
    "version": 3
   },
   "file_extension": ".py",
   "mimetype": "text/x-python",
   "name": "python",
   "nbconvert_exporter": "python",
   "pygments_lexer": "ipython3",
   "version": "3.11.3"
  }
 },
 "nbformat": 4,
 "nbformat_minor": 4
}
