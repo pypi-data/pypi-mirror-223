{
 "cells": [
  {
   "cell_type": "markdown",
   "metadata": {},
   "source": [
    "# Module biogeme.database"
   ]
  },
  {
   "cell_type": "markdown",
   "metadata": {},
   "source": [
    "## Examples of use of each function"
   ]
  },
  {
   "cell_type": "markdown",
   "metadata": {},
   "source": [
    "This webpage is for programmers who need examples of use of the functions of the class. The examples are designed to illustrate the syntax. They do not correspond to any meaningful model. For examples of models, visit  [biogeme.epfl.ch](http://biogeme.epfl.ch)."
   ]
  },
  {
   "cell_type": "code",
   "execution_count": 1,
   "metadata": {
    "execution": {
     "iopub.execute_input": "2023-08-04T16:40:41.221035Z",
     "iopub.status.busy": "2023-08-04T16:40:41.220689Z",
     "iopub.status.idle": "2023-08-04T16:40:41.228697Z",
     "shell.execute_reply": "2023-08-04T16:40:41.228175Z"
    }
   },
   "outputs": [
    {
     "name": "stdout",
     "output_type": "stream",
     "text": [
      "2023-08-04 18:40:41.226577\n"
     ]
    }
   ],
   "source": [
    "import datetime\n",
    "print(datetime.datetime.now())"
   ]
  },
  {
   "cell_type": "code",
   "execution_count": 2,
   "metadata": {
    "execution": {
     "iopub.execute_input": "2023-08-04T16:40:41.230628Z",
     "iopub.status.busy": "2023-08-04T16:40:41.230459Z",
     "iopub.status.idle": "2023-08-04T16:40:41.233948Z",
     "shell.execute_reply": "2023-08-04T16:40:41.233551Z"
    }
   },
   "outputs": [
    {
     "name": "stdout",
     "output_type": "stream",
     "text": [
      "biogeme 3.2.12 [2023-08-04]\n",
      "Home page: http://biogeme.epfl.ch\n",
      "Submit questions to https://groups.google.com/d/forum/biogeme\n",
      "Michel Bierlaire, Transport and Mobility Laboratory, Ecole Polytechnique Fédérale de Lausanne (EPFL)\n",
      "\n"
     ]
    }
   ],
   "source": [
    "import biogeme.version as ver\n",
    "print(ver.getText())"
   ]
  },
  {
   "cell_type": "code",
   "execution_count": 3,
   "metadata": {
    "execution": {
     "iopub.execute_input": "2023-08-04T16:40:41.235576Z",
     "iopub.status.busy": "2023-08-04T16:40:41.235451Z",
     "iopub.status.idle": "2023-08-04T16:40:41.424035Z",
     "shell.execute_reply": "2023-08-04T16:40:41.423489Z"
    }
   },
   "outputs": [],
   "source": [
    "import pandas as pd\n",
    "import numpy as np"
   ]
  },
  {
   "cell_type": "code",
   "execution_count": 4,
   "metadata": {
    "execution": {
     "iopub.execute_input": "2023-08-04T16:40:41.427675Z",
     "iopub.status.busy": "2023-08-04T16:40:41.427030Z",
     "iopub.status.idle": "2023-08-04T16:40:41.682580Z",
     "shell.execute_reply": "2023-08-04T16:40:41.682263Z"
    }
   },
   "outputs": [],
   "source": [
    "import biogeme.database as db\n",
    "from biogeme.expressions import Variable, exp, bioDraws\n",
    "from biogeme.elementary_expressions import TypeOfElementaryExpression\n",
    "from biogeme.segmentation import DiscreteSegmentationTuple\n",
    "from biogeme.exceptions import BiogemeError"
   ]
  },
  {
   "cell_type": "markdown",
   "metadata": {},
   "source": [
    "We set the seed so that the outcome of random operations is always the same."
   ]
  },
  {
   "cell_type": "code",
   "execution_count": 5,
   "metadata": {
    "execution": {
     "iopub.execute_input": "2023-08-04T16:40:41.684039Z",
     "iopub.status.busy": "2023-08-04T16:40:41.683964Z",
     "iopub.status.idle": "2023-08-04T16:40:41.685769Z",
     "shell.execute_reply": "2023-08-04T16:40:41.685525Z"
    }
   },
   "outputs": [],
   "source": [
    "np.random.seed(90267) "
   ]
  },
  {
   "cell_type": "markdown",
   "metadata": {},
   "source": [
    "## Create a database from a pandas data frame"
   ]
  },
  {
   "cell_type": "code",
   "execution_count": 6,
   "metadata": {
    "execution": {
     "iopub.execute_input": "2023-08-04T16:40:41.686870Z",
     "iopub.status.busy": "2023-08-04T16:40:41.686804Z",
     "iopub.status.idle": "2023-08-04T16:40:41.691381Z",
     "shell.execute_reply": "2023-08-04T16:40:41.691113Z"
    },
    "scrolled": true
   },
   "outputs": [
    {
     "name": "stdout",
     "output_type": "stream",
     "text": [
      "biogeme database test:\n",
      "   Person  Exclude  Variable1  Variable2  Choice  Av1  Av2  Av3\n",
      "0       1        0          1         10       1    0    1    0\n",
      "1       1        0          2         20       2    1    1    1\n",
      "2       1        1          3         30       3    1    1    1\n",
      "3       2        0          4         40       1    1    1    1\n",
      "4       2        1          5         50       2    1    1    1\n"
     ]
    }
   ],
   "source": [
    "df = pd.DataFrame({'Person':[1,1,1,2,2],\n",
    "                   'Exclude':[0,0,1,0,1],\n",
    "                   'Variable1':[1,2,3,4,5],\n",
    "                   'Variable2':[10,20,30,40,50],\n",
    "                   'Choice':[1,2,3,1,2],\n",
    "                   'Av1':[0,1,1,1,1],\n",
    "                   'Av2':[1,1,1,1,1],\n",
    "                   'Av3':[0,1,1,1,1]})\n",
    "myData = db.Database('test', df)\n",
    "print(myData)"
   ]
  },
  {
   "cell_type": "markdown",
   "metadata": {},
   "source": [
    "## valuesFromDatabase"
   ]
  },
  {
   "cell_type": "markdown",
   "metadata": {},
   "source": [
    "Evaluates an expression for each entry of the database.\n",
    "\n",
    "        Args:\n",
    "           expression: object of type biogeme.expressions. \n",
    "\n",
    "        Returns: \n",
    "           numpy series, long as the number of entries in the\n",
    "           database, containing the calculated quantities."
   ]
  },
  {
   "cell_type": "code",
   "execution_count": 7,
   "metadata": {
    "execution": {
     "iopub.execute_input": "2023-08-04T16:40:41.692423Z",
     "iopub.status.busy": "2023-08-04T16:40:41.692352Z",
     "iopub.status.idle": "2023-08-04T16:40:41.694452Z",
     "shell.execute_reply": "2023-08-04T16:40:41.694191Z"
    }
   },
   "outputs": [
    {
     "name": "stdout",
     "output_type": "stream",
     "text": [
      "[11. 22. 33. 44. 55.]\n"
     ]
    }
   ],
   "source": [
    "Variable1 = Variable('Variable1')\n",
    "Variable2 = Variable('Variable2')\n",
    "expr = Variable1 + Variable2\n",
    "result = myData.valuesFromDatabase(expr)\n",
    "print(result)"
   ]
  },
  {
   "cell_type": "markdown",
   "metadata": {},
   "source": [
    "## check_segmentation"
   ]
  },
  {
   "cell_type": "markdown",
   "metadata": {},
   "source": [
    "Check that the segmentation covers the complete database\n",
    "\n",
    "        :param segmentation_tuple: object describing the segmentation\n",
    "        :type segmentation_tuple: biogeme.segmentation.DiscreteSegmentationTuple\n",
    "\n",
    "        :return: number of observations per segment.\n",
    "        :rtype: dict(str: int)"
   ]
  },
  {
   "cell_type": "markdown",
   "metadata": {},
   "source": [
    "A segmentation is a partition of the dataset based on the value of one of the variables. For instance, we can segment on the Choice variable."
   ]
  },
  {
   "cell_type": "code",
   "execution_count": 8,
   "metadata": {
    "execution": {
     "iopub.execute_input": "2023-08-04T16:40:41.695576Z",
     "iopub.status.busy": "2023-08-04T16:40:41.695515Z",
     "iopub.status.idle": "2023-08-04T16:40:41.697050Z",
     "shell.execute_reply": "2023-08-04T16:40:41.696837Z"
    }
   },
   "outputs": [],
   "source": [
    "correct_mapping = {1: 'Alt. 1', 2: 'Alt. 2', 3: 'Alt. 3'}\n",
    "correct_segmentation = DiscreteSegmentationTuple(variable='Choice', mapping=correct_mapping)"
   ]
  },
  {
   "cell_type": "markdown",
   "metadata": {},
   "source": [
    "If the segmentation is well defined, the function returns the size of each segment in the database."
   ]
  },
  {
   "cell_type": "code",
   "execution_count": 9,
   "metadata": {
    "execution": {
     "iopub.execute_input": "2023-08-04T16:40:41.698024Z",
     "iopub.status.busy": "2023-08-04T16:40:41.697962Z",
     "iopub.status.idle": "2023-08-04T16:40:41.701654Z",
     "shell.execute_reply": "2023-08-04T16:40:41.701461Z"
    }
   },
   "outputs": [
    {
     "data": {
      "text/plain": [
       "{'Alt. 1': 2, 'Alt. 2': 2, 'Alt. 3': 1}"
      ]
     },
     "execution_count": 9,
     "metadata": {},
     "output_type": "execute_result"
    }
   ],
   "source": [
    "myData.check_segmentation(correct_segmentation)"
   ]
  },
  {
   "cell_type": "code",
   "execution_count": 10,
   "metadata": {
    "execution": {
     "iopub.execute_input": "2023-08-04T16:40:41.702522Z",
     "iopub.status.busy": "2023-08-04T16:40:41.702449Z",
     "iopub.status.idle": "2023-08-04T16:40:41.703910Z",
     "shell.execute_reply": "2023-08-04T16:40:41.703715Z"
    }
   },
   "outputs": [],
   "source": [
    "incorrect_mapping = {1: 'Alt. 1', 2: 'Alt. 2'}\n",
    "incorrect_segmentation = DiscreteSegmentationTuple(variable='Choice', mapping=incorrect_mapping)"
   ]
  },
  {
   "cell_type": "markdown",
   "metadata": {},
   "source": [
    "If the segmentation is incorrect, an exception is raised."
   ]
  },
  {
   "cell_type": "code",
   "execution_count": 11,
   "metadata": {
    "execution": {
     "iopub.execute_input": "2023-08-04T16:40:41.704749Z",
     "iopub.status.busy": "2023-08-04T16:40:41.704689Z",
     "iopub.status.idle": "2023-08-04T16:40:41.706401Z",
     "shell.execute_reply": "2023-08-04T16:40:41.706164Z"
    }
   },
   "outputs": [
    {
     "name": "stdout",
     "output_type": "stream",
     "text": [
      "Variable Choice takes the value 3 [1 times], and it does not define any segment.\n"
     ]
    }
   ],
   "source": [
    "try:\n",
    "    myData.check_segmentation(incorrect_segmentation)\n",
    "except BiogemeError as e:\n",
    "    print(e)"
   ]
  },
  {
   "cell_type": "code",
   "execution_count": 12,
   "metadata": {
    "execution": {
     "iopub.execute_input": "2023-08-04T16:40:41.707395Z",
     "iopub.status.busy": "2023-08-04T16:40:41.707313Z",
     "iopub.status.idle": "2023-08-04T16:40:41.708807Z",
     "shell.execute_reply": "2023-08-04T16:40:41.708595Z"
    }
   },
   "outputs": [],
   "source": [
    "another_incorrect_mapping = {1: 'Alt. 1', 2: 'Alt. 2', 4: 'Does not exist'}\n",
    "another_incorrect_segmentation = DiscreteSegmentationTuple(variable='Choice', mapping=another_incorrect_mapping)"
   ]
  },
  {
   "cell_type": "code",
   "execution_count": 13,
   "metadata": {
    "execution": {
     "iopub.execute_input": "2023-08-04T16:40:41.709830Z",
     "iopub.status.busy": "2023-08-04T16:40:41.709679Z",
     "iopub.status.idle": "2023-08-04T16:40:41.711545Z",
     "shell.execute_reply": "2023-08-04T16:40:41.711336Z"
    }
   },
   "outputs": [
    {
     "name": "stdout",
     "output_type": "stream",
     "text": [
      "Variable Choice does not take the value 4 representing segment \"Does not exist\"\n"
     ]
    }
   ],
   "source": [
    "try:\n",
    "    myData.check_segmentation(another_incorrect_segmentation)\n",
    "except BiogemeError as e:\n",
    "    print(e)"
   ]
  },
  {
   "cell_type": "markdown",
   "metadata": {},
   "source": [
    "## checkAvailabilityOfChosenAlt"
   ]
  },
  {
   "cell_type": "markdown",
   "metadata": {},
   "source": [
    "Check if the chosen alternative is available for each entry in the database.\n",
    "\n",
    "        Args: \n",
    "            avail: list of biogeme.expressions to evaluate the\n",
    "            availability conditions for each alternative.\n",
    "            choice: biogeme.expressions to evaluate the chosen\n",
    "            alternative.\n",
    "                \n",
    "        Returns:\n",
    "           numpy series of bool, long as the number of entries \n",
    "           in the database, containing True is the chosen \n",
    "           alternative is available, False otherwise.\n"
   ]
  },
  {
   "cell_type": "code",
   "execution_count": 14,
   "metadata": {
    "execution": {
     "iopub.execute_input": "2023-08-04T16:40:41.712521Z",
     "iopub.status.busy": "2023-08-04T16:40:41.712461Z",
     "iopub.status.idle": "2023-08-04T16:40:41.714715Z",
     "shell.execute_reply": "2023-08-04T16:40:41.714505Z"
    }
   },
   "outputs": [
    {
     "name": "stdout",
     "output_type": "stream",
     "text": [
      "[False  True  True  True  True]\n"
     ]
    }
   ],
   "source": [
    "Av1 = Variable('Av1')\n",
    "Av2 = Variable('Av2')\n",
    "Av3 = Variable('Av3')\n",
    "Choice = Variable('Choice')\n",
    "avail = {1: Av1, 2: Av2, 3: Av3}\n",
    "result = myData.checkAvailabilityOfChosenAlt(avail, Choice)\n",
    "print(result)"
   ]
  },
  {
   "cell_type": "markdown",
   "metadata": {},
   "source": [
    "## choiceAvailabilityStatistics"
   ]
  },
  {
   "cell_type": "markdown",
   "metadata": {},
   "source": [
    "Calculates the number of time an alternative is chosen and available\n",
    "\n",
    "        Args:\n",
    "            avail: list of expressions to evaluate the\n",
    "                      availability conditions for each alternative.\n",
    "            choice: expression for the chosen alternative.\n",
    "\n",
    "        Returns: \n",
    "            for each alternative, a tuple containing the number of time it is chosen, \n",
    "                 and the number of time it is available.\n",
    "        "
   ]
  },
  {
   "cell_type": "code",
   "execution_count": 15,
   "metadata": {
    "execution": {
     "iopub.execute_input": "2023-08-04T16:40:41.715650Z",
     "iopub.status.busy": "2023-08-04T16:40:41.715592Z",
     "iopub.status.idle": "2023-08-04T16:40:41.717911Z",
     "shell.execute_reply": "2023-08-04T16:40:41.717693Z"
    }
   },
   "outputs": [
    {
     "data": {
      "text/plain": [
       "{1.0: (2, 4.0), 2.0: (2, 5.0), 3.0: (1, 4.0)}"
      ]
     },
     "execution_count": 15,
     "metadata": {},
     "output_type": "execute_result"
    }
   ],
   "source": [
    "myData.choiceAvailabilityStatistics(avail, Choice)"
   ]
  },
  {
   "cell_type": "markdown",
   "metadata": {},
   "source": [
    "## Suggest scaling"
   ]
  },
  {
   "cell_type": "markdown",
   "metadata": {},
   "source": [
    "Suggest a scaling of the variables in the database \n",
    "\n",
    "    Args:\n",
    "       columns: list of columns. If None, all columns are analyzed.\n",
    "         \n",
    "    Returns: \n",
    "\n",
    "        A Pandas dataframe where each row contains the name of\n",
    "        the variable, the suggested scale s and the laergest value in the column. \n",
    "        Ideally, the column should be multiplied by s. \n"
   ]
  },
  {
   "cell_type": "code",
   "execution_count": 16,
   "metadata": {
    "execution": {
     "iopub.execute_input": "2023-08-04T16:40:41.718811Z",
     "iopub.status.busy": "2023-08-04T16:40:41.718752Z",
     "iopub.status.idle": "2023-08-04T16:40:41.720540Z",
     "shell.execute_reply": "2023-08-04T16:40:41.720314Z"
    }
   },
   "outputs": [
    {
     "data": {
      "text/plain": [
       "Index(['Person', 'Exclude', 'Variable1', 'Variable2', 'Choice', 'Av1', 'Av2',\n",
       "       'Av3'],\n",
       "      dtype='object')"
      ]
     },
     "execution_count": 16,
     "metadata": {},
     "output_type": "execute_result"
    }
   ],
   "source": [
    "myData.data.columns"
   ]
  },
  {
   "cell_type": "code",
   "execution_count": 17,
   "metadata": {
    "execution": {
     "iopub.execute_input": "2023-08-04T16:40:41.721366Z",
     "iopub.status.busy": "2023-08-04T16:40:41.721308Z",
     "iopub.status.idle": "2023-08-04T16:40:41.725890Z",
     "shell.execute_reply": "2023-08-04T16:40:41.725717Z"
    }
   },
   "outputs": [
    {
     "data": {
      "text/html": [
       "<div>\n",
       "<style scoped>\n",
       "    .dataframe tbody tr th:only-of-type {\n",
       "        vertical-align: middle;\n",
       "    }\n",
       "\n",
       "    .dataframe tbody tr th {\n",
       "        vertical-align: top;\n",
       "    }\n",
       "\n",
       "    .dataframe thead th {\n",
       "        text-align: right;\n",
       "    }\n",
       "</style>\n",
       "<table border=\"1\" class=\"dataframe\">\n",
       "  <thead>\n",
       "    <tr style=\"text-align: right;\">\n",
       "      <th></th>\n",
       "      <th>Column</th>\n",
       "      <th>Scale</th>\n",
       "      <th>Largest</th>\n",
       "    </tr>\n",
       "  </thead>\n",
       "  <tbody>\n",
       "    <tr>\n",
       "      <th>3</th>\n",
       "      <td>Variable2</td>\n",
       "      <td>0.01</td>\n",
       "      <td>50</td>\n",
       "    </tr>\n",
       "  </tbody>\n",
       "</table>\n",
       "</div>"
      ],
      "text/plain": [
       "      Column  Scale  Largest\n",
       "3  Variable2   0.01       50"
      ]
     },
     "execution_count": 17,
     "metadata": {},
     "output_type": "execute_result"
    }
   ],
   "source": [
    "myData.suggestScaling()"
   ]
  },
  {
   "cell_type": "code",
   "execution_count": 18,
   "metadata": {
    "execution": {
     "iopub.execute_input": "2023-08-04T16:40:41.726730Z",
     "iopub.status.busy": "2023-08-04T16:40:41.726660Z",
     "iopub.status.idle": "2023-08-04T16:40:41.729839Z",
     "shell.execute_reply": "2023-08-04T16:40:41.729627Z"
    }
   },
   "outputs": [
    {
     "data": {
      "text/html": [
       "<div>\n",
       "<style scoped>\n",
       "    .dataframe tbody tr th:only-of-type {\n",
       "        vertical-align: middle;\n",
       "    }\n",
       "\n",
       "    .dataframe tbody tr th {\n",
       "        vertical-align: top;\n",
       "    }\n",
       "\n",
       "    .dataframe thead th {\n",
       "        text-align: right;\n",
       "    }\n",
       "</style>\n",
       "<table border=\"1\" class=\"dataframe\">\n",
       "  <thead>\n",
       "    <tr style=\"text-align: right;\">\n",
       "      <th></th>\n",
       "      <th>Column</th>\n",
       "      <th>Scale</th>\n",
       "      <th>Largest</th>\n",
       "    </tr>\n",
       "  </thead>\n",
       "  <tbody>\n",
       "    <tr>\n",
       "      <th>1</th>\n",
       "      <td>Variable2</td>\n",
       "      <td>0.01</td>\n",
       "      <td>50</td>\n",
       "    </tr>\n",
       "  </tbody>\n",
       "</table>\n",
       "</div>"
      ],
      "text/plain": [
       "      Column  Scale  Largest\n",
       "1  Variable2   0.01       50"
      ]
     },
     "execution_count": 18,
     "metadata": {},
     "output_type": "execute_result"
    }
   ],
   "source": [
    "myData.suggestScaling(columns=['Variable1', 'Variable2'])"
   ]
  },
  {
   "cell_type": "markdown",
   "metadata": {},
   "source": [
    "## scaleColumn"
   ]
  },
  {
   "cell_type": "markdown",
   "metadata": {},
   "source": [
    "Divide an entire column by a scale value\n",
    "\n",
    "           Args:\n",
    "              column: name of the column\n",
    "\n",
    "              scale: value of the scale. All values of the \n",
    "              column will be multiplied by that scale.\n"
   ]
  },
  {
   "cell_type": "code",
   "execution_count": 19,
   "metadata": {
    "execution": {
     "iopub.execute_input": "2023-08-04T16:40:41.730941Z",
     "iopub.status.busy": "2023-08-04T16:40:41.730741Z",
     "iopub.status.idle": "2023-08-04T16:40:41.733673Z",
     "shell.execute_reply": "2023-08-04T16:40:41.733479Z"
    }
   },
   "outputs": [
    {
     "data": {
      "text/html": [
       "<div>\n",
       "<style scoped>\n",
       "    .dataframe tbody tr th:only-of-type {\n",
       "        vertical-align: middle;\n",
       "    }\n",
       "\n",
       "    .dataframe tbody tr th {\n",
       "        vertical-align: top;\n",
       "    }\n",
       "\n",
       "    .dataframe thead th {\n",
       "        text-align: right;\n",
       "    }\n",
       "</style>\n",
       "<table border=\"1\" class=\"dataframe\">\n",
       "  <thead>\n",
       "    <tr style=\"text-align: right;\">\n",
       "      <th></th>\n",
       "      <th>Person</th>\n",
       "      <th>Exclude</th>\n",
       "      <th>Variable1</th>\n",
       "      <th>Variable2</th>\n",
       "      <th>Choice</th>\n",
       "      <th>Av1</th>\n",
       "      <th>Av2</th>\n",
       "      <th>Av3</th>\n",
       "    </tr>\n",
       "  </thead>\n",
       "  <tbody>\n",
       "    <tr>\n",
       "      <th>0</th>\n",
       "      <td>1</td>\n",
       "      <td>0</td>\n",
       "      <td>1</td>\n",
       "      <td>10</td>\n",
       "      <td>1</td>\n",
       "      <td>0</td>\n",
       "      <td>1</td>\n",
       "      <td>0</td>\n",
       "    </tr>\n",
       "    <tr>\n",
       "      <th>1</th>\n",
       "      <td>1</td>\n",
       "      <td>0</td>\n",
       "      <td>2</td>\n",
       "      <td>20</td>\n",
       "      <td>2</td>\n",
       "      <td>1</td>\n",
       "      <td>1</td>\n",
       "      <td>1</td>\n",
       "    </tr>\n",
       "    <tr>\n",
       "      <th>2</th>\n",
       "      <td>1</td>\n",
       "      <td>1</td>\n",
       "      <td>3</td>\n",
       "      <td>30</td>\n",
       "      <td>3</td>\n",
       "      <td>1</td>\n",
       "      <td>1</td>\n",
       "      <td>1</td>\n",
       "    </tr>\n",
       "    <tr>\n",
       "      <th>3</th>\n",
       "      <td>2</td>\n",
       "      <td>0</td>\n",
       "      <td>4</td>\n",
       "      <td>40</td>\n",
       "      <td>1</td>\n",
       "      <td>1</td>\n",
       "      <td>1</td>\n",
       "      <td>1</td>\n",
       "    </tr>\n",
       "    <tr>\n",
       "      <th>4</th>\n",
       "      <td>2</td>\n",
       "      <td>1</td>\n",
       "      <td>5</td>\n",
       "      <td>50</td>\n",
       "      <td>2</td>\n",
       "      <td>1</td>\n",
       "      <td>1</td>\n",
       "      <td>1</td>\n",
       "    </tr>\n",
       "  </tbody>\n",
       "</table>\n",
       "</div>"
      ],
      "text/plain": [
       "   Person  Exclude  Variable1  Variable2  Choice  Av1  Av2  Av3\n",
       "0       1        0          1         10       1    0    1    0\n",
       "1       1        0          2         20       2    1    1    1\n",
       "2       1        1          3         30       3    1    1    1\n",
       "3       2        0          4         40       1    1    1    1\n",
       "4       2        1          5         50       2    1    1    1"
      ]
     },
     "execution_count": 19,
     "metadata": {},
     "output_type": "execute_result"
    }
   ],
   "source": [
    "myData.data"
   ]
  },
  {
   "cell_type": "code",
   "execution_count": 20,
   "metadata": {
    "execution": {
     "iopub.execute_input": "2023-08-04T16:40:41.734563Z",
     "iopub.status.busy": "2023-08-04T16:40:41.734500Z",
     "iopub.status.idle": "2023-08-04T16:40:41.736110Z",
     "shell.execute_reply": "2023-08-04T16:40:41.735868Z"
    }
   },
   "outputs": [],
   "source": [
    "myData.scaleColumn('Variable2', 0.01)"
   ]
  },
  {
   "cell_type": "code",
   "execution_count": 21,
   "metadata": {
    "execution": {
     "iopub.execute_input": "2023-08-04T16:40:41.736892Z",
     "iopub.status.busy": "2023-08-04T16:40:41.736815Z",
     "iopub.status.idle": "2023-08-04T16:40:41.739825Z",
     "shell.execute_reply": "2023-08-04T16:40:41.739607Z"
    }
   },
   "outputs": [
    {
     "data": {
      "text/html": [
       "<div>\n",
       "<style scoped>\n",
       "    .dataframe tbody tr th:only-of-type {\n",
       "        vertical-align: middle;\n",
       "    }\n",
       "\n",
       "    .dataframe tbody tr th {\n",
       "        vertical-align: top;\n",
       "    }\n",
       "\n",
       "    .dataframe thead th {\n",
       "        text-align: right;\n",
       "    }\n",
       "</style>\n",
       "<table border=\"1\" class=\"dataframe\">\n",
       "  <thead>\n",
       "    <tr style=\"text-align: right;\">\n",
       "      <th></th>\n",
       "      <th>Person</th>\n",
       "      <th>Exclude</th>\n",
       "      <th>Variable1</th>\n",
       "      <th>Variable2</th>\n",
       "      <th>Choice</th>\n",
       "      <th>Av1</th>\n",
       "      <th>Av2</th>\n",
       "      <th>Av3</th>\n",
       "    </tr>\n",
       "  </thead>\n",
       "  <tbody>\n",
       "    <tr>\n",
       "      <th>0</th>\n",
       "      <td>1</td>\n",
       "      <td>0</td>\n",
       "      <td>1</td>\n",
       "      <td>0.1</td>\n",
       "      <td>1</td>\n",
       "      <td>0</td>\n",
       "      <td>1</td>\n",
       "      <td>0</td>\n",
       "    </tr>\n",
       "    <tr>\n",
       "      <th>1</th>\n",
       "      <td>1</td>\n",
       "      <td>0</td>\n",
       "      <td>2</td>\n",
       "      <td>0.2</td>\n",
       "      <td>2</td>\n",
       "      <td>1</td>\n",
       "      <td>1</td>\n",
       "      <td>1</td>\n",
       "    </tr>\n",
       "    <tr>\n",
       "      <th>2</th>\n",
       "      <td>1</td>\n",
       "      <td>1</td>\n",
       "      <td>3</td>\n",
       "      <td>0.3</td>\n",
       "      <td>3</td>\n",
       "      <td>1</td>\n",
       "      <td>1</td>\n",
       "      <td>1</td>\n",
       "    </tr>\n",
       "    <tr>\n",
       "      <th>3</th>\n",
       "      <td>2</td>\n",
       "      <td>0</td>\n",
       "      <td>4</td>\n",
       "      <td>0.4</td>\n",
       "      <td>1</td>\n",
       "      <td>1</td>\n",
       "      <td>1</td>\n",
       "      <td>1</td>\n",
       "    </tr>\n",
       "    <tr>\n",
       "      <th>4</th>\n",
       "      <td>2</td>\n",
       "      <td>1</td>\n",
       "      <td>5</td>\n",
       "      <td>0.5</td>\n",
       "      <td>2</td>\n",
       "      <td>1</td>\n",
       "      <td>1</td>\n",
       "      <td>1</td>\n",
       "    </tr>\n",
       "  </tbody>\n",
       "</table>\n",
       "</div>"
      ],
      "text/plain": [
       "   Person  Exclude  Variable1  Variable2  Choice  Av1  Av2  Av3\n",
       "0       1        0          1        0.1       1    0    1    0\n",
       "1       1        0          2        0.2       2    1    1    1\n",
       "2       1        1          3        0.3       3    1    1    1\n",
       "3       2        0          4        0.4       1    1    1    1\n",
       "4       2        1          5        0.5       2    1    1    1"
      ]
     },
     "execution_count": 21,
     "metadata": {},
     "output_type": "execute_result"
    }
   ],
   "source": [
    "myData.data"
   ]
  },
  {
   "cell_type": "markdown",
   "metadata": {},
   "source": [
    "## addColumn"
   ]
  },
  {
   "cell_type": "markdown",
   "metadata": {},
   "source": [
    "Add a new column in the database, calculated from an expression.\n",
    "\n",
    "        Args:\n",
    "           expression: object of type biogeme.expressions \n",
    "           describing the expression to evaluate\n",
    "           column: name of the column to add.\n",
    "\n",
    "        Returns:\n",
    "           nothing\n",
    "\n",
    "        Raises:\n",
    "              ValueError: if the column name already exists."
   ]
  },
  {
   "cell_type": "code",
   "execution_count": 22,
   "metadata": {
    "execution": {
     "iopub.execute_input": "2023-08-04T16:40:41.740831Z",
     "iopub.status.busy": "2023-08-04T16:40:41.740766Z",
     "iopub.status.idle": "2023-08-04T16:40:41.742951Z",
     "shell.execute_reply": "2023-08-04T16:40:41.742743Z"
    }
   },
   "outputs": [
    {
     "name": "stdout",
     "output_type": "stream",
     "text": [
      "[0.1, 0.4, 0.8999999999999999, 1.6, 2.5]\n"
     ]
    }
   ],
   "source": [
    "Variable1 = Variable('Variable1')\n",
    "Variable2 = Variable('Variable2')\n",
    "expression = exp(0.5 * Variable2) / Variable1\n",
    "expression = Variable2 * Variable1\n",
    "result = myData.addColumn(expression, 'NewVariable')\n",
    "print(myData.data['NewVariable'].tolist())"
   ]
  },
  {
   "cell_type": "code",
   "execution_count": 23,
   "metadata": {
    "execution": {
     "iopub.execute_input": "2023-08-04T16:40:41.743922Z",
     "iopub.status.busy": "2023-08-04T16:40:41.743855Z",
     "iopub.status.idle": "2023-08-04T16:40:41.747236Z",
     "shell.execute_reply": "2023-08-04T16:40:41.747028Z"
    }
   },
   "outputs": [
    {
     "data": {
      "text/html": [
       "<div>\n",
       "<style scoped>\n",
       "    .dataframe tbody tr th:only-of-type {\n",
       "        vertical-align: middle;\n",
       "    }\n",
       "\n",
       "    .dataframe tbody tr th {\n",
       "        vertical-align: top;\n",
       "    }\n",
       "\n",
       "    .dataframe thead th {\n",
       "        text-align: right;\n",
       "    }\n",
       "</style>\n",
       "<table border=\"1\" class=\"dataframe\">\n",
       "  <thead>\n",
       "    <tr style=\"text-align: right;\">\n",
       "      <th></th>\n",
       "      <th>Person</th>\n",
       "      <th>Exclude</th>\n",
       "      <th>Variable1</th>\n",
       "      <th>Variable2</th>\n",
       "      <th>Choice</th>\n",
       "      <th>Av1</th>\n",
       "      <th>Av2</th>\n",
       "      <th>Av3</th>\n",
       "      <th>NewVariable</th>\n",
       "    </tr>\n",
       "  </thead>\n",
       "  <tbody>\n",
       "    <tr>\n",
       "      <th>0</th>\n",
       "      <td>1</td>\n",
       "      <td>0</td>\n",
       "      <td>1</td>\n",
       "      <td>0.1</td>\n",
       "      <td>1</td>\n",
       "      <td>0</td>\n",
       "      <td>1</td>\n",
       "      <td>0</td>\n",
       "      <td>0.1</td>\n",
       "    </tr>\n",
       "    <tr>\n",
       "      <th>1</th>\n",
       "      <td>1</td>\n",
       "      <td>0</td>\n",
       "      <td>2</td>\n",
       "      <td>0.2</td>\n",
       "      <td>2</td>\n",
       "      <td>1</td>\n",
       "      <td>1</td>\n",
       "      <td>1</td>\n",
       "      <td>0.4</td>\n",
       "    </tr>\n",
       "    <tr>\n",
       "      <th>2</th>\n",
       "      <td>1</td>\n",
       "      <td>1</td>\n",
       "      <td>3</td>\n",
       "      <td>0.3</td>\n",
       "      <td>3</td>\n",
       "      <td>1</td>\n",
       "      <td>1</td>\n",
       "      <td>1</td>\n",
       "      <td>0.9</td>\n",
       "    </tr>\n",
       "    <tr>\n",
       "      <th>3</th>\n",
       "      <td>2</td>\n",
       "      <td>0</td>\n",
       "      <td>4</td>\n",
       "      <td>0.4</td>\n",
       "      <td>1</td>\n",
       "      <td>1</td>\n",
       "      <td>1</td>\n",
       "      <td>1</td>\n",
       "      <td>1.6</td>\n",
       "    </tr>\n",
       "    <tr>\n",
       "      <th>4</th>\n",
       "      <td>2</td>\n",
       "      <td>1</td>\n",
       "      <td>5</td>\n",
       "      <td>0.5</td>\n",
       "      <td>2</td>\n",
       "      <td>1</td>\n",
       "      <td>1</td>\n",
       "      <td>1</td>\n",
       "      <td>2.5</td>\n",
       "    </tr>\n",
       "  </tbody>\n",
       "</table>\n",
       "</div>"
      ],
      "text/plain": [
       "   Person  Exclude  Variable1  Variable2  Choice  Av1  Av2  Av3  NewVariable\n",
       "0       1        0          1        0.1       1    0    1    0          0.1\n",
       "1       1        0          2        0.2       2    1    1    1          0.4\n",
       "2       1        1          3        0.3       3    1    1    1          0.9\n",
       "3       2        0          4        0.4       1    1    1    1          1.6\n",
       "4       2        1          5        0.5       2    1    1    1          2.5"
      ]
     },
     "execution_count": 23,
     "metadata": {},
     "output_type": "execute_result"
    }
   ],
   "source": [
    "myData.data"
   ]
  },
  {
   "cell_type": "markdown",
   "metadata": {},
   "source": [
    "## split"
   ]
  },
  {
   "cell_type": "markdown",
   "metadata": {},
   "source": [
    "Shuffle the data, and split the data into slices. For each slide, an estimation and a validation sets are generated. The validation set is the slice itself. The estimation set is the rest of the data. "
   ]
  },
  {
   "cell_type": "code",
   "execution_count": 24,
   "metadata": {
    "execution": {
     "iopub.execute_input": "2023-08-04T16:40:41.748238Z",
     "iopub.status.busy": "2023-08-04T16:40:41.748132Z",
     "iopub.status.idle": "2023-08-04T16:40:41.755048Z",
     "shell.execute_reply": "2023-08-04T16:40:41.754848Z"
    }
   },
   "outputs": [
    {
     "name": "stdout",
     "output_type": "stream",
     "text": [
      "<class 'pandas.core.frame.DataFrame'>\n",
      "<class 'pandas.core.frame.DataFrame'>\n",
      "<class 'pandas.core.frame.DataFrame'>\n",
      "<class 'pandas.core.frame.DataFrame'>\n",
      "<class 'pandas.core.frame.DataFrame'>\n",
      "<class 'pandas.core.frame.DataFrame'>\n",
      "==========\n",
      "Estimation:\n",
      "<class 'pandas.core.frame.DataFrame'>\n",
      "   Person  Exclude  Variable1  Variable2  Choice  Av1  Av2  Av3  NewVariable\n",
      "0       1        0          1        0.1       1    0    1    0          0.1\n",
      "3       2        0          4        0.4       1    1    1    1          1.6\n",
      "4       2        1          5        0.5       2    1    1    1          2.5\n",
      "Validation:\n",
      "   Person  Exclude  Variable1  Variable2  Choice  Av1  Av2  Av3  NewVariable\n",
      "1       1        0          2        0.2       2    1    1    1          0.4\n",
      "2       1        1          3        0.3       3    1    1    1          0.9\n",
      "==========\n",
      "Estimation:\n",
      "<class 'pandas.core.frame.DataFrame'>\n",
      "   Person  Exclude  Variable1  Variable2  Choice  Av1  Av2  Av3  NewVariable\n",
      "1       1        0          2        0.2       2    1    1    1          0.4\n",
      "2       1        1          3        0.3       3    1    1    1          0.9\n",
      "4       2        1          5        0.5       2    1    1    1          2.5\n",
      "Validation:\n",
      "   Person  Exclude  Variable1  Variable2  Choice  Av1  Av2  Av3  NewVariable\n",
      "0       1        0          1        0.1       1    0    1    0          0.1\n",
      "3       2        0          4        0.4       1    1    1    1          1.6\n",
      "==========\n",
      "Estimation:\n",
      "<class 'pandas.core.frame.DataFrame'>\n",
      "   Person  Exclude  Variable1  Variable2  Choice  Av1  Av2  Av3  NewVariable\n",
      "1       1        0          2        0.2       2    1    1    1          0.4\n",
      "2       1        1          3        0.3       3    1    1    1          0.9\n",
      "0       1        0          1        0.1       1    0    1    0          0.1\n",
      "3       2        0          4        0.4       1    1    1    1          1.6\n",
      "Validation:\n",
      "   Person  Exclude  Variable1  Variable2  Choice  Av1  Av2  Av3  NewVariable\n",
      "4       2        1          5        0.5       2    1    1    1          2.5\n"
     ]
    }
   ],
   "source": [
    "dataSets = myData.split(3)\n",
    "for i in dataSets:\n",
    "    print(\"==========\")\n",
    "    print(\"Estimation:\")\n",
    "    print(type(i[0]))\n",
    "    print(i[0])\n",
    "    print(\"Validation:\")\n",
    "    print(i[1])"
   ]
  },
  {
   "cell_type": "markdown",
   "metadata": {},
   "source": [
    "## count"
   ]
  },
  {
   "cell_type": "markdown",
   "metadata": {},
   "source": [
    "Counts the number of observations that have a specific value in a given column.\n",
    "\n",
    "        Args:\n",
    "            columnName: name of the column.\n",
    "            value: value that is seeked.\n",
    "\n",
    "        Returns: \n",
    "            Number of times that the value appears in the column.\n"
   ]
  },
  {
   "cell_type": "markdown",
   "metadata": {},
   "source": [
    "Here, count the number of entries for individual 1."
   ]
  },
  {
   "cell_type": "code",
   "execution_count": 25,
   "metadata": {
    "execution": {
     "iopub.execute_input": "2023-08-04T16:40:41.755965Z",
     "iopub.status.busy": "2023-08-04T16:40:41.755893Z",
     "iopub.status.idle": "2023-08-04T16:40:41.758202Z",
     "shell.execute_reply": "2023-08-04T16:40:41.757982Z"
    }
   },
   "outputs": [
    {
     "data": {
      "text/plain": [
       "3"
      ]
     },
     "execution_count": 25,
     "metadata": {},
     "output_type": "execute_result"
    }
   ],
   "source": [
    "myData.count('Person',1)"
   ]
  },
  {
   "cell_type": "markdown",
   "metadata": {},
   "source": [
    "## remove"
   ]
  },
  {
   "cell_type": "markdown",
   "metadata": {},
   "source": [
    "Removes from the database all entries such that the value of the expression is not 0. \n",
    "        \n",
    "        Args:\n",
    "           expression: object of type biogeme.expressions \n",
    "           describing the expression to evaluate\n",
    "        Returns:\n",
    "           Nothing."
   ]
  },
  {
   "cell_type": "code",
   "execution_count": 26,
   "metadata": {
    "execution": {
     "iopub.execute_input": "2023-08-04T16:40:41.759063Z",
     "iopub.status.busy": "2023-08-04T16:40:41.759000Z",
     "iopub.status.idle": "2023-08-04T16:40:41.762867Z",
     "shell.execute_reply": "2023-08-04T16:40:41.762679Z"
    }
   },
   "outputs": [
    {
     "data": {
      "text/html": [
       "<div>\n",
       "<style scoped>\n",
       "    .dataframe tbody tr th:only-of-type {\n",
       "        vertical-align: middle;\n",
       "    }\n",
       "\n",
       "    .dataframe tbody tr th {\n",
       "        vertical-align: top;\n",
       "    }\n",
       "\n",
       "    .dataframe thead th {\n",
       "        text-align: right;\n",
       "    }\n",
       "</style>\n",
       "<table border=\"1\" class=\"dataframe\">\n",
       "  <thead>\n",
       "    <tr style=\"text-align: right;\">\n",
       "      <th></th>\n",
       "      <th>Person</th>\n",
       "      <th>Exclude</th>\n",
       "      <th>Variable1</th>\n",
       "      <th>Variable2</th>\n",
       "      <th>Choice</th>\n",
       "      <th>Av1</th>\n",
       "      <th>Av2</th>\n",
       "      <th>Av3</th>\n",
       "      <th>NewVariable</th>\n",
       "    </tr>\n",
       "  </thead>\n",
       "  <tbody>\n",
       "    <tr>\n",
       "      <th>0</th>\n",
       "      <td>1</td>\n",
       "      <td>0</td>\n",
       "      <td>1</td>\n",
       "      <td>0.1</td>\n",
       "      <td>1</td>\n",
       "      <td>0</td>\n",
       "      <td>1</td>\n",
       "      <td>0</td>\n",
       "      <td>0.1</td>\n",
       "    </tr>\n",
       "    <tr>\n",
       "      <th>1</th>\n",
       "      <td>1</td>\n",
       "      <td>0</td>\n",
       "      <td>2</td>\n",
       "      <td>0.2</td>\n",
       "      <td>2</td>\n",
       "      <td>1</td>\n",
       "      <td>1</td>\n",
       "      <td>1</td>\n",
       "      <td>0.4</td>\n",
       "    </tr>\n",
       "    <tr>\n",
       "      <th>3</th>\n",
       "      <td>2</td>\n",
       "      <td>0</td>\n",
       "      <td>4</td>\n",
       "      <td>0.4</td>\n",
       "      <td>1</td>\n",
       "      <td>1</td>\n",
       "      <td>1</td>\n",
       "      <td>1</td>\n",
       "      <td>1.6</td>\n",
       "    </tr>\n",
       "  </tbody>\n",
       "</table>\n",
       "</div>"
      ],
      "text/plain": [
       "   Person  Exclude  Variable1  Variable2  Choice  Av1  Av2  Av3  NewVariable\n",
       "0       1        0          1        0.1       1    0    1    0          0.1\n",
       "1       1        0          2        0.2       2    1    1    1          0.4\n",
       "3       2        0          4        0.4       1    1    1    1          1.6"
      ]
     },
     "execution_count": 26,
     "metadata": {},
     "output_type": "execute_result"
    }
   ],
   "source": [
    "Exclude = Variable('Exclude')\n",
    "myData.remove(Exclude)\n",
    "myData.data"
   ]
  },
  {
   "cell_type": "markdown",
   "metadata": {},
   "source": [
    "## dumpOnFile"
   ]
  },
  {
   "cell_type": "markdown",
   "metadata": {},
   "source": [
    "Dumps the database in a CSV formatted file.\n",
    "\n",
    "        Returns:  name of the file"
   ]
  },
  {
   "cell_type": "code",
   "execution_count": 27,
   "metadata": {
    "execution": {
     "iopub.execute_input": "2023-08-04T16:40:41.763705Z",
     "iopub.status.busy": "2023-08-04T16:40:41.763641Z",
     "iopub.status.idle": "2023-08-04T16:40:41.766388Z",
     "shell.execute_reply": "2023-08-04T16:40:41.766137Z"
    }
   },
   "outputs": [
    {
     "data": {
      "text/plain": [
       "'test_dumped.dat'"
      ]
     },
     "execution_count": 27,
     "metadata": {},
     "output_type": "execute_result"
    }
   ],
   "source": [
    "myData.dumpOnFile()"
   ]
  },
  {
   "cell_type": "code",
   "execution_count": 28,
   "metadata": {
    "execution": {
     "iopub.execute_input": "2023-08-04T16:40:41.767155Z",
     "iopub.status.busy": "2023-08-04T16:40:41.767087Z",
     "iopub.status.idle": "2023-08-04T16:40:41.777436Z",
     "shell.execute_reply": "2023-08-04T16:40:41.777223Z"
    }
   },
   "outputs": [
    {
     "name": "stdout",
     "output_type": "stream",
     "text": [
      "__rowId\tPerson\tExclude\tVariable1\tVariable2\tChoice\tAv1\tAv2\tAv3\tNewVariable\n"
     ]
    },
    {
     "name": "stdout",
     "output_type": "stream",
     "text": [
      "0\t1\t0\t1\t0.1\t1\t0\t1\t0\t0.1\n"
     ]
    },
    {
     "name": "stdout",
     "output_type": "stream",
     "text": [
      "1\t1\t0\t2\t0.2\t2\t1\t1\t1\t0.4\n"
     ]
    },
    {
     "name": "stdout",
     "output_type": "stream",
     "text": [
      "3\t2\t0\t4\t0.4\t1\t1\t1\t1\t1.6\n"
     ]
    }
   ],
   "source": [
    "%%bash\n",
    "cat test_dumped.dat"
   ]
  },
  {
   "cell_type": "markdown",
   "metadata": {},
   "source": [
    "## generateDraws"
   ]
  },
  {
   "cell_type": "markdown",
   "metadata": {},
   "source": [
    "Generate draws for each variable.\n",
    "        \n",
    "        Args:\n",
    "             types:\n",
    "                 A dict indexed by the names of the variables,\n",
    "                 describing the types of draws. Each of them can be a\n",
    "                 native type or any type defined by the function\n",
    "                 database.setRandomNumberGenerators\n",
    "\n",
    "             names: \n",
    "                 the list of names of the variables that require\n",
    "                 draws to be generated.\n",
    "             numberOfDraws: \n",
    "                 number of draws to generate.\n",
    "\n",
    "        Returns: \n",
    "             a 3-dimensional table with draws. The 3 dimensions are\n",
    "              1. number of individuals\n",
    "              2. number of draws\n",
    "              3. number of variables\n"
   ]
  },
  {
   "cell_type": "markdown",
   "metadata": {},
   "source": [
    "List native types and their description"
   ]
  },
  {
   "cell_type": "code",
   "execution_count": 29,
   "metadata": {
    "execution": {
     "iopub.execute_input": "2023-08-04T16:40:41.778468Z",
     "iopub.status.busy": "2023-08-04T16:40:41.778397Z",
     "iopub.status.idle": "2023-08-04T16:40:41.780490Z",
     "shell.execute_reply": "2023-08-04T16:40:41.780308Z"
    }
   },
   "outputs": [
    {
     "data": {
      "text/plain": [
       "{'UNIFORM': 'Uniform U[0, 1]',\n",
       " 'UNIFORM_ANTI': 'Antithetic uniform U[0, 1]',\n",
       " 'UNIFORM_HALTON2': 'Halton draws with base 2, skipping the first 10',\n",
       " 'UNIFORM_HALTON3': 'Halton draws with base 3, skipping the first 10',\n",
       " 'UNIFORM_HALTON5': 'Halton draws with base 5, skipping the first 10',\n",
       " 'UNIFORM_MLHS': 'Modified Latin Hypercube Sampling on [0, 1]',\n",
       " 'UNIFORM_MLHS_ANTI': 'Antithetic Modified Latin Hypercube Sampling on [0, 1]',\n",
       " 'UNIFORMSYM': 'Uniform U[-1, 1]',\n",
       " 'UNIFORMSYM_ANTI': 'Antithetic uniform U[-1, 1]',\n",
       " 'UNIFORMSYM_HALTON2': 'Halton draws on [-1, 1] with base 2, skipping the first 10',\n",
       " 'UNIFORMSYM_HALTON3': 'Halton draws on [-1, 1] with base 3, skipping the first 10',\n",
       " 'UNIFORMSYM_HALTON5': 'Halton draws on [-1, 1] with base 5, skipping the first 10',\n",
       " 'UNIFORMSYM_MLHS': 'Modified Latin Hypercube Sampling on [-1, 1]',\n",
       " 'UNIFORMSYM_MLHS_ANTI': 'Antithetic Modified Latin Hypercube Sampling on [-1, 1]',\n",
       " 'NORMAL': 'Normal N(0, 1) draws',\n",
       " 'NORMAL_ANTI': 'Antithetic normal draws',\n",
       " 'NORMAL_HALTON2': 'Normal draws from Halton base 2 sequence',\n",
       " 'NORMAL_HALTON3': 'Normal draws from Halton base 3 sequence',\n",
       " 'NORMAL_HALTON5': 'Normal draws from Halton base 5 sequence',\n",
       " 'NORMAL_MLHS': 'Normal draws from Modified Latin Hypercube Sampling',\n",
       " 'NORMAL_MLHS_ANTI': 'Antithetic normal draws from Modified Latin Hypercube Sampling'}"
      ]
     },
     "execution_count": 29,
     "metadata": {},
     "output_type": "execute_result"
    }
   ],
   "source": [
    "db.Database.descriptionOfNativeDraws()"
   ]
  },
  {
   "cell_type": "code",
   "execution_count": 30,
   "metadata": {
    "execution": {
     "iopub.execute_input": "2023-08-04T16:40:41.781256Z",
     "iopub.status.busy": "2023-08-04T16:40:41.781188Z",
     "iopub.status.idle": "2023-08-04T16:40:41.782688Z",
     "shell.execute_reply": "2023-08-04T16:40:41.782495Z"
    }
   },
   "outputs": [],
   "source": [
    "randomDraws1 = bioDraws('randomDraws1', 'NORMAL_MLHS_ANTI')\n",
    "randomDraws2 = bioDraws('randomDraws2', 'UNIFORM_MLHS_ANTI')\n",
    "randomDraws3 = bioDraws('randomDraws3', 'UNIFORMSYM_MLHS_ANTI')"
   ]
  },
  {
   "cell_type": "markdown",
   "metadata": {},
   "source": [
    "We build an expression that involves the three random variables"
   ]
  },
  {
   "cell_type": "code",
   "execution_count": 31,
   "metadata": {
    "execution": {
     "iopub.execute_input": "2023-08-04T16:40:41.783540Z",
     "iopub.status.busy": "2023-08-04T16:40:41.783476Z",
     "iopub.status.idle": "2023-08-04T16:40:41.784997Z",
     "shell.execute_reply": "2023-08-04T16:40:41.784806Z"
    }
   },
   "outputs": [
    {
     "name": "stdout",
     "output_type": "stream",
     "text": [
      "{'randomDraws1': 'NORMAL_MLHS_ANTI', 'randomDraws2': 'UNIFORM_MLHS_ANTI', 'randomDraws3': 'UNIFORMSYM_MLHS_ANTI'}\n"
     ]
    }
   ],
   "source": [
    "x = randomDraws1 + randomDraws2 + randomDraws3\n",
    "types = x.dict_of_elementary_expression(TypeOfElementaryExpression.DRAWS)\n",
    "print(types)"
   ]
  },
  {
   "cell_type": "code",
   "execution_count": 32,
   "metadata": {
    "execution": {
     "iopub.execute_input": "2023-08-04T16:40:41.785782Z",
     "iopub.status.busy": "2023-08-04T16:40:41.785717Z",
     "iopub.status.idle": "2023-08-04T16:40:41.788097Z",
     "shell.execute_reply": "2023-08-04T16:40:41.787910Z"
    }
   },
   "outputs": [
    {
     "data": {
      "text/plain": [
       "array([[[-0.5605896 ,  0.17260212, -0.35933972],\n",
       "        [-0.13811324,  0.53162299,  0.85919231],\n",
       "        [ 1.82908818,  0.04835596,  0.13484656],\n",
       "        [ 0.38628367,  0.78402643, -0.65819673],\n",
       "        [ 1.1505448 ,  0.6848117 ,  0.68832765],\n",
       "        [ 0.5605896 ,  0.82739788,  0.35933972],\n",
       "        [ 0.13811324,  0.46837701, -0.85919231],\n",
       "        [-1.82908818,  0.95164404, -0.13484656],\n",
       "        [-0.38628367,  0.21597357,  0.65819673],\n",
       "        [-1.1505448 ,  0.3151883 , -0.68832765]],\n",
       "\n",
       "       [[-0.64437973,  0.2080917 , -0.46801586],\n",
       "        [ 0.00796208,  0.12040568, -0.10798735],\n",
       "        [-1.6477843 ,  0.99704115,  0.21589817],\n",
       "        [-1.19741369,  0.83479683,  0.95349066],\n",
       "        [ 0.45912504,  0.6264498 , -0.29536472],\n",
       "        [ 0.64437973,  0.7919083 ,  0.46801586],\n",
       "        [-0.00796208,  0.87959432,  0.10798735],\n",
       "        [ 1.6477843 ,  0.00295885, -0.21589817],\n",
       "        [ 1.19741369,  0.16520317, -0.95349066],\n",
       "        [-0.45912504,  0.3735502 ,  0.29536472]],\n",
       "\n",
       "       [[ 0.79534986,  0.59656342,  0.03577992],\n",
       "        [ 0.94867479,  0.35276091, -0.77071189],\n",
       "        [-1.04456302,  0.88297895,  0.44668319],\n",
       "        [ 0.15248012,  0.43261985,  0.51955543],\n",
       "        [-0.35858978,  0.33330463, -0.98648324],\n",
       "        [-0.79534986,  0.40343658, -0.03577992],\n",
       "        [-0.94867479,  0.64723909,  0.77071189],\n",
       "        [ 1.04456302,  0.11702105, -0.44668319],\n",
       "        [-0.15248012,  0.56738015, -0.51955543],\n",
       "        [ 0.35858978,  0.66669537,  0.98648324]]])"
      ]
     },
     "execution_count": 32,
     "metadata": {},
     "output_type": "execute_result"
    }
   ],
   "source": [
    "theDrawsTable = myData.generateDraws(types,                         \n",
    "                                     ['randomDraws1',\n",
    "                                      'randomDraws2',\n",
    "                                      'randomDraws3'],\n",
    "                                     10)\n",
    "theDrawsTable"
   ]
  },
  {
   "cell_type": "markdown",
   "metadata": {},
   "source": [
    "## setRandomNumberGenerators"
   ]
  },
  {
   "cell_type": "markdown",
   "metadata": {},
   "source": [
    "Defines user-defined random numbers generators.\n",
    "        \n",
    "        Args:\n",
    "\n",
    "           rng: a dictionary of generators. The keys of the\n",
    "           dictionary\n",
    "           characterize the name of the generators, and must be\n",
    "           different from the pre-defined generators in Biogeme:\n",
    "           NORMAL, UNIFORM and UNIFORMSYM. The elements of the\n",
    "           dictionary are functions that take two arguments: the\n",
    "           number of series to generate (typically, the size of the\n",
    "           database), and the number of draws per series.\n",
    " \n",
    "        Returns: \n",
    "             nothing."
   ]
  },
  {
   "cell_type": "markdown",
   "metadata": {},
   "source": [
    "We first define functions returning draws, given the number of observations, and the number of draws"
   ]
  },
  {
   "cell_type": "code",
   "execution_count": 33,
   "metadata": {
    "execution": {
     "iopub.execute_input": "2023-08-04T16:40:41.789052Z",
     "iopub.status.busy": "2023-08-04T16:40:41.788978Z",
     "iopub.status.idle": "2023-08-04T16:40:41.790722Z",
     "shell.execute_reply": "2023-08-04T16:40:41.790510Z"
    }
   },
   "outputs": [],
   "source": [
    "def logNormalDraws(sampleSize, numberOfDraws):\n",
    "    return np.exp(np.random.randn(sampleSize, numberOfDraws))\n",
    "\n",
    "def exponentialDraws(sampleSize, numberOfDraws):\n",
    "    return -1.0 * np.log(np.random.rand(sampleSize, numberOfDraws))"
   ]
  },
  {
   "cell_type": "markdown",
   "metadata": {},
   "source": [
    "We associate these functions with a name"
   ]
  },
  {
   "cell_type": "code",
   "execution_count": 34,
   "metadata": {
    "execution": {
     "iopub.execute_input": "2023-08-04T16:40:41.791653Z",
     "iopub.status.busy": "2023-08-04T16:40:41.791595Z",
     "iopub.status.idle": "2023-08-04T16:40:41.793075Z",
     "shell.execute_reply": "2023-08-04T16:40:41.792866Z"
    }
   },
   "outputs": [],
   "source": [
    "dict = {'LOGNORMAL': (logNormalDraws, \n",
    "                      'Draws from lognormal distribution'), \n",
    "        'EXP': (exponentialDraws,\n",
    "                'Draws from exponential distributions')}\n",
    "myData.setRandomNumberGenerators(dict)"
   ]
  },
  {
   "cell_type": "markdown",
   "metadata": {},
   "source": [
    "We can now generate draws from these distributions"
   ]
  },
  {
   "cell_type": "code",
   "execution_count": 35,
   "metadata": {
    "execution": {
     "iopub.execute_input": "2023-08-04T16:40:41.793946Z",
     "iopub.status.busy": "2023-08-04T16:40:41.793887Z",
     "iopub.status.idle": "2023-08-04T16:40:41.796255Z",
     "shell.execute_reply": "2023-08-04T16:40:41.796019Z"
    }
   },
   "outputs": [
    {
     "name": "stdout",
     "output_type": "stream",
     "text": [
      "[[[2.15336577 0.35541854]\n",
      "  [0.92036707 0.38330687]\n",
      "  [1.35125462 2.83842826]\n",
      "  [0.27817501 0.46249413]\n",
      "  [0.5007549  0.6961861 ]\n",
      "  [1.11902088 1.05840875]\n",
      "  [0.6539865  0.15909907]\n",
      "  [0.11955894 0.38886736]\n",
      "  [0.60108954 0.40525196]\n",
      "  [3.93153651 0.35868107]]\n",
      "\n",
      " [[4.60723253 0.18021421]\n",
      "  [1.27062239 2.2373742 ]\n",
      "  [2.73460167 1.17203962]\n",
      "  [5.61600938 1.8920716 ]\n",
      "  [2.54756523 0.07930524]\n",
      "  [0.77284243 2.56028383]\n",
      "  [5.16153268 0.59225528]\n",
      "  [0.58972275 0.67940422]\n",
      "  [0.88324351 0.63497716]\n",
      "  [3.67625403 3.030641  ]]\n",
      "\n",
      " [[2.24536739 0.70518133]\n",
      "  [0.46930501 0.67990918]\n",
      "  [4.86579395 0.4097506 ]\n",
      "  [2.14129298 0.8086017 ]\n",
      "  [0.20614091 0.06963184]\n",
      "  [0.2096891  0.02382351]\n",
      "  [1.70933977 0.78170648]\n",
      "  [0.63660909 1.83653019]\n",
      "  [1.14977308 0.75890102]\n",
      "  [0.26832114 4.20117546]]]\n"
     ]
    }
   ],
   "source": [
    "randomDraws1 = bioDraws('randomDraws1', 'LOGNORMAL')\n",
    "randomDraws2 = bioDraws('randomDraws2', 'EXP')\n",
    "x = randomDraws1 + randomDraws2\n",
    "types = x.dict_of_elementary_expression(TypeOfElementaryExpression.DRAWS)\n",
    "theDrawsTable = myData.generateDraws(types,\n",
    "                                     ['randomDraws1',\n",
    "                                      'randomDraws2'],\n",
    "                                     10)\n",
    "print(theDrawsTable)"
   ]
  },
  {
   "cell_type": "markdown",
   "metadata": {},
   "source": [
    "## sampleWithReplacement"
   ]
  },
  {
   "cell_type": "markdown",
   "metadata": {},
   "source": [
    "Extract a random sample from the database, with replacement. Useful for bootstrapping. \n",
    "        Args:\n",
    "            size: size of the sample. If None, a sample of the same size as the database will be generated.\n",
    "\n",
    "        Returns:\n",
    "            pandas dataframe with the sample.\n"
   ]
  },
  {
   "cell_type": "code",
   "execution_count": 36,
   "metadata": {
    "execution": {
     "iopub.execute_input": "2023-08-04T16:40:41.797075Z",
     "iopub.status.busy": "2023-08-04T16:40:41.797015Z",
     "iopub.status.idle": "2023-08-04T16:40:41.801072Z",
     "shell.execute_reply": "2023-08-04T16:40:41.800884Z"
    }
   },
   "outputs": [
    {
     "data": {
      "text/html": [
       "<div>\n",
       "<style scoped>\n",
       "    .dataframe tbody tr th:only-of-type {\n",
       "        vertical-align: middle;\n",
       "    }\n",
       "\n",
       "    .dataframe tbody tr th {\n",
       "        vertical-align: top;\n",
       "    }\n",
       "\n",
       "    .dataframe thead th {\n",
       "        text-align: right;\n",
       "    }\n",
       "</style>\n",
       "<table border=\"1\" class=\"dataframe\">\n",
       "  <thead>\n",
       "    <tr style=\"text-align: right;\">\n",
       "      <th></th>\n",
       "      <th>Person</th>\n",
       "      <th>Exclude</th>\n",
       "      <th>Variable1</th>\n",
       "      <th>Variable2</th>\n",
       "      <th>Choice</th>\n",
       "      <th>Av1</th>\n",
       "      <th>Av2</th>\n",
       "      <th>Av3</th>\n",
       "      <th>NewVariable</th>\n",
       "    </tr>\n",
       "  </thead>\n",
       "  <tbody>\n",
       "    <tr>\n",
       "      <th>3</th>\n",
       "      <td>2</td>\n",
       "      <td>0</td>\n",
       "      <td>4</td>\n",
       "      <td>0.4</td>\n",
       "      <td>1</td>\n",
       "      <td>1</td>\n",
       "      <td>1</td>\n",
       "      <td>1</td>\n",
       "      <td>1.6</td>\n",
       "    </tr>\n",
       "    <tr>\n",
       "      <th>3</th>\n",
       "      <td>2</td>\n",
       "      <td>0</td>\n",
       "      <td>4</td>\n",
       "      <td>0.4</td>\n",
       "      <td>1</td>\n",
       "      <td>1</td>\n",
       "      <td>1</td>\n",
       "      <td>1</td>\n",
       "      <td>1.6</td>\n",
       "    </tr>\n",
       "    <tr>\n",
       "      <th>1</th>\n",
       "      <td>1</td>\n",
       "      <td>0</td>\n",
       "      <td>2</td>\n",
       "      <td>0.2</td>\n",
       "      <td>2</td>\n",
       "      <td>1</td>\n",
       "      <td>1</td>\n",
       "      <td>1</td>\n",
       "      <td>0.4</td>\n",
       "    </tr>\n",
       "  </tbody>\n",
       "</table>\n",
       "</div>"
      ],
      "text/plain": [
       "   Person  Exclude  Variable1  Variable2  Choice  Av1  Av2  Av3  NewVariable\n",
       "3       2        0          4        0.4       1    1    1    1          1.6\n",
       "3       2        0          4        0.4       1    1    1    1          1.6\n",
       "1       1        0          2        0.2       2    1    1    1          0.4"
      ]
     },
     "execution_count": 36,
     "metadata": {},
     "output_type": "execute_result"
    }
   ],
   "source": [
    "myData.sampleWithReplacement()"
   ]
  },
  {
   "cell_type": "code",
   "execution_count": 37,
   "metadata": {
    "execution": {
     "iopub.execute_input": "2023-08-04T16:40:41.801855Z",
     "iopub.status.busy": "2023-08-04T16:40:41.801797Z",
     "iopub.status.idle": "2023-08-04T16:40:41.805144Z",
     "shell.execute_reply": "2023-08-04T16:40:41.804960Z"
    }
   },
   "outputs": [
    {
     "data": {
      "text/html": [
       "<div>\n",
       "<style scoped>\n",
       "    .dataframe tbody tr th:only-of-type {\n",
       "        vertical-align: middle;\n",
       "    }\n",
       "\n",
       "    .dataframe tbody tr th {\n",
       "        vertical-align: top;\n",
       "    }\n",
       "\n",
       "    .dataframe thead th {\n",
       "        text-align: right;\n",
       "    }\n",
       "</style>\n",
       "<table border=\"1\" class=\"dataframe\">\n",
       "  <thead>\n",
       "    <tr style=\"text-align: right;\">\n",
       "      <th></th>\n",
       "      <th>Person</th>\n",
       "      <th>Exclude</th>\n",
       "      <th>Variable1</th>\n",
       "      <th>Variable2</th>\n",
       "      <th>Choice</th>\n",
       "      <th>Av1</th>\n",
       "      <th>Av2</th>\n",
       "      <th>Av3</th>\n",
       "      <th>NewVariable</th>\n",
       "    </tr>\n",
       "  </thead>\n",
       "  <tbody>\n",
       "    <tr>\n",
       "      <th>3</th>\n",
       "      <td>2</td>\n",
       "      <td>0</td>\n",
       "      <td>4</td>\n",
       "      <td>0.4</td>\n",
       "      <td>1</td>\n",
       "      <td>1</td>\n",
       "      <td>1</td>\n",
       "      <td>1</td>\n",
       "      <td>1.6</td>\n",
       "    </tr>\n",
       "    <tr>\n",
       "      <th>0</th>\n",
       "      <td>1</td>\n",
       "      <td>0</td>\n",
       "      <td>1</td>\n",
       "      <td>0.1</td>\n",
       "      <td>1</td>\n",
       "      <td>0</td>\n",
       "      <td>1</td>\n",
       "      <td>0</td>\n",
       "      <td>0.1</td>\n",
       "    </tr>\n",
       "    <tr>\n",
       "      <th>0</th>\n",
       "      <td>1</td>\n",
       "      <td>0</td>\n",
       "      <td>1</td>\n",
       "      <td>0.1</td>\n",
       "      <td>1</td>\n",
       "      <td>0</td>\n",
       "      <td>1</td>\n",
       "      <td>0</td>\n",
       "      <td>0.1</td>\n",
       "    </tr>\n",
       "    <tr>\n",
       "      <th>0</th>\n",
       "      <td>1</td>\n",
       "      <td>0</td>\n",
       "      <td>1</td>\n",
       "      <td>0.1</td>\n",
       "      <td>1</td>\n",
       "      <td>0</td>\n",
       "      <td>1</td>\n",
       "      <td>0</td>\n",
       "      <td>0.1</td>\n",
       "    </tr>\n",
       "    <tr>\n",
       "      <th>0</th>\n",
       "      <td>1</td>\n",
       "      <td>0</td>\n",
       "      <td>1</td>\n",
       "      <td>0.1</td>\n",
       "      <td>1</td>\n",
       "      <td>0</td>\n",
       "      <td>1</td>\n",
       "      <td>0</td>\n",
       "      <td>0.1</td>\n",
       "    </tr>\n",
       "    <tr>\n",
       "      <th>1</th>\n",
       "      <td>1</td>\n",
       "      <td>0</td>\n",
       "      <td>2</td>\n",
       "      <td>0.2</td>\n",
       "      <td>2</td>\n",
       "      <td>1</td>\n",
       "      <td>1</td>\n",
       "      <td>1</td>\n",
       "      <td>0.4</td>\n",
       "    </tr>\n",
       "  </tbody>\n",
       "</table>\n",
       "</div>"
      ],
      "text/plain": [
       "   Person  Exclude  Variable1  Variable2  Choice  Av1  Av2  Av3  NewVariable\n",
       "3       2        0          4        0.4       1    1    1    1          1.6\n",
       "0       1        0          1        0.1       1    0    1    0          0.1\n",
       "0       1        0          1        0.1       1    0    1    0          0.1\n",
       "0       1        0          1        0.1       1    0    1    0          0.1\n",
       "0       1        0          1        0.1       1    0    1    0          0.1\n",
       "1       1        0          2        0.2       2    1    1    1          0.4"
      ]
     },
     "execution_count": 37,
     "metadata": {},
     "output_type": "execute_result"
    }
   ],
   "source": [
    "myData.sampleWithReplacement(6)"
   ]
  },
  {
   "cell_type": "markdown",
   "metadata": {},
   "source": [
    "## panel"
   ]
  },
  {
   "cell_type": "markdown",
   "metadata": {},
   "source": [
    "Defines the data as panel data\n",
    "\n",
    "        Args:\n",
    "           columnName: name of the columns that identifies\n",
    "           individuals.\n"
   ]
  },
  {
   "cell_type": "code",
   "execution_count": 38,
   "metadata": {
    "execution": {
     "iopub.execute_input": "2023-08-04T16:40:41.805951Z",
     "iopub.status.busy": "2023-08-04T16:40:41.805889Z",
     "iopub.status.idle": "2023-08-04T16:40:41.807413Z",
     "shell.execute_reply": "2023-08-04T16:40:41.807210Z"
    }
   },
   "outputs": [],
   "source": [
    "myPanelData = db.Database('test', df)"
   ]
  },
  {
   "cell_type": "markdown",
   "metadata": {},
   "source": [
    "Data is not considered panel yet"
   ]
  },
  {
   "cell_type": "code",
   "execution_count": 39,
   "metadata": {
    "execution": {
     "iopub.execute_input": "2023-08-04T16:40:41.808269Z",
     "iopub.status.busy": "2023-08-04T16:40:41.808205Z",
     "iopub.status.idle": "2023-08-04T16:40:41.809894Z",
     "shell.execute_reply": "2023-08-04T16:40:41.809697Z"
    }
   },
   "outputs": [
    {
     "data": {
      "text/plain": [
       "False"
      ]
     },
     "execution_count": 39,
     "metadata": {},
     "output_type": "execute_result"
    }
   ],
   "source": [
    "myPanelData.isPanel()"
   ]
  },
  {
   "cell_type": "code",
   "execution_count": 40,
   "metadata": {
    "execution": {
     "iopub.execute_input": "2023-08-04T16:40:41.810790Z",
     "iopub.status.busy": "2023-08-04T16:40:41.810717Z",
     "iopub.status.idle": "2023-08-04T16:40:41.813915Z",
     "shell.execute_reply": "2023-08-04T16:40:41.813685Z"
    }
   },
   "outputs": [],
   "source": [
    "myPanelData.panel('Person')"
   ]
  },
  {
   "cell_type": "markdown",
   "metadata": {},
   "source": [
    "Now it is panel"
   ]
  },
  {
   "cell_type": "code",
   "execution_count": 41,
   "metadata": {
    "execution": {
     "iopub.execute_input": "2023-08-04T16:40:41.814904Z",
     "iopub.status.busy": "2023-08-04T16:40:41.814823Z",
     "iopub.status.idle": "2023-08-04T16:40:41.816381Z",
     "shell.execute_reply": "2023-08-04T16:40:41.816111Z"
    }
   },
   "outputs": [
    {
     "name": "stdout",
     "output_type": "stream",
     "text": [
      "True\n"
     ]
    }
   ],
   "source": [
    "print(myPanelData.isPanel())"
   ]
  },
  {
   "cell_type": "code",
   "execution_count": 42,
   "metadata": {
    "execution": {
     "iopub.execute_input": "2023-08-04T16:40:41.817372Z",
     "iopub.status.busy": "2023-08-04T16:40:41.817255Z",
     "iopub.status.idle": "2023-08-04T16:40:41.819628Z",
     "shell.execute_reply": "2023-08-04T16:40:41.819427Z"
    }
   },
   "outputs": [
    {
     "name": "stdout",
     "output_type": "stream",
     "text": [
      "biogeme database test:\n",
      "   Person  Exclude  Variable1  Variable2  Choice  Av1  Av2  Av3  NewVariable\n",
      "0       1        0          1        0.1       1    0    1    0          0.1\n",
      "1       1        0          2        0.2       2    1    1    1          0.4\n",
      "2       2        0          4        0.4       1    1    1    1          1.6\n",
      "Panel data\n",
      "   0  1\n",
      "1  0  1\n",
      "2  2  2\n"
     ]
    }
   ],
   "source": [
    "print(myPanelData)"
   ]
  },
  {
   "cell_type": "markdown",
   "metadata": {},
   "source": [
    "When draws are generated for panel data, a set of draws is generated per person, not per observation."
   ]
  },
  {
   "cell_type": "code",
   "execution_count": 43,
   "metadata": {
    "execution": {
     "iopub.execute_input": "2023-08-04T16:40:41.820528Z",
     "iopub.status.busy": "2023-08-04T16:40:41.820459Z",
     "iopub.status.idle": "2023-08-04T16:40:41.821891Z",
     "shell.execute_reply": "2023-08-04T16:40:41.821691Z"
    }
   },
   "outputs": [],
   "source": [
    "randomDraws1 = bioDraws('randomDraws1', 'NORMAL')\n",
    "randomDraws2 = bioDraws('randomDraws2', 'UNIFORM_HALTON3')"
   ]
  },
  {
   "cell_type": "markdown",
   "metadata": {},
   "source": [
    "We build an expression that involves the two random variables"
   ]
  },
  {
   "cell_type": "code",
   "execution_count": 44,
   "metadata": {
    "execution": {
     "iopub.execute_input": "2023-08-04T16:40:41.822847Z",
     "iopub.status.busy": "2023-08-04T16:40:41.822788Z",
     "iopub.status.idle": "2023-08-04T16:40:41.824842Z",
     "shell.execute_reply": "2023-08-04T16:40:41.824645Z"
    }
   },
   "outputs": [
    {
     "name": "stdout",
     "output_type": "stream",
     "text": [
      "[[[-1.57792232  0.7037037 ]\n",
      "  [ 0.10870961  0.14814815]\n",
      "  [ 0.05140378  0.48148148]\n",
      "  [ 1.800922    0.81481481]\n",
      "  [-1.85148982  0.25925926]\n",
      "  [ 0.87938314  0.59259259]\n",
      "  [ 1.353763    0.92592593]\n",
      "  [-0.46741631  0.07407407]\n",
      "  [-1.09546279  0.40740741]\n",
      "  [-0.09265338  0.74074074]]\n",
      "\n",
      " [[ 1.92991243  0.18518519]\n",
      "  [-0.29388122  0.51851852]\n",
      "  [-0.49084943  0.85185185]\n",
      "  [ 0.2439256   0.2962963 ]\n",
      "  [ 0.42498657  0.62962963]\n",
      "  [-2.72496968  0.96296296]\n",
      "  [ 2.0755831   0.01234568]\n",
      "  [ 0.44793057  0.34567901]\n",
      "  [-0.13185245  0.67901235]\n",
      "  [-1.04344227  0.12345679]]]\n"
     ]
    }
   ],
   "source": [
    "x = randomDraws1 + randomDraws2\n",
    "types = x.dict_of_elementary_expression(TypeOfElementaryExpression.DRAWS)\n",
    "theDrawsTable = myPanelData.generateDraws(types,\n",
    "                                          ['randomDraws1',\n",
    "                                           'randomDraws2'],\n",
    "                                          10)\n",
    "print(theDrawsTable)"
   ]
  },
  {
   "cell_type": "markdown",
   "metadata": {},
   "source": [
    "## getNumberOfObservations"
   ]
  },
  {
   "cell_type": "markdown",
   "metadata": {},
   "source": [
    "Reports the number of observations in the database. Note that it returns the same value, irrespectively if the database contains panel data or not.  \n",
    "\n",
    "        Returns:\n",
    "            Number of observations.\n",
    "\n",
    "        See:  getSampleSize()\n"
   ]
  },
  {
   "cell_type": "code",
   "execution_count": 45,
   "metadata": {
    "execution": {
     "iopub.execute_input": "2023-08-04T16:40:41.825781Z",
     "iopub.status.busy": "2023-08-04T16:40:41.825717Z",
     "iopub.status.idle": "2023-08-04T16:40:41.827432Z",
     "shell.execute_reply": "2023-08-04T16:40:41.827205Z"
    }
   },
   "outputs": [
    {
     "data": {
      "text/plain": [
       "3"
      ]
     },
     "execution_count": 45,
     "metadata": {},
     "output_type": "execute_result"
    }
   ],
   "source": [
    "myData.getNumberOfObservations()"
   ]
  },
  {
   "cell_type": "code",
   "execution_count": 46,
   "metadata": {
    "execution": {
     "iopub.execute_input": "2023-08-04T16:40:41.828323Z",
     "iopub.status.busy": "2023-08-04T16:40:41.828262Z",
     "iopub.status.idle": "2023-08-04T16:40:41.830006Z",
     "shell.execute_reply": "2023-08-04T16:40:41.829805Z"
    }
   },
   "outputs": [
    {
     "data": {
      "text/plain": [
       "3"
      ]
     },
     "execution_count": 46,
     "metadata": {},
     "output_type": "execute_result"
    }
   ],
   "source": [
    "myPanelData.getNumberOfObservations()"
   ]
  },
  {
   "cell_type": "markdown",
   "metadata": {},
   "source": [
    "## getSampleSize"
   ]
  },
  {
   "cell_type": "markdown",
   "metadata": {},
   "source": [
    "Reports the size of the sample. If the data is cross-sectional, it\n",
    "        is the number of observations in the database. If the data is panel,\n",
    "        it is the number of individuals.\n",
    "\n",
    "        Returns: \n",
    "           Sample size.\n",
    "\n",
    "        See: getNumberOfObservations()\n"
   ]
  },
  {
   "cell_type": "code",
   "execution_count": 47,
   "metadata": {
    "execution": {
     "iopub.execute_input": "2023-08-04T16:40:41.830975Z",
     "iopub.status.busy": "2023-08-04T16:40:41.830903Z",
     "iopub.status.idle": "2023-08-04T16:40:41.832607Z",
     "shell.execute_reply": "2023-08-04T16:40:41.832411Z"
    }
   },
   "outputs": [
    {
     "data": {
      "text/plain": [
       "3"
      ]
     },
     "execution_count": 47,
     "metadata": {},
     "output_type": "execute_result"
    }
   ],
   "source": [
    "myData.getSampleSize()"
   ]
  },
  {
   "cell_type": "code",
   "execution_count": 48,
   "metadata": {
    "execution": {
     "iopub.execute_input": "2023-08-04T16:40:41.833526Z",
     "iopub.status.busy": "2023-08-04T16:40:41.833464Z",
     "iopub.status.idle": "2023-08-04T16:40:41.835173Z",
     "shell.execute_reply": "2023-08-04T16:40:41.834972Z"
    }
   },
   "outputs": [
    {
     "data": {
      "text/plain": [
       "2"
      ]
     },
     "execution_count": 48,
     "metadata": {},
     "output_type": "execute_result"
    }
   ],
   "source": [
    "myPanelData.getSampleSize()"
   ]
  },
  {
   "cell_type": "markdown",
   "metadata": {},
   "source": [
    "## sampleIndividualMapWithReplacement"
   ]
  },
  {
   "cell_type": "markdown",
   "metadata": {},
   "source": [
    "Extract a random sample of the individual map from a panel data database, with replacement. Useful for bootstrapping. \n",
    "\n",
    "        Args:\n",
    "            size: size of the sample. If None, a sample of the same\n",
    "            size as the database will be generated.\n",
    "\n",
    "        Returns:\n",
    "            pandas dataframe with the sample.\n"
   ]
  },
  {
   "cell_type": "code",
   "execution_count": 49,
   "metadata": {
    "execution": {
     "iopub.execute_input": "2023-08-04T16:40:41.836111Z",
     "iopub.status.busy": "2023-08-04T16:40:41.836036Z",
     "iopub.status.idle": "2023-08-04T16:40:41.838524Z",
     "shell.execute_reply": "2023-08-04T16:40:41.838321Z"
    }
   },
   "outputs": [
    {
     "data": {
      "text/html": [
       "<div>\n",
       "<style scoped>\n",
       "    .dataframe tbody tr th:only-of-type {\n",
       "        vertical-align: middle;\n",
       "    }\n",
       "\n",
       "    .dataframe tbody tr th {\n",
       "        vertical-align: top;\n",
       "    }\n",
       "\n",
       "    .dataframe thead th {\n",
       "        text-align: right;\n",
       "    }\n",
       "</style>\n",
       "<table border=\"1\" class=\"dataframe\">\n",
       "  <thead>\n",
       "    <tr style=\"text-align: right;\">\n",
       "      <th></th>\n",
       "      <th>0</th>\n",
       "      <th>1</th>\n",
       "    </tr>\n",
       "  </thead>\n",
       "  <tbody>\n",
       "    <tr>\n",
       "      <th>2</th>\n",
       "      <td>2</td>\n",
       "      <td>2</td>\n",
       "    </tr>\n",
       "    <tr>\n",
       "      <th>1</th>\n",
       "      <td>0</td>\n",
       "      <td>1</td>\n",
       "    </tr>\n",
       "    <tr>\n",
       "      <th>1</th>\n",
       "      <td>0</td>\n",
       "      <td>1</td>\n",
       "    </tr>\n",
       "    <tr>\n",
       "      <th>1</th>\n",
       "      <td>0</td>\n",
       "      <td>1</td>\n",
       "    </tr>\n",
       "    <tr>\n",
       "      <th>1</th>\n",
       "      <td>0</td>\n",
       "      <td>1</td>\n",
       "    </tr>\n",
       "    <tr>\n",
       "      <th>1</th>\n",
       "      <td>0</td>\n",
       "      <td>1</td>\n",
       "    </tr>\n",
       "    <tr>\n",
       "      <th>1</th>\n",
       "      <td>0</td>\n",
       "      <td>1</td>\n",
       "    </tr>\n",
       "    <tr>\n",
       "      <th>1</th>\n",
       "      <td>0</td>\n",
       "      <td>1</td>\n",
       "    </tr>\n",
       "    <tr>\n",
       "      <th>2</th>\n",
       "      <td>2</td>\n",
       "      <td>2</td>\n",
       "    </tr>\n",
       "    <tr>\n",
       "      <th>1</th>\n",
       "      <td>0</td>\n",
       "      <td>1</td>\n",
       "    </tr>\n",
       "  </tbody>\n",
       "</table>\n",
       "</div>"
      ],
      "text/plain": [
       "   0  1\n",
       "2  2  2\n",
       "1  0  1\n",
       "1  0  1\n",
       "1  0  1\n",
       "1  0  1\n",
       "1  0  1\n",
       "1  0  1\n",
       "1  0  1\n",
       "2  2  2\n",
       "1  0  1"
      ]
     },
     "execution_count": 49,
     "metadata": {},
     "output_type": "execute_result"
    }
   ],
   "source": [
    "myPanelData.sampleIndividualMapWithReplacement(10)"
   ]
  },
  {
   "cell_type": "code",
   "execution_count": null,
   "metadata": {},
   "outputs": [],
   "source": []
  }
 ],
 "metadata": {
  "kernelspec": {
   "display_name": "Python 3 (ipykernel)",
   "language": "python",
   "name": "python3"
  },
  "language_info": {
   "codemirror_mode": {
    "name": "ipython",
    "version": 3
   },
   "file_extension": ".py",
   "mimetype": "text/x-python",
   "name": "python",
   "nbconvert_exporter": "python",
   "pygments_lexer": "ipython3",
   "version": "3.11.3"
  }
 },
 "nbformat": 4,
 "nbformat_minor": 4
}
