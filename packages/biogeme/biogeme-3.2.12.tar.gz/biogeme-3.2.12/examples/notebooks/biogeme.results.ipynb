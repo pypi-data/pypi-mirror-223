{
 "cells": [
  {
   "cell_type": "markdown",
   "metadata": {},
   "source": [
    "# Module biogeme.results"
   ]
  },
  {
   "cell_type": "markdown",
   "metadata": {},
   "source": [
    "## Examples of use of each function"
   ]
  },
  {
   "cell_type": "markdown",
   "metadata": {},
   "source": [
    "This webpage is for programmers who need examples of use of the functions of the class. The examples are designed to illustrate the syntax. They do not correspond to any meaningful model. For examples of models, visit  [biogeme.epfl.ch](http://biogeme.epfl.ch)."
   ]
  },
  {
   "cell_type": "code",
   "execution_count": 1,
   "metadata": {
    "execution": {
     "iopub.execute_input": "2023-08-04T16:40:49.139885Z",
     "iopub.status.busy": "2023-08-04T16:40:49.139519Z",
     "iopub.status.idle": "2023-08-04T16:40:49.148296Z",
     "shell.execute_reply": "2023-08-04T16:40:49.147836Z"
    }
   },
   "outputs": [
    {
     "name": "stdout",
     "output_type": "stream",
     "text": [
      "2023-08-04 18:40:49.146423\n"
     ]
    }
   ],
   "source": [
    "import datetime\n",
    "print(datetime.datetime.now())"
   ]
  },
  {
   "cell_type": "code",
   "execution_count": 2,
   "metadata": {
    "execution": {
     "iopub.execute_input": "2023-08-04T16:40:49.150367Z",
     "iopub.status.busy": "2023-08-04T16:40:49.150187Z",
     "iopub.status.idle": "2023-08-04T16:40:49.153646Z",
     "shell.execute_reply": "2023-08-04T16:40:49.153269Z"
    }
   },
   "outputs": [
    {
     "name": "stdout",
     "output_type": "stream",
     "text": [
      "biogeme 3.2.12 [2023-08-04]\n",
      "Home page: http://biogeme.epfl.ch\n",
      "Submit questions to https://groups.google.com/d/forum/biogeme\n",
      "Michel Bierlaire, Transport and Mobility Laboratory, Ecole Polytechnique Fédérale de Lausanne (EPFL)\n",
      "\n"
     ]
    }
   ],
   "source": [
    "import biogeme.version as ver\n",
    "print(ver.getText())"
   ]
  },
  {
   "cell_type": "code",
   "execution_count": 3,
   "metadata": {
    "execution": {
     "iopub.execute_input": "2023-08-04T16:40:49.155308Z",
     "iopub.status.busy": "2023-08-04T16:40:49.155195Z",
     "iopub.status.idle": "2023-08-04T16:40:49.353972Z",
     "shell.execute_reply": "2023-08-04T16:40:49.349608Z"
    }
   },
   "outputs": [],
   "source": [
    "import numpy as np\n",
    "import pandas as pd"
   ]
  },
  {
   "cell_type": "code",
   "execution_count": 4,
   "metadata": {
    "execution": {
     "iopub.execute_input": "2023-08-04T16:40:49.357451Z",
     "iopub.status.busy": "2023-08-04T16:40:49.357212Z",
     "iopub.status.idle": "2023-08-04T16:40:49.755698Z",
     "shell.execute_reply": "2023-08-04T16:40:49.755345Z"
    }
   },
   "outputs": [],
   "source": [
    "import biogeme.biogeme as bio\n",
    "import biogeme.database as db\n",
    "import biogeme.results as res\n",
    "from biogeme.expressions import Beta, Variable, exp"
   ]
  },
  {
   "cell_type": "markdown",
   "metadata": {},
   "source": [
    "##  Definition of a database"
   ]
  },
  {
   "cell_type": "code",
   "execution_count": 5,
   "metadata": {
    "execution": {
     "iopub.execute_input": "2023-08-04T16:40:49.757248Z",
     "iopub.status.busy": "2023-08-04T16:40:49.757102Z",
     "iopub.status.idle": "2023-08-04T16:40:49.760128Z",
     "shell.execute_reply": "2023-08-04T16:40:49.759832Z"
    }
   },
   "outputs": [],
   "source": [
    "df = pd.DataFrame({'Person': [1, 1, 1, 2, 2],\n",
    "                   'Exclude': [0, 0, 1, 0, 1],\n",
    "                   'Variable1': [1, 2, 3, 4, 5],\n",
    "                   'Variable2': [10, 20, 30,40, 50],\n",
    "                   'Choice': [1, 2, 3, 1, 2],\n",
    "                   'Av1': [0, 1, 1, 1, 1],\n",
    "                   'Av2': [1, 1, 1, 1, 1],\n",
    "                   'Av3': [0, 1, 1, 1, 1]})\n",
    "myData = db.Database('test', df)"
   ]
  },
  {
   "cell_type": "markdown",
   "metadata": {},
   "source": [
    "## Definition of various expressions"
   ]
  },
  {
   "cell_type": "code",
   "execution_count": 6,
   "metadata": {
    "execution": {
     "iopub.execute_input": "2023-08-04T16:40:49.761248Z",
     "iopub.status.busy": "2023-08-04T16:40:49.761169Z",
     "iopub.status.idle": "2023-08-04T16:40:49.763232Z",
     "shell.execute_reply": "2023-08-04T16:40:49.762983Z"
    }
   },
   "outputs": [],
   "source": [
    "Variable1 = Variable('Variable1')\n",
    "Variable2 = Variable('Variable2')\n",
    "beta1 = Beta('beta1', -1.0, -3, 3, 0)\n",
    "beta2 = Beta('beta2', 2.0, -3, 10, 0)\n",
    "likelihood = -beta1**2 * Variable1 - exp(beta2 * beta1) * \\\n",
    "    Variable2 - beta2**4\n",
    "simul = beta1 / Variable1 + beta2 / Variable2\n",
    "dictOfExpressions = {'loglike':likelihood,\n",
    "                     'beta1':beta1,\n",
    "                     'simul':simul}"
   ]
  },
  {
   "cell_type": "markdown",
   "metadata": {},
   "source": [
    "## Creation of the BIOGEME object"
   ]
  },
  {
   "cell_type": "code",
   "execution_count": 7,
   "metadata": {
    "execution": {
     "iopub.execute_input": "2023-08-04T16:40:49.764173Z",
     "iopub.status.busy": "2023-08-04T16:40:49.764110Z",
     "iopub.status.idle": "2023-08-04T16:40:49.859696Z",
     "shell.execute_reply": "2023-08-04T16:40:49.859438Z"
    }
   },
   "outputs": [
    {
     "name": "stderr",
     "output_type": "stream",
     "text": [
      "\r",
      "  0%|                                                                                                                                                                                                                                                                                                                                                | 0/10 [00:00<?, ?it/s]"
     ]
    },
    {
     "name": "stderr",
     "output_type": "stream",
     "text": [
      "\r",
      "100%|██████████████████████████████████████████████████████████████████████████████████████████████████████████████████████████████████████████████████████████████████████████████████████████████████████████████████████████████████████████████████████████████████████████████████████████████████████████████████████████████████████| 10/10 [00:00<00:00, 600.81it/s]"
     ]
    },
    {
     "name": "stdout",
     "output_type": "stream",
     "text": [
      "\n",
      "Results for model simpleExample\n",
      "Output file (HTML):\t\t\tsimpleExample.html\n",
      "Nbr of parameters:\t\t2\n",
      "Sample size:\t\t\t5\n",
      "Excluded data:\t\t\t0\n",
      "Init log likelihood:\t\t-115.3003\n",
      "Final log likelihood:\t\t-67.06549\n",
      "Likelihood ratio test (init):\t\t96.4696\n",
      "Rho square (init):\t\t\t0.418\n",
      "Rho bar square (init):\t\t\t0.401\n",
      "Akaike Information Criterion:\t138.131\n",
      "Bayesian Information Criterion:\t137.3499\n",
      "Final gradient norm:\t\t1.152097e-07\n",
      "beta1          : -1.27[0.115 -11.1 0][0.0137 -92.8 0][0.0181 -70.3 0]\n",
      "beta2          : 1.25[0.0848 14.7 0][0.0591 21.1 0][0.0809 15.4 0]\n",
      "('beta2', 'beta1'):\t0.00167\t0.171\t19.3\t0\t0.000811\t1\t55.6\t0\n",
      "\n"
     ]
    },
    {
     "name": "stderr",
     "output_type": "stream",
     "text": [
      "\n"
     ]
    }
   ],
   "source": [
    "myBiogeme = bio.BIOGEME(myData, dictOfExpressions)\n",
    "myBiogeme.modelName = 'simpleExample'\n",
    "myBiogeme.bootstrap_samples = 10\n",
    "results = myBiogeme.estimate(run_bootstrap=True)\n",
    "print(results)"
   ]
  },
  {
   "cell_type": "markdown",
   "metadata": {},
   "source": [
    "Dump results on a file"
   ]
  },
  {
   "cell_type": "code",
   "execution_count": 8,
   "metadata": {
    "execution": {
     "iopub.execute_input": "2023-08-04T16:40:49.860851Z",
     "iopub.status.busy": "2023-08-04T16:40:49.860758Z",
     "iopub.status.idle": "2023-08-04T16:40:49.862827Z",
     "shell.execute_reply": "2023-08-04T16:40:49.862618Z"
    }
   },
   "outputs": [
    {
     "name": "stdout",
     "output_type": "stream",
     "text": [
      "simpleExample~00.pickle\n"
     ]
    }
   ],
   "source": [
    "the_pickle_file = results.writePickle()\n",
    "print(the_pickle_file)"
   ]
  },
  {
   "cell_type": "markdown",
   "metadata": {},
   "source": [
    "Results can be imported from a file previously generated"
   ]
  },
  {
   "cell_type": "code",
   "execution_count": 9,
   "metadata": {
    "execution": {
     "iopub.execute_input": "2023-08-04T16:40:49.863737Z",
     "iopub.status.busy": "2023-08-04T16:40:49.863675Z",
     "iopub.status.idle": "2023-08-04T16:40:49.870942Z",
     "shell.execute_reply": "2023-08-04T16:40:49.870750Z"
    }
   },
   "outputs": [
    {
     "name": "stdout",
     "output_type": "stream",
     "text": [
      "\n",
      "Results for model simpleExample\n",
      "Output file (HTML):\t\t\tsimpleExample.html\n",
      "Nbr of parameters:\t\t2\n",
      "Sample size:\t\t\t5\n",
      "Excluded data:\t\t\t0\n",
      "Init log likelihood:\t\t-115.3003\n",
      "Final log likelihood:\t\t-67.06549\n",
      "Likelihood ratio test (init):\t\t96.4696\n",
      "Rho square (init):\t\t\t0.418\n",
      "Rho bar square (init):\t\t\t0.401\n",
      "Akaike Information Criterion:\t138.131\n",
      "Bayesian Information Criterion:\t137.3499\n",
      "Final gradient norm:\t\t1.152097e-07\n",
      "beta1          : -1.27[0.115 -11.1 0][0.0137 -92.8 0][0.0181 -70.3 0]\n",
      "beta2          : 1.25[0.0848 14.7 0][0.0591 21.1 0][0.0809 15.4 0]\n",
      "('beta2', 'beta1'):\t0.00167\t0.171\t19.3\t0\t0.000811\t1\t55.6\t0\n",
      "\n"
     ]
    }
   ],
   "source": [
    "readResults = res.bioResults(pickleFile=the_pickle_file)\n",
    "print(readResults)"
   ]
  },
  {
   "cell_type": "markdown",
   "metadata": {},
   "source": [
    "Results can be formatted in LaTeX"
   ]
  },
  {
   "cell_type": "code",
   "execution_count": 10,
   "metadata": {
    "execution": {
     "iopub.execute_input": "2023-08-04T16:40:49.871786Z",
     "iopub.status.busy": "2023-08-04T16:40:49.871720Z",
     "iopub.status.idle": "2023-08-04T16:40:49.933503Z",
     "shell.execute_reply": "2023-08-04T16:40:49.933303Z"
    }
   },
   "outputs": [
    {
     "name": "stdout",
     "output_type": "stream",
     "text": [
      "%% This file is designed to be included into a LaTeX document\n",
      "%% See http://www.latex-project.org for information about LaTeX\n",
      "%% simpleExample - Report from biogeme 3.2.12 [2023-08-04]\n",
      "%% biogeme 3.2.12 [2023-08-04]\n",
      "%% Version entirely written in Python\n",
      "%% Home page: http://biogeme.epfl.ch\n",
      "%% Submit questions to https://groups.google.com/d/forum/biogeme\n",
      "%% Michel Bierlaire, Transport and Mobility Laboratory, Ecole Polytechnique Fédérale de Lausanne (EPFL)\n",
      "\n",
      "%% This file has automatically been generated on 2023-08-04 18:40:49.872066</p>\n",
      "\n",
      "%%Database name: test\n",
      "\n",
      "%% General statistics\n",
      "\\section{General statistics}\n",
      "\\begin{tabular}{ll}\n",
      "Number of estimated parameters & 2 \\\\\n",
      "Sample size & 5 \\\\\n",
      "Excluded observations & 0 \\\\\n",
      "Init log likelihood & -115.3003 \\\\\n",
      "Final log likelihood & -67.06549 \\\\\n",
      "Likelihood ratio test for the init. model & 96.4696 \\\\\n",
      "Rho-square for the init. model & 0.418 \\\\\n",
      "Rho-square-bar for the init. model & 0.401 \\\\\n",
      "Akaike Information Criterion & 138.131 \\\\\n",
      "Bayesian Information Criterion & 137.3499 \\\\\n",
      "Final gradient norm & 1.1521E-07 \\\\\n",
      "Bootstrapping time & 0:00:00.079456 \\\\\n",
      "Nbr of threads & 12 \\\\\n",
      "Relative gradient & \\verb$1.247036296620742e-09$ \\\\\n",
      "Cause of termination & \\verb$Relative gradient = 1.2e-09 <= 6.1e-06$ \\\\\n",
      "Number of function evaluations & \\verb$5$ \\\\\n",
      "Number of gradient evaluations & \\verb$5$ \\\\\n",
      "Number of hessian evaluations & \\verb$4$ \\\\\n",
      "Algorithm & \\verb$Newton with trust region for simple bound constraints$ \\\\\n",
      "Number of iterations & \\verb$4$ \\\\\n",
      "Proportion of Hessian calculation & \\verb$4/4 = 100.0%$ \\\\\n",
      "Optimization time & \\verb$0:00:00.003230$ \\\\\n",
      "\\end{tabular}\n",
      "\n",
      "%%Parameter estimates\n",
      "\\section{Parameter estimates}\n",
      "\\begin{tabular}{lrrrr}\n",
      " & Value & Rob. Std err & Rob. t-test & Rob. p-value \\\\\n",
      "beta1 & -1.27 & 0.0137 & -92.8 & 0.0 \\\\\n",
      "beta2 & 1.25 & 0.0591 & 21.1 & 0.0 \\\\\n",
      "\\end{tabular}\n",
      "\n",
      "%%Correlation\n",
      "\\section{Correlation}\n",
      "\\begin{tabular}{lrrrrrrrrrrrr}\n",
      " & Covariance & Correlation & t-test & p-value & Rob. cov. & Rob. corr. & Rob. t-test & Rob. p-value & Boot. cov. & Boot. corr. & Boot. t-test & Boot. p-value \\\\\n",
      "beta2-beta1 & 0.00167 & 0.171 & 19.3 & 0.0 & 0.000811 & 1.0 & 55.6 & 0.0 & 0.00146 & 1.0 & 40.2 & 0.0 \\\\\n",
      "\\end{tabular}\n",
      "\n"
     ]
    }
   ],
   "source": [
    "print(readResults.getLaTeX())"
   ]
  },
  {
   "cell_type": "markdown",
   "metadata": {},
   "source": [
    "Results can be formatted in HTML"
   ]
  },
  {
   "cell_type": "code",
   "execution_count": 11,
   "metadata": {
    "execution": {
     "iopub.execute_input": "2023-08-04T16:40:49.934593Z",
     "iopub.status.busy": "2023-08-04T16:40:49.934494Z",
     "iopub.status.idle": "2023-08-04T16:40:49.937629Z",
     "shell.execute_reply": "2023-08-04T16:40:49.937441Z"
    }
   },
   "outputs": [
    {
     "name": "stdout",
     "output_type": "stream",
     "text": [
      "<html>\n",
      "<head>\n",
      "<script src=\"http://transp-or.epfl.ch/biogeme/sorttable.js\"></script>\n",
      "<meta http-equiv=\"Content-Type\" content=\"text/html; charset=utf-8\" />\n",
      "<title>simpleExample - Report from biogeme 3.2.12 [2023-08-04]</title>\n",
      "<meta name=\"keywords\" content=\"biogeme, discrete choice, random utility\">\n",
      "<meta name=\"description\" content=\"Report from biogeme 3.2.12 [2023-08-04]\">\n",
      "<meta name=\"author\" content=\"{bv.author}\">\n",
      "<style type=text/css>\n",
      ".biostyle\n",
      "\t{font-size:10.0pt;\n",
      "\tfont-weight:400;\n",
      "\tfont-style:normal;\n",
      "\tfont-family:Courier;}\n",
      ".boundstyle\n",
      "\t{font-size:10.0pt;\n",
      "\tfont-weight:400;\n",
      "\tfont-style:normal;\n",
      "\tfont-family:Courier;\n",
      "        color:red}\n",
      "</style>\n",
      "</head>\n",
      "<body bgcolor=\"#ffffff\">\n",
      "<p>biogeme 3.2.12 [2023-08-04]</p>\n",
      "<p><a href=\"https://www.python.org/\" target=\"_blank\">Python</a> package</p>\n",
      "<p>Home page: <a href=\"http://biogeme.epfl.ch\" target=\"_blank\">http://biogeme.epfl.ch</a></p>\n",
      "<p>Submit questions to <a href=\"https://groups.google.com/d/forum/biogeme\" target=\"_blank\">https://groups.google.com/d/forum/biogeme</a></p>\n",
      "<p><a href=\"http://people.epfl.ch/michel.bierlaire\">Michel Bierlaire</a>, <a href=\"http://transp-or.epfl.ch\">Transport and Mobility Laboratory</a>, <a href=\"http://www.epfl.ch\">Ecole Polytechnique F&#233;d&#233;rale de Lausanne (EPFL)</a></p>\n",
      "<p>This file has automatically been generated on 2023-08-04 18:40:49.934877</p>\n",
      "<table>\n",
      "<tr class=biostyle><td align=right><strong>Report file</strong>:\t</td><td>simpleExample.html</td></tr>\n",
      "<tr class=biostyle><td align=right><strong>Database name</strong>:\t</td><td>test</td></tr>\n",
      "</table>\n",
      "<h1>Estimation report</h1>\n",
      "<table border=\"0\">\n",
      "<tr class=biostyle><td align=right ><strong>Number of estimated parameters</strong>: </td> <td>2</td></tr>\n",
      "<tr class=biostyle><td align=right ><strong>Sample size</strong>: </td> <td>5</td></tr>\n",
      "<tr class=biostyle><td align=right ><strong>Excluded observations</strong>: </td> <td>0</td></tr>\n",
      "<tr class=biostyle><td align=right ><strong>Init log likelihood</strong>: </td> <td>-115.3003</td></tr>\n",
      "<tr class=biostyle><td align=right ><strong>Final log likelihood</strong>: </td> <td>-67.06549</td></tr>\n",
      "<tr class=biostyle><td align=right ><strong>Likelihood ratio test for the init. model</strong>: </td> <td>96.4696</td></tr>\n",
      "<tr class=biostyle><td align=right ><strong>Rho-square for the init. model</strong>: </td> <td>0.418</td></tr>\n",
      "<tr class=biostyle><td align=right ><strong>Rho-square-bar for the init. model</strong>: </td> <td>0.401</td></tr>\n",
      "<tr class=biostyle><td align=right ><strong>Akaike Information Criterion</strong>: </td> <td>138.131</td></tr>\n",
      "<tr class=biostyle><td align=right ><strong>Bayesian Information Criterion</strong>: </td> <td>137.3499</td></tr>\n",
      "<tr class=biostyle><td align=right ><strong>Final gradient norm</strong>: </td> <td>1.1521E-07</td></tr>\n",
      "<tr class=biostyle><td align=right ><strong>Bootstrapping time</strong>: </td> <td>0:00:00.079456</td></tr>\n",
      "<tr class=biostyle><td align=right ><strong>Nbr of threads</strong>: </td> <td>12</td></tr>\n",
      "<tr class=biostyle><td align=right ><strong>Relative gradient</strong>: </td> <td>1.247036296620742e-09</td></tr>\n",
      "<tr class=biostyle><td align=right ><strong>Cause of termination</strong>: </td> <td>Relative gradient = 1.2e-09 <= 6.1e-06</td></tr>\n",
      "<tr class=biostyle><td align=right ><strong>Number of function evaluations</strong>: </td> <td>5</td></tr>\n",
      "<tr class=biostyle><td align=right ><strong>Number of gradient evaluations</strong>: </td> <td>5</td></tr>\n",
      "<tr class=biostyle><td align=right ><strong>Number of hessian evaluations</strong>: </td> <td>4</td></tr>\n",
      "<tr class=biostyle><td align=right ><strong>Algorithm</strong>: </td> <td>Newton with trust region for simple bound constraints</td></tr>\n",
      "<tr class=biostyle><td align=right ><strong>Number of iterations</strong>: </td> <td>4</td></tr>\n",
      "<tr class=biostyle><td align=right ><strong>Proportion of Hessian calculation</strong>: </td> <td>4/4 = 100.0%</td></tr>\n",
      "<tr class=biostyle><td align=right ><strong>Optimization time</strong>: </td> <td>0:00:00.003230</td></tr>\n",
      "</table>\n",
      "<h1>Estimated parameters</h1>\n",
      "<table border=\"1\">\n",
      "<tr class=biostyle><th>Name</th><th>Value</th><th>Rob. Std err</th><th>Rob. t-test</th><th>Rob. p-value</th></tr>\n",
      "<tr class=biostyle><td>beta1</td><td>-1.27</td><td>0.0137</td><td>-92.8</td><td>0</td></tr>\n",
      "<tr class=biostyle><td>beta2</td><td>1.25</td><td>0.0591</td><td>21.1</td><td>0</td></tr>\n",
      "</table>\n",
      "<h2>Correlation of coefficients</h2>\n",
      "<table border=\"1\">\n",
      "<tr class=biostyle><th>Coefficient1</th><th>Coefficient2</th><th>Covariance</th><th>Correlation</th><th>t-test</th><th>p-value</th><th>Rob. cov.</th><th>Rob. corr.</th><th>Rob. t-test</th><th>Rob. p-value</th><th>Boot. cov.</th><th>Boot. corr.</th><th>Boot. t-test</th><th>Boot. p-value</th></tr>\n",
      "<tr class=biostyle><td>beta2</td><td>beta1</td><td>0.00167</td><td>0.171</td><td>19.3</td><td>0</td><td>0.000811</td><td>1</td><td>55.6</td><td>0</td><td>0.00146</td><td>1</td><td>40.2</td><td>0</td></tr>\n",
      "</table>\n",
      "<p>Smallest eigenvalue: 73.054</p>\n",
      "<p>Largest eigenvalue: 147.802</p>\n",
      "<p>Condition number: 2.02318</p>\n",
      "</html>\n"
     ]
    }
   ],
   "source": [
    "print(readResults.getHtml())"
   ]
  },
  {
   "cell_type": "markdown",
   "metadata": {},
   "source": [
    "General statistics, including a suggested format."
   ]
  },
  {
   "cell_type": "code",
   "execution_count": 12,
   "metadata": {
    "execution": {
     "iopub.execute_input": "2023-08-04T16:40:49.938550Z",
     "iopub.status.busy": "2023-08-04T16:40:49.938484Z",
     "iopub.status.idle": "2023-08-04T16:40:49.941297Z",
     "shell.execute_reply": "2023-08-04T16:40:49.941078Z"
    }
   },
   "outputs": [
    {
     "data": {
      "text/plain": [
       "{'Number of estimated parameters': GeneralStatistic(value=2, format=''),\n",
       " 'Sample size': GeneralStatistic(value=5, format=''),\n",
       " 'Excluded observations': GeneralStatistic(value=0, format=''),\n",
       " 'Init log likelihood': GeneralStatistic(value=-115.30029248549191, format='.7g'),\n",
       " 'Final log likelihood': GeneralStatistic(value=-67.06549047946355, format='.7g'),\n",
       " 'Likelihood ratio test for the init. model': GeneralStatistic(value=96.46960401205672, format='.7g'),\n",
       " 'Rho-square for the init. model': GeneralStatistic(value=0.4183406734384276, format='.3g'),\n",
       " 'Rho-square-bar for the init. model': GeneralStatistic(value=0.40099466366788294, format='.3g'),\n",
       " 'Akaike Information Criterion': GeneralStatistic(value=138.1309809589271, format='.7g'),\n",
       " 'Bayesian Information Criterion': GeneralStatistic(value=137.3498567837953, format='.7g'),\n",
       " 'Final gradient norm': GeneralStatistic(value=1.1520974391720636e-07, format='.4E'),\n",
       " 'Bootstrapping time': GeneralStatistic(value=datetime.timedelta(microseconds=79456), format=''),\n",
       " 'Nbr of threads': GeneralStatistic(value=12, format='')}"
      ]
     },
     "execution_count": 12,
     "metadata": {},
     "output_type": "execute_result"
    }
   ],
   "source": [
    "statistics = readResults.getGeneralStatistics()\n",
    "statistics"
   ]
  },
  {
   "cell_type": "markdown",
   "metadata": {},
   "source": [
    "The suggested format can be used as follows"
   ]
  },
  {
   "cell_type": "markdown",
   "metadata": {},
   "source": [
    "for k, (v, p) in statistics.items():\n",
    "    print(f'{k}:\\t{v:{p}}')"
   ]
  },
  {
   "cell_type": "markdown",
   "metadata": {},
   "source": [
    "This result can be generated directly with the following function"
   ]
  },
  {
   "cell_type": "code",
   "execution_count": 13,
   "metadata": {
    "execution": {
     "iopub.execute_input": "2023-08-04T16:40:49.942433Z",
     "iopub.status.busy": "2023-08-04T16:40:49.942365Z",
     "iopub.status.idle": "2023-08-04T16:40:49.944032Z",
     "shell.execute_reply": "2023-08-04T16:40:49.943818Z"
    }
   },
   "outputs": [
    {
     "name": "stdout",
     "output_type": "stream",
     "text": [
      "Number of estimated parameters:\t2\n",
      "Sample size:\t5\n",
      "Excluded observations:\t0\n",
      "Init log likelihood:\t-115.3003\n",
      "Final log likelihood:\t-67.06549\n",
      "Likelihood ratio test for the init. model:\t96.4696\n",
      "Rho-square for the init. model:\t0.418\n",
      "Rho-square-bar for the init. model:\t0.401\n",
      "Akaike Information Criterion:\t138.131\n",
      "Bayesian Information Criterion:\t137.3499\n",
      "Final gradient norm:\t1.1521E-07\n",
      "Bootstrapping time:\t0:00:00.079456\n",
      "Nbr of threads:\t12\n",
      "\n"
     ]
    }
   ],
   "source": [
    "print(results.printGeneralStatistics())"
   ]
  },
  {
   "cell_type": "markdown",
   "metadata": {},
   "source": [
    "Estimated parameters as pandas dataframe"
   ]
  },
  {
   "cell_type": "code",
   "execution_count": 14,
   "metadata": {
    "execution": {
     "iopub.execute_input": "2023-08-04T16:40:49.944972Z",
     "iopub.status.busy": "2023-08-04T16:40:49.944905Z",
     "iopub.status.idle": "2023-08-04T16:40:49.949355Z",
     "shell.execute_reply": "2023-08-04T16:40:49.949118Z"
    }
   },
   "outputs": [
    {
     "data": {
      "text/html": [
       "<div>\n",
       "<style scoped>\n",
       "    .dataframe tbody tr th:only-of-type {\n",
       "        vertical-align: middle;\n",
       "    }\n",
       "\n",
       "    .dataframe tbody tr th {\n",
       "        vertical-align: top;\n",
       "    }\n",
       "\n",
       "    .dataframe thead th {\n",
       "        text-align: right;\n",
       "    }\n",
       "</style>\n",
       "<table border=\"1\" class=\"dataframe\">\n",
       "  <thead>\n",
       "    <tr style=\"text-align: right;\">\n",
       "      <th></th>\n",
       "      <th>Value</th>\n",
       "      <th>Rob. Std err</th>\n",
       "      <th>Rob. t-test</th>\n",
       "      <th>Rob. p-value</th>\n",
       "    </tr>\n",
       "  </thead>\n",
       "  <tbody>\n",
       "    <tr>\n",
       "      <th>beta1</th>\n",
       "      <td>-1.273264</td>\n",
       "      <td>0.013724</td>\n",
       "      <td>-92.776664</td>\n",
       "      <td>0.0</td>\n",
       "    </tr>\n",
       "    <tr>\n",
       "      <th>beta2</th>\n",
       "      <td>1.248769</td>\n",
       "      <td>0.059086</td>\n",
       "      <td>21.134794</td>\n",
       "      <td>0.0</td>\n",
       "    </tr>\n",
       "  </tbody>\n",
       "</table>\n",
       "</div>"
      ],
      "text/plain": [
       "          Value  Rob. Std err  Rob. t-test  Rob. p-value\n",
       "beta1 -1.273264      0.013724   -92.776664           0.0\n",
       "beta2  1.248769      0.059086    21.134794           0.0"
      ]
     },
     "execution_count": 14,
     "metadata": {},
     "output_type": "execute_result"
    }
   ],
   "source": [
    "readResults.getEstimatedParameters()"
   ]
  },
  {
   "cell_type": "markdown",
   "metadata": {},
   "source": [
    "Correlation results"
   ]
  },
  {
   "cell_type": "code",
   "execution_count": 15,
   "metadata": {
    "execution": {
     "iopub.execute_input": "2023-08-04T16:40:49.950496Z",
     "iopub.status.busy": "2023-08-04T16:40:49.950416Z",
     "iopub.status.idle": "2023-08-04T16:40:49.954850Z",
     "shell.execute_reply": "2023-08-04T16:40:49.954641Z"
    }
   },
   "outputs": [
    {
     "data": {
      "text/html": [
       "<div>\n",
       "<style scoped>\n",
       "    .dataframe tbody tr th:only-of-type {\n",
       "        vertical-align: middle;\n",
       "    }\n",
       "\n",
       "    .dataframe tbody tr th {\n",
       "        vertical-align: top;\n",
       "    }\n",
       "\n",
       "    .dataframe thead th {\n",
       "        text-align: right;\n",
       "    }\n",
       "</style>\n",
       "<table border=\"1\" class=\"dataframe\">\n",
       "  <thead>\n",
       "    <tr style=\"text-align: right;\">\n",
       "      <th></th>\n",
       "      <th>Covariance</th>\n",
       "      <th>Correlation</th>\n",
       "      <th>t-test</th>\n",
       "      <th>p-value</th>\n",
       "      <th>Rob. cov.</th>\n",
       "      <th>Rob. corr.</th>\n",
       "      <th>Rob. t-test</th>\n",
       "      <th>Rob. p-value</th>\n",
       "      <th>Boot. cov.</th>\n",
       "      <th>Boot. corr.</th>\n",
       "      <th>Boot. t-test</th>\n",
       "      <th>Boot. p-value</th>\n",
       "    </tr>\n",
       "  </thead>\n",
       "  <tbody>\n",
       "    <tr>\n",
       "      <th>beta2-beta1</th>\n",
       "      <td>0.001671</td>\n",
       "      <td>0.171121</td>\n",
       "      <td>19.280039</td>\n",
       "      <td>0.0</td>\n",
       "      <td>0.000811</td>\n",
       "      <td>1.0</td>\n",
       "      <td>55.597975</td>\n",
       "      <td>0.0</td>\n",
       "      <td>0.001464</td>\n",
       "      <td>0.999779</td>\n",
       "      <td>40.189571</td>\n",
       "      <td>0.0</td>\n",
       "    </tr>\n",
       "  </tbody>\n",
       "</table>\n",
       "</div>"
      ],
      "text/plain": [
       "             Covariance  Correlation     t-test  p-value  Rob. cov.  \\\n",
       "beta2-beta1    0.001671     0.171121  19.280039      0.0   0.000811   \n",
       "\n",
       "             Rob. corr.  Rob. t-test  Rob. p-value  Boot. cov.  Boot. corr.  \\\n",
       "beta2-beta1         1.0    55.597975           0.0    0.001464     0.999779   \n",
       "\n",
       "             Boot. t-test  Boot. p-value  \n",
       "beta2-beta1     40.189571            0.0  "
      ]
     },
     "execution_count": 15,
     "metadata": {},
     "output_type": "execute_result"
    }
   ],
   "source": [
    "readResults.getCorrelationResults()"
   ]
  },
  {
   "cell_type": "markdown",
   "metadata": {},
   "source": [
    "Obtain the values of the parameters"
   ]
  },
  {
   "cell_type": "code",
   "execution_count": 16,
   "metadata": {
    "execution": {
     "iopub.execute_input": "2023-08-04T16:40:49.955786Z",
     "iopub.status.busy": "2023-08-04T16:40:49.955711Z",
     "iopub.status.idle": "2023-08-04T16:40:49.957605Z",
     "shell.execute_reply": "2023-08-04T16:40:49.957392Z"
    }
   },
   "outputs": [
    {
     "data": {
      "text/plain": [
       "{'beta1': -1.273263987213694, 'beta2': 1.2487688099301162}"
      ]
     },
     "execution_count": 16,
     "metadata": {},
     "output_type": "execute_result"
    }
   ],
   "source": [
    "readResults.getBetaValues()"
   ]
  },
  {
   "cell_type": "code",
   "execution_count": 17,
   "metadata": {
    "execution": {
     "iopub.execute_input": "2023-08-04T16:40:49.958518Z",
     "iopub.status.busy": "2023-08-04T16:40:49.958455Z",
     "iopub.status.idle": "2023-08-04T16:40:49.960289Z",
     "shell.execute_reply": "2023-08-04T16:40:49.960041Z"
    }
   },
   "outputs": [
    {
     "data": {
      "text/plain": [
       "{'beta2': 1.2487688099301162}"
      ]
     },
     "execution_count": 17,
     "metadata": {},
     "output_type": "execute_result"
    }
   ],
   "source": [
    "readResults.getBetaValues(myBetas=['beta2'])"
   ]
  },
  {
   "cell_type": "markdown",
   "metadata": {},
   "source": [
    "Variance-covariance matrix (Rao-Cramer)"
   ]
  },
  {
   "cell_type": "code",
   "execution_count": 18,
   "metadata": {
    "execution": {
     "iopub.execute_input": "2023-08-04T16:40:49.961272Z",
     "iopub.status.busy": "2023-08-04T16:40:49.961207Z",
     "iopub.status.idle": "2023-08-04T16:40:49.963902Z",
     "shell.execute_reply": "2023-08-04T16:40:49.963676Z"
    }
   },
   "outputs": [
    {
     "data": {
      "text/html": [
       "<div>\n",
       "<style scoped>\n",
       "    .dataframe tbody tr th:only-of-type {\n",
       "        vertical-align: middle;\n",
       "    }\n",
       "\n",
       "    .dataframe tbody tr th {\n",
       "        vertical-align: top;\n",
       "    }\n",
       "\n",
       "    .dataframe thead th {\n",
       "        text-align: right;\n",
       "    }\n",
       "</style>\n",
       "<table border=\"1\" class=\"dataframe\">\n",
       "  <thead>\n",
       "    <tr style=\"text-align: right;\">\n",
       "      <th></th>\n",
       "      <th>beta1</th>\n",
       "      <th>beta2</th>\n",
       "    </tr>\n",
       "  </thead>\n",
       "  <tbody>\n",
       "    <tr>\n",
       "      <th>beta1</th>\n",
       "      <td>0.013258</td>\n",
       "      <td>0.001671</td>\n",
       "    </tr>\n",
       "    <tr>\n",
       "      <th>beta2</th>\n",
       "      <td>0.001671</td>\n",
       "      <td>0.007196</td>\n",
       "    </tr>\n",
       "  </tbody>\n",
       "</table>\n",
       "</div>"
      ],
      "text/plain": [
       "          beta1     beta2\n",
       "beta1  0.013258  0.001671\n",
       "beta2  0.001671  0.007196"
      ]
     },
     "execution_count": 18,
     "metadata": {},
     "output_type": "execute_result"
    }
   ],
   "source": [
    "readResults.getVarCovar()"
   ]
  },
  {
   "cell_type": "markdown",
   "metadata": {},
   "source": [
    "Variance-covariance matrix (robust)"
   ]
  },
  {
   "cell_type": "code",
   "execution_count": 19,
   "metadata": {
    "execution": {
     "iopub.execute_input": "2023-08-04T16:40:49.964814Z",
     "iopub.status.busy": "2023-08-04T16:40:49.964750Z",
     "iopub.status.idle": "2023-08-04T16:40:49.967390Z",
     "shell.execute_reply": "2023-08-04T16:40:49.967107Z"
    }
   },
   "outputs": [
    {
     "data": {
      "text/html": [
       "<div>\n",
       "<style scoped>\n",
       "    .dataframe tbody tr th:only-of-type {\n",
       "        vertical-align: middle;\n",
       "    }\n",
       "\n",
       "    .dataframe tbody tr th {\n",
       "        vertical-align: top;\n",
       "    }\n",
       "\n",
       "    .dataframe thead th {\n",
       "        text-align: right;\n",
       "    }\n",
       "</style>\n",
       "<table border=\"1\" class=\"dataframe\">\n",
       "  <thead>\n",
       "    <tr style=\"text-align: right;\">\n",
       "      <th></th>\n",
       "      <th>beta1</th>\n",
       "      <th>beta2</th>\n",
       "    </tr>\n",
       "  </thead>\n",
       "  <tbody>\n",
       "    <tr>\n",
       "      <th>beta1</th>\n",
       "      <td>0.000188</td>\n",
       "      <td>0.000811</td>\n",
       "    </tr>\n",
       "    <tr>\n",
       "      <th>beta2</th>\n",
       "      <td>0.000811</td>\n",
       "      <td>0.003491</td>\n",
       "    </tr>\n",
       "  </tbody>\n",
       "</table>\n",
       "</div>"
      ],
      "text/plain": [
       "          beta1     beta2\n",
       "beta1  0.000188  0.000811\n",
       "beta2  0.000811  0.003491"
      ]
     },
     "execution_count": 19,
     "metadata": {},
     "output_type": "execute_result"
    }
   ],
   "source": [
    "readResults.getRobustVarCovar()"
   ]
  },
  {
   "cell_type": "markdown",
   "metadata": {},
   "source": [
    "Variance-covaraince matrix (bootstrap)"
   ]
  },
  {
   "cell_type": "code",
   "execution_count": 20,
   "metadata": {
    "execution": {
     "iopub.execute_input": "2023-08-04T16:40:49.968336Z",
     "iopub.status.busy": "2023-08-04T16:40:49.968269Z",
     "iopub.status.idle": "2023-08-04T16:40:49.970961Z",
     "shell.execute_reply": "2023-08-04T16:40:49.970734Z"
    }
   },
   "outputs": [
    {
     "data": {
      "text/html": [
       "<div>\n",
       "<style scoped>\n",
       "    .dataframe tbody tr th:only-of-type {\n",
       "        vertical-align: middle;\n",
       "    }\n",
       "\n",
       "    .dataframe tbody tr th {\n",
       "        vertical-align: top;\n",
       "    }\n",
       "\n",
       "    .dataframe thead th {\n",
       "        text-align: right;\n",
       "    }\n",
       "</style>\n",
       "<table border=\"1\" class=\"dataframe\">\n",
       "  <thead>\n",
       "    <tr style=\"text-align: right;\">\n",
       "      <th></th>\n",
       "      <th>beta1</th>\n",
       "      <th>beta2</th>\n",
       "    </tr>\n",
       "  </thead>\n",
       "  <tbody>\n",
       "    <tr>\n",
       "      <th>beta1</th>\n",
       "      <td>0.000328</td>\n",
       "      <td>0.001464</td>\n",
       "    </tr>\n",
       "    <tr>\n",
       "      <th>beta2</th>\n",
       "      <td>0.001464</td>\n",
       "      <td>0.006539</td>\n",
       "    </tr>\n",
       "  </tbody>\n",
       "</table>\n",
       "</div>"
      ],
      "text/plain": [
       "          beta1     beta2\n",
       "beta1  0.000328  0.001464\n",
       "beta2  0.001464  0.006539"
      ]
     },
     "execution_count": 20,
     "metadata": {},
     "output_type": "execute_result"
    }
   ],
   "source": [
    "readResults.getBootstrapVarCovar()"
   ]
  },
  {
   "cell_type": "markdown",
   "metadata": {},
   "source": [
    "Draws for sensitivity analysis are generated using bootstrapping. Any indicator can be generated by the model for each draw, and its empirical distribution can be investigate . "
   ]
  },
  {
   "cell_type": "code",
   "execution_count": 21,
   "metadata": {
    "execution": {
     "iopub.execute_input": "2023-08-04T16:40:49.971871Z",
     "iopub.status.busy": "2023-08-04T16:40:49.971810Z",
     "iopub.status.idle": "2023-08-04T16:40:49.973854Z",
     "shell.execute_reply": "2023-08-04T16:40:49.973635Z"
    }
   },
   "outputs": [
    {
     "data": {
      "text/plain": [
       "[{'beta1': -1.2925578214686664, 'beta2': 1.164322217510277},\n",
       " {'beta1': -1.282393736283639, 'beta2': 1.209195603860136},\n",
       " {'beta1': -1.2611085813010012, 'beta2': 1.3007517002098443},\n",
       " {'beta1': -1.2649797742013058, 'beta2': 1.2842631765105266},\n",
       " {'beta1': -1.2649797742013058, 'beta2': 1.2842631765105266},\n",
       " {'beta1': -1.273263987213694, 'beta2': 1.2487688099301162},\n",
       " {'beta1': -1.317066045664775, 'beta2': 1.0497316460596449},\n",
       " {'beta1': -1.2777126116342756, 'beta2': 1.2295568140731905},\n",
       " {'beta1': -1.3040075416731258, 'beta2': 1.1122455742287705},\n",
       " {'beta1': -1.2777126116342756, 'beta2': 1.2295568140731905}]"
      ]
     },
     "execution_count": 21,
     "metadata": {},
     "output_type": "execute_result"
    }
   ],
   "source": [
    "readResults.getBetasForSensitivityAnalysis(['beta1', 'beta2'],\n",
    "                                           size=10)"
   ]
  },
  {
   "cell_type": "markdown",
   "metadata": {},
   "source": [
    "Results can be produced in the ALOGIT F12 format"
   ]
  },
  {
   "cell_type": "code",
   "execution_count": 22,
   "metadata": {
    "execution": {
     "iopub.execute_input": "2023-08-04T16:40:49.974732Z",
     "iopub.status.busy": "2023-08-04T16:40:49.974666Z",
     "iopub.status.idle": "2023-08-04T16:40:49.977510Z",
     "shell.execute_reply": "2023-08-04T16:40:49.977277Z"
    }
   },
   "outputs": [
    {
     "data": {
      "text/plain": [
       "'                                                                  simpleExample\\nFrom biogeme 3.2.12                                     2023-08-04 18:40:49  \\nEND\\n   0      beta1 F  -1.273263987214e+00 +1.372396817719e-02\\n   0      beta2 F  +1.248768809930e+00 +5.908592246840e-02\\n  -1\\n       5                  0                   0 -6.706549047946e+01\\n   0   0  2023-08-04 18:40:49\\n  99999\\n'"
      ]
     },
     "execution_count": 22,
     "metadata": {},
     "output_type": "execute_result"
    }
   ],
   "source": [
    "readResults.getF12()"
   ]
  },
  {
   "cell_type": "markdown",
   "metadata": {},
   "source": [
    "# Miscellaneous functions"
   ]
  },
  {
   "cell_type": "markdown",
   "metadata": {},
   "source": [
    "## Likelihood ratio test"
   ]
  },
  {
   "cell_type": "markdown",
   "metadata": {},
   "source": [
    "Let's first estimate a constrained model"
   ]
  },
  {
   "cell_type": "code",
   "execution_count": 23,
   "metadata": {
    "execution": {
     "iopub.execute_input": "2023-08-04T16:40:49.978591Z",
     "iopub.status.busy": "2023-08-04T16:40:49.978528Z",
     "iopub.status.idle": "2023-08-04T16:40:49.990704Z",
     "shell.execute_reply": "2023-08-04T16:40:49.990495Z"
    }
   },
   "outputs": [
    {
     "name": "stderr",
     "output_type": "stream",
     "text": [
      "The syntax \"shortSummary\" is deprecated and is replaced by the syntax \"short_summary\".\n"
     ]
    },
    {
     "name": "stdout",
     "output_type": "stream",
     "text": [
      "Results for model simpleExampleConstrained\n",
      "Nbr of parameters:\t\t1\n",
      "Sample size:\t\t\t5\n",
      "Excluded data:\t\t\t0\n",
      "Final log likelihood:\t\t-114.7702\n",
      "Akaike Information Criterion:\t231.5403\n",
      "Bayesian Information Criterion:\t231.1498\n",
      "\n"
     ]
    }
   ],
   "source": [
    "beta2_constrained = Beta('beta2_constrained', 2.0, -3, 10, 1)\n",
    "likelihood_constrained = -beta1**2 * Variable1 - exp(beta2_constrained * beta1) * \\\n",
    "    Variable2 - beta2_constrained**4\n",
    "myBiogemeConstrained = bio.BIOGEME(myData, likelihood_constrained)\n",
    "myBiogemeConstrained.modelName = 'simpleExampleConstrained'\n",
    "results_constrained = myBiogemeConstrained.estimate()\n",
    "print(results_constrained.shortSummary())"
   ]
  },
  {
   "cell_type": "markdown",
   "metadata": {},
   "source": [
    "We can now perform a likelihood ratio test."
   ]
  },
  {
   "cell_type": "code",
   "execution_count": 24,
   "metadata": {
    "execution": {
     "iopub.execute_input": "2023-08-04T16:40:49.991565Z",
     "iopub.status.busy": "2023-08-04T16:40:49.991492Z",
     "iopub.status.idle": "2023-08-04T16:40:49.993421Z",
     "shell.execute_reply": "2023-08-04T16:40:49.993224Z"
    }
   },
   "outputs": [
    {
     "data": {
      "text/plain": [
       "LRTuple(message='H0 can be rejected at level 95.0%', statistic=95.40936413216019, threshold=0.003932140000019531)"
      ]
     },
     "execution_count": 24,
     "metadata": {},
     "output_type": "execute_result"
    }
   ],
   "source": [
    "results.likelihood_ratio_test(results_constrained, 0.95)"
   ]
  },
  {
   "cell_type": "markdown",
   "metadata": {},
   "source": [
    "## Calculation of the $p$-value"
   ]
  },
  {
   "cell_type": "code",
   "execution_count": 25,
   "metadata": {
    "execution": {
     "iopub.execute_input": "2023-08-04T16:40:49.994385Z",
     "iopub.status.busy": "2023-08-04T16:40:49.994324Z",
     "iopub.status.idle": "2023-08-04T16:40:49.996283Z",
     "shell.execute_reply": "2023-08-04T16:40:49.995979Z"
    }
   },
   "outputs": [
    {
     "data": {
      "text/plain": [
       "0.04999579029644097"
      ]
     },
     "execution_count": 25,
     "metadata": {},
     "output_type": "execute_result"
    }
   ],
   "source": [
    "res.calcPValue(1.96)"
   ]
  },
  {
   "cell_type": "markdown",
   "metadata": {},
   "source": [
    "# Compilation of results"
   ]
  },
  {
   "cell_type": "code",
   "execution_count": 26,
   "metadata": {
    "execution": {
     "iopub.execute_input": "2023-08-04T16:40:49.997147Z",
     "iopub.status.busy": "2023-08-04T16:40:49.997086Z",
     "iopub.status.idle": "2023-08-04T16:40:49.998533Z",
     "shell.execute_reply": "2023-08-04T16:40:49.998293Z"
    }
   },
   "outputs": [],
   "source": [
    "dict_of_results = {'Model A': readResults, 'Model B': the_pickle_file}"
   ]
  },
  {
   "cell_type": "code",
   "execution_count": 27,
   "metadata": {
    "execution": {
     "iopub.execute_input": "2023-08-04T16:40:49.999462Z",
     "iopub.status.busy": "2023-08-04T16:40:49.999379Z",
     "iopub.status.idle": "2023-08-04T16:40:50.003238Z",
     "shell.execute_reply": "2023-08-04T16:40:50.002938Z"
    }
   },
   "outputs": [
    {
     "name": "stderr",
     "output_type": "stream",
     "text": [
      "The syntax \"compileEstimationResults\" is deprecated and is replaced by the syntax \"compile_estimation_results\".\n"
     ]
    }
   ],
   "source": [
    "df = res.compileEstimationResults(dict_of_results)"
   ]
  },
  {
   "cell_type": "code",
   "execution_count": 28,
   "metadata": {
    "execution": {
     "iopub.execute_input": "2023-08-04T16:40:50.004167Z",
     "iopub.status.busy": "2023-08-04T16:40:50.004107Z",
     "iopub.status.idle": "2023-08-04T16:40:50.006231Z",
     "shell.execute_reply": "2023-08-04T16:40:50.005958Z"
    }
   },
   "outputs": [
    {
     "data": {
      "text/plain": [
       "(                                       Model A         Model B\n",
       " Number of estimated parameters               2               2\n",
       " Sample size                                  5               5\n",
       " Final log likelihood                 -67.06549       -67.06549\n",
       " Akaike Information Criterion        138.130981      138.130981\n",
       " Bayesian Information Criterion      137.349857      137.349857\n",
       " beta1 (t-test)                  -1.27  (-92.8)  -1.27  (-92.8)\n",
       " beta2 (t-test)                    1.25  (21.1)    1.25  (21.1),\n",
       " {'Model A': 'Model A', 'Model B': 'Model B'})"
      ]
     },
     "execution_count": 28,
     "metadata": {},
     "output_type": "execute_result"
    }
   ],
   "source": [
    "df"
   ]
  },
  {
   "cell_type": "markdown",
   "metadata": {},
   "source": [
    "# Covariance and correlation between two alternatives of a cross-nested logit model\n"
   ]
  },
  {
   "cell_type": "markdown",
   "metadata": {},
   "source": [
    "First, we document the special case of a logit model."
   ]
  },
  {
   "cell_type": "code",
   "execution_count": 29,
   "metadata": {
    "execution": {
     "iopub.execute_input": "2023-08-04T16:40:50.007228Z",
     "iopub.status.busy": "2023-08-04T16:40:50.007126Z",
     "iopub.status.idle": "2023-08-04T16:40:50.008808Z",
     "shell.execute_reply": "2023-08-04T16:40:50.008606Z"
    }
   },
   "outputs": [],
   "source": [
    "mu_nest_1 = 1.0\n",
    "alphas_1 =  {'i': 1, 'j': 1}\n",
    "nest_1 = mu_nest_1, alphas_1\n",
    "mu_nest_2 = 1.0\n",
    "alphas_2 = {'j': 0.0, 'k': 1, 'm': 1}\n",
    "nest_2 = mu_nest_2, alphas_2\n",
    "nests = nest_1, nest_2"
   ]
  },
  {
   "cell_type": "code",
   "execution_count": 30,
   "metadata": {
    "execution": {
     "iopub.execute_input": "2023-08-04T16:40:50.009743Z",
     "iopub.status.busy": "2023-08-04T16:40:50.009669Z",
     "iopub.status.idle": "2023-08-04T16:41:02.644951Z",
     "shell.execute_reply": "2023-08-04T16:41:02.644719Z"
    }
   },
   "outputs": [
    {
     "data": {
      "text/html": [
       "<div>\n",
       "<style scoped>\n",
       "    .dataframe tbody tr th:only-of-type {\n",
       "        vertical-align: middle;\n",
       "    }\n",
       "\n",
       "    .dataframe tbody tr th {\n",
       "        vertical-align: top;\n",
       "    }\n",
       "\n",
       "    .dataframe thead th {\n",
       "        text-align: right;\n",
       "    }\n",
       "</style>\n",
       "<table border=\"1\" class=\"dataframe\">\n",
       "  <thead>\n",
       "    <tr style=\"text-align: right;\">\n",
       "      <th></th>\n",
       "      <th>i</th>\n",
       "      <th>j</th>\n",
       "      <th>k</th>\n",
       "      <th>m</th>\n",
       "    </tr>\n",
       "  </thead>\n",
       "  <tbody>\n",
       "    <tr>\n",
       "      <th>i</th>\n",
       "      <td>1.000000e+00</td>\n",
       "      <td>8.237105e-12</td>\n",
       "      <td>8.237105e-12</td>\n",
       "      <td>8.237105e-12</td>\n",
       "    </tr>\n",
       "    <tr>\n",
       "      <th>j</th>\n",
       "      <td>8.237105e-12</td>\n",
       "      <td>1.000000e+00</td>\n",
       "      <td>8.237105e-12</td>\n",
       "      <td>8.237105e-12</td>\n",
       "    </tr>\n",
       "    <tr>\n",
       "      <th>k</th>\n",
       "      <td>8.237105e-12</td>\n",
       "      <td>8.237105e-12</td>\n",
       "      <td>1.000000e+00</td>\n",
       "      <td>8.237105e-12</td>\n",
       "    </tr>\n",
       "    <tr>\n",
       "      <th>m</th>\n",
       "      <td>8.237105e-12</td>\n",
       "      <td>8.237105e-12</td>\n",
       "      <td>8.237105e-12</td>\n",
       "      <td>1.000000e+00</td>\n",
       "    </tr>\n",
       "  </tbody>\n",
       "</table>\n",
       "</div>"
      ],
      "text/plain": [
       "              i             j             k             m\n",
       "i  1.000000e+00  8.237105e-12  8.237105e-12  8.237105e-12\n",
       "j  8.237105e-12  1.000000e+00  8.237105e-12  8.237105e-12\n",
       "k  8.237105e-12  8.237105e-12  1.000000e+00  8.237105e-12\n",
       "m  8.237105e-12  8.237105e-12  8.237105e-12  1.000000e+00"
      ]
     },
     "execution_count": 30,
     "metadata": {},
     "output_type": "execute_result"
    }
   ],
   "source": [
    "res.correlation_cross_nested(nests)"
   ]
  },
  {
   "cell_type": "markdown",
   "metadata": {},
   "source": [
    "Entries of the covariance matrix can also be obtained. Here, we report the variance for alternative `i`."
   ]
  },
  {
   "cell_type": "code",
   "execution_count": 31,
   "metadata": {
    "execution": {
     "iopub.execute_input": "2023-08-04T16:41:02.646094Z",
     "iopub.status.busy": "2023-08-04T16:41:02.646023Z",
     "iopub.status.idle": "2023-08-04T16:41:02.648070Z",
     "shell.execute_reply": "2023-08-04T16:41:02.647834Z"
    }
   },
   "outputs": [
    {
     "data": {
      "text/plain": [
       "1.6449340668482264"
      ]
     },
     "execution_count": 31,
     "metadata": {},
     "output_type": "execute_result"
    }
   ],
   "source": [
    "res.covariance_cross_nested('i', 'i', nests)"
   ]
  },
  {
   "cell_type": "markdown",
   "metadata": {},
   "source": [
    "It is $\\pi^2/6$."
   ]
  },
  {
   "cell_type": "code",
   "execution_count": 32,
   "metadata": {
    "execution": {
     "iopub.execute_input": "2023-08-04T16:41:02.649110Z",
     "iopub.status.busy": "2023-08-04T16:41:02.649045Z",
     "iopub.status.idle": "2023-08-04T16:41:02.650886Z",
     "shell.execute_reply": "2023-08-04T16:41:02.650666Z"
    }
   },
   "outputs": [
    {
     "data": {
      "text/plain": [
       "1.6449340668482264"
      ]
     },
     "execution_count": 32,
     "metadata": {},
     "output_type": "execute_result"
    }
   ],
   "source": [
    "np.pi**2 / 6"
   ]
  },
  {
   "cell_type": "markdown",
   "metadata": {},
   "source": [
    "Second, a nested logit model"
   ]
  },
  {
   "cell_type": "code",
   "execution_count": 33,
   "metadata": {
    "execution": {
     "iopub.execute_input": "2023-08-04T16:41:02.651935Z",
     "iopub.status.busy": "2023-08-04T16:41:02.651874Z",
     "iopub.status.idle": "2023-08-04T16:41:02.653722Z",
     "shell.execute_reply": "2023-08-04T16:41:02.653488Z"
    }
   },
   "outputs": [],
   "source": [
    "mu_nest_1 = 1.5\n",
    "alphas_1 =  {'i': 1, 'j': 1}\n",
    "nest_1 = mu_nest_1, alphas_1\n",
    "mu_nest_2 = 2.0\n",
    "alphas_2 = {'j': 0.0, 'k': 1, 'm': 1}\n",
    "nest_2 = mu_nest_2, alphas_2\n",
    "nests = nest_1, nest_2"
   ]
  },
  {
   "cell_type": "markdown",
   "metadata": {},
   "source": [
    "Theoretical value for the correlation"
   ]
  },
  {
   "cell_type": "code",
   "execution_count": 34,
   "metadata": {
    "execution": {
     "iopub.execute_input": "2023-08-04T16:41:02.654646Z",
     "iopub.status.busy": "2023-08-04T16:41:02.654580Z",
     "iopub.status.idle": "2023-08-04T16:41:02.656346Z",
     "shell.execute_reply": "2023-08-04T16:41:02.656125Z"
    }
   },
   "outputs": [
    {
     "data": {
      "text/plain": [
       "0.5555555555555556"
      ]
     },
     "execution_count": 34,
     "metadata": {},
     "output_type": "execute_result"
    }
   ],
   "source": [
    "correl_nest_1 = 1 - (1 / mu_nest_1**2)\n",
    "correl_nest_1"
   ]
  },
  {
   "cell_type": "code",
   "execution_count": 35,
   "metadata": {
    "execution": {
     "iopub.execute_input": "2023-08-04T16:41:02.657275Z",
     "iopub.status.busy": "2023-08-04T16:41:02.657213Z",
     "iopub.status.idle": "2023-08-04T16:41:02.659052Z",
     "shell.execute_reply": "2023-08-04T16:41:02.658851Z"
    }
   },
   "outputs": [
    {
     "data": {
      "text/plain": [
       "0.75"
      ]
     },
     "execution_count": 35,
     "metadata": {},
     "output_type": "execute_result"
    }
   ],
   "source": [
    "correl_nest_2 = 1 - (1 / mu_nest_2**2)\n",
    "correl_nest_2"
   ]
  },
  {
   "cell_type": "code",
   "execution_count": 36,
   "metadata": {
    "execution": {
     "iopub.execute_input": "2023-08-04T16:41:02.659942Z",
     "iopub.status.busy": "2023-08-04T16:41:02.659867Z",
     "iopub.status.idle": "2023-08-04T16:41:22.345475Z",
     "shell.execute_reply": "2023-08-04T16:41:22.345213Z"
    }
   },
   "outputs": [
    {
     "name": "stderr",
     "output_type": "stream",
     "text": [
      "/Users/bierlair/venv311/lib/python3.11/site-packages/scipy/integrate/_quadpack_py.py:1233: IntegrationWarning: The integral is probably divergent, or slowly convergent.\n",
      "  quad_r = quad(f, low, high, args=args, full_output=self.full_output,\n"
     ]
    },
    {
     "name": "stderr",
     "output_type": "stream",
     "text": [
      "/Users/bierlair/venv311/lib/python3.11/site-packages/scipy/integrate/_quadpack_py.py:1233: IntegrationWarning: The algorithm does not converge.  Roundoff error is detected\n",
      "  in the extrapolation table.  It is assumed that the requested tolerance\n",
      "  cannot be achieved, and that the returned result (if full_output = 1) is \n",
      "  the best which can be obtained.\n",
      "  quad_r = quad(f, low, high, args=args, full_output=self.full_output,\n"
     ]
    },
    {
     "data": {
      "text/html": [
       "<div>\n",
       "<style scoped>\n",
       "    .dataframe tbody tr th:only-of-type {\n",
       "        vertical-align: middle;\n",
       "    }\n",
       "\n",
       "    .dataframe tbody tr th {\n",
       "        vertical-align: top;\n",
       "    }\n",
       "\n",
       "    .dataframe thead th {\n",
       "        text-align: right;\n",
       "    }\n",
       "</style>\n",
       "<table border=\"1\" class=\"dataframe\">\n",
       "  <thead>\n",
       "    <tr style=\"text-align: right;\">\n",
       "      <th></th>\n",
       "      <th>i</th>\n",
       "      <th>j</th>\n",
       "      <th>k</th>\n",
       "      <th>m</th>\n",
       "    </tr>\n",
       "  </thead>\n",
       "  <tbody>\n",
       "    <tr>\n",
       "      <th>i</th>\n",
       "      <td>1.000000e+00</td>\n",
       "      <td>5.555556e-01</td>\n",
       "      <td>8.248444e-12</td>\n",
       "      <td>8.248444e-12</td>\n",
       "    </tr>\n",
       "    <tr>\n",
       "      <th>j</th>\n",
       "      <td>5.555556e-01</td>\n",
       "      <td>1.000000e+00</td>\n",
       "      <td>8.248444e-12</td>\n",
       "      <td>8.248444e-12</td>\n",
       "    </tr>\n",
       "    <tr>\n",
       "      <th>k</th>\n",
       "      <td>8.248444e-12</td>\n",
       "      <td>8.248444e-12</td>\n",
       "      <td>1.000000e+00</td>\n",
       "      <td>7.500000e-01</td>\n",
       "    </tr>\n",
       "    <tr>\n",
       "      <th>m</th>\n",
       "      <td>8.248444e-12</td>\n",
       "      <td>8.248444e-12</td>\n",
       "      <td>7.500000e-01</td>\n",
       "      <td>1.000000e+00</td>\n",
       "    </tr>\n",
       "  </tbody>\n",
       "</table>\n",
       "</div>"
      ],
      "text/plain": [
       "              i             j             k             m\n",
       "i  1.000000e+00  5.555556e-01  8.248444e-12  8.248444e-12\n",
       "j  5.555556e-01  1.000000e+00  8.248444e-12  8.248444e-12\n",
       "k  8.248444e-12  8.248444e-12  1.000000e+00  7.500000e-01\n",
       "m  8.248444e-12  8.248444e-12  7.500000e-01  1.000000e+00"
      ]
     },
     "execution_count": 36,
     "metadata": {},
     "output_type": "execute_result"
    }
   ],
   "source": [
    "res.correlation_cross_nested(nests)"
   ]
  },
  {
   "cell_type": "markdown",
   "metadata": {},
   "source": [
    "Finally, a cross-nested logit model"
   ]
  },
  {
   "cell_type": "code",
   "execution_count": 37,
   "metadata": {
    "execution": {
     "iopub.execute_input": "2023-08-04T16:41:22.346642Z",
     "iopub.status.busy": "2023-08-04T16:41:22.346566Z",
     "iopub.status.idle": "2023-08-04T16:41:22.348745Z",
     "shell.execute_reply": "2023-08-04T16:41:22.348494Z"
    }
   },
   "outputs": [],
   "source": [
    "mu_nest_1 = 1.5\n",
    "alphas_1 =  {'i': 1, 'j': 0.5}\n",
    "nest_1 = mu_nest_1, alphas_1\n",
    "mu_nest_2 = 2.0\n",
    "alphas_2 = {'j': 0.5, 'k': 1, 'm': 1}\n",
    "nest_2 = mu_nest_2, alphas_2\n",
    "nests = nest_1, nest_2"
   ]
  },
  {
   "cell_type": "code",
   "execution_count": 38,
   "metadata": {
    "execution": {
     "iopub.execute_input": "2023-08-04T16:41:22.349705Z",
     "iopub.status.busy": "2023-08-04T16:41:22.349636Z",
     "iopub.status.idle": "2023-08-04T16:41:46.138393Z",
     "shell.execute_reply": "2023-08-04T16:41:46.138124Z"
    }
   },
   "outputs": [
    {
     "name": "stderr",
     "output_type": "stream",
     "text": [
      "/Users/bierlair/venv311/lib/python3.11/site-packages/scipy/integrate/_quadpack_py.py:1233: IntegrationWarning: The integral is probably divergent, or slowly convergent.\n",
      "  quad_r = quad(f, low, high, args=args, full_output=self.full_output,\n"
     ]
    },
    {
     "name": "stderr",
     "output_type": "stream",
     "text": [
      "/Users/bierlair/venv311/lib/python3.11/site-packages/scipy/integrate/_quadpack_py.py:1233: IntegrationWarning: The algorithm does not converge.  Roundoff error is detected\n",
      "  in the extrapolation table.  It is assumed that the requested tolerance\n",
      "  cannot be achieved, and that the returned result (if full_output = 1) is \n",
      "  the best which can be obtained.\n",
      "  quad_r = quad(f, low, high, args=args, full_output=self.full_output,\n"
     ]
    },
    {
     "data": {
      "text/html": [
       "<div>\n",
       "<style scoped>\n",
       "    .dataframe tbody tr th:only-of-type {\n",
       "        vertical-align: middle;\n",
       "    }\n",
       "\n",
       "    .dataframe tbody tr th {\n",
       "        vertical-align: top;\n",
       "    }\n",
       "\n",
       "    .dataframe thead th {\n",
       "        text-align: right;\n",
       "    }\n",
       "</style>\n",
       "<table border=\"1\" class=\"dataframe\">\n",
       "  <thead>\n",
       "    <tr style=\"text-align: right;\">\n",
       "      <th></th>\n",
       "      <th>i</th>\n",
       "      <th>j</th>\n",
       "      <th>k</th>\n",
       "      <th>m</th>\n",
       "    </tr>\n",
       "  </thead>\n",
       "  <tbody>\n",
       "    <tr>\n",
       "      <th>i</th>\n",
       "      <td>1.000000e+00</td>\n",
       "      <td>0.37618</td>\n",
       "      <td>8.248444e-12</td>\n",
       "      <td>8.248444e-12</td>\n",
       "    </tr>\n",
       "    <tr>\n",
       "      <th>j</th>\n",
       "      <td>3.761799e-01</td>\n",
       "      <td>1.00000</td>\n",
       "      <td>5.000000e-01</td>\n",
       "      <td>5.000000e-01</td>\n",
       "    </tr>\n",
       "    <tr>\n",
       "      <th>k</th>\n",
       "      <td>8.248444e-12</td>\n",
       "      <td>0.50000</td>\n",
       "      <td>1.000000e+00</td>\n",
       "      <td>7.500000e-01</td>\n",
       "    </tr>\n",
       "    <tr>\n",
       "      <th>m</th>\n",
       "      <td>8.248444e-12</td>\n",
       "      <td>0.50000</td>\n",
       "      <td>7.500000e-01</td>\n",
       "      <td>1.000000e+00</td>\n",
       "    </tr>\n",
       "  </tbody>\n",
       "</table>\n",
       "</div>"
      ],
      "text/plain": [
       "              i        j             k             m\n",
       "i  1.000000e+00  0.37618  8.248444e-12  8.248444e-12\n",
       "j  3.761799e-01  1.00000  5.000000e-01  5.000000e-01\n",
       "k  8.248444e-12  0.50000  1.000000e+00  7.500000e-01\n",
       "m  8.248444e-12  0.50000  7.500000e-01  1.000000e+00"
      ]
     },
     "execution_count": 38,
     "metadata": {},
     "output_type": "execute_result"
    }
   ],
   "source": [
    "res.correlation_cross_nested(nests)"
   ]
  },
  {
   "cell_type": "code",
   "execution_count": null,
   "metadata": {},
   "outputs": [],
   "source": []
  }
 ],
 "metadata": {
  "kernelspec": {
   "display_name": "Python 3 (ipykernel)",
   "language": "python",
   "name": "python3"
  },
  "language_info": {
   "codemirror_mode": {
    "name": "ipython",
    "version": 3
   },
   "file_extension": ".py",
   "mimetype": "text/x-python",
   "name": "python",
   "nbconvert_exporter": "python",
   "pygments_lexer": "ipython3",
   "version": "3.11.3"
  }
 },
 "nbformat": 4,
 "nbformat_minor": 4
}
