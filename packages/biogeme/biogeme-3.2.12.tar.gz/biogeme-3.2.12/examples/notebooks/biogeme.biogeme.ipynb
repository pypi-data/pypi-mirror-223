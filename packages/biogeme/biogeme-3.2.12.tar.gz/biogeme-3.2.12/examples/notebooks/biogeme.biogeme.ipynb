{
 "cells": [
  {
   "cell_type": "markdown",
   "metadata": {},
   "source": [
    "# Module biogeme.biogeme "
   ]
  },
  {
   "cell_type": "markdown",
   "metadata": {},
   "source": [
    "## Examples of use of each function"
   ]
  },
  {
   "cell_type": "markdown",
   "metadata": {},
   "source": [
    "This webpage is for programmers who need examples of use of the functions of the module. The examples are designed to illustrate the syntax. They do not correspond to any meaningful model. For examples of models, visit  [biogeme.epfl.ch](http://biogeme.epfl.ch)."
   ]
  },
  {
   "cell_type": "code",
   "execution_count": 1,
   "metadata": {
    "execution": {
     "iopub.execute_input": "2023-08-04T16:41:51.048812Z",
     "iopub.status.busy": "2023-08-04T16:41:51.048360Z",
     "iopub.status.idle": "2023-08-04T16:41:51.059266Z",
     "shell.execute_reply": "2023-08-04T16:41:51.058769Z"
    }
   },
   "outputs": [
    {
     "name": "stdout",
     "output_type": "stream",
     "text": [
      "2023-08-04 18:41:51.056996\n"
     ]
    }
   ],
   "source": [
    "import datetime\n",
    "print(datetime.datetime.now())"
   ]
  },
  {
   "cell_type": "code",
   "execution_count": 2,
   "metadata": {
    "execution": {
     "iopub.execute_input": "2023-08-04T16:41:51.061688Z",
     "iopub.status.busy": "2023-08-04T16:41:51.061445Z",
     "iopub.status.idle": "2023-08-04T16:41:51.065301Z",
     "shell.execute_reply": "2023-08-04T16:41:51.064890Z"
    }
   },
   "outputs": [
    {
     "name": "stdout",
     "output_type": "stream",
     "text": [
      "biogeme 3.2.12 [2023-08-04]\n",
      "Home page: http://biogeme.epfl.ch\n",
      "Submit questions to https://groups.google.com/d/forum/biogeme\n",
      "Michel Bierlaire, Transport and Mobility Laboratory, Ecole Polytechnique Fédérale de Lausanne (EPFL)\n",
      "\n"
     ]
    }
   ],
   "source": [
    "import biogeme.version as ver\n",
    "print(ver.getText())"
   ]
  },
  {
   "cell_type": "code",
   "execution_count": 3,
   "metadata": {
    "execution": {
     "iopub.execute_input": "2023-08-04T16:41:51.067978Z",
     "iopub.status.busy": "2023-08-04T16:41:51.067747Z",
     "iopub.status.idle": "2023-08-04T16:41:51.667332Z",
     "shell.execute_reply": "2023-08-04T16:41:51.667033Z"
    }
   },
   "outputs": [],
   "source": [
    "import biogeme.biogeme as bio\n",
    "import biogeme.database as db\n",
    "import pandas as pd\n",
    "import numpy as np\n",
    "from biogeme.expressions import Beta, Variable, exp"
   ]
  },
  {
   "cell_type": "markdown",
   "metadata": {},
   "source": [
    "Define the verbosity of Biogeme"
   ]
  },
  {
   "cell_type": "code",
   "execution_count": 4,
   "metadata": {
    "execution": {
     "iopub.execute_input": "2023-08-04T16:41:51.668741Z",
     "iopub.status.busy": "2023-08-04T16:41:51.668637Z",
     "iopub.status.idle": "2023-08-04T16:41:51.670932Z",
     "shell.execute_reply": "2023-08-04T16:41:51.670707Z"
    }
   },
   "outputs": [
    {
     "name": "stderr",
     "output_type": "stream",
     "text": [
      "Logger initalized \n"
     ]
    }
   ],
   "source": [
    "import biogeme.logging as blog\n",
    "logger = blog.get_screen_logger(level=blog.INFO)\n",
    "logger.info('Logger initalized')\n"
   ]
  },
  {
   "cell_type": "markdown",
   "metadata": {},
   "source": [
    "##  Definition of a database"
   ]
  },
  {
   "cell_type": "code",
   "execution_count": 5,
   "metadata": {
    "execution": {
     "iopub.execute_input": "2023-08-04T16:41:51.672009Z",
     "iopub.status.busy": "2023-08-04T16:41:51.671935Z",
     "iopub.status.idle": "2023-08-04T16:41:51.674844Z",
     "shell.execute_reply": "2023-08-04T16:41:51.674608Z"
    }
   },
   "outputs": [],
   "source": [
    "df = pd.DataFrame({'Person':[1,1,1,2,2],\n",
    "                   'Exclude':[0,0,1,0,1],\n",
    "                   'Variable1':[1,2,3,4,5],\n",
    "                   'Variable2':[10,20,30,40,50],\n",
    "                   'Choice':[1,2,3,1,2],\n",
    "                   'Av1':[0,1,1,1,1],\n",
    "                   'Av2':[1,1,1,1,1],\n",
    "                   'Av3':[0,1,1,1,1]})\n",
    "myData = db.Database('test', df)"
   ]
  },
  {
   "cell_type": "markdown",
   "metadata": {},
   "source": [
    "## Definition of various expressions"
   ]
  },
  {
   "cell_type": "code",
   "execution_count": 6,
   "metadata": {
    "execution": {
     "iopub.execute_input": "2023-08-04T16:41:51.675837Z",
     "iopub.status.busy": "2023-08-04T16:41:51.675764Z",
     "iopub.status.idle": "2023-08-04T16:41:51.677931Z",
     "shell.execute_reply": "2023-08-04T16:41:51.677677Z"
    }
   },
   "outputs": [],
   "source": [
    "Variable1=Variable('Variable1')\n",
    "Variable2=Variable('Variable2')\n",
    "beta1 = Beta('beta1', -1.0, -3, 3, 0)\n",
    "beta2 = Beta('beta2', 2.0, -3, 10, 0)\n",
    "likelihood = -beta1**2 * Variable1 - exp(beta2 * beta1) \\\n",
    "    * Variable2 - beta2**4\n",
    "simul = beta1 / Variable1 + beta2 / Variable2\n",
    "dictOfExpressions = {'loglike': likelihood, \n",
    "                     'beta1': beta1,\n",
    "                     'simul': simul}"
   ]
  },
  {
   "cell_type": "markdown",
   "metadata": {},
   "source": [
    "## Creation of the BIOGEME object"
   ]
  },
  {
   "cell_type": "code",
   "execution_count": 7,
   "metadata": {
    "execution": {
     "iopub.execute_input": "2023-08-04T16:41:51.678970Z",
     "iopub.status.busy": "2023-08-04T16:41:51.678900Z",
     "iopub.status.idle": "2023-08-04T16:41:51.686404Z",
     "shell.execute_reply": "2023-08-04T16:41:51.686205Z"
    }
   },
   "outputs": [
    {
     "name": "stderr",
     "output_type": "stream",
     "text": [
      "File biogeme.toml has been parsed. \n"
     ]
    },
    {
     "name": "stdout",
     "output_type": "stream",
     "text": [
      "simple_example: database [test]{'loglike': ((((-(beta1(init=-1.0) ** `2.0`)) * Variable1) - (exp((beta2(init=2.0) * beta1(init=-1.0))) * Variable2)) - (beta2(init=2.0) ** `4.0`)), 'beta1': beta1(init=-1.0), 'simul': ((beta1(init=-1.0) / Variable1) + (beta2(init=2.0) / Variable2))}\n"
     ]
    }
   ],
   "source": [
    "myBiogeme = bio.BIOGEME(myData, dictOfExpressions)\n",
    "myBiogeme.modelName = 'simple_example'\n",
    "print(myBiogeme)"
   ]
  },
  {
   "cell_type": "code",
   "execution_count": 8,
   "metadata": {
    "execution": {
     "iopub.execute_input": "2023-08-04T16:41:51.687327Z",
     "iopub.status.busy": "2023-08-04T16:41:51.687259Z",
     "iopub.status.idle": "2023-08-04T16:41:51.690109Z",
     "shell.execute_reply": "2023-08-04T16:41:51.689901Z"
    }
   },
   "outputs": [
    {
     "data": {
      "text/plain": [
       "Index(['Person', 'Exclude', 'Variable1', 'Variable2', 'Choice', 'Av1', 'Av2',\n",
       "       'Av3'],\n",
       "      dtype='object')"
      ]
     },
     "execution_count": 8,
     "metadata": {},
     "output_type": "execute_result"
    }
   ],
   "source": [
    "myBiogeme.database.data.columns"
   ]
  },
  {
   "cell_type": "markdown",
   "metadata": {},
   "source": [
    "## calculateInitLikelihood"
   ]
  },
  {
   "cell_type": "code",
   "execution_count": 9,
   "metadata": {
    "execution": {
     "iopub.execute_input": "2023-08-04T16:41:51.691152Z",
     "iopub.status.busy": "2023-08-04T16:41:51.691077Z",
     "iopub.status.idle": "2023-08-04T16:41:51.693051Z",
     "shell.execute_reply": "2023-08-04T16:41:51.692836Z"
    }
   },
   "outputs": [
    {
     "data": {
      "text/plain": [
       "-115.30029248549191"
      ]
     },
     "execution_count": 9,
     "metadata": {},
     "output_type": "execute_result"
    }
   ],
   "source": [
    "myBiogeme.calculateInitLikelihood()"
   ]
  },
  {
   "cell_type": "markdown",
   "metadata": {},
   "source": [
    "## calculateLikelihood"
   ]
  },
  {
   "cell_type": "code",
   "execution_count": 10,
   "metadata": {
    "execution": {
     "iopub.execute_input": "2023-08-04T16:41:51.694040Z",
     "iopub.status.busy": "2023-08-04T16:41:51.693973Z",
     "iopub.status.idle": "2023-08-04T16:41:51.695702Z",
     "shell.execute_reply": "2023-08-04T16:41:51.695457Z"
    }
   },
   "outputs": [
    {
     "name": "stdout",
     "output_type": "stream",
     "text": [
      "[0.0, 3.0]\n"
     ]
    }
   ],
   "source": [
    "x = myBiogeme.id_manager.free_betas_values\n",
    "xplus = [v + 1 for v in x]\n",
    "print(xplus)"
   ]
  },
  {
   "cell_type": "code",
   "execution_count": 11,
   "metadata": {
    "execution": {
     "iopub.execute_input": "2023-08-04T16:41:51.696572Z",
     "iopub.status.busy": "2023-08-04T16:41:51.696512Z",
     "iopub.status.idle": "2023-08-04T16:41:51.698548Z",
     "shell.execute_reply": "2023-08-04T16:41:51.698298Z"
    }
   },
   "outputs": [
    {
     "data": {
      "text/plain": [
       "-111.0"
      ]
     },
     "execution_count": 11,
     "metadata": {},
     "output_type": "execute_result"
    }
   ],
   "source": [
    "myBiogeme.calculateLikelihood(xplus, scaled=True)"
   ]
  },
  {
   "cell_type": "code",
   "execution_count": 12,
   "metadata": {
    "execution": {
     "iopub.execute_input": "2023-08-04T16:41:51.699412Z",
     "iopub.status.busy": "2023-08-04T16:41:51.699347Z",
     "iopub.status.idle": "2023-08-04T16:41:51.702901Z",
     "shell.execute_reply": "2023-08-04T16:41:51.702687Z"
    }
   },
   "outputs": [
    {
     "data": {
      "text/html": [
       "<div>\n",
       "<style scoped>\n",
       "    .dataframe tbody tr th:only-of-type {\n",
       "        vertical-align: middle;\n",
       "    }\n",
       "\n",
       "    .dataframe tbody tr th {\n",
       "        vertical-align: top;\n",
       "    }\n",
       "\n",
       "    .dataframe thead th {\n",
       "        text-align: right;\n",
       "    }\n",
       "</style>\n",
       "<table border=\"1\" class=\"dataframe\">\n",
       "  <thead>\n",
       "    <tr style=\"text-align: right;\">\n",
       "      <th></th>\n",
       "      <th>Person</th>\n",
       "      <th>Exclude</th>\n",
       "      <th>Variable1</th>\n",
       "      <th>Variable2</th>\n",
       "      <th>Choice</th>\n",
       "      <th>Av1</th>\n",
       "      <th>Av2</th>\n",
       "      <th>Av3</th>\n",
       "    </tr>\n",
       "  </thead>\n",
       "  <tbody>\n",
       "    <tr>\n",
       "      <th>0</th>\n",
       "      <td>1</td>\n",
       "      <td>0</td>\n",
       "      <td>1</td>\n",
       "      <td>10</td>\n",
       "      <td>1</td>\n",
       "      <td>0</td>\n",
       "      <td>1</td>\n",
       "      <td>0</td>\n",
       "    </tr>\n",
       "    <tr>\n",
       "      <th>1</th>\n",
       "      <td>1</td>\n",
       "      <td>0</td>\n",
       "      <td>2</td>\n",
       "      <td>20</td>\n",
       "      <td>2</td>\n",
       "      <td>1</td>\n",
       "      <td>1</td>\n",
       "      <td>1</td>\n",
       "    </tr>\n",
       "    <tr>\n",
       "      <th>2</th>\n",
       "      <td>1</td>\n",
       "      <td>1</td>\n",
       "      <td>3</td>\n",
       "      <td>30</td>\n",
       "      <td>3</td>\n",
       "      <td>1</td>\n",
       "      <td>1</td>\n",
       "      <td>1</td>\n",
       "    </tr>\n",
       "    <tr>\n",
       "      <th>3</th>\n",
       "      <td>2</td>\n",
       "      <td>0</td>\n",
       "      <td>4</td>\n",
       "      <td>40</td>\n",
       "      <td>1</td>\n",
       "      <td>1</td>\n",
       "      <td>1</td>\n",
       "      <td>1</td>\n",
       "    </tr>\n",
       "    <tr>\n",
       "      <th>4</th>\n",
       "      <td>2</td>\n",
       "      <td>1</td>\n",
       "      <td>5</td>\n",
       "      <td>50</td>\n",
       "      <td>2</td>\n",
       "      <td>1</td>\n",
       "      <td>1</td>\n",
       "      <td>1</td>\n",
       "    </tr>\n",
       "  </tbody>\n",
       "</table>\n",
       "</div>"
      ],
      "text/plain": [
       "   Person  Exclude  Variable1  Variable2  Choice  Av1  Av2  Av3\n",
       "0       1        0          1         10       1    0    1    0\n",
       "1       1        0          2         20       2    1    1    1\n",
       "2       1        1          3         30       3    1    1    1\n",
       "3       2        0          4         40       1    1    1    1\n",
       "4       2        1          5         50       2    1    1    1"
      ]
     },
     "execution_count": 12,
     "metadata": {},
     "output_type": "execute_result"
    }
   ],
   "source": [
    "myBiogeme.database.data"
   ]
  },
  {
   "cell_type": "code",
   "execution_count": 13,
   "metadata": {
    "execution": {
     "iopub.execute_input": "2023-08-04T16:41:51.703814Z",
     "iopub.status.busy": "2023-08-04T16:41:51.703751Z",
     "iopub.status.idle": "2023-08-04T16:41:51.706800Z",
     "shell.execute_reply": "2023-08-04T16:41:51.706576Z"
    }
   },
   "outputs": [
    {
     "data": {
      "text/html": [
       "<div>\n",
       "<style scoped>\n",
       "    .dataframe tbody tr th:only-of-type {\n",
       "        vertical-align: middle;\n",
       "    }\n",
       "\n",
       "    .dataframe tbody tr th {\n",
       "        vertical-align: top;\n",
       "    }\n",
       "\n",
       "    .dataframe thead th {\n",
       "        text-align: right;\n",
       "    }\n",
       "</style>\n",
       "<table border=\"1\" class=\"dataframe\">\n",
       "  <thead>\n",
       "    <tr style=\"text-align: right;\">\n",
       "      <th></th>\n",
       "      <th>Person</th>\n",
       "      <th>Exclude</th>\n",
       "      <th>Variable1</th>\n",
       "      <th>Variable2</th>\n",
       "      <th>Choice</th>\n",
       "      <th>Av1</th>\n",
       "      <th>Av2</th>\n",
       "      <th>Av3</th>\n",
       "    </tr>\n",
       "  </thead>\n",
       "  <tbody>\n",
       "    <tr>\n",
       "      <th>0</th>\n",
       "      <td>1</td>\n",
       "      <td>0</td>\n",
       "      <td>1</td>\n",
       "      <td>10</td>\n",
       "      <td>1</td>\n",
       "      <td>0</td>\n",
       "      <td>1</td>\n",
       "      <td>0</td>\n",
       "    </tr>\n",
       "    <tr>\n",
       "      <th>1</th>\n",
       "      <td>1</td>\n",
       "      <td>0</td>\n",
       "      <td>2</td>\n",
       "      <td>20</td>\n",
       "      <td>2</td>\n",
       "      <td>1</td>\n",
       "      <td>1</td>\n",
       "      <td>1</td>\n",
       "    </tr>\n",
       "    <tr>\n",
       "      <th>2</th>\n",
       "      <td>1</td>\n",
       "      <td>1</td>\n",
       "      <td>3</td>\n",
       "      <td>30</td>\n",
       "      <td>3</td>\n",
       "      <td>1</td>\n",
       "      <td>1</td>\n",
       "      <td>1</td>\n",
       "    </tr>\n",
       "    <tr>\n",
       "      <th>3</th>\n",
       "      <td>2</td>\n",
       "      <td>0</td>\n",
       "      <td>4</td>\n",
       "      <td>40</td>\n",
       "      <td>1</td>\n",
       "      <td>1</td>\n",
       "      <td>1</td>\n",
       "      <td>1</td>\n",
       "    </tr>\n",
       "    <tr>\n",
       "      <th>4</th>\n",
       "      <td>2</td>\n",
       "      <td>1</td>\n",
       "      <td>5</td>\n",
       "      <td>50</td>\n",
       "      <td>2</td>\n",
       "      <td>1</td>\n",
       "      <td>1</td>\n",
       "      <td>1</td>\n",
       "    </tr>\n",
       "  </tbody>\n",
       "</table>\n",
       "</div>"
      ],
      "text/plain": [
       "   Person  Exclude  Variable1  Variable2  Choice  Av1  Av2  Av3\n",
       "0       1        0          1         10       1    0    1    0\n",
       "1       1        0          2         20       2    1    1    1\n",
       "2       1        1          3         30       3    1    1    1\n",
       "3       2        0          4         40       1    1    1    1\n",
       "4       2        1          5         50       2    1    1    1"
      ]
     },
     "execution_count": 13,
     "metadata": {},
     "output_type": "execute_result"
    }
   ],
   "source": [
    "myBiogeme.database.data"
   ]
  },
  {
   "cell_type": "markdown",
   "metadata": {},
   "source": [
    "By default, each observation has the same probability to be selected in the sample. It is possible to define the selection probability to be proportional to the values of a column of the database, using the parameter 'weights'. "
   ]
  },
  {
   "cell_type": "code",
   "execution_count": 14,
   "metadata": {
    "execution": {
     "iopub.execute_input": "2023-08-04T16:41:51.707747Z",
     "iopub.status.busy": "2023-08-04T16:41:51.707678Z",
     "iopub.status.idle": "2023-08-04T16:41:51.709681Z",
     "shell.execute_reply": "2023-08-04T16:41:51.709464Z"
    }
   },
   "outputs": [
    {
     "data": {
      "text/plain": [
       "-111.0"
      ]
     },
     "execution_count": 14,
     "metadata": {},
     "output_type": "execute_result"
    }
   ],
   "source": [
    "myBiogeme.columnForBatchSamplingWeights = 'Variable2'\n",
    "myBiogeme.calculateLikelihood(xplus, scaled=True)"
   ]
  },
  {
   "cell_type": "code",
   "execution_count": 15,
   "metadata": {
    "execution": {
     "iopub.execute_input": "2023-08-04T16:41:51.710752Z",
     "iopub.status.busy": "2023-08-04T16:41:51.710542Z",
     "iopub.status.idle": "2023-08-04T16:41:51.713450Z",
     "shell.execute_reply": "2023-08-04T16:41:51.713253Z"
    }
   },
   "outputs": [
    {
     "data": {
      "text/html": [
       "<div>\n",
       "<style scoped>\n",
       "    .dataframe tbody tr th:only-of-type {\n",
       "        vertical-align: middle;\n",
       "    }\n",
       "\n",
       "    .dataframe tbody tr th {\n",
       "        vertical-align: top;\n",
       "    }\n",
       "\n",
       "    .dataframe thead th {\n",
       "        text-align: right;\n",
       "    }\n",
       "</style>\n",
       "<table border=\"1\" class=\"dataframe\">\n",
       "  <thead>\n",
       "    <tr style=\"text-align: right;\">\n",
       "      <th></th>\n",
       "      <th>Person</th>\n",
       "      <th>Exclude</th>\n",
       "      <th>Variable1</th>\n",
       "      <th>Variable2</th>\n",
       "      <th>Choice</th>\n",
       "      <th>Av1</th>\n",
       "      <th>Av2</th>\n",
       "      <th>Av3</th>\n",
       "    </tr>\n",
       "  </thead>\n",
       "  <tbody>\n",
       "    <tr>\n",
       "      <th>0</th>\n",
       "      <td>1</td>\n",
       "      <td>0</td>\n",
       "      <td>1</td>\n",
       "      <td>10</td>\n",
       "      <td>1</td>\n",
       "      <td>0</td>\n",
       "      <td>1</td>\n",
       "      <td>0</td>\n",
       "    </tr>\n",
       "    <tr>\n",
       "      <th>1</th>\n",
       "      <td>1</td>\n",
       "      <td>0</td>\n",
       "      <td>2</td>\n",
       "      <td>20</td>\n",
       "      <td>2</td>\n",
       "      <td>1</td>\n",
       "      <td>1</td>\n",
       "      <td>1</td>\n",
       "    </tr>\n",
       "    <tr>\n",
       "      <th>2</th>\n",
       "      <td>1</td>\n",
       "      <td>1</td>\n",
       "      <td>3</td>\n",
       "      <td>30</td>\n",
       "      <td>3</td>\n",
       "      <td>1</td>\n",
       "      <td>1</td>\n",
       "      <td>1</td>\n",
       "    </tr>\n",
       "    <tr>\n",
       "      <th>3</th>\n",
       "      <td>2</td>\n",
       "      <td>0</td>\n",
       "      <td>4</td>\n",
       "      <td>40</td>\n",
       "      <td>1</td>\n",
       "      <td>1</td>\n",
       "      <td>1</td>\n",
       "      <td>1</td>\n",
       "    </tr>\n",
       "    <tr>\n",
       "      <th>4</th>\n",
       "      <td>2</td>\n",
       "      <td>1</td>\n",
       "      <td>5</td>\n",
       "      <td>50</td>\n",
       "      <td>2</td>\n",
       "      <td>1</td>\n",
       "      <td>1</td>\n",
       "      <td>1</td>\n",
       "    </tr>\n",
       "  </tbody>\n",
       "</table>\n",
       "</div>"
      ],
      "text/plain": [
       "   Person  Exclude  Variable1  Variable2  Choice  Av1  Av2  Av3\n",
       "0       1        0          1         10       1    0    1    0\n",
       "1       1        0          2         20       2    1    1    1\n",
       "2       1        1          3         30       3    1    1    1\n",
       "3       2        0          4         40       1    1    1    1\n",
       "4       2        1          5         50       2    1    1    1"
      ]
     },
     "execution_count": 15,
     "metadata": {},
     "output_type": "execute_result"
    }
   ],
   "source": [
    "myBiogeme.database.data"
   ]
  },
  {
   "cell_type": "markdown",
   "metadata": {},
   "source": [
    "## calculateLikelihoodAndDerivatives"
   ]
  },
  {
   "cell_type": "code",
   "execution_count": 16,
   "metadata": {
    "execution": {
     "iopub.execute_input": "2023-08-04T16:41:51.714348Z",
     "iopub.status.busy": "2023-08-04T16:41:51.714290Z",
     "iopub.status.idle": "2023-08-04T16:41:51.716622Z",
     "shell.execute_reply": "2023-08-04T16:41:51.716395Z"
    }
   },
   "outputs": [
    {
     "name": "stdout",
     "output_type": "stream",
     "text": [
      "f = -111.0\n",
      "g = [ -90. -108.]\n",
      "h = [[-270.  -30.]\n",
      " [ -30. -108.]]\n",
      "bhhh = [[ 9900.  9720.]\n",
      " [ 9720. 11664.]]\n"
     ]
    }
   ],
   "source": [
    "f, g, h, bhhh = myBiogeme.calculateLikelihoodAndDerivatives(\n",
    "    xplus,\n",
    "    scaled=True,\n",
    "    hessian=True,\n",
    "    bhhh=True\n",
    ")\n",
    "print(f'f = {f}')\n",
    "print(f'g = {g}')\n",
    "print(f'h = {h}')\n",
    "print(f'bhhh = {bhhh}')"
   ]
  },
  {
   "cell_type": "markdown",
   "metadata": {},
   "source": [
    "Now the unscaled version"
   ]
  },
  {
   "cell_type": "code",
   "execution_count": 17,
   "metadata": {
    "execution": {
     "iopub.execute_input": "2023-08-04T16:41:51.717602Z",
     "iopub.status.busy": "2023-08-04T16:41:51.717506Z",
     "iopub.status.idle": "2023-08-04T16:41:51.719868Z",
     "shell.execute_reply": "2023-08-04T16:41:51.719633Z"
    }
   },
   "outputs": [
    {
     "name": "stdout",
     "output_type": "stream",
     "text": [
      "f = -555.0\n",
      "g = [-450. -540.]\n",
      "h = [[-1350.  -150.]\n",
      " [ -150.  -540.]]\n",
      "bhhh = [[49500. 48600.]\n",
      " [48600. 58320.]]\n"
     ]
    }
   ],
   "source": [
    "f, g, h, bhhh = myBiogeme.calculateLikelihoodAndDerivatives(\n",
    "    xplus,\n",
    "    scaled=False,\n",
    "    hessian=True,\n",
    "    bhhh=True\n",
    ")\n",
    "print(f'f = {f}')\n",
    "print(f'g = {g}')\n",
    "print(f'h = {h}')\n",
    "print(f'bhhh = {bhhh}')"
   ]
  },
  {
   "cell_type": "markdown",
   "metadata": {},
   "source": [
    "Using only a sample of the data"
   ]
  },
  {
   "cell_type": "code",
   "execution_count": 18,
   "metadata": {
    "execution": {
     "iopub.execute_input": "2023-08-04T16:41:51.720818Z",
     "iopub.status.busy": "2023-08-04T16:41:51.720746Z",
     "iopub.status.idle": "2023-08-04T16:41:51.722814Z",
     "shell.execute_reply": "2023-08-04T16:41:51.722616Z"
    }
   },
   "outputs": [
    {
     "name": "stdout",
     "output_type": "stream",
     "text": [
      "f = -111.0\n",
      "g = [ -90. -108.]\n",
      "h = [[-270.  -30.]\n",
      " [ -30. -108.]]\n",
      "bhhh = [[ 9900.  9720.]\n",
      " [ 9720. 11664.]]\n"
     ]
    }
   ],
   "source": [
    "f, g, h, bhhh = myBiogeme.calculateLikelihoodAndDerivatives(\n",
    "    xplus,\n",
    "    scaled=True,\n",
    "    hessian=True,\n",
    "    bhhh=True\n",
    ")\n",
    "print(f'f = {f}')\n",
    "print(f'g = {g}')\n",
    "print(f'h = {h}')\n",
    "print(f'bhhh = {bhhh}')"
   ]
  },
  {
   "cell_type": "markdown",
   "metadata": {},
   "source": [
    "## likelihoodFiniteDifferenceHessian"
   ]
  },
  {
   "cell_type": "code",
   "execution_count": 19,
   "metadata": {
    "execution": {
     "iopub.execute_input": "2023-08-04T16:41:51.723730Z",
     "iopub.status.busy": "2023-08-04T16:41:51.723669Z",
     "iopub.status.idle": "2023-08-04T16:41:51.725804Z",
     "shell.execute_reply": "2023-08-04T16:41:51.725619Z"
    }
   },
   "outputs": [
    {
     "data": {
      "text/plain": [
       "array([[-1380.00020229,  -150.        ],\n",
       "       [ -150.0000451 ,  -540.00005396]])"
      ]
     },
     "execution_count": 19,
     "metadata": {},
     "output_type": "execute_result"
    }
   ],
   "source": [
    "myBiogeme.likelihoodFiniteDifferenceHessian(xplus)"
   ]
  },
  {
   "cell_type": "markdown",
   "metadata": {},
   "source": [
    "## checkDerivatives"
   ]
  },
  {
   "cell_type": "code",
   "execution_count": 20,
   "metadata": {
    "execution": {
     "iopub.execute_input": "2023-08-04T16:41:51.726599Z",
     "iopub.status.busy": "2023-08-04T16:41:51.726536Z",
     "iopub.status.idle": "2023-08-04T16:41:51.729920Z",
     "shell.execute_reply": "2023-08-04T16:41:51.729748Z"
    }
   },
   "outputs": [
    {
     "name": "stderr",
     "output_type": "stream",
     "text": [
      "x\t\tGradient\tFinDiff\t\tDifference \n"
     ]
    },
    {
     "name": "stderr",
     "output_type": "stream",
     "text": [
      "beta1          \t-4.500000E+02\t-4.500001E+02\t+6.934970E-05 \n"
     ]
    },
    {
     "name": "stderr",
     "output_type": "stream",
     "text": [
      "beta2          \t-5.400000E+02\t-5.400001E+02\t+8.087011E-05 \n"
     ]
    },
    {
     "name": "stderr",
     "output_type": "stream",
     "text": [
      "Row\t\tCol\t\tHessian\tFinDiff\t\tDifference \n"
     ]
    },
    {
     "name": "stderr",
     "output_type": "stream",
     "text": [
      "beta1          \tbeta1          \t-1.350000E+03\t-1.380000E+03\t+3.000020E+01 \n"
     ]
    },
    {
     "name": "stderr",
     "output_type": "stream",
     "text": [
      "beta1          \tbeta2          \t-1.500000E+02\t-1.500000E+02\t+2.425509E-10 \n"
     ]
    },
    {
     "name": "stderr",
     "output_type": "stream",
     "text": [
      "beta2          \tbeta1          \t-1.500000E+02\t-1.500000E+02\t+4.509602E-05 \n"
     ]
    },
    {
     "name": "stderr",
     "output_type": "stream",
     "text": [
      "beta2          \tbeta2          \t-5.400000E+02\t-5.400001E+02\t+5.396423E-05 \n"
     ]
    }
   ],
   "source": [
    "f, g, h, gdiff, hdiff = myBiogeme.checkDerivatives(xplus, verbose=True)"
   ]
  },
  {
   "cell_type": "code",
   "execution_count": 21,
   "metadata": {
    "execution": {
     "iopub.execute_input": "2023-08-04T16:41:51.730792Z",
     "iopub.status.busy": "2023-08-04T16:41:51.730720Z",
     "iopub.status.idle": "2023-08-04T16:41:51.732845Z",
     "shell.execute_reply": "2023-08-04T16:41:51.732648Z"
    }
   },
   "outputs": [
    {
     "name": "stdout",
     "output_type": "stream",
     "text": [
      "f = -555.0\n",
      "g = [-450. -540.]\n",
      "h = [[-1350.  -150.]\n",
      " [ -150.  -540.]]\n",
      "gdiff = [6.93496986e-05 8.08701104e-05]\n",
      "hdiff = [[3.00002023e+01 2.42550868e-10]\n",
      " [4.50960215e-05 5.39642255e-05]]\n"
     ]
    },
    {
     "data": {
      "text/plain": [
       "array([[3.00002023e+01, 2.42550868e-10],\n",
       "       [4.50960215e-05, 5.39642255e-05]])"
      ]
     },
     "execution_count": 21,
     "metadata": {},
     "output_type": "execute_result"
    }
   ],
   "source": [
    "print(f'f = {f}')\n",
    "print(f'g = {g}')\n",
    "print(f'h = {h}')\n",
    "print(f'gdiff = {gdiff}')\n",
    "print(f'hdiff = {hdiff}')\n",
    "hdiff"
   ]
  },
  {
   "cell_type": "markdown",
   "metadata": {},
   "source": [
    "## estimate"
   ]
  },
  {
   "cell_type": "markdown",
   "metadata": {},
   "source": [
    "During estimation, it is possible to save intermediate results, in case the estimation must be interrupted. "
   ]
  },
  {
   "cell_type": "code",
   "execution_count": 22,
   "metadata": {
    "execution": {
     "iopub.execute_input": "2023-08-04T16:41:51.733706Z",
     "iopub.status.busy": "2023-08-04T16:41:51.733634Z",
     "iopub.status.idle": "2023-08-04T16:41:51.779289Z",
     "shell.execute_reply": "2023-08-04T16:41:51.779068Z"
    }
   },
   "outputs": [
    {
     "name": "stderr",
     "output_type": "stream",
     "text": [
      "*** Initial values of the parameters are obtained from the file __simple_example.iter \n"
     ]
    },
    {
     "name": "stderr",
     "output_type": "stream",
     "text": [
      "Parameter values restored from __simple_example.iter \n"
     ]
    },
    {
     "name": "stderr",
     "output_type": "stream",
     "text": [
      "Optimization algorithm: hybrid Newton/BFGS with simple bounds [simple_bounds] \n"
     ]
    },
    {
     "name": "stderr",
     "output_type": "stream",
     "text": [
      "** Optimization: Newton with trust region for simple bounds \n"
     ]
    },
    {
     "name": "stderr",
     "output_type": "stream",
     "text": [
      "Iter.           beta1           beta2     Function    Relgrad   Radius      Rho      \n"
     ]
    },
    {
     "name": "stderr",
     "output_type": "stream",
     "text": [
      "    0           -0.23             2.1      1.8e+02      0.019    1e+02      1.2   ++ \n"
     ]
    },
    {
     "name": "stderr",
     "output_type": "stream",
     "text": [
      "    1            -0.6             1.5           93      0.013    1e+03      1.2   ++ \n"
     ]
    },
    {
     "name": "stderr",
     "output_type": "stream",
     "text": [
      "    2              -1             1.3           70       0.01    1e+04      1.2   ++ \n"
     ]
    },
    {
     "name": "stderr",
     "output_type": "stream",
     "text": [
      "    3            -1.2             1.3           67     0.0039    1e+05      1.1   ++ \n"
     ]
    },
    {
     "name": "stderr",
     "output_type": "stream",
     "text": [
      "    4            -1.3             1.2           67    6.8e-05    1e+06        1   ++ \n"
     ]
    },
    {
     "name": "stderr",
     "output_type": "stream",
     "text": [
      "    5            -1.3             1.2           67    1.2e-08    1e+06        1   ++ \n"
     ]
    },
    {
     "name": "stderr",
     "output_type": "stream",
     "text": [
      "Re-estimate the model 10 times for bootstrapping \n"
     ]
    },
    {
     "name": "stderr",
     "output_type": "stream",
     "text": [
      "\r",
      "  0%|                                                                                                                                                                                                                                                                                                                                                | 0/10 [00:00<?, ?it/s]"
     ]
    },
    {
     "name": "stderr",
     "output_type": "stream",
     "text": [
      "Optimization algorithm: hybrid Newton/BFGS with simple bounds [simple_bounds] \n"
     ]
    },
    {
     "name": "stderr",
     "output_type": "stream",
     "text": [
      "** Optimization: Newton with trust region for simple bounds \n"
     ]
    },
    {
     "name": "stderr",
     "output_type": "stream",
     "text": [
      "Iter.           beta1           beta2     Function    Relgrad   Radius      Rho      \n"
     ]
    },
    {
     "name": "stderr",
     "output_type": "stream",
     "text": [
      "    0            -1.3             1.3           74    0.00082    1e+02     0.99   ++ \n"
     ]
    },
    {
     "name": "stderr",
     "output_type": "stream",
     "text": [
      "    1            -1.3             1.3           74    7.1e-08    1e+02        1   ++ \n"
     ]
    },
    {
     "name": "stderr",
     "output_type": "stream",
     "text": [
      "Optimization algorithm: hybrid Newton/BFGS with simple bounds [simple_bounds] \n"
     ]
    },
    {
     "name": "stderr",
     "output_type": "stream",
     "text": [
      "** Optimization: Newton with trust region for simple bounds \n"
     ]
    },
    {
     "name": "stderr",
     "output_type": "stream",
     "text": [
      "Iter.           beta1           beta2     Function    Relgrad   Radius      Rho      \n"
     ]
    },
    {
     "name": "stderr",
     "output_type": "stream",
     "text": [
      "    0            -1.3             1.2           52     0.0069    1e+02        1   ++ \n"
     ]
    },
    {
     "name": "stderr",
     "output_type": "stream",
     "text": [
      "    1            -1.3             1.2           52    6.2e-06    1e+03        1   ++ \n"
     ]
    },
    {
     "name": "stderr",
     "output_type": "stream",
     "text": [
      "    2            -1.3             1.2           52    1.3e-07    1e+03        1   ++ \n"
     ]
    },
    {
     "name": "stderr",
     "output_type": "stream",
     "text": [
      "Optimization algorithm: hybrid Newton/BFGS with simple bounds [simple_bounds] \n"
     ]
    },
    {
     "name": "stderr",
     "output_type": "stream",
     "text": [
      "** Optimization: Newton with trust region for simple bounds \n"
     ]
    },
    {
     "name": "stderr",
     "output_type": "stream",
     "text": [
      "Iter.           beta1           beta2     Function    Relgrad   Radius      Rho      \n"
     ]
    },
    {
     "name": "stderr",
     "output_type": "stream",
     "text": [
      "    0            -1.3             1.2           63    0.00029    1e+02        1   ++ \n"
     ]
    },
    {
     "name": "stderr",
     "output_type": "stream",
     "text": [
      "    1            -1.3             1.2           63      1e-08    1e+02        1   ++ \n"
     ]
    },
    {
     "name": "stderr",
     "output_type": "stream",
     "text": [
      "Optimization algorithm: hybrid Newton/BFGS with simple bounds [simple_bounds] \n"
     ]
    },
    {
     "name": "stderr",
     "output_type": "stream",
     "text": [
      "** Optimization: Newton with trust region for simple bounds \n"
     ]
    },
    {
     "name": "stderr",
     "output_type": "stream",
     "text": [
      "Iter.           beta1           beta2     Function    Relgrad   Radius      Rho      \n"
     ]
    },
    {
     "name": "stderr",
     "output_type": "stream",
     "text": [
      "    0            -1.3             1.1           44      0.021    1e+02        1   ++ \n"
     ]
    },
    {
     "name": "stderr",
     "output_type": "stream",
     "text": [
      "    1            -1.3             1.1           44    5.9e-05    1e+03        1   ++ \n"
     ]
    },
    {
     "name": "stderr",
     "output_type": "stream",
     "text": [
      "    2            -1.3             1.1           44    4.1e-08    1e+03        1   ++ \n"
     ]
    },
    {
     "name": "stderr",
     "output_type": "stream",
     "text": [
      "Optimization algorithm: hybrid Newton/BFGS with simple bounds [simple_bounds] \n"
     ]
    },
    {
     "name": "stderr",
     "output_type": "stream",
     "text": [
      "** Optimization: Newton with trust region for simple bounds \n"
     ]
    },
    {
     "name": "stderr",
     "output_type": "stream",
     "text": [
      "Iter.           beta1           beta2     Function    Relgrad   Radius      Rho      \n"
     ]
    },
    {
     "name": "stderr",
     "output_type": "stream",
     "text": [
      "    0            -1.3             1.2           56     0.0034    1e+02        1   ++ \n"
     ]
    },
    {
     "name": "stderr",
     "output_type": "stream",
     "text": [
      "    1            -1.3             1.2           56    1.4e-06    1e+02        1   ++ \n"
     ]
    },
    {
     "name": "stderr",
     "output_type": "stream",
     "text": [
      "Optimization algorithm: hybrid Newton/BFGS with simple bounds [simple_bounds] \n"
     ]
    },
    {
     "name": "stderr",
     "output_type": "stream",
     "text": [
      "** Optimization: Newton with trust region for simple bounds \n"
     ]
    },
    {
     "name": "stderr",
     "output_type": "stream",
     "text": [
      "Iter.           beta1           beta2     Function    Relgrad   Radius      Rho      \n"
     ]
    },
    {
     "name": "stderr",
     "output_type": "stream",
     "text": [
      "    0            -1.3             1.3           81     0.0026    1e+02     0.99   ++ \n"
     ]
    },
    {
     "name": "stderr",
     "output_type": "stream",
     "text": [
      "    1            -1.3             1.3           81    6.8e-07    1e+02        1   ++ \n"
     ]
    },
    {
     "name": "stderr",
     "output_type": "stream",
     "text": [
      "Optimization algorithm: hybrid Newton/BFGS with simple bounds [simple_bounds] \n"
     ]
    },
    {
     "name": "stderr",
     "output_type": "stream",
     "text": [
      "** Optimization: Newton with trust region for simple bounds \n"
     ]
    },
    {
     "name": "stderr",
     "output_type": "stream",
     "text": [
      "Iter.           beta1           beta2     Function    Relgrad   Radius      Rho      \n"
     ]
    },
    {
     "name": "stderr",
     "output_type": "stream",
     "text": [
      "    0            -1.3             1.2           52     0.0069    1e+02        1   ++ \n"
     ]
    },
    {
     "name": "stderr",
     "output_type": "stream",
     "text": [
      "    1            -1.3             1.2           52    6.2e-06    1e+03        1   ++ \n"
     ]
    },
    {
     "name": "stderr",
     "output_type": "stream",
     "text": [
      "    2            -1.3             1.2           52    1.3e-07    1e+03        1   ++ \n"
     ]
    },
    {
     "name": "stderr",
     "output_type": "stream",
     "text": [
      "Optimization algorithm: hybrid Newton/BFGS with simple bounds [simple_bounds] \n"
     ]
    },
    {
     "name": "stderr",
     "output_type": "stream",
     "text": [
      "** Optimization: Newton with trust region for simple bounds \n"
     ]
    },
    {
     "name": "stderr",
     "output_type": "stream",
     "text": [
      "Optimization algorithm: hybrid Newton/BFGS with simple bounds [simple_bounds] \n"
     ]
    },
    {
     "name": "stderr",
     "output_type": "stream",
     "text": [
      "** Optimization: Newton with trust region for simple bounds \n"
     ]
    },
    {
     "name": "stderr",
     "output_type": "stream",
     "text": [
      "Iter.           beta1           beta2     Function    Relgrad   Radius      Rho      \n"
     ]
    },
    {
     "name": "stderr",
     "output_type": "stream",
     "text": [
      "    0            -1.3             1.1           48      0.012    1e+02        1   ++ \n"
     ]
    },
    {
     "name": "stderr",
     "output_type": "stream",
     "text": [
      "    1            -1.3             1.1           48    2.1e-05    1e+03        1   ++ \n"
     ]
    },
    {
     "name": "stderr",
     "output_type": "stream",
     "text": [
      "    2            -1.3             1.1           48      6e-11    1e+03        1   ++ \n"
     ]
    },
    {
     "name": "stderr",
     "output_type": "stream",
     "text": [
      "Optimization algorithm: hybrid Newton/BFGS with simple bounds [simple_bounds] \n"
     ]
    },
    {
     "name": "stderr",
     "output_type": "stream",
     "text": [
      "** Optimization: Newton with trust region for simple bounds \n"
     ]
    },
    {
     "name": "stderr",
     "output_type": "stream",
     "text": [
      "Iter.           beta1           beta2     Function    Relgrad   Radius      Rho      \n"
     ]
    },
    {
     "name": "stderr",
     "output_type": "stream",
     "text": [
      "    0            -1.3             1.2           63    0.00029    1e+02        1   ++ \n"
     ]
    },
    {
     "name": "stderr",
     "output_type": "stream",
     "text": [
      "    1            -1.3             1.2           63      1e-08    1e+02        1   ++ \n"
     ]
    },
    {
     "name": "stderr",
     "output_type": "stream",
     "text": [
      "\r",
      "100%|██████████████████████████████████████████████████████████████████████████████████████████████████████████████████████████████████████████████████████████████████████████████████████████████████████████████████████████████████████████████████████████████████████████████████████████████████████████████████████████████████████| 10/10 [00:00<00:00, 374.45it/s]"
     ]
    },
    {
     "name": "stderr",
     "output_type": "stream",
     "text": [
      "\n",
      "Results saved in file simple_example.html \n"
     ]
    },
    {
     "name": "stderr",
     "output_type": "stream",
     "text": [
      "Results saved in file simple_example.pickle \n"
     ]
    }
   ],
   "source": [
    "myBiogeme.bootstrap_samples=10\n",
    "results = myBiogeme.estimate(run_bootstrap=True)"
   ]
  },
  {
   "cell_type": "code",
   "execution_count": 23,
   "metadata": {
    "execution": {
     "iopub.execute_input": "2023-08-04T16:41:51.780244Z",
     "iopub.status.busy": "2023-08-04T16:41:51.780164Z",
     "iopub.status.idle": "2023-08-04T16:41:51.784149Z",
     "shell.execute_reply": "2023-08-04T16:41:51.783954Z"
    }
   },
   "outputs": [
    {
     "data": {
      "text/html": [
       "<div>\n",
       "<style scoped>\n",
       "    .dataframe tbody tr th:only-of-type {\n",
       "        vertical-align: middle;\n",
       "    }\n",
       "\n",
       "    .dataframe tbody tr th {\n",
       "        vertical-align: top;\n",
       "    }\n",
       "\n",
       "    .dataframe thead th {\n",
       "        text-align: right;\n",
       "    }\n",
       "</style>\n",
       "<table border=\"1\" class=\"dataframe\">\n",
       "  <thead>\n",
       "    <tr style=\"text-align: right;\">\n",
       "      <th></th>\n",
       "      <th>Value</th>\n",
       "      <th>Rob. Std err</th>\n",
       "      <th>Rob. t-test</th>\n",
       "      <th>Rob. p-value</th>\n",
       "    </tr>\n",
       "  </thead>\n",
       "  <tbody>\n",
       "    <tr>\n",
       "      <th>beta1</th>\n",
       "      <td>-1.273264</td>\n",
       "      <td>0.013724</td>\n",
       "      <td>-92.776769</td>\n",
       "      <td>0.0</td>\n",
       "    </tr>\n",
       "    <tr>\n",
       "      <th>beta2</th>\n",
       "      <td>1.248769</td>\n",
       "      <td>0.059086</td>\n",
       "      <td>21.134795</td>\n",
       "      <td>0.0</td>\n",
       "    </tr>\n",
       "  </tbody>\n",
       "</table>\n",
       "</div>"
      ],
      "text/plain": [
       "          Value  Rob. Std err  Rob. t-test  Rob. p-value\n",
       "beta1 -1.273264      0.013724   -92.776769           0.0\n",
       "beta2  1.248769      0.059086    21.134795           0.0"
      ]
     },
     "execution_count": 23,
     "metadata": {},
     "output_type": "execute_result"
    }
   ],
   "source": [
    "results.getEstimatedParameters()"
   ]
  },
  {
   "cell_type": "markdown",
   "metadata": {},
   "source": [
    "If the model has already been estimated, it is possible to recycle the estimation results. In that case, the other arguments are ignored, and the results are whatever is in the file."
   ]
  },
  {
   "cell_type": "code",
   "execution_count": 24,
   "metadata": {
    "execution": {
     "iopub.execute_input": "2023-08-04T16:41:51.785004Z",
     "iopub.status.busy": "2023-08-04T16:41:51.784924Z",
     "iopub.status.idle": "2023-08-04T16:41:51.791887Z",
     "shell.execute_reply": "2023-08-04T16:41:51.791685Z"
    }
   },
   "outputs": [
    {
     "name": "stderr",
     "output_type": "stream",
     "text": [
      "Estimation results read from simple_example.pickle. There is no guarantee that they correspond to the specified model. \n"
     ]
    }
   ],
   "source": [
    "recycled_results = myBiogeme.estimate(recycle=True, run_bootstrap=True)"
   ]
  },
  {
   "cell_type": "code",
   "execution_count": 25,
   "metadata": {
    "execution": {
     "iopub.execute_input": "2023-08-04T16:41:51.792833Z",
     "iopub.status.busy": "2023-08-04T16:41:51.792769Z",
     "iopub.status.idle": "2023-08-04T16:41:51.794416Z",
     "shell.execute_reply": "2023-08-04T16:41:51.794202Z"
    }
   },
   "outputs": [
    {
     "name": "stderr",
     "output_type": "stream",
     "text": [
      "The syntax \"shortSummary\" is deprecated and is replaced by the syntax \"short_summary\". \n"
     ]
    },
    {
     "name": "stdout",
     "output_type": "stream",
     "text": [
      "Results for model simple_example\n",
      "Nbr of parameters:\t\t2\n",
      "Sample size:\t\t\t5\n",
      "Excluded data:\t\t\t0\n",
      "Final log likelihood:\t\t-67.06549\n",
      "Akaike Information Criterion:\t138.131\n",
      "Bayesian Information Criterion:\t137.3499\n",
      "\n"
     ]
    }
   ],
   "source": [
    "print(recycled_results.shortSummary())"
   ]
  },
  {
   "cell_type": "code",
   "execution_count": 26,
   "metadata": {
    "execution": {
     "iopub.execute_input": "2023-08-04T16:41:51.795356Z",
     "iopub.status.busy": "2023-08-04T16:41:51.795293Z",
     "iopub.status.idle": "2023-08-04T16:41:51.798799Z",
     "shell.execute_reply": "2023-08-04T16:41:51.798589Z"
    }
   },
   "outputs": [
    {
     "data": {
      "text/html": [
       "<div>\n",
       "<style scoped>\n",
       "    .dataframe tbody tr th:only-of-type {\n",
       "        vertical-align: middle;\n",
       "    }\n",
       "\n",
       "    .dataframe tbody tr th {\n",
       "        vertical-align: top;\n",
       "    }\n",
       "\n",
       "    .dataframe thead th {\n",
       "        text-align: right;\n",
       "    }\n",
       "</style>\n",
       "<table border=\"1\" class=\"dataframe\">\n",
       "  <thead>\n",
       "    <tr style=\"text-align: right;\">\n",
       "      <th></th>\n",
       "      <th>Value</th>\n",
       "      <th>Rob. Std err</th>\n",
       "      <th>Rob. t-test</th>\n",
       "      <th>Rob. p-value</th>\n",
       "    </tr>\n",
       "  </thead>\n",
       "  <tbody>\n",
       "    <tr>\n",
       "      <th>beta1</th>\n",
       "      <td>-1.273264</td>\n",
       "      <td>0.013724</td>\n",
       "      <td>-92.776769</td>\n",
       "      <td>0.0</td>\n",
       "    </tr>\n",
       "    <tr>\n",
       "      <th>beta2</th>\n",
       "      <td>1.248769</td>\n",
       "      <td>0.059086</td>\n",
       "      <td>21.134795</td>\n",
       "      <td>0.0</td>\n",
       "    </tr>\n",
       "  </tbody>\n",
       "</table>\n",
       "</div>"
      ],
      "text/plain": [
       "          Value  Rob. Std err  Rob. t-test  Rob. p-value\n",
       "beta1 -1.273264      0.013724   -92.776769           0.0\n",
       "beta2  1.248769      0.059086    21.134795           0.0"
      ]
     },
     "execution_count": 26,
     "metadata": {},
     "output_type": "execute_result"
    }
   ],
   "source": [
    "recycled_results.getEstimatedParameters()"
   ]
  },
  {
   "cell_type": "markdown",
   "metadata": {},
   "source": [
    "## simulate"
   ]
  },
  {
   "cell_type": "markdown",
   "metadata": {},
   "source": [
    "Simulate with the default values for the parameters"
   ]
  },
  {
   "cell_type": "code",
   "execution_count": 27,
   "metadata": {
    "execution": {
     "iopub.execute_input": "2023-08-04T16:41:51.799739Z",
     "iopub.status.busy": "2023-08-04T16:41:51.799678Z",
     "iopub.status.idle": "2023-08-04T16:41:51.803195Z",
     "shell.execute_reply": "2023-08-04T16:41:51.802999Z"
    }
   },
   "outputs": [
    {
     "data": {
      "text/html": [
       "<div>\n",
       "<style scoped>\n",
       "    .dataframe tbody tr th:only-of-type {\n",
       "        vertical-align: middle;\n",
       "    }\n",
       "\n",
       "    .dataframe tbody tr th {\n",
       "        vertical-align: top;\n",
       "    }\n",
       "\n",
       "    .dataframe thead th {\n",
       "        text-align: right;\n",
       "    }\n",
       "</style>\n",
       "<table border=\"1\" class=\"dataframe\">\n",
       "  <thead>\n",
       "    <tr style=\"text-align: right;\">\n",
       "      <th></th>\n",
       "      <th>loglike</th>\n",
       "      <th>beta1</th>\n",
       "      <th>simul</th>\n",
       "    </tr>\n",
       "  </thead>\n",
       "  <tbody>\n",
       "    <tr>\n",
       "      <th>0</th>\n",
       "      <td>-121.0</td>\n",
       "      <td>0.0</td>\n",
       "      <td>0.075</td>\n",
       "    </tr>\n",
       "    <tr>\n",
       "      <th>1</th>\n",
       "      <td>-121.0</td>\n",
       "      <td>0.0</td>\n",
       "      <td>0.075</td>\n",
       "    </tr>\n",
       "    <tr>\n",
       "      <th>2</th>\n",
       "      <td>-101.0</td>\n",
       "      <td>0.0</td>\n",
       "      <td>0.150</td>\n",
       "    </tr>\n",
       "    <tr>\n",
       "      <th>3</th>\n",
       "      <td>-91.0</td>\n",
       "      <td>0.0</td>\n",
       "      <td>0.300</td>\n",
       "    </tr>\n",
       "    <tr>\n",
       "      <th>4</th>\n",
       "      <td>-111.0</td>\n",
       "      <td>0.0</td>\n",
       "      <td>0.100</td>\n",
       "    </tr>\n",
       "  </tbody>\n",
       "</table>\n",
       "</div>"
      ],
      "text/plain": [
       "   loglike  beta1  simul\n",
       "0   -121.0    0.0  0.075\n",
       "1   -121.0    0.0  0.075\n",
       "2   -101.0    0.0  0.150\n",
       "3    -91.0    0.0  0.300\n",
       "4   -111.0    0.0  0.100"
      ]
     },
     "execution_count": 27,
     "metadata": {},
     "output_type": "execute_result"
    }
   ],
   "source": [
    "simulationWithDefaultBetas = myBiogeme.simulate(myBiogeme.loglike.get_beta_values())\n",
    "simulationWithDefaultBetas"
   ]
  },
  {
   "cell_type": "markdown",
   "metadata": {},
   "source": [
    "Simulate with the estimated values for the parameters"
   ]
  },
  {
   "cell_type": "code",
   "execution_count": 28,
   "metadata": {
    "execution": {
     "iopub.execute_input": "2023-08-04T16:41:51.804124Z",
     "iopub.status.busy": "2023-08-04T16:41:51.804062Z",
     "iopub.status.idle": "2023-08-04T16:41:51.807861Z",
     "shell.execute_reply": "2023-08-04T16:41:51.807628Z"
    }
   },
   "outputs": [
    {
     "name": "stdout",
     "output_type": "stream",
     "text": [
      "{'beta1': -1.273263915009374, 'beta2': 1.248768825523196}\n"
     ]
    },
    {
     "data": {
      "text/html": [
       "<div>\n",
       "<style scoped>\n",
       "    .dataframe tbody tr th:only-of-type {\n",
       "        vertical-align: middle;\n",
       "    }\n",
       "\n",
       "    .dataframe tbody tr th {\n",
       "        vertical-align: top;\n",
       "    }\n",
       "\n",
       "    .dataframe thead th {\n",
       "        text-align: right;\n",
       "    }\n",
       "</style>\n",
       "<table border=\"1\" class=\"dataframe\">\n",
       "  <thead>\n",
       "    <tr style=\"text-align: right;\">\n",
       "      <th></th>\n",
       "      <th>loglike</th>\n",
       "      <th>beta1</th>\n",
       "      <th>simul</th>\n",
       "    </tr>\n",
       "  </thead>\n",
       "  <tbody>\n",
       "    <tr>\n",
       "      <th>0</th>\n",
       "      <td>-17.073530</td>\n",
       "      <td>-1.273264</td>\n",
       "      <td>-0.287097</td>\n",
       "    </tr>\n",
       "    <tr>\n",
       "      <th>1</th>\n",
       "      <td>-17.073530</td>\n",
       "      <td>-1.273264</td>\n",
       "      <td>-0.287097</td>\n",
       "    </tr>\n",
       "    <tr>\n",
       "      <th>2</th>\n",
       "      <td>-9.752666</td>\n",
       "      <td>-1.273264</td>\n",
       "      <td>-0.574194</td>\n",
       "    </tr>\n",
       "    <tr>\n",
       "      <th>3</th>\n",
       "      <td>-6.092234</td>\n",
       "      <td>-1.273264</td>\n",
       "      <td>-1.148387</td>\n",
       "    </tr>\n",
       "    <tr>\n",
       "      <th>4</th>\n",
       "      <td>-13.413098</td>\n",
       "      <td>-1.273264</td>\n",
       "      <td>-0.382796</td>\n",
       "    </tr>\n",
       "  </tbody>\n",
       "</table>\n",
       "</div>"
      ],
      "text/plain": [
       "     loglike     beta1     simul\n",
       "0 -17.073530 -1.273264 -0.287097\n",
       "1 -17.073530 -1.273264 -0.287097\n",
       "2  -9.752666 -1.273264 -0.574194\n",
       "3  -6.092234 -1.273264 -1.148387\n",
       "4 -13.413098 -1.273264 -0.382796"
      ]
     },
     "execution_count": 28,
     "metadata": {},
     "output_type": "execute_result"
    }
   ],
   "source": [
    "print(results.getBetaValues())\n",
    "simulationWithEstimatedBetas =\\\n",
    "    myBiogeme.simulate(results.getBetaValues())\n",
    "simulationWithEstimatedBetas"
   ]
  },
  {
   "cell_type": "markdown",
   "metadata": {},
   "source": [
    "## confidenceIntervals"
   ]
  },
  {
   "cell_type": "code",
   "execution_count": 29,
   "metadata": {
    "execution": {
     "iopub.execute_input": "2023-08-04T16:41:51.808927Z",
     "iopub.status.busy": "2023-08-04T16:41:51.808849Z",
     "iopub.status.idle": "2023-08-04T16:41:51.819538Z",
     "shell.execute_reply": "2023-08-04T16:41:51.819319Z"
    }
   },
   "outputs": [
    {
     "data": {
      "text/html": [
       "<div>\n",
       "<style scoped>\n",
       "    .dataframe tbody tr th:only-of-type {\n",
       "        vertical-align: middle;\n",
       "    }\n",
       "\n",
       "    .dataframe tbody tr th {\n",
       "        vertical-align: top;\n",
       "    }\n",
       "\n",
       "    .dataframe thead th {\n",
       "        text-align: right;\n",
       "    }\n",
       "</style>\n",
       "<table border=\"1\" class=\"dataframe\">\n",
       "  <thead>\n",
       "    <tr style=\"text-align: right;\">\n",
       "      <th></th>\n",
       "      <th>loglike</th>\n",
       "      <th>beta1</th>\n",
       "      <th>simul</th>\n",
       "    </tr>\n",
       "  </thead>\n",
       "  <tbody>\n",
       "    <tr>\n",
       "      <th>0</th>\n",
       "      <td>-17.634327</td>\n",
       "      <td>-1.301351</td>\n",
       "      <td>-0.297227</td>\n",
       "    </tr>\n",
       "    <tr>\n",
       "      <th>1</th>\n",
       "      <td>-17.634327</td>\n",
       "      <td>-1.301351</td>\n",
       "      <td>-0.297227</td>\n",
       "    </tr>\n",
       "    <tr>\n",
       "      <th>2</th>\n",
       "      <td>-9.929830</td>\n",
       "      <td>-1.301351</td>\n",
       "      <td>-0.594453</td>\n",
       "    </tr>\n",
       "    <tr>\n",
       "      <th>3</th>\n",
       "      <td>-6.403080</td>\n",
       "      <td>-1.301351</td>\n",
       "      <td>-1.188907</td>\n",
       "    </tr>\n",
       "    <tr>\n",
       "      <th>4</th>\n",
       "      <td>-13.625745</td>\n",
       "      <td>-1.301351</td>\n",
       "      <td>-0.396302</td>\n",
       "    </tr>\n",
       "  </tbody>\n",
       "</table>\n",
       "</div>"
      ],
      "text/plain": [
       "     loglike     beta1     simul\n",
       "0 -17.634327 -1.301351 -0.297227\n",
       "1 -17.634327 -1.301351 -0.297227\n",
       "2  -9.929830 -1.301351 -0.594453\n",
       "3  -6.403080 -1.301351 -1.188907\n",
       "4 -13.625745 -1.301351 -0.396302"
      ]
     },
     "execution_count": 29,
     "metadata": {},
     "output_type": "execute_result"
    }
   ],
   "source": [
    "drawsFromBetas = results.getBetasForSensitivityAnalysis(\n",
    "    myBiogeme.id_manager.free_betas.names\n",
    ")\n",
    "left, right = myBiogeme.confidenceIntervals(drawsFromBetas)\n",
    "left"
   ]
  },
  {
   "cell_type": "code",
   "execution_count": 30,
   "metadata": {
    "execution": {
     "iopub.execute_input": "2023-08-04T16:41:51.820359Z",
     "iopub.status.busy": "2023-08-04T16:41:51.820289Z",
     "iopub.status.idle": "2023-08-04T16:41:51.822916Z",
     "shell.execute_reply": "2023-08-04T16:41:51.822696Z"
    }
   },
   "outputs": [
    {
     "data": {
      "text/html": [
       "<div>\n",
       "<style scoped>\n",
       "    .dataframe tbody tr th:only-of-type {\n",
       "        vertical-align: middle;\n",
       "    }\n",
       "\n",
       "    .dataframe tbody tr th {\n",
       "        vertical-align: top;\n",
       "    }\n",
       "\n",
       "    .dataframe thead th {\n",
       "        text-align: right;\n",
       "    }\n",
       "</style>\n",
       "<table border=\"1\" class=\"dataframe\">\n",
       "  <thead>\n",
       "    <tr style=\"text-align: right;\">\n",
       "      <th></th>\n",
       "      <th>loglike</th>\n",
       "      <th>beta1</th>\n",
       "      <th>simul</th>\n",
       "    </tr>\n",
       "  </thead>\n",
       "  <tbody>\n",
       "    <tr>\n",
       "      <th>0</th>\n",
       "      <td>-16.983328</td>\n",
       "      <td>-1.26081</td>\n",
       "      <td>-0.282652</td>\n",
       "    </tr>\n",
       "    <tr>\n",
       "      <th>1</th>\n",
       "      <td>-16.983328</td>\n",
       "      <td>-1.26081</td>\n",
       "      <td>-0.282652</td>\n",
       "    </tr>\n",
       "    <tr>\n",
       "      <th>2</th>\n",
       "      <td>-9.615808</td>\n",
       "      <td>-1.26081</td>\n",
       "      <td>-0.565305</td>\n",
       "    </tr>\n",
       "    <tr>\n",
       "      <th>3</th>\n",
       "      <td>-5.608581</td>\n",
       "      <td>-1.26081</td>\n",
       "      <td>-1.130610</td>\n",
       "    </tr>\n",
       "    <tr>\n",
       "      <th>4</th>\n",
       "      <td>-13.415398</td>\n",
       "      <td>-1.26081</td>\n",
       "      <td>-0.376870</td>\n",
       "    </tr>\n",
       "  </tbody>\n",
       "</table>\n",
       "</div>"
      ],
      "text/plain": [
       "     loglike    beta1     simul\n",
       "0 -16.983328 -1.26081 -0.282652\n",
       "1 -16.983328 -1.26081 -0.282652\n",
       "2  -9.615808 -1.26081 -0.565305\n",
       "3  -5.608581 -1.26081 -1.130610\n",
       "4 -13.415398 -1.26081 -0.376870"
      ]
     },
     "execution_count": 30,
     "metadata": {},
     "output_type": "execute_result"
    }
   ],
   "source": [
    "right"
   ]
  },
  {
   "cell_type": "markdown",
   "metadata": {},
   "source": [
    "## validate"
   ]
  },
  {
   "cell_type": "markdown",
   "metadata": {},
   "source": [
    "The validation consists in organizing the data into several slices of about the same size, randomly defined. \n",
    "Each slide is considered as a validation dataset. The model is then re-estimated using all the data except the slice, and the estimated model is applied on the validation set (i.e. the slice). The value of the log likelihood for each observation in the validation set is reported in a dataframe. As this is done for each slice, the output is a list of dataframes, each corresponding to one of these exercises.   "
   ]
  },
  {
   "cell_type": "code",
   "execution_count": 31,
   "metadata": {
    "execution": {
     "iopub.execute_input": "2023-08-04T16:41:51.823992Z",
     "iopub.status.busy": "2023-08-04T16:41:51.823924Z",
     "iopub.status.idle": "2023-08-04T16:41:51.938079Z",
     "shell.execute_reply": "2023-08-04T16:41:51.937852Z"
    }
   },
   "outputs": [
    {
     "name": "stderr",
     "output_type": "stream",
     "text": [
      "File biogeme.toml has been parsed. \n"
     ]
    },
    {
     "name": "stderr",
     "output_type": "stream",
     "text": [
      "*** Initial values of the parameters are obtained from the file __simple_example_val_est_1.iter \n"
     ]
    },
    {
     "name": "stderr",
     "output_type": "stream",
     "text": [
      "Cannot read file __simple_example_val_est_1.iter. Statement is ignored. \n"
     ]
    },
    {
     "name": "stderr",
     "output_type": "stream",
     "text": [
      "Optimization algorithm: hybrid Newton/BFGS with simple bounds [simple_bounds] \n"
     ]
    },
    {
     "name": "stderr",
     "output_type": "stream",
     "text": [
      "** Optimization: Newton with trust region for simple bounds \n"
     ]
    },
    {
     "name": "stderr",
     "output_type": "stream",
     "text": [
      "Iter.           beta1           beta2     Function    Relgrad   Radius      Rho      \n"
     ]
    },
    {
     "name": "stderr",
     "output_type": "stream",
     "text": [
      "    0            -1.3             1.2           46     0.0022    1e+02        1   ++ \n"
     ]
    },
    {
     "name": "stderr",
     "output_type": "stream",
     "text": [
      "    1            -1.3             1.2           46      6e-07    1e+02        1   ++ \n"
     ]
    },
    {
     "name": "stderr",
     "output_type": "stream",
     "text": [
      "Results saved in file simple_example_val_est_1.html \n"
     ]
    },
    {
     "name": "stderr",
     "output_type": "stream",
     "text": [
      "Results saved in file simple_example_val_est_1.pickle \n"
     ]
    },
    {
     "name": "stderr",
     "output_type": "stream",
     "text": [
      "File biogeme.toml has been parsed. \n"
     ]
    },
    {
     "name": "stderr",
     "output_type": "stream",
     "text": [
      "File biogeme.toml has been parsed. \n"
     ]
    },
    {
     "name": "stderr",
     "output_type": "stream",
     "text": [
      "*** Initial values of the parameters are obtained from the file __simple_example_val_est_2.iter \n"
     ]
    },
    {
     "name": "stderr",
     "output_type": "stream",
     "text": [
      "Cannot read file __simple_example_val_est_2.iter. Statement is ignored. \n"
     ]
    },
    {
     "name": "stderr",
     "output_type": "stream",
     "text": [
      "Optimization algorithm: hybrid Newton/BFGS with simple bounds [simple_bounds] \n"
     ]
    },
    {
     "name": "stderr",
     "output_type": "stream",
     "text": [
      "** Optimization: Newton with trust region for simple bounds \n"
     ]
    },
    {
     "name": "stderr",
     "output_type": "stream",
     "text": [
      "Iter.           beta1           beta2     Function    Relgrad   Radius      Rho      \n"
     ]
    },
    {
     "name": "stderr",
     "output_type": "stream",
     "text": [
      "    0            -1.3             1.3           61     0.0012    1e+02     0.99   ++ \n"
     ]
    },
    {
     "name": "stderr",
     "output_type": "stream",
     "text": [
      "    1            -1.3             1.3           61    1.5e-07    1e+02        1   ++ \n"
     ]
    },
    {
     "name": "stderr",
     "output_type": "stream",
     "text": [
      "Results saved in file simple_example_val_est_2.html \n"
     ]
    },
    {
     "name": "stderr",
     "output_type": "stream",
     "text": [
      "Results saved in file simple_example_val_est_2.pickle \n"
     ]
    },
    {
     "name": "stdout",
     "output_type": "stream",
     "text": [
      "<class 'pandas.core.frame.DataFrame'>\n",
      "<class 'pandas.core.frame.DataFrame'>\n",
      "<class 'pandas.core.frame.DataFrame'>\n",
      "<class 'pandas.core.frame.DataFrame'>\n",
      "<class 'pandas.core.frame.DataFrame'>\n",
      "<class 'pandas.core.frame.DataFrame'>\n",
      "<class 'pandas.core.frame.DataFrame'>\n",
      "<class 'pandas.core.frame.DataFrame'>\n",
      "<class 'pandas.core.frame.DataFrame'>\n",
      "<class 'pandas.core.frame.DataFrame'>\n"
     ]
    },
    {
     "name": "stderr",
     "output_type": "stream",
     "text": [
      "File biogeme.toml has been parsed. \n"
     ]
    },
    {
     "name": "stderr",
     "output_type": "stream",
     "text": [
      "File biogeme.toml has been parsed. \n"
     ]
    },
    {
     "name": "stderr",
     "output_type": "stream",
     "text": [
      "*** Initial values of the parameters are obtained from the file __simple_example_val_est_3.iter \n"
     ]
    },
    {
     "name": "stderr",
     "output_type": "stream",
     "text": [
      "Cannot read file __simple_example_val_est_3.iter. Statement is ignored. \n"
     ]
    },
    {
     "name": "stderr",
     "output_type": "stream",
     "text": [
      "Optimization algorithm: hybrid Newton/BFGS with simple bounds [simple_bounds] \n"
     ]
    },
    {
     "name": "stderr",
     "output_type": "stream",
     "text": [
      "** Optimization: Newton with trust region for simple bounds \n"
     ]
    },
    {
     "name": "stderr",
     "output_type": "stream",
     "text": [
      "Iter.           beta1           beta2     Function    Relgrad   Radius      Rho      \n"
     ]
    },
    {
     "name": "stderr",
     "output_type": "stream",
     "text": [
      "    0            -1.3             1.3           57    0.00035    1e+02        1   ++ \n"
     ]
    },
    {
     "name": "stderr",
     "output_type": "stream",
     "text": [
      "    1            -1.3             1.3           57    1.3e-08    1e+02        1   ++ \n"
     ]
    },
    {
     "name": "stderr",
     "output_type": "stream",
     "text": [
      "Results saved in file simple_example_val_est_3.html \n"
     ]
    },
    {
     "name": "stderr",
     "output_type": "stream",
     "text": [
      "Results saved in file simple_example_val_est_3.pickle \n"
     ]
    },
    {
     "name": "stderr",
     "output_type": "stream",
     "text": [
      "File biogeme.toml has been parsed. \n"
     ]
    },
    {
     "name": "stderr",
     "output_type": "stream",
     "text": [
      "File biogeme.toml has been parsed. \n"
     ]
    },
    {
     "name": "stderr",
     "output_type": "stream",
     "text": [
      "*** Initial values of the parameters are obtained from the file __simple_example_val_est_4.iter \n"
     ]
    },
    {
     "name": "stderr",
     "output_type": "stream",
     "text": [
      "Cannot read file __simple_example_val_est_4.iter. Statement is ignored. \n"
     ]
    },
    {
     "name": "stderr",
     "output_type": "stream",
     "text": [
      "Optimization algorithm: hybrid Newton/BFGS with simple bounds [simple_bounds] \n"
     ]
    },
    {
     "name": "stderr",
     "output_type": "stream",
     "text": [
      "** Optimization: Newton with trust region for simple bounds \n"
     ]
    },
    {
     "name": "stderr",
     "output_type": "stream",
     "text": [
      "Iter.           beta1           beta2     Function    Relgrad   Radius      Rho      \n"
     ]
    },
    {
     "name": "stderr",
     "output_type": "stream",
     "text": [
      "    0            -1.3             1.2           50    0.00048    1e+02        1   ++ \n"
     ]
    },
    {
     "name": "stderr",
     "output_type": "stream",
     "text": [
      "    1            -1.3             1.2           50    2.6e-08    1e+02        1   ++ \n"
     ]
    },
    {
     "name": "stderr",
     "output_type": "stream",
     "text": [
      "Results saved in file simple_example_val_est_4.html \n"
     ]
    },
    {
     "name": "stderr",
     "output_type": "stream",
     "text": [
      "Results saved in file simple_example_val_est_4.pickle \n"
     ]
    },
    {
     "name": "stderr",
     "output_type": "stream",
     "text": [
      "File biogeme.toml has been parsed. \n"
     ]
    },
    {
     "name": "stderr",
     "output_type": "stream",
     "text": [
      "File biogeme.toml has been parsed. \n"
     ]
    },
    {
     "name": "stderr",
     "output_type": "stream",
     "text": [
      "*** Initial values of the parameters are obtained from the file __simple_example_val_est_5.iter \n"
     ]
    },
    {
     "name": "stderr",
     "output_type": "stream",
     "text": [
      "Cannot read file __simple_example_val_est_5.iter. Statement is ignored. \n"
     ]
    },
    {
     "name": "stderr",
     "output_type": "stream",
     "text": [
      "Optimization algorithm: hybrid Newton/BFGS with simple bounds [simple_bounds] \n"
     ]
    },
    {
     "name": "stderr",
     "output_type": "stream",
     "text": [
      "** Optimization: Newton with trust region for simple bounds \n"
     ]
    },
    {
     "name": "stderr",
     "output_type": "stream",
     "text": [
      "Results saved in file simple_example_val_est_5.html \n"
     ]
    },
    {
     "name": "stderr",
     "output_type": "stream",
     "text": [
      "Results saved in file simple_example_val_est_5.pickle \n"
     ]
    },
    {
     "name": "stderr",
     "output_type": "stream",
     "text": [
      "File biogeme.toml has been parsed. \n"
     ]
    },
    {
     "name": "stderr",
     "output_type": "stream",
     "text": [
      "Simulation results saved in file simple_example_validation.pickle \n"
     ]
    }
   ],
   "source": [
    "validationData = myData.split(slices=5)\n",
    "validation_results = myBiogeme.validate(results, validationData)"
   ]
  },
  {
   "cell_type": "code",
   "execution_count": 32,
   "metadata": {
    "execution": {
     "iopub.execute_input": "2023-08-04T16:41:51.939197Z",
     "iopub.status.busy": "2023-08-04T16:41:51.939110Z",
     "iopub.status.idle": "2023-08-04T16:41:51.942329Z",
     "shell.execute_reply": "2023-08-04T16:41:51.942062Z"
    }
   },
   "outputs": [
    {
     "data": {
      "text/plain": [
       "[   Loglikelihood\n",
       " 4     -21.037421,\n",
       "    Loglikelihood\n",
       " 0      -6.341109,\n",
       "    Loglikelihood\n",
       " 1       -9.81772,\n",
       "    Loglikelihood\n",
       " 3     -17.145326,\n",
       "    Loglikelihood\n",
       " 2     -13.413098]"
      ]
     },
     "execution_count": 32,
     "metadata": {},
     "output_type": "execute_result"
    }
   ],
   "source": [
    "validation_results"
   ]
  },
  {
   "cell_type": "code",
   "execution_count": 33,
   "metadata": {
    "execution": {
     "iopub.execute_input": "2023-08-04T16:41:51.943364Z",
     "iopub.status.busy": "2023-08-04T16:41:51.943298Z",
     "iopub.status.idle": "2023-08-04T16:41:51.945317Z",
     "shell.execute_reply": "2023-08-04T16:41:51.945049Z"
    }
   },
   "outputs": [
    {
     "name": "stdout",
     "output_type": "stream",
     "text": [
      "Log likelihood for 1 validation data: -21.03742136293277\n",
      "Log likelihood for 1 validation data: -6.341108765392212\n",
      "Log likelihood for 1 validation data: -9.81771976465043\n",
      "Log likelihood for 1 validation data: -17.145326446024075\n",
      "Log likelihood for 1 validation data: -13.413098095892746\n"
     ]
    }
   ],
   "source": [
    "for slide in validation_results:\n",
    "    print(f'Log likelihood for {slide.shape[0]} '\n",
    "          f'validation data: {slide[\"Loglikelihood\"].sum()}')\n"
   ]
  },
  {
   "cell_type": "markdown",
   "metadata": {},
   "source": [
    "## files_of_type"
   ]
  },
  {
   "cell_type": "code",
   "execution_count": 34,
   "metadata": {
    "execution": {
     "iopub.execute_input": "2023-08-04T16:41:51.946229Z",
     "iopub.status.busy": "2023-08-04T16:41:51.946147Z",
     "iopub.status.idle": "2023-08-04T16:41:51.948129Z",
     "shell.execute_reply": "2023-08-04T16:41:51.947927Z"
    }
   },
   "outputs": [
    {
     "data": {
      "text/plain": [
       "['simple_example.pickle']"
      ]
     },
     "execution_count": 34,
     "metadata": {},
     "output_type": "execute_result"
    }
   ],
   "source": [
    "myBiogeme.files_of_type('pickle')"
   ]
  },
  {
   "cell_type": "code",
   "execution_count": null,
   "metadata": {},
   "outputs": [],
   "source": []
  }
 ],
 "metadata": {
  "kernelspec": {
   "display_name": "Python 3 (ipykernel)",
   "language": "python",
   "name": "python3"
  },
  "language_info": {
   "codemirror_mode": {
    "name": "ipython",
    "version": 3
   },
   "file_extension": ".py",
   "mimetype": "text/x-python",
   "name": "python",
   "nbconvert_exporter": "python",
   "pygments_lexer": "ipython3",
   "version": "3.11.3"
  }
 },
 "nbformat": 4,
 "nbformat_minor": 4
}
