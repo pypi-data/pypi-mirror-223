{
 "cells": [
  {
   "cell_type": "markdown",
   "id": "103d0ff2",
   "metadata": {},
   "source": [
    "# Module biogeme.cnl"
   ]
  },
  {
   "cell_type": "markdown",
   "id": "70f2838b",
   "metadata": {},
   "source": [
    "## Examples of use of each function"
   ]
  },
  {
   "cell_type": "markdown",
   "id": "b629d510",
   "metadata": {},
   "source": [
    "This webpage is for programmers who need examples of use of the functions of the class. The examples are designed to illustrate the syntax. "
   ]
  },
  {
   "cell_type": "code",
   "execution_count": 1,
   "id": "69ad741c",
   "metadata": {
    "execution": {
     "iopub.execute_input": "2023-08-04T16:40:45.352752Z",
     "iopub.status.busy": "2023-08-04T16:40:45.352437Z",
     "iopub.status.idle": "2023-08-04T16:40:45.796845Z",
     "shell.execute_reply": "2023-08-04T16:40:45.795758Z"
    }
   },
   "outputs": [],
   "source": [
    "import numpy as np\n",
    "import biogeme.cnl as cnl\n",
    "import biogeme.tools as tools\n",
    "import biogeme.logging as blog"
   ]
  },
  {
   "cell_type": "code",
   "execution_count": 2,
   "id": "f4baa009",
   "metadata": {
    "execution": {
     "iopub.execute_input": "2023-08-04T16:40:45.800922Z",
     "iopub.status.busy": "2023-08-04T16:40:45.800631Z",
     "iopub.status.idle": "2023-08-04T16:40:45.806377Z",
     "shell.execute_reply": "2023-08-04T16:40:45.805889Z"
    }
   },
   "outputs": [
    {
     "name": "stderr",
     "output_type": "stream",
     "text": [
      "Logging on \n"
     ]
    }
   ],
   "source": [
    "logger = blog.get_screen_logger(level=blog.INFO)\n",
    "logger.info('Logging on')"
   ]
  },
  {
   "cell_type": "code",
   "execution_count": 3,
   "id": "6b45f852",
   "metadata": {
    "execution": {
     "iopub.execute_input": "2023-08-04T16:40:45.809231Z",
     "iopub.status.busy": "2023-08-04T16:40:45.809035Z",
     "iopub.status.idle": "2023-08-04T16:40:45.815815Z",
     "shell.execute_reply": "2023-08-04T16:40:45.815136Z"
    }
   },
   "outputs": [],
   "source": [
    "mu_nest_1 = 1.4\n",
    "alphas_1 =  {'i': 1, 'j': 0.5, 'k':0.2}\n",
    "nest_1 = mu_nest_1, alphas_1\n",
    "mu_nest_2 = 1.2\n",
    "alphas_2 = {'j': 0.5, 'k': 0.8, 'ell': 1}\n",
    "nest_2 = mu_nest_2, alphas_2\n",
    "nests = nest_1, nest_2"
   ]
  },
  {
   "cell_type": "markdown",
   "id": "fe75ffd3",
   "metadata": {},
   "source": [
    "We retrieve the G function of the cross-nested logit, and verify numerically the implementation of the derivatives."
   ]
  },
  {
   "cell_type": "code",
   "execution_count": 4,
   "id": "1bd540f8",
   "metadata": {
    "execution": {
     "iopub.execute_input": "2023-08-04T16:40:45.819348Z",
     "iopub.status.busy": "2023-08-04T16:40:45.819145Z",
     "iopub.status.idle": "2023-08-04T16:40:45.824165Z",
     "shell.execute_reply": "2023-08-04T16:40:45.823462Z"
    }
   },
   "outputs": [],
   "source": [
    "G = cnl.cnl_G(['i', 'j', 'k', 'ell'], nests)"
   ]
  },
  {
   "cell_type": "code",
   "execution_count": 5,
   "id": "b4e0147f",
   "metadata": {
    "execution": {
     "iopub.execute_input": "2023-08-04T16:40:45.829352Z",
     "iopub.status.busy": "2023-08-04T16:40:45.829118Z",
     "iopub.status.idle": "2023-08-04T16:40:45.837377Z",
     "shell.execute_reply": "2023-08-04T16:40:45.836862Z"
    }
   },
   "outputs": [
    {
     "data": {
      "text/plain": [
       "array([0.63982113, 0.04719415, 0.50247138, 1.87986759])"
      ]
     },
     "execution_count": 5,
     "metadata": {},
     "output_type": "execute_result"
    }
   ],
   "source": [
    "y = np.random.uniform(low=0.01, high=2, size=4)\n",
    "y"
   ]
  },
  {
   "cell_type": "code",
   "execution_count": 6,
   "id": "2284341f",
   "metadata": {
    "execution": {
     "iopub.execute_input": "2023-08-04T16:40:45.839856Z",
     "iopub.status.busy": "2023-08-04T16:40:45.839667Z",
     "iopub.status.idle": "2023-08-04T16:40:45.845862Z",
     "shell.execute_reply": "2023-08-04T16:40:45.845662Z"
    }
   },
   "outputs": [
    {
     "name": "stderr",
     "output_type": "stream",
     "text": [
      "x\t\tGradient\tFinDiff\t\tDifference \n"
     ]
    },
    {
     "name": "stderr",
     "output_type": "stream",
     "text": [
      "x[0]           \t+9.770233E-01\t+9.770233E-01\t-2.866691E-09 \n"
     ]
    },
    {
     "name": "stderr",
     "output_type": "stream",
     "text": [
      "x[1]           \t+3.336514E-01\t+3.336515E-01\t-9.966132E-08 \n"
     ]
    },
    {
     "name": "stderr",
     "output_type": "stream",
     "text": [
      "x[2]           \t+6.662741E-01\t+6.662741E-01\t-1.605578E-08 \n"
     ]
    },
    {
     "name": "stderr",
     "output_type": "stream",
     "text": [
      "x[3]           \t+9.752450E-01\t+9.752450E-01\t-2.498023E-09 \n"
     ]
    },
    {
     "name": "stderr",
     "output_type": "stream",
     "text": [
      "Row\t\tCol\t\tHessian\tFinDiff\t\tDifference \n"
     ]
    },
    {
     "name": "stderr",
     "output_type": "stream",
     "text": [
      "x[0]           \tx[0]           \t+4.772578E-02\t+4.772577E-02\t+1.020922E-08 \n"
     ]
    },
    {
     "name": "stderr",
     "output_type": "stream",
     "text": [
      "x[0]           \tx[1]           \t-7.520789E-02\t-7.520792E-02\t+3.135129E-08 \n"
     ]
    },
    {
     "name": "stderr",
     "output_type": "stream",
     "text": [
      "x[0]           \tx[2]           \t-5.370771E-02\t-5.370772E-02\t+1.524479E-09 \n"
     ]
    },
    {
     "name": "stderr",
     "output_type": "stream",
     "text": [
      "x[0]           \tx[3]           \t+0.000000E+00\t+0.000000E+00\t+0.000000E+00 \n"
     ]
    },
    {
     "name": "stderr",
     "output_type": "stream",
     "text": [
      "x[1]           \tx[0]           \t-7.520789E-02\t-7.520788E-02\t-6.951404E-09 \n"
     ]
    },
    {
     "name": "stderr",
     "output_type": "stream",
     "text": [
      "x[1]           \tx[1]           \t+1.953048E+00\t+1.953047E+00\t+1.448738E-06 \n"
     ]
    },
    {
     "name": "stderr",
     "output_type": "stream",
     "text": [
      "x[1]           \tx[2]           \t-1.810090E-02\t-1.810090E-02\t+3.047514E-10 \n"
     ]
    },
    {
     "name": "stderr",
     "output_type": "stream",
     "text": [
      "x[1]           \tx[3]           \t-1.859581E-02\t-1.859581E-02\t-7.064126E-10 \n"
     ]
    },
    {
     "name": "stderr",
     "output_type": "stream",
     "text": [
      "x[2]           \tx[0]           \t-5.370771E-02\t-5.370771E-02\t-5.136859E-09 \n"
     ]
    },
    {
     "name": "stderr",
     "output_type": "stream",
     "text": [
      "x[2]           \tx[1]           \t-1.810090E-02\t-1.810091E-02\t+4.745644E-09 \n"
     ]
    },
    {
     "name": "stderr",
     "output_type": "stream",
     "text": [
      "x[2]           \tx[2]           \t+2.663433E-01\t+2.663432E-01\t+2.425739E-08 \n"
     ]
    },
    {
     "name": "stderr",
     "output_type": "stream",
     "text": [
      "x[2]           \tx[3]           \t-5.245704E-02\t-5.245703E-02\t-2.326590E-09 \n"
     ]
    },
    {
     "name": "stderr",
     "output_type": "stream",
     "text": [
      "x[3]           \tx[0]           \t+0.000000E+00\t+0.000000E+00\t+0.000000E+00 \n"
     ]
    },
    {
     "name": "stderr",
     "output_type": "stream",
     "text": [
      "x[3]           \tx[1]           \t-1.859581E-02\t-1.859581E-02\t+3.867518E-09 \n"
     ]
    },
    {
     "name": "stderr",
     "output_type": "stream",
     "text": [
      "x[3]           \tx[2]           \t-5.245704E-02\t-5.245704E-02\t+2.356819E-10 \n"
     ]
    },
    {
     "name": "stderr",
     "output_type": "stream",
     "text": [
      "x[3]           \tx[3]           \t+1.448813E-02\t+1.448813E-02\t+1.653309E-09 \n"
     ]
    }
   ],
   "source": [
    "f, g, h, gdiff, hdiff = tools.checkDerivatives(G, y, names=None, logg=True)"
   ]
  },
  {
   "cell_type": "markdown",
   "id": "d85f3c22",
   "metadata": {},
   "source": [
    "We do the same for the CDF. "
   ]
  },
  {
   "cell_type": "code",
   "execution_count": 7,
   "id": "8d8bd34a",
   "metadata": {
    "execution": {
     "iopub.execute_input": "2023-08-04T16:40:45.847220Z",
     "iopub.status.busy": "2023-08-04T16:40:45.847114Z",
     "iopub.status.idle": "2023-08-04T16:40:45.849200Z",
     "shell.execute_reply": "2023-08-04T16:40:45.849010Z"
    }
   },
   "outputs": [
    {
     "data": {
      "text/plain": [
       "array([-3.04962001, -0.8971089 ,  0.42346216, -5.74296069])"
      ]
     },
     "execution_count": 7,
     "metadata": {},
     "output_type": "execute_result"
    }
   ],
   "source": [
    "xi = np.random.uniform(low=-10, high=10, size=4)\n",
    "xi"
   ]
  },
  {
   "cell_type": "code",
   "execution_count": 8,
   "id": "4a75e1b4",
   "metadata": {
    "execution": {
     "iopub.execute_input": "2023-08-04T16:40:45.850346Z",
     "iopub.status.busy": "2023-08-04T16:40:45.850249Z",
     "iopub.status.idle": "2023-08-04T16:40:45.851790Z",
     "shell.execute_reply": "2023-08-04T16:40:45.851545Z"
    }
   },
   "outputs": [],
   "source": [
    "F = cnl.cnl_CDF(['i', 'j', 'k', 'ell'], nests)"
   ]
  },
  {
   "cell_type": "code",
   "execution_count": 9,
   "id": "96b665c2",
   "metadata": {
    "execution": {
     "iopub.execute_input": "2023-08-04T16:40:45.852840Z",
     "iopub.status.busy": "2023-08-04T16:40:45.852777Z",
     "iopub.status.idle": "2023-08-04T16:40:45.857986Z",
     "shell.execute_reply": "2023-08-04T16:40:45.857768Z"
    }
   },
   "outputs": [
    {
     "name": "stderr",
     "output_type": "stream",
     "text": [
      "x\t\tGradient\tFinDiff\t\tDifference \n"
     ]
    },
    {
     "name": "stderr",
     "output_type": "stream",
     "text": [
      "x[0]           \t+7.088748E-02\t+7.088748E-02\t+2.725702E-09 \n"
     ]
    },
    {
     "name": "stderr",
     "output_type": "stream",
     "text": [
      "x[1]           \t+1.296991E-01\t+1.296991E-01\t+2.047298E-09 \n"
     ]
    },
    {
     "name": "stderr",
     "output_type": "stream",
     "text": [
      "x[2]           \t+7.835839E-02\t+7.835839E-02\t+2.454298E-09 \n"
     ]
    },
    {
     "name": "stderr",
     "output_type": "stream",
     "text": [
      "x[3]           \t+1.735362E-02\t+1.735362E-02\t+1.436048E-09 \n"
     ]
    },
    {
     "name": "stderr",
     "output_type": "stream",
     "text": [
      "Row\t\tCol\t\tHessian\tFinDiff\t\tDifference \n"
     ]
    },
    {
     "name": "stderr",
     "output_type": "stream",
     "text": [
      "x[0]           \tx[0]           \t-5.435139E-02\t-5.435139E-02\t+4.543810E-10 \n"
     ]
    },
    {
     "name": "stderr",
     "output_type": "stream",
     "text": [
      "x[0]           \tx[1]           \t+6.848452E-02\t+6.848452E-02\t+2.979748E-10 \n"
     ]
    },
    {
     "name": "stderr",
     "output_type": "stream",
     "text": [
      "x[0]           \tx[2]           \t+3.572847E-02\t+3.572847E-02\t+1.072360E-09 \n"
     ]
    },
    {
     "name": "stderr",
     "output_type": "stream",
     "text": [
      "x[0]           \tx[3]           \t+7.511995E-03\t+7.511994E-03\t+6.489852E-10 \n"
     ]
    },
    {
     "name": "stderr",
     "output_type": "stream",
     "text": [
      "x[1]           \tx[0]           \t+6.848452E-02\t+6.848452E-02\t+1.963309E-09 \n"
     ]
    },
    {
     "name": "stderr",
     "output_type": "stream",
     "text": [
      "x[1]           \tx[1]           \t-4.851647E-02\t-4.851648E-02\t+5.108389E-09 \n"
     ]
    },
    {
     "name": "stderr",
     "output_type": "stream",
     "text": [
      "x[1]           \tx[2]           \t+6.973392E-02\t+6.973392E-02\t+1.770179E-09 \n"
     ]
    },
    {
     "name": "stderr",
     "output_type": "stream",
     "text": [
      "x[1]           \tx[3]           \t+1.527152E-02\t+1.527152E-02\t+1.135481E-09 \n"
     ]
    },
    {
     "name": "stderr",
     "output_type": "stream",
     "text": [
      "x[2]           \tx[0]           \t+3.572847E-02\t+3.572847E-02\t+1.349916E-09 \n"
     ]
    },
    {
     "name": "stderr",
     "output_type": "stream",
     "text": [
      "x[2]           \tx[1]           \t+6.973392E-02\t+6.973392E-02\t+6.599560E-10 \n"
     ]
    },
    {
     "name": "stderr",
     "output_type": "stream",
     "text": [
      "x[2]           \tx[2]           \t-5.190026E-02\t-5.190026E-02\t+5.300886E-10 \n"
     ]
    },
    {
     "name": "stderr",
     "output_type": "stream",
     "text": [
      "x[2]           \tx[3]           \t+9.858131E-03\t+9.858131E-03\t+7.788587E-10 \n"
     ]
    },
    {
     "name": "stderr",
     "output_type": "stream",
     "text": [
      "x[3]           \tx[0]           \t+7.511995E-03\t+7.511994E-03\t+3.085358E-10 \n"
     ]
    },
    {
     "name": "stderr",
     "output_type": "stream",
     "text": [
      "x[3]           \tx[1]           \t+1.527152E-02\t+1.527152E-02\t+1.247411E-10 \n"
     ]
    },
    {
     "name": "stderr",
     "output_type": "stream",
     "text": [
      "x[3]           \tx[2]           \t+9.858131E-03\t+9.858131E-03\t+2.590599E-10 \n"
     ]
    },
    {
     "name": "stderr",
     "output_type": "stream",
     "text": [
      "x[3]           \tx[3]           \t-1.859629E-02\t-1.859629E-02\t-1.658103E-09 \n"
     ]
    }
   ],
   "source": [
    "f, g, h, gdiff, hdiff = tools.checkDerivatives(F, y, names=None, logg=True)"
   ]
  },
  {
   "cell_type": "code",
   "execution_count": null,
   "id": "61fdf627",
   "metadata": {},
   "outputs": [],
   "source": []
  }
 ],
 "metadata": {
  "kernelspec": {
   "display_name": "Python 3 (ipykernel)",
   "language": "python",
   "name": "python3"
  },
  "language_info": {
   "codemirror_mode": {
    "name": "ipython",
    "version": 3
   },
   "file_extension": ".py",
   "mimetype": "text/x-python",
   "name": "python",
   "nbconvert_exporter": "python",
   "pygments_lexer": "ipython3",
   "version": "3.11.3"
  }
 },
 "nbformat": 4,
 "nbformat_minor": 5
}
