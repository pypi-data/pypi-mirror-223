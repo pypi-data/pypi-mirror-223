{
 "cells": [
  {
   "cell_type": "markdown",
   "metadata": {},
   "source": [
    "#  biogeme.models "
   ]
  },
  {
   "cell_type": "markdown",
   "metadata": {},
   "source": [
    "## Examples of use"
   ]
  },
  {
   "cell_type": "markdown",
   "metadata": {},
   "source": [
    "This webpage is for programmers who need examples of use of the functions of the module. The examples are designed to illustrate the syntax. They do not correspond to any meaningful model. For examples of models, visit  [biogeme.epfl.ch](http://biogeme.epfl.ch)."
   ]
  },
  {
   "cell_type": "code",
   "execution_count": 1,
   "metadata": {
    "execution": {
     "iopub.execute_input": "2023-08-04T16:40:46.998774Z",
     "iopub.status.busy": "2023-08-04T16:40:46.998529Z",
     "iopub.status.idle": "2023-08-04T16:40:47.006583Z",
     "shell.execute_reply": "2023-08-04T16:40:47.006125Z"
    }
   },
   "outputs": [
    {
     "name": "stdout",
     "output_type": "stream",
     "text": [
      "2023-08-04 18:40:47.004554\n"
     ]
    }
   ],
   "source": [
    "import datetime\n",
    "print(datetime.datetime.now())"
   ]
  },
  {
   "cell_type": "code",
   "execution_count": 2,
   "metadata": {
    "execution": {
     "iopub.execute_input": "2023-08-04T16:40:47.008622Z",
     "iopub.status.busy": "2023-08-04T16:40:47.008436Z",
     "iopub.status.idle": "2023-08-04T16:40:47.012021Z",
     "shell.execute_reply": "2023-08-04T16:40:47.011655Z"
    }
   },
   "outputs": [
    {
     "name": "stdout",
     "output_type": "stream",
     "text": [
      "biogeme 3.2.12 [2023-08-04]\n",
      "Home page: http://biogeme.epfl.ch\n",
      "Submit questions to https://groups.google.com/d/forum/biogeme\n",
      "Michel Bierlaire, Transport and Mobility Laboratory, Ecole Polytechnique Fédérale de Lausanne (EPFL)\n",
      "\n"
     ]
    }
   ],
   "source": [
    "import biogeme.version as ver\n",
    "print(ver.getText())"
   ]
  },
  {
   "cell_type": "code",
   "execution_count": 3,
   "metadata": {
    "execution": {
     "iopub.execute_input": "2023-08-04T16:40:47.013618Z",
     "iopub.status.busy": "2023-08-04T16:40:47.013503Z",
     "iopub.status.idle": "2023-08-04T16:40:47.380077Z",
     "shell.execute_reply": "2023-08-04T16:40:47.379783Z"
    }
   },
   "outputs": [],
   "source": [
    "import numpy as np\n",
    "import pandas as pd\n",
    "import matplotlib.pyplot as plt"
   ]
  },
  {
   "cell_type": "code",
   "execution_count": 4,
   "metadata": {
    "execution": {
     "iopub.execute_input": "2023-08-04T16:40:47.381427Z",
     "iopub.status.busy": "2023-08-04T16:40:47.381289Z",
     "iopub.status.idle": "2023-08-04T16:40:47.573877Z",
     "shell.execute_reply": "2023-08-04T16:40:47.573569Z"
    }
   },
   "outputs": [],
   "source": [
    "import biogeme.database as db\n",
    "import biogeme.models as models\n",
    "from biogeme.expressions import Variable, Beta"
   ]
  },
  {
   "cell_type": "markdown",
   "metadata": {},
   "source": [
    "## Definition of a database"
   ]
  },
  {
   "cell_type": "code",
   "execution_count": 5,
   "metadata": {
    "execution": {
     "iopub.execute_input": "2023-08-04T16:40:47.575221Z",
     "iopub.status.busy": "2023-08-04T16:40:47.575148Z",
     "iopub.status.idle": "2023-08-04T16:40:47.578062Z",
     "shell.execute_reply": "2023-08-04T16:40:47.577813Z"
    }
   },
   "outputs": [],
   "source": [
    "df = pd.DataFrame({'Person': [1, 1, 1, 2, 2],\n",
    "                   'Exclude': [0, 0, 1, 0, 1],\n",
    "                   'Variable1': [1, 2, 3, 4, 5],\n",
    "                   'Variable2': [10, 20, 30, 40, 50],\n",
    "                   'Choice': [1, 2, 3, 1, 2],\n",
    "                   'Av1': [0, 1, 1, 1, 1],\n",
    "                   'Av2': [1, 1, 0, 1, 1],\n",
    "                   'Av3': [0, 1, 1, 1, 0]})\n",
    "myData = db.Database('test', df)"
   ]
  },
  {
   "cell_type": "markdown",
   "metadata": {},
   "source": [
    "## Piecewise linear specification"
   ]
  },
  {
   "cell_type": "markdown",
   "metadata": {},
   "source": [
    "A piecewise linear specification (sometimes called 'spline') is a continuous but not differentiable function of the variable. It is defined based on thresholds. Between two thresholds, the function is linear. And the slope is changing after each threshold.\n",
    "Consider a variable $t$ and an interval $[a,a+b]$. We define a new variable \n",
    "$$\n",
    "x_{[a,b]}(t) = \\max(0,\\min(t-a,b)) =\n",
    "\\left\\{\n",
    "  \\begin{array}{ll}\n",
    " 0 & \\text{if } t < a, \\\\\n",
    " t-a & \\text{if } a \\leq t < a+b, \\\\\n",
    " b  & \\text{otherwise}.\n",
    "  \\end{array}\n",
    "\\right.\n",
    "$$\n",
    "For each interval $]-\\infty,a]$, we have\n",
    "$$\n",
    "x_{]-\\infty,a]}(t) = \\min(t,a) = \\left\\{\n",
    "  \\begin{array}{ll}\n",
    " t & \\text{if } t < a, \\\\\n",
    " a  & \\text{otherwise}.\n",
    "  \\end{array}\n",
    "\\right..\n",
    "$$\n",
    "For each interval $[a,+\\infty[$, we have\n",
    "$$\n",
    "x_{]-\\infty,a]}(t) = \\max(0,t-a) = \\left\\{\n",
    "  \\begin{array}{ll}\n",
    " 0& \\text{if } t < a, \\\\\n",
    " t-a  & \\text{otherwise}.\n",
    "  \\end{array}\n",
    "\\right..\n",
    "$$\n",
    "If we consider a series of threshold $$\\alpha_1 < \\alpha_2 < \\ldots <\\alpha_K,$$ the piecewise linear transform of variable $t$ is \n",
    "$$ \\sum_{k=1}^{K-1} \\beta_k x_{[\\alpha_k,\\alpha_{k+1}]},$$\n",
    "where $\\beta_k$ is the slope of the linear function in interval $[\\alpha_k,\\alpha_{k+1}]$.\n",
    " "
   ]
  },
  {
   "cell_type": "markdown",
   "metadata": {},
   "source": [
    "The next statement generates the variables, given the thresholds. A 'None' is equivalent to $\\infty$, and can only appear first (and it means $-\\infty$) or last (and it means $+\\infty$)."
   ]
  },
  {
   "cell_type": "code",
   "execution_count": 6,
   "metadata": {
    "execution": {
     "iopub.execute_input": "2023-08-04T16:40:47.579197Z",
     "iopub.status.busy": "2023-08-04T16:40:47.579130Z",
     "iopub.status.idle": "2023-08-04T16:40:47.580852Z",
     "shell.execute_reply": "2023-08-04T16:40:47.580628Z"
    }
   },
   "outputs": [
    {
     "name": "stdout",
     "output_type": "stream",
     "text": [
      "[bioMin(x, `90.0`), bioMax(`0.0`, bioMin((x - `90.0`), `90.0`)), bioMax(`0.0`, bioMin((x - `180.0`), `90.0`)), bioMax(`0.0`, (x - `270.0`))]\n"
     ]
    }
   ],
   "source": [
    "x = Variable('x')\n",
    "thresholds = [None, 90, 180, 270, None]\n",
    "variables = models.piecewiseVariables(x, thresholds)\n",
    "print(variables)"
   ]
  },
  {
   "cell_type": "markdown",
   "metadata": {},
   "source": [
    "The next statement automatically generates the formula, including the Beta parameters, that are initialized to zero. "
   ]
  },
  {
   "cell_type": "code",
   "execution_count": 7,
   "metadata": {
    "execution": {
     "iopub.execute_input": "2023-08-04T16:40:47.581825Z",
     "iopub.status.busy": "2023-08-04T16:40:47.581758Z",
     "iopub.status.idle": "2023-08-04T16:40:47.583374Z",
     "shell.execute_reply": "2023-08-04T16:40:47.583151Z"
    }
   },
   "outputs": [
    {
     "name": "stdout",
     "output_type": "stream",
     "text": [
      "bioMultSum((beta_x_minus_inf_90(init=0) * bioMin(x, `90.0`)), (beta_x_90_180(init=0) * bioMax(`0.0`, bioMin((x - `90.0`), `90.0`))), (beta_x_180_270(init=0) * bioMax(`0.0`, bioMin((x - `180.0`), `90.0`))), (beta_x_270_inf(init=0) * bioMax(`0.0`, (x - `270.0`))))\n"
     ]
    }
   ],
   "source": [
    "formula = models.piecewiseFormula('x', thresholds)\n",
    "print(formula)"
   ]
  },
  {
   "cell_type": "markdown",
   "metadata": {},
   "source": [
    "It is also possible to initialize the Beta parameters with other values. Note also that the first argument can be either the name of the variable (as in the previous call) or the variable itself."
   ]
  },
  {
   "cell_type": "code",
   "execution_count": 8,
   "metadata": {
    "execution": {
     "iopub.execute_input": "2023-08-04T16:40:47.584301Z",
     "iopub.status.busy": "2023-08-04T16:40:47.584235Z",
     "iopub.status.idle": "2023-08-04T16:40:47.585950Z",
     "shell.execute_reply": "2023-08-04T16:40:47.585741Z"
    }
   },
   "outputs": [
    {
     "name": "stdout",
     "output_type": "stream",
     "text": [
      "bioMultSum((`-0.016806308` * bioMin(x, `90.0`)), (`-0.010491137` * bioMax(`0.0`, bioMin((x - `90.0`), `90.0`))), (`-0.002012234` * bioMax(`0.0`, bioMin((x - `180.0`), `90.0`))), (`-0.020051303` * bioMax(`0.0`, (x - `270.0`))))\n"
     ]
    }
   ],
   "source": [
    "betas = [-0.016806308, -0.010491137, -0.002012234, -0.020051303]\n",
    "formula = models.piecewiseFormula(x, thresholds, betas)\n",
    "print(formula)"
   ]
  },
  {
   "cell_type": "markdown",
   "metadata": {},
   "source": [
    "We provide a plot of a piecewise linear specification."
   ]
  },
  {
   "cell_type": "code",
   "execution_count": 9,
   "metadata": {
    "execution": {
     "iopub.execute_input": "2023-08-04T16:40:47.586842Z",
     "iopub.status.busy": "2023-08-04T16:40:47.586766Z",
     "iopub.status.idle": "2023-08-04T16:40:47.710345Z",
     "shell.execute_reply": "2023-08-04T16:40:47.709601Z"
    }
   },
   "outputs": [
    {
     "data": {
      "text/plain": [
       "[<matplotlib.lines.Line2D at 0x1761826d0>]"
      ]
     },
     "execution_count": 9,
     "metadata": {},
     "output_type": "execute_result"
    },
    {
     "data": {
      "image/png": "[encoded data removed]",
      "text/plain": [
       "<Figure size 640x480 with 1 Axes>"
      ]
     },
     "metadata": {},
     "output_type": "display_data"
    }
   ],
   "source": [
    "X = np.arange(0, 300, 0.1)\n",
    "Y = [models.piecewiseFunction(x,\n",
    "                              thresholds,[-0.016806308,\n",
    "                                          -0.010491137,\n",
    "                                          -0.002012234,\n",
    "                                          -0.020051303]) \n",
    "     for x in X]\n",
    "plt.plot(X,Y)"
   ]
  },
  {
   "cell_type": "markdown",
   "metadata": {},
   "source": [
    "## Logit"
   ]
  },
  {
   "cell_type": "code",
   "execution_count": 10,
   "metadata": {
    "execution": {
     "iopub.execute_input": "2023-08-04T16:40:47.716822Z",
     "iopub.status.busy": "2023-08-04T16:40:47.716592Z",
     "iopub.status.idle": "2023-08-04T16:40:47.720931Z",
     "shell.execute_reply": "2023-08-04T16:40:47.720355Z"
    }
   },
   "outputs": [],
   "source": [
    "V = {1: Variable('Variable1'), 2: 0.1, 3: -0.1} \n",
    "av = {1: Variable('Av1'), \n",
    "      2: Variable('Av2'), \n",
    "      3: Variable('Av3')}"
   ]
  },
  {
   "cell_type": "markdown",
   "metadata": {},
   "source": [
    "Calculation of the (log of the) logit for the three alternatives, based on their availability."
   ]
  },
  {
   "cell_type": "markdown",
   "metadata": {},
   "source": [
    "Alternative 1"
   ]
  },
  {
   "cell_type": "code",
   "execution_count": 11,
   "metadata": {
    "execution": {
     "iopub.execute_input": "2023-08-04T16:40:47.723555Z",
     "iopub.status.busy": "2023-08-04T16:40:47.723395Z",
     "iopub.status.idle": "2023-08-04T16:40:47.736095Z",
     "shell.execute_reply": "2023-08-04T16:40:47.735422Z"
    }
   },
   "outputs": [
    {
     "name": "stderr",
     "output_type": "stream",
     "text": [
      "The chosen alternative [`1.0`] is not available for the following observations (rownumber[choice]): 0[1.0]\n"
     ]
    },
    {
     "data": {
      "text/plain": [
       "array([0.        , 0.78614804, 0.95689275, 0.9644926 , 0.99260846])"
      ]
     },
     "execution_count": 11,
     "metadata": {},
     "output_type": "execute_result"
    }
   ],
   "source": [
    "p1 = models.logit(V, av, 1)\n",
    "p1.getValue_c(myData, prepareIds=True)"
   ]
  },
  {
   "cell_type": "code",
   "execution_count": 12,
   "metadata": {
    "execution": {
     "iopub.execute_input": "2023-08-04T16:40:47.738231Z",
     "iopub.status.busy": "2023-08-04T16:40:47.738053Z",
     "iopub.status.idle": "2023-08-04T16:40:47.743988Z",
     "shell.execute_reply": "2023-08-04T16:40:47.743436Z"
    }
   },
   "outputs": [
    {
     "name": "stderr",
     "output_type": "stream",
     "text": [
      "The chosen alternative [`1.0`] is not available for the following observations (rownumber[choice]): 0[1.0]\n"
     ]
    },
    {
     "data": {
      "text/plain": [
       "array([-1.79769313e+308, -2.40610156e-001, -4.40639679e-002,\n",
       "       -3.61531156e-002, -7.41899416e-003])"
      ]
     },
     "execution_count": 12,
     "metadata": {},
     "output_type": "execute_result"
    }
   ],
   "source": [
    "p1 = models.loglogit(V, av, 1)\n",
    "p1.getValue_c(myData, prepareIds=True)"
   ]
  },
  {
   "cell_type": "markdown",
   "metadata": {},
   "source": [
    "Alternative 2"
   ]
  },
  {
   "cell_type": "code",
   "execution_count": 13,
   "metadata": {
    "execution": {
     "iopub.execute_input": "2023-08-04T16:40:47.746271Z",
     "iopub.status.busy": "2023-08-04T16:40:47.746095Z",
     "iopub.status.idle": "2023-08-04T16:40:47.752444Z",
     "shell.execute_reply": "2023-08-04T16:40:47.751928Z"
    }
   },
   "outputs": [
    {
     "name": "stderr",
     "output_type": "stream",
     "text": [
      "The chosen alternative [`2.0`] is not available for the following observations (rownumber[choice]): 2[2.0]\n"
     ]
    },
    {
     "data": {
      "text/plain": [
       "array([1.        , 0.11758308, 0.        , 0.01952317, 0.00739154])"
      ]
     },
     "execution_count": 13,
     "metadata": {},
     "output_type": "execute_result"
    }
   ],
   "source": [
    "p2 = models.logit(V, av, 2)\n",
    "p2.getValue_c(myData, prepareIds=True)"
   ]
  },
  {
   "cell_type": "code",
   "execution_count": 14,
   "metadata": {
    "execution": {
     "iopub.execute_input": "2023-08-04T16:40:47.754393Z",
     "iopub.status.busy": "2023-08-04T16:40:47.754102Z",
     "iopub.status.idle": "2023-08-04T16:40:47.759820Z",
     "shell.execute_reply": "2023-08-04T16:40:47.759353Z"
    }
   },
   "outputs": [
    {
     "name": "stderr",
     "output_type": "stream",
     "text": [
      "The chosen alternative [`2.0`] is not available for the following observations (rownumber[choice]): 2[2.0]\n"
     ]
    },
    {
     "data": {
      "text/plain": [
       "array([ 0.00000000e+000, -2.14061015e+000, -1.79769313e+308,\n",
       "       -3.93615311e+000, -4.90741899e+000])"
      ]
     },
     "execution_count": 14,
     "metadata": {},
     "output_type": "execute_result"
    }
   ],
   "source": [
    "p2 = models.loglogit(V, av, 2)\n",
    "p2.getValue_c(myData, prepareIds=True)"
   ]
  },
  {
   "cell_type": "markdown",
   "metadata": {},
   "source": [
    "Alternative 3"
   ]
  },
  {
   "cell_type": "code",
   "execution_count": 15,
   "metadata": {
    "execution": {
     "iopub.execute_input": "2023-08-04T16:40:47.762501Z",
     "iopub.status.busy": "2023-08-04T16:40:47.762021Z",
     "iopub.status.idle": "2023-08-04T16:40:47.768506Z",
     "shell.execute_reply": "2023-08-04T16:40:47.768001Z"
    }
   },
   "outputs": [
    {
     "name": "stderr",
     "output_type": "stream",
     "text": [
      "The chosen alternative [`3.0`] is not available for the following observations (rownumber[choice]): 0[3.0]-4[3.0]\n"
     ]
    },
    {
     "data": {
      "text/plain": [
       "array([0.        , 0.09626888, 0.04310725, 0.01598422, 0.        ])"
      ]
     },
     "execution_count": 15,
     "metadata": {},
     "output_type": "execute_result"
    }
   ],
   "source": [
    "p3 = models.logit(V,av,3)\n",
    "p3.getValue_c(myData, prepareIds=True)"
   ]
  },
  {
   "cell_type": "code",
   "execution_count": 16,
   "metadata": {
    "execution": {
     "iopub.execute_input": "2023-08-04T16:40:47.770662Z",
     "iopub.status.busy": "2023-08-04T16:40:47.770351Z",
     "iopub.status.idle": "2023-08-04T16:40:47.776122Z",
     "shell.execute_reply": "2023-08-04T16:40:47.775647Z"
    }
   },
   "outputs": [
    {
     "name": "stderr",
     "output_type": "stream",
     "text": [
      "The chosen alternative [`3.0`] is not available for the following observations (rownumber[choice]): 0[3.0]-4[3.0]\n"
     ]
    },
    {
     "data": {
      "text/plain": [
       "array([-1.79769313e+308, -2.34061016e+000, -3.14406397e+000,\n",
       "       -4.13615312e+000, -1.79769313e+308])"
      ]
     },
     "execution_count": 16,
     "metadata": {},
     "output_type": "execute_result"
    }
   ],
   "source": [
    "p3 = models.loglogit(V,av,3)\n",
    "p3.getValue_c(myData, prepareIds=True)"
   ]
  },
  {
   "cell_type": "markdown",
   "metadata": {},
   "source": [
    "Calculation of the log of the logit for the three alternatives, **assuming that they are all available**."
   ]
  },
  {
   "cell_type": "markdown",
   "metadata": {},
   "source": [
    "Alternative 1"
   ]
  },
  {
   "cell_type": "code",
   "execution_count": 17,
   "metadata": {
    "execution": {
     "iopub.execute_input": "2023-08-04T16:40:47.778639Z",
     "iopub.status.busy": "2023-08-04T16:40:47.778371Z",
     "iopub.status.idle": "2023-08-04T16:40:47.785815Z",
     "shell.execute_reply": "2023-08-04T16:40:47.785364Z"
    }
   },
   "outputs": [
    {
     "data": {
      "text/plain": [
       "array([0.57489742, 0.78614804, 0.90903106, 0.9644926 , 0.98663764])"
      ]
     },
     "execution_count": 17,
     "metadata": {},
     "output_type": "execute_result"
    }
   ],
   "source": [
    "pa1 = models.logit(V, av=None, i=1)\n",
    "pa1.getValue_c(myData, prepareIds=True)"
   ]
  },
  {
   "cell_type": "code",
   "execution_count": 18,
   "metadata": {
    "execution": {
     "iopub.execute_input": "2023-08-04T16:40:47.787652Z",
     "iopub.status.busy": "2023-08-04T16:40:47.787481Z",
     "iopub.status.idle": "2023-08-04T16:40:47.792769Z",
     "shell.execute_reply": "2023-08-04T16:40:47.792291Z"
    }
   },
   "outputs": [
    {
     "data": {
      "text/plain": [
       "array([-0.55356365, -0.24061016, -0.09537602, -0.03615312, -0.01345244])"
      ]
     },
     "execution_count": 18,
     "metadata": {},
     "output_type": "execute_result"
    }
   ],
   "source": [
    "pa1 = models.loglogit(V, av=None, i=1)\n",
    "pa1.getValue_c(myData, prepareIds=True)"
   ]
  },
  {
   "cell_type": "markdown",
   "metadata": {},
   "source": [
    "Alternative 2"
   ]
  },
  {
   "cell_type": "code",
   "execution_count": 19,
   "metadata": {
    "execution": {
     "iopub.execute_input": "2023-08-04T16:40:47.795058Z",
     "iopub.status.busy": "2023-08-04T16:40:47.794605Z",
     "iopub.status.idle": "2023-08-04T16:40:47.800538Z",
     "shell.execute_reply": "2023-08-04T16:40:47.800092Z"
    }
   },
   "outputs": [
    {
     "data": {
      "text/plain": [
       "array([0.23373585, 0.11758308, 0.05001782, 0.01952317, 0.00734708])"
      ]
     },
     "execution_count": 19,
     "metadata": {},
     "output_type": "execute_result"
    }
   ],
   "source": [
    "pa2 = models.logit(V, av=None, i=2)\n",
    "pa2.getValue_c(myData, prepareIds=True)"
   ]
  },
  {
   "cell_type": "code",
   "execution_count": 20,
   "metadata": {
    "execution": {
     "iopub.execute_input": "2023-08-04T16:40:47.802494Z",
     "iopub.status.busy": "2023-08-04T16:40:47.802325Z",
     "iopub.status.idle": "2023-08-04T16:40:47.807384Z",
     "shell.execute_reply": "2023-08-04T16:40:47.806957Z"
    }
   },
   "outputs": [
    {
     "data": {
      "text/plain": [
       "array([-1.45356365, -2.14061015, -2.99537601, -3.93615311, -4.91345244])"
      ]
     },
     "execution_count": 20,
     "metadata": {},
     "output_type": "execute_result"
    }
   ],
   "source": [
    "pa2 = models.loglogit(V,av=None,i=2)\n",
    "pa2.getValue_c(myData, prepareIds=True)"
   ]
  },
  {
   "cell_type": "markdown",
   "metadata": {},
   "source": [
    "Alternative 3"
   ]
  },
  {
   "cell_type": "code",
   "execution_count": 21,
   "metadata": {
    "execution": {
     "iopub.execute_input": "2023-08-04T16:40:47.809496Z",
     "iopub.status.busy": "2023-08-04T16:40:47.809326Z",
     "iopub.status.idle": "2023-08-04T16:40:47.820022Z",
     "shell.execute_reply": "2023-08-04T16:40:47.815657Z"
    }
   },
   "outputs": [
    {
     "data": {
      "text/plain": [
       "array([0.19136673, 0.09626888, 0.04095112, 0.01598422, 0.00601528])"
      ]
     },
     "execution_count": 21,
     "metadata": {},
     "output_type": "execute_result"
    }
   ],
   "source": [
    "pa3 = models.logit(V, av=None, i=3)\n",
    "pa3.getValue_c(myData, prepareIds=True)"
   ]
  },
  {
   "cell_type": "code",
   "execution_count": 22,
   "metadata": {
    "execution": {
     "iopub.execute_input": "2023-08-04T16:40:47.822349Z",
     "iopub.status.busy": "2023-08-04T16:40:47.822147Z",
     "iopub.status.idle": "2023-08-04T16:40:47.828957Z",
     "shell.execute_reply": "2023-08-04T16:40:47.828297Z"
    }
   },
   "outputs": [
    {
     "data": {
      "text/plain": [
       "array([-1.65356365, -2.34061016, -3.19537602, -4.13615312, -5.11345244])"
      ]
     },
     "execution_count": 22,
     "metadata": {},
     "output_type": "execute_result"
    }
   ],
   "source": [
    "pa3 = models.loglogit(V, av=None, i=3)\n",
    "pa3.getValue_c(myData, prepareIds=True)"
   ]
  },
  {
   "cell_type": "markdown",
   "metadata": {},
   "source": [
    "## Boxcox transform"
   ]
  },
  {
   "cell_type": "markdown",
   "metadata": {},
   "source": [
    "The Box-Cox transform of a variable $x$ is defined as $$B(x,\\ell) = \\frac{x^{\\ell}-1}{\\ell},$$ where $\\ell$ is a parameter that can be estimated from data.  It has the property that $$\\lim_{\\ell \\to 0} B(x,\\ell)=\\log(x).$$"
   ]
  },
  {
   "cell_type": "code",
   "execution_count": 23,
   "metadata": {
    "execution": {
     "iopub.execute_input": "2023-08-04T16:40:47.831948Z",
     "iopub.status.busy": "2023-08-04T16:40:47.831747Z",
     "iopub.status.idle": "2023-08-04T16:40:47.835729Z",
     "shell.execute_reply": "2023-08-04T16:40:47.835267Z"
    }
   },
   "outputs": [
    {
     "data": {
      "text/plain": [
       "{{0:{{0:(((Variable1 ** `4.0`) - `1.0`) / `4.0`), 1:(((log(Variable1) + (`4.0` * (log(Variable1) ** `2.0`))) + ((`16.0` * (log(Variable1) ** `3.0`)) / `6.0`)) + ((`64.0` * (log(Variable1) ** `4.0`)) / `24.0`))}[((`1e-05` > `4.0`) * ((-`1e-05`) < `4.0`))], 1:`0.0`}[(Variable1 == `0.0`)]"
      ]
     },
     "execution_count": 23,
     "metadata": {},
     "output_type": "execute_result"
    }
   ],
   "source": [
    "x = Variable('Variable1')\n",
    "models.boxcox(x, 4)"
   ]
  },
  {
   "cell_type": "code",
   "execution_count": 24,
   "metadata": {
    "execution": {
     "iopub.execute_input": "2023-08-04T16:40:47.837653Z",
     "iopub.status.busy": "2023-08-04T16:40:47.837467Z",
     "iopub.status.idle": "2023-08-04T16:40:47.841293Z",
     "shell.execute_reply": "2023-08-04T16:40:47.840838Z"
    }
   },
   "outputs": [
    {
     "data": {
      "text/plain": [
       "{{0:{{0:(((Variable1 ** `0.0`) - `1.0`) / `0.0`), 1:(((log(Variable1) + (`0.0` * (log(Variable1) ** `2.0`))) + ((`0.0` * (log(Variable1) ** `3.0`)) / `6.0`)) + ((`0.0` * (log(Variable1) ** `4.0`)) / `24.0`))}[((`1e-05` > `0.0`) * ((-`1e-05`) < `0.0`))], 1:`0.0`}[(Variable1 == `0.0`)]"
      ]
     },
     "execution_count": 24,
     "metadata": {},
     "output_type": "execute_result"
    }
   ],
   "source": [
    "x = Variable('Variable1')\n",
    "models.boxcox(x, 0)"
   ]
  },
  {
   "cell_type": "code",
   "execution_count": 25,
   "metadata": {
    "execution": {
     "iopub.execute_input": "2023-08-04T16:40:47.843123Z",
     "iopub.status.busy": "2023-08-04T16:40:47.842963Z",
     "iopub.status.idle": "2023-08-04T16:40:47.847397Z",
     "shell.execute_reply": "2023-08-04T16:40:47.846856Z"
    }
   },
   "outputs": [
    {
     "name": "stdout",
     "output_type": "stream",
     "text": [
      "{{0:{{0:(((Variable1 ** Variable2) - `1.0`) / Variable2), 1:(((log(Variable1) + (Variable2 * (log(Variable1) ** `2.0`))) + (((Variable2 ** `2.0`) * (log(Variable1) ** `3.0`)) / `6.0`)) + (((Variable2 ** `3.0`) * (log(Variable1) ** `4.0`)) / `24.0`))}[((Variable2 < `1e-05`) * (Variable2 > (-`1e-05`)))], 1:`0.0`}[(Variable1 == `0.0`)]\n"
     ]
    }
   ],
   "source": [
    "l = Variable('Variable2')\n",
    "e = models.boxcox(x, l)\n",
    "print(e)"
   ]
  },
  {
   "cell_type": "code",
   "execution_count": 26,
   "metadata": {
    "execution": {
     "iopub.execute_input": "2023-08-04T16:40:47.849589Z",
     "iopub.status.busy": "2023-08-04T16:40:47.849374Z",
     "iopub.status.idle": "2023-08-04T16:40:47.855772Z",
     "shell.execute_reply": "2023-08-04T16:40:47.855335Z"
    }
   },
   "outputs": [
    {
     "data": {
      "text/plain": [
       "array([0.00000000e+00, 5.24287500e+04, 6.86303774e+12, 3.02231455e+22,\n",
       "       1.77635684e+33])"
      ]
     },
     "execution_count": 26,
     "metadata": {},
     "output_type": "execute_result"
    }
   ],
   "source": [
    "e.getValue_c(myData, prepareIds=True)"
   ]
  },
  {
   "cell_type": "markdown",
   "metadata": {},
   "source": [
    "We numerically illustrate  that, when $\\lambda$ goes to 0, the BoxCox transform of $x$ converges to the log of $x$."
   ]
  },
  {
   "cell_type": "code",
   "execution_count": 27,
   "metadata": {
    "execution": {
     "iopub.execute_input": "2023-08-04T16:40:47.858026Z",
     "iopub.status.busy": "2023-08-04T16:40:47.857768Z",
     "iopub.status.idle": "2023-08-04T16:40:47.865070Z",
     "shell.execute_reply": "2023-08-04T16:40:47.864316Z"
    }
   },
   "outputs": [
    {
     "name": "stdout",
     "output_type": "stream",
     "text": [
      "ell=l0^(-1): 1.16123 - 1.09861 = 0.0626195\n",
      "ell=l0^(-2): 1.10467 - 1.09861 = 0.00605691\n",
      "ell=l0^(-3): 1.09922 - 1.09861 = 0.000603696\n",
      "ell=l0^(-4): 1.09867 - 1.09861 = 6.03497e-05\n",
      "ell=l0^(-5): 1.09862 - 1.09861 = 6.03476e-06\n",
      "ell=l0^(-6): 1.09861 - 1.09861 = 1.20695e-06\n",
      "ell=l0^(-7): 1.09861 - 1.09861 = 1.20695e-07\n",
      "ell=l0^(-8): 1.09861 - 1.09861 = 1.20695e-08\n",
      "ell=l0^(-9): 1.09861 - 1.09861 = 1.20695e-09\n",
      "ell=l0^(-10): 1.09861 - 1.09861 = 1.20695e-10\n",
      "ell=l0^(-11): 1.09861 - 1.09861 = 1.20695e-11\n",
      "ell=l0^(-12): 1.09861 - 1.09861 = 1.20703e-12\n",
      "ell=l0^(-13): 1.09861 - 1.09861 = 1.20792e-13\n",
      "ell=l0^(-14): 1.09861 - 1.09861 = 1.19904e-14\n",
      "ell=l0^(-15): 1.09861 - 1.09861 = 1.11022e-15\n"
     ]
    }
   ],
   "source": [
    "for ell in range(1, 16):\n",
    "    x = 3\n",
    "    bc = models.boxcox(x, 10**-ell).getValue()\n",
    "    print(f'ell=l0^(-{ell}): {bc:.6g} - {np.log(x):.6g} = {bc - np.log(x):.6g}')\n"
   ]
  },
  {
   "cell_type": "markdown",
   "metadata": {},
   "source": [
    "## MEV models"
   ]
  },
  {
   "cell_type": "markdown",
   "metadata": {},
   "source": [
    "MEV models are defined as $$\\frac{e^{V_i + \\ln G_i(e^{V_1},\\ldots,e^{V_J})}}{\\sum_j e^{V_j + \\ln G_j(e^{V_1},\\ldots,e^{V_J})}},$$ where $G$ is a generating function, and\n",
    " $$G_i=\\frac{\\partial G}{\\partial y_i}(e^{V_1},\\ldots,e^{V_J})$$"
   ]
  },
  {
   "cell_type": "markdown",
   "metadata": {},
   "source": [
    "### Nested logit model"
   ]
  },
  {
   "cell_type": "markdown",
   "metadata": {},
   "source": [
    "The $G$ function for the nested logit model is defined such that $$G_i=\\frac{\\partial G}{\\partial y_i}(e^{V_1},\\ldots,e^{V_J}) = \\mu e^{(\\mu_m-1)V_i} \\left(\\sum_{i=1}^{J_m} e^{\\mu_m V_i}\\right)^{\\frac{\\mu}{\\mu_m}-1},$$ where the choice set is partitioned into $J_m$ nests, each associated with a parameter $\\mu_m$, and $\\mu$ is the scale parameter. The condition is $0 \\leq \\mu \\leq \\mu_m$ must be verified. In general, $\\mu$ is normalized to 1.0.   "
   ]
  },
  {
   "cell_type": "markdown",
   "metadata": {},
   "source": [
    "This is an example with 5 alternatives. Nest A contains alternatives 1, 2 and 4, and is associated with a scale parameter $\\mu_A=1.2$. Nest B contains alternatives 3 and 5, and is associated with a scale parameter $\\mu_B=2.3$. "
   ]
  },
  {
   "cell_type": "code",
   "execution_count": 28,
   "metadata": {
    "execution": {
     "iopub.execute_input": "2023-08-04T16:40:47.868105Z",
     "iopub.status.busy": "2023-08-04T16:40:47.867758Z",
     "iopub.status.idle": "2023-08-04T16:40:47.871502Z",
     "shell.execute_reply": "2023-08-04T16:40:47.870902Z"
    }
   },
   "outputs": [],
   "source": [
    "V = {1: Variable('Variable1'), 2: 0.1, 3: -0.1, 4: -0.2, 5: 0.2}\n",
    "av = {1: 1, 2: 0, 3: 1, 4: 1, 5: 1}\n",
    "nestA = 1.2, [1, 2, 4]\n",
    "nestB = 2.3, [3, 5]"
   ]
  },
  {
   "cell_type": "code",
   "execution_count": 29,
   "metadata": {
    "execution": {
     "iopub.execute_input": "2023-08-04T16:40:47.873594Z",
     "iopub.status.busy": "2023-08-04T16:40:47.873247Z",
     "iopub.status.idle": "2023-08-04T16:40:47.882974Z",
     "shell.execute_reply": "2023-08-04T16:40:47.882402Z"
    }
   },
   "outputs": [
    {
     "data": {
      "text/plain": [
       "array([0.55789028, 0.78684631, 0.9138115 , 0.96786857, 0.98836318])"
      ]
     },
     "execution_count": 29,
     "metadata": {},
     "output_type": "execute_result"
    }
   ],
   "source": [
    "p1 = models.nested(V,\n",
    "                   availability=av, \n",
    "                   nests=(nestA, nestB),\n",
    "                   choice=1)\n",
    "p1.getValue_c(myData, prepareIds=True)"
   ]
  },
  {
   "cell_type": "markdown",
   "metadata": {},
   "source": [
    "If all the alternatives are available, define the availability dictionary as None."
   ]
  },
  {
   "cell_type": "code",
   "execution_count": 30,
   "metadata": {
    "execution": {
     "iopub.execute_input": "2023-08-04T16:40:47.885006Z",
     "iopub.status.busy": "2023-08-04T16:40:47.884828Z",
     "iopub.status.idle": "2023-08-04T16:40:47.892461Z",
     "shell.execute_reply": "2023-08-04T16:40:47.892051Z"
    }
   },
   "outputs": [
    {
     "data": {
      "text/plain": [
       "array([0.46404047, 0.72661956, 0.88850463, 0.959216  , 0.98563615])"
      ]
     },
     "execution_count": 30,
     "metadata": {},
     "output_type": "execute_result"
    }
   ],
   "source": [
    "p1 = models.nested(V,\n",
    "                   availability=None,\n",
    "                   nests=(nestA, nestB),\n",
    "                   choice=1)\n",
    "p1.getValue_c(myData, prepareIds=True)"
   ]
  },
  {
   "cell_type": "markdown",
   "metadata": {},
   "source": [
    "The syntax is similar to obtain the log of the probability. "
   ]
  },
  {
   "cell_type": "code",
   "execution_count": 31,
   "metadata": {
    "execution": {
     "iopub.execute_input": "2023-08-04T16:40:47.894983Z",
     "iopub.status.busy": "2023-08-04T16:40:47.894440Z",
     "iopub.status.idle": "2023-08-04T16:40:47.904420Z",
     "shell.execute_reply": "2023-08-04T16:40:47.903186Z"
    }
   },
   "outputs": [
    {
     "data": {
      "text/plain": [
       "array([-0.58359297, -0.23972234, -0.09013096, -0.03265898, -0.01170506])"
      ]
     },
     "execution_count": 31,
     "metadata": {},
     "output_type": "execute_result"
    }
   ],
   "source": [
    "p2 = models.lognested(V,\n",
    "                      availability=av,\n",
    "                      nests=(nestA, nestB),\n",
    "                      choice=1)\n",
    "p2.getValue_c(myData, prepareIds=True)"
   ]
  },
  {
   "cell_type": "code",
   "execution_count": 32,
   "metadata": {
    "execution": {
     "iopub.execute_input": "2023-08-04T16:40:47.908661Z",
     "iopub.status.busy": "2023-08-04T16:40:47.908215Z",
     "iopub.status.idle": "2023-08-04T16:40:47.913855Z",
     "shell.execute_reply": "2023-08-04T16:40:47.913601Z"
    }
   },
   "outputs": [
    {
     "data": {
      "text/plain": [
       "array([-0.7677835 , -0.31935224, -0.11821542, -0.041639  , -0.01446801])"
      ]
     },
     "execution_count": 32,
     "metadata": {},
     "output_type": "execute_result"
    }
   ],
   "source": [
    "p2 = models.lognested(V,\n",
    "                      availability=None,\n",
    "                      nests=(nestA, nestB),\n",
    "                      choice=1)\n",
    "p2.getValue_c(myData, prepareIds=True)"
   ]
  },
  {
   "cell_type": "markdown",
   "metadata": {},
   "source": [
    "If the value of the parameter $\\mu$ is not 1, there is another function to call. Note that, for the sake of computational efficiency, it is not verified by the code if the condition $$0 \\leq \\mu \\leq \\mu_m$$ is valid."
   ]
  },
  {
   "cell_type": "code",
   "execution_count": 33,
   "metadata": {
    "execution": {
     "iopub.execute_input": "2023-08-04T16:40:47.914814Z",
     "iopub.status.busy": "2023-08-04T16:40:47.914750Z",
     "iopub.status.idle": "2023-08-04T16:40:47.918493Z",
     "shell.execute_reply": "2023-08-04T16:40:47.918278Z"
    }
   },
   "outputs": [
    {
     "data": {
      "text/plain": [
       "array([0.57151598, 0.80643395, 0.92814743, 0.9755475 , 0.9919295 ])"
      ]
     },
     "execution_count": 33,
     "metadata": {},
     "output_type": "execute_result"
    }
   ],
   "source": [
    "p1 = models.nestedMevMu(V,\n",
    "                        availability=av,\n",
    "                        nests=(nestA, nestB),\n",
    "                        choice=1,\n",
    "                        mu=1.1)\n",
    "p1.getValue_c(myData, prepareIds=True)"
   ]
  },
  {
   "cell_type": "code",
   "execution_count": 34,
   "metadata": {
    "execution": {
     "iopub.execute_input": "2023-08-04T16:40:47.919453Z",
     "iopub.status.busy": "2023-08-04T16:40:47.919392Z",
     "iopub.status.idle": "2023-08-04T16:40:47.922974Z",
     "shell.execute_reply": "2023-08-04T16:40:47.922747Z"
    }
   },
   "outputs": [
    {
     "data": {
      "text/plain": [
       "array([0.47623579, 0.74427029, 0.90223305, 0.96678265, 0.98918584])"
      ]
     },
     "execution_count": 34,
     "metadata": {},
     "output_type": "execute_result"
    }
   ],
   "source": [
    "p1 = models.nestedMevMu(V,\n",
    "                        availability=None,\n",
    "                        nests=(nestA, nestB),\n",
    "                        choice=1,\n",
    "                        mu=1.1)\n",
    "p1.getValue_c(myData, prepareIds=True)"
   ]
  },
  {
   "cell_type": "code",
   "execution_count": 35,
   "metadata": {
    "execution": {
     "iopub.execute_input": "2023-08-04T16:40:47.923890Z",
     "iopub.status.busy": "2023-08-04T16:40:47.923828Z",
     "iopub.status.idle": "2023-08-04T16:40:47.927436Z",
     "shell.execute_reply": "2023-08-04T16:40:47.927246Z"
    }
   },
   "outputs": [
    {
     "data": {
      "text/plain": [
       "array([-0.55946283, -0.21513329, -0.07456469, -0.02475643, -0.00810324])"
      ]
     },
     "execution_count": 35,
     "metadata": {},
     "output_type": "execute_result"
    }
   ],
   "source": [
    "p1 = models.lognestedMevMu(V,\n",
    "                           availability=av,\n",
    "                           nests=(nestA, nestB),\n",
    "                           choice=1,\n",
    "                           mu=1.1)\n",
    "p1.getValue_c(myData, prepareIds=True)"
   ]
  },
  {
   "cell_type": "code",
   "execution_count": 36,
   "metadata": {
    "execution": {
     "iopub.execute_input": "2023-08-04T16:40:47.928351Z",
     "iopub.status.busy": "2023-08-04T16:40:47.928290Z",
     "iopub.status.idle": "2023-08-04T16:40:47.931695Z",
     "shell.execute_reply": "2023-08-04T16:40:47.931505Z"
    }
   },
   "outputs": [
    {
     "data": {
      "text/plain": [
       "array([-0.74184219, -0.29535101, -0.10288243, -0.03378157, -0.01087306])"
      ]
     },
     "execution_count": 36,
     "metadata": {},
     "output_type": "execute_result"
    }
   ],
   "source": [
    "p1 = models.lognestedMevMu(V,\n",
    "                           availability=None,\n",
    "                           nests=(nestA, nestB),\n",
    "                           choice=1,\n",
    "                           mu=1.1)\n",
    "p1.getValue_c(myData, prepareIds=True)"
   ]
  },
  {
   "cell_type": "markdown",
   "metadata": {},
   "source": [
    "The validity of the nested structure can be verified."
   ]
  },
  {
   "cell_type": "code",
   "execution_count": 37,
   "metadata": {
    "execution": {
     "iopub.execute_input": "2023-08-04T16:40:47.932658Z",
     "iopub.status.busy": "2023-08-04T16:40:47.932599Z",
     "iopub.status.idle": "2023-08-04T16:40:47.934075Z",
     "shell.execute_reply": "2023-08-04T16:40:47.933855Z"
    }
   },
   "outputs": [],
   "source": [
    "isValid, msg = models.checkValidityNestedLogit(V, (nestA, nestB), alone=[])"
   ]
  },
  {
   "cell_type": "code",
   "execution_count": 38,
   "metadata": {
    "execution": {
     "iopub.execute_input": "2023-08-04T16:40:47.934998Z",
     "iopub.status.busy": "2023-08-04T16:40:47.934906Z",
     "iopub.status.idle": "2023-08-04T16:40:47.936780Z",
     "shell.execute_reply": "2023-08-04T16:40:47.936574Z"
    }
   },
   "outputs": [
    {
     "data": {
      "text/plain": [
       "True"
      ]
     },
     "execution_count": 38,
     "metadata": {},
     "output_type": "execute_result"
    }
   ],
   "source": [
    "isValid"
   ]
  },
  {
   "cell_type": "code",
   "execution_count": 39,
   "metadata": {
    "execution": {
     "iopub.execute_input": "2023-08-04T16:40:47.937693Z",
     "iopub.status.busy": "2023-08-04T16:40:47.937599Z",
     "iopub.status.idle": "2023-08-04T16:40:47.939156Z",
     "shell.execute_reply": "2023-08-04T16:40:47.938966Z"
    }
   },
   "outputs": [
    {
     "name": "stdout",
     "output_type": "stream",
     "text": [
      "The nested logit model is based on a partition. \n"
     ]
    }
   ],
   "source": [
    "print(msg)"
   ]
  },
  {
   "cell_type": "markdown",
   "metadata": {},
   "source": [
    "If one alternative does not belong to any nest..."
   ]
  },
  {
   "cell_type": "code",
   "execution_count": 40,
   "metadata": {
    "execution": {
     "iopub.execute_input": "2023-08-04T16:40:47.940104Z",
     "iopub.status.busy": "2023-08-04T16:40:47.940035Z",
     "iopub.status.idle": "2023-08-04T16:40:47.941675Z",
     "shell.execute_reply": "2023-08-04T16:40:47.941453Z"
    }
   },
   "outputs": [],
   "source": [
    "nestA = 1.2, [1, 4]\n",
    "nestB = 2.3, [3, 5]\n",
    "isValid, msg = models.checkValidityNestedLogit(V, (nestA, nestB), alone=[])"
   ]
  },
  {
   "cell_type": "code",
   "execution_count": 41,
   "metadata": {
    "execution": {
     "iopub.execute_input": "2023-08-04T16:40:47.942528Z",
     "iopub.status.busy": "2023-08-04T16:40:47.942454Z",
     "iopub.status.idle": "2023-08-04T16:40:47.944191Z",
     "shell.execute_reply": "2023-08-04T16:40:47.943979Z"
    }
   },
   "outputs": [
    {
     "data": {
      "text/plain": [
       "False"
      ]
     },
     "execution_count": 41,
     "metadata": {},
     "output_type": "execute_result"
    }
   ],
   "source": [
    "isValid"
   ]
  },
  {
   "cell_type": "code",
   "execution_count": 42,
   "metadata": {
    "execution": {
     "iopub.execute_input": "2023-08-04T16:40:47.945095Z",
     "iopub.status.busy": "2023-08-04T16:40:47.945025Z",
     "iopub.status.idle": "2023-08-04T16:40:47.946467Z",
     "shell.execute_reply": "2023-08-04T16:40:47.946262Z"
    }
   },
   "outputs": [
    {
     "name": "stdout",
     "output_type": "stream",
     "text": [
      "Alternative(s) in the choice set, but not in any nest: {2}\n",
      "\n"
     ]
    }
   ],
   "source": [
    "print(msg)"
   ]
  },
  {
   "cell_type": "markdown",
   "metadata": {},
   "source": [
    "If an alternative belongs to two nests"
   ]
  },
  {
   "cell_type": "code",
   "execution_count": 43,
   "metadata": {
    "execution": {
     "iopub.execute_input": "2023-08-04T16:40:47.947390Z",
     "iopub.status.busy": "2023-08-04T16:40:47.947284Z",
     "iopub.status.idle": "2023-08-04T16:40:47.949080Z",
     "shell.execute_reply": "2023-08-04T16:40:47.948797Z"
    }
   },
   "outputs": [],
   "source": [
    "nestA = 1.2, [1, 2, 3, 4]\n",
    "nestB = 2.3, [3, 5]\n",
    "isValid, msg = models.checkValidityNestedLogit(V,(nestA,nestB), alone=[])"
   ]
  },
  {
   "cell_type": "code",
   "execution_count": 44,
   "metadata": {
    "execution": {
     "iopub.execute_input": "2023-08-04T16:40:47.949905Z",
     "iopub.status.busy": "2023-08-04T16:40:47.949845Z",
     "iopub.status.idle": "2023-08-04T16:40:47.951575Z",
     "shell.execute_reply": "2023-08-04T16:40:47.951380Z"
    }
   },
   "outputs": [
    {
     "data": {
      "text/plain": [
       "False"
      ]
     },
     "execution_count": 44,
     "metadata": {},
     "output_type": "execute_result"
    }
   ],
   "source": [
    "isValid"
   ]
  },
  {
   "cell_type": "code",
   "execution_count": 45,
   "metadata": {
    "execution": {
     "iopub.execute_input": "2023-08-04T16:40:47.952440Z",
     "iopub.status.busy": "2023-08-04T16:40:47.952384Z",
     "iopub.status.idle": "2023-08-04T16:40:47.953865Z",
     "shell.execute_reply": "2023-08-04T16:40:47.953633Z"
    }
   },
   "outputs": [
    {
     "name": "stdout",
     "output_type": "stream",
     "text": [
      "Two nests contain the following alternative(s): {3}\n",
      "Two nests contain the following alternative(s): {3}\n",
      "\n"
     ]
    }
   ],
   "source": [
    "print(msg)"
   ]
  },
  {
   "cell_type": "markdown",
   "metadata": {},
   "source": [
    "### Cross-nested logit model"
   ]
  },
  {
   "cell_type": "markdown",
   "metadata": {},
   "source": [
    "The $G$ function for the cross nested logit model is defined such that $$G_i=\\frac{\\partial G}{\\partial y_i}(e^{V_1},\\ldots,e^{V_J}) = \\mu  \\sum_{m=1}^{M} \\alpha_{im}^{\\frac{\\mu_m}{\\mu}} e^{(\\mu_m-1) V_i}\\left( \\sum_{j=1}^{J} \\alpha_{jm}^{\\frac{\\mu_m}{\\mu}} e^{\\mu_m V_j} \\right)^{\\frac{\\mu}{\\mu_m}-1},$$\n",
    "where each nest $m$ is associated with a parameter $\\mu_m$ and, for each alternative $i$, a parameter $\\alpha_{im} \\geq 0$ that captures the degree of membership of alternative $i$ to nest $m$. $\\mu$ is the scale parameter. For each alternative $i$, there must be at least one nest $m$ such that $\\alpha_{im}>0$. The condition is $0 \\leq \\mu \\leq \\mu_m$ must be also verified. In general, $\\mu$ is normalized to 1.0.   "
   ]
  },
  {
   "cell_type": "markdown",
   "metadata": {},
   "source": [
    "This is an example with 5 alternatives and two nests.\n",
    "\n",
    "- Alt. 1 belongs to nest A.\n",
    "- Alt. 2 belongs to nest A.\n",
    "- Alt. 3 belongs to both nest A (50%) and nest B (50%).\n",
    "- Alt. 4 belongs to nest B.\n",
    "- Alt. 5 belongs to nest B."
   ]
  },
  {
   "cell_type": "code",
   "execution_count": 46,
   "metadata": {
    "execution": {
     "iopub.execute_input": "2023-08-04T16:40:47.954919Z",
     "iopub.status.busy": "2023-08-04T16:40:47.954857Z",
     "iopub.status.idle": "2023-08-04T16:40:47.956817Z",
     "shell.execute_reply": "2023-08-04T16:40:47.956551Z"
    }
   },
   "outputs": [],
   "source": [
    "V = {1: Variable('Variable1'), 2: 0.1, 3: -0.1, 4: -0.2, 5: 0.2}\n",
    "av = {1: 1, 2: 0, 3: 1, 4: 1, 5: 1}\n",
    "alphaA = {1: 1, 2: 1, 3: 0.5, 4: 0, 5: 0}\n",
    "alphaB = {1: 0, 2: 0, 3: 0.5, 4: 1, 5: 1}\n",
    "nestA = 1.2, alphaA\n",
    "nestB = 2.3, alphaB"
   ]
  },
  {
   "cell_type": "code",
   "execution_count": 47,
   "metadata": {
    "execution": {
     "iopub.execute_input": "2023-08-04T16:40:47.957676Z",
     "iopub.status.busy": "2023-08-04T16:40:47.957615Z",
     "iopub.status.idle": "2023-08-04T16:40:47.964586Z",
     "shell.execute_reply": "2023-08-04T16:40:47.964380Z"
    }
   },
   "outputs": [
    {
     "data": {
      "text/plain": [
       "array([0.60161076, 0.81080413, 0.92317655, 0.97098919, 0.98933903])"
      ]
     },
     "execution_count": 47,
     "metadata": {},
     "output_type": "execute_result"
    }
   ],
   "source": [
    "p1 = models.cnl(V,\n",
    "                availability=av,\n",
    "                nests=(nestA, nestB),\n",
    "                choice=1)\n",
    "p1.getValue_c(myData, prepareIds=True)"
   ]
  },
  {
   "cell_type": "markdown",
   "metadata": {},
   "source": [
    "If all the alternatives are available, define the availability dictionary as None."
   ]
  },
  {
   "cell_type": "code",
   "execution_count": 48,
   "metadata": {
    "execution": {
     "iopub.execute_input": "2023-08-04T16:40:47.965584Z",
     "iopub.status.busy": "2023-08-04T16:40:47.965518Z",
     "iopub.status.idle": "2023-08-04T16:40:47.972609Z",
     "shell.execute_reply": "2023-08-04T16:40:47.972398Z"
    }
   },
   "outputs": [
    {
     "data": {
      "text/plain": [
       "array([0.49345928, 0.74695583, 0.89735316, 0.96228089, 0.98660661])"
      ]
     },
     "execution_count": 48,
     "metadata": {},
     "output_type": "execute_result"
    }
   ],
   "source": [
    "p1 = models.cnl(V,\n",
    "                availability=None,\n",
    "                nests=(nestA, nestB),\n",
    "                choice=1)\n",
    "p1.getValue_c(myData, prepareIds=True)"
   ]
  },
  {
   "cell_type": "markdown",
   "metadata": {},
   "source": [
    "If the value of the parameter $\\mu$ is not 1, there is another function to call. Note that, for the sake of computational efficiency, it is not verified by the code if the condition $$0 \\leq \\mu \\leq \\mu_m$$ is verified."
   ]
  },
  {
   "cell_type": "code",
   "execution_count": 49,
   "metadata": {
    "execution": {
     "iopub.execute_input": "2023-08-04T16:40:47.973538Z",
     "iopub.status.busy": "2023-08-04T16:40:47.973468Z",
     "iopub.status.idle": "2023-08-04T16:40:47.978820Z",
     "shell.execute_reply": "2023-08-04T16:40:47.978614Z"
    }
   },
   "outputs": [
    {
     "data": {
      "text/plain": [
       "array([0.6110354 , 0.828654  , 0.93675704, 0.97837752, 0.99280536])"
      ]
     },
     "execution_count": 49,
     "metadata": {},
     "output_type": "execute_result"
    }
   ],
   "source": [
    "p1 = models.cnlmu(V,\n",
    "                  availability=av,\n",
    "                  nests=(nestA, nestB),\n",
    "                  choice=1,\n",
    "                  mu=1.1)\n",
    "p1.getValue_c(myData, prepareIds=True)"
   ]
  },
  {
   "cell_type": "code",
   "execution_count": 50,
   "metadata": {
    "execution": {
     "iopub.execute_input": "2023-08-04T16:40:47.979718Z",
     "iopub.status.busy": "2023-08-04T16:40:47.979656Z",
     "iopub.status.idle": "2023-08-04T16:40:47.985320Z",
     "shell.execute_reply": "2023-08-04T16:40:47.985087Z"
    }
   },
   "outputs": [
    {
     "data": {
      "text/plain": [
       "array([0.50313974, 0.76313184, 0.91036491, 0.96956188, 0.99005685])"
      ]
     },
     "execution_count": 50,
     "metadata": {},
     "output_type": "execute_result"
    }
   ],
   "source": [
    "p1 = models.cnlmu(V,\n",
    "                  availability=None,\n",
    "                  nests=(nestA, nestB),\n",
    "                  choice=1,\n",
    "                  mu=1.1)\n",
    "p1.getValue_c(myData, prepareIds=True)"
   ]
  },
  {
   "cell_type": "markdown",
   "metadata": {},
   "source": [
    "If the sample is endogenous, a correction must be included in the model, as proposed by [Bierlaire, Bolduc and McFadden (2008)](http://dx.doi.org/10.1016/j.trb.2007.09.003).\n",
    "In this case, the generating function must first be defined, and the MEV model with correction is then called. "
   ]
  },
  {
   "cell_type": "code",
   "execution_count": 51,
   "metadata": {
    "execution": {
     "iopub.execute_input": "2023-08-04T16:40:47.986305Z",
     "iopub.status.busy": "2023-08-04T16:40:47.986239Z",
     "iopub.status.idle": "2023-08-04T16:40:47.988525Z",
     "shell.execute_reply": "2023-08-04T16:40:47.988316Z"
    }
   },
   "outputs": [
    {
     "data": {
      "text/plain": [
       "{1: {{1:`0.0`, 0:log(bioMultSum(((`1.0` * exp((`0.19999999999999996` * Variable1))) * (bioMultSum((`1.0` * exp((`1.2` * Variable1))), (`0.0` * exp(`0.12`)), (`0.43527528164806206` * exp(`-0.12`)), (`0.0` * exp(`-0.24`)), (`0.0` * exp(`0.24`))) ** `-0.16666666666666663`)), ((`0.0` * exp((`1.2999999999999998` * Variable1))) * (bioMultSum((`0.0` * exp((`2.3` * Variable1))), (`0.0` * exp(`0.22999999999999998`)), (`0.2030630990890589` * exp(`-0.22999999999999998`)), (`1.0` * exp(`-0.45999999999999996`)), (`1.0` * exp(`0.45999999999999996`))) ** `-0.5652173913043478`))))}[(bioMultSum(((`1.0` * exp((`0.19999999999999996` * Variable1))) * (bioMultSum((`1.0` * exp((`1.2` * Variable1))), (`0.0` * exp(`0.12`)), (`0.43527528164806206` * exp(`-0.12`)), (`0.0` * exp(`-0.24`)), (`0.0` * exp(`0.24`))) ** `-0.16666666666666663`)), ((`0.0` * exp((`1.2999999999999998` * Variable1))) * (bioMultSum((`0.0` * exp((`2.3` * Variable1))), (`0.0` * exp(`0.22999999999999998`)), (`0.2030630990890589` * exp(`-0.22999999999999998`)), (`1.0` * exp(`-0.45999999999999996`)), (`1.0` * exp(`0.45999999999999996`))) ** `-0.5652173913043478`))) == `0.0`)],\n",
       " 2: {{1:`0.0`, 0:log(bioMultSum(((`1.0` * exp(`0.019999999999999997`)) * (bioMultSum((`1.0` * exp((`1.2` * Variable1))), (`0.0` * exp(`0.12`)), (`0.43527528164806206` * exp(`-0.12`)), (`0.0` * exp(`-0.24`)), (`0.0` * exp(`0.24`))) ** `-0.16666666666666663`)), ((`0.0` * exp(`0.12999999999999998`)) * (bioMultSum((`0.0` * exp((`2.3` * Variable1))), (`0.0` * exp(`0.22999999999999998`)), (`0.2030630990890589` * exp(`-0.22999999999999998`)), (`1.0` * exp(`-0.45999999999999996`)), (`1.0` * exp(`0.45999999999999996`))) ** `-0.5652173913043478`))))}[(bioMultSum(((`1.0` * exp(`0.019999999999999997`)) * (bioMultSum((`1.0` * exp((`1.2` * Variable1))), (`0.0` * exp(`0.12`)), (`0.43527528164806206` * exp(`-0.12`)), (`0.0` * exp(`-0.24`)), (`0.0` * exp(`0.24`))) ** `-0.16666666666666663`)), ((`0.0` * exp(`0.12999999999999998`)) * (bioMultSum((`0.0` * exp((`2.3` * Variable1))), (`0.0` * exp(`0.22999999999999998`)), (`0.2030630990890589` * exp(`-0.22999999999999998`)), (`1.0` * exp(`-0.45999999999999996`)), (`1.0` * exp(`0.45999999999999996`))) ** `-0.5652173913043478`))) == `0.0`)],\n",
       " 3: {{1:`0.0`, 0:log(bioMultSum(((`0.43527528164806206` * exp(`-0.019999999999999997`)) * (bioMultSum((`1.0` * exp((`1.2` * Variable1))), (`0.0` * exp(`0.12`)), (`0.43527528164806206` * exp(`-0.12`)), (`0.0` * exp(`-0.24`)), (`0.0` * exp(`0.24`))) ** `-0.16666666666666663`)), ((`0.2030630990890589` * exp(`-0.12999999999999998`)) * (bioMultSum((`0.0` * exp((`2.3` * Variable1))), (`0.0` * exp(`0.22999999999999998`)), (`0.2030630990890589` * exp(`-0.22999999999999998`)), (`1.0` * exp(`-0.45999999999999996`)), (`1.0` * exp(`0.45999999999999996`))) ** `-0.5652173913043478`))))}[(bioMultSum(((`0.43527528164806206` * exp(`-0.019999999999999997`)) * (bioMultSum((`1.0` * exp((`1.2` * Variable1))), (`0.0` * exp(`0.12`)), (`0.43527528164806206` * exp(`-0.12`)), (`0.0` * exp(`-0.24`)), (`0.0` * exp(`0.24`))) ** `-0.16666666666666663`)), ((`0.2030630990890589` * exp(`-0.12999999999999998`)) * (bioMultSum((`0.0` * exp((`2.3` * Variable1))), (`0.0` * exp(`0.22999999999999998`)), (`0.2030630990890589` * exp(`-0.22999999999999998`)), (`1.0` * exp(`-0.45999999999999996`)), (`1.0` * exp(`0.45999999999999996`))) ** `-0.5652173913043478`))) == `0.0`)],\n",
       " 4: {{1:`0.0`, 0:log(bioMultSum(((`0.0` * exp(`-0.039999999999999994`)) * (bioMultSum((`1.0` * exp((`1.2` * Variable1))), (`0.0` * exp(`0.12`)), (`0.43527528164806206` * exp(`-0.12`)), (`0.0` * exp(`-0.24`)), (`0.0` * exp(`0.24`))) ** `-0.16666666666666663`)), ((`1.0` * exp(`-0.25999999999999995`)) * (bioMultSum((`0.0` * exp((`2.3` * Variable1))), (`0.0` * exp(`0.22999999999999998`)), (`0.2030630990890589` * exp(`-0.22999999999999998`)), (`1.0` * exp(`-0.45999999999999996`)), (`1.0` * exp(`0.45999999999999996`))) ** `-0.5652173913043478`))))}[(bioMultSum(((`0.0` * exp(`-0.039999999999999994`)) * (bioMultSum((`1.0` * exp((`1.2` * Variable1))), (`0.0` * exp(`0.12`)), (`0.43527528164806206` * exp(`-0.12`)), (`0.0` * exp(`-0.24`)), (`0.0` * exp(`0.24`))) ** `-0.16666666666666663`)), ((`1.0` * exp(`-0.25999999999999995`)) * (bioMultSum((`0.0` * exp((`2.3` * Variable1))), (`0.0` * exp(`0.22999999999999998`)), (`0.2030630990890589` * exp(`-0.22999999999999998`)), (`1.0` * exp(`-0.45999999999999996`)), (`1.0` * exp(`0.45999999999999996`))) ** `-0.5652173913043478`))) == `0.0`)],\n",
       " 5: {{1:`0.0`, 0:log(bioMultSum(((`0.0` * exp(`0.039999999999999994`)) * (bioMultSum((`1.0` * exp((`1.2` * Variable1))), (`0.0` * exp(`0.12`)), (`0.43527528164806206` * exp(`-0.12`)), (`0.0` * exp(`-0.24`)), (`0.0` * exp(`0.24`))) ** `-0.16666666666666663`)), ((`1.0` * exp(`0.25999999999999995`)) * (bioMultSum((`0.0` * exp((`2.3` * Variable1))), (`0.0` * exp(`0.22999999999999998`)), (`0.2030630990890589` * exp(`-0.22999999999999998`)), (`1.0` * exp(`-0.45999999999999996`)), (`1.0` * exp(`0.45999999999999996`))) ** `-0.5652173913043478`))))}[(bioMultSum(((`0.0` * exp(`0.039999999999999994`)) * (bioMultSum((`1.0` * exp((`1.2` * Variable1))), (`0.0` * exp(`0.12`)), (`0.43527528164806206` * exp(`-0.12`)), (`0.0` * exp(`-0.24`)), (`0.0` * exp(`0.24`))) ** `-0.16666666666666663`)), ((`1.0` * exp(`0.25999999999999995`)) * (bioMultSum((`0.0` * exp((`2.3` * Variable1))), (`0.0` * exp(`0.22999999999999998`)), (`0.2030630990890589` * exp(`-0.22999999999999998`)), (`1.0` * exp(`-0.45999999999999996`)), (`1.0` * exp(`0.45999999999999996`))) ** `-0.5652173913043478`))) == `0.0`)]}"
      ]
     },
     "execution_count": 51,
     "metadata": {},
     "output_type": "execute_result"
    }
   ],
   "source": [
    "logGi = models.getMevForCrossNested(V,\n",
    "                                    availability=av,\n",
    "                                    nests=(nestA, nestB))\n",
    "logGi"
   ]
  },
  {
   "cell_type": "code",
   "execution_count": 52,
   "metadata": {
    "execution": {
     "iopub.execute_input": "2023-08-04T16:40:47.989439Z",
     "iopub.status.busy": "2023-08-04T16:40:47.989378Z",
     "iopub.status.idle": "2023-08-04T16:40:47.996395Z",
     "shell.execute_reply": "2023-08-04T16:40:47.996191Z"
    }
   },
   "outputs": [
    {
     "data": {
      "text/plain": [
       "array([0.57460722, 0.79415805, 0.91584339, 0.96822294, 0.98835331])"
      ]
     },
     "execution_count": 52,
     "metadata": {},
     "output_type": "execute_result"
    }
   ],
   "source": [
    "correction = {1: -0.1, 2: 0.1, 3: 0.2, 4: -0.2, 5: 0}\n",
    "p1 = models.mev_endogenousSampling(V, \n",
    "                                   logGi, \n",
    "                                   av, \n",
    "                                   correction, \n",
    "                                   choice=1) \n",
    "p1.getValue_c(myData, prepareIds=True)"
   ]
  },
  {
   "cell_type": "code",
   "execution_count": 53,
   "metadata": {
    "execution": {
     "iopub.execute_input": "2023-08-04T16:40:47.997346Z",
     "iopub.status.busy": "2023-08-04T16:40:47.997287Z",
     "iopub.status.idle": "2023-08-04T16:40:48.004259Z",
     "shell.execute_reply": "2023-08-04T16:40:48.004043Z"
    }
   },
   "outputs": [
    {
     "data": {
      "text/plain": [
       "array([-0.55406856, -0.23047278, -0.0879099 , -0.03229291, -0.01171504])"
      ]
     },
     "execution_count": 53,
     "metadata": {},
     "output_type": "execute_result"
    }
   ],
   "source": [
    "correction = {1: -0.1, 2: 0.1, 3: 0.2, 4: -0.2, 5: 0}\n",
    "p1 = models.logmev_endogenousSampling(V,\n",
    "                                      logGi,\n",
    "                                      av,\n",
    "                                      correction,\n",
    "                                      choice=1) \n",
    "p1.getValue_c(myData, prepareIds=True)"
   ]
  },
  {
   "cell_type": "code",
   "execution_count": 54,
   "metadata": {
    "execution": {
     "iopub.execute_input": "2023-08-04T16:40:48.005160Z",
     "iopub.status.busy": "2023-08-04T16:40:48.005097Z",
     "iopub.status.idle": "2023-08-04T16:40:48.011962Z",
     "shell.execute_reply": "2023-08-04T16:40:48.011750Z"
    }
   },
   "outputs": [
    {
     "data": {
      "text/plain": [
       "array([0.46401513, 0.72247789, 0.8853334 , 0.95771369, 0.98503002])"
      ]
     },
     "execution_count": 54,
     "metadata": {},
     "output_type": "execute_result"
    }
   ],
   "source": [
    "correction = {1: -0.1, 2: 0.1, 3: 0.2, 4: -0.2, 5: 0}\n",
    "p1 = models.mev_endogenousSampling(V,\n",
    "                                   logGi,\n",
    "                                   av=None,\n",
    "                                   correction=correction,\n",
    "                                   choice=1) \n",
    "p1.getValue_c(myData, prepareIds=True)"
   ]
  },
  {
   "cell_type": "code",
   "execution_count": 55,
   "metadata": {
    "execution": {
     "iopub.execute_input": "2023-08-04T16:40:48.012877Z",
     "iopub.status.busy": "2023-08-04T16:40:48.012813Z",
     "iopub.status.idle": "2023-08-04T16:40:48.019778Z",
     "shell.execute_reply": "2023-08-04T16:40:48.019566Z"
    }
   },
   "outputs": [
    {
     "data": {
      "text/plain": [
       "array([-0.76783812, -0.32506846, -0.12179099, -0.04320641, -0.01508316])"
      ]
     },
     "execution_count": 55,
     "metadata": {},
     "output_type": "execute_result"
    }
   ],
   "source": [
    "correction = {1: -0.1, 2: 0.1, 3: 0.2, 4: -0.2, 5: 0}\n",
    "p1 = models.logmev_endogenousSampling(V,\n",
    "                                      logGi,\n",
    "                                      av=None,\n",
    "                                      correction=correction,\n",
    "                                      choice=1) \n",
    "p1.getValue_c(myData, prepareIds=True)"
   ]
  },
  {
   "cell_type": "markdown",
   "metadata": {},
   "source": [
    "### The MEV generating function for the following models are available."
   ]
  },
  {
   "cell_type": "markdown",
   "metadata": {},
   "source": [
    "Nested logit model"
   ]
  },
  {
   "cell_type": "code",
   "execution_count": 56,
   "metadata": {
    "execution": {
     "iopub.execute_input": "2023-08-04T16:40:48.020769Z",
     "iopub.status.busy": "2023-08-04T16:40:48.020705Z",
     "iopub.status.idle": "2023-08-04T16:40:48.022686Z",
     "shell.execute_reply": "2023-08-04T16:40:48.022481Z"
    }
   },
   "outputs": [],
   "source": [
    "V = {1: Variable('Variable1'), 2: 0.1, 3: -0.1, 4: -0.2, 5: 0.2 }\n",
    "av = {1: 1, 2: 0, 3: 1, 4: 1, 5: 1}\n",
    "nestA = Beta('muA', 1.2, 1.0, None, 0), [1, 2, 4]\n",
    "nestB = Beta('muB', 2.3, 1.0, None, 0), [3, 5]"
   ]
  },
  {
   "cell_type": "code",
   "execution_count": 57,
   "metadata": {
    "execution": {
     "iopub.execute_input": "2023-08-04T16:40:48.023553Z",
     "iopub.status.busy": "2023-08-04T16:40:48.023491Z",
     "iopub.status.idle": "2023-08-04T16:40:48.025548Z",
     "shell.execute_reply": "2023-08-04T16:40:48.025348Z"
    }
   },
   "outputs": [
    {
     "data": {
      "text/plain": [
       "{1: (((muA(init=1.2) - `1.0`) * Variable1) + (((`1.0` / muA(init=1.2)) - `1.0`) * log(bioMultSum(exp((muA(init=1.2) * Variable1)), exp((muA(init=1.2) * `0.1`)), exp((muA(init=1.2) * `-0.2`)))))),\n",
       " 2: (((muA(init=1.2) - `1.0`) * `0.1`) + (((`1.0` / muA(init=1.2)) - `1.0`) * log(bioMultSum(exp((muA(init=1.2) * Variable1)), exp((muA(init=1.2) * `0.1`)), exp((muA(init=1.2) * `-0.2`)))))),\n",
       " 4: (((muA(init=1.2) - `1.0`) * `-0.2`) + (((`1.0` / muA(init=1.2)) - `1.0`) * log(bioMultSum(exp((muA(init=1.2) * Variable1)), exp((muA(init=1.2) * `0.1`)), exp((muA(init=1.2) * `-0.2`)))))),\n",
       " 3: (((muB(init=2.3) - `1.0`) * `-0.1`) + (((`1.0` / muB(init=2.3)) - `1.0`) * log(bioMultSum(exp((muB(init=2.3) * `-0.1`)), exp((muB(init=2.3) * `0.2`)))))),\n",
       " 5: (((muB(init=2.3) - `1.0`) * `0.2`) + (((`1.0` / muB(init=2.3)) - `1.0`) * log(bioMultSum(exp((muB(init=2.3) * `-0.1`)), exp((muB(init=2.3) * `0.2`))))))}"
      ]
     },
     "execution_count": 57,
     "metadata": {},
     "output_type": "execute_result"
    }
   ],
   "source": [
    "logGi = models.getMevForNested(V,\n",
    "                               availability=None,\n",
    "                               nests=(nestA, nestB))\n",
    "logGi"
   ]
  },
  {
   "cell_type": "markdown",
   "metadata": {},
   "source": [
    "And with the $\\mu$ parameter"
   ]
  },
  {
   "cell_type": "code",
   "execution_count": 58,
   "metadata": {
    "execution": {
     "iopub.execute_input": "2023-08-04T16:40:48.026517Z",
     "iopub.status.busy": "2023-08-04T16:40:48.026454Z",
     "iopub.status.idle": "2023-08-04T16:40:48.028645Z",
     "shell.execute_reply": "2023-08-04T16:40:48.028439Z"
    }
   },
   "outputs": [
    {
     "data": {
      "text/plain": [
       "{1: ((log(`1.1`) + ((muA(init=1.2) - `1.0`) * Variable1)) + (((`1.1` / muA(init=1.2)) - `1.0`) * log(bioMultSum(exp((muA(init=1.2) * Variable1)), exp((muA(init=1.2) * `0.1`)), exp((muA(init=1.2) * `-0.2`)))))),\n",
       " 2: ((log(`1.1`) + ((muA(init=1.2) - `1.0`) * `0.1`)) + (((`1.1` / muA(init=1.2)) - `1.0`) * log(bioMultSum(exp((muA(init=1.2) * Variable1)), exp((muA(init=1.2) * `0.1`)), exp((muA(init=1.2) * `-0.2`)))))),\n",
       " 4: ((log(`1.1`) + ((muA(init=1.2) - `1.0`) * `-0.2`)) + (((`1.1` / muA(init=1.2)) - `1.0`) * log(bioMultSum(exp((muA(init=1.2) * Variable1)), exp((muA(init=1.2) * `0.1`)), exp((muA(init=1.2) * `-0.2`)))))),\n",
       " 3: ((log(`1.1`) + ((muB(init=2.3) - `1.0`) * `-0.1`)) + (((`1.1` / muB(init=2.3)) - `1.0`) * log(bioMultSum(exp((muB(init=2.3) * `-0.1`)), exp((muB(init=2.3) * `0.2`)))))),\n",
       " 5: ((log(`1.1`) + ((muB(init=2.3) - `1.0`) * `0.2`)) + (((`1.1` / muB(init=2.3)) - `1.0`) * log(bioMultSum(exp((muB(init=2.3) * `-0.1`)), exp((muB(init=2.3) * `0.2`))))))}"
      ]
     },
     "execution_count": 58,
     "metadata": {},
     "output_type": "execute_result"
    }
   ],
   "source": [
    "logGi = models.getMevForNestedMu(V,\n",
    "                                 availability=None,\n",
    "                                 nests=(nestA, nestB),\n",
    "                                 mu=1.1)\n",
    "logGi"
   ]
  },
  {
   "cell_type": "markdown",
   "metadata": {},
   "source": [
    "Cross nested logit model"
   ]
  },
  {
   "cell_type": "code",
   "execution_count": 59,
   "metadata": {
    "execution": {
     "iopub.execute_input": "2023-08-04T16:40:48.029611Z",
     "iopub.status.busy": "2023-08-04T16:40:48.029549Z",
     "iopub.status.idle": "2023-08-04T16:40:48.031521Z",
     "shell.execute_reply": "2023-08-04T16:40:48.031316Z"
    }
   },
   "outputs": [],
   "source": [
    "V = {1: Variable('Variable1'), 2: 0.1, 3: -0.1, 4: -0.2, 5: 0.2 }\n",
    "av = {1: 1, 2: 0, 3: 1, 4: 1, 5: 1}\n",
    "alphaA = {1: 1, 2: 1, 3: 0.5, 4: 0, 5: 0}\n",
    "alphaB = {1: 0, 2: 0, 3: 0.5, 4: 1, 5: 1}\n",
    "nestA = Beta('muA', 1.2, 1.0, None, 0), alphaA\n",
    "nestB = Beta('muB', 2.3, 1.0, None,0), alphaB"
   ]
  },
  {
   "cell_type": "code",
   "execution_count": 60,
   "metadata": {
    "execution": {
     "iopub.execute_input": "2023-08-04T16:40:48.032460Z",
     "iopub.status.busy": "2023-08-04T16:40:48.032399Z",
     "iopub.status.idle": "2023-08-04T16:40:48.034977Z",
     "shell.execute_reply": "2023-08-04T16:40:48.034736Z"
    }
   },
   "outputs": [
    {
     "data": {
      "text/plain": [
       "{1: {{1:`0.0`, 0:log(bioMultSum((((`1.0` ** muA(init=1.2)) * exp(((muA(init=1.2) - `1.0`) * Variable1))) * (bioMultSum(((`1.0` ** muA(init=1.2)) * exp((muA(init=1.2) * Variable1))), ((`1.0` ** muA(init=1.2)) * exp((muA(init=1.2) * `0.1`))), ((`0.5` ** muA(init=1.2)) * exp((muA(init=1.2) * `-0.1`))), ((`0.0` ** muA(init=1.2)) * exp((muA(init=1.2) * `-0.2`))), ((`0.0` ** muA(init=1.2)) * exp((muA(init=1.2) * `0.2`)))) ** ((`1.0` / muA(init=1.2)) - `1.0`))), (((`0.0` ** muB(init=2.3)) * exp(((muB(init=2.3) - `1.0`) * Variable1))) * (bioMultSum(((`0.0` ** muB(init=2.3)) * exp((muB(init=2.3) * Variable1))), ((`0.0` ** muB(init=2.3)) * exp((muB(init=2.3) * `0.1`))), ((`0.5` ** muB(init=2.3)) * exp((muB(init=2.3) * `-0.1`))), ((`1.0` ** muB(init=2.3)) * exp((muB(init=2.3) * `-0.2`))), ((`1.0` ** muB(init=2.3)) * exp((muB(init=2.3) * `0.2`)))) ** ((`1.0` / muB(init=2.3)) - `1.0`)))))}[(bioMultSum((((`1.0` ** muA(init=1.2)) * exp(((muA(init=1.2) - `1.0`) * Variable1))) * (bioMultSum(((`1.0` ** muA(init=1.2)) * exp((muA(init=1.2) * Variable1))), ((`1.0` ** muA(init=1.2)) * exp((muA(init=1.2) * `0.1`))), ((`0.5` ** muA(init=1.2)) * exp((muA(init=1.2) * `-0.1`))), ((`0.0` ** muA(init=1.2)) * exp((muA(init=1.2) * `-0.2`))), ((`0.0` ** muA(init=1.2)) * exp((muA(init=1.2) * `0.2`)))) ** ((`1.0` / muA(init=1.2)) - `1.0`))), (((`0.0` ** muB(init=2.3)) * exp(((muB(init=2.3) - `1.0`) * Variable1))) * (bioMultSum(((`0.0` ** muB(init=2.3)) * exp((muB(init=2.3) * Variable1))), ((`0.0` ** muB(init=2.3)) * exp((muB(init=2.3) * `0.1`))), ((`0.5` ** muB(init=2.3)) * exp((muB(init=2.3) * `-0.1`))), ((`1.0` ** muB(init=2.3)) * exp((muB(init=2.3) * `-0.2`))), ((`1.0` ** muB(init=2.3)) * exp((muB(init=2.3) * `0.2`)))) ** ((`1.0` / muB(init=2.3)) - `1.0`)))) == `0.0`)],\n",
       " 2: {{1:`0.0`, 0:log(bioMultSum((((`1.0` ** muA(init=1.2)) * exp(((muA(init=1.2) - `1.0`) * `0.1`))) * (bioMultSum(((`1.0` ** muA(init=1.2)) * exp((muA(init=1.2) * Variable1))), ((`1.0` ** muA(init=1.2)) * exp((muA(init=1.2) * `0.1`))), ((`0.5` ** muA(init=1.2)) * exp((muA(init=1.2) * `-0.1`))), ((`0.0` ** muA(init=1.2)) * exp((muA(init=1.2) * `-0.2`))), ((`0.0` ** muA(init=1.2)) * exp((muA(init=1.2) * `0.2`)))) ** ((`1.0` / muA(init=1.2)) - `1.0`))), (((`0.0` ** muB(init=2.3)) * exp(((muB(init=2.3) - `1.0`) * `0.1`))) * (bioMultSum(((`0.0` ** muB(init=2.3)) * exp((muB(init=2.3) * Variable1))), ((`0.0` ** muB(init=2.3)) * exp((muB(init=2.3) * `0.1`))), ((`0.5` ** muB(init=2.3)) * exp((muB(init=2.3) * `-0.1`))), ((`1.0` ** muB(init=2.3)) * exp((muB(init=2.3) * `-0.2`))), ((`1.0` ** muB(init=2.3)) * exp((muB(init=2.3) * `0.2`)))) ** ((`1.0` / muB(init=2.3)) - `1.0`)))))}[(bioMultSum((((`1.0` ** muA(init=1.2)) * exp(((muA(init=1.2) - `1.0`) * `0.1`))) * (bioMultSum(((`1.0` ** muA(init=1.2)) * exp((muA(init=1.2) * Variable1))), ((`1.0` ** muA(init=1.2)) * exp((muA(init=1.2) * `0.1`))), ((`0.5` ** muA(init=1.2)) * exp((muA(init=1.2) * `-0.1`))), ((`0.0` ** muA(init=1.2)) * exp((muA(init=1.2) * `-0.2`))), ((`0.0` ** muA(init=1.2)) * exp((muA(init=1.2) * `0.2`)))) ** ((`1.0` / muA(init=1.2)) - `1.0`))), (((`0.0` ** muB(init=2.3)) * exp(((muB(init=2.3) - `1.0`) * `0.1`))) * (bioMultSum(((`0.0` ** muB(init=2.3)) * exp((muB(init=2.3) * Variable1))), ((`0.0` ** muB(init=2.3)) * exp((muB(init=2.3) * `0.1`))), ((`0.5` ** muB(init=2.3)) * exp((muB(init=2.3) * `-0.1`))), ((`1.0` ** muB(init=2.3)) * exp((muB(init=2.3) * `-0.2`))), ((`1.0` ** muB(init=2.3)) * exp((muB(init=2.3) * `0.2`)))) ** ((`1.0` / muB(init=2.3)) - `1.0`)))) == `0.0`)],\n",
       " 3: {{1:`0.0`, 0:log(bioMultSum((((`0.5` ** muA(init=1.2)) * exp(((muA(init=1.2) - `1.0`) * `-0.1`))) * (bioMultSum(((`1.0` ** muA(init=1.2)) * exp((muA(init=1.2) * Variable1))), ((`1.0` ** muA(init=1.2)) * exp((muA(init=1.2) * `0.1`))), ((`0.5` ** muA(init=1.2)) * exp((muA(init=1.2) * `-0.1`))), ((`0.0` ** muA(init=1.2)) * exp((muA(init=1.2) * `-0.2`))), ((`0.0` ** muA(init=1.2)) * exp((muA(init=1.2) * `0.2`)))) ** ((`1.0` / muA(init=1.2)) - `1.0`))), (((`0.5` ** muB(init=2.3)) * exp(((muB(init=2.3) - `1.0`) * `-0.1`))) * (bioMultSum(((`0.0` ** muB(init=2.3)) * exp((muB(init=2.3) * Variable1))), ((`0.0` ** muB(init=2.3)) * exp((muB(init=2.3) * `0.1`))), ((`0.5` ** muB(init=2.3)) * exp((muB(init=2.3) * `-0.1`))), ((`1.0` ** muB(init=2.3)) * exp((muB(init=2.3) * `-0.2`))), ((`1.0` ** muB(init=2.3)) * exp((muB(init=2.3) * `0.2`)))) ** ((`1.0` / muB(init=2.3)) - `1.0`)))))}[(bioMultSum((((`0.5` ** muA(init=1.2)) * exp(((muA(init=1.2) - `1.0`) * `-0.1`))) * (bioMultSum(((`1.0` ** muA(init=1.2)) * exp((muA(init=1.2) * Variable1))), ((`1.0` ** muA(init=1.2)) * exp((muA(init=1.2) * `0.1`))), ((`0.5` ** muA(init=1.2)) * exp((muA(init=1.2) * `-0.1`))), ((`0.0` ** muA(init=1.2)) * exp((muA(init=1.2) * `-0.2`))), ((`0.0` ** muA(init=1.2)) * exp((muA(init=1.2) * `0.2`)))) ** ((`1.0` / muA(init=1.2)) - `1.0`))), (((`0.5` ** muB(init=2.3)) * exp(((muB(init=2.3) - `1.0`) * `-0.1`))) * (bioMultSum(((`0.0` ** muB(init=2.3)) * exp((muB(init=2.3) * Variable1))), ((`0.0` ** muB(init=2.3)) * exp((muB(init=2.3) * `0.1`))), ((`0.5` ** muB(init=2.3)) * exp((muB(init=2.3) * `-0.1`))), ((`1.0` ** muB(init=2.3)) * exp((muB(init=2.3) * `-0.2`))), ((`1.0` ** muB(init=2.3)) * exp((muB(init=2.3) * `0.2`)))) ** ((`1.0` / muB(init=2.3)) - `1.0`)))) == `0.0`)],\n",
       " 4: {{1:`0.0`, 0:log(bioMultSum((((`0.0` ** muA(init=1.2)) * exp(((muA(init=1.2) - `1.0`) * `-0.2`))) * (bioMultSum(((`1.0` ** muA(init=1.2)) * exp((muA(init=1.2) * Variable1))), ((`1.0` ** muA(init=1.2)) * exp((muA(init=1.2) * `0.1`))), ((`0.5` ** muA(init=1.2)) * exp((muA(init=1.2) * `-0.1`))), ((`0.0` ** muA(init=1.2)) * exp((muA(init=1.2) * `-0.2`))), ((`0.0` ** muA(init=1.2)) * exp((muA(init=1.2) * `0.2`)))) ** ((`1.0` / muA(init=1.2)) - `1.0`))), (((`1.0` ** muB(init=2.3)) * exp(((muB(init=2.3) - `1.0`) * `-0.2`))) * (bioMultSum(((`0.0` ** muB(init=2.3)) * exp((muB(init=2.3) * Variable1))), ((`0.0` ** muB(init=2.3)) * exp((muB(init=2.3) * `0.1`))), ((`0.5` ** muB(init=2.3)) * exp((muB(init=2.3) * `-0.1`))), ((`1.0` ** muB(init=2.3)) * exp((muB(init=2.3) * `-0.2`))), ((`1.0` ** muB(init=2.3)) * exp((muB(init=2.3) * `0.2`)))) ** ((`1.0` / muB(init=2.3)) - `1.0`)))))}[(bioMultSum((((`0.0` ** muA(init=1.2)) * exp(((muA(init=1.2) - `1.0`) * `-0.2`))) * (bioMultSum(((`1.0` ** muA(init=1.2)) * exp((muA(init=1.2) * Variable1))), ((`1.0` ** muA(init=1.2)) * exp((muA(init=1.2) * `0.1`))), ((`0.5` ** muA(init=1.2)) * exp((muA(init=1.2) * `-0.1`))), ((`0.0` ** muA(init=1.2)) * exp((muA(init=1.2) * `-0.2`))), ((`0.0` ** muA(init=1.2)) * exp((muA(init=1.2) * `0.2`)))) ** ((`1.0` / muA(init=1.2)) - `1.0`))), (((`1.0` ** muB(init=2.3)) * exp(((muB(init=2.3) - `1.0`) * `-0.2`))) * (bioMultSum(((`0.0` ** muB(init=2.3)) * exp((muB(init=2.3) * Variable1))), ((`0.0` ** muB(init=2.3)) * exp((muB(init=2.3) * `0.1`))), ((`0.5` ** muB(init=2.3)) * exp((muB(init=2.3) * `-0.1`))), ((`1.0` ** muB(init=2.3)) * exp((muB(init=2.3) * `-0.2`))), ((`1.0` ** muB(init=2.3)) * exp((muB(init=2.3) * `0.2`)))) ** ((`1.0` / muB(init=2.3)) - `1.0`)))) == `0.0`)],\n",
       " 5: {{1:`0.0`, 0:log(bioMultSum((((`0.0` ** muA(init=1.2)) * exp(((muA(init=1.2) - `1.0`) * `0.2`))) * (bioMultSum(((`1.0` ** muA(init=1.2)) * exp((muA(init=1.2) * Variable1))), ((`1.0` ** muA(init=1.2)) * exp((muA(init=1.2) * `0.1`))), ((`0.5` ** muA(init=1.2)) * exp((muA(init=1.2) * `-0.1`))), ((`0.0` ** muA(init=1.2)) * exp((muA(init=1.2) * `-0.2`))), ((`0.0` ** muA(init=1.2)) * exp((muA(init=1.2) * `0.2`)))) ** ((`1.0` / muA(init=1.2)) - `1.0`))), (((`1.0` ** muB(init=2.3)) * exp(((muB(init=2.3) - `1.0`) * `0.2`))) * (bioMultSum(((`0.0` ** muB(init=2.3)) * exp((muB(init=2.3) * Variable1))), ((`0.0` ** muB(init=2.3)) * exp((muB(init=2.3) * `0.1`))), ((`0.5` ** muB(init=2.3)) * exp((muB(init=2.3) * `-0.1`))), ((`1.0` ** muB(init=2.3)) * exp((muB(init=2.3) * `-0.2`))), ((`1.0` ** muB(init=2.3)) * exp((muB(init=2.3) * `0.2`)))) ** ((`1.0` / muB(init=2.3)) - `1.0`)))))}[(bioMultSum((((`0.0` ** muA(init=1.2)) * exp(((muA(init=1.2) - `1.0`) * `0.2`))) * (bioMultSum(((`1.0` ** muA(init=1.2)) * exp((muA(init=1.2) * Variable1))), ((`1.0` ** muA(init=1.2)) * exp((muA(init=1.2) * `0.1`))), ((`0.5` ** muA(init=1.2)) * exp((muA(init=1.2) * `-0.1`))), ((`0.0` ** muA(init=1.2)) * exp((muA(init=1.2) * `-0.2`))), ((`0.0` ** muA(init=1.2)) * exp((muA(init=1.2) * `0.2`)))) ** ((`1.0` / muA(init=1.2)) - `1.0`))), (((`1.0` ** muB(init=2.3)) * exp(((muB(init=2.3) - `1.0`) * `0.2`))) * (bioMultSum(((`0.0` ** muB(init=2.3)) * exp((muB(init=2.3) * Variable1))), ((`0.0` ** muB(init=2.3)) * exp((muB(init=2.3) * `0.1`))), ((`0.5` ** muB(init=2.3)) * exp((muB(init=2.3) * `-0.1`))), ((`1.0` ** muB(init=2.3)) * exp((muB(init=2.3) * `-0.2`))), ((`1.0` ** muB(init=2.3)) * exp((muB(init=2.3) * `0.2`)))) ** ((`1.0` / muB(init=2.3)) - `1.0`)))) == `0.0`)]}"
      ]
     },
     "execution_count": 60,
     "metadata": {},
     "output_type": "execute_result"
    }
   ],
   "source": [
    "logGi = models.getMevForCrossNested(V,\n",
    "                                    availability=None,\n",
    "                                    nests=(nestA, nestB))\n",
    "logGi"
   ]
  },
  {
   "cell_type": "markdown",
   "metadata": {},
   "source": [
    "Cross nested logit model with $\\mu$ parameter"
   ]
  },
  {
   "cell_type": "code",
   "execution_count": 61,
   "metadata": {
    "execution": {
     "iopub.execute_input": "2023-08-04T16:40:48.035949Z",
     "iopub.status.busy": "2023-08-04T16:40:48.035890Z",
     "iopub.status.idle": "2023-08-04T16:40:48.038258Z",
     "shell.execute_reply": "2023-08-04T16:40:48.038067Z"
    }
   },
   "outputs": [
    {
     "data": {
      "text/plain": [
       "{1: log((`1.1` * bioMultSum((((`1.0` ** (muA(init=1.2) / `1.1`)) * exp(((muA(init=1.2) - `1.0`) * Variable1))) * (bioMultSum(((`1.0` ** (muA(init=1.2) / `1.1`)) * exp((muA(init=1.2) * Variable1))), ((`1.0` ** (muA(init=1.2) / `1.1`)) * exp((muA(init=1.2) * `0.1`))), ((`0.5` ** (muA(init=1.2) / `1.1`)) * exp((muA(init=1.2) * `-0.1`))), ((`0.0` ** (muA(init=1.2) / `1.1`)) * exp((muA(init=1.2) * `-0.2`))), ((`0.0` ** (muA(init=1.2) / `1.1`)) * exp((muA(init=1.2) * `0.2`)))) ** ((`1.1` / muA(init=1.2)) - `1.0`))), (((`0.0` ** (muB(init=2.3) / `1.1`)) * exp(((muB(init=2.3) - `1.0`) * Variable1))) * (bioMultSum(((`0.0` ** (muB(init=2.3) / `1.1`)) * exp((muB(init=2.3) * Variable1))), ((`0.0` ** (muB(init=2.3) / `1.1`)) * exp((muB(init=2.3) * `0.1`))), ((`0.5` ** (muB(init=2.3) / `1.1`)) * exp((muB(init=2.3) * `-0.1`))), ((`1.0` ** (muB(init=2.3) / `1.1`)) * exp((muB(init=2.3) * `-0.2`))), ((`1.0` ** (muB(init=2.3) / `1.1`)) * exp((muB(init=2.3) * `0.2`)))) ** ((`1.1` / muB(init=2.3)) - `1.0`)))))),\n",
       " 2: log((`1.1` * bioMultSum((((`1.0` ** (muA(init=1.2) / `1.1`)) * exp(((muA(init=1.2) - `1.0`) * `0.1`))) * (bioMultSum(((`1.0` ** (muA(init=1.2) / `1.1`)) * exp((muA(init=1.2) * Variable1))), ((`1.0` ** (muA(init=1.2) / `1.1`)) * exp((muA(init=1.2) * `0.1`))), ((`0.5` ** (muA(init=1.2) / `1.1`)) * exp((muA(init=1.2) * `-0.1`))), ((`0.0` ** (muA(init=1.2) / `1.1`)) * exp((muA(init=1.2) * `-0.2`))), ((`0.0` ** (muA(init=1.2) / `1.1`)) * exp((muA(init=1.2) * `0.2`)))) ** ((`1.1` / muA(init=1.2)) - `1.0`))), (((`0.0` ** (muB(init=2.3) / `1.1`)) * exp(((muB(init=2.3) - `1.0`) * `0.1`))) * (bioMultSum(((`0.0` ** (muB(init=2.3) / `1.1`)) * exp((muB(init=2.3) * Variable1))), ((`0.0` ** (muB(init=2.3) / `1.1`)) * exp((muB(init=2.3) * `0.1`))), ((`0.5` ** (muB(init=2.3) / `1.1`)) * exp((muB(init=2.3) * `-0.1`))), ((`1.0` ** (muB(init=2.3) / `1.1`)) * exp((muB(init=2.3) * `-0.2`))), ((`1.0` ** (muB(init=2.3) / `1.1`)) * exp((muB(init=2.3) * `0.2`)))) ** ((`1.1` / muB(init=2.3)) - `1.0`)))))),\n",
       " 3: log((`1.1` * bioMultSum((((`0.5` ** (muA(init=1.2) / `1.1`)) * exp(((muA(init=1.2) - `1.0`) * `-0.1`))) * (bioMultSum(((`1.0` ** (muA(init=1.2) / `1.1`)) * exp((muA(init=1.2) * Variable1))), ((`1.0` ** (muA(init=1.2) / `1.1`)) * exp((muA(init=1.2) * `0.1`))), ((`0.5` ** (muA(init=1.2) / `1.1`)) * exp((muA(init=1.2) * `-0.1`))), ((`0.0` ** (muA(init=1.2) / `1.1`)) * exp((muA(init=1.2) * `-0.2`))), ((`0.0` ** (muA(init=1.2) / `1.1`)) * exp((muA(init=1.2) * `0.2`)))) ** ((`1.1` / muA(init=1.2)) - `1.0`))), (((`0.5` ** (muB(init=2.3) / `1.1`)) * exp(((muB(init=2.3) - `1.0`) * `-0.1`))) * (bioMultSum(((`0.0` ** (muB(init=2.3) / `1.1`)) * exp((muB(init=2.3) * Variable1))), ((`0.0` ** (muB(init=2.3) / `1.1`)) * exp((muB(init=2.3) * `0.1`))), ((`0.5` ** (muB(init=2.3) / `1.1`)) * exp((muB(init=2.3) * `-0.1`))), ((`1.0` ** (muB(init=2.3) / `1.1`)) * exp((muB(init=2.3) * `-0.2`))), ((`1.0` ** (muB(init=2.3) / `1.1`)) * exp((muB(init=2.3) * `0.2`)))) ** ((`1.1` / muB(init=2.3)) - `1.0`)))))),\n",
       " 4: log((`1.1` * bioMultSum((((`0.0` ** (muA(init=1.2) / `1.1`)) * exp(((muA(init=1.2) - `1.0`) * `-0.2`))) * (bioMultSum(((`1.0` ** (muA(init=1.2) / `1.1`)) * exp((muA(init=1.2) * Variable1))), ((`1.0` ** (muA(init=1.2) / `1.1`)) * exp((muA(init=1.2) * `0.1`))), ((`0.5` ** (muA(init=1.2) / `1.1`)) * exp((muA(init=1.2) * `-0.1`))), ((`0.0` ** (muA(init=1.2) / `1.1`)) * exp((muA(init=1.2) * `-0.2`))), ((`0.0` ** (muA(init=1.2) / `1.1`)) * exp((muA(init=1.2) * `0.2`)))) ** ((`1.1` / muA(init=1.2)) - `1.0`))), (((`1.0` ** (muB(init=2.3) / `1.1`)) * exp(((muB(init=2.3) - `1.0`) * `-0.2`))) * (bioMultSum(((`0.0` ** (muB(init=2.3) / `1.1`)) * exp((muB(init=2.3) * Variable1))), ((`0.0` ** (muB(init=2.3) / `1.1`)) * exp((muB(init=2.3) * `0.1`))), ((`0.5` ** (muB(init=2.3) / `1.1`)) * exp((muB(init=2.3) * `-0.1`))), ((`1.0` ** (muB(init=2.3) / `1.1`)) * exp((muB(init=2.3) * `-0.2`))), ((`1.0` ** (muB(init=2.3) / `1.1`)) * exp((muB(init=2.3) * `0.2`)))) ** ((`1.1` / muB(init=2.3)) - `1.0`)))))),\n",
       " 5: log((`1.1` * bioMultSum((((`0.0` ** (muA(init=1.2) / `1.1`)) * exp(((muA(init=1.2) - `1.0`) * `0.2`))) * (bioMultSum(((`1.0` ** (muA(init=1.2) / `1.1`)) * exp((muA(init=1.2) * Variable1))), ((`1.0` ** (muA(init=1.2) / `1.1`)) * exp((muA(init=1.2) * `0.1`))), ((`0.5` ** (muA(init=1.2) / `1.1`)) * exp((muA(init=1.2) * `-0.1`))), ((`0.0` ** (muA(init=1.2) / `1.1`)) * exp((muA(init=1.2) * `-0.2`))), ((`0.0` ** (muA(init=1.2) / `1.1`)) * exp((muA(init=1.2) * `0.2`)))) ** ((`1.1` / muA(init=1.2)) - `1.0`))), (((`1.0` ** (muB(init=2.3) / `1.1`)) * exp(((muB(init=2.3) - `1.0`) * `0.2`))) * (bioMultSum(((`0.0` ** (muB(init=2.3) / `1.1`)) * exp((muB(init=2.3) * Variable1))), ((`0.0` ** (muB(init=2.3) / `1.1`)) * exp((muB(init=2.3) * `0.1`))), ((`0.5` ** (muB(init=2.3) / `1.1`)) * exp((muB(init=2.3) * `-0.1`))), ((`1.0` ** (muB(init=2.3) / `1.1`)) * exp((muB(init=2.3) * `-0.2`))), ((`1.0` ** (muB(init=2.3) / `1.1`)) * exp((muB(init=2.3) * `0.2`)))) ** ((`1.1` / muB(init=2.3)) - `1.0`))))))}"
      ]
     },
     "execution_count": 61,
     "metadata": {},
     "output_type": "execute_result"
    }
   ],
   "source": [
    "logGi = models.getMevForCrossNestedMu(V,\n",
    "                                      availability=None,\n",
    "                                      nests=(nestA, nestB),\n",
    "                                      mu=1.1)\n",
    "logGi"
   ]
  },
  {
   "cell_type": "code",
   "execution_count": null,
   "metadata": {},
   "outputs": [],
   "source": []
  }
 ],
 "metadata": {
  "kernelspec": {
   "display_name": "Python 3 (ipykernel)",
   "language": "python",
   "name": "python3"
  },
  "language_info": {
   "codemirror_mode": {
    "name": "ipython",
    "version": 3
   },
   "file_extension": ".py",
   "mimetype": "text/x-python",
   "name": "python",
   "nbconvert_exporter": "python",
   "pygments_lexer": "ipython3",
   "version": "3.11.3"
  }
 },
 "nbformat": 4,
 "nbformat_minor": 4
}
