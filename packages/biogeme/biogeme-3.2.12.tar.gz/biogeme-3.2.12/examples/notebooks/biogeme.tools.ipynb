{
 "cells": [
  {
   "cell_type": "markdown",
   "metadata": {},
   "source": [
    "# Module biogeme.tools"
   ]
  },
  {
   "cell_type": "markdown",
   "metadata": {},
   "source": [
    "## Examples of use of each function"
   ]
  },
  {
   "cell_type": "markdown",
   "metadata": {},
   "source": [
    "This webpage is for programmers who need examples of use of the functions of the class. The examples are designed to illustrate the syntax. They do not correspond to any meaningful model. For examples of models, visit  [biogeme.epfl.ch](http://biogeme.epfl.ch)."
   ]
  },
  {
   "cell_type": "code",
   "execution_count": 1,
   "metadata": {
    "execution": {
     "iopub.execute_input": "2023-08-04T16:42:01.976270Z",
     "iopub.status.busy": "2023-08-04T16:42:01.975914Z",
     "iopub.status.idle": "2023-08-04T16:42:01.986949Z",
     "shell.execute_reply": "2023-08-04T16:42:01.986428Z"
    }
   },
   "outputs": [
    {
     "name": "stdout",
     "output_type": "stream",
     "text": [
      "2023-08-04 18:42:01.984609\n"
     ]
    }
   ],
   "source": [
    "import datetime\n",
    "print(datetime.datetime.now())"
   ]
  },
  {
   "cell_type": "code",
   "execution_count": 2,
   "metadata": {
    "execution": {
     "iopub.execute_input": "2023-08-04T16:42:01.989710Z",
     "iopub.status.busy": "2023-08-04T16:42:01.989166Z",
     "iopub.status.idle": "2023-08-04T16:42:01.993743Z",
     "shell.execute_reply": "2023-08-04T16:42:01.993249Z"
    }
   },
   "outputs": [
    {
     "name": "stdout",
     "output_type": "stream",
     "text": [
      "biogeme 3.2.12 [2023-08-04]\n",
      "Home page: http://biogeme.epfl.ch\n",
      "Submit questions to https://groups.google.com/d/forum/biogeme\n",
      "Michel Bierlaire, Transport and Mobility Laboratory, Ecole Polytechnique Fédérale de Lausanne (EPFL)\n",
      "\n"
     ]
    }
   ],
   "source": [
    "import biogeme.version as ver\n",
    "print(ver.getText())"
   ]
  },
  {
   "cell_type": "code",
   "execution_count": 3,
   "metadata": {
    "execution": {
     "iopub.execute_input": "2023-08-04T16:42:01.996627Z",
     "iopub.status.busy": "2023-08-04T16:42:01.996311Z",
     "iopub.status.idle": "2023-08-04T16:42:02.203830Z",
     "shell.execute_reply": "2023-08-04T16:42:02.203129Z"
    }
   },
   "outputs": [],
   "source": [
    "import numpy as np\n",
    "import pandas as pd"
   ]
  },
  {
   "cell_type": "code",
   "execution_count": 4,
   "metadata": {
    "execution": {
     "iopub.execute_input": "2023-08-04T16:42:02.210845Z",
     "iopub.status.busy": "2023-08-04T16:42:02.210386Z",
     "iopub.status.idle": "2023-08-04T16:42:02.461373Z",
     "shell.execute_reply": "2023-08-04T16:42:02.460641Z"
    }
   },
   "outputs": [],
   "source": [
    "import biogeme.tools as tools\n",
    "import biogeme.logging as blog\n",
    "import biogeme.exceptions as excep"
   ]
  },
  {
   "cell_type": "code",
   "execution_count": 5,
   "metadata": {
    "execution": {
     "iopub.execute_input": "2023-08-04T16:42:02.464807Z",
     "iopub.status.busy": "2023-08-04T16:42:02.464555Z",
     "iopub.status.idle": "2023-08-04T16:42:02.468504Z",
     "shell.execute_reply": "2023-08-04T16:42:02.467764Z"
    }
   },
   "outputs": [],
   "source": [
    "logger = blog.get_screen_logger(level=blog.INFO)"
   ]
  },
  {
   "cell_type": "markdown",
   "metadata": {},
   "source": [
    "Define a function and its derivatives: $$f = \\log(x_0) + \\exp(x_1),$$ $$g = \\left( \\begin{array}{c} \\frac{1}{x_0} \\\\ \\exp(x_1)\\end{array}\\right),$$ $$h=\\left( \\begin{array}{cc} -\\frac{1}{x_0^2} & 0 \\\\ 0 & \\exp(x_1)\\end{array}\\right).$$"
   ]
  },
  {
   "cell_type": "code",
   "execution_count": 6,
   "metadata": {
    "execution": {
     "iopub.execute_input": "2023-08-04T16:42:02.471199Z",
     "iopub.status.busy": "2023-08-04T16:42:02.470937Z",
     "iopub.status.idle": "2023-08-04T16:42:02.477157Z",
     "shell.execute_reply": "2023-08-04T16:42:02.476427Z"
    }
   },
   "outputs": [],
   "source": [
    "def myFunction(x):\n",
    "    f = np.log(x[0]) + np.exp(x[1])\n",
    "    g = np.empty(2)\n",
    "    g[0] = 1.0 / x[0]\n",
    "    g[1] = np.exp(x[1])\n",
    "    H = np.empty((2, 2))\n",
    "    H[0,0] = - 1.0 / x[0]**2\n",
    "    H[0,1] = 0.0\n",
    "    H[1,0] = 0.0\n",
    "    H[1,1] = np.exp(x[1])\n",
    "    return f, g, H"
   ]
  },
  {
   "cell_type": "markdown",
   "metadata": {},
   "source": [
    "Evaluate the function at the point $$x = \\left( \\begin{array}{c}1 \\\\ 1 \\end{array}\\right).$$"
   ]
  },
  {
   "cell_type": "code",
   "execution_count": 7,
   "metadata": {
    "execution": {
     "iopub.execute_input": "2023-08-04T16:42:02.479951Z",
     "iopub.status.busy": "2023-08-04T16:42:02.479753Z",
     "iopub.status.idle": "2023-08-04T16:42:02.483478Z",
     "shell.execute_reply": "2023-08-04T16:42:02.482969Z"
    }
   },
   "outputs": [],
   "source": [
    "x = np.array([1.1, 1.1])\n",
    "f, g, H = myFunction(x)"
   ]
  },
  {
   "cell_type": "code",
   "execution_count": 8,
   "metadata": {
    "execution": {
     "iopub.execute_input": "2023-08-04T16:42:02.486119Z",
     "iopub.status.busy": "2023-08-04T16:42:02.485931Z",
     "iopub.status.idle": "2023-08-04T16:42:02.495124Z",
     "shell.execute_reply": "2023-08-04T16:42:02.494525Z"
    }
   },
   "outputs": [
    {
     "data": {
      "text/plain": [
       "3.099476203750758"
      ]
     },
     "execution_count": 8,
     "metadata": {},
     "output_type": "execute_result"
    }
   ],
   "source": [
    "f"
   ]
  },
  {
   "cell_type": "code",
   "execution_count": 9,
   "metadata": {
    "execution": {
     "iopub.execute_input": "2023-08-04T16:42:02.498457Z",
     "iopub.status.busy": "2023-08-04T16:42:02.497905Z",
     "iopub.status.idle": "2023-08-04T16:42:02.501663Z",
     "shell.execute_reply": "2023-08-04T16:42:02.500977Z"
    }
   },
   "outputs": [
    {
     "data": {
      "text/plain": [
       "array([0.90909091, 3.00416602])"
      ]
     },
     "execution_count": 9,
     "metadata": {},
     "output_type": "execute_result"
    }
   ],
   "source": [
    "g"
   ]
  },
  {
   "cell_type": "code",
   "execution_count": 10,
   "metadata": {
    "execution": {
     "iopub.execute_input": "2023-08-04T16:42:02.502783Z",
     "iopub.status.busy": "2023-08-04T16:42:02.502714Z",
     "iopub.status.idle": "2023-08-04T16:42:02.504615Z",
     "shell.execute_reply": "2023-08-04T16:42:02.504384Z"
    }
   },
   "outputs": [
    {
     "data": {
      "text/plain": [
       "array([[-0.82644628,  0.        ],\n",
       "       [ 0.        ,  3.00416602]])"
      ]
     },
     "execution_count": 10,
     "metadata": {},
     "output_type": "execute_result"
    }
   ],
   "source": [
    "H"
   ]
  },
  {
   "cell_type": "markdown",
   "metadata": {},
   "source": [
    "Calculates an approximation of the gradient by finite differences."
   ]
  },
  {
   "cell_type": "code",
   "execution_count": 11,
   "metadata": {
    "execution": {
     "iopub.execute_input": "2023-08-04T16:42:02.505527Z",
     "iopub.status.busy": "2023-08-04T16:42:02.505462Z",
     "iopub.status.idle": "2023-08-04T16:42:02.506909Z",
     "shell.execute_reply": "2023-08-04T16:42:02.506688Z"
    }
   },
   "outputs": [],
   "source": [
    "g_fd = tools.findiff_g(myFunction, x)"
   ]
  },
  {
   "cell_type": "code",
   "execution_count": 12,
   "metadata": {
    "execution": {
     "iopub.execute_input": "2023-08-04T16:42:02.507857Z",
     "iopub.status.busy": "2023-08-04T16:42:02.507780Z",
     "iopub.status.idle": "2023-08-04T16:42:02.509567Z",
     "shell.execute_reply": "2023-08-04T16:42:02.509348Z"
    }
   },
   "outputs": [
    {
     "data": {
      "text/plain": [
       "array([0.90909087, 3.00416619])"
      ]
     },
     "execution_count": 12,
     "metadata": {},
     "output_type": "execute_result"
    }
   ],
   "source": [
    "g_fd"
   ]
  },
  {
   "cell_type": "markdown",
   "metadata": {},
   "source": [
    "Check the precision of the approximation"
   ]
  },
  {
   "cell_type": "code",
   "execution_count": 13,
   "metadata": {
    "execution": {
     "iopub.execute_input": "2023-08-04T16:42:02.510467Z",
     "iopub.status.busy": "2023-08-04T16:42:02.510404Z",
     "iopub.status.idle": "2023-08-04T16:42:02.512285Z",
     "shell.execute_reply": "2023-08-04T16:42:02.512067Z"
    }
   },
   "outputs": [
    {
     "data": {
      "text/plain": [
       "array([ 4.18595454e-08, -1.64594663e-07])"
      ]
     },
     "execution_count": 13,
     "metadata": {},
     "output_type": "execute_result"
    }
   ],
   "source": [
    "g - g_fd"
   ]
  },
  {
   "cell_type": "markdown",
   "metadata": {},
   "source": [
    "Calculates an approximation of the Hessian by finite differences."
   ]
  },
  {
   "cell_type": "code",
   "execution_count": 14,
   "metadata": {
    "execution": {
     "iopub.execute_input": "2023-08-04T16:42:02.513284Z",
     "iopub.status.busy": "2023-08-04T16:42:02.513220Z",
     "iopub.status.idle": "2023-08-04T16:42:02.514742Z",
     "shell.execute_reply": "2023-08-04T16:42:02.514513Z"
    }
   },
   "outputs": [],
   "source": [
    "H_fd = tools.findiff_H(myFunction, x)"
   ]
  },
  {
   "cell_type": "code",
   "execution_count": 15,
   "metadata": {
    "execution": {
     "iopub.execute_input": "2023-08-04T16:42:02.515645Z",
     "iopub.status.busy": "2023-08-04T16:42:02.515550Z",
     "iopub.status.idle": "2023-08-04T16:42:02.517400Z",
     "shell.execute_reply": "2023-08-04T16:42:02.517200Z"
    }
   },
   "outputs": [
    {
     "data": {
      "text/plain": [
       "array([[-0.8264462 ,  0.        ],\n",
       "       [ 0.        ,  3.00416619]])"
      ]
     },
     "execution_count": 15,
     "metadata": {},
     "output_type": "execute_result"
    }
   ],
   "source": [
    "H_fd"
   ]
  },
  {
   "cell_type": "markdown",
   "metadata": {},
   "source": [
    "Check the precision of the approximation"
   ]
  },
  {
   "cell_type": "code",
   "execution_count": 16,
   "metadata": {
    "execution": {
     "iopub.execute_input": "2023-08-04T16:42:02.518368Z",
     "iopub.status.busy": "2023-08-04T16:42:02.518292Z",
     "iopub.status.idle": "2023-08-04T16:42:02.520078Z",
     "shell.execute_reply": "2023-08-04T16:42:02.519864Z"
    }
   },
   "outputs": [
    {
     "data": {
      "text/plain": [
       "array([[-8.26465610e-08,  0.00000000e+00],\n",
       "       [ 0.00000000e+00, -1.64594663e-07]])"
      ]
     },
     "execution_count": 16,
     "metadata": {},
     "output_type": "execute_result"
    }
   ],
   "source": [
    "H - H_fd"
   ]
  },
  {
   "cell_type": "markdown",
   "metadata": {},
   "source": [
    "There is a function that checks the analytical derivatives by comparing them to their finite difference approximation."
   ]
  },
  {
   "cell_type": "code",
   "execution_count": 17,
   "metadata": {
    "execution": {
     "iopub.execute_input": "2023-08-04T16:42:02.521080Z",
     "iopub.status.busy": "2023-08-04T16:42:02.521010Z",
     "iopub.status.idle": "2023-08-04T16:42:02.523912Z",
     "shell.execute_reply": "2023-08-04T16:42:02.523718Z"
    }
   },
   "outputs": [
    {
     "name": "stderr",
     "output_type": "stream",
     "text": [
      "x\t\tGradient\tFinDiff\t\tDifference \n"
     ]
    },
    {
     "name": "stderr",
     "output_type": "stream",
     "text": [
      "x[0]           \t+9.090909E-01\t+9.090909E-01\t+4.185955E-08 \n"
     ]
    },
    {
     "name": "stderr",
     "output_type": "stream",
     "text": [
      "x[1]           \t+3.004166E+00\t+3.004166E+00\t-1.645947E-07 \n"
     ]
    },
    {
     "name": "stderr",
     "output_type": "stream",
     "text": [
      "Row\t\tCol\t\tHessian\tFinDiff\t\tDifference \n"
     ]
    },
    {
     "name": "stderr",
     "output_type": "stream",
     "text": [
      "x[0]           \tx[0]           \t-8.264463E-01\t-8.264462E-01\t-8.264656E-08 \n"
     ]
    },
    {
     "name": "stderr",
     "output_type": "stream",
     "text": [
      "x[0]           \tx[1]           \t+0.000000E+00\t+0.000000E+00\t+0.000000E+00 \n"
     ]
    },
    {
     "name": "stderr",
     "output_type": "stream",
     "text": [
      "x[1]           \tx[0]           \t+0.000000E+00\t+0.000000E+00\t+0.000000E+00 \n"
     ]
    },
    {
     "name": "stderr",
     "output_type": "stream",
     "text": [
      "x[1]           \tx[1]           \t+3.004166E+00\t+3.004166E+00\t-1.645947E-07 \n"
     ]
    }
   ],
   "source": [
    "f, g, h, gdiff, hdiff = \\\n",
    "    tools.checkDerivatives(myFunction, x, names=None, logg=True)"
   ]
  },
  {
   "cell_type": "markdown",
   "metadata": {},
   "source": [
    "To help reading the reporting, it is possible to give names to variables."
   ]
  },
  {
   "cell_type": "code",
   "execution_count": 18,
   "metadata": {
    "execution": {
     "iopub.execute_input": "2023-08-04T16:42:02.524987Z",
     "iopub.status.busy": "2023-08-04T16:42:02.524894Z",
     "iopub.status.idle": "2023-08-04T16:42:02.527679Z",
     "shell.execute_reply": "2023-08-04T16:42:02.527474Z"
    }
   },
   "outputs": [
    {
     "name": "stderr",
     "output_type": "stream",
     "text": [
      "x\t\tGradient\tFinDiff\t\tDifference \n"
     ]
    },
    {
     "name": "stderr",
     "output_type": "stream",
     "text": [
      "First          \t+9.090909E-01\t+9.090909E-01\t+4.185955E-08 \n"
     ]
    },
    {
     "name": "stderr",
     "output_type": "stream",
     "text": [
      "Second         \t+3.004166E+00\t+3.004166E+00\t-1.645947E-07 \n"
     ]
    },
    {
     "name": "stderr",
     "output_type": "stream",
     "text": [
      "Row\t\tCol\t\tHessian\tFinDiff\t\tDifference \n"
     ]
    },
    {
     "name": "stderr",
     "output_type": "stream",
     "text": [
      "First          \tFirst          \t-8.264463E-01\t-8.264462E-01\t-8.264656E-08 \n"
     ]
    },
    {
     "name": "stderr",
     "output_type": "stream",
     "text": [
      "First          \tSecond         \t+0.000000E+00\t+0.000000E+00\t+0.000000E+00 \n"
     ]
    },
    {
     "name": "stderr",
     "output_type": "stream",
     "text": [
      "Second         \tFirst          \t+0.000000E+00\t+0.000000E+00\t+0.000000E+00 \n"
     ]
    },
    {
     "name": "stderr",
     "output_type": "stream",
     "text": [
      "Second         \tSecond         \t+3.004166E+00\t+3.004166E+00\t-1.645947E-07 \n"
     ]
    }
   ],
   "source": [
    "f, g, h, gdiff, hdiff = tools.checkDerivatives(myFunction,\n",
    "                                               x,\n",
    "                                               names=['First',\n",
    "                                                      'Second'],\n",
    "                                               logg=True)"
   ]
  },
  {
   "cell_type": "code",
   "execution_count": 19,
   "metadata": {
    "execution": {
     "iopub.execute_input": "2023-08-04T16:42:02.528761Z",
     "iopub.status.busy": "2023-08-04T16:42:02.528636Z",
     "iopub.status.idle": "2023-08-04T16:42:02.530398Z",
     "shell.execute_reply": "2023-08-04T16:42:02.530189Z"
    }
   },
   "outputs": [
    {
     "data": {
      "text/plain": [
       "array([ 4.18595454e-08, -1.64594663e-07])"
      ]
     },
     "execution_count": 19,
     "metadata": {},
     "output_type": "execute_result"
    }
   ],
   "source": [
    "gdiff"
   ]
  },
  {
   "cell_type": "code",
   "execution_count": 20,
   "metadata": {
    "execution": {
     "iopub.execute_input": "2023-08-04T16:42:02.531272Z",
     "iopub.status.busy": "2023-08-04T16:42:02.531214Z",
     "iopub.status.idle": "2023-08-04T16:42:02.533141Z",
     "shell.execute_reply": "2023-08-04T16:42:02.532947Z"
    }
   },
   "outputs": [
    {
     "data": {
      "text/plain": [
       "array([[-8.26465610e-08,  0.00000000e+00],\n",
       "       [ 0.00000000e+00, -1.64594663e-07]])"
      ]
     },
     "execution_count": 20,
     "metadata": {},
     "output_type": "execute_result"
    }
   ],
   "source": [
    "hdiff"
   ]
  },
  {
   "cell_type": "markdown",
   "metadata": {},
   "source": [
    "# Prime numbers"
   ]
  },
  {
   "cell_type": "markdown",
   "metadata": {},
   "source": [
    "Calculate prime numbers lesser or equal to an upper bound"
   ]
  },
  {
   "cell_type": "code",
   "execution_count": 21,
   "metadata": {
    "execution": {
     "iopub.execute_input": "2023-08-04T16:42:02.534210Z",
     "iopub.status.busy": "2023-08-04T16:42:02.534149Z",
     "iopub.status.idle": "2023-08-04T16:42:02.535661Z",
     "shell.execute_reply": "2023-08-04T16:42:02.535396Z"
    }
   },
   "outputs": [],
   "source": [
    "myprimes = tools.calculate_prime_numbers(10)"
   ]
  },
  {
   "cell_type": "code",
   "execution_count": 22,
   "metadata": {
    "execution": {
     "iopub.execute_input": "2023-08-04T16:42:02.536543Z",
     "iopub.status.busy": "2023-08-04T16:42:02.536481Z",
     "iopub.status.idle": "2023-08-04T16:42:02.538271Z",
     "shell.execute_reply": "2023-08-04T16:42:02.538076Z"
    }
   },
   "outputs": [
    {
     "data": {
      "text/plain": [
       "[2, 3, 5, 7]"
      ]
     },
     "execution_count": 22,
     "metadata": {},
     "output_type": "execute_result"
    }
   ],
   "source": [
    "myprimes"
   ]
  },
  {
   "cell_type": "code",
   "execution_count": 23,
   "metadata": {
    "execution": {
     "iopub.execute_input": "2023-08-04T16:42:02.539203Z",
     "iopub.status.busy": "2023-08-04T16:42:02.539132Z",
     "iopub.status.idle": "2023-08-04T16:42:02.540517Z",
     "shell.execute_reply": "2023-08-04T16:42:02.540312Z"
    }
   },
   "outputs": [],
   "source": [
    "myprimes = tools.calculate_prime_numbers(100)"
   ]
  },
  {
   "cell_type": "code",
   "execution_count": 24,
   "metadata": {
    "execution": {
     "iopub.execute_input": "2023-08-04T16:42:02.541396Z",
     "iopub.status.busy": "2023-08-04T16:42:02.541332Z",
     "iopub.status.idle": "2023-08-04T16:42:02.543200Z",
     "shell.execute_reply": "2023-08-04T16:42:02.542992Z"
    }
   },
   "outputs": [
    {
     "data": {
      "text/plain": [
       "[2,\n",
       " 3,\n",
       " 5,\n",
       " 7,\n",
       " 11,\n",
       " 13,\n",
       " 17,\n",
       " 19,\n",
       " 23,\n",
       " 29,\n",
       " 31,\n",
       " 37,\n",
       " 41,\n",
       " 43,\n",
       " 47,\n",
       " 53,\n",
       " 59,\n",
       " 61,\n",
       " 67,\n",
       " 71,\n",
       " 73,\n",
       " 79,\n",
       " 83,\n",
       " 89,\n",
       " 97]"
      ]
     },
     "execution_count": 24,
     "metadata": {},
     "output_type": "execute_result"
    }
   ],
   "source": [
    "myprimes"
   ]
  },
  {
   "cell_type": "markdown",
   "metadata": {},
   "source": [
    "Calculate a given number of prime numbers"
   ]
  },
  {
   "cell_type": "code",
   "execution_count": 25,
   "metadata": {
    "execution": {
     "iopub.execute_input": "2023-08-04T16:42:02.544152Z",
     "iopub.status.busy": "2023-08-04T16:42:02.544093Z",
     "iopub.status.idle": "2023-08-04T16:42:02.545930Z",
     "shell.execute_reply": "2023-08-04T16:42:02.545690Z"
    }
   },
   "outputs": [
    {
     "data": {
      "text/plain": [
       "[2, 3, 5, 7, 11, 13, 17]"
      ]
     },
     "execution_count": 25,
     "metadata": {},
     "output_type": "execute_result"
    }
   ],
   "source": [
    "myprimes = tools.get_prime_numbers(7)\n",
    "myprimes"
   ]
  },
  {
   "cell_type": "markdown",
   "metadata": {},
   "source": [
    "# Counting groups of data"
   ]
  },
  {
   "cell_type": "code",
   "execution_count": 26,
   "metadata": {
    "execution": {
     "iopub.execute_input": "2023-08-04T16:42:02.546806Z",
     "iopub.status.busy": "2023-08-04T16:42:02.546737Z",
     "iopub.status.idle": "2023-08-04T16:42:02.548161Z",
     "shell.execute_reply": "2023-08-04T16:42:02.547955Z"
    }
   },
   "outputs": [],
   "source": [
    "alist = [1, 2, 2, 3, 3, 3, 4, 1, 1]"
   ]
  },
  {
   "cell_type": "code",
   "execution_count": 27,
   "metadata": {
    "execution": {
     "iopub.execute_input": "2023-08-04T16:42:02.549172Z",
     "iopub.status.busy": "2023-08-04T16:42:02.548989Z",
     "iopub.status.idle": "2023-08-04T16:42:02.551011Z",
     "shell.execute_reply": "2023-08-04T16:42:02.550803Z"
    }
   },
   "outputs": [],
   "source": [
    "df = pd.DataFrame({'ID': [1, 1, 2, 3, 3, 1, 2, 3], \n",
    "                   'value':[1000, \n",
    "                            2000, \n",
    "                            3000, \n",
    "                            4000, \n",
    "                            5000, \n",
    "                            5000, \n",
    "                            10000, \n",
    "                            20000]})"
   ]
  },
  {
   "cell_type": "code",
   "execution_count": 28,
   "metadata": {
    "execution": {
     "iopub.execute_input": "2023-08-04T16:42:02.551921Z",
     "iopub.status.busy": "2023-08-04T16:42:02.551862Z",
     "iopub.status.idle": "2023-08-04T16:42:02.554847Z",
     "shell.execute_reply": "2023-08-04T16:42:02.554577Z"
    }
   },
   "outputs": [
    {
     "data": {
      "text/plain": [
       "6"
      ]
     },
     "execution_count": 28,
     "metadata": {},
     "output_type": "execute_result"
    }
   ],
   "source": [
    "tools.countNumberOfGroups(df,'ID')"
   ]
  },
  {
   "cell_type": "code",
   "execution_count": 29,
   "metadata": {
    "execution": {
     "iopub.execute_input": "2023-08-04T16:42:02.555726Z",
     "iopub.status.busy": "2023-08-04T16:42:02.555665Z",
     "iopub.status.idle": "2023-08-04T16:42:02.557911Z",
     "shell.execute_reply": "2023-08-04T16:42:02.557694Z"
    }
   },
   "outputs": [
    {
     "data": {
      "text/plain": [
       "7"
      ]
     },
     "execution_count": 29,
     "metadata": {},
     "output_type": "execute_result"
    }
   ],
   "source": [
    "tools.countNumberOfGroups(df,'value')"
   ]
  },
  {
   "cell_type": "markdown",
   "metadata": {},
   "source": [
    "# Likelihood ratio test"
   ]
  },
  {
   "cell_type": "code",
   "execution_count": 30,
   "metadata": {
    "execution": {
     "iopub.execute_input": "2023-08-04T16:42:02.558865Z",
     "iopub.status.busy": "2023-08-04T16:42:02.558800Z",
     "iopub.status.idle": "2023-08-04T16:42:02.560202Z",
     "shell.execute_reply": "2023-08-04T16:42:02.559990Z"
    }
   },
   "outputs": [],
   "source": [
    "model1 = (-1340.8, 5)\n",
    "model2 = (-1338.49, 7)"
   ]
  },
  {
   "cell_type": "markdown",
   "metadata": {},
   "source": [
    "A likelihood ratio test is performed. The function returns the outcome of the test, the statistic, and the threshold. "
   ]
  },
  {
   "cell_type": "code",
   "execution_count": 31,
   "metadata": {
    "execution": {
     "iopub.execute_input": "2023-08-04T16:42:02.561105Z",
     "iopub.status.busy": "2023-08-04T16:42:02.561036Z",
     "iopub.status.idle": "2023-08-04T16:42:02.562938Z",
     "shell.execute_reply": "2023-08-04T16:42:02.562746Z"
    }
   },
   "outputs": [
    {
     "data": {
      "text/plain": [
       "LRTuple(message='H0 cannot be rejected at level 5.0%', statistic=4.619999999999891, threshold=5.991464547107979)"
      ]
     },
     "execution_count": 31,
     "metadata": {},
     "output_type": "execute_result"
    }
   ],
   "source": [
    "tools.likelihood_ratio_test(model1, model2)"
   ]
  },
  {
   "cell_type": "markdown",
   "metadata": {},
   "source": [
    "The default level of significance is 0.95. It can be changed. "
   ]
  },
  {
   "cell_type": "code",
   "execution_count": 32,
   "metadata": {
    "execution": {
     "iopub.execute_input": "2023-08-04T16:42:02.563859Z",
     "iopub.status.busy": "2023-08-04T16:42:02.563785Z",
     "iopub.status.idle": "2023-08-04T16:42:02.565659Z",
     "shell.execute_reply": "2023-08-04T16:42:02.565451Z"
    }
   },
   "outputs": [
    {
     "data": {
      "text/plain": [
       "LRTuple(message='H0 can be rejected at level 90.0%', statistic=4.619999999999891, threshold=0.21072103131565265)"
      ]
     },
     "execution_count": 32,
     "metadata": {},
     "output_type": "execute_result"
    }
   ],
   "source": [
    "tools.likelihood_ratio_test(model1, model2, significance_level=0.9)"
   ]
  },
  {
   "cell_type": "markdown",
   "metadata": {},
   "source": [
    "The order in which the models are presented is irrelevant"
   ]
  },
  {
   "cell_type": "code",
   "execution_count": 33,
   "metadata": {
    "execution": {
     "iopub.execute_input": "2023-08-04T16:42:02.566488Z",
     "iopub.status.busy": "2023-08-04T16:42:02.566432Z",
     "iopub.status.idle": "2023-08-04T16:42:02.568482Z",
     "shell.execute_reply": "2023-08-04T16:42:02.568271Z"
    }
   },
   "outputs": [
    {
     "data": {
      "text/plain": [
       "LRTuple(message='H0 cannot be rejected at level 5.0%', statistic=4.619999999999891, threshold=5.991464547107979)"
      ]
     },
     "execution_count": 33,
     "metadata": {},
     "output_type": "execute_result"
    }
   ],
   "source": [
    "tools.likelihood_ratio_test(model2, model1)"
   ]
  },
  {
   "cell_type": "markdown",
   "metadata": {},
   "source": [
    "But the unrestricted model must have a higher loglikelihood than the restricted one."
   ]
  },
  {
   "cell_type": "code",
   "execution_count": 34,
   "metadata": {
    "execution": {
     "iopub.execute_input": "2023-08-04T16:42:02.569357Z",
     "iopub.status.busy": "2023-08-04T16:42:02.569292Z",
     "iopub.status.idle": "2023-08-04T16:42:02.570822Z",
     "shell.execute_reply": "2023-08-04T16:42:02.570561Z"
    }
   },
   "outputs": [],
   "source": [
    "model1 = (-1340.8, 7)\n",
    "model2 = (-1338.49, 5)"
   ]
  },
  {
   "cell_type": "code",
   "execution_count": 35,
   "metadata": {
    "execution": {
     "iopub.execute_input": "2023-08-04T16:42:02.571785Z",
     "iopub.status.busy": "2023-08-04T16:42:02.571725Z",
     "iopub.status.idle": "2023-08-04T16:42:02.573331Z",
     "shell.execute_reply": "2023-08-04T16:42:02.573125Z"
    }
   },
   "outputs": [
    {
     "name": "stdout",
     "output_type": "stream",
     "text": [
      "The unrestricted model (-1340.8, 7) has a lower log likelihood than the restricted one (-1338.49, 5)\n"
     ]
    }
   ],
   "source": [
    "try:\n",
    "    tools.likelihood_ratio_test(model1, model2)\n",
    "except excep.BiogemeError as e:\n",
    "    print(e)"
   ]
  },
  {
   "cell_type": "code",
   "execution_count": null,
   "metadata": {},
   "outputs": [],
   "source": []
  },
  {
   "cell_type": "code",
   "execution_count": null,
   "metadata": {},
   "outputs": [],
   "source": []
  },
  {
   "cell_type": "code",
   "execution_count": null,
   "metadata": {},
   "outputs": [],
   "source": []
  },
  {
   "cell_type": "code",
   "execution_count": null,
   "metadata": {},
   "outputs": [],
   "source": []
  },
  {
   "cell_type": "code",
   "execution_count": null,
   "metadata": {},
   "outputs": [],
   "source": []
  }
 ],
 "metadata": {
  "kernelspec": {
   "display_name": "Python 3 (ipykernel)",
   "language": "python",
   "name": "python3"
  },
  "language_info": {
   "codemirror_mode": {
    "name": "ipython",
    "version": 3
   },
   "file_extension": ".py",
   "mimetype": "text/x-python",
   "name": "python",
   "nbconvert_exporter": "python",
   "pygments_lexer": "ipython3",
   "version": "3.11.3"
  }
 },
 "nbformat": 4,
 "nbformat_minor": 4
}
