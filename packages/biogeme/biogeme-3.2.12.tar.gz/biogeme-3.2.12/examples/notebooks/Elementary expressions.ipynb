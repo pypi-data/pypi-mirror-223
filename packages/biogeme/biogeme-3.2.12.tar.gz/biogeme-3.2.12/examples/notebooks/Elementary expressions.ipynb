{
 "cells": [
  {
   "cell_type": "code",
   "execution_count": 1,
   "id": "e272a6ed",
   "metadata": {
    "execution": {
     "iopub.execute_input": "2023-08-04T16:40:36.431334Z",
     "iopub.status.busy": "2023-08-04T16:40:36.430932Z",
     "iopub.status.idle": "2023-08-04T16:40:37.859488Z",
     "shell.execute_reply": "2023-08-04T16:40:37.859130Z"
    }
   },
   "outputs": [],
   "source": [
    "import numpy as np\n",
    "import pandas as pd\n",
    "import biogeme.expressions as ex\n",
    "import biogeme.exceptions as excep\n",
    "import biogeme.database as db"
   ]
  },
  {
   "cell_type": "markdown",
   "id": "3bb76776",
   "metadata": {},
   "source": [
    "# Simple expressions"
   ]
  },
  {
   "cell_type": "markdown",
   "id": "8e0eb213",
   "metadata": {},
   "source": [
    "Simple expressions can be calculated both with the functions `getValue`(implemented in Python) and the `getValue_c` (implemented in C++). They do not require a database."
   ]
  },
  {
   "cell_type": "code",
   "execution_count": 2,
   "id": "6b9ddb23",
   "metadata": {
    "execution": {
     "iopub.execute_input": "2023-08-04T16:40:37.861314Z",
     "iopub.status.busy": "2023-08-04T16:40:37.861162Z",
     "iopub.status.idle": "2023-08-04T16:40:37.863276Z",
     "shell.execute_reply": "2023-08-04T16:40:37.863009Z"
    }
   },
   "outputs": [],
   "source": [
    "x = ex.Beta('x', 2, None, None, 0)\n",
    "y = ex.Beta('y', 3, None, None, 0)\n",
    "one = ex.Numeric(1)"
   ]
  },
  {
   "cell_type": "markdown",
   "id": "0f68ebaf",
   "metadata": {},
   "source": [
    "## Addition"
   ]
  },
  {
   "cell_type": "code",
   "execution_count": 3,
   "id": "ee63f677",
   "metadata": {
    "execution": {
     "iopub.execute_input": "2023-08-04T16:40:37.864431Z",
     "iopub.status.busy": "2023-08-04T16:40:37.864331Z",
     "iopub.status.idle": "2023-08-04T16:40:37.867505Z",
     "shell.execute_reply": "2023-08-04T16:40:37.867210Z"
    }
   },
   "outputs": [
    {
     "data": {
      "text/plain": [
       "5"
      ]
     },
     "execution_count": 3,
     "metadata": {},
     "output_type": "execute_result"
    }
   ],
   "source": [
    "z = x + y\n",
    "z.getValue()"
   ]
  },
  {
   "cell_type": "code",
   "execution_count": 4,
   "id": "bfc72781",
   "metadata": {
    "execution": {
     "iopub.execute_input": "2023-08-04T16:40:37.868525Z",
     "iopub.status.busy": "2023-08-04T16:40:37.868440Z",
     "iopub.status.idle": "2023-08-04T16:40:37.870983Z",
     "shell.execute_reply": "2023-08-04T16:40:37.870736Z"
    }
   },
   "outputs": [
    {
     "data": {
      "text/plain": [
       "5.0"
      ]
     },
     "execution_count": 4,
     "metadata": {},
     "output_type": "execute_result"
    }
   ],
   "source": [
    "z.getValue_c(prepareIds=True)"
   ]
  },
  {
   "cell_type": "markdown",
   "id": "5c4e8a59",
   "metadata": {},
   "source": [
    "## Substraction"
   ]
  },
  {
   "cell_type": "code",
   "execution_count": 5,
   "id": "202f98fa",
   "metadata": {
    "execution": {
     "iopub.execute_input": "2023-08-04T16:40:37.872090Z",
     "iopub.status.busy": "2023-08-04T16:40:37.872017Z",
     "iopub.status.idle": "2023-08-04T16:40:37.873965Z",
     "shell.execute_reply": "2023-08-04T16:40:37.873697Z"
    }
   },
   "outputs": [
    {
     "data": {
      "text/plain": [
       "-1"
      ]
     },
     "execution_count": 5,
     "metadata": {},
     "output_type": "execute_result"
    }
   ],
   "source": [
    "z = x - y\n",
    "z.getValue()"
   ]
  },
  {
   "cell_type": "code",
   "execution_count": 6,
   "id": "49aa336f",
   "metadata": {
    "execution": {
     "iopub.execute_input": "2023-08-04T16:40:37.874960Z",
     "iopub.status.busy": "2023-08-04T16:40:37.874879Z",
     "iopub.status.idle": "2023-08-04T16:40:37.876975Z",
     "shell.execute_reply": "2023-08-04T16:40:37.876660Z"
    }
   },
   "outputs": [
    {
     "data": {
      "text/plain": [
       "-1.0"
      ]
     },
     "execution_count": 6,
     "metadata": {},
     "output_type": "execute_result"
    }
   ],
   "source": [
    "z.getValue_c(prepareIds=True)"
   ]
  },
  {
   "cell_type": "markdown",
   "id": "c6a0c357",
   "metadata": {},
   "source": [
    "## Multiplication"
   ]
  },
  {
   "cell_type": "code",
   "execution_count": 7,
   "id": "fe2c19ac",
   "metadata": {
    "execution": {
     "iopub.execute_input": "2023-08-04T16:40:37.877956Z",
     "iopub.status.busy": "2023-08-04T16:40:37.877890Z",
     "iopub.status.idle": "2023-08-04T16:40:37.879720Z",
     "shell.execute_reply": "2023-08-04T16:40:37.879504Z"
    }
   },
   "outputs": [
    {
     "data": {
      "text/plain": [
       "6"
      ]
     },
     "execution_count": 7,
     "metadata": {},
     "output_type": "execute_result"
    }
   ],
   "source": [
    "z = x * y\n",
    "z.getValue()"
   ]
  },
  {
   "cell_type": "code",
   "execution_count": 8,
   "id": "c4bcc117",
   "metadata": {
    "execution": {
     "iopub.execute_input": "2023-08-04T16:40:37.880691Z",
     "iopub.status.busy": "2023-08-04T16:40:37.880597Z",
     "iopub.status.idle": "2023-08-04T16:40:37.882723Z",
     "shell.execute_reply": "2023-08-04T16:40:37.882474Z"
    }
   },
   "outputs": [
    {
     "data": {
      "text/plain": [
       "6.0"
      ]
     },
     "execution_count": 8,
     "metadata": {},
     "output_type": "execute_result"
    }
   ],
   "source": [
    "z.getValue_c(prepareIds=True)"
   ]
  },
  {
   "cell_type": "markdown",
   "id": "bc7b526c",
   "metadata": {},
   "source": [
    "## Division"
   ]
  },
  {
   "cell_type": "code",
   "execution_count": 9,
   "id": "9188f4c1",
   "metadata": {
    "execution": {
     "iopub.execute_input": "2023-08-04T16:40:37.883848Z",
     "iopub.status.busy": "2023-08-04T16:40:37.883721Z",
     "iopub.status.idle": "2023-08-04T16:40:37.885719Z",
     "shell.execute_reply": "2023-08-04T16:40:37.885482Z"
    }
   },
   "outputs": [
    {
     "data": {
      "text/plain": [
       "0.6666666666666666"
      ]
     },
     "execution_count": 9,
     "metadata": {},
     "output_type": "execute_result"
    }
   ],
   "source": [
    "z = x / y\n",
    "z.getValue()"
   ]
  },
  {
   "cell_type": "code",
   "execution_count": 10,
   "id": "fb74cd7e",
   "metadata": {
    "execution": {
     "iopub.execute_input": "2023-08-04T16:40:37.886924Z",
     "iopub.status.busy": "2023-08-04T16:40:37.886802Z",
     "iopub.status.idle": "2023-08-04T16:40:37.888998Z",
     "shell.execute_reply": "2023-08-04T16:40:37.888765Z"
    }
   },
   "outputs": [
    {
     "data": {
      "text/plain": [
       "0.6666666666666666"
      ]
     },
     "execution_count": 10,
     "metadata": {},
     "output_type": "execute_result"
    }
   ],
   "source": [
    "z.getValue_c(prepareIds=True)"
   ]
  },
  {
   "cell_type": "markdown",
   "id": "375f3624",
   "metadata": {},
   "source": [
    "## Power"
   ]
  },
  {
   "cell_type": "code",
   "execution_count": 11,
   "id": "af3c5788",
   "metadata": {
    "execution": {
     "iopub.execute_input": "2023-08-04T16:40:37.890078Z",
     "iopub.status.busy": "2023-08-04T16:40:37.889986Z",
     "iopub.status.idle": "2023-08-04T16:40:37.891975Z",
     "shell.execute_reply": "2023-08-04T16:40:37.891673Z"
    }
   },
   "outputs": [
    {
     "data": {
      "text/plain": [
       "8"
      ]
     },
     "execution_count": 11,
     "metadata": {},
     "output_type": "execute_result"
    }
   ],
   "source": [
    "z = x ** y\n",
    "z.getValue()"
   ]
  },
  {
   "cell_type": "code",
   "execution_count": 12,
   "id": "3f77a3fa",
   "metadata": {
    "execution": {
     "iopub.execute_input": "2023-08-04T16:40:37.892974Z",
     "iopub.status.busy": "2023-08-04T16:40:37.892874Z",
     "iopub.status.idle": "2023-08-04T16:40:37.894921Z",
     "shell.execute_reply": "2023-08-04T16:40:37.894709Z"
    }
   },
   "outputs": [
    {
     "data": {
      "text/plain": [
       "8.0"
      ]
     },
     "execution_count": 12,
     "metadata": {},
     "output_type": "execute_result"
    }
   ],
   "source": [
    "z.getValue_c(prepareIds=True)"
   ]
  },
  {
   "cell_type": "markdown",
   "id": "059cfd45",
   "metadata": {},
   "source": [
    "## Exponential"
   ]
  },
  {
   "cell_type": "code",
   "execution_count": 13,
   "id": "bdc0166c",
   "metadata": {
    "execution": {
     "iopub.execute_input": "2023-08-04T16:40:37.896039Z",
     "iopub.status.busy": "2023-08-04T16:40:37.895968Z",
     "iopub.status.idle": "2023-08-04T16:40:37.897991Z",
     "shell.execute_reply": "2023-08-04T16:40:37.897737Z"
    }
   },
   "outputs": [
    {
     "data": {
      "text/plain": [
       "7.38905609893065"
      ]
     },
     "execution_count": 13,
     "metadata": {},
     "output_type": "execute_result"
    }
   ],
   "source": [
    "z = ex.exp(x)\n",
    "z.getValue()"
   ]
  },
  {
   "cell_type": "code",
   "execution_count": 14,
   "id": "e60e96fc",
   "metadata": {
    "execution": {
     "iopub.execute_input": "2023-08-04T16:40:37.898918Z",
     "iopub.status.busy": "2023-08-04T16:40:37.898848Z",
     "iopub.status.idle": "2023-08-04T16:40:37.900848Z",
     "shell.execute_reply": "2023-08-04T16:40:37.900599Z"
    }
   },
   "outputs": [
    {
     "data": {
      "text/plain": [
       "7.38905609893065"
      ]
     },
     "execution_count": 14,
     "metadata": {},
     "output_type": "execute_result"
    }
   ],
   "source": [
    "z.getValue_c(prepareIds=True)"
   ]
  },
  {
   "cell_type": "markdown",
   "id": "369784c3",
   "metadata": {},
   "source": [
    "## Logarithm"
   ]
  },
  {
   "cell_type": "code",
   "execution_count": 15,
   "id": "dba10c20",
   "metadata": {
    "execution": {
     "iopub.execute_input": "2023-08-04T16:40:37.902047Z",
     "iopub.status.busy": "2023-08-04T16:40:37.901974Z",
     "iopub.status.idle": "2023-08-04T16:40:37.904048Z",
     "shell.execute_reply": "2023-08-04T16:40:37.903786Z"
    }
   },
   "outputs": [
    {
     "data": {
      "text/plain": [
       "0.6931471805599453"
      ]
     },
     "execution_count": 15,
     "metadata": {},
     "output_type": "execute_result"
    }
   ],
   "source": [
    "z = ex.log(x)\n",
    "z.getValue()"
   ]
  },
  {
   "cell_type": "code",
   "execution_count": 16,
   "id": "c6f5ba1c",
   "metadata": {
    "execution": {
     "iopub.execute_input": "2023-08-04T16:40:37.904996Z",
     "iopub.status.busy": "2023-08-04T16:40:37.904924Z",
     "iopub.status.idle": "2023-08-04T16:40:37.906996Z",
     "shell.execute_reply": "2023-08-04T16:40:37.906697Z"
    }
   },
   "outputs": [
    {
     "data": {
      "text/plain": [
       "0.6931471805599453"
      ]
     },
     "execution_count": 16,
     "metadata": {},
     "output_type": "execute_result"
    }
   ],
   "source": [
    "z.getValue_c(prepareIds=True)"
   ]
  },
  {
   "cell_type": "markdown",
   "id": "5a3dfd6a",
   "metadata": {},
   "source": [
    "## Minimum"
   ]
  },
  {
   "cell_type": "code",
   "execution_count": 17,
   "id": "4b376f98",
   "metadata": {
    "execution": {
     "iopub.execute_input": "2023-08-04T16:40:37.907994Z",
     "iopub.status.busy": "2023-08-04T16:40:37.907919Z",
     "iopub.status.idle": "2023-08-04T16:40:37.909791Z",
     "shell.execute_reply": "2023-08-04T16:40:37.909525Z"
    }
   },
   "outputs": [
    {
     "data": {
      "text/plain": [
       "2"
      ]
     },
     "execution_count": 17,
     "metadata": {},
     "output_type": "execute_result"
    }
   ],
   "source": [
    "z = ex.bioMin(x, y)\n",
    "z.getValue()"
   ]
  },
  {
   "cell_type": "code",
   "execution_count": 18,
   "id": "a5c58dbe",
   "metadata": {
    "execution": {
     "iopub.execute_input": "2023-08-04T16:40:37.910676Z",
     "iopub.status.busy": "2023-08-04T16:40:37.910612Z",
     "iopub.status.idle": "2023-08-04T16:40:37.912458Z",
     "shell.execute_reply": "2023-08-04T16:40:37.912245Z"
    }
   },
   "outputs": [
    {
     "data": {
      "text/plain": [
       "2.0"
      ]
     },
     "execution_count": 18,
     "metadata": {},
     "output_type": "execute_result"
    }
   ],
   "source": [
    "z.getValue_c(prepareIds=True)"
   ]
  },
  {
   "cell_type": "markdown",
   "id": "1c4923e1",
   "metadata": {},
   "source": [
    "## Maximum"
   ]
  },
  {
   "cell_type": "code",
   "execution_count": 19,
   "id": "12799f5c",
   "metadata": {
    "execution": {
     "iopub.execute_input": "2023-08-04T16:40:37.913455Z",
     "iopub.status.busy": "2023-08-04T16:40:37.913366Z",
     "iopub.status.idle": "2023-08-04T16:40:37.915256Z",
     "shell.execute_reply": "2023-08-04T16:40:37.915041Z"
    }
   },
   "outputs": [
    {
     "data": {
      "text/plain": [
       "3"
      ]
     },
     "execution_count": 19,
     "metadata": {},
     "output_type": "execute_result"
    }
   ],
   "source": [
    "z = ex.bioMax(x, y)\n",
    "z.getValue()"
   ]
  },
  {
   "cell_type": "code",
   "execution_count": 20,
   "id": "82bb8975",
   "metadata": {
    "execution": {
     "iopub.execute_input": "2023-08-04T16:40:37.916178Z",
     "iopub.status.busy": "2023-08-04T16:40:37.916114Z",
     "iopub.status.idle": "2023-08-04T16:40:37.918110Z",
     "shell.execute_reply": "2023-08-04T16:40:37.917893Z"
    }
   },
   "outputs": [
    {
     "data": {
      "text/plain": [
       "3.0"
      ]
     },
     "execution_count": 20,
     "metadata": {},
     "output_type": "execute_result"
    }
   ],
   "source": [
    "z.getValue_c(prepareIds=True)"
   ]
  },
  {
   "cell_type": "markdown",
   "id": "6d45ba54",
   "metadata": {},
   "source": [
    "## And"
   ]
  },
  {
   "cell_type": "code",
   "execution_count": 21,
   "id": "3c3cf1da",
   "metadata": {
    "execution": {
     "iopub.execute_input": "2023-08-04T16:40:37.919064Z",
     "iopub.status.busy": "2023-08-04T16:40:37.919001Z",
     "iopub.status.idle": "2023-08-04T16:40:37.920827Z",
     "shell.execute_reply": "2023-08-04T16:40:37.920580Z"
    }
   },
   "outputs": [
    {
     "data": {
      "text/plain": [
       "1.0"
      ]
     },
     "execution_count": 21,
     "metadata": {},
     "output_type": "execute_result"
    }
   ],
   "source": [
    "z = x & y\n",
    "z.getValue()"
   ]
  },
  {
   "cell_type": "code",
   "execution_count": 22,
   "id": "c841b4e1",
   "metadata": {
    "execution": {
     "iopub.execute_input": "2023-08-04T16:40:37.921744Z",
     "iopub.status.busy": "2023-08-04T16:40:37.921678Z",
     "iopub.status.idle": "2023-08-04T16:40:37.923668Z",
     "shell.execute_reply": "2023-08-04T16:40:37.923464Z"
    }
   },
   "outputs": [
    {
     "data": {
      "text/plain": [
       "1.0"
      ]
     },
     "execution_count": 22,
     "metadata": {},
     "output_type": "execute_result"
    }
   ],
   "source": [
    "z.getValue_c(prepareIds=True)"
   ]
  },
  {
   "cell_type": "code",
   "execution_count": 23,
   "id": "dce2e8a9",
   "metadata": {
    "execution": {
     "iopub.execute_input": "2023-08-04T16:40:37.924609Z",
     "iopub.status.busy": "2023-08-04T16:40:37.924543Z",
     "iopub.status.idle": "2023-08-04T16:40:37.926423Z",
     "shell.execute_reply": "2023-08-04T16:40:37.926173Z"
    }
   },
   "outputs": [
    {
     "data": {
      "text/plain": [
       "0.0"
      ]
     },
     "execution_count": 23,
     "metadata": {},
     "output_type": "execute_result"
    }
   ],
   "source": [
    "z = x & 0\n",
    "z.getValue()"
   ]
  },
  {
   "cell_type": "code",
   "execution_count": 24,
   "id": "f4da4495",
   "metadata": {
    "execution": {
     "iopub.execute_input": "2023-08-04T16:40:37.927430Z",
     "iopub.status.busy": "2023-08-04T16:40:37.927357Z",
     "iopub.status.idle": "2023-08-04T16:40:37.929430Z",
     "shell.execute_reply": "2023-08-04T16:40:37.929163Z"
    }
   },
   "outputs": [
    {
     "data": {
      "text/plain": [
       "0.0"
      ]
     },
     "execution_count": 24,
     "metadata": {},
     "output_type": "execute_result"
    }
   ],
   "source": [
    "z.getValue_c(prepareIds=True)"
   ]
  },
  {
   "cell_type": "markdown",
   "id": "44a7583f",
   "metadata": {},
   "source": [
    "## Or"
   ]
  },
  {
   "cell_type": "code",
   "execution_count": 25,
   "id": "f9b75f32",
   "metadata": {
    "execution": {
     "iopub.execute_input": "2023-08-04T16:40:37.930391Z",
     "iopub.status.busy": "2023-08-04T16:40:37.930324Z",
     "iopub.status.idle": "2023-08-04T16:40:37.932174Z",
     "shell.execute_reply": "2023-08-04T16:40:37.931962Z"
    }
   },
   "outputs": [
    {
     "data": {
      "text/plain": [
       "1.0"
      ]
     },
     "execution_count": 25,
     "metadata": {},
     "output_type": "execute_result"
    }
   ],
   "source": [
    "z = x | y\n",
    "z.getValue()"
   ]
  },
  {
   "cell_type": "code",
   "execution_count": 26,
   "id": "842ea1e9",
   "metadata": {
    "execution": {
     "iopub.execute_input": "2023-08-04T16:40:37.933103Z",
     "iopub.status.busy": "2023-08-04T16:40:37.933008Z",
     "iopub.status.idle": "2023-08-04T16:40:37.935004Z",
     "shell.execute_reply": "2023-08-04T16:40:37.934766Z"
    }
   },
   "outputs": [
    {
     "data": {
      "text/plain": [
       "1.0"
      ]
     },
     "execution_count": 26,
     "metadata": {},
     "output_type": "execute_result"
    }
   ],
   "source": [
    "z.getValue_c(prepareIds=True)"
   ]
  },
  {
   "cell_type": "code",
   "execution_count": 27,
   "id": "8c675954",
   "metadata": {
    "execution": {
     "iopub.execute_input": "2023-08-04T16:40:37.935981Z",
     "iopub.status.busy": "2023-08-04T16:40:37.935878Z",
     "iopub.status.idle": "2023-08-04T16:40:37.937925Z",
     "shell.execute_reply": "2023-08-04T16:40:37.937619Z"
    }
   },
   "outputs": [
    {
     "data": {
      "text/plain": [
       "0.0"
      ]
     },
     "execution_count": 27,
     "metadata": {},
     "output_type": "execute_result"
    }
   ],
   "source": [
    "z = ex.Numeric(0) | ex.Numeric(0)\n",
    "z.getValue()"
   ]
  },
  {
   "cell_type": "code",
   "execution_count": 28,
   "id": "71cb6fc1",
   "metadata": {
    "execution": {
     "iopub.execute_input": "2023-08-04T16:40:37.938797Z",
     "iopub.status.busy": "2023-08-04T16:40:37.938706Z",
     "iopub.status.idle": "2023-08-04T16:40:37.940683Z",
     "shell.execute_reply": "2023-08-04T16:40:37.940470Z"
    }
   },
   "outputs": [
    {
     "data": {
      "text/plain": [
       "0.0"
      ]
     },
     "execution_count": 28,
     "metadata": {},
     "output_type": "execute_result"
    }
   ],
   "source": [
    "z.getValue_c(prepareIds=True)"
   ]
  },
  {
   "cell_type": "markdown",
   "id": "72d95f9f",
   "metadata": {},
   "source": [
    "## Equal"
   ]
  },
  {
   "cell_type": "code",
   "execution_count": 29,
   "id": "b34fc490",
   "metadata": {
    "execution": {
     "iopub.execute_input": "2023-08-04T16:40:37.941624Z",
     "iopub.status.busy": "2023-08-04T16:40:37.941565Z",
     "iopub.status.idle": "2023-08-04T16:40:37.943605Z",
     "shell.execute_reply": "2023-08-04T16:40:37.943372Z"
    }
   },
   "outputs": [
    {
     "data": {
      "text/plain": [
       "0"
      ]
     },
     "execution_count": 29,
     "metadata": {},
     "output_type": "execute_result"
    }
   ],
   "source": [
    "z = x == y\n",
    "z.getValue()"
   ]
  },
  {
   "cell_type": "code",
   "execution_count": 30,
   "id": "21daf4c9",
   "metadata": {
    "execution": {
     "iopub.execute_input": "2023-08-04T16:40:37.944585Z",
     "iopub.status.busy": "2023-08-04T16:40:37.944519Z",
     "iopub.status.idle": "2023-08-04T16:40:37.946598Z",
     "shell.execute_reply": "2023-08-04T16:40:37.946358Z"
    }
   },
   "outputs": [
    {
     "data": {
      "text/plain": [
       "0.0"
      ]
     },
     "execution_count": 30,
     "metadata": {},
     "output_type": "execute_result"
    }
   ],
   "source": [
    "z.getValue_c(prepareIds=True)"
   ]
  },
  {
   "cell_type": "code",
   "execution_count": 31,
   "id": "0bdf5b40",
   "metadata": {
    "execution": {
     "iopub.execute_input": "2023-08-04T16:40:37.947561Z",
     "iopub.status.busy": "2023-08-04T16:40:37.947497Z",
     "iopub.status.idle": "2023-08-04T16:40:37.949481Z",
     "shell.execute_reply": "2023-08-04T16:40:37.949282Z"
    }
   },
   "outputs": [
    {
     "data": {
      "text/plain": [
       "1"
      ]
     },
     "execution_count": 31,
     "metadata": {},
     "output_type": "execute_result"
    }
   ],
   "source": [
    "z = (x + 1) == y\n",
    "z.getValue()"
   ]
  },
  {
   "cell_type": "code",
   "execution_count": 32,
   "id": "9984dbfc",
   "metadata": {
    "execution": {
     "iopub.execute_input": "2023-08-04T16:40:37.950398Z",
     "iopub.status.busy": "2023-08-04T16:40:37.950334Z",
     "iopub.status.idle": "2023-08-04T16:40:37.952360Z",
     "shell.execute_reply": "2023-08-04T16:40:37.952119Z"
    }
   },
   "outputs": [
    {
     "data": {
      "text/plain": [
       "1.0"
      ]
     },
     "execution_count": 32,
     "metadata": {},
     "output_type": "execute_result"
    }
   ],
   "source": [
    "z.getValue_c(prepareIds=True)"
   ]
  },
  {
   "cell_type": "markdown",
   "id": "c4b48c74",
   "metadata": {},
   "source": [
    "## Not equal"
   ]
  },
  {
   "cell_type": "code",
   "execution_count": 33,
   "id": "bddfe3e2",
   "metadata": {
    "execution": {
     "iopub.execute_input": "2023-08-04T16:40:37.953374Z",
     "iopub.status.busy": "2023-08-04T16:40:37.953314Z",
     "iopub.status.idle": "2023-08-04T16:40:37.955161Z",
     "shell.execute_reply": "2023-08-04T16:40:37.954955Z"
    }
   },
   "outputs": [
    {
     "data": {
      "text/plain": [
       "1"
      ]
     },
     "execution_count": 33,
     "metadata": {},
     "output_type": "execute_result"
    }
   ],
   "source": [
    "z = x != y\n",
    "z.getValue()"
   ]
  },
  {
   "cell_type": "code",
   "execution_count": 34,
   "id": "ec1cbb08",
   "metadata": {
    "execution": {
     "iopub.execute_input": "2023-08-04T16:40:37.956092Z",
     "iopub.status.busy": "2023-08-04T16:40:37.956011Z",
     "iopub.status.idle": "2023-08-04T16:40:37.957934Z",
     "shell.execute_reply": "2023-08-04T16:40:37.957701Z"
    }
   },
   "outputs": [
    {
     "data": {
      "text/plain": [
       "1.0"
      ]
     },
     "execution_count": 34,
     "metadata": {},
     "output_type": "execute_result"
    }
   ],
   "source": [
    "z.getValue_c(prepareIds=True)"
   ]
  },
  {
   "cell_type": "code",
   "execution_count": 35,
   "id": "e5ea13b4",
   "metadata": {
    "execution": {
     "iopub.execute_input": "2023-08-04T16:40:37.958813Z",
     "iopub.status.busy": "2023-08-04T16:40:37.958704Z",
     "iopub.status.idle": "2023-08-04T16:40:37.960496Z",
     "shell.execute_reply": "2023-08-04T16:40:37.960296Z"
    }
   },
   "outputs": [
    {
     "data": {
      "text/plain": [
       "0"
      ]
     },
     "execution_count": 35,
     "metadata": {},
     "output_type": "execute_result"
    }
   ],
   "source": [
    "z = (x + 1) != y\n",
    "z.getValue()"
   ]
  },
  {
   "cell_type": "code",
   "execution_count": 36,
   "id": "f4d42d76",
   "metadata": {
    "execution": {
     "iopub.execute_input": "2023-08-04T16:40:37.961437Z",
     "iopub.status.busy": "2023-08-04T16:40:37.961374Z",
     "iopub.status.idle": "2023-08-04T16:40:37.963327Z",
     "shell.execute_reply": "2023-08-04T16:40:37.963120Z"
    }
   },
   "outputs": [
    {
     "data": {
      "text/plain": [
       "0.0"
      ]
     },
     "execution_count": 36,
     "metadata": {},
     "output_type": "execute_result"
    }
   ],
   "source": [
    "z.getValue_c(prepareIds=True)"
   ]
  },
  {
   "cell_type": "markdown",
   "id": "b96bbf4d",
   "metadata": {},
   "source": [
    "## Lesser or equal"
   ]
  },
  {
   "cell_type": "code",
   "execution_count": 37,
   "id": "00dfbca2",
   "metadata": {
    "execution": {
     "iopub.execute_input": "2023-08-04T16:40:37.964256Z",
     "iopub.status.busy": "2023-08-04T16:40:37.964196Z",
     "iopub.status.idle": "2023-08-04T16:40:37.966063Z",
     "shell.execute_reply": "2023-08-04T16:40:37.965852Z"
    }
   },
   "outputs": [
    {
     "data": {
      "text/plain": [
       "1"
      ]
     },
     "execution_count": 37,
     "metadata": {},
     "output_type": "execute_result"
    }
   ],
   "source": [
    "z = x <= y\n",
    "z.getValue()"
   ]
  },
  {
   "cell_type": "code",
   "execution_count": 38,
   "id": "41881544",
   "metadata": {
    "execution": {
     "iopub.execute_input": "2023-08-04T16:40:37.966967Z",
     "iopub.status.busy": "2023-08-04T16:40:37.966866Z",
     "iopub.status.idle": "2023-08-04T16:40:37.968723Z",
     "shell.execute_reply": "2023-08-04T16:40:37.968488Z"
    }
   },
   "outputs": [
    {
     "data": {
      "text/plain": [
       "1.0"
      ]
     },
     "execution_count": 38,
     "metadata": {},
     "output_type": "execute_result"
    }
   ],
   "source": [
    "z.getValue_c(prepareIds=True)"
   ]
  },
  {
   "cell_type": "markdown",
   "id": "27a1d12a",
   "metadata": {},
   "source": [
    "## Greater or equal"
   ]
  },
  {
   "cell_type": "code",
   "execution_count": 39,
   "id": "46d3d30c",
   "metadata": {
    "execution": {
     "iopub.execute_input": "2023-08-04T16:40:37.969678Z",
     "iopub.status.busy": "2023-08-04T16:40:37.969617Z",
     "iopub.status.idle": "2023-08-04T16:40:37.971431Z",
     "shell.execute_reply": "2023-08-04T16:40:37.971216Z"
    }
   },
   "outputs": [
    {
     "data": {
      "text/plain": [
       "0"
      ]
     },
     "execution_count": 39,
     "metadata": {},
     "output_type": "execute_result"
    }
   ],
   "source": [
    "z = x >= y\n",
    "z.getValue()"
   ]
  },
  {
   "cell_type": "code",
   "execution_count": 40,
   "id": "d4626f83",
   "metadata": {
    "execution": {
     "iopub.execute_input": "2023-08-04T16:40:37.972382Z",
     "iopub.status.busy": "2023-08-04T16:40:37.972305Z",
     "iopub.status.idle": "2023-08-04T16:40:37.974251Z",
     "shell.execute_reply": "2023-08-04T16:40:37.974048Z"
    }
   },
   "outputs": [
    {
     "data": {
      "text/plain": [
       "0.0"
      ]
     },
     "execution_count": 40,
     "metadata": {},
     "output_type": "execute_result"
    }
   ],
   "source": [
    "z.getValue_c(prepareIds=True)"
   ]
  },
  {
   "cell_type": "markdown",
   "id": "e5c38ebe",
   "metadata": {},
   "source": [
    "## Lesser than"
   ]
  },
  {
   "cell_type": "code",
   "execution_count": 41,
   "id": "2dca3aa6",
   "metadata": {
    "execution": {
     "iopub.execute_input": "2023-08-04T16:40:37.975132Z",
     "iopub.status.busy": "2023-08-04T16:40:37.975074Z",
     "iopub.status.idle": "2023-08-04T16:40:37.976806Z",
     "shell.execute_reply": "2023-08-04T16:40:37.976608Z"
    }
   },
   "outputs": [
    {
     "data": {
      "text/plain": [
       "1"
      ]
     },
     "execution_count": 41,
     "metadata": {},
     "output_type": "execute_result"
    }
   ],
   "source": [
    "z = x < y\n",
    "z.getValue()"
   ]
  },
  {
   "cell_type": "code",
   "execution_count": 42,
   "id": "057e4218",
   "metadata": {
    "execution": {
     "iopub.execute_input": "2023-08-04T16:40:37.977662Z",
     "iopub.status.busy": "2023-08-04T16:40:37.977604Z",
     "iopub.status.idle": "2023-08-04T16:40:37.979582Z",
     "shell.execute_reply": "2023-08-04T16:40:37.979377Z"
    }
   },
   "outputs": [
    {
     "data": {
      "text/plain": [
       "1.0"
      ]
     },
     "execution_count": 42,
     "metadata": {},
     "output_type": "execute_result"
    }
   ],
   "source": [
    "z.getValue_c(prepareIds=True)"
   ]
  },
  {
   "cell_type": "markdown",
   "id": "c2f6c277",
   "metadata": {},
   "source": [
    "## Greater than"
   ]
  },
  {
   "cell_type": "code",
   "execution_count": 43,
   "id": "d324326b",
   "metadata": {
    "execution": {
     "iopub.execute_input": "2023-08-04T16:40:37.980500Z",
     "iopub.status.busy": "2023-08-04T16:40:37.980435Z",
     "iopub.status.idle": "2023-08-04T16:40:37.982269Z",
     "shell.execute_reply": "2023-08-04T16:40:37.982052Z"
    }
   },
   "outputs": [
    {
     "data": {
      "text/plain": [
       "0"
      ]
     },
     "execution_count": 43,
     "metadata": {},
     "output_type": "execute_result"
    }
   ],
   "source": [
    "z = x > y\n",
    "z.getValue()"
   ]
  },
  {
   "cell_type": "code",
   "execution_count": 44,
   "id": "d1552643",
   "metadata": {
    "execution": {
     "iopub.execute_input": "2023-08-04T16:40:37.983124Z",
     "iopub.status.busy": "2023-08-04T16:40:37.983061Z",
     "iopub.status.idle": "2023-08-04T16:40:37.984929Z",
     "shell.execute_reply": "2023-08-04T16:40:37.984682Z"
    }
   },
   "outputs": [
    {
     "data": {
      "text/plain": [
       "0.0"
      ]
     },
     "execution_count": 44,
     "metadata": {},
     "output_type": "execute_result"
    }
   ],
   "source": [
    "z.getValue_c(prepareIds=True)"
   ]
  },
  {
   "cell_type": "markdown",
   "id": "288d34a0",
   "metadata": {},
   "source": [
    "## Opposite"
   ]
  },
  {
   "cell_type": "code",
   "execution_count": 45,
   "id": "a932d775",
   "metadata": {
    "execution": {
     "iopub.execute_input": "2023-08-04T16:40:37.985833Z",
     "iopub.status.busy": "2023-08-04T16:40:37.985756Z",
     "iopub.status.idle": "2023-08-04T16:40:37.987462Z",
     "shell.execute_reply": "2023-08-04T16:40:37.987250Z"
    }
   },
   "outputs": [
    {
     "data": {
      "text/plain": [
       "-2"
      ]
     },
     "execution_count": 45,
     "metadata": {},
     "output_type": "execute_result"
    }
   ],
   "source": [
    "z = -x\n",
    "z.getValue()"
   ]
  },
  {
   "cell_type": "code",
   "execution_count": 46,
   "id": "4d3da34a",
   "metadata": {
    "execution": {
     "iopub.execute_input": "2023-08-04T16:40:37.988333Z",
     "iopub.status.busy": "2023-08-04T16:40:37.988269Z",
     "iopub.status.idle": "2023-08-04T16:40:37.990285Z",
     "shell.execute_reply": "2023-08-04T16:40:37.990076Z"
    }
   },
   "outputs": [
    {
     "data": {
      "text/plain": [
       "-2.0"
      ]
     },
     "execution_count": 46,
     "metadata": {},
     "output_type": "execute_result"
    }
   ],
   "source": [
    "z.getValue_c(prepareIds=True)"
   ]
  },
  {
   "cell_type": "markdown",
   "id": "716954a0",
   "metadata": {},
   "source": [
    "## Sum of multiples expressions"
   ]
  },
  {
   "cell_type": "code",
   "execution_count": 47,
   "id": "d256eb30",
   "metadata": {
    "execution": {
     "iopub.execute_input": "2023-08-04T16:40:37.991264Z",
     "iopub.status.busy": "2023-08-04T16:40:37.991204Z",
     "iopub.status.idle": "2023-08-04T16:40:37.993164Z",
     "shell.execute_reply": "2023-08-04T16:40:37.992989Z"
    }
   },
   "outputs": [
    {
     "data": {
      "text/plain": [
       "12.0"
      ]
     },
     "execution_count": 47,
     "metadata": {},
     "output_type": "execute_result"
    }
   ],
   "source": [
    "listOfExpressions = [x, y, 1+x, 1+y]\n",
    "z = ex.bioMultSum(listOfExpressions)\n",
    "z.getValue()"
   ]
  },
  {
   "cell_type": "code",
   "execution_count": 48,
   "id": "48528736",
   "metadata": {
    "execution": {
     "iopub.execute_input": "2023-08-04T16:40:37.993968Z",
     "iopub.status.busy": "2023-08-04T16:40:37.993877Z",
     "iopub.status.idle": "2023-08-04T16:40:37.995664Z",
     "shell.execute_reply": "2023-08-04T16:40:37.995466Z"
    }
   },
   "outputs": [
    {
     "data": {
      "text/plain": [
       "12.0"
      ]
     },
     "execution_count": 48,
     "metadata": {},
     "output_type": "execute_result"
    }
   ],
   "source": [
    "z.getValue_c(prepareIds=True)"
   ]
  },
  {
   "cell_type": "markdown",
   "id": "c56f19b8",
   "metadata": {},
   "source": [
    "The result is the same as the following, but it implements the sum in a more efficient way. "
   ]
  },
  {
   "cell_type": "code",
   "execution_count": 49,
   "id": "9a0c4d34",
   "metadata": {
    "execution": {
     "iopub.execute_input": "2023-08-04T16:40:37.996512Z",
     "iopub.status.busy": "2023-08-04T16:40:37.996458Z",
     "iopub.status.idle": "2023-08-04T16:40:37.998240Z",
     "shell.execute_reply": "2023-08-04T16:40:37.998060Z"
    }
   },
   "outputs": [
    {
     "data": {
      "text/plain": [
       "12.0"
      ]
     },
     "execution_count": 49,
     "metadata": {},
     "output_type": "execute_result"
    }
   ],
   "source": [
    "z = x + y + 1 + x + 1 + y\n",
    "z.getValue()"
   ]
  },
  {
   "cell_type": "code",
   "execution_count": 50,
   "id": "897c42bf",
   "metadata": {
    "execution": {
     "iopub.execute_input": "2023-08-04T16:40:37.999079Z",
     "iopub.status.busy": "2023-08-04T16:40:37.999006Z",
     "iopub.status.idle": "2023-08-04T16:40:38.000854Z",
     "shell.execute_reply": "2023-08-04T16:40:38.000632Z"
    }
   },
   "outputs": [
    {
     "data": {
      "text/plain": [
       "12.0"
      ]
     },
     "execution_count": 50,
     "metadata": {},
     "output_type": "execute_result"
    }
   ],
   "source": [
    "z.getValue_c(prepareIds=True)"
   ]
  },
  {
   "cell_type": "markdown",
   "id": "1265d6c8",
   "metadata": {},
   "source": [
    "## Element"
   ]
  },
  {
   "cell_type": "markdown",
   "id": "8acb5895",
   "metadata": {},
   "source": [
    "This expression considers a dictionary of expressions, and an expression for the index. The index is evaluated, and the value of the corresponding expression in the dictionary is returned. "
   ]
  },
  {
   "cell_type": "code",
   "execution_count": 51,
   "id": "5d85cc91",
   "metadata": {
    "execution": {
     "iopub.execute_input": "2023-08-04T16:40:38.001762Z",
     "iopub.status.busy": "2023-08-04T16:40:38.001706Z",
     "iopub.status.idle": "2023-08-04T16:40:38.003257Z",
     "shell.execute_reply": "2023-08-04T16:40:38.003068Z"
    }
   },
   "outputs": [],
   "source": [
    "my_dict = {1: ex.exp(-1), 2: ex.log(1.2), 3: 1234}"
   ]
  },
  {
   "cell_type": "code",
   "execution_count": 52,
   "id": "00966020",
   "metadata": {
    "execution": {
     "iopub.execute_input": "2023-08-04T16:40:38.004069Z",
     "iopub.status.busy": "2023-08-04T16:40:38.004010Z",
     "iopub.status.idle": "2023-08-04T16:40:38.005747Z",
     "shell.execute_reply": "2023-08-04T16:40:38.005545Z"
    }
   },
   "outputs": [
    {
     "data": {
      "text/plain": [
       "2"
      ]
     },
     "execution_count": 52,
     "metadata": {},
     "output_type": "execute_result"
    }
   ],
   "source": [
    "index = x\n",
    "index.getValue()"
   ]
  },
  {
   "cell_type": "code",
   "execution_count": 53,
   "id": "aaedc29b",
   "metadata": {
    "execution": {
     "iopub.execute_input": "2023-08-04T16:40:38.006571Z",
     "iopub.status.busy": "2023-08-04T16:40:38.006516Z",
     "iopub.status.idle": "2023-08-04T16:40:38.008215Z",
     "shell.execute_reply": "2023-08-04T16:40:38.008032Z"
    }
   },
   "outputs": [
    {
     "data": {
      "text/plain": [
       "0.1823215567939546"
      ]
     },
     "execution_count": 53,
     "metadata": {},
     "output_type": "execute_result"
    }
   ],
   "source": [
    "z = ex.Elem(my_dict, index)\n",
    "z.getValue()"
   ]
  },
  {
   "cell_type": "code",
   "execution_count": 54,
   "id": "719a0d43",
   "metadata": {
    "execution": {
     "iopub.execute_input": "2023-08-04T16:40:38.009087Z",
     "iopub.status.busy": "2023-08-04T16:40:38.009015Z",
     "iopub.status.idle": "2023-08-04T16:40:38.010754Z",
     "shell.execute_reply": "2023-08-04T16:40:38.010574Z"
    }
   },
   "outputs": [
    {
     "data": {
      "text/plain": [
       "0.18232159653038368"
      ]
     },
     "execution_count": 54,
     "metadata": {},
     "output_type": "execute_result"
    }
   ],
   "source": [
    "z.getValue_c(prepareIds=True)"
   ]
  },
  {
   "cell_type": "code",
   "execution_count": 55,
   "id": "1c41051d",
   "metadata": {
    "execution": {
     "iopub.execute_input": "2023-08-04T16:40:38.011552Z",
     "iopub.status.busy": "2023-08-04T16:40:38.011495Z",
     "iopub.status.idle": "2023-08-04T16:40:38.013182Z",
     "shell.execute_reply": "2023-08-04T16:40:38.013013Z"
    }
   },
   "outputs": [
    {
     "data": {
      "text/plain": [
       "1.0"
      ]
     },
     "execution_count": 55,
     "metadata": {},
     "output_type": "execute_result"
    }
   ],
   "source": [
    "index = x - 1\n",
    "index.getValue()"
   ]
  },
  {
   "cell_type": "code",
   "execution_count": 56,
   "id": "e09d0b97",
   "metadata": {
    "execution": {
     "iopub.execute_input": "2023-08-04T16:40:38.013959Z",
     "iopub.status.busy": "2023-08-04T16:40:38.013903Z",
     "iopub.status.idle": "2023-08-04T16:40:38.015645Z",
     "shell.execute_reply": "2023-08-04T16:40:38.015444Z"
    }
   },
   "outputs": [
    {
     "data": {
      "text/plain": [
       "0.36787944117144233"
      ]
     },
     "execution_count": 56,
     "metadata": {},
     "output_type": "execute_result"
    }
   ],
   "source": [
    "z = ex.Elem(my_dict, index)\n",
    "z.getValue()"
   ]
  },
  {
   "cell_type": "code",
   "execution_count": 57,
   "id": "13efa60a",
   "metadata": {
    "execution": {
     "iopub.execute_input": "2023-08-04T16:40:38.016475Z",
     "iopub.status.busy": "2023-08-04T16:40:38.016420Z",
     "iopub.status.idle": "2023-08-04T16:40:38.018139Z",
     "shell.execute_reply": "2023-08-04T16:40:38.017971Z"
    }
   },
   "outputs": [
    {
     "data": {
      "text/plain": [
       "0.36787944117144233"
      ]
     },
     "execution_count": 57,
     "metadata": {},
     "output_type": "execute_result"
    }
   ],
   "source": [
    "z.getValue_c(prepareIds=True)"
   ]
  },
  {
   "cell_type": "code",
   "execution_count": 58,
   "id": "509caa2a",
   "metadata": {
    "execution": {
     "iopub.execute_input": "2023-08-04T16:40:38.019016Z",
     "iopub.status.busy": "2023-08-04T16:40:38.018946Z",
     "iopub.status.idle": "2023-08-04T16:40:38.020581Z",
     "shell.execute_reply": "2023-08-04T16:40:38.020405Z"
    }
   },
   "outputs": [
    {
     "data": {
      "text/plain": [
       "0.0"
      ]
     },
     "execution_count": 58,
     "metadata": {},
     "output_type": "execute_result"
    }
   ],
   "source": [
    "index = x - 2\n",
    "index.getValue()"
   ]
  },
  {
   "cell_type": "markdown",
   "id": "69b81e24",
   "metadata": {},
   "source": [
    "If the value returned as index does not corresponds to an entry in the dictionary, an exception is raised."
   ]
  },
  {
   "cell_type": "code",
   "execution_count": 59,
   "id": "88a84b1d",
   "metadata": {
    "execution": {
     "iopub.execute_input": "2023-08-04T16:40:38.021392Z",
     "iopub.status.busy": "2023-08-04T16:40:38.021338Z",
     "iopub.status.idle": "2023-08-04T16:40:38.023088Z",
     "shell.execute_reply": "2023-08-04T16:40:38.022912Z"
    }
   },
   "outputs": [
    {
     "name": "stdout",
     "output_type": "stream",
     "text": [
      "Exception raised: Key 0 is not present in the dictionary. Available keys: dict_keys([1, 2, 3])\n"
     ]
    }
   ],
   "source": [
    "z = ex.Elem(my_dict, index)\n",
    "try:\n",
    "    z.getValue()\n",
    "except excep.BiogemeError as e:\n",
    "    print(f'Exception raised: {e}')"
   ]
  },
  {
   "cell_type": "code",
   "execution_count": 60,
   "id": "9199b829",
   "metadata": {
    "execution": {
     "iopub.execute_input": "2023-08-04T16:40:38.023908Z",
     "iopub.status.busy": "2023-08-04T16:40:38.023850Z",
     "iopub.status.idle": "2023-08-04T16:40:38.025802Z",
     "shell.execute_reply": "2023-08-04T16:40:38.025587Z"
    }
   },
   "outputs": [
    {
     "name": "stdout",
     "output_type": "stream",
     "text": [
      "Exception raised: src/cythonbiogeme/cpp/bioExprElem.cc:58: Biogeme exception: Key (-(x lit[0],free[0](2),2)=0) is not present in dictionary: \n",
      "  1: exp(-1)\n",
      "  2: log(1.2)\n",
      "  3: 1234\n",
      "\n"
     ]
    }
   ],
   "source": [
    "z = ex.Elem(my_dict, index)\n",
    "try:\n",
    "    z.getValue_c(prepareIds=True)\n",
    "except RuntimeError as e:\n",
    "    print(f'Exception raised: {e}')"
   ]
  },
  {
   "cell_type": "markdown",
   "id": "58772c34",
   "metadata": {},
   "source": [
    "# Complex expressions"
   ]
  },
  {
   "cell_type": "markdown",
   "id": "38c20b1a",
   "metadata": {},
   "source": [
    "An expressions is deemed complex in Biogeme when the `getValue` function is not available. Only the `getValue_c` function must be used. It calculates the expressions using a C++ implementation of the expression."
   ]
  },
  {
   "cell_type": "markdown",
   "id": "3511b3d5",
   "metadata": {},
   "source": [
    "## Normal CDF"
   ]
  },
  {
   "cell_type": "markdown",
   "id": "125d4786",
   "metadata": {},
   "source": [
    "It calculates the $$\\Phi(x) = \\frac{1}{\\sqrt{2\\pi}}\\int_{-\\infty}^{x} e^{-\\frac{1}{2}\\omega^2}d\\omega.$$"
   ]
  },
  {
   "cell_type": "code",
   "execution_count": 61,
   "id": "16771ed9",
   "metadata": {
    "execution": {
     "iopub.execute_input": "2023-08-04T16:40:38.026727Z",
     "iopub.status.busy": "2023-08-04T16:40:38.026670Z",
     "iopub.status.idle": "2023-08-04T16:40:38.028460Z",
     "shell.execute_reply": "2023-08-04T16:40:38.028280Z"
    }
   },
   "outputs": [
    {
     "data": {
      "text/plain": [
       "0.9772498680518218"
      ]
     },
     "execution_count": 61,
     "metadata": {},
     "output_type": "execute_result"
    }
   ],
   "source": [
    "z = ex.bioNormalCdf(x)\n",
    "z.getValue_c(prepareIds=True)"
   ]
  },
  {
   "cell_type": "code",
   "execution_count": 62,
   "id": "e9c08fe1",
   "metadata": {
    "execution": {
     "iopub.execute_input": "2023-08-04T16:40:38.029353Z",
     "iopub.status.busy": "2023-08-04T16:40:38.029273Z",
     "iopub.status.idle": "2023-08-04T16:40:38.031072Z",
     "shell.execute_reply": "2023-08-04T16:40:38.030900Z"
    }
   },
   "outputs": [
    {
     "data": {
      "text/plain": [
       "0.5"
      ]
     },
     "execution_count": 62,
     "metadata": {},
     "output_type": "execute_result"
    }
   ],
   "source": [
    "z = ex.bioNormalCdf(0)\n",
    "z.getValue_c(prepareIds=True)"
   ]
  },
  {
   "cell_type": "markdown",
   "id": "a9cb3e3a",
   "metadata": {},
   "source": [
    "## Derivative"
   ]
  },
  {
   "cell_type": "code",
   "execution_count": 63,
   "id": "3d6f0d6e",
   "metadata": {
    "execution": {
     "iopub.execute_input": "2023-08-04T16:40:38.031893Z",
     "iopub.status.busy": "2023-08-04T16:40:38.031838Z",
     "iopub.status.idle": "2023-08-04T16:40:38.033186Z",
     "shell.execute_reply": "2023-08-04T16:40:38.032993Z"
    }
   },
   "outputs": [],
   "source": [
    "z = 30 * x + 20 * y"
   ]
  },
  {
   "cell_type": "code",
   "execution_count": 64,
   "id": "8c5095d9",
   "metadata": {
    "execution": {
     "iopub.execute_input": "2023-08-04T16:40:38.033976Z",
     "iopub.status.busy": "2023-08-04T16:40:38.033919Z",
     "iopub.status.idle": "2023-08-04T16:40:38.035764Z",
     "shell.execute_reply": "2023-08-04T16:40:38.035577Z"
    }
   },
   "outputs": [
    {
     "data": {
      "text/plain": [
       "30.0"
      ]
     },
     "execution_count": 64,
     "metadata": {},
     "output_type": "execute_result"
    }
   ],
   "source": [
    "zx = ex.Derive(z, 'x')\n",
    "zx.getValue_c(prepareIds=True)"
   ]
  },
  {
   "cell_type": "code",
   "execution_count": 65,
   "id": "902b2ae9",
   "metadata": {
    "execution": {
     "iopub.execute_input": "2023-08-04T16:40:38.036606Z",
     "iopub.status.busy": "2023-08-04T16:40:38.036536Z",
     "iopub.status.idle": "2023-08-04T16:40:38.038337Z",
     "shell.execute_reply": "2023-08-04T16:40:38.038181Z"
    }
   },
   "outputs": [
    {
     "data": {
      "text/plain": [
       "20.0"
      ]
     },
     "execution_count": 65,
     "metadata": {},
     "output_type": "execute_result"
    }
   ],
   "source": [
    "zx = ex.Derive(z, 'y')\n",
    "zx.getValue_c(prepareIds=True)"
   ]
  },
  {
   "cell_type": "markdown",
   "id": "5993ff30",
   "metadata": {},
   "source": [
    "## Integral"
   ]
  },
  {
   "cell_type": "markdown",
   "id": "20901fa3",
   "metadata": {},
   "source": [
    "Let's calculate the integral of the pdf of a normal distribution: $$\\frac{1}{\\sqrt{2\\pi}}\\int_{-\\infty}^{+\\infty} e^{-\\frac{1}{2}\\omega^2}d\\omega = 1.$$"
   ]
  },
  {
   "cell_type": "code",
   "execution_count": 66,
   "id": "1bb3f5ec",
   "metadata": {
    "execution": {
     "iopub.execute_input": "2023-08-04T16:40:38.039205Z",
     "iopub.status.busy": "2023-08-04T16:40:38.039150Z",
     "iopub.status.idle": "2023-08-04T16:40:38.041223Z",
     "shell.execute_reply": "2023-08-04T16:40:38.041050Z"
    }
   },
   "outputs": [
    {
     "data": {
      "text/plain": [
       "0.9999999998856622"
      ]
     },
     "execution_count": 66,
     "metadata": {},
     "output_type": "execute_result"
    }
   ],
   "source": [
    "omega = ex.RandomVariable('omega')\n",
    "pdf = ex.exp(-omega * omega / 2)\n",
    "z = ex.Integrate(pdf, 'omega') / np.sqrt(2 * np.pi)\n",
    "z.getValue_c(prepareIds=True)"
   ]
  },
  {
   "cell_type": "markdown",
   "id": "dbb964bf",
   "metadata": {},
   "source": [
    "In order to change the bounds of integration, a change of variables must be performed. Let's calculate $$\\int_0^1 x^2 dx=\\frac{1}{3}.$$\n",
    "If $a$ is the lower bound of integration, and $b$ is the upper bound, the change of variable is $$x = a + \\frac{b-a}{1+e^{-\\omega}},$$ and $$dx = \\frac{(b-a)e^{-\\omega}}{(1+e^{-\\omega})^2}d\\omega.$$"
   ]
  },
  {
   "cell_type": "code",
   "execution_count": 67,
   "id": "b3c4e3a4",
   "metadata": {
    "execution": {
     "iopub.execute_input": "2023-08-04T16:40:38.042115Z",
     "iopub.status.busy": "2023-08-04T16:40:38.042056Z",
     "iopub.status.idle": "2023-08-04T16:40:38.044577Z",
     "shell.execute_reply": "2023-08-04T16:40:38.044396Z"
    }
   },
   "outputs": [
    {
     "data": {
      "text/plain": [
       "0.3333323120662822"
      ]
     },
     "execution_count": 67,
     "metadata": {},
     "output_type": "execute_result"
    }
   ],
   "source": [
    "a = 0\n",
    "b = 1\n",
    "t = a + (b - a) / (1 + ex.exp(-omega))\n",
    "dt = (b - a) * ex.exp(-omega) * (1 + ex.exp(-omega)) ** -2 \n",
    "integrand = t * t\n",
    "z = ex.Integrate(integrand * dt / (b - a), 'omega')\n",
    "z.getValue_c(prepareIds=True)"
   ]
  },
  {
   "cell_type": "markdown",
   "id": "098579fc",
   "metadata": {},
   "source": [
    "# Expressions using a database"
   ]
  },
  {
   "cell_type": "code",
   "execution_count": 68,
   "id": "7918edfb",
   "metadata": {
    "execution": {
     "iopub.execute_input": "2023-08-04T16:40:38.045414Z",
     "iopub.status.busy": "2023-08-04T16:40:38.045356Z",
     "iopub.status.idle": "2023-08-04T16:40:38.049680Z",
     "shell.execute_reply": "2023-08-04T16:40:38.049500Z"
    }
   },
   "outputs": [],
   "source": [
    "df = pd.DataFrame({'Person': [1, 1, 1, 2, 2],\n",
    "                   'Exclude': [0, 0, 1, 0, 1],\n",
    "                   'Variable1': [10, 20, 30, 40, 50],\n",
    "                   'Variable2': [100, 200, 300, 400, 500],\n",
    "                   'Choice': [2, 2, 3, 1, 2],\n",
    "                   'Av1': [0, 1, 1, 1, 1],\n",
    "                   'Av2': [1, 1, 1, 1, 1],\n",
    "                   'Av3': [0, 1, 1, 1, 1]})\n",
    "myData = db.Database('test', df)"
   ]
  },
  {
   "cell_type": "markdown",
   "id": "d6379089",
   "metadata": {},
   "source": [
    "## Linear utility"
   ]
  },
  {
   "cell_type": "markdown",
   "id": "5c61d229",
   "metadata": {},
   "source": [
    "It defines a linear conbinations of parameters are variables."
   ]
  },
  {
   "cell_type": "code",
   "execution_count": 69,
   "id": "33b44a55",
   "metadata": {
    "execution": {
     "iopub.execute_input": "2023-08-04T16:40:38.050534Z",
     "iopub.status.busy": "2023-08-04T16:40:38.050474Z",
     "iopub.status.idle": "2023-08-04T16:40:38.052027Z",
     "shell.execute_reply": "2023-08-04T16:40:38.051826Z"
    }
   },
   "outputs": [],
   "source": [
    "beta1 = ex.Beta('beta1', 10, None, None, 0)\n",
    "beta2 = ex.Beta('beta2', 20, None, None, 0)\n",
    "v1 = ex.Variable('Variable1')\n",
    "v2 = ex.Variable('Variable2')"
   ]
  },
  {
   "cell_type": "code",
   "execution_count": 70,
   "id": "532ac064",
   "metadata": {
    "execution": {
     "iopub.execute_input": "2023-08-04T16:40:38.052873Z",
     "iopub.status.busy": "2023-08-04T16:40:38.052808Z",
     "iopub.status.idle": "2023-08-04T16:40:38.056559Z",
     "shell.execute_reply": "2023-08-04T16:40:38.056380Z"
    }
   },
   "outputs": [
    {
     "data": {
      "text/plain": [
       "array([ 2100.,  4200.,  6300.,  8400., 10500.])"
      ]
     },
     "execution_count": 70,
     "metadata": {},
     "output_type": "execute_result"
    }
   ],
   "source": [
    "listOfTerms = [\n",
    "    (beta1, v1),\n",
    "    (beta2, v2),\n",
    "]\n",
    "z = ex.bioLinearUtility(listOfTerms)\n",
    "z.getValue_c(database=myData, prepareIds=True)"
   ]
  },
  {
   "cell_type": "markdown",
   "id": "91dddf50",
   "metadata": {},
   "source": [
    "It is equivalent to the following, but implemented in a more efficient way."
   ]
  },
  {
   "cell_type": "code",
   "execution_count": 71,
   "id": "0c1af80c",
   "metadata": {
    "execution": {
     "iopub.execute_input": "2023-08-04T16:40:38.057360Z",
     "iopub.status.busy": "2023-08-04T16:40:38.057294Z",
     "iopub.status.idle": "2023-08-04T16:40:38.059209Z",
     "shell.execute_reply": "2023-08-04T16:40:38.059040Z"
    }
   },
   "outputs": [
    {
     "data": {
      "text/plain": [
       "array([ 2100.,  4200.,  6300.,  8400., 10500.])"
      ]
     },
     "execution_count": 71,
     "metadata": {},
     "output_type": "execute_result"
    }
   ],
   "source": [
    "z = beta1 * v1 + beta2 * v2\n",
    "z.getValue_c(database=myData, prepareIds=True)"
   ]
  },
  {
   "cell_type": "markdown",
   "id": "3d05db84",
   "metadata": {},
   "source": [
    "## Monte Carlo"
   ]
  },
  {
   "cell_type": "markdown",
   "id": "824e5451",
   "metadata": {},
   "source": [
    "We approximate the integral $$\\int_0^1 x^2 dx=\\frac{1}{3}$$ using Monte-Carlo integration. As draws require a database, it is calculated for each entry in the database."
   ]
  },
  {
   "cell_type": "code",
   "execution_count": 72,
   "id": "0baecef7",
   "metadata": {
    "execution": {
     "iopub.execute_input": "2023-08-04T16:40:38.060110Z",
     "iopub.status.busy": "2023-08-04T16:40:38.060036Z",
     "iopub.status.idle": "2023-08-04T16:40:38.064867Z",
     "shell.execute_reply": "2023-08-04T16:40:38.064661Z"
    }
   },
   "outputs": [
    {
     "data": {
      "text/plain": [
       "array([0.33167386, 0.33573263, 0.33021422, 0.32983119, 0.34032804])"
      ]
     },
     "execution_count": 72,
     "metadata": {},
     "output_type": "execute_result"
    }
   ],
   "source": [
    "draws = ex.bioDraws('draws', 'UNIFORM')\n",
    "z = ex.MonteCarlo(draws * draws)\n",
    "z.getValue_c(database=myData, prepareIds=True)"
   ]
  },
  {
   "cell_type": "markdown",
   "id": "fe1d251a",
   "metadata": {},
   "source": [
    "## Panel Trajectory"
   ]
  },
  {
   "cell_type": "markdown",
   "id": "6ecc90fd",
   "metadata": {},
   "source": [
    "We first calculate a quantity for each entry in the database."
   ]
  },
  {
   "cell_type": "code",
   "execution_count": 73,
   "id": "775ec20d",
   "metadata": {
    "execution": {
     "iopub.execute_input": "2023-08-04T16:40:38.065746Z",
     "iopub.status.busy": "2023-08-04T16:40:38.065681Z",
     "iopub.status.idle": "2023-08-04T16:40:38.067833Z",
     "shell.execute_reply": "2023-08-04T16:40:38.067625Z"
    }
   },
   "outputs": [
    {
     "data": {
      "text/plain": [
       "array([0.09090909, 0.09090909, 0.09090909, 0.09090909, 0.09090909])"
      ]
     },
     "execution_count": 73,
     "metadata": {},
     "output_type": "execute_result"
    }
   ],
   "source": [
    "v1 = ex.Variable('Variable1')\n",
    "v2 = ex.Variable('Variable2')\n",
    "p = v1 / (v1 + v2)\n",
    "p.getValue_c(database=myData, prepareIds=True)"
   ]
  },
  {
   "cell_type": "markdown",
   "id": "037d01e4",
   "metadata": {},
   "source": [
    "We now declare the data as \"panel\", based on the identified `Person`. It means that the first three rows correspond to a sequence of three observations for individual 1, and the last two, a sequence of two observations for individual 2. The panel trajectory calculates the expression for each row associated with an individual, and calculate the product. "
   ]
  },
  {
   "cell_type": "code",
   "execution_count": 74,
   "id": "b297bb0a",
   "metadata": {
    "execution": {
     "iopub.execute_input": "2023-08-04T16:40:38.068758Z",
     "iopub.status.busy": "2023-08-04T16:40:38.068693Z",
     "iopub.status.idle": "2023-08-04T16:40:38.073124Z",
     "shell.execute_reply": "2023-08-04T16:40:38.072929Z"
    }
   },
   "outputs": [],
   "source": [
    "myData.panel('Person')"
   ]
  },
  {
   "cell_type": "markdown",
   "id": "cc019e15",
   "metadata": {},
   "source": [
    "In this case, we expect the following for individual 1:"
   ]
  },
  {
   "cell_type": "code",
   "execution_count": 75,
   "id": "e76e2024",
   "metadata": {
    "execution": {
     "iopub.execute_input": "2023-08-04T16:40:38.074070Z",
     "iopub.status.busy": "2023-08-04T16:40:38.073998Z",
     "iopub.status.idle": "2023-08-04T16:40:38.075620Z",
     "shell.execute_reply": "2023-08-04T16:40:38.075425Z"
    }
   },
   "outputs": [
    {
     "data": {
      "text/plain": [
       "0.0007513147783621339"
      ]
     },
     "execution_count": 75,
     "metadata": {},
     "output_type": "execute_result"
    }
   ],
   "source": [
    "0.09090909 ** 3"
   ]
  },
  {
   "cell_type": "markdown",
   "id": "a2d6a653",
   "metadata": {},
   "source": [
    "And the following for individual 2:"
   ]
  },
  {
   "cell_type": "code",
   "execution_count": 76,
   "id": "4492e76a",
   "metadata": {
    "execution": {
     "iopub.execute_input": "2023-08-04T16:40:38.076398Z",
     "iopub.status.busy": "2023-08-04T16:40:38.076334Z",
     "iopub.status.idle": "2023-08-04T16:40:38.077960Z",
     "shell.execute_reply": "2023-08-04T16:40:38.077777Z"
    }
   },
   "outputs": [
    {
     "data": {
      "text/plain": [
       "0.0082644626446281"
      ]
     },
     "execution_count": 76,
     "metadata": {},
     "output_type": "execute_result"
    }
   ],
   "source": [
    "0.09090909 ** 2"
   ]
  },
  {
   "cell_type": "markdown",
   "id": "2e0a230b",
   "metadata": {},
   "source": [
    "We verify that it is indeed the case:"
   ]
  },
  {
   "cell_type": "code",
   "execution_count": 77,
   "id": "ec01ec2e",
   "metadata": {
    "execution": {
     "iopub.execute_input": "2023-08-04T16:40:38.078844Z",
     "iopub.status.busy": "2023-08-04T16:40:38.078771Z",
     "iopub.status.idle": "2023-08-04T16:40:38.081374Z",
     "shell.execute_reply": "2023-08-04T16:40:38.081171Z"
    }
   },
   "outputs": [
    {
     "data": {
      "text/plain": [
       "array([0.00075131, 0.00826446])"
      ]
     },
     "execution_count": 77,
     "metadata": {},
     "output_type": "execute_result"
    }
   ],
   "source": [
    "z = ex.PanelLikelihoodTrajectory(p)\n",
    "z.getValue_c(database=myData, prepareIds=True)"
   ]
  },
  {
   "cell_type": "code",
   "execution_count": null,
   "id": "70929fc5",
   "metadata": {},
   "outputs": [],
   "source": []
  }
 ],
 "metadata": {
  "kernelspec": {
   "display_name": "Python 3 (ipykernel)",
   "language": "python",
   "name": "python3"
  },
  "language_info": {
   "codemirror_mode": {
    "name": "ipython",
    "version": 3
   },
   "file_extension": ".py",
   "mimetype": "text/x-python",
   "name": "python",
   "nbconvert_exporter": "python",
   "pygments_lexer": "ipython3",
   "version": "3.11.3"
  }
 },
 "nbformat": 4,
 "nbformat_minor": 5
}
