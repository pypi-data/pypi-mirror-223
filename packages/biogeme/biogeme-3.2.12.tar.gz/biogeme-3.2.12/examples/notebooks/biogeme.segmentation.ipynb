{
 "cells": [
  {
   "cell_type": "markdown",
   "id": "04317e3f",
   "metadata": {},
   "source": [
    "# biogeme.segmentation"
   ]
  },
  {
   "cell_type": "markdown",
   "id": "c1485b0f",
   "metadata": {},
   "source": [
    "## Examples of use"
   ]
  },
  {
   "cell_type": "markdown",
   "id": "ff6ad736",
   "metadata": {},
   "source": [
    "This webpage is for programmers who need examples of use of the functions of the module. The examples are designed to illustrate the syntax. They do not correspond to any meaningful model. For examples of models, visit  [biogeme.epfl.ch](http://biogeme.epfl.ch)."
   ]
  },
  {
   "cell_type": "code",
   "execution_count": 1,
   "id": "3ba33b9a",
   "metadata": {
    "execution": {
     "iopub.execute_input": "2023-08-04T16:40:34.092033Z",
     "iopub.status.busy": "2023-08-04T16:40:34.091780Z",
     "iopub.status.idle": "2023-08-04T16:40:34.099572Z",
     "shell.execute_reply": "2023-08-04T16:40:34.099090Z"
    }
   },
   "outputs": [
    {
     "name": "stdout",
     "output_type": "stream",
     "text": [
      "2023-08-04 18:40:34.097677\n"
     ]
    }
   ],
   "source": [
    "import datetime\n",
    "print(datetime.datetime.now())"
   ]
  },
  {
   "cell_type": "code",
   "execution_count": 2,
   "id": "c2cd8a20",
   "metadata": {
    "execution": {
     "iopub.execute_input": "2023-08-04T16:40:34.101296Z",
     "iopub.status.busy": "2023-08-04T16:40:34.101137Z",
     "iopub.status.idle": "2023-08-04T16:40:34.104902Z",
     "shell.execute_reply": "2023-08-04T16:40:34.104547Z"
    }
   },
   "outputs": [
    {
     "name": "stdout",
     "output_type": "stream",
     "text": [
      "biogeme 3.2.12 [2023-08-04]\n",
      "Home page: http://biogeme.epfl.ch\n",
      "Submit questions to https://groups.google.com/d/forum/biogeme\n",
      "Michel Bierlaire, Transport and Mobility Laboratory, Ecole Polytechnique Fédérale de Lausanne (EPFL)\n",
      "\n"
     ]
    }
   ],
   "source": [
    "import biogeme.version as ver\n",
    "print(ver.getText())"
   ]
  },
  {
   "cell_type": "code",
   "execution_count": 3,
   "id": "8ac43332",
   "metadata": {
    "execution": {
     "iopub.execute_input": "2023-08-04T16:40:34.106518Z",
     "iopub.status.busy": "2023-08-04T16:40:34.106381Z",
     "iopub.status.idle": "2023-08-04T16:40:35.322244Z",
     "shell.execute_reply": "2023-08-04T16:40:35.321818Z"
    }
   },
   "outputs": [],
   "source": [
    "import biogeme.segmentation as seg\n",
    "from biogeme.expressions import Variable, Beta"
   ]
  },
  {
   "cell_type": "code",
   "execution_count": 4,
   "id": "69141a70",
   "metadata": {
    "execution": {
     "iopub.execute_input": "2023-08-04T16:40:35.324297Z",
     "iopub.status.busy": "2023-08-04T16:40:35.323969Z",
     "iopub.status.idle": "2023-08-04T16:40:35.326939Z",
     "shell.execute_reply": "2023-08-04T16:40:35.326679Z"
    }
   },
   "outputs": [],
   "source": [
    "socio_eco_1 = Variable('socio_eco_1')"
   ]
  },
  {
   "cell_type": "code",
   "execution_count": 5,
   "id": "4efc6035",
   "metadata": {
    "execution": {
     "iopub.execute_input": "2023-08-04T16:40:35.328138Z",
     "iopub.status.busy": "2023-08-04T16:40:35.328028Z",
     "iopub.status.idle": "2023-08-04T16:40:35.329995Z",
     "shell.execute_reply": "2023-08-04T16:40:35.329740Z"
    }
   },
   "outputs": [],
   "source": [
    "segmentation_1 = seg.DiscreteSegmentationTuple(\n",
    "    variable=socio_eco_1,\n",
    "    mapping={\n",
    "        1: 'high',\n",
    "        2: 'medium',\n",
    "        3: 'low',\n",
    "    }\n",
    ")"
   ]
  },
  {
   "cell_type": "code",
   "execution_count": 6,
   "id": "1e3e4eea",
   "metadata": {
    "execution": {
     "iopub.execute_input": "2023-08-04T16:40:35.331191Z",
     "iopub.status.busy": "2023-08-04T16:40:35.331078Z",
     "iopub.status.idle": "2023-08-04T16:40:35.332783Z",
     "shell.execute_reply": "2023-08-04T16:40:35.332535Z"
    }
   },
   "outputs": [],
   "source": [
    "socio_eco_2 = Variable('socio_eco_2')"
   ]
  },
  {
   "cell_type": "code",
   "execution_count": 7,
   "id": "5087957f",
   "metadata": {
    "execution": {
     "iopub.execute_input": "2023-08-04T16:40:35.333978Z",
     "iopub.status.busy": "2023-08-04T16:40:35.333886Z",
     "iopub.status.idle": "2023-08-04T16:40:35.335832Z",
     "shell.execute_reply": "2023-08-04T16:40:35.335594Z"
    }
   },
   "outputs": [],
   "source": [
    "segmentation_2 = seg.DiscreteSegmentationTuple(\n",
    "    variable=socio_eco_2,\n",
    "    mapping={\n",
    "        1: 'level_1',\n",
    "        2: 'level_2',\n",
    "        3: 'level_3',\n",
    "        4: 'level_4',\n",
    "    }\n",
    ")"
   ]
  },
  {
   "cell_type": "code",
   "execution_count": 8,
   "id": "432f5fa0",
   "metadata": {
    "execution": {
     "iopub.execute_input": "2023-08-04T16:40:35.337024Z",
     "iopub.status.busy": "2023-08-04T16:40:35.336932Z",
     "iopub.status.idle": "2023-08-04T16:40:35.338804Z",
     "shell.execute_reply": "2023-08-04T16:40:35.338541Z"
    }
   },
   "outputs": [],
   "source": [
    "beta_x = Beta('beta_x', 0, None, None, 0)"
   ]
  },
  {
   "cell_type": "code",
   "execution_count": 9,
   "id": "494db9aa",
   "metadata": {
    "execution": {
     "iopub.execute_input": "2023-08-04T16:40:35.339913Z",
     "iopub.status.busy": "2023-08-04T16:40:35.339829Z",
     "iopub.status.idle": "2023-08-04T16:40:35.341646Z",
     "shell.execute_reply": "2023-08-04T16:40:35.341315Z"
    }
   },
   "outputs": [],
   "source": [
    "segmented_parameter = seg.Segmentation(beta_x, (segmentation_1,))"
   ]
  },
  {
   "cell_type": "markdown",
   "id": "0f0c3b7e",
   "metadata": {},
   "source": [
    "The expressions for the segmented parameter is obtained as follows: "
   ]
  },
  {
   "cell_type": "code",
   "execution_count": 10,
   "id": "a2d2ac30",
   "metadata": {
    "execution": {
     "iopub.execute_input": "2023-08-04T16:40:35.342934Z",
     "iopub.status.busy": "2023-08-04T16:40:35.342853Z",
     "iopub.status.idle": "2023-08-04T16:40:35.346402Z",
     "shell.execute_reply": "2023-08-04T16:40:35.346094Z"
    }
   },
   "outputs": [
    {
     "data": {
      "text/plain": [
       "bioMultSum(beta_x(init=0), (beta_x_medium(init=0) * (socio_eco_1 == `2.0`)), (beta_x_low(init=0) * (socio_eco_1 == `3.0`)))"
      ]
     },
     "execution_count": 10,
     "metadata": {},
     "output_type": "execute_result"
    }
   ],
   "source": [
    "segmented_parameter.segmented_beta()"
   ]
  },
  {
   "cell_type": "markdown",
   "id": "1eea5896",
   "metadata": {},
   "source": [
    "The corresponding Python code can be obtained as follows."
   ]
  },
  {
   "cell_type": "code",
   "execution_count": 11,
   "id": "fdf6a2ec",
   "metadata": {
    "execution": {
     "iopub.execute_input": "2023-08-04T16:40:35.347536Z",
     "iopub.status.busy": "2023-08-04T16:40:35.347454Z",
     "iopub.status.idle": "2023-08-04T16:40:35.349279Z",
     "shell.execute_reply": "2023-08-04T16:40:35.349042Z"
    }
   },
   "outputs": [
    {
     "name": "stdout",
     "output_type": "stream",
     "text": [
      "beta_x_medium = Beta('beta_x_medium', 0, None, None, 0)\n",
      "beta_x_low = Beta('beta_x_low', 0, None, None, 0)\n",
      "segmented_beta_x = bioMultSum([Beta('beta_x', 0, None, None, 0), beta_x_medium * (Variable('socio_eco_1') == 2), beta_x_low * (Variable('socio_eco_1') == 3)])\n"
     ]
    }
   ],
   "source": [
    "print(segmented_parameter.segmented_code())"
   ]
  },
  {
   "cell_type": "markdown",
   "id": "ed7dfdc7",
   "metadata": {},
   "source": [
    "The code of the original beta is also available:"
   ]
  },
  {
   "cell_type": "code",
   "execution_count": 12,
   "id": "bd24e28f",
   "metadata": {
    "execution": {
     "iopub.execute_input": "2023-08-04T16:40:35.350331Z",
     "iopub.status.busy": "2023-08-04T16:40:35.350254Z",
     "iopub.status.idle": "2023-08-04T16:40:35.352153Z",
     "shell.execute_reply": "2023-08-04T16:40:35.351889Z"
    }
   },
   "outputs": [
    {
     "name": "stdout",
     "output_type": "stream",
     "text": [
      "Beta('beta_x', 0, None, None, 0)\n"
     ]
    }
   ],
   "source": [
    "print(segmented_parameter.beta_code())"
   ]
  },
  {
   "cell_type": "markdown",
   "id": "5e47f537",
   "metadata": {},
   "source": [
    "Same with the second segmentation"
   ]
  },
  {
   "cell_type": "code",
   "execution_count": 13,
   "id": "83b1d884",
   "metadata": {
    "execution": {
     "iopub.execute_input": "2023-08-04T16:40:35.353352Z",
     "iopub.status.busy": "2023-08-04T16:40:35.353274Z",
     "iopub.status.idle": "2023-08-04T16:40:35.355067Z",
     "shell.execute_reply": "2023-08-04T16:40:35.354790Z"
    }
   },
   "outputs": [],
   "source": [
    "segmented_parameter = seg.Segmentation(beta_x, (segmentation_2,))"
   ]
  },
  {
   "cell_type": "code",
   "execution_count": 14,
   "id": "870fd141",
   "metadata": {
    "execution": {
     "iopub.execute_input": "2023-08-04T16:40:35.356190Z",
     "iopub.status.busy": "2023-08-04T16:40:35.356094Z",
     "iopub.status.idle": "2023-08-04T16:40:35.358323Z",
     "shell.execute_reply": "2023-08-04T16:40:35.358057Z"
    }
   },
   "outputs": [
    {
     "data": {
      "text/plain": [
       "bioMultSum(beta_x(init=0), (beta_x_level_2(init=0) * (socio_eco_2 == `2.0`)), (beta_x_level_3(init=0) * (socio_eco_2 == `3.0`)), (beta_x_level_4(init=0) * (socio_eco_2 == `4.0`)))"
      ]
     },
     "execution_count": 14,
     "metadata": {},
     "output_type": "execute_result"
    }
   ],
   "source": [
    "segmented_parameter.segmented_beta()"
   ]
  },
  {
   "cell_type": "code",
   "execution_count": 15,
   "id": "389b4063",
   "metadata": {
    "execution": {
     "iopub.execute_input": "2023-08-04T16:40:35.359525Z",
     "iopub.status.busy": "2023-08-04T16:40:35.359408Z",
     "iopub.status.idle": "2023-08-04T16:40:35.361420Z",
     "shell.execute_reply": "2023-08-04T16:40:35.361154Z"
    }
   },
   "outputs": [
    {
     "name": "stdout",
     "output_type": "stream",
     "text": [
      "beta_x_level_2 = Beta('beta_x_level_2', 0, None, None, 0)\n",
      "beta_x_level_3 = Beta('beta_x_level_3', 0, None, None, 0)\n",
      "beta_x_level_4 = Beta('beta_x_level_4', 0, None, None, 0)\n",
      "segmented_beta_x = bioMultSum([Beta('beta_x', 0, None, None, 0), beta_x_level_2 * (Variable('socio_eco_2') == 2), beta_x_level_3 * (Variable('socio_eco_2') == 3), beta_x_level_4 * (Variable('socio_eco_2') == 4)])\n"
     ]
    }
   ],
   "source": [
    "print(segmented_parameter.segmented_code())"
   ]
  },
  {
   "cell_type": "markdown",
   "id": "d55e99ba",
   "metadata": {},
   "source": [
    "The two segmentations can be combined together"
   ]
  },
  {
   "cell_type": "code",
   "execution_count": 16,
   "id": "74af915e",
   "metadata": {
    "execution": {
     "iopub.execute_input": "2023-08-04T16:40:35.362745Z",
     "iopub.status.busy": "2023-08-04T16:40:35.362667Z",
     "iopub.status.idle": "2023-08-04T16:40:35.364583Z",
     "shell.execute_reply": "2023-08-04T16:40:35.364291Z"
    }
   },
   "outputs": [],
   "source": [
    "segmented_parameter = seg.Segmentation(beta_x, (segmentation_1, segmentation_2,))"
   ]
  },
  {
   "cell_type": "code",
   "execution_count": 17,
   "id": "d2508e16",
   "metadata": {
    "execution": {
     "iopub.execute_input": "2023-08-04T16:40:35.365559Z",
     "iopub.status.busy": "2023-08-04T16:40:35.365481Z",
     "iopub.status.idle": "2023-08-04T16:40:35.367656Z",
     "shell.execute_reply": "2023-08-04T16:40:35.367361Z"
    }
   },
   "outputs": [
    {
     "data": {
      "text/plain": [
       "bioMultSum(beta_x(init=0), (beta_x_medium(init=0) * (socio_eco_1 == `2.0`)), (beta_x_low(init=0) * (socio_eco_1 == `3.0`)), (beta_x_level_2(init=0) * (socio_eco_2 == `2.0`)), (beta_x_level_3(init=0) * (socio_eco_2 == `3.0`)), (beta_x_level_4(init=0) * (socio_eco_2 == `4.0`)))"
      ]
     },
     "execution_count": 17,
     "metadata": {},
     "output_type": "execute_result"
    }
   ],
   "source": [
    "segmented_parameter.segmented_beta()"
   ]
  },
  {
   "cell_type": "code",
   "execution_count": 18,
   "id": "a3477d07",
   "metadata": {
    "execution": {
     "iopub.execute_input": "2023-08-04T16:40:35.368651Z",
     "iopub.status.busy": "2023-08-04T16:40:35.368577Z",
     "iopub.status.idle": "2023-08-04T16:40:35.370272Z",
     "shell.execute_reply": "2023-08-04T16:40:35.370007Z"
    }
   },
   "outputs": [
    {
     "name": "stdout",
     "output_type": "stream",
     "text": [
      "beta_x_medium = Beta('beta_x_medium', 0, None, None, 0)\n",
      "beta_x_low = Beta('beta_x_low', 0, None, None, 0)\n",
      "beta_x_level_2 = Beta('beta_x_level_2', 0, None, None, 0)\n",
      "beta_x_level_3 = Beta('beta_x_level_3', 0, None, None, 0)\n",
      "beta_x_level_4 = Beta('beta_x_level_4', 0, None, None, 0)\n",
      "segmented_beta_x = bioMultSum([Beta('beta_x', 0, None, None, 0), beta_x_medium * (Variable('socio_eco_1') == 2), beta_x_low * (Variable('socio_eco_1') == 3), beta_x_level_2 * (Variable('socio_eco_2') == 2), beta_x_level_3 * (Variable('socio_eco_2') == 3), beta_x_level_4 * (Variable('socio_eco_2') == 4)])\n"
     ]
    }
   ],
   "source": [
    "print(segmented_parameter.segmented_code())"
   ]
  },
  {
   "cell_type": "code",
   "execution_count": null,
   "id": "9655e4d2",
   "metadata": {},
   "outputs": [],
   "source": []
  }
 ],
 "metadata": {
  "kernelspec": {
   "display_name": "Python 3 (ipykernel)",
   "language": "python",
   "name": "python3"
  },
  "language_info": {
   "codemirror_mode": {
    "name": "ipython",
    "version": 3
   },
   "file_extension": ".py",
   "mimetype": "text/x-python",
   "name": "python",
   "nbconvert_exporter": "python",
   "pygments_lexer": "ipython3",
   "version": "3.11.3"
  }
 },
 "nbformat": 4,
 "nbformat_minor": 5
}
