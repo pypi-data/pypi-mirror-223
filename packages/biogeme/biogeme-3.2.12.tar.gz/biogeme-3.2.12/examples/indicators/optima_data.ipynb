{
  "cells": [
    {
      "cell_type": "code",
      "metadata": {},
      "source": [
        "#%%\n",
        "\"\"\"File optima_data.py\n",
        "\n",
        "Prepare data for the Optima case study\n",
        ":author: Michel Bierlaire\n",
        ":date: Wed Apr 12 20:52:37 2023\n",
        "\n",
        "\"\"\"\n",
        "\n",
        "import pandas as pd\n",
        "import biogeme.database as db\n",
        "from biogeme.expressions import Variable\n",
        "\n",
        "\n",
        "# Read the data\n",
        "df = pd.read_csv('optima.dat', sep='\\t')\n",
        "database = db.Database('optima', df)\n",
        "\n",
        "# Variables from the data\n",
        "Choice = Variable('Choice')\n",
        "TimePT = Variable('TimePT')\n",
        "TimeCar = Variable('TimeCar')\n",
        "MarginalCostPT = Variable('MarginalCostPT')\n",
        "CostCarCHF = Variable('CostCarCHF')\n",
        "distance_km = Variable('distance_km')\n",
        "Gender = Variable('Gender')\n",
        "OccupStat = Variable('OccupStat')\n",
        "Weight = Variable('Weight')\n",
        "\n",
        "# Exclude observations such that the chosen alternative is -1\n",
        "database.remove(Choice == -1.0)\n",
        "\n",
        "# Normalize the weights\n",
        "sum_weight = database.data['Weight'].sum()\n",
        "number_of_rows = database.data.shape[0]\n",
        "normalized_weight = Weight * number_of_rows / sum_weight\n"
      ],
      "outputs": [],
      "execution_count": null
    }
  ],
  "metadata": {
    "anaconda-cloud": {},
    "kernelspec": {
      "display_name": "Python 3",
      "language": "python",
      "name": "python3"
    },
    "language_info": {
      "codemirror_mode": {
        "name": "ipython",
        "version": 3
      },
      "file_extension": ".py",
      "mimetype": "text/x-python",
      "name": "python",
      "nbconvert_exporter": "python",
      "pygments_lexer": "ipython3",
      "version": "3.6.1"
    }
  },
  "nbformat": 4,
  "nbformat_minor": 4
}