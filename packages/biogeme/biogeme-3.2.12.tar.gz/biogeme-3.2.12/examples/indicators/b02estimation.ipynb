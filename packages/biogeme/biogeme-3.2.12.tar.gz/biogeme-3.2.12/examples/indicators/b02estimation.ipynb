{
  "cells": [
    {
      "cell_type": "code",
      "metadata": {},
      "source": [
        "#%%\n",
        "\"\"\"File b02simulation.py\n",
        "\n",
        ":author: Michel Bierlaire, EPFL\n",
        ":date: Wed Apr 12 21:05:16 2023\n",
        "\n",
        " We estimate a nested logit model and we perform simulation using the\n",
        " estimated model.\n",
        "\n",
        "\"\"\"\n",
        "from biogeme import models\n",
        "import biogeme.biogeme as bio\n",
        "from optima_data import database\n",
        "from scenarios import scenario\n",
        "\n",
        "# Obtain the specification for the default scenario\n",
        "V, nests, Choice, _ = scenario()\n",
        "\n",
        "# The choice model is a nested logit, with availability conditions\n",
        "# For estimation, we need the log of the probability\n",
        "logprob = models.lognested(V, None, nests, Choice)\n",
        "\n",
        "# Create the Biogeme object for estimation\n",
        "the_biogeme = bio.BIOGEME(database, logprob)\n",
        "the_biogeme.modelName = 'b02estimation'\n",
        "\n",
        "print('Estimation...')\n",
        "# Estimate the parameters. Perform bootstrapping.\n",
        "the_biogeme.bootstrap_samples = 100\n",
        "results = the_biogeme.estimate(run_bootstrap=True)\n",
        "\n",
        "# Get the results in a pandas table\n",
        "pandas_results = results.getEstimatedParameters()\n",
        "print(pandas_results)\n",
        "\n",
        "print('Simulation...')\n",
        "\n",
        "simulated_choices = logprob.getValue_c(betas=results.getBetaValues(), database=database)\n",
        "\n",
        "print(simulated_choices)\n",
        "\n",
        "loglikelihood = logprob.getValue_c(\n",
        "    betas=results.getBetaValues(),\n",
        "    database=database,\n",
        "    aggregation=True,\n",
        ")\n",
        "\n",
        "print(f'Final log likelihood:     {results.data.logLike}')\n",
        "print(f'Simulated log likelihood: {loglikelihood}')\n"
      ],
      "outputs": [],
      "execution_count": null
    }
  ],
  "metadata": {
    "anaconda-cloud": {},
    "kernelspec": {
      "display_name": "Python 3",
      "language": "python",
      "name": "python3"
    },
    "language_info": {
      "codemirror_mode": {
        "name": "ipython",
        "version": 3
      },
      "file_extension": ".py",
      "mimetype": "text/x-python",
      "name": "python",
      "nbconvert_exporter": "python",
      "pygments_lexer": "ipython3",
      "version": "3.6.1"
    }
  },
  "nbformat": 4,
  "nbformat_minor": 4
}