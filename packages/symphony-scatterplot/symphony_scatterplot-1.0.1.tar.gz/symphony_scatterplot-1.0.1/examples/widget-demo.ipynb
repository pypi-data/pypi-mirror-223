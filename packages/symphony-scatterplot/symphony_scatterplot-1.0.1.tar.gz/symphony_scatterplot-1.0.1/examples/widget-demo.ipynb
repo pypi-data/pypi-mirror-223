{
 "cells": [
  {
   "cell_type": "markdown",
   "id": "d2582a8f",
   "metadata": {},
   "source": [
    "# Scatterplot Demo \n",
    "\n",
    "Run this noteboook to test your widget, and create the initial directory to be able to run `yarn dev`."
   ]
  },
  {
   "cell_type": "code",
   "execution_count": null,
   "id": "93bc5411",
   "metadata": {},
   "outputs": [],
   "source": [
    "%load_ext autoreload\n",
    "%autoreload 2"
   ]
  },
  {
   "cell_type": "code",
   "execution_count": null,
   "id": "ae7f12b8",
   "metadata": {},
   "outputs": [],
   "source": [
    "import random\n",
    "import pandas as pd\n",
    "\n",
    "import symphony_ui\n",
    "from symphony_scatterplot import SymphonyScatterplot"
   ]
  },
  {
   "cell_type": "markdown",
   "id": "89c84ed5",
   "metadata": {},
   "source": [
    "### Create/Import Data \n",
    "\n",
    "Create a Pandas DataFrame with your data or the metadata for a dataset."
   ]
  },
  {
   "cell_type": "code",
   "execution_count": null,
   "id": "17f31899",
   "metadata": {},
   "outputs": [],
   "source": [
    "ids = ['a' + str(i) for i in range(100)]\n",
    "x = [random.random() for i in range(100)]\n",
    "y = [random.random() for i in range(100)]\n",
    "category = [random.choice(['category_1','category_2','category_3']) for i in range(100)]\n",
    "\n",
    "df = pd.DataFrame(zip(x, y, category, ids), columns=['projection_coordinate_x', 'projection_coordinate_y', 'category', 'id'])"
   ]
  },
  {
   "cell_type": "code",
   "execution_count": null,
   "id": "682d1d8b",
   "metadata": {},
   "outputs": [],
   "source": [
    "df"
   ]
  },
  {
   "cell_type": "markdown",
   "id": "9f46f0c7",
   "metadata": {},
   "source": [
    "### Create Symphony Widgets\n",
    "\n",
    "We can now explore the individual widgets!"
   ]
  },
  {
   "cell_type": "code",
   "execution_count": null,
   "id": "75014332",
   "metadata": {},
   "outputs": [],
   "source": [
    "symph = symphony_ui.Symphony(df, notebook=True)"
   ]
  },
  {
   "cell_type": "code",
   "execution_count": null,
   "id": "e563b169",
   "metadata": {},
   "outputs": [],
   "source": [
    "symph.widget(SymphonyScatterplot)"
   ]
  },
  {
   "cell_type": "markdown",
   "id": "e9e6d295",
   "metadata": {},
   "source": [
    "Use `symphony_ui.set_selected()` to select a particular point in the widget through code."
   ]
  },
  {
   "cell_type": "code",
   "execution_count": null,
   "id": "48a80edd",
   "metadata": {},
   "outputs": [],
   "source": [
    "symph.set_selected(['a0'])"
   ]
  },
  {
   "cell_type": "code",
   "execution_count": null,
   "id": "fee8ee9e",
   "metadata": {},
   "outputs": [],
   "source": [
    "symph.export('../symphony_scatterplot/standalone', name=\"Widget Demo\")"
   ]
  },
  {
   "cell_type": "code",
   "execution_count": null,
   "id": "27080032",
   "metadata": {},
   "outputs": [],
   "source": []
  }
 ],
 "metadata": {
  "finalized": {
   "timestamp": 1623266852462,
   "trusted": false
  },
  "kernelspec": {
   "display_name": "Python 3 (ipykernel)",
   "language": "python",
   "name": "python3"
  },
  "language_info": {
   "codemirror_mode": {
    "name": "ipython",
    "version": 3
   },
   "file_extension": ".py",
   "mimetype": "text/x-python",
   "name": "python",
   "nbconvert_exporter": "python",
   "pygments_lexer": "ipython3",
   "version": "3.11.4"
  },
  "metadata": {
   "interpreter": {
    "hash": "61676ae764c2630d6a4b513ad0617d91546daad86abd1efe70032d363af5955a"
   }
  }
 },
 "nbformat": 4,
 "nbformat_minor": 5
}
