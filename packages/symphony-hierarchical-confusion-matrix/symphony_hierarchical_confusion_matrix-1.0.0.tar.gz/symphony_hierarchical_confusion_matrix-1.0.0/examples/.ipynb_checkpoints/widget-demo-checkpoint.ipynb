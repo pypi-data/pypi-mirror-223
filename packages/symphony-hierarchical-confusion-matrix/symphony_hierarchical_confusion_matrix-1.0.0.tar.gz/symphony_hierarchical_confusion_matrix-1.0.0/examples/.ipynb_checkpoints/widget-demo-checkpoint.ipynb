{
 "cells": [
  {
   "cell_type": "markdown",
   "id": "a0e59ae7",
   "metadata": {},
   "source": [
    "# Hierarchical Confusion Matrix Demo \n",
    "\n",
    "Run this noteboook to test your widget, and create the initial directory to be able to run `yarn dev`."
   ]
  },
  {
   "cell_type": "code",
   "execution_count": null,
   "id": "2a22f847",
   "metadata": {},
   "outputs": [],
   "source": [
    "%load_ext autoreload\n",
    "%autoreload 2"
   ]
  },
  {
   "cell_type": "code",
   "execution_count": null,
   "id": "da9e5bcb",
   "metadata": {},
   "outputs": [],
   "source": [
    "import random\n",
    "import pandas as pd\n",
    "\n",
    "import symphony_ui\n",
    "from symphony_hierarchical_confusion_matrix import SymphonyHierarchicalConfusionMatrix"
   ]
  },
  {
   "cell_type": "markdown",
   "id": "b816aaf2",
   "metadata": {},
   "source": [
    "### Create/Import Data \n",
    "\n",
    "Create a Pandas DataFrame with your data or the metadata for a dataset."
   ]
  },
  {
   "cell_type": "code",
   "execution_count": null,
   "id": "90f3b517",
   "metadata": {},
   "outputs": [],
   "source": [
    "label = ['apple','orange','lemon','apple','orange','lemon','apple','orange','lemon']\n",
    "pred = ['apple','orange','lemon','apple','orange','lemon','apple','lemon','orange']\n",
    "\n",
    "df = pd.DataFrame(zip(label, pred), columns=['label', 'pred'])"
   ]
  },
  {
   "cell_type": "code",
   "execution_count": null,
   "id": "5feee970",
   "metadata": {},
   "outputs": [],
   "source": [
    "df.head()"
   ]
  },
  {
   "cell_type": "markdown",
   "id": "fc93b240",
   "metadata": {},
   "source": [
    "### Create Symphony Widgets\n",
    "\n",
    "We can now explore the individual widgets!"
   ]
  },
  {
   "cell_type": "code",
   "execution_count": null,
   "id": "94fa12ba",
   "metadata": {},
   "outputs": [],
   "source": [
    "symph = symphony_ui.Symphony(df, notebook=True)"
   ]
  },
  {
   "cell_type": "code",
   "execution_count": null,
   "id": "38201d7e",
   "metadata": {
    "scrolled": false
   },
   "outputs": [],
   "source": [
    "symph.widget(SymphonyHierarchicalConfusionMatrix, label_column='label', prediction_column='pred')"
   ]
  },
  {
   "cell_type": "code",
   "execution_count": null,
   "id": "ac6ce5b6",
   "metadata": {},
   "outputs": [],
   "source": [
    "symph.export('../symphony_hierarchical_confusion_matrix/standalone', name=\"Widget Demo\")"
   ]
  },
  {
   "cell_type": "code",
   "execution_count": null,
   "id": "20c4673c",
   "metadata": {},
   "outputs": [],
   "source": []
  }
 ],
 "metadata": {
  "finalized": {
   "timestamp": 1623266852462,
   "trusted": false
  },
  "kernelspec": {
   "display_name": "Python 3 (ipykernel)",
   "language": "python",
   "name": "python3"
  },
  "language_info": {
   "codemirror_mode": {
    "name": "ipython",
    "version": 3
   },
   "file_extension": ".py",
   "mimetype": "text/x-python",
   "name": "python",
   "nbconvert_exporter": "python",
   "pygments_lexer": "ipython3",
   "version": "3.11.4"
  },
  "metadata": {
   "interpreter": {
    "hash": "61676ae764c2630d6a4b513ad0617d91546daad86abd1efe70032d363af5955a"
   }
  }
 },
 "nbformat": 4,
 "nbformat_minor": 5
}
