{
 "cells": [
  {
   "cell_type": "markdown",
   "id": "091fd0f4",
   "metadata": {},
   "source": [
    "# Query observations in a track with SQL-like commands\n",
    "\n",
    "Output depends on the ``SELECT`` clause:\n",
    "\n",
    "    trace = self.track.query(\"SELECT * WHERE speed < 0.5\")\n",
    "\t\n",
    "\n",
    "If \"SELECT f1, f2... fp\", then output is a (p x n)-dimensional array, with p = number of fields \n",
    "queried and n = number of observations selected by the WHERE conditions.\n",
    "* If \"SELECT AGG1(f1), AGG2(f2)... AGGp(fp)\", with AGG1, AGG2,.. AGGp, a set of p aggregators, \n",
    "then output is a p-dimensional array, with on value for each aggregator\n",
    "* If \"SELECT AGG(f)\", then output is the floating point value returned by the operator.\n",
    "\n",
    "\n",
    "Note that operators take as input only analytical feature names. Therefore, \"SELECT COUNT(*)\" syntax \n",
    "is not allowed and must be replaced equivalently by \"SELECT COUNT(f)\" with any AF name f.\n",
    "\n",
    "General rules: \n",
    "\t\t#     - Only SELECT and WHERE keywords (SET and DELETE available soon)\n",
    "\t\t#     - All analytical features + x, y, z, t, and timestamp are available as fields\n",
    "\t\t#     - Fields are written without quotes. They must not contain blank spaces\n",
    "\t\t#     - \"t\" is time as integer in seconds since 1970/01/01 00:00:00, and \"timestamp\" is GPSTIme object\n",
    "\t\t#     - Blank space must be used between every other words, symbols and operators\n",
    "\t\t#     - WHERE clause may contain as many conditions as needed, separated by OR/AND key words\n",
    "\t\t#     - Parenthesis are not allowed within WHERE clause. Use boolean algebra rules to reformulate \n",
    "\t\t#       query without parenthesis: e.g. A AND (B OR C) = A AND B OR A AND C. Or use successive queries.\n",
    "\t\t#     - Each condition must contain exactly 3 parts (separated by blank spaces) in this exact order:\n",
    "\t\t#         (1) the name of an analytical feature to test\n",
    "\t\t#         (2) a comparison operator among >, <, >=, <=, ==, != and LIKE (with % in str and timestamps)\n",
    "\t\t#         (3) a threshold value which is automatically casted to the type of the AF given in (1). \n",
    "\t\t#             Intended types accepted are: integers, floats, strings, boolean and GPSTime. \n",
    "\t\t#             When GPSTime is used as a threshold value, eventhough it may contain 2 parts \n",
    "\t\t#            (date and time), it must not be enclosed within quotes. For boolean, \"1\", \"T\" and \"TRUE\"\n",
    "\t\t#             are considered as logical True, all other values are considered as False.    \n",
    "\t\t#     - Important: no computation allowed in WHERE conditions. E.g. \"... WHERE z-2 > 10\" not allowed\n",
    "\t\t#     - Available aggregators: all unary operators as described in Operator.py, except MSE\n",
    "\t\t#     - Capital letters must be used for SQL keywords SELECT, WHERE, AND, OR and aggregators \n",
    "\n",
    "\n"
   ]
  },
  {
   "cell_type": "markdown",
   "id": "770129b4",
   "metadata": {},
   "source": [
    "Tools to query observations in a track with SQL-like commands\n",
    "---------------------------------------------------------------\n",
    "\n",
    "Output depends on the SELECT clause:\n",
    "\n",
    "If ``SELECT *`` then output is a copied track of the original track (with all its AF hopefully)\n",
    "\n",
    ".. code-block:: python\n",
    "\n",
    "    trace = self.track.query(\"SELECT *\")"
   ]
  },
  {
   "cell_type": "code",
   "execution_count": null,
   "id": "b75f70a6",
   "metadata": {},
   "outputs": [],
   "source": []
  }
 ],
 "metadata": {
  "kernelspec": {
   "display_name": "Python 3 (ipykernel)",
   "language": "python",
   "name": "python3"
  },
  "language_info": {
   "codemirror_mode": {
    "name": "ipython",
    "version": 3
   },
   "file_extension": ".py",
   "mimetype": "text/x-python",
   "name": "python",
   "nbconvert_exporter": "python",
   "pygments_lexer": "ipython3",
   "version": "3.9.1"
  }
 },
 "nbformat": 4,
 "nbformat_minor": 5
}
