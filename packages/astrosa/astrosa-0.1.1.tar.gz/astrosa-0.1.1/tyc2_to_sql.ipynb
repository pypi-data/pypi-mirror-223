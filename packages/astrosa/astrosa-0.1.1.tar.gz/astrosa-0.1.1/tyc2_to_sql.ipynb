{
 "cells": [
  {
   "cell_type": "code",
   "execution_count": 11,
   "metadata": {
    "collapsed": true,
    "ExecuteTime": {
     "end_time": "2023-06-09T13:00:42.597399800Z",
     "start_time": "2023-06-09T13:00:42.578364800Z"
    }
   },
   "outputs": [],
   "source": [
    "import pandas as pd\n",
    "\n",
    "from astropy.io import fits\n",
    "\n",
    "tyc2 = fits.open(\"ossaf/data/tyc2.fit\")\n",
    "\n",
    "tyc2_rows = tyc2[1]._nrows"
   ]
  },
  {
   "cell_type": "code",
   "execution_count": 12,
   "outputs": [],
   "source": [
    "tyc2[1].data\n",
    "df_tyc2_1 = pd.DataFrame(tyc2[1].data.newbyteorder().byteswap())"
   ],
   "metadata": {
    "collapsed": false,
    "ExecuteTime": {
     "end_time": "2023-06-09T13:00:44.012041Z",
     "start_time": "2023-06-09T13:00:43.277378500Z"
    }
   }
  },
  {
   "cell_type": "code",
   "execution_count": 14,
   "outputs": [
    {
     "data": {
      "text/plain": "        _RAJ2000   _DEJ2000  recno  TYC1  TYC2  TYC3       pmRA       pmDE  \\\n0       2.317504   2.231844      1     1     8     1 -16.299999  -9.000000   \n1       1.125582   2.267394      2     1    13     1  27.700001  -0.500000   \n2       1.056865   1.897832      3     1    16     1 -25.900000 -44.400002   \n3       0.050939   1.771467      4     1    17     1  32.099998 -20.700001   \n4       0.050449   1.771435      5     1    17     2  32.099998 -20.700001   \n...          ...        ...    ...   ...   ...   ...        ...        ...   \n1141  292.913502 -76.656244   1142  9459  2313     1        NaN        NaN   \n1142  315.360069 -75.429066   1143  9461  1990     2        NaN        NaN   \n1143  323.376662 -80.039513   1144  9482  1241     1        NaN        NaN   \n1144  236.591083 -83.000692   1145  9509  4022     1        NaN        NaN   \n1145  242.615775 -84.235046   1146  9522  4321     1        NaN        NaN   \n\n       BTmag   VTmag         HIP    RA_ICRS_   DE_ICRS_  \n0     12.146  12.146 -2147483648    2.317542   2.231864  \n1     10.488   8.670 -2147483648    1.125519   2.267396  \n2     12.921  12.100 -2147483648    1.056924   1.897933  \n3     11.318  10.521 -2147483648    0.050866   1.771514  \n4     10.772  10.093 -2147483648    0.050376   1.771482  \n...      ...     ...         ...         ...        ...  \n1141  12.326  10.799 -2147483648  292.913502 -76.656244  \n1142  11.590  11.300 -2147483648  315.360069 -75.429066  \n1143  11.058  10.380 -2147483648  323.376662 -80.039513  \n1144  12.287  11.276 -2147483648  236.591083 -83.000692  \n1145  12.165  11.277 -2147483648  242.615775 -84.235046  \n\n[2558647 rows x 13 columns]",
      "text/html": "<div>\n<style scoped>\n    .dataframe tbody tr th:only-of-type {\n        vertical-align: middle;\n    }\n\n    .dataframe tbody tr th {\n        vertical-align: top;\n    }\n\n    .dataframe thead th {\n        text-align: right;\n    }\n</style>\n<table border=\"1\" class=\"dataframe\">\n  <thead>\n    <tr style=\"text-align: right;\">\n      <th></th>\n      <th>_RAJ2000</th>\n      <th>_DEJ2000</th>\n      <th>recno</th>\n      <th>TYC1</th>\n      <th>TYC2</th>\n      <th>TYC3</th>\n      <th>pmRA</th>\n      <th>pmDE</th>\n      <th>BTmag</th>\n      <th>VTmag</th>\n      <th>HIP</th>\n      <th>RA_ICRS_</th>\n      <th>DE_ICRS_</th>\n    </tr>\n  </thead>\n  <tbody>\n    <tr>\n      <th>0</th>\n      <td>2.317504</td>\n      <td>2.231844</td>\n      <td>1</td>\n      <td>1</td>\n      <td>8</td>\n      <td>1</td>\n      <td>-16.299999</td>\n      <td>-9.000000</td>\n      <td>12.146</td>\n      <td>12.146</td>\n      <td>-2147483648</td>\n      <td>2.317542</td>\n      <td>2.231864</td>\n    </tr>\n    <tr>\n      <th>1</th>\n      <td>1.125582</td>\n      <td>2.267394</td>\n      <td>2</td>\n      <td>1</td>\n      <td>13</td>\n      <td>1</td>\n      <td>27.700001</td>\n      <td>-0.500000</td>\n      <td>10.488</td>\n      <td>8.670</td>\n      <td>-2147483648</td>\n      <td>1.125519</td>\n      <td>2.267396</td>\n    </tr>\n    <tr>\n      <th>2</th>\n      <td>1.056865</td>\n      <td>1.897832</td>\n      <td>3</td>\n      <td>1</td>\n      <td>16</td>\n      <td>1</td>\n      <td>-25.900000</td>\n      <td>-44.400002</td>\n      <td>12.921</td>\n      <td>12.100</td>\n      <td>-2147483648</td>\n      <td>1.056924</td>\n      <td>1.897933</td>\n    </tr>\n    <tr>\n      <th>3</th>\n      <td>0.050939</td>\n      <td>1.771467</td>\n      <td>4</td>\n      <td>1</td>\n      <td>17</td>\n      <td>1</td>\n      <td>32.099998</td>\n      <td>-20.700001</td>\n      <td>11.318</td>\n      <td>10.521</td>\n      <td>-2147483648</td>\n      <td>0.050866</td>\n      <td>1.771514</td>\n    </tr>\n    <tr>\n      <th>4</th>\n      <td>0.050449</td>\n      <td>1.771435</td>\n      <td>5</td>\n      <td>1</td>\n      <td>17</td>\n      <td>2</td>\n      <td>32.099998</td>\n      <td>-20.700001</td>\n      <td>10.772</td>\n      <td>10.093</td>\n      <td>-2147483648</td>\n      <td>0.050376</td>\n      <td>1.771482</td>\n    </tr>\n    <tr>\n      <th>...</th>\n      <td>...</td>\n      <td>...</td>\n      <td>...</td>\n      <td>...</td>\n      <td>...</td>\n      <td>...</td>\n      <td>...</td>\n      <td>...</td>\n      <td>...</td>\n      <td>...</td>\n      <td>...</td>\n      <td>...</td>\n      <td>...</td>\n    </tr>\n    <tr>\n      <th>1141</th>\n      <td>292.913502</td>\n      <td>-76.656244</td>\n      <td>1142</td>\n      <td>9459</td>\n      <td>2313</td>\n      <td>1</td>\n      <td>NaN</td>\n      <td>NaN</td>\n      <td>12.326</td>\n      <td>10.799</td>\n      <td>-2147483648</td>\n      <td>292.913502</td>\n      <td>-76.656244</td>\n    </tr>\n    <tr>\n      <th>1142</th>\n      <td>315.360069</td>\n      <td>-75.429066</td>\n      <td>1143</td>\n      <td>9461</td>\n      <td>1990</td>\n      <td>2</td>\n      <td>NaN</td>\n      <td>NaN</td>\n      <td>11.590</td>\n      <td>11.300</td>\n      <td>-2147483648</td>\n      <td>315.360069</td>\n      <td>-75.429066</td>\n    </tr>\n    <tr>\n      <th>1143</th>\n      <td>323.376662</td>\n      <td>-80.039513</td>\n      <td>1144</td>\n      <td>9482</td>\n      <td>1241</td>\n      <td>1</td>\n      <td>NaN</td>\n      <td>NaN</td>\n      <td>11.058</td>\n      <td>10.380</td>\n      <td>-2147483648</td>\n      <td>323.376662</td>\n      <td>-80.039513</td>\n    </tr>\n    <tr>\n      <th>1144</th>\n      <td>236.591083</td>\n      <td>-83.000692</td>\n      <td>1145</td>\n      <td>9509</td>\n      <td>4022</td>\n      <td>1</td>\n      <td>NaN</td>\n      <td>NaN</td>\n      <td>12.287</td>\n      <td>11.276</td>\n      <td>-2147483648</td>\n      <td>236.591083</td>\n      <td>-83.000692</td>\n    </tr>\n    <tr>\n      <th>1145</th>\n      <td>242.615775</td>\n      <td>-84.235046</td>\n      <td>1146</td>\n      <td>9522</td>\n      <td>4321</td>\n      <td>1</td>\n      <td>NaN</td>\n      <td>NaN</td>\n      <td>12.165</td>\n      <td>11.277</td>\n      <td>-2147483648</td>\n      <td>242.615775</td>\n      <td>-84.235046</td>\n    </tr>\n  </tbody>\n</table>\n<p>2558647 rows × 13 columns</p>\n</div>"
     },
     "execution_count": 14,
     "metadata": {},
     "output_type": "execute_result"
    }
   ],
   "source": [
    "tyc2[2].data\n",
    "df_tyc2_2 = pd.DataFrame(tyc2[2].data.newbyteorder().byteswap())\n",
    "df_tyc2_3 = pd.DataFrame(tyc2[3].data.newbyteorder().byteswap())\n",
    "\n",
    "df_tyc2 = pd.concat([df_tyc2_1, df_tyc2_2, df_tyc2_3])\n",
    "df_tyc2"
   ],
   "metadata": {
    "collapsed": false,
    "ExecuteTime": {
     "end_time": "2023-06-09T13:01:40.743134200Z",
     "start_time": "2023-06-09T13:01:40.659984900Z"
    }
   }
  },
  {
   "cell_type": "code",
   "execution_count": 17,
   "outputs": [
    {
     "data": {
      "text/plain": "15.192999839782715"
     },
     "execution_count": 17,
     "metadata": {},
     "output_type": "execute_result"
    }
   ],
   "source": [
    "df_tyc2.VTmag.max()"
   ],
   "metadata": {
    "collapsed": false,
    "ExecuteTime": {
     "end_time": "2023-06-10T04:09:55.101999600Z",
     "start_time": "2023-06-10T04:09:55.062976600Z"
    }
   }
  },
  {
   "cell_type": "code",
   "execution_count": 18,
   "outputs": [
    {
     "data": {
      "text/plain": "-1.0880000591278076"
     },
     "execution_count": 18,
     "metadata": {},
     "output_type": "execute_result"
    }
   ],
   "source": [
    "df_tyc2.VTmag.min()"
   ],
   "metadata": {
    "collapsed": false,
    "ExecuteTime": {
     "end_time": "2023-06-10T04:10:01.719462700Z",
     "start_time": "2023-06-10T04:10:01.670463700Z"
    }
   }
  },
  {
   "cell_type": "code",
   "execution_count": 15,
   "outputs": [],
   "source": [
    "df_tyc2['ID'] = df_tyc2['TYC1'].astype(str) + '-' + df_tyc2['TYC2'].astype(str) + '-' + df_tyc2['TYC3'].astype(str)"
   ],
   "metadata": {
    "collapsed": false,
    "ExecuteTime": {
     "end_time": "2023-06-09T13:02:54.468598100Z",
     "start_time": "2023-06-09T13:02:52.924235200Z"
    }
   }
  },
  {
   "cell_type": "code",
   "execution_count": 16,
   "outputs": [
    {
     "data": {
      "text/plain": "2558647"
     },
     "execution_count": 16,
     "metadata": {},
     "output_type": "execute_result"
    }
   ],
   "source": [
    "import sqlite3\n",
    "\n",
    "engine = sqlite3.connect('ossaf/data/tyc2.sqlite')\n",
    "df_tyc2.to_sql('tyc2', con=engine, if_exists='replace', index=False)"
   ],
   "metadata": {
    "collapsed": false,
    "ExecuteTime": {
     "end_time": "2023-06-09T13:03:04.090759500Z",
     "start_time": "2023-06-09T13:02:57.951032Z"
    }
   }
  },
  {
   "cell_type": "code",
   "execution_count": 9,
   "outputs": [
    {
     "data": {
      "text/plain": "FITS_rec([(  3.03708871,   1.57351477,     1,    2,  580, 1,   3.03708871,   1.57351477,   nan,    nan, 11.688, 11.171, -2147483648),\n          (  3.43212271,   1.39153181,     2,    2,  976, 1,   3.43212271,   1.39153181,   nan,    nan, 11.311, 10.4  , -2147483648),\n          (  4.36829249,   0.31946617,     3,    2, 1127, 2,   4.36837051,   0.31948829, -32.1,   -9.1,    nan, 10.279,        1397),\n          ...,\n          (248.35483403, -85.18243157, 17586, 9526,  219, 1, 248.35674702, -85.1817656 , -66.1, -274. ,    nan, 13.077,       81063),\n          (320.79252118, -85.62662503, 17587, 9528, 1301, 1, 320.79252118, -85.62662503,   nan,    nan, 11.626, 10.848, -2147483648),\n          (352.32754215, -85.7090409 , 17588, 9529, 1923, 1, 352.32737973, -85.70901878,   5. ,   -9.1,  9.595,  8.528,      115928)],\n         dtype=(numpy.record, [('_RAJ2000', '>f8'), ('_DEJ2000', '>f8'), ('recno', '>i4'), ('TYC1', '>i2'), ('TYC2', '>i2'), ('TYC3', 'u1'), ('RA_ICRS_', '>f8'), ('DE_ICRS_', '>f8'), ('pmRA', '>f4'), ('pmDE', '>f4'), ('BTmag', '>f4'), ('VTmag', '>f4'), ('HIP', '>i4')]))"
     },
     "execution_count": 9,
     "metadata": {},
     "output_type": "execute_result"
    }
   ],
   "source": [],
   "metadata": {
    "collapsed": false,
    "ExecuteTime": {
     "end_time": "2023-06-09T12:59:16.177522500Z",
     "start_time": "2023-06-09T12:59:16.166502300Z"
    }
   }
  },
  {
   "cell_type": "code",
   "execution_count": null,
   "outputs": [],
   "source": [],
   "metadata": {
    "collapsed": false
   }
  }
 ],
 "metadata": {
  "kernelspec": {
   "display_name": "Python 3",
   "language": "python",
   "name": "python3"
  },
  "language_info": {
   "codemirror_mode": {
    "name": "ipython",
    "version": 2
   },
   "file_extension": ".py",
   "mimetype": "text/x-python",
   "name": "python",
   "nbconvert_exporter": "python",
   "pygments_lexer": "ipython2",
   "version": "2.7.6"
  }
 },
 "nbformat": 4,
 "nbformat_minor": 0
}
