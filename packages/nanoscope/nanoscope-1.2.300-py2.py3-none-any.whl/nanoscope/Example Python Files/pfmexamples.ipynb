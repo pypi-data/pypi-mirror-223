{
 "cells": [
  {
   "cell_type": "code",
   "execution_count": 8,
   "metadata": {},
   "outputs": [],
   "source": [
    "\"\"\"\n",
    "IPython Notebook examples for PFM script analysis using nanoscope analysis utilities.\n",
    "\n",
    "The first cell should always be run to initialize notebook.\n",
    "\n",
    "\"\"\"\n",
    "\n",
    "import matplotlib.pyplot as plt\n",
    "import nanoscope\n",
    "from os.path import dirname, realpath, join\n",
    "from nanoscope import files\n",
    "from nanoscope.tools import script_tools as st\n",
    "\n",
    "DIR = dirname(realpath(nanoscope.__file__))\n",
    "EXAMPLES_FILE_PATH = join(DIR, \"Example Nanoscope Files\")\n",
    "TIPBIAS_FIXED = join(EXAMPLES_FILE_PATH, \"ScriptTipBiasFixed.spm\")\n",
    "TIPBIAS_SWEEP = join(EXAMPLES_FILE_PATH, \"ScriptTipBiasSweep.spm\")\n",
    "\n",
    "def get_pfm_script_parms_example(scriptpath):\n",
    "    \"\"\" Generates a table of parameters relevant for a PFM script\n",
    "    \"\"\"\n",
    "    with files.ScriptFile(scriptpath) as file_:\n",
    "        print(\"\")\n",
    "        print(\" N Description            Type  Size   Duration   \"\n",
    "              \"Tip Bias  Ramp  Type      Ramp Size Ramp Start Amplitude\"\n",
    "              \"Frequency\")\n",
    "        print(\"-- ---------------------- ----- -----  ---------- \"\n",
    "              \"--------  --------------- --------- ---------- --------- \"\n",
    "              \"--------- \")\n",
    "        segs_info = file_.segments_info\n",
    "        for i, info in enumerate(segs_info):\n",
    "            general = \"{:>2}  {:>21}  {:>4}  {:>4}\".format(\n",
    "                i, info.description, info.type, info.size)\n",
    "            duration = \"{:>8.4f} {:<2}\".format(info.duration,\n",
    "                                               info.duration_units)\n",
    "\n",
    "            tip_bias_blanked, tip_bias_units_blanked = st.blank_unitless(\n",
    "                info.tip_bias, info.tip_bias_units)\n",
    "            tip_bias = u\"{:>4} {:<2}\".format(\n",
    "                tip_bias_blanked, tip_bias_units_blanked)\n",
    "\n",
    "            ramp_type = u\"{:>13}\".format(info.ramp_type)\n",
    "\n",
    "            ramp_size_blanked, ramp_size_units_blanked = st.blank_unitless(\n",
    "                info.ramp_size, info.ramp_size_units)\n",
    "            ramp_size = u\"{:>6} {:>2}\".format(\n",
    "                ramp_size_blanked, ramp_size_units_blanked)\n",
    "\n",
    "            ramp_start_blanked, ramp_start_units_blanked = st.blank_unitless(\n",
    "                info.ramp_start, info.ramp_start_units)\n",
    "            ramp_start = u\"{:>5} {:>2}\".format(\n",
    "                ramp_start_blanked, ramp_start_units_blanked)\n",
    "\n",
    "            amp_blanked, amp_units_blanked = st.blank_unitless(\n",
    "                info.amplitude, info.amplitude_units)\n",
    "            if amp_units_blanked == \"\":\n",
    "                amplitude = u\"{:>5}\".format(amp_blanked)\n",
    "                amplitude += u\"{:>2}\".format(amp_units_blanked)\n",
    "            else:\n",
    "                amplitude = u\"{:>5}\".format(amp_blanked)\n",
    "                amplitude += u\"{:>2}\".format(amp_units_blanked.decode('utf8'))\n",
    "\n",
    "            freq_blanked, freq_units_blanked = st.blank_unitless(\n",
    "                info.frequency, info.frequency_units)\n",
    "            if freq_units_blanked == \"\":\n",
    "                frequency = u\"{:>2}\".format(freq_blanked)\n",
    "                frequency += u\"{:>4}\".format(freq_units_blanked)\n",
    "            else:\n",
    "                frequency = u\"{:>2}\".format(freq_blanked)\n",
    "                frequency += u\"{:>4}\".format(freq_units_blanked.decode('utf8'))\n",
    "\n",
    "            print(\"  \".join((general, duration, tip_bias, ramp_type,\n",
    "                             ramp_size, ramp_start, amplitude, frequency)))\n",
    "\n",
    "\n",
    "def tip_bias_plot(scriptpath):\n",
    "    with files.ScriptFile(scriptpath) as file_:\n",
    "        segs_info = file_.segments_info\n",
    "        num_segs = file_.segments_count\n",
    "\n",
    "        for i, info in enumerate(segs_info):\n",
    "\n",
    "            # if hold force with bias segment, plot tip bias\n",
    "            if info.type == 11:\n",
    "                plt.hlines(info.tip_bias, i, i+1, color=\"C0\")\n",
    "\n",
    "            # vertical dashed lines showing segment start/end\n",
    "            plt.axvline(i, linestyle='--', color='grey')\n",
    "        ax = plt.gca()\n",
    "\n",
    "        ax.set_title(\"Script Tip Bias\")\n",
    "        ax.set_ylabel(\"Tip Bias (V)\")\n",
    "        ax.set_xlabel(\"Segment Number\")\n",
    "\n",
    "        plt.xticks(range(1, num_segs-1))\n",
    "        plt.show()\n"
   ]
  },
  {
   "cell_type": "markdown",
   "metadata": {},
   "source": [
    "PFM Script Example with Fixed Frequency Modulation"
   ]
  },
  {
   "cell_type": "code",
   "execution_count": 9,
   "metadata": {},
   "outputs": [
    {
     "name": "stdout",
     "output_type": "stream",
     "text": [
      "\n",
      " N Description            Type  Size   Duration   Tip Bias  Ramp  Type      Ramp Size Ramp Start AmplitudeFrequency\n",
      "-- ---------------------- ----- -----  ---------- --------  --------------- --------- ---------- --------- --------- \n",
      " 0           Trigger Down     2  1890    1.8749 s                        Z  1000.0 nm    0.0 nm                 \n",
      " 1   Hold Force With Bias    11   100    1.0000 s   -2.0 V                                        10.0mV  0.005 kHz\n",
      " 2   Hold Force With Bias    11   100    1.0000 s   -0.5 V                                        10.0mV  0.005 kHz\n",
      " 3   Hold Force With Bias    11   100    1.0000 s    0.0 V                                        10.0mV  0.005 kHz\n",
      " 4   Hold Force With Bias    11   100    1.0000 s   -0.5 V                                        10.0mV  0.005 kHz\n",
      " 5   Hold Force With Bias    11   100    1.0000 s    2.0 V                                        10.0mV  0.005 kHz\n",
      " 6   Hold Force With Bias    11   100    1.0000 s   -0.5 V                                        10.0mV  0.005 kHz\n",
      " 7   Hold Force With Bias    11   100    1.0000 s    0.0 V                                        10.0mV  0.005 kHz\n",
      " 8   Hold Force With Bias    11   100    1.0000 s   -0.5 V                                        10.0mV  0.005 kHz\n",
      " 9   Hold Force With Bias    11   100    1.0000 s   -2.0 V                                        10.0mV  0.005 kHz\n",
      "10   Hold Force With Bias    11   100    1.0000 s    0.5 V                                        10.0mV  0.005 kHz\n",
      "11   Hold Force With Bias    11   100    1.0000 s    0.0 V                                        10.0mV  0.005 kHz\n",
      "12   Hold Force With Bias    11   100    1.0000 s    0.5 V                                        10.0mV  0.005 kHz\n",
      "13   Hold Force With Bias    11   100    1.0000 s    2.0 V                                        10.0mV  0.005 kHz\n",
      "14   Hold Force With Bias    11   100    1.0000 s    0.5 V                                        10.0mV  0.005 kHz\n",
      "15   Hold Force With Bias    11   100    1.0000 s    0.0 V                                        10.0mV  0.005 kHz\n",
      "16   Hold Force With Bias    11   100    1.0000 s    0.5 V                                        10.0mV  0.005 kHz\n",
      "17              Retract Z     3  2016    1.9999 s                        Z  -1000.0 nm  1000.0 nm                 \n"
     ]
    }
   ],
   "source": [
    "TIPBIAS_FIXED = join(EXAMPLES_FILE_PATH, \"ScriptTipBiasFixed.spm\")\n",
    "get_pfm_script_parms_example(TIPBIAS_FIXED)"
   ]
  },
  {
   "cell_type": "markdown",
   "metadata": {},
   "source": [
    "PFM Script Example with Frequency Sweep"
   ]
  },
  {
   "cell_type": "code",
   "execution_count": 10,
   "metadata": {},
   "outputs": [
    {
     "name": "stdout",
     "output_type": "stream",
     "text": [
      "\n",
      " N Description            Type  Size   Duration   Tip Bias  Ramp  Type      Ramp Size Ramp Start AmplitudeFrequency\n",
      "-- ---------------------- ----- -----  ---------- --------  --------------- --------- ---------- --------- --------- \n",
      " 0           Trigger Down     2  1836    1.8213 s                        Z  1000.0 nm    0.0 nm                 \n",
      " 1   Hold Force With Bias    11   100    1.0000 s   -2.0 V           Sweep    15.0 Hz    5.0 Hz   10.0mV        \n",
      " 2   Hold Force With Bias    11   100    1.0000 s   -0.5 V           Sweep    15.0 Hz    5.0 Hz   10.0mV        \n",
      " 3   Hold Force With Bias    11   100    1.0000 s    0.0 V           Sweep    15.0 Hz    5.0 Hz   10.0mV        \n",
      " 4   Hold Force With Bias    11   100    1.0000 s   -0.5 V           Sweep    15.0 Hz    5.0 Hz   10.0mV        \n",
      " 5   Hold Force With Bias    11   100    1.0000 s    2.0 V           Sweep    15.0 Hz    5.0 Hz   10.0mV        \n",
      " 6   Hold Force With Bias    11   100    1.0000 s   -0.5 V           Sweep    15.0 Hz    5.0 Hz   10.0mV        \n",
      " 7   Hold Force With Bias    11   100    1.0000 s    0.0 V           Sweep    15.0 Hz    5.0 Hz   10.0mV        \n",
      " 8   Hold Force With Bias    11   100    1.0000 s   -0.5 V           Sweep    15.0 Hz    5.0 Hz   10.0mV        \n",
      " 9   Hold Force With Bias    11   100    1.0000 s   -2.0 V           Sweep    15.0 Hz    5.0 Hz   10.0mV        \n",
      "10   Hold Force With Bias    11   100    1.0000 s    0.5 V           Sweep    15.0 Hz    5.0 Hz   10.0mV        \n",
      "11   Hold Force With Bias    11   100    1.0000 s    0.0 V           Sweep    15.0 Hz    5.0 Hz   10.0mV        \n",
      "12   Hold Force With Bias    11   100    1.0000 s    0.5 V           Sweep    15.0 Hz    5.0 Hz   10.0mV        \n",
      "13   Hold Force With Bias    11   100    1.0000 s    2.0 V           Sweep    15.0 Hz    5.0 Hz   10.0mV        \n",
      "14   Hold Force With Bias    11   100    1.0000 s    0.5 V           Sweep    15.0 Hz    5.0 Hz   10.0mV        \n",
      "15   Hold Force With Bias    11   100    1.0000 s    0.0 V           Sweep    15.0 Hz    5.0 Hz   10.0mV        \n",
      "16   Hold Force With Bias    11   100    1.0000 s    0.5 V           Sweep    15.0 Hz    5.0 Hz   10.0mV        \n",
      "17              Retract Z     3  2016    1.9999 s                        Z  -1000.0 nm  1000.0 nm                 \n"
     ]
    }
   ],
   "source": [
    "TIPBIAS_SWEEP = join(EXAMPLES_FILE_PATH, \"ScriptTipBiasSweep.spm\")\n",
    "get_pfm_script_parms_example(TIPBIAS_SWEEP)"
   ]
  },
  {
   "cell_type": "code",
   "execution_count": null,
   "metadata": {},
   "outputs": [],
   "source": []
  }
 ],
 "metadata": {
  "kernelspec": {
   "display_name": "Python 3",
   "language": "python",
   "name": "python3"
  },
  "language_info": {
   "codemirror_mode": {
    "name": "ipython",
    "version": 3
   },
   "file_extension": ".py",
   "mimetype": "text/x-python",
   "name": "python",
   "nbconvert_exporter": "python",
   "pygments_lexer": "ipython3",
   "version": "3.7.8"
  }
 },
 "nbformat": 4,
 "nbformat_minor": 2
}
