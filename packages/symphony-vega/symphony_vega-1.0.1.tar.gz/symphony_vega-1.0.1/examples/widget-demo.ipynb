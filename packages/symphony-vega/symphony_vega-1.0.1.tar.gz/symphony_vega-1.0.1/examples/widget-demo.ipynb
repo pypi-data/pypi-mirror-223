{
 "cells": [
  {
   "cell_type": "markdown",
   "id": "ef96238d",
   "metadata": {},
   "source": [
    "# Vega Demo \n",
    "\n",
    "Run this noteboook to test your widget, and create the initial directory to be able to run `yarn dev`."
   ]
  },
  {
   "cell_type": "code",
   "execution_count": null,
   "id": "9318455b",
   "metadata": {},
   "outputs": [],
   "source": [
    "%load_ext autoreload\n",
    "%autoreload 2"
   ]
  },
  {
   "cell_type": "code",
   "execution_count": null,
   "id": "7396c2ae",
   "metadata": {},
   "outputs": [],
   "source": [
    "import random\n",
    "import pandas as pd\n",
    "\n",
    "import symphony_ui\n",
    "from symphony_vega import SymphonyVega"
   ]
  },
  {
   "cell_type": "markdown",
   "id": "a5c24605",
   "metadata": {},
   "source": [
    "### Create/Import Data \n",
    "\n",
    "Create a Pandas DataFrame with your data or the metadata for a dataset."
   ]
  },
  {
   "cell_type": "code",
   "execution_count": null,
   "id": "e77aa9fb",
   "metadata": {},
   "outputs": [],
   "source": [
    "a = [random.choice(['a', 'b']) for i in range(100)]\n",
    "b = [random.randint(50, 200) for i in range(100)]\n",
    "c = [random.randint(0, 1) for i in range(100)]\n",
    "\n",
    "df = pd.DataFrame(zip(a, b, c), columns=['a', 'b', 'c'])"
   ]
  },
  {
   "cell_type": "markdown",
   "id": "ce473854",
   "metadata": {},
   "source": [
    "### Create Symphony Widgets\n",
    "\n",
    "We can now explore the individual widgets!"
   ]
  },
  {
   "cell_type": "code",
   "execution_count": null,
   "id": "4906a535",
   "metadata": {},
   "outputs": [],
   "source": [
    "symph = symphony_ui.Symphony(df, notebook=True)"
   ]
  },
  {
   "cell_type": "code",
   "execution_count": null,
   "id": "f3604ba7",
   "metadata": {},
   "outputs": [],
   "source": [
    "symph.widget(SymphonyVega, vega_elements=[{\n",
    "  \"$schema\": \"https://vega.github.io/schema/vega-lite/v5.json\",\n",
    "  \"description\": \"A simple bar chart with embedded data.\",\n",
    "  \"data\": {\n",
    "    \"values\": [\n",
    "      {\"a\": \"A\", \"b\": 28}, {\"a\": \"B\", \"b\": 55}, {\"a\": \"C\", \"b\": 43},\n",
    "      {\"a\": \"D\", \"b\": 91}, {\"a\": \"E\", \"b\": 81}, {\"a\": \"F\", \"b\": 53},\n",
    "      {\"a\": \"G\", \"b\": 19}, {\"a\": \"H\", \"b\": 87}, {\"a\": \"I\", \"b\": 52}\n",
    "    ],\n",
    "  },\n",
    "  \"mark\": \"bar\",\n",
    "  \"encoding\": {\n",
    "    \"x\": {\"field\": \"a\", \"type\": \"nominal\", \"axis\": {\"labelAngle\": 0}},\n",
    "    \"y\": {\"field\": \"b\", \"type\": \"quantitative\"}\n",
    "  }\n",
    "}, {\n",
    "  \"$schema\": \"https://vega.github.io/schema/vega-lite/v5.json\",\n",
    "  \"description\": \"A simple bar chart with embedded data.\",\n",
    "  \"data\": {\n",
    "    \"values\": \"arrow_table\",\n",
    "  },\n",
    "  \"mark\": { \"type\": 'bar', \"tooltip\": True, \"cursor\": 'pointer' },\n",
    "    \"encoding\": {\n",
    "      \"y\": { \"field\": \"a\", \"type\": 'nominal', \"sort\": '-x' },\n",
    "      \"x\": {\n",
    "        \"aggregate\": 'count',\n",
    "        \"type\": 'quantitative',\n",
    "        \"title\": 'instances',\n",
    "      },\n",
    "    },\n",
    "}])"
   ]
  },
  {
   "cell_type": "code",
   "execution_count": null,
   "id": "19b3b6aa",
   "metadata": {},
   "outputs": [],
   "source": [
    "symph.export('../symphony_vega/standalone', name=\"Widget Demo\")"
   ]
  },
  {
   "cell_type": "code",
   "execution_count": null,
   "id": "d5b56a80",
   "metadata": {},
   "outputs": [],
   "source": []
  }
 ],
 "metadata": {
  "finalized": {
   "timestamp": 1623266852462,
   "trusted": false
  },
  "kernelspec": {
   "display_name": "Python 3 (ipykernel)",
   "language": "python",
   "name": "python3"
  },
  "language_info": {
   "codemirror_mode": {
    "name": "ipython",
    "version": 3
   },
   "file_extension": ".py",
   "mimetype": "text/x-python",
   "name": "python",
   "nbconvert_exporter": "python",
   "pygments_lexer": "ipython3",
   "version": "3.11.4"
  },
  "metadata": {
   "interpreter": {
    "hash": "61676ae764c2630d6a4b513ad0617d91546daad86abd1efe70032d363af5955a"
   }
  }
 },
 "nbformat": 4,
 "nbformat_minor": 5
}
