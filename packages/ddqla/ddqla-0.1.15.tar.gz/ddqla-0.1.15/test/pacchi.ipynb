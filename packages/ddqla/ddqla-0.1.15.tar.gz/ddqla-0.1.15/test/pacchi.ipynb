{
 "nbformat": 4,
 "nbformat_minor": 0,
 "metadata": {
  "colab": {
   "provenance": []
  },
  "kernelspec": {
   "name": "python3",
   "language": "python",
   "display_name": "Python 3 (ipykernel)"
  },
  "language_info": {
   "name": "python"
  }
 },
 "cells": [
  {
   "cell_type": "code",
   "execution_count": 1,
   "metadata": {
    "colab": {
     "base_uri": "https://localhost:8080/"
    },
    "id": "FBiCFAroFs--",
    "executionInfo": {
     "status": "ok",
     "timestamp": 1691136009239,
     "user_tz": -120,
     "elapsed": 6629,
     "user": {
      "displayName": "Marco Sarti",
      "userId": "06571956198639174900"
     }
    },
    "outputId": "2f70946d-e89b-43e3-efe7-b44941d33fe0",
    "ExecuteTime": {
     "end_time": "2023-08-04T08:24:15.827754600Z",
     "start_time": "2023-08-04T08:24:13.986336600Z"
    }
   },
   "outputs": [
    {
     "name": "stdout",
     "output_type": "stream",
     "text": [
      "Requirement already satisfied: ddqla in c:\\users\\admin\\pycharmprojects\\ddqla\\venv\\lib\\site-packages (0.1.13)\n",
      "Collecting ddqla\n",
      "  Obtaining dependency information for ddqla from https://files.pythonhosted.org/packages/4e/18/03d888790ec62b8ceef1df54e9fb3a63077c8728b038b134c53ee229fb86/ddqla-0.1.14-py3-none-any.whl.metadata\n",
      "  Downloading ddqla-0.1.14-py3-none-any.whl.metadata (3.4 kB)\n",
      "Downloading ddqla-0.1.14-py3-none-any.whl (8.7 kB)\n",
      "Installing collected packages: ddqla\n",
      "  Attempting uninstall: ddqla\n",
      "    Found existing installation: ddqla 0.1.13\n",
      "    Uninstalling ddqla-0.1.13:\n",
      "      Successfully uninstalled ddqla-0.1.13\n",
      "Successfully installed ddqla-0.1.14\n"
     ]
    }
   ],
   "source": [
    "!pip install --upgrade ddqla"
   ]
  },
  {
   "cell_type": "code",
   "source": [
    "import numpy as np\n",
    "import pandas as pd\n",
    "\n",
    "from ddqla.agents import BaseAgent\n",
    "\n",
    "from keras.models import Model\n",
    "from keras.layers import Dense, Input\n",
    "from keras.optimizers import Adam\n",
    "from keras.losses import MeanSquaredError"
   ],
   "metadata": {
    "id": "_4c6fODUFxxO",
    "executionInfo": {
     "status": "ok",
     "timestamp": 1691136014317,
     "user_tz": -120,
     "elapsed": 5081,
     "user": {
      "displayName": "Marco Sarti",
      "userId": "06571956198639174900"
     }
    },
    "ExecuteTime": {
     "end_time": "2023-08-04T08:24:17.596754100Z",
     "start_time": "2023-08-04T08:24:15.827754600Z"
    }
   },
   "execution_count": 2,
   "outputs": []
  },
  {
   "cell_type": "code",
   "source": [
    "class PacchiAgent(BaseAgent):\n",
    "    __ACTIONS = 4\n",
    "\n",
    "    def __init__(self):\n",
    "        super().__init__(\n",
    "            num_actions=PacchiAgent.__ACTIONS,\n",
    "            environment=np.asarray([0, 0], dtype=np.float32),\n",
    "            fit_each_n_steps = 5,\n",
    "            exploration_rate_decay = 1e-3,\n",
    "            cumulative_rewards_max_length=250,\n",
    "            memory_max_length=512,\n",
    "            memory_batch_size=128,\n",
    "        )\n",
    "\n",
    "    def _get_model(self, environment):\n",
    "        inputs = Input(shape=(environment))\n",
    "        dense = Dense(8, activation='swish')(inputs)\n",
    "        dense = Dense(8, activation='swish')(dense)\n",
    "        outputs = Dense(PacchiAgent.__ACTIONS, activation='linear')(dense)\n",
    "\n",
    "        model = Model(inputs=inputs, outputs=outputs)\n",
    "        model.compile(optimizer=Adam(), loss=MeanSquaredError())\n",
    "        model.summary()\n",
    "\n",
    "        return model\n",
    "\n",
    "    def reset_state(self):\n",
    "        self._state = np.asarray([0, 0], dtype=np.float32)\n",
    "\n",
    "    def _get_reward(self, action, environment):\n",
    "        reward = -1\n",
    "        if action == 0 and environment[0] == 0:  #  prendi pacco\n",
    "            environment[1] = 1 # pacco preso\n",
    "        elif action == 1:  # lascia il pacco\n",
    "            if environment[1] == 1:\n",
    "                environment[1] = 0  # no pacco\n",
    "                if environment[0] == 1:\n",
    "                    reward = 5  # 4 azioni per raggiungere lo scopo\n",
    "        elif action == 2:  #  vai a magazzino 2\n",
    "            environment[0] = 1  # sono in magazzino 2\n",
    "        elif action == 3:  # vai a magazzino 1\n",
    "            environment[0] = 0\n",
    "        return reward"
   ],
   "metadata": {
    "id": "OJN2aFh_GYL3",
    "executionInfo": {
     "status": "ok",
     "timestamp": 1691136014318,
     "user_tz": -120,
     "elapsed": 7,
     "user": {
      "displayName": "Marco Sarti",
      "userId": "06571956198639174900"
     }
    },
    "ExecuteTime": {
     "end_time": "2023-08-04T08:24:17.600812Z",
     "start_time": "2023-08-04T08:24:17.600073400Z"
    }
   },
   "execution_count": 3,
   "outputs": []
  },
  {
   "cell_type": "code",
   "source": [
    "a = PacchiAgent()"
   ],
   "metadata": {
    "colab": {
     "base_uri": "https://localhost:8080/"
    },
    "id": "hND10j_1YB7Q",
    "executionInfo": {
     "status": "ok",
     "timestamp": 1691136047031,
     "user_tz": -120,
     "elapsed": 1001,
     "user": {
      "displayName": "Marco Sarti",
      "userId": "06571956198639174900"
     }
    },
    "outputId": "7ea65cea-b46a-4b14-b5f9-748fa1b656c6",
    "ExecuteTime": {
     "end_time": "2023-08-04T08:24:17.716941300Z",
     "start_time": "2023-08-04T08:24:17.600812Z"
    }
   },
   "execution_count": 4,
   "outputs": [
    {
     "name": "stdout",
     "output_type": "stream",
     "text": [
      "Model: \"model\"\n",
      "_________________________________________________________________\n",
      " Layer (type)                Output Shape              Param #   \n",
      "=================================================================\n",
      " input_1 (InputLayer)        [(None, 2)]               0         \n",
      "                                                                 \n",
      " dense (Dense)               (None, 8)                 24        \n",
      "                                                                 \n",
      " dense_1 (Dense)             (None, 8)                 72        \n",
      "                                                                 \n",
      " dense_2 (Dense)             (None, 4)                 36        \n",
      "                                                                 \n",
      "=================================================================\n",
      "Total params: 132 (528.00 Byte)\n",
      "Trainable params: 132 (528.00 Byte)\n",
      "Non-trainable params: 0 (0.00 Byte)\n",
      "_________________________________________________________________\n",
      "Model: \"model_1\"\n",
      "_________________________________________________________________\n",
      " Layer (type)                Output Shape              Param #   \n",
      "=================================================================\n",
      " input_2 (InputLayer)        [(None, 2)]               0         \n",
      "                                                                 \n",
      " dense_3 (Dense)             (None, 8)                 24        \n",
      "                                                                 \n",
      " dense_4 (Dense)             (None, 8)                 72        \n",
      "                                                                 \n",
      " dense_5 (Dense)             (None, 4)                 36        \n",
      "                                                                 \n",
      "=================================================================\n",
      "Total params: 132 (528.00 Byte)\n",
      "Trainable params: 132 (528.00 Byte)\n",
      "Non-trainable params: 0 (0.00 Byte)\n",
      "_________________________________________________________________\n"
     ]
    }
   ]
  },
  {
   "cell_type": "code",
   "source": [
    "a = PacchiAgent()\n",
    "for s in range(0, 6000):\n",
    "    a.step()\n",
    "    if s % 100 == 0 and a.is_memory_ready():\n",
    "        test_rewards = a.test(64)\n",
    "        cum_rewards = a.get_last_cumulative_rewards()\n",
    "        print(\"#\", s, \" CR: \", cum_rewards, \" R: \", test_rewards)"
   ],
   "metadata": {
    "colab": {
     "base_uri": "https://localhost:8080/"
    },
    "id": "T5oiX9sfI9_Q",
    "executionInfo": {
     "status": "ok",
     "timestamp": 1691136324839,
     "user_tz": -120,
     "elapsed": 274565,
     "user": {
      "displayName": "Marco Sarti",
      "userId": "06571956198639174900"
     }
    },
    "outputId": "060a9fb8-ae16-4c83-9616-f1aef924dee1",
    "is_executing": true,
    "ExecuteTime": {
     "start_time": "2023-08-04T08:24:17.716941300Z"
    }
   },
   "execution_count": null,
   "outputs": [
    {
     "name": "stdout",
     "output_type": "stream",
     "text": [
      "Model: \"model_2\"\n",
      "_________________________________________________________________\n",
      " Layer (type)                Output Shape              Param #   \n",
      "=================================================================\n",
      " input_3 (InputLayer)        [(None, 2)]               0         \n",
      "                                                                 \n",
      " dense_6 (Dense)             (None, 8)                 24        \n",
      "                                                                 \n",
      " dense_7 (Dense)             (None, 8)                 72        \n",
      "                                                                 \n",
      " dense_8 (Dense)             (None, 4)                 36        \n",
      "                                                                 \n",
      "=================================================================\n",
      "Total params: 132 (528.00 Byte)\n",
      "Trainable params: 132 (528.00 Byte)\n",
      "Non-trainable params: 0 (0.00 Byte)\n",
      "_________________________________________________________________\n",
      "Model: \"model_3\"\n",
      "_________________________________________________________________\n",
      " Layer (type)                Output Shape              Param #   \n",
      "=================================================================\n",
      " input_4 (InputLayer)        [(None, 2)]               0         \n",
      "                                                                 \n",
      " dense_9 (Dense)             (None, 8)                 24        \n",
      "                                                                 \n",
      " dense_10 (Dense)            (None, 8)                 72        \n",
      "                                                                 \n",
      " dense_11 (Dense)            (None, 4)                 36        \n",
      "                                                                 \n",
      "=================================================================\n",
      "Total params: 132 (528.00 Byte)\n",
      "Trainable params: 132 (528.00 Byte)\n",
      "Non-trainable params: 0 (0.00 Byte)\n",
      "_________________________________________________________________\n",
      "# 600  CR:  -214  R:  -64\n",
      "# 700  CR:  -232  R:  -64\n",
      "# 800  CR:  -238  R:  -64\n",
      "# 900  CR:  -244  R:  -64\n",
      "# 1000  CR:  -244  R:  -64\n",
      "# 1100  CR:  -250  R:  -64\n",
      "# 1200  CR:  -250  R:  -64\n",
      "# 1300  CR:  -208  R:  -58\n",
      "# 1400  CR:  -208  R:  -64\n",
      "# 1500  CR:  -172  R:  -58\n",
      "# 1600  CR:  -178  R:  -64\n",
      "# 1700  CR:  -196  R:  -64\n",
      "# 1800  CR:  -226  R:  -64\n",
      "# 1900  CR:  -250  R:  -64\n",
      "# 2000  CR:  -250  R:  -64\n",
      "# 2100  CR:  -250  R:  -64\n",
      "# 2200  CR:  -238  R:  -64\n",
      "# 2300  CR:  -202  R:  -64\n",
      "# 2400  CR:  -214  R:  -64\n",
      "# 2500  CR:  -244  R:  -64\n",
      "# 2600  CR:  -244  R:  -64\n"
     ]
    }
   ]
  },
  {
   "cell_type": "code",
   "source": [
    "a.summary()"
   ],
   "metadata": {
    "id": "Ol2VQmnBKKRA",
    "colab": {
     "base_uri": "https://localhost:8080/",
     "height": 1000
    },
    "executionInfo": {
     "status": "ok",
     "timestamp": 1691136328944,
     "user_tz": -120,
     "elapsed": 1141,
     "user": {
      "displayName": "Marco Sarti",
      "userId": "06571956198639174900"
     }
    },
    "outputId": "d388f2de-9779-4f9c-9929-cedbce4e8e03",
    "is_executing": true
   },
   "execution_count": null,
   "outputs": []
  },
  {
   "cell_type": "code",
   "source": [
    "#il file fisicamente lo trovate nella cartella colab\n",
    "a.save_simulation_log(append_ts=False)"
   ],
   "metadata": {
    "id": "kE1RfaC5KpX4",
    "executionInfo": {
     "status": "ok",
     "timestamp": 1691136431899,
     "user_tz": -120,
     "elapsed": 266,
     "user": {
      "displayName": "Marco Sarti",
      "userId": "06571956198639174900"
     }
    },
    "is_executing": true
   },
   "execution_count": null,
   "outputs": []
  },
  {
   "cell_type": "markdown",
   "source": [
    "#Legenda\n",
    "- **step**: numero sequenziale dello step\n",
    "- **state_x**: valore dell'ambiente nella cella di posizione x\n",
    "- **p1_x**: valori assunti dal modello 1 alla posizione x\n",
    "- **p2_x**: valori assunti dal modello 1 alla posizione x\n",
    "- **q_x**: valori assunti dal qtable alla posizione x\n",
    "- **rnd**: valore random generato in quello step, se > er usa i modelli per predirre se no sceglie un'azione randomica\n",
    "- **er**: exploration rate attuale\n",
    "- **action**: azione scelta\n",
    "- **reward**: reward restituita per quell'azione\n",
    "- **cum_reward**: reward cumulativa in quel momento"
   ],
   "metadata": {
    "id": "Ur6fWGsCm1tI"
   }
  },
  {
   "cell_type": "code",
   "source": [
    "df = pd.read_csv(\"simulation_log.csv\", delimiter=\";\")\n",
    "df"
   ],
   "metadata": {
    "id": "hEUwg5IPJ074",
    "colab": {
     "base_uri": "https://localhost:8080/",
     "height": 424
    },
    "executionInfo": {
     "status": "ok",
     "timestamp": 1691136444491,
     "user_tz": -120,
     "elapsed": 4,
     "user": {
      "displayName": "Marco Sarti",
      "userId": "06571956198639174900"
     }
    },
    "outputId": "39141617-5cd7-4b49-fe8c-86fd2a578a96",
    "is_executing": true
   },
   "execution_count": null,
   "outputs": []
  }
 ]
}
