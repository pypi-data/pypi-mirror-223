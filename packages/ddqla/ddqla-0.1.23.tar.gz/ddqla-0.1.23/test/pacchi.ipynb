{
 "nbformat": 4,
 "nbformat_minor": 0,
 "metadata": {
  "colab": {
   "provenance": []
  },
  "kernelspec": {
   "name": "python3",
   "language": "python",
   "display_name": "Python 3 (ipykernel)"
  },
  "language_info": {
   "name": "python"
  }
 },
 "cells": [
  {
   "cell_type": "code",
   "execution_count": 1,
   "metadata": {
    "colab": {
     "base_uri": "https://localhost:8080/"
    },
    "id": "FBiCFAroFs--",
    "executionInfo": {
     "status": "ok",
     "timestamp": 1691136009239,
     "user_tz": -120,
     "elapsed": 6629,
     "user": {
      "displayName": "Marco Sarti",
      "userId": "06571956198639174900"
     }
    },
    "outputId": "2f70946d-e89b-43e3-efe7-b44941d33fe0",
    "ExecuteTime": {
     "end_time": "2023-08-05T15:35:38.400262800Z",
     "start_time": "2023-08-05T15:35:37.215377900Z"
    }
   },
   "outputs": [
    {
     "name": "stdout",
     "output_type": "stream",
     "text": [
      "Looking in indexes: https://test.pypi.org/simple/\n",
      "Requirement already satisfied: ddqla in c:\\users\\admin\\pycharmprojects\\ddqla\\venv\\lib\\site-packages (0.1.21)\n"
     ]
    }
   ],
   "source": [
    "!pip install --upgrade -i https://test.pypi.org/simple/ ddqla"
   ]
  },
  {
   "cell_type": "code",
   "source": [
    "import numpy as np\n",
    "import pandas as pd\n",
    "\n",
    "from ddqla.agents import BaseAgent\n",
    "\n",
    "from keras.models import Model\n",
    "from keras.layers import Dense, Input\n",
    "from keras.optimizers import Adam\n",
    "from keras.losses import MeanSquaredError"
   ],
   "metadata": {
    "id": "_4c6fODUFxxO",
    "executionInfo": {
     "status": "ok",
     "timestamp": 1691136014317,
     "user_tz": -120,
     "elapsed": 5081,
     "user": {
      "displayName": "Marco Sarti",
      "userId": "06571956198639174900"
     }
    },
    "ExecuteTime": {
     "end_time": "2023-08-05T15:35:40.072311400Z",
     "start_time": "2023-08-05T15:35:38.400262800Z"
    }
   },
   "execution_count": 2,
   "outputs": []
  },
  {
   "cell_type": "code",
   "source": [
    "class PacchiAgent(BaseAgent):\n",
    "    __ACTIONS = 4\n",
    "\n",
    "    def __init__(self):\n",
    "        super().__init__(\n",
    "            num_actions=PacchiAgent.__ACTIONS,\n",
    "            environment=np.asarray([0, 0], dtype=np.float32),\n",
    "            fit_each_n_steps = 5,\n",
    "            exploration_rate_decay = 1e-3,\n",
    "            cumulative_rewards_max_length=250,\n",
    "            memory_max_length=512,\n",
    "            memory_batch_size=128,\n",
    "        )\n",
    "\n",
    "    def _get_model(self, state_features):\n",
    "        inputs = Input(shape=(state_features))\n",
    "        dense = Dense(8, activation='swish')(inputs)\n",
    "        dense = Dense(8, activation='swish')(dense)\n",
    "        outputs = Dense(PacchiAgent.__ACTIONS, activation='linear')(dense)\n",
    "\n",
    "        model = Model(inputs=inputs, outputs=outputs)\n",
    "        model.compile(optimizer=Adam(), loss=MeanSquaredError())\n",
    "        model.summary()\n",
    "\n",
    "        return model\n",
    "\n",
    "    def reset_state(self):\n",
    "        self._steps += 1\n",
    "        self._state = np.asarray([0, 0], dtype=np.float32)\n",
    "\n",
    "    def _get_reward(self, action):\n",
    "        reward = -1\n",
    "        if action == 0 and self._state[0] == 0:  #  prendi pacco\n",
    "            self._state[1] = 1 # pacco preso\n",
    "        elif action == 1:  # lascia il pacco\n",
    "            if self._state[1] == 1:\n",
    "                self._state[1] = 0  # no pacco\n",
    "                if self._state[0] == 1:\n",
    "                    reward = 5  # 4 azioni per raggiungere lo scopo\n",
    "        elif action == 2:  #  vai a magazzino 2\n",
    "            self._state[0] = 1  # sono in magazzino 2\n",
    "        elif action == 3:  # vai a magazzino 1\n",
    "            self._state[0] = 0\n",
    "        return reward"
   ],
   "metadata": {
    "id": "OJN2aFh_GYL3",
    "executionInfo": {
     "status": "ok",
     "timestamp": 1691136014318,
     "user_tz": -120,
     "elapsed": 7,
     "user": {
      "displayName": "Marco Sarti",
      "userId": "06571956198639174900"
     }
    },
    "ExecuteTime": {
     "end_time": "2023-08-05T15:35:40.077282800Z",
     "start_time": "2023-08-05T15:35:40.072311400Z"
    }
   },
   "execution_count": 3,
   "outputs": []
  },
  {
   "cell_type": "code",
   "source": [
    "a = PacchiAgent()"
   ],
   "metadata": {
    "colab": {
     "base_uri": "https://localhost:8080/"
    },
    "id": "hND10j_1YB7Q",
    "executionInfo": {
     "status": "ok",
     "timestamp": 1691136047031,
     "user_tz": -120,
     "elapsed": 1001,
     "user": {
      "displayName": "Marco Sarti",
      "userId": "06571956198639174900"
     }
    },
    "outputId": "7ea65cea-b46a-4b14-b5f9-748fa1b656c6",
    "ExecuteTime": {
     "end_time": "2023-08-05T15:35:40.165694100Z",
     "start_time": "2023-08-05T15:35:40.077282800Z"
    }
   },
   "execution_count": 4,
   "outputs": [
    {
     "name": "stdout",
     "output_type": "stream",
     "text": [
      "Model: \"model\"\n",
      "_________________________________________________________________\n",
      " Layer (type)                Output Shape              Param #   \n",
      "=================================================================\n",
      " input_1 (InputLayer)        [(None, 2)]               0         \n",
      "                                                                 \n",
      " dense (Dense)               (None, 8)                 24        \n",
      "                                                                 \n",
      " dense_1 (Dense)             (None, 8)                 72        \n",
      "                                                                 \n",
      " dense_2 (Dense)             (None, 4)                 36        \n",
      "                                                                 \n",
      "=================================================================\n",
      "Total params: 132 (528.00 Byte)\n",
      "Trainable params: 132 (528.00 Byte)\n",
      "Non-trainable params: 0 (0.00 Byte)\n",
      "_________________________________________________________________\n",
      "Model: \"model_1\"\n",
      "_________________________________________________________________\n",
      " Layer (type)                Output Shape              Param #   \n",
      "=================================================================\n",
      " input_2 (InputLayer)        [(None, 2)]               0         \n",
      "                                                                 \n",
      " dense_3 (Dense)             (None, 8)                 24        \n",
      "                                                                 \n",
      " dense_4 (Dense)             (None, 8)                 72        \n",
      "                                                                 \n",
      " dense_5 (Dense)             (None, 4)                 36        \n",
      "                                                                 \n",
      "=================================================================\n",
      "Total params: 132 (528.00 Byte)\n",
      "Trainable params: 132 (528.00 Byte)\n",
      "Non-trainable params: 0 (0.00 Byte)\n",
      "_________________________________________________________________\n"
     ]
    }
   ]
  },
  {
   "cell_type": "code",
   "source": [
    "a = PacchiAgent()\n",
    "for s in range(0, 6000):\n",
    "    a.step()\n",
    "    if s % 100 == 0 and a.is_memory_ready():\n",
    "        test_rewards = a.test(64)\n",
    "        cum_rewards = a.get_last_cumulative_rewards()\n",
    "        print(\"#\", s, \" CR: \", cum_rewards, \" R: \", test_rewards)"
   ],
   "metadata": {
    "colab": {
     "base_uri": "https://localhost:8080/"
    },
    "id": "T5oiX9sfI9_Q",
    "executionInfo": {
     "status": "ok",
     "timestamp": 1691136324839,
     "user_tz": -120,
     "elapsed": 274565,
     "user": {
      "displayName": "Marco Sarti",
      "userId": "06571956198639174900"
     }
    },
    "outputId": "060a9fb8-ae16-4c83-9616-f1aef924dee1",
    "ExecuteTime": {
     "end_time": "2023-08-05T15:36:56.975669Z",
     "start_time": "2023-08-05T15:35:40.165694100Z"
    }
   },
   "execution_count": 5,
   "outputs": [
    {
     "name": "stdout",
     "output_type": "stream",
     "text": [
      "Model: \"model_2\"\n",
      "_________________________________________________________________\n",
      " Layer (type)                Output Shape              Param #   \n",
      "=================================================================\n",
      " input_3 (InputLayer)        [(None, 2)]               0         \n",
      "                                                                 \n",
      " dense_6 (Dense)             (None, 8)                 24        \n",
      "                                                                 \n",
      " dense_7 (Dense)             (None, 8)                 72        \n",
      "                                                                 \n",
      " dense_8 (Dense)             (None, 4)                 36        \n",
      "                                                                 \n",
      "=================================================================\n",
      "Total params: 132 (528.00 Byte)\n",
      "Trainable params: 132 (528.00 Byte)\n",
      "Non-trainable params: 0 (0.00 Byte)\n",
      "_________________________________________________________________\n",
      "Model: \"model_3\"\n",
      "_________________________________________________________________\n",
      " Layer (type)                Output Shape              Param #   \n",
      "=================================================================\n",
      " input_4 (InputLayer)        [(None, 2)]               0         \n",
      "                                                                 \n",
      " dense_9 (Dense)             (None, 8)                 24        \n",
      "                                                                 \n",
      " dense_10 (Dense)            (None, 8)                 72        \n",
      "                                                                 \n",
      " dense_11 (Dense)            (None, 4)                 36        \n",
      "                                                                 \n",
      "=================================================================\n",
      "Total params: 132 (528.00 Byte)\n",
      "Trainable params: 132 (528.00 Byte)\n",
      "Non-trainable params: 0 (0.00 Byte)\n",
      "_________________________________________________________________\n",
      "# 600  CR:  -220  R:  -64\n",
      "# 700  CR:  -220  R:  -64\n",
      "# 800  CR:  -208  R:  -64\n",
      "# 900  CR:  -214  R:  -64\n",
      "# 1000  CR:  -232  R:  -64\n",
      "# 1100  CR:  -244  R:  -64\n",
      "# 1200  CR:  -244  R:  -64\n",
      "# 1300  CR:  -250  R:  -64\n",
      "# 1400  CR:  -250  R:  -64\n",
      "# 1500  CR:  -250  R:  -64\n",
      "# 1600  CR:  -250  R:  -64\n",
      "# 1700  CR:  -250  R:  -64\n",
      "# 1800  CR:  -250  R:  -64\n",
      "# 1900  CR:  -250  R:  -64\n",
      "# 2000  CR:  -238  R:  -64\n",
      "# 2100  CR:  -208  R:  -64\n",
      "# 2200  CR:  -190  R:  -64\n",
      "# 2300  CR:  -196  R:  -64\n",
      "# 2400  CR:  -250  R:  -64\n",
      "# 2500  CR:  -250  R:  -64\n",
      "# 2600  CR:  -244  R:  -64\n",
      "# 2700  CR:  -244  R:  -64\n",
      "# 2800  CR:  -244  R:  -64\n",
      "# 2900  CR:  -250  R:  -64\n",
      "# 3000  CR:  -244  R:  -64\n",
      "# 3100  CR:  -244  R:  -64\n",
      "# 3200  CR:  -250  R:  -64\n",
      "# 3300  CR:  -238  R:  -64\n",
      "# 3400  CR:  -232  R:  -64\n",
      "# 3500  CR:  -238  R:  -64\n",
      "# 3600  CR:  -238  R:  -64\n",
      "# 3700  CR:  -226  R:  -64\n",
      "# 3800  CR:  -226  R:  -64\n",
      "# 3900  CR:  -250  R:  -64\n",
      "# 4000  CR:  -250  R:  -64\n",
      "# 4100  CR:  -250  R:  32\n",
      "# 4200  CR:  -238  R:  -64\n",
      "# 4300  CR:  -208  R:  -64\n",
      "# 4400  CR:  -214  R:  -64\n",
      "# 4500  CR:  -214  R:  -64\n",
      "# 4600  CR:  -244  R:  -64\n",
      "# 4700  CR:  -220  R:  -64\n",
      "# 4800  CR:  -226  R:  32\n",
      "# 4900  CR:  -202  R:  -64\n",
      "# 5000  CR:  -208  R:  -64\n",
      "# 5100  CR:  -220  R:  -64\n",
      "# 5200  CR:  -226  R:  -64\n",
      "# 5300  CR:  -250  R:  -64\n",
      "# 5400  CR:  -226  R:  -64\n",
      "# 5500  CR:  -214  R:  -58\n",
      "# 5600  CR:  -202  R:  -64\n",
      "# 5700  CR:  -226  R:  -64\n",
      "# 5800  CR:  -250  R:  -64\n",
      "# 5900  CR:  -250  R:  -64\n"
     ]
    }
   ]
  },
  {
   "cell_type": "code",
   "source": [
    "a.summary()"
   ],
   "metadata": {
    "id": "Ol2VQmnBKKRA",
    "colab": {
     "base_uri": "https://localhost:8080/",
     "height": 1000
    },
    "executionInfo": {
     "status": "ok",
     "timestamp": 1691136328944,
     "user_tz": -120,
     "elapsed": 1141,
     "user": {
      "displayName": "Marco Sarti",
      "userId": "06571956198639174900"
     }
    },
    "outputId": "d388f2de-9779-4f9c-9929-cedbce4e8e03",
    "ExecuteTime": {
     "end_time": "2023-08-05T15:36:57.225618900Z",
     "start_time": "2023-08-05T15:36:56.975669Z"
    }
   },
   "execution_count": 6,
   "outputs": [
    {
     "data": {
      "text/plain": "<Figure size 2400x400 with 1 Axes>",
      "image/png": "[encoded data removed]"
     },
     "metadata": {},
     "output_type": "display_data"
    },
    {
     "data": {
      "text/plain": "<Figure size 2400x400 with 1 Axes>",
      "image/png": "[encoded data removed]"
     },
     "metadata": {},
     "output_type": "display_data"
    }
   ]
  },
  {
   "cell_type": "code",
   "source": [
    "#il file fisicamente lo trovate nella cartella colab\n",
    "a.save_simulation_log(append_ts=False)"
   ],
   "metadata": {
    "id": "kE1RfaC5KpX4",
    "executionInfo": {
     "status": "ok",
     "timestamp": 1691136431899,
     "user_tz": -120,
     "elapsed": 266,
     "user": {
      "displayName": "Marco Sarti",
      "userId": "06571956198639174900"
     }
    },
    "ExecuteTime": {
     "end_time": "2023-08-05T15:36:57.513170500Z",
     "start_time": "2023-08-05T15:36:57.175595900Z"
    }
   },
   "execution_count": 7,
   "outputs": []
  },
  {
   "cell_type": "markdown",
   "source": [
    "#Legenda\n",
    "- **step**: numero sequenziale dello step\n",
    "- **state_x**: valore dell'ambiente nella cella di posizione x\n",
    "- **p1_x**: valori assunti dal modello 1 alla posizione x\n",
    "- **p2_x**: valori assunti dal modello 1 alla posizione x\n",
    "- **q_x**: valori assunti dal qtable alla posizione x\n",
    "- **rnd**: valore random generato in quello step, se > er usa i modelli per predirre se no sceglie un'azione randomica\n",
    "- **er**: exploration rate attuale\n",
    "- **action**: azione scelta\n",
    "- **reward**: reward restituita per quell'azione\n",
    "- **cum_reward**: reward cumulativa in quel momento"
   ],
   "metadata": {
    "id": "Ur6fWGsCm1tI"
   }
  },
  {
   "cell_type": "code",
   "source": [
    "df = pd.read_csv(\"simulation_log.csv\", delimiter=\";\")\n",
    "df"
   ],
   "metadata": {
    "id": "hEUwg5IPJ074",
    "colab": {
     "base_uri": "https://localhost:8080/",
     "height": 424
    },
    "executionInfo": {
     "status": "ok",
     "timestamp": 1691136444491,
     "user_tz": -120,
     "elapsed": 4,
     "user": {
      "displayName": "Marco Sarti",
      "userId": "06571956198639174900"
     }
    },
    "outputId": "39141617-5cd7-4b49-fe8c-86fd2a578a96",
    "ExecuteTime": {
     "end_time": "2023-08-05T15:36:57.537103800Z",
     "start_time": "2023-08-05T15:36:57.513170500Z"
    }
   },
   "execution_count": 8,
   "outputs": [
    {
     "data": {
      "text/plain": "      step  state_0  state_1      p1_0      p1_1      p1_2      p1_3  \\\n0        1      0.0      0.0  0.000000  0.000000  0.000000  0.000000   \n1        2      1.0      0.0 -0.034896 -0.087406  0.158832  0.231526   \n2        3      1.0      0.0 -0.034896 -0.087406  0.158832  0.231526   \n3        4      0.0      0.0  0.000000  0.000000  0.000000  0.000000   \n4        5      0.0      1.0 -0.036239  0.163815  0.033616 -0.117256   \n...    ...      ...      ...       ...       ...       ...       ...   \n5995  6050      1.0      0.0 -2.744957 -2.769425 -2.848011 -2.735457   \n5996  6051      0.0      0.0 -2.728267 -2.740734 -2.740006 -2.963093   \n5997  6052      1.0      0.0 -2.746152 -2.767815 -2.850762 -2.739731   \n5998  6053      0.0      0.0 -2.728267 -2.740734 -2.740006 -2.963093   \n5999  6054      1.0      0.0 -2.746152 -2.767815 -2.850762 -2.739731   \n\n          p2_0      p2_1      p2_2  ...       q_1       q_2       q_3  \\\n0     0.000000  0.000000  0.000000  ...  0.000000  0.000000  0.000000   \n1     0.170931  0.134569  0.301324  ... -0.087406  0.158832 -0.099086   \n2     0.170931  0.134569  0.301324  ... -0.087406  0.158832 -0.099086   \n3     0.000000  0.000000  0.000000  ...  0.000000  0.000000  0.000000   \n4    -0.113282  0.037316 -0.015525  ...  0.037316 -0.015525 -0.117256   \n...        ...       ...       ...  ...       ...       ...       ...   \n5995 -2.747182 -2.758869 -2.854407  ... -2.769425 -2.854407 -2.745185   \n5996 -2.744235 -2.768564 -2.735516  ... -2.768564 -2.740006 -2.963093   \n5997 -2.751531 -2.760627 -2.857581  ... -2.767815 -2.857581 -2.749404   \n5998 -2.744235 -2.768564 -2.735516  ... -2.768564 -2.740006 -2.963093   \n5999 -2.751531 -2.760627 -2.857581  ... -2.767815 -2.857581 -2.749404   \n\n           rnd     er  net  action  reward  cum_reward  test  \n0     0.176742  0.999    0       3      -1          -1   NaN  \n1     0.701470  0.998    0       2      -1          -2   NaN  \n2     0.075272  0.997    0       0      -1          -3   NaN  \n3     0.516103  0.996    0       3      -1          -4   NaN  \n4     0.101872  0.995    0       0      -1          -5   NaN  \n...        ...    ...  ...     ...     ...         ...   ...  \n5995  0.077260  0.050    1       2      -1        -250   NaN  \n5996  0.719310  0.050    1       3      -1        -250   NaN  \n5997  0.895320  0.050    1       2      -1        -250   NaN  \n5998  0.450414  0.050    1       3      -1        -250   NaN  \n5999  0.472492  0.050    1       2      -1        -250   NaN  \n\n[6000 rows x 22 columns]",
      "text/html": "<div>\n<style scoped>\n    .dataframe tbody tr th:only-of-type {\n        vertical-align: middle;\n    }\n\n    .dataframe tbody tr th {\n        vertical-align: top;\n    }\n\n    .dataframe thead th {\n        text-align: right;\n    }\n</style>\n<table border=\"1\" class=\"dataframe\">\n  <thead>\n    <tr style=\"text-align: right;\">\n      <th></th>\n      <th>step</th>\n      <th>state_0</th>\n      <th>state_1</th>\n      <th>p1_0</th>\n      <th>p1_1</th>\n      <th>p1_2</th>\n      <th>p1_3</th>\n      <th>p2_0</th>\n      <th>p2_1</th>\n      <th>p2_2</th>\n      <th>...</th>\n      <th>q_1</th>\n      <th>q_2</th>\n      <th>q_3</th>\n      <th>rnd</th>\n      <th>er</th>\n      <th>net</th>\n      <th>action</th>\n      <th>reward</th>\n      <th>cum_reward</th>\n      <th>test</th>\n    </tr>\n  </thead>\n  <tbody>\n    <tr>\n      <th>0</th>\n      <td>1</td>\n      <td>0.0</td>\n      <td>0.0</td>\n      <td>0.000000</td>\n      <td>0.000000</td>\n      <td>0.000000</td>\n      <td>0.000000</td>\n      <td>0.000000</td>\n      <td>0.000000</td>\n      <td>0.000000</td>\n      <td>...</td>\n      <td>0.000000</td>\n      <td>0.000000</td>\n      <td>0.000000</td>\n      <td>0.176742</td>\n      <td>0.999</td>\n      <td>0</td>\n      <td>3</td>\n      <td>-1</td>\n      <td>-1</td>\n      <td>NaN</td>\n    </tr>\n    <tr>\n      <th>1</th>\n      <td>2</td>\n      <td>1.0</td>\n      <td>0.0</td>\n      <td>-0.034896</td>\n      <td>-0.087406</td>\n      <td>0.158832</td>\n      <td>0.231526</td>\n      <td>0.170931</td>\n      <td>0.134569</td>\n      <td>0.301324</td>\n      <td>...</td>\n      <td>-0.087406</td>\n      <td>0.158832</td>\n      <td>-0.099086</td>\n      <td>0.701470</td>\n      <td>0.998</td>\n      <td>0</td>\n      <td>2</td>\n      <td>-1</td>\n      <td>-2</td>\n      <td>NaN</td>\n    </tr>\n    <tr>\n      <th>2</th>\n      <td>3</td>\n      <td>1.0</td>\n      <td>0.0</td>\n      <td>-0.034896</td>\n      <td>-0.087406</td>\n      <td>0.158832</td>\n      <td>0.231526</td>\n      <td>0.170931</td>\n      <td>0.134569</td>\n      <td>0.301324</td>\n      <td>...</td>\n      <td>-0.087406</td>\n      <td>0.158832</td>\n      <td>-0.099086</td>\n      <td>0.075272</td>\n      <td>0.997</td>\n      <td>0</td>\n      <td>0</td>\n      <td>-1</td>\n      <td>-3</td>\n      <td>NaN</td>\n    </tr>\n    <tr>\n      <th>3</th>\n      <td>4</td>\n      <td>0.0</td>\n      <td>0.0</td>\n      <td>0.000000</td>\n      <td>0.000000</td>\n      <td>0.000000</td>\n      <td>0.000000</td>\n      <td>0.000000</td>\n      <td>0.000000</td>\n      <td>0.000000</td>\n      <td>...</td>\n      <td>0.000000</td>\n      <td>0.000000</td>\n      <td>0.000000</td>\n      <td>0.516103</td>\n      <td>0.996</td>\n      <td>0</td>\n      <td>3</td>\n      <td>-1</td>\n      <td>-4</td>\n      <td>NaN</td>\n    </tr>\n    <tr>\n      <th>4</th>\n      <td>5</td>\n      <td>0.0</td>\n      <td>1.0</td>\n      <td>-0.036239</td>\n      <td>0.163815</td>\n      <td>0.033616</td>\n      <td>-0.117256</td>\n      <td>-0.113282</td>\n      <td>0.037316</td>\n      <td>-0.015525</td>\n      <td>...</td>\n      <td>0.037316</td>\n      <td>-0.015525</td>\n      <td>-0.117256</td>\n      <td>0.101872</td>\n      <td>0.995</td>\n      <td>0</td>\n      <td>0</td>\n      <td>-1</td>\n      <td>-5</td>\n      <td>NaN</td>\n    </tr>\n    <tr>\n      <th>...</th>\n      <td>...</td>\n      <td>...</td>\n      <td>...</td>\n      <td>...</td>\n      <td>...</td>\n      <td>...</td>\n      <td>...</td>\n      <td>...</td>\n      <td>...</td>\n      <td>...</td>\n      <td>...</td>\n      <td>...</td>\n      <td>...</td>\n      <td>...</td>\n      <td>...</td>\n      <td>...</td>\n      <td>...</td>\n      <td>...</td>\n      <td>...</td>\n      <td>...</td>\n      <td>...</td>\n    </tr>\n    <tr>\n      <th>5995</th>\n      <td>6050</td>\n      <td>1.0</td>\n      <td>0.0</td>\n      <td>-2.744957</td>\n      <td>-2.769425</td>\n      <td>-2.848011</td>\n      <td>-2.735457</td>\n      <td>-2.747182</td>\n      <td>-2.758869</td>\n      <td>-2.854407</td>\n      <td>...</td>\n      <td>-2.769425</td>\n      <td>-2.854407</td>\n      <td>-2.745185</td>\n      <td>0.077260</td>\n      <td>0.050</td>\n      <td>1</td>\n      <td>2</td>\n      <td>-1</td>\n      <td>-250</td>\n      <td>NaN</td>\n    </tr>\n    <tr>\n      <th>5996</th>\n      <td>6051</td>\n      <td>0.0</td>\n      <td>0.0</td>\n      <td>-2.728267</td>\n      <td>-2.740734</td>\n      <td>-2.740006</td>\n      <td>-2.963093</td>\n      <td>-2.744235</td>\n      <td>-2.768564</td>\n      <td>-2.735516</td>\n      <td>...</td>\n      <td>-2.768564</td>\n      <td>-2.740006</td>\n      <td>-2.963093</td>\n      <td>0.719310</td>\n      <td>0.050</td>\n      <td>1</td>\n      <td>3</td>\n      <td>-1</td>\n      <td>-250</td>\n      <td>NaN</td>\n    </tr>\n    <tr>\n      <th>5997</th>\n      <td>6052</td>\n      <td>1.0</td>\n      <td>0.0</td>\n      <td>-2.746152</td>\n      <td>-2.767815</td>\n      <td>-2.850762</td>\n      <td>-2.739731</td>\n      <td>-2.751531</td>\n      <td>-2.760627</td>\n      <td>-2.857581</td>\n      <td>...</td>\n      <td>-2.767815</td>\n      <td>-2.857581</td>\n      <td>-2.749404</td>\n      <td>0.895320</td>\n      <td>0.050</td>\n      <td>1</td>\n      <td>2</td>\n      <td>-1</td>\n      <td>-250</td>\n      <td>NaN</td>\n    </tr>\n    <tr>\n      <th>5998</th>\n      <td>6053</td>\n      <td>0.0</td>\n      <td>0.0</td>\n      <td>-2.728267</td>\n      <td>-2.740734</td>\n      <td>-2.740006</td>\n      <td>-2.963093</td>\n      <td>-2.744235</td>\n      <td>-2.768564</td>\n      <td>-2.735516</td>\n      <td>...</td>\n      <td>-2.768564</td>\n      <td>-2.740006</td>\n      <td>-2.963093</td>\n      <td>0.450414</td>\n      <td>0.050</td>\n      <td>1</td>\n      <td>3</td>\n      <td>-1</td>\n      <td>-250</td>\n      <td>NaN</td>\n    </tr>\n    <tr>\n      <th>5999</th>\n      <td>6054</td>\n      <td>1.0</td>\n      <td>0.0</td>\n      <td>-2.746152</td>\n      <td>-2.767815</td>\n      <td>-2.850762</td>\n      <td>-2.739731</td>\n      <td>-2.751531</td>\n      <td>-2.760627</td>\n      <td>-2.857581</td>\n      <td>...</td>\n      <td>-2.767815</td>\n      <td>-2.857581</td>\n      <td>-2.749404</td>\n      <td>0.472492</td>\n      <td>0.050</td>\n      <td>1</td>\n      <td>2</td>\n      <td>-1</td>\n      <td>-250</td>\n      <td>NaN</td>\n    </tr>\n  </tbody>\n</table>\n<p>6000 rows × 22 columns</p>\n</div>"
     },
     "execution_count": 8,
     "metadata": {},
     "output_type": "execute_result"
    }
   ]
  }
 ]
}
